{
 "cells": [
  {
   "cell_type": "code",
   "execution_count": 37,
   "id": "25daae0b",
   "metadata": {},
   "outputs": [],
   "source": [
    "import pandas as pd\n",
    "import numpy as np\n",
    "from sklearn.ensemble import BaggingRegressor\n",
    "from sklearn.linear_model import LinearRegression\n",
    "from sklearn.model_selection import train_test_split,KFold,GridSearchCV\n",
    "from sklearn.metrics import r2_score"
   ]
  },
  {
   "cell_type": "code",
   "execution_count": 16,
   "id": "524f34a5",
   "metadata": {},
   "outputs": [],
   "source": [
    "concrete=pd.read_csv('Concrete_Data.csv')"
   ]
  },
  {
   "cell_type": "code",
   "execution_count": 17,
   "id": "7c16bb07",
   "metadata": {},
   "outputs": [],
   "source": [
    "X=concrete.drop('Strength',axis=1)\n",
    "y=concrete['Strength']"
   ]
  },
  {
   "cell_type": "code",
   "execution_count": 18,
   "id": "b98eb9da",
   "metadata": {},
   "outputs": [],
   "source": [
    "X_train,X_test,y_train,y_test=train_test_split(X,y,test_size=0.7,random_state=23)"
   ]
  },
  {
   "cell_type": "code",
   "execution_count": 19,
   "id": "a0b57844",
   "metadata": {},
   "outputs": [],
   "source": [
    "lr=LinearRegression()"
   ]
  },
  {
   "cell_type": "code",
   "execution_count": 20,
   "id": "1fd4cf6c",
   "metadata": {},
   "outputs": [
    {
     "data": {
      "text/html": [
       "<style>#sk-container-id-2 {color: black;}#sk-container-id-2 pre{padding: 0;}#sk-container-id-2 div.sk-toggleable {background-color: white;}#sk-container-id-2 label.sk-toggleable__label {cursor: pointer;display: block;width: 100%;margin-bottom: 0;padding: 0.3em;box-sizing: border-box;text-align: center;}#sk-container-id-2 label.sk-toggleable__label-arrow:before {content: \"▸\";float: left;margin-right: 0.25em;color: #696969;}#sk-container-id-2 label.sk-toggleable__label-arrow:hover:before {color: black;}#sk-container-id-2 div.sk-estimator:hover label.sk-toggleable__label-arrow:before {color: black;}#sk-container-id-2 div.sk-toggleable__content {max-height: 0;max-width: 0;overflow: hidden;text-align: left;background-color: #f0f8ff;}#sk-container-id-2 div.sk-toggleable__content pre {margin: 0.2em;color: black;border-radius: 0.25em;background-color: #f0f8ff;}#sk-container-id-2 input.sk-toggleable__control:checked~div.sk-toggleable__content {max-height: 200px;max-width: 100%;overflow: auto;}#sk-container-id-2 input.sk-toggleable__control:checked~label.sk-toggleable__label-arrow:before {content: \"▾\";}#sk-container-id-2 div.sk-estimator input.sk-toggleable__control:checked~label.sk-toggleable__label {background-color: #d4ebff;}#sk-container-id-2 div.sk-label input.sk-toggleable__control:checked~label.sk-toggleable__label {background-color: #d4ebff;}#sk-container-id-2 input.sk-hidden--visually {border: 0;clip: rect(1px 1px 1px 1px);clip: rect(1px, 1px, 1px, 1px);height: 1px;margin: -1px;overflow: hidden;padding: 0;position: absolute;width: 1px;}#sk-container-id-2 div.sk-estimator {font-family: monospace;background-color: #f0f8ff;border: 1px dotted black;border-radius: 0.25em;box-sizing: border-box;margin-bottom: 0.5em;}#sk-container-id-2 div.sk-estimator:hover {background-color: #d4ebff;}#sk-container-id-2 div.sk-parallel-item::after {content: \"\";width: 100%;border-bottom: 1px solid gray;flex-grow: 1;}#sk-container-id-2 div.sk-label:hover label.sk-toggleable__label {background-color: #d4ebff;}#sk-container-id-2 div.sk-serial::before {content: \"\";position: absolute;border-left: 1px solid gray;box-sizing: border-box;top: 0;bottom: 0;left: 50%;z-index: 0;}#sk-container-id-2 div.sk-serial {display: flex;flex-direction: column;align-items: center;background-color: white;padding-right: 0.2em;padding-left: 0.2em;position: relative;}#sk-container-id-2 div.sk-item {position: relative;z-index: 1;}#sk-container-id-2 div.sk-parallel {display: flex;align-items: stretch;justify-content: center;background-color: white;position: relative;}#sk-container-id-2 div.sk-item::before, #sk-container-id-2 div.sk-parallel-item::before {content: \"\";position: absolute;border-left: 1px solid gray;box-sizing: border-box;top: 0;bottom: 0;left: 50%;z-index: -1;}#sk-container-id-2 div.sk-parallel-item {display: flex;flex-direction: column;z-index: 1;position: relative;background-color: white;}#sk-container-id-2 div.sk-parallel-item:first-child::after {align-self: flex-end;width: 50%;}#sk-container-id-2 div.sk-parallel-item:last-child::after {align-self: flex-start;width: 50%;}#sk-container-id-2 div.sk-parallel-item:only-child::after {width: 0;}#sk-container-id-2 div.sk-dashed-wrapped {border: 1px dashed gray;margin: 0 0.4em 0.5em 0.4em;box-sizing: border-box;padding-bottom: 0.4em;background-color: white;}#sk-container-id-2 div.sk-label label {font-family: monospace;font-weight: bold;display: inline-block;line-height: 1.2em;}#sk-container-id-2 div.sk-label-container {text-align: center;}#sk-container-id-2 div.sk-container {/* jupyter's `normalize.less` sets `[hidden] { display: none; }` but bootstrap.min.css set `[hidden] { display: none !important; }` so we also need the `!important` here to be able to override the default hidden behavior on the sphinx rendered scikit-learn.org. See: https://github.com/scikit-learn/scikit-learn/issues/21755 */display: inline-block !important;position: relative;}#sk-container-id-2 div.sk-text-repr-fallback {display: none;}</style><div id=\"sk-container-id-2\" class=\"sk-top-container\"><div class=\"sk-text-repr-fallback\"><pre>LinearRegression()</pre><b>In a Jupyter environment, please rerun this cell to show the HTML representation or trust the notebook. <br />On GitHub, the HTML representation is unable to render, please try loading this page with nbviewer.org.</b></div><div class=\"sk-container\" hidden><div class=\"sk-item\"><div class=\"sk-estimator sk-toggleable\"><input class=\"sk-toggleable__control sk-hidden--visually\" id=\"sk-estimator-id-2\" type=\"checkbox\" checked><label for=\"sk-estimator-id-2\" class=\"sk-toggleable__label sk-toggleable__label-arrow\">LinearRegression</label><div class=\"sk-toggleable__content\"><pre>LinearRegression()</pre></div></div></div></div></div>"
      ],
      "text/plain": [
       "LinearRegression()"
      ]
     },
     "execution_count": 20,
     "metadata": {},
     "output_type": "execute_result"
    }
   ],
   "source": [
    "lr.fit(X_train,y_train)"
   ]
  },
  {
   "cell_type": "code",
   "execution_count": 21,
   "id": "b175a15a",
   "metadata": {},
   "outputs": [],
   "source": [
    "y_pred=lr.predict(X_test)"
   ]
  },
  {
   "cell_type": "code",
   "execution_count": 22,
   "id": "7bee0492",
   "metadata": {},
   "outputs": [
    {
     "data": {
      "text/plain": [
       "0.6007247084208873"
      ]
     },
     "execution_count": 22,
     "metadata": {},
     "output_type": "execute_result"
    }
   ],
   "source": [
    "r2_score(y_test,y_pred)"
   ]
  },
  {
   "cell_type": "code",
   "execution_count": 23,
   "id": "7615dc6c",
   "metadata": {},
   "outputs": [],
   "source": [
    "bgr=BaggingRegressor(lr,n_estimators=15,random_state=23)"
   ]
  },
  {
   "cell_type": "code",
   "execution_count": 24,
   "id": "9ba85d72",
   "metadata": {},
   "outputs": [
    {
     "data": {
      "text/html": [
       "<style>#sk-container-id-3 {color: black;}#sk-container-id-3 pre{padding: 0;}#sk-container-id-3 div.sk-toggleable {background-color: white;}#sk-container-id-3 label.sk-toggleable__label {cursor: pointer;display: block;width: 100%;margin-bottom: 0;padding: 0.3em;box-sizing: border-box;text-align: center;}#sk-container-id-3 label.sk-toggleable__label-arrow:before {content: \"▸\";float: left;margin-right: 0.25em;color: #696969;}#sk-container-id-3 label.sk-toggleable__label-arrow:hover:before {color: black;}#sk-container-id-3 div.sk-estimator:hover label.sk-toggleable__label-arrow:before {color: black;}#sk-container-id-3 div.sk-toggleable__content {max-height: 0;max-width: 0;overflow: hidden;text-align: left;background-color: #f0f8ff;}#sk-container-id-3 div.sk-toggleable__content pre {margin: 0.2em;color: black;border-radius: 0.25em;background-color: #f0f8ff;}#sk-container-id-3 input.sk-toggleable__control:checked~div.sk-toggleable__content {max-height: 200px;max-width: 100%;overflow: auto;}#sk-container-id-3 input.sk-toggleable__control:checked~label.sk-toggleable__label-arrow:before {content: \"▾\";}#sk-container-id-3 div.sk-estimator input.sk-toggleable__control:checked~label.sk-toggleable__label {background-color: #d4ebff;}#sk-container-id-3 div.sk-label input.sk-toggleable__control:checked~label.sk-toggleable__label {background-color: #d4ebff;}#sk-container-id-3 input.sk-hidden--visually {border: 0;clip: rect(1px 1px 1px 1px);clip: rect(1px, 1px, 1px, 1px);height: 1px;margin: -1px;overflow: hidden;padding: 0;position: absolute;width: 1px;}#sk-container-id-3 div.sk-estimator {font-family: monospace;background-color: #f0f8ff;border: 1px dotted black;border-radius: 0.25em;box-sizing: border-box;margin-bottom: 0.5em;}#sk-container-id-3 div.sk-estimator:hover {background-color: #d4ebff;}#sk-container-id-3 div.sk-parallel-item::after {content: \"\";width: 100%;border-bottom: 1px solid gray;flex-grow: 1;}#sk-container-id-3 div.sk-label:hover label.sk-toggleable__label {background-color: #d4ebff;}#sk-container-id-3 div.sk-serial::before {content: \"\";position: absolute;border-left: 1px solid gray;box-sizing: border-box;top: 0;bottom: 0;left: 50%;z-index: 0;}#sk-container-id-3 div.sk-serial {display: flex;flex-direction: column;align-items: center;background-color: white;padding-right: 0.2em;padding-left: 0.2em;position: relative;}#sk-container-id-3 div.sk-item {position: relative;z-index: 1;}#sk-container-id-3 div.sk-parallel {display: flex;align-items: stretch;justify-content: center;background-color: white;position: relative;}#sk-container-id-3 div.sk-item::before, #sk-container-id-3 div.sk-parallel-item::before {content: \"\";position: absolute;border-left: 1px solid gray;box-sizing: border-box;top: 0;bottom: 0;left: 50%;z-index: -1;}#sk-container-id-3 div.sk-parallel-item {display: flex;flex-direction: column;z-index: 1;position: relative;background-color: white;}#sk-container-id-3 div.sk-parallel-item:first-child::after {align-self: flex-end;width: 50%;}#sk-container-id-3 div.sk-parallel-item:last-child::after {align-self: flex-start;width: 50%;}#sk-container-id-3 div.sk-parallel-item:only-child::after {width: 0;}#sk-container-id-3 div.sk-dashed-wrapped {border: 1px dashed gray;margin: 0 0.4em 0.5em 0.4em;box-sizing: border-box;padding-bottom: 0.4em;background-color: white;}#sk-container-id-3 div.sk-label label {font-family: monospace;font-weight: bold;display: inline-block;line-height: 1.2em;}#sk-container-id-3 div.sk-label-container {text-align: center;}#sk-container-id-3 div.sk-container {/* jupyter's `normalize.less` sets `[hidden] { display: none; }` but bootstrap.min.css set `[hidden] { display: none !important; }` so we also need the `!important` here to be able to override the default hidden behavior on the sphinx rendered scikit-learn.org. See: https://github.com/scikit-learn/scikit-learn/issues/21755 */display: inline-block !important;position: relative;}#sk-container-id-3 div.sk-text-repr-fallback {display: none;}</style><div id=\"sk-container-id-3\" class=\"sk-top-container\"><div class=\"sk-text-repr-fallback\"><pre>BaggingRegressor(estimator=LinearRegression(), n_estimators=15, random_state=23)</pre><b>In a Jupyter environment, please rerun this cell to show the HTML representation or trust the notebook. <br />On GitHub, the HTML representation is unable to render, please try loading this page with nbviewer.org.</b></div><div class=\"sk-container\" hidden><div class=\"sk-item sk-dashed-wrapped\"><div class=\"sk-label-container\"><div class=\"sk-label sk-toggleable\"><input class=\"sk-toggleable__control sk-hidden--visually\" id=\"sk-estimator-id-3\" type=\"checkbox\" ><label for=\"sk-estimator-id-3\" class=\"sk-toggleable__label sk-toggleable__label-arrow\">BaggingRegressor</label><div class=\"sk-toggleable__content\"><pre>BaggingRegressor(estimator=LinearRegression(), n_estimators=15, random_state=23)</pre></div></div></div><div class=\"sk-parallel\"><div class=\"sk-parallel-item\"><div class=\"sk-item\"><div class=\"sk-label-container\"><div class=\"sk-label sk-toggleable\"><input class=\"sk-toggleable__control sk-hidden--visually\" id=\"sk-estimator-id-4\" type=\"checkbox\" ><label for=\"sk-estimator-id-4\" class=\"sk-toggleable__label sk-toggleable__label-arrow\">estimator: LinearRegression</label><div class=\"sk-toggleable__content\"><pre>LinearRegression()</pre></div></div></div><div class=\"sk-serial\"><div class=\"sk-item\"><div class=\"sk-estimator sk-toggleable\"><input class=\"sk-toggleable__control sk-hidden--visually\" id=\"sk-estimator-id-5\" type=\"checkbox\" ><label for=\"sk-estimator-id-5\" class=\"sk-toggleable__label sk-toggleable__label-arrow\">LinearRegression</label><div class=\"sk-toggleable__content\"><pre>LinearRegression()</pre></div></div></div></div></div></div></div></div></div></div>"
      ],
      "text/plain": [
       "BaggingRegressor(estimator=LinearRegression(), n_estimators=15, random_state=23)"
      ]
     },
     "execution_count": 24,
     "metadata": {},
     "output_type": "execute_result"
    }
   ],
   "source": [
    "bgr.fit(X_train,y_train)"
   ]
  },
  {
   "cell_type": "code",
   "execution_count": 25,
   "id": "c22598bc",
   "metadata": {},
   "outputs": [],
   "source": [
    "y_pred=bgr.predict(X_test)"
   ]
  },
  {
   "cell_type": "code",
   "execution_count": 26,
   "id": "39cca784",
   "metadata": {},
   "outputs": [
    {
     "data": {
      "text/plain": [
       "0.6026136411294161"
      ]
     },
     "execution_count": 26,
     "metadata": {},
     "output_type": "execute_result"
    }
   ],
   "source": [
    "r2_score(y_test,y_pred)"
   ]
  },
  {
   "cell_type": "code",
   "execution_count": 28,
   "id": "6fc4a382",
   "metadata": {},
   "outputs": [],
   "source": [
    "from sklearn.tree import DecisionTreeRegressor"
   ]
  },
  {
   "cell_type": "code",
   "execution_count": 29,
   "id": "bfaa8141",
   "metadata": {},
   "outputs": [],
   "source": [
    "dtr=DecisionTreeRegressor(random_state=23)"
   ]
  },
  {
   "cell_type": "code",
   "execution_count": 30,
   "id": "b9a3d1da",
   "metadata": {},
   "outputs": [
    {
     "data": {
      "text/html": [
       "<style>#sk-container-id-4 {color: black;}#sk-container-id-4 pre{padding: 0;}#sk-container-id-4 div.sk-toggleable {background-color: white;}#sk-container-id-4 label.sk-toggleable__label {cursor: pointer;display: block;width: 100%;margin-bottom: 0;padding: 0.3em;box-sizing: border-box;text-align: center;}#sk-container-id-4 label.sk-toggleable__label-arrow:before {content: \"▸\";float: left;margin-right: 0.25em;color: #696969;}#sk-container-id-4 label.sk-toggleable__label-arrow:hover:before {color: black;}#sk-container-id-4 div.sk-estimator:hover label.sk-toggleable__label-arrow:before {color: black;}#sk-container-id-4 div.sk-toggleable__content {max-height: 0;max-width: 0;overflow: hidden;text-align: left;background-color: #f0f8ff;}#sk-container-id-4 div.sk-toggleable__content pre {margin: 0.2em;color: black;border-radius: 0.25em;background-color: #f0f8ff;}#sk-container-id-4 input.sk-toggleable__control:checked~div.sk-toggleable__content {max-height: 200px;max-width: 100%;overflow: auto;}#sk-container-id-4 input.sk-toggleable__control:checked~label.sk-toggleable__label-arrow:before {content: \"▾\";}#sk-container-id-4 div.sk-estimator input.sk-toggleable__control:checked~label.sk-toggleable__label {background-color: #d4ebff;}#sk-container-id-4 div.sk-label input.sk-toggleable__control:checked~label.sk-toggleable__label {background-color: #d4ebff;}#sk-container-id-4 input.sk-hidden--visually {border: 0;clip: rect(1px 1px 1px 1px);clip: rect(1px, 1px, 1px, 1px);height: 1px;margin: -1px;overflow: hidden;padding: 0;position: absolute;width: 1px;}#sk-container-id-4 div.sk-estimator {font-family: monospace;background-color: #f0f8ff;border: 1px dotted black;border-radius: 0.25em;box-sizing: border-box;margin-bottom: 0.5em;}#sk-container-id-4 div.sk-estimator:hover {background-color: #d4ebff;}#sk-container-id-4 div.sk-parallel-item::after {content: \"\";width: 100%;border-bottom: 1px solid gray;flex-grow: 1;}#sk-container-id-4 div.sk-label:hover label.sk-toggleable__label {background-color: #d4ebff;}#sk-container-id-4 div.sk-serial::before {content: \"\";position: absolute;border-left: 1px solid gray;box-sizing: border-box;top: 0;bottom: 0;left: 50%;z-index: 0;}#sk-container-id-4 div.sk-serial {display: flex;flex-direction: column;align-items: center;background-color: white;padding-right: 0.2em;padding-left: 0.2em;position: relative;}#sk-container-id-4 div.sk-item {position: relative;z-index: 1;}#sk-container-id-4 div.sk-parallel {display: flex;align-items: stretch;justify-content: center;background-color: white;position: relative;}#sk-container-id-4 div.sk-item::before, #sk-container-id-4 div.sk-parallel-item::before {content: \"\";position: absolute;border-left: 1px solid gray;box-sizing: border-box;top: 0;bottom: 0;left: 50%;z-index: -1;}#sk-container-id-4 div.sk-parallel-item {display: flex;flex-direction: column;z-index: 1;position: relative;background-color: white;}#sk-container-id-4 div.sk-parallel-item:first-child::after {align-self: flex-end;width: 50%;}#sk-container-id-4 div.sk-parallel-item:last-child::after {align-self: flex-start;width: 50%;}#sk-container-id-4 div.sk-parallel-item:only-child::after {width: 0;}#sk-container-id-4 div.sk-dashed-wrapped {border: 1px dashed gray;margin: 0 0.4em 0.5em 0.4em;box-sizing: border-box;padding-bottom: 0.4em;background-color: white;}#sk-container-id-4 div.sk-label label {font-family: monospace;font-weight: bold;display: inline-block;line-height: 1.2em;}#sk-container-id-4 div.sk-label-container {text-align: center;}#sk-container-id-4 div.sk-container {/* jupyter's `normalize.less` sets `[hidden] { display: none; }` but bootstrap.min.css set `[hidden] { display: none !important; }` so we also need the `!important` here to be able to override the default hidden behavior on the sphinx rendered scikit-learn.org. See: https://github.com/scikit-learn/scikit-learn/issues/21755 */display: inline-block !important;position: relative;}#sk-container-id-4 div.sk-text-repr-fallback {display: none;}</style><div id=\"sk-container-id-4\" class=\"sk-top-container\"><div class=\"sk-text-repr-fallback\"><pre>DecisionTreeRegressor(random_state=23)</pre><b>In a Jupyter environment, please rerun this cell to show the HTML representation or trust the notebook. <br />On GitHub, the HTML representation is unable to render, please try loading this page with nbviewer.org.</b></div><div class=\"sk-container\" hidden><div class=\"sk-item\"><div class=\"sk-estimator sk-toggleable\"><input class=\"sk-toggleable__control sk-hidden--visually\" id=\"sk-estimator-id-6\" type=\"checkbox\" checked><label for=\"sk-estimator-id-6\" class=\"sk-toggleable__label sk-toggleable__label-arrow\">DecisionTreeRegressor</label><div class=\"sk-toggleable__content\"><pre>DecisionTreeRegressor(random_state=23)</pre></div></div></div></div></div>"
      ],
      "text/plain": [
       "DecisionTreeRegressor(random_state=23)"
      ]
     },
     "execution_count": 30,
     "metadata": {},
     "output_type": "execute_result"
    }
   ],
   "source": [
    "dtr.fit(X_train,y_train)"
   ]
  },
  {
   "cell_type": "code",
   "execution_count": 31,
   "id": "0b1dacdc",
   "metadata": {},
   "outputs": [],
   "source": [
    "y_pred=dtr.predict(X_test)"
   ]
  },
  {
   "cell_type": "code",
   "execution_count": 32,
   "id": "2cf6a4bb",
   "metadata": {},
   "outputs": [
    {
     "data": {
      "text/plain": [
       "0.7275115568212169"
      ]
     },
     "execution_count": 32,
     "metadata": {},
     "output_type": "execute_result"
    }
   ],
   "source": [
    "r2_score(y_test,y_pred)"
   ]
  },
  {
   "cell_type": "code",
   "execution_count": 33,
   "id": "a22ef1ba",
   "metadata": {},
   "outputs": [],
   "source": [
    "bgr=BaggingRegressor(dtr,n_estimators=15,random_state=23)"
   ]
  },
  {
   "cell_type": "code",
   "execution_count": 34,
   "id": "74c7f715",
   "metadata": {},
   "outputs": [
    {
     "data": {
      "text/html": [
       "<style>#sk-container-id-5 {color: black;}#sk-container-id-5 pre{padding: 0;}#sk-container-id-5 div.sk-toggleable {background-color: white;}#sk-container-id-5 label.sk-toggleable__label {cursor: pointer;display: block;width: 100%;margin-bottom: 0;padding: 0.3em;box-sizing: border-box;text-align: center;}#sk-container-id-5 label.sk-toggleable__label-arrow:before {content: \"▸\";float: left;margin-right: 0.25em;color: #696969;}#sk-container-id-5 label.sk-toggleable__label-arrow:hover:before {color: black;}#sk-container-id-5 div.sk-estimator:hover label.sk-toggleable__label-arrow:before {color: black;}#sk-container-id-5 div.sk-toggleable__content {max-height: 0;max-width: 0;overflow: hidden;text-align: left;background-color: #f0f8ff;}#sk-container-id-5 div.sk-toggleable__content pre {margin: 0.2em;color: black;border-radius: 0.25em;background-color: #f0f8ff;}#sk-container-id-5 input.sk-toggleable__control:checked~div.sk-toggleable__content {max-height: 200px;max-width: 100%;overflow: auto;}#sk-container-id-5 input.sk-toggleable__control:checked~label.sk-toggleable__label-arrow:before {content: \"▾\";}#sk-container-id-5 div.sk-estimator input.sk-toggleable__control:checked~label.sk-toggleable__label {background-color: #d4ebff;}#sk-container-id-5 div.sk-label input.sk-toggleable__control:checked~label.sk-toggleable__label {background-color: #d4ebff;}#sk-container-id-5 input.sk-hidden--visually {border: 0;clip: rect(1px 1px 1px 1px);clip: rect(1px, 1px, 1px, 1px);height: 1px;margin: -1px;overflow: hidden;padding: 0;position: absolute;width: 1px;}#sk-container-id-5 div.sk-estimator {font-family: monospace;background-color: #f0f8ff;border: 1px dotted black;border-radius: 0.25em;box-sizing: border-box;margin-bottom: 0.5em;}#sk-container-id-5 div.sk-estimator:hover {background-color: #d4ebff;}#sk-container-id-5 div.sk-parallel-item::after {content: \"\";width: 100%;border-bottom: 1px solid gray;flex-grow: 1;}#sk-container-id-5 div.sk-label:hover label.sk-toggleable__label {background-color: #d4ebff;}#sk-container-id-5 div.sk-serial::before {content: \"\";position: absolute;border-left: 1px solid gray;box-sizing: border-box;top: 0;bottom: 0;left: 50%;z-index: 0;}#sk-container-id-5 div.sk-serial {display: flex;flex-direction: column;align-items: center;background-color: white;padding-right: 0.2em;padding-left: 0.2em;position: relative;}#sk-container-id-5 div.sk-item {position: relative;z-index: 1;}#sk-container-id-5 div.sk-parallel {display: flex;align-items: stretch;justify-content: center;background-color: white;position: relative;}#sk-container-id-5 div.sk-item::before, #sk-container-id-5 div.sk-parallel-item::before {content: \"\";position: absolute;border-left: 1px solid gray;box-sizing: border-box;top: 0;bottom: 0;left: 50%;z-index: -1;}#sk-container-id-5 div.sk-parallel-item {display: flex;flex-direction: column;z-index: 1;position: relative;background-color: white;}#sk-container-id-5 div.sk-parallel-item:first-child::after {align-self: flex-end;width: 50%;}#sk-container-id-5 div.sk-parallel-item:last-child::after {align-self: flex-start;width: 50%;}#sk-container-id-5 div.sk-parallel-item:only-child::after {width: 0;}#sk-container-id-5 div.sk-dashed-wrapped {border: 1px dashed gray;margin: 0 0.4em 0.5em 0.4em;box-sizing: border-box;padding-bottom: 0.4em;background-color: white;}#sk-container-id-5 div.sk-label label {font-family: monospace;font-weight: bold;display: inline-block;line-height: 1.2em;}#sk-container-id-5 div.sk-label-container {text-align: center;}#sk-container-id-5 div.sk-container {/* jupyter's `normalize.less` sets `[hidden] { display: none; }` but bootstrap.min.css set `[hidden] { display: none !important; }` so we also need the `!important` here to be able to override the default hidden behavior on the sphinx rendered scikit-learn.org. See: https://github.com/scikit-learn/scikit-learn/issues/21755 */display: inline-block !important;position: relative;}#sk-container-id-5 div.sk-text-repr-fallback {display: none;}</style><div id=\"sk-container-id-5\" class=\"sk-top-container\"><div class=\"sk-text-repr-fallback\"><pre>BaggingRegressor(estimator=DecisionTreeRegressor(random_state=23),\n",
       "                 n_estimators=15, random_state=23)</pre><b>In a Jupyter environment, please rerun this cell to show the HTML representation or trust the notebook. <br />On GitHub, the HTML representation is unable to render, please try loading this page with nbviewer.org.</b></div><div class=\"sk-container\" hidden><div class=\"sk-item sk-dashed-wrapped\"><div class=\"sk-label-container\"><div class=\"sk-label sk-toggleable\"><input class=\"sk-toggleable__control sk-hidden--visually\" id=\"sk-estimator-id-7\" type=\"checkbox\" ><label for=\"sk-estimator-id-7\" class=\"sk-toggleable__label sk-toggleable__label-arrow\">BaggingRegressor</label><div class=\"sk-toggleable__content\"><pre>BaggingRegressor(estimator=DecisionTreeRegressor(random_state=23),\n",
       "                 n_estimators=15, random_state=23)</pre></div></div></div><div class=\"sk-parallel\"><div class=\"sk-parallel-item\"><div class=\"sk-item\"><div class=\"sk-label-container\"><div class=\"sk-label sk-toggleable\"><input class=\"sk-toggleable__control sk-hidden--visually\" id=\"sk-estimator-id-8\" type=\"checkbox\" ><label for=\"sk-estimator-id-8\" class=\"sk-toggleable__label sk-toggleable__label-arrow\">estimator: DecisionTreeRegressor</label><div class=\"sk-toggleable__content\"><pre>DecisionTreeRegressor(random_state=23)</pre></div></div></div><div class=\"sk-serial\"><div class=\"sk-item\"><div class=\"sk-estimator sk-toggleable\"><input class=\"sk-toggleable__control sk-hidden--visually\" id=\"sk-estimator-id-9\" type=\"checkbox\" ><label for=\"sk-estimator-id-9\" class=\"sk-toggleable__label sk-toggleable__label-arrow\">DecisionTreeRegressor</label><div class=\"sk-toggleable__content\"><pre>DecisionTreeRegressor(random_state=23)</pre></div></div></div></div></div></div></div></div></div></div>"
      ],
      "text/plain": [
       "BaggingRegressor(estimator=DecisionTreeRegressor(random_state=23),\n",
       "                 n_estimators=15, random_state=23)"
      ]
     },
     "execution_count": 34,
     "metadata": {},
     "output_type": "execute_result"
    }
   ],
   "source": [
    "bgr.fit(X_train,y_train)"
   ]
  },
  {
   "cell_type": "code",
   "execution_count": 35,
   "id": "9e15d912",
   "metadata": {},
   "outputs": [],
   "source": [
    "y_pred=bgr.predict(X_test)"
   ]
  },
  {
   "cell_type": "code",
   "execution_count": 36,
   "id": "911cfa84",
   "metadata": {},
   "outputs": [
    {
     "data": {
      "text/plain": [
       "0.8288776668798505"
      ]
     },
     "execution_count": 36,
     "metadata": {},
     "output_type": "execute_result"
    }
   ],
   "source": [
    "r2_score(y_test,y_pred)"
   ]
  },
  {
   "cell_type": "markdown",
   "id": "62491eb4",
   "metadata": {},
   "source": [
    "# Grid search"
   ]
  },
  {
   "cell_type": "code",
   "execution_count": 38,
   "id": "738d780f",
   "metadata": {},
   "outputs": [],
   "source": [
    "kfold=KFold(n_splits=5,shuffle=True,random_state=23)"
   ]
  },
  {
   "cell_type": "code",
   "execution_count": 39,
   "id": "cb3225db",
   "metadata": {},
   "outputs": [],
   "source": [
    "dtr=DecisionTreeRegressor(random_state=23)"
   ]
  },
  {
   "cell_type": "code",
   "execution_count": 40,
   "id": "0aeb6985",
   "metadata": {},
   "outputs": [],
   "source": [
    "bgr=BaggingRegressor(dtr,random_state=23)"
   ]
  },
  {
   "cell_type": "code",
   "execution_count": 41,
   "id": "ef1320dd",
   "metadata": {},
   "outputs": [
    {
     "data": {
      "text/plain": [
       "{'base_estimator': 'deprecated',\n",
       " 'bootstrap': True,\n",
       " 'bootstrap_features': False,\n",
       " 'estimator__ccp_alpha': 0.0,\n",
       " 'estimator__criterion': 'squared_error',\n",
       " 'estimator__max_depth': None,\n",
       " 'estimator__max_features': None,\n",
       " 'estimator__max_leaf_nodes': None,\n",
       " 'estimator__min_impurity_decrease': 0.0,\n",
       " 'estimator__min_samples_leaf': 1,\n",
       " 'estimator__min_samples_split': 2,\n",
       " 'estimator__min_weight_fraction_leaf': 0.0,\n",
       " 'estimator__random_state': 23,\n",
       " 'estimator__splitter': 'best',\n",
       " 'estimator': DecisionTreeRegressor(random_state=23),\n",
       " 'max_features': 1.0,\n",
       " 'max_samples': 1.0,\n",
       " 'n_estimators': 10,\n",
       " 'n_jobs': None,\n",
       " 'oob_score': False,\n",
       " 'random_state': 23,\n",
       " 'verbose': 0,\n",
       " 'warm_start': False}"
      ]
     },
     "execution_count": 41,
     "metadata": {},
     "output_type": "execute_result"
    }
   ],
   "source": [
    "bgr.get_params()"
   ]
  },
  {
   "cell_type": "code",
   "execution_count": 42,
   "id": "909104b5",
   "metadata": {},
   "outputs": [],
   "source": [
    "params={'estimator__max_depth':[None,3,5],'estimator__min_samples_leaf':[1,5,10],'estimator__min_samples_split':[2,5,10],'n_estimators':[10,30,50]}"
   ]
  },
  {
   "cell_type": "code",
   "execution_count": 43,
   "id": "16312f3d",
   "metadata": {},
   "outputs": [],
   "source": [
    "gcv=GridSearchCV(bgr,param_grid=params,cv=kfold,verbose=3,scoring='r2')"
   ]
  },
  {
   "cell_type": "code",
   "execution_count": 44,
   "id": "6d58b6d1",
   "metadata": {},
   "outputs": [
    {
     "name": "stdout",
     "output_type": "stream",
     "text": [
      "Fitting 5 folds for each of 81 candidates, totalling 405 fits\n",
      "[CV 1/5] END estimator__max_depth=None, estimator__min_samples_leaf=1, estimator__min_samples_split=2, n_estimators=10;, score=0.899 total time=   0.1s\n",
      "[CV 2/5] END estimator__max_depth=None, estimator__min_samples_leaf=1, estimator__min_samples_split=2, n_estimators=10;, score=0.894 total time=   0.1s\n",
      "[CV 3/5] END estimator__max_depth=None, estimator__min_samples_leaf=1, estimator__min_samples_split=2, n_estimators=10;, score=0.916 total time=   0.1s\n",
      "[CV 4/5] END estimator__max_depth=None, estimator__min_samples_leaf=1, estimator__min_samples_split=2, n_estimators=10;, score=0.909 total time=   0.1s\n",
      "[CV 5/5] END estimator__max_depth=None, estimator__min_samples_leaf=1, estimator__min_samples_split=2, n_estimators=10;, score=0.879 total time=   0.1s\n",
      "[CV 1/5] END estimator__max_depth=None, estimator__min_samples_leaf=1, estimator__min_samples_split=2, n_estimators=30;, score=0.897 total time=   0.2s\n",
      "[CV 2/5] END estimator__max_depth=None, estimator__min_samples_leaf=1, estimator__min_samples_split=2, n_estimators=30;, score=0.904 total time=   0.2s\n",
      "[CV 3/5] END estimator__max_depth=None, estimator__min_samples_leaf=1, estimator__min_samples_split=2, n_estimators=30;, score=0.931 total time=   0.1s\n",
      "[CV 4/5] END estimator__max_depth=None, estimator__min_samples_leaf=1, estimator__min_samples_split=2, n_estimators=30;, score=0.915 total time=   0.1s\n",
      "[CV 5/5] END estimator__max_depth=None, estimator__min_samples_leaf=1, estimator__min_samples_split=2, n_estimators=30;, score=0.891 total time=   0.2s\n",
      "[CV 1/5] END estimator__max_depth=None, estimator__min_samples_leaf=1, estimator__min_samples_split=2, n_estimators=50;, score=0.902 total time=   0.3s\n",
      "[CV 2/5] END estimator__max_depth=None, estimator__min_samples_leaf=1, estimator__min_samples_split=2, n_estimators=50;, score=0.904 total time=   0.2s\n",
      "[CV 3/5] END estimator__max_depth=None, estimator__min_samples_leaf=1, estimator__min_samples_split=2, n_estimators=50;, score=0.932 total time=   0.2s\n",
      "[CV 4/5] END estimator__max_depth=None, estimator__min_samples_leaf=1, estimator__min_samples_split=2, n_estimators=50;, score=0.914 total time=   0.2s\n",
      "[CV 5/5] END estimator__max_depth=None, estimator__min_samples_leaf=1, estimator__min_samples_split=2, n_estimators=50;, score=0.894 total time=   0.2s\n",
      "[CV 1/5] END estimator__max_depth=None, estimator__min_samples_leaf=1, estimator__min_samples_split=5, n_estimators=10;, score=0.891 total time=   0.0s\n",
      "[CV 2/5] END estimator__max_depth=None, estimator__min_samples_leaf=1, estimator__min_samples_split=5, n_estimators=10;, score=0.892 total time=   0.0s\n",
      "[CV 3/5] END estimator__max_depth=None, estimator__min_samples_leaf=1, estimator__min_samples_split=5, n_estimators=10;, score=0.914 total time=   0.0s\n",
      "[CV 4/5] END estimator__max_depth=None, estimator__min_samples_leaf=1, estimator__min_samples_split=5, n_estimators=10;, score=0.901 total time=   0.0s\n",
      "[CV 5/5] END estimator__max_depth=None, estimator__min_samples_leaf=1, estimator__min_samples_split=5, n_estimators=10;, score=0.883 total time=   0.1s\n",
      "[CV 1/5] END estimator__max_depth=None, estimator__min_samples_leaf=1, estimator__min_samples_split=5, n_estimators=30;, score=0.893 total time=   0.1s\n",
      "[CV 2/5] END estimator__max_depth=None, estimator__min_samples_leaf=1, estimator__min_samples_split=5, n_estimators=30;, score=0.900 total time=   0.1s\n",
      "[CV 3/5] END estimator__max_depth=None, estimator__min_samples_leaf=1, estimator__min_samples_split=5, n_estimators=30;, score=0.926 total time=   0.1s\n",
      "[CV 4/5] END estimator__max_depth=None, estimator__min_samples_leaf=1, estimator__min_samples_split=5, n_estimators=30;, score=0.910 total time=   0.1s\n",
      "[CV 5/5] END estimator__max_depth=None, estimator__min_samples_leaf=1, estimator__min_samples_split=5, n_estimators=30;, score=0.886 total time=   0.1s\n",
      "[CV 1/5] END estimator__max_depth=None, estimator__min_samples_leaf=1, estimator__min_samples_split=5, n_estimators=50;, score=0.897 total time=   0.2s\n",
      "[CV 2/5] END estimator__max_depth=None, estimator__min_samples_leaf=1, estimator__min_samples_split=5, n_estimators=50;, score=0.901 total time=   0.2s\n",
      "[CV 3/5] END estimator__max_depth=None, estimator__min_samples_leaf=1, estimator__min_samples_split=5, n_estimators=50;, score=0.928 total time=   0.2s\n",
      "[CV 4/5] END estimator__max_depth=None, estimator__min_samples_leaf=1, estimator__min_samples_split=5, n_estimators=50;, score=0.909 total time=   0.2s\n",
      "[CV 5/5] END estimator__max_depth=None, estimator__min_samples_leaf=1, estimator__min_samples_split=5, n_estimators=50;, score=0.891 total time=   0.2s\n",
      "[CV 1/5] END estimator__max_depth=None, estimator__min_samples_leaf=1, estimator__min_samples_split=10, n_estimators=10;, score=0.887 total time=   0.0s\n",
      "[CV 2/5] END estimator__max_depth=None, estimator__min_samples_leaf=1, estimator__min_samples_split=10, n_estimators=10;, score=0.882 total time=   0.0s\n",
      "[CV 3/5] END estimator__max_depth=None, estimator__min_samples_leaf=1, estimator__min_samples_split=10, n_estimators=10;, score=0.908 total time=   0.0s\n",
      "[CV 4/5] END estimator__max_depth=None, estimator__min_samples_leaf=1, estimator__min_samples_split=10, n_estimators=10;, score=0.896 total time=   0.0s\n",
      "[CV 5/5] END estimator__max_depth=None, estimator__min_samples_leaf=1, estimator__min_samples_split=10, n_estimators=10;, score=0.874 total time=   0.0s\n",
      "[CV 1/5] END estimator__max_depth=None, estimator__min_samples_leaf=1, estimator__min_samples_split=10, n_estimators=30;, score=0.878 total time=   0.1s\n",
      "[CV 2/5] END estimator__max_depth=None, estimator__min_samples_leaf=1, estimator__min_samples_split=10, n_estimators=30;, score=0.891 total time=   0.1s\n",
      "[CV 3/5] END estimator__max_depth=None, estimator__min_samples_leaf=1, estimator__min_samples_split=10, n_estimators=30;, score=0.914 total time=   0.1s\n",
      "[CV 4/5] END estimator__max_depth=None, estimator__min_samples_leaf=1, estimator__min_samples_split=10, n_estimators=30;, score=0.903 total time=   0.1s\n",
      "[CV 5/5] END estimator__max_depth=None, estimator__min_samples_leaf=1, estimator__min_samples_split=10, n_estimators=30;, score=0.877 total time=   0.1s\n",
      "[CV 1/5] END estimator__max_depth=None, estimator__min_samples_leaf=1, estimator__min_samples_split=10, n_estimators=50;, score=0.883 total time=   0.2s\n",
      "[CV 2/5] END estimator__max_depth=None, estimator__min_samples_leaf=1, estimator__min_samples_split=10, n_estimators=50;, score=0.892 total time=   0.2s\n",
      "[CV 3/5] END estimator__max_depth=None, estimator__min_samples_leaf=1, estimator__min_samples_split=10, n_estimators=50;, score=0.916 total time=   0.2s\n",
      "[CV 4/5] END estimator__max_depth=None, estimator__min_samples_leaf=1, estimator__min_samples_split=10, n_estimators=50;, score=0.901 total time=   0.2s\n",
      "[CV 5/5] END estimator__max_depth=None, estimator__min_samples_leaf=1, estimator__min_samples_split=10, n_estimators=50;, score=0.880 total time=   0.2s\n",
      "[CV 1/5] END estimator__max_depth=None, estimator__min_samples_leaf=5, estimator__min_samples_split=2, n_estimators=10;, score=0.866 total time=   0.0s\n",
      "[CV 2/5] END estimator__max_depth=None, estimator__min_samples_leaf=5, estimator__min_samples_split=2, n_estimators=10;, score=0.863 total time=   0.0s\n",
      "[CV 3/5] END estimator__max_depth=None, estimator__min_samples_leaf=5, estimator__min_samples_split=2, n_estimators=10;, score=0.899 total time=   0.0s\n",
      "[CV 4/5] END estimator__max_depth=None, estimator__min_samples_leaf=5, estimator__min_samples_split=2, n_estimators=10;, score=0.880 total time=   0.0s\n",
      "[CV 5/5] END estimator__max_depth=None, estimator__min_samples_leaf=5, estimator__min_samples_split=2, n_estimators=10;, score=0.868 total time=   0.0s\n",
      "[CV 1/5] END estimator__max_depth=None, estimator__min_samples_leaf=5, estimator__min_samples_split=2, n_estimators=30;, score=0.863 total time=   0.1s\n",
      "[CV 2/5] END estimator__max_depth=None, estimator__min_samples_leaf=5, estimator__min_samples_split=2, n_estimators=30;, score=0.865 total time=   0.1s\n",
      "[CV 3/5] END estimator__max_depth=None, estimator__min_samples_leaf=5, estimator__min_samples_split=2, n_estimators=30;, score=0.907 total time=   0.1s\n",
      "[CV 4/5] END estimator__max_depth=None, estimator__min_samples_leaf=5, estimator__min_samples_split=2, n_estimators=30;, score=0.886 total time=   0.1s\n",
      "[CV 5/5] END estimator__max_depth=None, estimator__min_samples_leaf=5, estimator__min_samples_split=2, n_estimators=30;, score=0.868 total time=   0.1s\n"
     ]
    },
    {
     "name": "stdout",
     "output_type": "stream",
     "text": [
      "[CV 1/5] END estimator__max_depth=None, estimator__min_samples_leaf=5, estimator__min_samples_split=2, n_estimators=50;, score=0.866 total time=   0.2s\n",
      "[CV 2/5] END estimator__max_depth=None, estimator__min_samples_leaf=5, estimator__min_samples_split=2, n_estimators=50;, score=0.865 total time=   0.2s\n",
      "[CV 3/5] END estimator__max_depth=None, estimator__min_samples_leaf=5, estimator__min_samples_split=2, n_estimators=50;, score=0.906 total time=   0.2s\n",
      "[CV 4/5] END estimator__max_depth=None, estimator__min_samples_leaf=5, estimator__min_samples_split=2, n_estimators=50;, score=0.887 total time=   0.2s\n",
      "[CV 5/5] END estimator__max_depth=None, estimator__min_samples_leaf=5, estimator__min_samples_split=2, n_estimators=50;, score=0.869 total time=   0.2s\n",
      "[CV 1/5] END estimator__max_depth=None, estimator__min_samples_leaf=5, estimator__min_samples_split=5, n_estimators=10;, score=0.866 total time=   0.0s\n",
      "[CV 2/5] END estimator__max_depth=None, estimator__min_samples_leaf=5, estimator__min_samples_split=5, n_estimators=10;, score=0.863 total time=   0.0s\n",
      "[CV 3/5] END estimator__max_depth=None, estimator__min_samples_leaf=5, estimator__min_samples_split=5, n_estimators=10;, score=0.899 total time=   0.0s\n",
      "[CV 4/5] END estimator__max_depth=None, estimator__min_samples_leaf=5, estimator__min_samples_split=5, n_estimators=10;, score=0.880 total time=   0.0s\n",
      "[CV 5/5] END estimator__max_depth=None, estimator__min_samples_leaf=5, estimator__min_samples_split=5, n_estimators=10;, score=0.868 total time=   0.0s\n",
      "[CV 1/5] END estimator__max_depth=None, estimator__min_samples_leaf=5, estimator__min_samples_split=5, n_estimators=30;, score=0.863 total time=   0.1s\n",
      "[CV 2/5] END estimator__max_depth=None, estimator__min_samples_leaf=5, estimator__min_samples_split=5, n_estimators=30;, score=0.865 total time=   0.1s\n",
      "[CV 3/5] END estimator__max_depth=None, estimator__min_samples_leaf=5, estimator__min_samples_split=5, n_estimators=30;, score=0.907 total time=   0.1s\n",
      "[CV 4/5] END estimator__max_depth=None, estimator__min_samples_leaf=5, estimator__min_samples_split=5, n_estimators=30;, score=0.886 total time=   0.1s\n",
      "[CV 5/5] END estimator__max_depth=None, estimator__min_samples_leaf=5, estimator__min_samples_split=5, n_estimators=30;, score=0.868 total time=   0.1s\n",
      "[CV 1/5] END estimator__max_depth=None, estimator__min_samples_leaf=5, estimator__min_samples_split=5, n_estimators=50;, score=0.866 total time=   0.2s\n",
      "[CV 2/5] END estimator__max_depth=None, estimator__min_samples_leaf=5, estimator__min_samples_split=5, n_estimators=50;, score=0.865 total time=   0.2s\n",
      "[CV 3/5] END estimator__max_depth=None, estimator__min_samples_leaf=5, estimator__min_samples_split=5, n_estimators=50;, score=0.906 total time=   0.2s\n",
      "[CV 4/5] END estimator__max_depth=None, estimator__min_samples_leaf=5, estimator__min_samples_split=5, n_estimators=50;, score=0.887 total time=   0.2s\n",
      "[CV 5/5] END estimator__max_depth=None, estimator__min_samples_leaf=5, estimator__min_samples_split=5, n_estimators=50;, score=0.869 total time=   0.2s\n",
      "[CV 1/5] END estimator__max_depth=None, estimator__min_samples_leaf=5, estimator__min_samples_split=10, n_estimators=10;, score=0.866 total time=   0.0s\n",
      "[CV 2/5] END estimator__max_depth=None, estimator__min_samples_leaf=5, estimator__min_samples_split=10, n_estimators=10;, score=0.863 total time=   0.0s\n",
      "[CV 3/5] END estimator__max_depth=None, estimator__min_samples_leaf=5, estimator__min_samples_split=10, n_estimators=10;, score=0.899 total time=   0.0s\n",
      "[CV 4/5] END estimator__max_depth=None, estimator__min_samples_leaf=5, estimator__min_samples_split=10, n_estimators=10;, score=0.880 total time=   0.0s\n",
      "[CV 5/5] END estimator__max_depth=None, estimator__min_samples_leaf=5, estimator__min_samples_split=10, n_estimators=10;, score=0.868 total time=   0.0s\n",
      "[CV 1/5] END estimator__max_depth=None, estimator__min_samples_leaf=5, estimator__min_samples_split=10, n_estimators=30;, score=0.863 total time=   0.1s\n",
      "[CV 2/5] END estimator__max_depth=None, estimator__min_samples_leaf=5, estimator__min_samples_split=10, n_estimators=30;, score=0.865 total time=   0.1s\n",
      "[CV 3/5] END estimator__max_depth=None, estimator__min_samples_leaf=5, estimator__min_samples_split=10, n_estimators=30;, score=0.907 total time=   0.1s\n",
      "[CV 4/5] END estimator__max_depth=None, estimator__min_samples_leaf=5, estimator__min_samples_split=10, n_estimators=30;, score=0.886 total time=   0.1s\n",
      "[CV 5/5] END estimator__max_depth=None, estimator__min_samples_leaf=5, estimator__min_samples_split=10, n_estimators=30;, score=0.868 total time=   0.1s\n",
      "[CV 1/5] END estimator__max_depth=None, estimator__min_samples_leaf=5, estimator__min_samples_split=10, n_estimators=50;, score=0.866 total time=   0.2s\n",
      "[CV 2/5] END estimator__max_depth=None, estimator__min_samples_leaf=5, estimator__min_samples_split=10, n_estimators=50;, score=0.865 total time=   0.2s\n",
      "[CV 3/5] END estimator__max_depth=None, estimator__min_samples_leaf=5, estimator__min_samples_split=10, n_estimators=50;, score=0.906 total time=   0.2s\n",
      "[CV 4/5] END estimator__max_depth=None, estimator__min_samples_leaf=5, estimator__min_samples_split=10, n_estimators=50;, score=0.887 total time=   0.2s\n",
      "[CV 5/5] END estimator__max_depth=None, estimator__min_samples_leaf=5, estimator__min_samples_split=10, n_estimators=50;, score=0.869 total time=   0.2s\n",
      "[CV 1/5] END estimator__max_depth=None, estimator__min_samples_leaf=10, estimator__min_samples_split=2, n_estimators=10;, score=0.833 total time=   0.0s\n",
      "[CV 2/5] END estimator__max_depth=None, estimator__min_samples_leaf=10, estimator__min_samples_split=2, n_estimators=10;, score=0.830 total time=   0.0s\n",
      "[CV 3/5] END estimator__max_depth=None, estimator__min_samples_leaf=10, estimator__min_samples_split=2, n_estimators=10;, score=0.868 total time=   0.0s\n",
      "[CV 4/5] END estimator__max_depth=None, estimator__min_samples_leaf=10, estimator__min_samples_split=2, n_estimators=10;, score=0.851 total time=   0.0s\n",
      "[CV 5/5] END estimator__max_depth=None, estimator__min_samples_leaf=10, estimator__min_samples_split=2, n_estimators=10;, score=0.845 total time=   0.0s\n",
      "[CV 1/5] END estimator__max_depth=None, estimator__min_samples_leaf=10, estimator__min_samples_split=2, n_estimators=30;, score=0.833 total time=   0.1s\n",
      "[CV 2/5] END estimator__max_depth=None, estimator__min_samples_leaf=10, estimator__min_samples_split=2, n_estimators=30;, score=0.838 total time=   0.1s\n",
      "[CV 3/5] END estimator__max_depth=None, estimator__min_samples_leaf=10, estimator__min_samples_split=2, n_estimators=30;, score=0.874 total time=   0.1s\n",
      "[CV 4/5] END estimator__max_depth=None, estimator__min_samples_leaf=10, estimator__min_samples_split=2, n_estimators=30;, score=0.860 total time=   0.1s\n",
      "[CV 5/5] END estimator__max_depth=None, estimator__min_samples_leaf=10, estimator__min_samples_split=2, n_estimators=30;, score=0.847 total time=   0.1s\n",
      "[CV 1/5] END estimator__max_depth=None, estimator__min_samples_leaf=10, estimator__min_samples_split=2, n_estimators=50;, score=0.836 total time=   0.1s\n",
      "[CV 2/5] END estimator__max_depth=None, estimator__min_samples_leaf=10, estimator__min_samples_split=2, n_estimators=50;, score=0.838 total time=   0.1s\n",
      "[CV 3/5] END estimator__max_depth=None, estimator__min_samples_leaf=10, estimator__min_samples_split=2, n_estimators=50;, score=0.874 total time=   0.1s\n",
      "[CV 4/5] END estimator__max_depth=None, estimator__min_samples_leaf=10, estimator__min_samples_split=2, n_estimators=50;, score=0.863 total time=   0.1s\n",
      "[CV 5/5] END estimator__max_depth=None, estimator__min_samples_leaf=10, estimator__min_samples_split=2, n_estimators=50;, score=0.846 total time=   0.1s\n",
      "[CV 1/5] END estimator__max_depth=None, estimator__min_samples_leaf=10, estimator__min_samples_split=5, n_estimators=10;, score=0.833 total time=   0.0s\n",
      "[CV 2/5] END estimator__max_depth=None, estimator__min_samples_leaf=10, estimator__min_samples_split=5, n_estimators=10;, score=0.830 total time=   0.0s\n",
      "[CV 3/5] END estimator__max_depth=None, estimator__min_samples_leaf=10, estimator__min_samples_split=5, n_estimators=10;, score=0.868 total time=   0.0s\n",
      "[CV 4/5] END estimator__max_depth=None, estimator__min_samples_leaf=10, estimator__min_samples_split=5, n_estimators=10;, score=0.851 total time=   0.0s\n",
      "[CV 5/5] END estimator__max_depth=None, estimator__min_samples_leaf=10, estimator__min_samples_split=5, n_estimators=10;, score=0.845 total time=   0.0s\n"
     ]
    },
    {
     "name": "stdout",
     "output_type": "stream",
     "text": [
      "[CV 1/5] END estimator__max_depth=None, estimator__min_samples_leaf=10, estimator__min_samples_split=5, n_estimators=30;, score=0.833 total time=   0.1s\n",
      "[CV 2/5] END estimator__max_depth=None, estimator__min_samples_leaf=10, estimator__min_samples_split=5, n_estimators=30;, score=0.838 total time=   0.1s\n",
      "[CV 3/5] END estimator__max_depth=None, estimator__min_samples_leaf=10, estimator__min_samples_split=5, n_estimators=30;, score=0.874 total time=   0.1s\n",
      "[CV 4/5] END estimator__max_depth=None, estimator__min_samples_leaf=10, estimator__min_samples_split=5, n_estimators=30;, score=0.860 total time=   0.1s\n",
      "[CV 5/5] END estimator__max_depth=None, estimator__min_samples_leaf=10, estimator__min_samples_split=5, n_estimators=30;, score=0.847 total time=   0.1s\n",
      "[CV 1/5] END estimator__max_depth=None, estimator__min_samples_leaf=10, estimator__min_samples_split=5, n_estimators=50;, score=0.836 total time=   0.1s\n",
      "[CV 2/5] END estimator__max_depth=None, estimator__min_samples_leaf=10, estimator__min_samples_split=5, n_estimators=50;, score=0.838 total time=   0.1s\n",
      "[CV 3/5] END estimator__max_depth=None, estimator__min_samples_leaf=10, estimator__min_samples_split=5, n_estimators=50;, score=0.874 total time=   0.2s\n",
      "[CV 4/5] END estimator__max_depth=None, estimator__min_samples_leaf=10, estimator__min_samples_split=5, n_estimators=50;, score=0.863 total time=   0.1s\n",
      "[CV 5/5] END estimator__max_depth=None, estimator__min_samples_leaf=10, estimator__min_samples_split=5, n_estimators=50;, score=0.846 total time=   0.1s\n",
      "[CV 1/5] END estimator__max_depth=None, estimator__min_samples_leaf=10, estimator__min_samples_split=10, n_estimators=10;, score=0.833 total time=   0.0s\n",
      "[CV 2/5] END estimator__max_depth=None, estimator__min_samples_leaf=10, estimator__min_samples_split=10, n_estimators=10;, score=0.830 total time=   0.0s\n",
      "[CV 3/5] END estimator__max_depth=None, estimator__min_samples_leaf=10, estimator__min_samples_split=10, n_estimators=10;, score=0.868 total time=   0.0s\n",
      "[CV 4/5] END estimator__max_depth=None, estimator__min_samples_leaf=10, estimator__min_samples_split=10, n_estimators=10;, score=0.851 total time=   0.0s\n",
      "[CV 5/5] END estimator__max_depth=None, estimator__min_samples_leaf=10, estimator__min_samples_split=10, n_estimators=10;, score=0.845 total time=   0.0s\n",
      "[CV 1/5] END estimator__max_depth=None, estimator__min_samples_leaf=10, estimator__min_samples_split=10, n_estimators=30;, score=0.833 total time=   0.1s\n",
      "[CV 2/5] END estimator__max_depth=None, estimator__min_samples_leaf=10, estimator__min_samples_split=10, n_estimators=30;, score=0.838 total time=   0.1s\n",
      "[CV 3/5] END estimator__max_depth=None, estimator__min_samples_leaf=10, estimator__min_samples_split=10, n_estimators=30;, score=0.874 total time=   0.1s\n",
      "[CV 4/5] END estimator__max_depth=None, estimator__min_samples_leaf=10, estimator__min_samples_split=10, n_estimators=30;, score=0.860 total time=   0.1s\n",
      "[CV 5/5] END estimator__max_depth=None, estimator__min_samples_leaf=10, estimator__min_samples_split=10, n_estimators=30;, score=0.847 total time=   0.1s\n",
      "[CV 1/5] END estimator__max_depth=None, estimator__min_samples_leaf=10, estimator__min_samples_split=10, n_estimators=50;, score=0.836 total time=   0.1s\n",
      "[CV 2/5] END estimator__max_depth=None, estimator__min_samples_leaf=10, estimator__min_samples_split=10, n_estimators=50;, score=0.838 total time=   0.1s\n",
      "[CV 3/5] END estimator__max_depth=None, estimator__min_samples_leaf=10, estimator__min_samples_split=10, n_estimators=50;, score=0.874 total time=   0.1s\n",
      "[CV 4/5] END estimator__max_depth=None, estimator__min_samples_leaf=10, estimator__min_samples_split=10, n_estimators=50;, score=0.863 total time=   0.1s\n",
      "[CV 5/5] END estimator__max_depth=None, estimator__min_samples_leaf=10, estimator__min_samples_split=10, n_estimators=50;, score=0.846 total time=   0.2s\n",
      "[CV 1/5] END estimator__max_depth=3, estimator__min_samples_leaf=1, estimator__min_samples_split=2, n_estimators=10;, score=0.690 total time=   0.0s\n",
      "[CV 2/5] END estimator__max_depth=3, estimator__min_samples_leaf=1, estimator__min_samples_split=2, n_estimators=10;, score=0.669 total time=   0.0s\n",
      "[CV 3/5] END estimator__max_depth=3, estimator__min_samples_leaf=1, estimator__min_samples_split=2, n_estimators=10;, score=0.730 total time=   0.0s\n",
      "[CV 4/5] END estimator__max_depth=3, estimator__min_samples_leaf=1, estimator__min_samples_split=2, n_estimators=10;, score=0.682 total time=   0.0s\n",
      "[CV 5/5] END estimator__max_depth=3, estimator__min_samples_leaf=1, estimator__min_samples_split=2, n_estimators=10;, score=0.672 total time=   0.0s\n",
      "[CV 1/5] END estimator__max_depth=3, estimator__min_samples_leaf=1, estimator__min_samples_split=2, n_estimators=30;, score=0.674 total time=   0.1s\n",
      "[CV 2/5] END estimator__max_depth=3, estimator__min_samples_leaf=1, estimator__min_samples_split=2, n_estimators=30;, score=0.687 total time=   0.1s\n",
      "[CV 3/5] END estimator__max_depth=3, estimator__min_samples_leaf=1, estimator__min_samples_split=2, n_estimators=30;, score=0.743 total time=   0.1s\n",
      "[CV 4/5] END estimator__max_depth=3, estimator__min_samples_leaf=1, estimator__min_samples_split=2, n_estimators=30;, score=0.682 total time=   0.1s\n",
      "[CV 5/5] END estimator__max_depth=3, estimator__min_samples_leaf=1, estimator__min_samples_split=2, n_estimators=30;, score=0.671 total time=   0.1s\n",
      "[CV 1/5] END estimator__max_depth=3, estimator__min_samples_leaf=1, estimator__min_samples_split=2, n_estimators=50;, score=0.676 total time=   0.1s\n",
      "[CV 2/5] END estimator__max_depth=3, estimator__min_samples_leaf=1, estimator__min_samples_split=2, n_estimators=50;, score=0.682 total time=   0.1s\n",
      "[CV 3/5] END estimator__max_depth=3, estimator__min_samples_leaf=1, estimator__min_samples_split=2, n_estimators=50;, score=0.738 total time=   0.1s\n",
      "[CV 4/5] END estimator__max_depth=3, estimator__min_samples_leaf=1, estimator__min_samples_split=2, n_estimators=50;, score=0.682 total time=   0.1s\n",
      "[CV 5/5] END estimator__max_depth=3, estimator__min_samples_leaf=1, estimator__min_samples_split=2, n_estimators=50;, score=0.672 total time=   0.1s\n",
      "[CV 1/5] END estimator__max_depth=3, estimator__min_samples_leaf=1, estimator__min_samples_split=5, n_estimators=10;, score=0.690 total time=   0.0s\n",
      "[CV 2/5] END estimator__max_depth=3, estimator__min_samples_leaf=1, estimator__min_samples_split=5, n_estimators=10;, score=0.669 total time=   0.0s\n",
      "[CV 3/5] END estimator__max_depth=3, estimator__min_samples_leaf=1, estimator__min_samples_split=5, n_estimators=10;, score=0.730 total time=   0.0s\n",
      "[CV 4/5] END estimator__max_depth=3, estimator__min_samples_leaf=1, estimator__min_samples_split=5, n_estimators=10;, score=0.682 total time=   0.0s\n",
      "[CV 5/5] END estimator__max_depth=3, estimator__min_samples_leaf=1, estimator__min_samples_split=5, n_estimators=10;, score=0.672 total time=   0.0s\n",
      "[CV 1/5] END estimator__max_depth=3, estimator__min_samples_leaf=1, estimator__min_samples_split=5, n_estimators=30;, score=0.674 total time=   0.1s\n",
      "[CV 2/5] END estimator__max_depth=3, estimator__min_samples_leaf=1, estimator__min_samples_split=5, n_estimators=30;, score=0.687 total time=   0.1s\n",
      "[CV 3/5] END estimator__max_depth=3, estimator__min_samples_leaf=1, estimator__min_samples_split=5, n_estimators=30;, score=0.743 total time=   0.1s\n",
      "[CV 4/5] END estimator__max_depth=3, estimator__min_samples_leaf=1, estimator__min_samples_split=5, n_estimators=30;, score=0.682 total time=   0.1s\n",
      "[CV 5/5] END estimator__max_depth=3, estimator__min_samples_leaf=1, estimator__min_samples_split=5, n_estimators=30;, score=0.671 total time=   0.1s\n",
      "[CV 1/5] END estimator__max_depth=3, estimator__min_samples_leaf=1, estimator__min_samples_split=5, n_estimators=50;, score=0.676 total time=   0.1s\n",
      "[CV 2/5] END estimator__max_depth=3, estimator__min_samples_leaf=1, estimator__min_samples_split=5, n_estimators=50;, score=0.682 total time=   0.1s\n",
      "[CV 3/5] END estimator__max_depth=3, estimator__min_samples_leaf=1, estimator__min_samples_split=5, n_estimators=50;, score=0.738 total time=   0.1s\n",
      "[CV 4/5] END estimator__max_depth=3, estimator__min_samples_leaf=1, estimator__min_samples_split=5, n_estimators=50;, score=0.682 total time=   0.1s\n",
      "[CV 5/5] END estimator__max_depth=3, estimator__min_samples_leaf=1, estimator__min_samples_split=5, n_estimators=50;, score=0.672 total time=   0.1s\n",
      "[CV 1/5] END estimator__max_depth=3, estimator__min_samples_leaf=1, estimator__min_samples_split=10, n_estimators=10;, score=0.690 total time=   0.0s\n",
      "[CV 2/5] END estimator__max_depth=3, estimator__min_samples_leaf=1, estimator__min_samples_split=10, n_estimators=10;, score=0.669 total time=   0.0s\n",
      "[CV 3/5] END estimator__max_depth=3, estimator__min_samples_leaf=1, estimator__min_samples_split=10, n_estimators=10;, score=0.730 total time=   0.0s\n",
      "[CV 4/5] END estimator__max_depth=3, estimator__min_samples_leaf=1, estimator__min_samples_split=10, n_estimators=10;, score=0.682 total time=   0.0s\n",
      "[CV 5/5] END estimator__max_depth=3, estimator__min_samples_leaf=1, estimator__min_samples_split=10, n_estimators=10;, score=0.672 total time=   0.0s\n",
      "[CV 1/5] END estimator__max_depth=3, estimator__min_samples_leaf=1, estimator__min_samples_split=10, n_estimators=30;, score=0.674 total time=   0.1s\n"
     ]
    },
    {
     "name": "stdout",
     "output_type": "stream",
     "text": [
      "[CV 2/5] END estimator__max_depth=3, estimator__min_samples_leaf=1, estimator__min_samples_split=10, n_estimators=30;, score=0.687 total time=   0.1s\n",
      "[CV 3/5] END estimator__max_depth=3, estimator__min_samples_leaf=1, estimator__min_samples_split=10, n_estimators=30;, score=0.743 total time=   0.1s\n",
      "[CV 4/5] END estimator__max_depth=3, estimator__min_samples_leaf=1, estimator__min_samples_split=10, n_estimators=30;, score=0.682 total time=   0.1s\n",
      "[CV 5/5] END estimator__max_depth=3, estimator__min_samples_leaf=1, estimator__min_samples_split=10, n_estimators=30;, score=0.671 total time=   0.1s\n",
      "[CV 1/5] END estimator__max_depth=3, estimator__min_samples_leaf=1, estimator__min_samples_split=10, n_estimators=50;, score=0.676 total time=   0.1s\n",
      "[CV 2/5] END estimator__max_depth=3, estimator__min_samples_leaf=1, estimator__min_samples_split=10, n_estimators=50;, score=0.682 total time=   0.1s\n",
      "[CV 3/5] END estimator__max_depth=3, estimator__min_samples_leaf=1, estimator__min_samples_split=10, n_estimators=50;, score=0.738 total time=   0.1s\n",
      "[CV 4/5] END estimator__max_depth=3, estimator__min_samples_leaf=1, estimator__min_samples_split=10, n_estimators=50;, score=0.682 total time=   0.1s\n",
      "[CV 5/5] END estimator__max_depth=3, estimator__min_samples_leaf=1, estimator__min_samples_split=10, n_estimators=50;, score=0.672 total time=   0.1s\n",
      "[CV 1/5] END estimator__max_depth=3, estimator__min_samples_leaf=5, estimator__min_samples_split=2, n_estimators=10;, score=0.690 total time=   0.0s\n",
      "[CV 2/5] END estimator__max_depth=3, estimator__min_samples_leaf=5, estimator__min_samples_split=2, n_estimators=10;, score=0.666 total time=   0.0s\n",
      "[CV 3/5] END estimator__max_depth=3, estimator__min_samples_leaf=5, estimator__min_samples_split=2, n_estimators=10;, score=0.730 total time=   0.0s\n",
      "[CV 4/5] END estimator__max_depth=3, estimator__min_samples_leaf=5, estimator__min_samples_split=2, n_estimators=10;, score=0.682 total time=   0.0s\n",
      "[CV 5/5] END estimator__max_depth=3, estimator__min_samples_leaf=5, estimator__min_samples_split=2, n_estimators=10;, score=0.672 total time=   0.0s\n",
      "[CV 1/5] END estimator__max_depth=3, estimator__min_samples_leaf=5, estimator__min_samples_split=2, n_estimators=30;, score=0.673 total time=   0.1s\n",
      "[CV 2/5] END estimator__max_depth=3, estimator__min_samples_leaf=5, estimator__min_samples_split=2, n_estimators=30;, score=0.686 total time=   0.1s\n",
      "[CV 3/5] END estimator__max_depth=3, estimator__min_samples_leaf=5, estimator__min_samples_split=2, n_estimators=30;, score=0.743 total time=   0.1s\n",
      "[CV 4/5] END estimator__max_depth=3, estimator__min_samples_leaf=5, estimator__min_samples_split=2, n_estimators=30;, score=0.683 total time=   0.1s\n",
      "[CV 5/5] END estimator__max_depth=3, estimator__min_samples_leaf=5, estimator__min_samples_split=2, n_estimators=30;, score=0.671 total time=   0.1s\n",
      "[CV 1/5] END estimator__max_depth=3, estimator__min_samples_leaf=5, estimator__min_samples_split=2, n_estimators=50;, score=0.675 total time=   0.1s\n",
      "[CV 2/5] END estimator__max_depth=3, estimator__min_samples_leaf=5, estimator__min_samples_split=2, n_estimators=50;, score=0.681 total time=   0.1s\n",
      "[CV 3/5] END estimator__max_depth=3, estimator__min_samples_leaf=5, estimator__min_samples_split=2, n_estimators=50;, score=0.738 total time=   0.1s\n",
      "[CV 4/5] END estimator__max_depth=3, estimator__min_samples_leaf=5, estimator__min_samples_split=2, n_estimators=50;, score=0.683 total time=   0.1s\n",
      "[CV 5/5] END estimator__max_depth=3, estimator__min_samples_leaf=5, estimator__min_samples_split=2, n_estimators=50;, score=0.672 total time=   0.1s\n",
      "[CV 1/5] END estimator__max_depth=3, estimator__min_samples_leaf=5, estimator__min_samples_split=5, n_estimators=10;, score=0.690 total time=   0.0s\n",
      "[CV 2/5] END estimator__max_depth=3, estimator__min_samples_leaf=5, estimator__min_samples_split=5, n_estimators=10;, score=0.666 total time=   0.0s\n",
      "[CV 3/5] END estimator__max_depth=3, estimator__min_samples_leaf=5, estimator__min_samples_split=5, n_estimators=10;, score=0.730 total time=   0.0s\n",
      "[CV 4/5] END estimator__max_depth=3, estimator__min_samples_leaf=5, estimator__min_samples_split=5, n_estimators=10;, score=0.682 total time=   0.0s\n",
      "[CV 5/5] END estimator__max_depth=3, estimator__min_samples_leaf=5, estimator__min_samples_split=5, n_estimators=10;, score=0.672 total time=   0.0s\n",
      "[CV 1/5] END estimator__max_depth=3, estimator__min_samples_leaf=5, estimator__min_samples_split=5, n_estimators=30;, score=0.673 total time=   0.1s\n",
      "[CV 2/5] END estimator__max_depth=3, estimator__min_samples_leaf=5, estimator__min_samples_split=5, n_estimators=30;, score=0.686 total time=   0.1s\n",
      "[CV 3/5] END estimator__max_depth=3, estimator__min_samples_leaf=5, estimator__min_samples_split=5, n_estimators=30;, score=0.743 total time=   0.1s\n",
      "[CV 4/5] END estimator__max_depth=3, estimator__min_samples_leaf=5, estimator__min_samples_split=5, n_estimators=30;, score=0.683 total time=   0.1s\n",
      "[CV 5/5] END estimator__max_depth=3, estimator__min_samples_leaf=5, estimator__min_samples_split=5, n_estimators=30;, score=0.671 total time=   0.1s\n",
      "[CV 1/5] END estimator__max_depth=3, estimator__min_samples_leaf=5, estimator__min_samples_split=5, n_estimators=50;, score=0.675 total time=   0.1s\n",
      "[CV 2/5] END estimator__max_depth=3, estimator__min_samples_leaf=5, estimator__min_samples_split=5, n_estimators=50;, score=0.681 total time=   0.1s\n",
      "[CV 3/5] END estimator__max_depth=3, estimator__min_samples_leaf=5, estimator__min_samples_split=5, n_estimators=50;, score=0.738 total time=   0.1s\n",
      "[CV 4/5] END estimator__max_depth=3, estimator__min_samples_leaf=5, estimator__min_samples_split=5, n_estimators=50;, score=0.683 total time=   0.1s\n",
      "[CV 5/5] END estimator__max_depth=3, estimator__min_samples_leaf=5, estimator__min_samples_split=5, n_estimators=50;, score=0.672 total time=   0.1s\n",
      "[CV 1/5] END estimator__max_depth=3, estimator__min_samples_leaf=5, estimator__min_samples_split=10, n_estimators=10;, score=0.690 total time=   0.0s\n",
      "[CV 2/5] END estimator__max_depth=3, estimator__min_samples_leaf=5, estimator__min_samples_split=10, n_estimators=10;, score=0.666 total time=   0.0s\n",
      "[CV 3/5] END estimator__max_depth=3, estimator__min_samples_leaf=5, estimator__min_samples_split=10, n_estimators=10;, score=0.730 total time=   0.0s\n",
      "[CV 4/5] END estimator__max_depth=3, estimator__min_samples_leaf=5, estimator__min_samples_split=10, n_estimators=10;, score=0.682 total time=   0.0s\n",
      "[CV 5/5] END estimator__max_depth=3, estimator__min_samples_leaf=5, estimator__min_samples_split=10, n_estimators=10;, score=0.672 total time=   0.0s\n",
      "[CV 1/5] END estimator__max_depth=3, estimator__min_samples_leaf=5, estimator__min_samples_split=10, n_estimators=30;, score=0.673 total time=   0.1s\n",
      "[CV 2/5] END estimator__max_depth=3, estimator__min_samples_leaf=5, estimator__min_samples_split=10, n_estimators=30;, score=0.686 total time=   0.1s\n",
      "[CV 3/5] END estimator__max_depth=3, estimator__min_samples_leaf=5, estimator__min_samples_split=10, n_estimators=30;, score=0.743 total time=   0.1s\n",
      "[CV 4/5] END estimator__max_depth=3, estimator__min_samples_leaf=5, estimator__min_samples_split=10, n_estimators=30;, score=0.683 total time=   0.1s\n",
      "[CV 5/5] END estimator__max_depth=3, estimator__min_samples_leaf=5, estimator__min_samples_split=10, n_estimators=30;, score=0.671 total time=   0.1s\n",
      "[CV 1/5] END estimator__max_depth=3, estimator__min_samples_leaf=5, estimator__min_samples_split=10, n_estimators=50;, score=0.675 total time=   0.1s\n",
      "[CV 2/5] END estimator__max_depth=3, estimator__min_samples_leaf=5, estimator__min_samples_split=10, n_estimators=50;, score=0.681 total time=   0.1s\n",
      "[CV 3/5] END estimator__max_depth=3, estimator__min_samples_leaf=5, estimator__min_samples_split=10, n_estimators=50;, score=0.738 total time=   0.1s\n",
      "[CV 4/5] END estimator__max_depth=3, estimator__min_samples_leaf=5, estimator__min_samples_split=10, n_estimators=50;, score=0.683 total time=   0.1s\n",
      "[CV 5/5] END estimator__max_depth=3, estimator__min_samples_leaf=5, estimator__min_samples_split=10, n_estimators=50;, score=0.672 total time=   0.1s\n",
      "[CV 1/5] END estimator__max_depth=3, estimator__min_samples_leaf=10, estimator__min_samples_split=2, n_estimators=10;, score=0.695 total time=   0.0s\n",
      "[CV 2/5] END estimator__max_depth=3, estimator__min_samples_leaf=10, estimator__min_samples_split=2, n_estimators=10;, score=0.663 total time=   0.0s\n",
      "[CV 3/5] END estimator__max_depth=3, estimator__min_samples_leaf=10, estimator__min_samples_split=2, n_estimators=10;, score=0.730 total time=   0.0s\n"
     ]
    },
    {
     "name": "stdout",
     "output_type": "stream",
     "text": [
      "[CV 4/5] END estimator__max_depth=3, estimator__min_samples_leaf=10, estimator__min_samples_split=2, n_estimators=10;, score=0.683 total time=   0.0s\n",
      "[CV 5/5] END estimator__max_depth=3, estimator__min_samples_leaf=10, estimator__min_samples_split=2, n_estimators=10;, score=0.672 total time=   0.0s\n",
      "[CV 1/5] END estimator__max_depth=3, estimator__min_samples_leaf=10, estimator__min_samples_split=2, n_estimators=30;, score=0.674 total time=   0.1s\n",
      "[CV 2/5] END estimator__max_depth=3, estimator__min_samples_leaf=10, estimator__min_samples_split=2, n_estimators=30;, score=0.684 total time=   0.1s\n",
      "[CV 3/5] END estimator__max_depth=3, estimator__min_samples_leaf=10, estimator__min_samples_split=2, n_estimators=30;, score=0.740 total time=   0.1s\n",
      "[CV 4/5] END estimator__max_depth=3, estimator__min_samples_leaf=10, estimator__min_samples_split=2, n_estimators=30;, score=0.683 total time=   0.1s\n",
      "[CV 5/5] END estimator__max_depth=3, estimator__min_samples_leaf=10, estimator__min_samples_split=2, n_estimators=30;, score=0.671 total time=   0.1s\n",
      "[CV 1/5] END estimator__max_depth=3, estimator__min_samples_leaf=10, estimator__min_samples_split=2, n_estimators=50;, score=0.676 total time=   0.1s\n",
      "[CV 2/5] END estimator__max_depth=3, estimator__min_samples_leaf=10, estimator__min_samples_split=2, n_estimators=50;, score=0.680 total time=   0.1s\n",
      "[CV 3/5] END estimator__max_depth=3, estimator__min_samples_leaf=10, estimator__min_samples_split=2, n_estimators=50;, score=0.735 total time=   0.1s\n",
      "[CV 4/5] END estimator__max_depth=3, estimator__min_samples_leaf=10, estimator__min_samples_split=2, n_estimators=50;, score=0.683 total time=   0.1s\n",
      "[CV 5/5] END estimator__max_depth=3, estimator__min_samples_leaf=10, estimator__min_samples_split=2, n_estimators=50;, score=0.672 total time=   0.1s\n",
      "[CV 1/5] END estimator__max_depth=3, estimator__min_samples_leaf=10, estimator__min_samples_split=5, n_estimators=10;, score=0.695 total time=   0.0s\n",
      "[CV 2/5] END estimator__max_depth=3, estimator__min_samples_leaf=10, estimator__min_samples_split=5, n_estimators=10;, score=0.663 total time=   0.0s\n",
      "[CV 3/5] END estimator__max_depth=3, estimator__min_samples_leaf=10, estimator__min_samples_split=5, n_estimators=10;, score=0.730 total time=   0.0s\n",
      "[CV 4/5] END estimator__max_depth=3, estimator__min_samples_leaf=10, estimator__min_samples_split=5, n_estimators=10;, score=0.683 total time=   0.0s\n",
      "[CV 5/5] END estimator__max_depth=3, estimator__min_samples_leaf=10, estimator__min_samples_split=5, n_estimators=10;, score=0.672 total time=   0.0s\n",
      "[CV 1/5] END estimator__max_depth=3, estimator__min_samples_leaf=10, estimator__min_samples_split=5, n_estimators=30;, score=0.674 total time=   0.1s\n",
      "[CV 2/5] END estimator__max_depth=3, estimator__min_samples_leaf=10, estimator__min_samples_split=5, n_estimators=30;, score=0.684 total time=   0.1s\n",
      "[CV 3/5] END estimator__max_depth=3, estimator__min_samples_leaf=10, estimator__min_samples_split=5, n_estimators=30;, score=0.740 total time=   0.1s\n",
      "[CV 4/5] END estimator__max_depth=3, estimator__min_samples_leaf=10, estimator__min_samples_split=5, n_estimators=30;, score=0.683 total time=   0.1s\n",
      "[CV 5/5] END estimator__max_depth=3, estimator__min_samples_leaf=10, estimator__min_samples_split=5, n_estimators=30;, score=0.671 total time=   0.1s\n",
      "[CV 1/5] END estimator__max_depth=3, estimator__min_samples_leaf=10, estimator__min_samples_split=5, n_estimators=50;, score=0.676 total time=   0.1s\n",
      "[CV 2/5] END estimator__max_depth=3, estimator__min_samples_leaf=10, estimator__min_samples_split=5, n_estimators=50;, score=0.680 total time=   0.1s\n",
      "[CV 3/5] END estimator__max_depth=3, estimator__min_samples_leaf=10, estimator__min_samples_split=5, n_estimators=50;, score=0.735 total time=   0.1s\n",
      "[CV 4/5] END estimator__max_depth=3, estimator__min_samples_leaf=10, estimator__min_samples_split=5, n_estimators=50;, score=0.683 total time=   0.1s\n",
      "[CV 5/5] END estimator__max_depth=3, estimator__min_samples_leaf=10, estimator__min_samples_split=5, n_estimators=50;, score=0.672 total time=   0.1s\n",
      "[CV 1/5] END estimator__max_depth=3, estimator__min_samples_leaf=10, estimator__min_samples_split=10, n_estimators=10;, score=0.695 total time=   0.0s\n",
      "[CV 2/5] END estimator__max_depth=3, estimator__min_samples_leaf=10, estimator__min_samples_split=10, n_estimators=10;, score=0.663 total time=   0.0s\n",
      "[CV 3/5] END estimator__max_depth=3, estimator__min_samples_leaf=10, estimator__min_samples_split=10, n_estimators=10;, score=0.730 total time=   0.0s\n",
      "[CV 4/5] END estimator__max_depth=3, estimator__min_samples_leaf=10, estimator__min_samples_split=10, n_estimators=10;, score=0.683 total time=   0.0s\n",
      "[CV 5/5] END estimator__max_depth=3, estimator__min_samples_leaf=10, estimator__min_samples_split=10, n_estimators=10;, score=0.672 total time=   0.0s\n",
      "[CV 1/5] END estimator__max_depth=3, estimator__min_samples_leaf=10, estimator__min_samples_split=10, n_estimators=30;, score=0.674 total time=   0.1s\n",
      "[CV 2/5] END estimator__max_depth=3, estimator__min_samples_leaf=10, estimator__min_samples_split=10, n_estimators=30;, score=0.684 total time=   0.1s\n",
      "[CV 3/5] END estimator__max_depth=3, estimator__min_samples_leaf=10, estimator__min_samples_split=10, n_estimators=30;, score=0.740 total time=   0.1s\n",
      "[CV 4/5] END estimator__max_depth=3, estimator__min_samples_leaf=10, estimator__min_samples_split=10, n_estimators=30;, score=0.683 total time=   0.1s\n",
      "[CV 5/5] END estimator__max_depth=3, estimator__min_samples_leaf=10, estimator__min_samples_split=10, n_estimators=30;, score=0.671 total time=   0.1s\n",
      "[CV 1/5] END estimator__max_depth=3, estimator__min_samples_leaf=10, estimator__min_samples_split=10, n_estimators=50;, score=0.676 total time=   0.1s\n",
      "[CV 2/5] END estimator__max_depth=3, estimator__min_samples_leaf=10, estimator__min_samples_split=10, n_estimators=50;, score=0.680 total time=   0.1s\n",
      "[CV 3/5] END estimator__max_depth=3, estimator__min_samples_leaf=10, estimator__min_samples_split=10, n_estimators=50;, score=0.735 total time=   0.1s\n",
      "[CV 4/5] END estimator__max_depth=3, estimator__min_samples_leaf=10, estimator__min_samples_split=10, n_estimators=50;, score=0.683 total time=   0.1s\n",
      "[CV 5/5] END estimator__max_depth=3, estimator__min_samples_leaf=10, estimator__min_samples_split=10, n_estimators=50;, score=0.672 total time=   0.1s\n",
      "[CV 1/5] END estimator__max_depth=5, estimator__min_samples_leaf=1, estimator__min_samples_split=2, n_estimators=10;, score=0.817 total time=   0.0s\n",
      "[CV 2/5] END estimator__max_depth=5, estimator__min_samples_leaf=1, estimator__min_samples_split=2, n_estimators=10;, score=0.820 total time=   0.0s\n",
      "[CV 3/5] END estimator__max_depth=5, estimator__min_samples_leaf=1, estimator__min_samples_split=2, n_estimators=10;, score=0.864 total time=   0.0s\n",
      "[CV 4/5] END estimator__max_depth=5, estimator__min_samples_leaf=1, estimator__min_samples_split=2, n_estimators=10;, score=0.826 total time=   0.0s\n",
      "[CV 5/5] END estimator__max_depth=5, estimator__min_samples_leaf=1, estimator__min_samples_split=2, n_estimators=10;, score=0.836 total time=   0.0s\n",
      "[CV 1/5] END estimator__max_depth=5, estimator__min_samples_leaf=1, estimator__min_samples_split=2, n_estimators=30;, score=0.814 total time=   0.1s\n",
      "[CV 2/5] END estimator__max_depth=5, estimator__min_samples_leaf=1, estimator__min_samples_split=2, n_estimators=30;, score=0.828 total time=   0.1s\n",
      "[CV 3/5] END estimator__max_depth=5, estimator__min_samples_leaf=1, estimator__min_samples_split=2, n_estimators=30;, score=0.876 total time=   0.1s\n",
      "[CV 4/5] END estimator__max_depth=5, estimator__min_samples_leaf=1, estimator__min_samples_split=2, n_estimators=30;, score=0.830 total time=   0.1s\n",
      "[CV 5/5] END estimator__max_depth=5, estimator__min_samples_leaf=1, estimator__min_samples_split=2, n_estimators=30;, score=0.829 total time=   0.1s\n",
      "[CV 1/5] END estimator__max_depth=5, estimator__min_samples_leaf=1, estimator__min_samples_split=2, n_estimators=50;, score=0.819 total time=   0.1s\n",
      "[CV 2/5] END estimator__max_depth=5, estimator__min_samples_leaf=1, estimator__min_samples_split=2, n_estimators=50;, score=0.828 total time=   0.1s\n",
      "[CV 3/5] END estimator__max_depth=5, estimator__min_samples_leaf=1, estimator__min_samples_split=2, n_estimators=50;, score=0.875 total time=   0.1s\n",
      "[CV 4/5] END estimator__max_depth=5, estimator__min_samples_leaf=1, estimator__min_samples_split=2, n_estimators=50;, score=0.833 total time=   0.1s\n"
     ]
    },
    {
     "name": "stdout",
     "output_type": "stream",
     "text": [
      "[CV 5/5] END estimator__max_depth=5, estimator__min_samples_leaf=1, estimator__min_samples_split=2, n_estimators=50;, score=0.830 total time=   0.1s\n",
      "[CV 1/5] END estimator__max_depth=5, estimator__min_samples_leaf=1, estimator__min_samples_split=5, n_estimators=10;, score=0.817 total time=   0.0s\n",
      "[CV 2/5] END estimator__max_depth=5, estimator__min_samples_leaf=1, estimator__min_samples_split=5, n_estimators=10;, score=0.821 total time=   0.0s\n",
      "[CV 3/5] END estimator__max_depth=5, estimator__min_samples_leaf=1, estimator__min_samples_split=5, n_estimators=10;, score=0.864 total time=   0.0s\n",
      "[CV 4/5] END estimator__max_depth=5, estimator__min_samples_leaf=1, estimator__min_samples_split=5, n_estimators=10;, score=0.825 total time=   0.0s\n",
      "[CV 5/5] END estimator__max_depth=5, estimator__min_samples_leaf=1, estimator__min_samples_split=5, n_estimators=10;, score=0.836 total time=   0.0s\n",
      "[CV 1/5] END estimator__max_depth=5, estimator__min_samples_leaf=1, estimator__min_samples_split=5, n_estimators=30;, score=0.815 total time=   0.1s\n",
      "[CV 2/5] END estimator__max_depth=5, estimator__min_samples_leaf=1, estimator__min_samples_split=5, n_estimators=30;, score=0.828 total time=   0.1s\n",
      "[CV 3/5] END estimator__max_depth=5, estimator__min_samples_leaf=1, estimator__min_samples_split=5, n_estimators=30;, score=0.876 total time=   0.1s\n",
      "[CV 4/5] END estimator__max_depth=5, estimator__min_samples_leaf=1, estimator__min_samples_split=5, n_estimators=30;, score=0.830 total time=   0.1s\n",
      "[CV 5/5] END estimator__max_depth=5, estimator__min_samples_leaf=1, estimator__min_samples_split=5, n_estimators=30;, score=0.829 total time=   0.1s\n",
      "[CV 1/5] END estimator__max_depth=5, estimator__min_samples_leaf=1, estimator__min_samples_split=5, n_estimators=50;, score=0.820 total time=   0.1s\n",
      "[CV 2/5] END estimator__max_depth=5, estimator__min_samples_leaf=1, estimator__min_samples_split=5, n_estimators=50;, score=0.829 total time=   0.1s\n",
      "[CV 3/5] END estimator__max_depth=5, estimator__min_samples_leaf=1, estimator__min_samples_split=5, n_estimators=50;, score=0.875 total time=   0.1s\n",
      "[CV 4/5] END estimator__max_depth=5, estimator__min_samples_leaf=1, estimator__min_samples_split=5, n_estimators=50;, score=0.833 total time=   0.1s\n",
      "[CV 5/5] END estimator__max_depth=5, estimator__min_samples_leaf=1, estimator__min_samples_split=5, n_estimators=50;, score=0.830 total time=   0.1s\n",
      "[CV 1/5] END estimator__max_depth=5, estimator__min_samples_leaf=1, estimator__min_samples_split=10, n_estimators=10;, score=0.814 total time=   0.0s\n",
      "[CV 2/5] END estimator__max_depth=5, estimator__min_samples_leaf=1, estimator__min_samples_split=10, n_estimators=10;, score=0.818 total time=   0.0s\n",
      "[CV 3/5] END estimator__max_depth=5, estimator__min_samples_leaf=1, estimator__min_samples_split=10, n_estimators=10;, score=0.862 total time=   0.0s\n",
      "[CV 4/5] END estimator__max_depth=5, estimator__min_samples_leaf=1, estimator__min_samples_split=10, n_estimators=10;, score=0.824 total time=   0.0s\n",
      "[CV 5/5] END estimator__max_depth=5, estimator__min_samples_leaf=1, estimator__min_samples_split=10, n_estimators=10;, score=0.832 total time=   0.0s\n",
      "[CV 1/5] END estimator__max_depth=5, estimator__min_samples_leaf=1, estimator__min_samples_split=10, n_estimators=30;, score=0.811 total time=   0.1s\n",
      "[CV 2/5] END estimator__max_depth=5, estimator__min_samples_leaf=1, estimator__min_samples_split=10, n_estimators=30;, score=0.827 total time=   0.1s\n",
      "[CV 3/5] END estimator__max_depth=5, estimator__min_samples_leaf=1, estimator__min_samples_split=10, n_estimators=30;, score=0.874 total time=   0.1s\n",
      "[CV 4/5] END estimator__max_depth=5, estimator__min_samples_leaf=1, estimator__min_samples_split=10, n_estimators=30;, score=0.828 total time=   0.1s\n",
      "[CV 5/5] END estimator__max_depth=5, estimator__min_samples_leaf=1, estimator__min_samples_split=10, n_estimators=30;, score=0.826 total time=   0.1s\n",
      "[CV 1/5] END estimator__max_depth=5, estimator__min_samples_leaf=1, estimator__min_samples_split=10, n_estimators=50;, score=0.817 total time=   0.1s\n",
      "[CV 2/5] END estimator__max_depth=5, estimator__min_samples_leaf=1, estimator__min_samples_split=10, n_estimators=50;, score=0.828 total time=   0.1s\n",
      "[CV 3/5] END estimator__max_depth=5, estimator__min_samples_leaf=1, estimator__min_samples_split=10, n_estimators=50;, score=0.874 total time=   0.1s\n",
      "[CV 4/5] END estimator__max_depth=5, estimator__min_samples_leaf=1, estimator__min_samples_split=10, n_estimators=50;, score=0.831 total time=   0.1s\n",
      "[CV 5/5] END estimator__max_depth=5, estimator__min_samples_leaf=1, estimator__min_samples_split=10, n_estimators=50;, score=0.827 total time=   0.1s\n",
      "[CV 1/5] END estimator__max_depth=5, estimator__min_samples_leaf=5, estimator__min_samples_split=2, n_estimators=10;, score=0.813 total time=   0.0s\n",
      "[CV 2/5] END estimator__max_depth=5, estimator__min_samples_leaf=5, estimator__min_samples_split=2, n_estimators=10;, score=0.813 total time=   0.0s\n",
      "[CV 3/5] END estimator__max_depth=5, estimator__min_samples_leaf=5, estimator__min_samples_split=2, n_estimators=10;, score=0.859 total time=   0.0s\n",
      "[CV 4/5] END estimator__max_depth=5, estimator__min_samples_leaf=5, estimator__min_samples_split=2, n_estimators=10;, score=0.819 total time=   0.0s\n",
      "[CV 5/5] END estimator__max_depth=5, estimator__min_samples_leaf=5, estimator__min_samples_split=2, n_estimators=10;, score=0.834 total time=   0.0s\n",
      "[CV 1/5] END estimator__max_depth=5, estimator__min_samples_leaf=5, estimator__min_samples_split=2, n_estimators=30;, score=0.809 total time=   0.1s\n",
      "[CV 2/5] END estimator__max_depth=5, estimator__min_samples_leaf=5, estimator__min_samples_split=2, n_estimators=30;, score=0.817 total time=   0.1s\n",
      "[CV 3/5] END estimator__max_depth=5, estimator__min_samples_leaf=5, estimator__min_samples_split=2, n_estimators=30;, score=0.868 total time=   0.1s\n",
      "[CV 4/5] END estimator__max_depth=5, estimator__min_samples_leaf=5, estimator__min_samples_split=2, n_estimators=30;, score=0.824 total time=   0.1s\n",
      "[CV 5/5] END estimator__max_depth=5, estimator__min_samples_leaf=5, estimator__min_samples_split=2, n_estimators=30;, score=0.826 total time=   0.1s\n",
      "[CV 1/5] END estimator__max_depth=5, estimator__min_samples_leaf=5, estimator__min_samples_split=2, n_estimators=50;, score=0.815 total time=   0.1s\n",
      "[CV 2/5] END estimator__max_depth=5, estimator__min_samples_leaf=5, estimator__min_samples_split=2, n_estimators=50;, score=0.819 total time=   0.1s\n",
      "[CV 3/5] END estimator__max_depth=5, estimator__min_samples_leaf=5, estimator__min_samples_split=2, n_estimators=50;, score=0.868 total time=   0.1s\n",
      "[CV 4/5] END estimator__max_depth=5, estimator__min_samples_leaf=5, estimator__min_samples_split=2, n_estimators=50;, score=0.827 total time=   0.1s\n",
      "[CV 5/5] END estimator__max_depth=5, estimator__min_samples_leaf=5, estimator__min_samples_split=2, n_estimators=50;, score=0.826 total time=   0.1s\n",
      "[CV 1/5] END estimator__max_depth=5, estimator__min_samples_leaf=5, estimator__min_samples_split=5, n_estimators=10;, score=0.813 total time=   0.0s\n",
      "[CV 2/5] END estimator__max_depth=5, estimator__min_samples_leaf=5, estimator__min_samples_split=5, n_estimators=10;, score=0.813 total time=   0.0s\n",
      "[CV 3/5] END estimator__max_depth=5, estimator__min_samples_leaf=5, estimator__min_samples_split=5, n_estimators=10;, score=0.859 total time=   0.0s\n",
      "[CV 4/5] END estimator__max_depth=5, estimator__min_samples_leaf=5, estimator__min_samples_split=5, n_estimators=10;, score=0.819 total time=   0.0s\n",
      "[CV 5/5] END estimator__max_depth=5, estimator__min_samples_leaf=5, estimator__min_samples_split=5, n_estimators=10;, score=0.834 total time=   0.0s\n",
      "[CV 1/5] END estimator__max_depth=5, estimator__min_samples_leaf=5, estimator__min_samples_split=5, n_estimators=30;, score=0.809 total time=   0.1s\n",
      "[CV 2/5] END estimator__max_depth=5, estimator__min_samples_leaf=5, estimator__min_samples_split=5, n_estimators=30;, score=0.817 total time=   0.1s\n",
      "[CV 3/5] END estimator__max_depth=5, estimator__min_samples_leaf=5, estimator__min_samples_split=5, n_estimators=30;, score=0.868 total time=   0.1s\n",
      "[CV 4/5] END estimator__max_depth=5, estimator__min_samples_leaf=5, estimator__min_samples_split=5, n_estimators=30;, score=0.824 total time=   0.1s\n",
      "[CV 5/5] END estimator__max_depth=5, estimator__min_samples_leaf=5, estimator__min_samples_split=5, n_estimators=30;, score=0.826 total time=   0.1s\n"
     ]
    },
    {
     "name": "stdout",
     "output_type": "stream",
     "text": [
      "[CV 1/5] END estimator__max_depth=5, estimator__min_samples_leaf=5, estimator__min_samples_split=5, n_estimators=50;, score=0.815 total time=   0.1s\n",
      "[CV 2/5] END estimator__max_depth=5, estimator__min_samples_leaf=5, estimator__min_samples_split=5, n_estimators=50;, score=0.819 total time=   0.1s\n",
      "[CV 3/5] END estimator__max_depth=5, estimator__min_samples_leaf=5, estimator__min_samples_split=5, n_estimators=50;, score=0.868 total time=   0.1s\n",
      "[CV 4/5] END estimator__max_depth=5, estimator__min_samples_leaf=5, estimator__min_samples_split=5, n_estimators=50;, score=0.827 total time=   0.1s\n",
      "[CV 5/5] END estimator__max_depth=5, estimator__min_samples_leaf=5, estimator__min_samples_split=5, n_estimators=50;, score=0.826 total time=   0.1s\n",
      "[CV 1/5] END estimator__max_depth=5, estimator__min_samples_leaf=5, estimator__min_samples_split=10, n_estimators=10;, score=0.813 total time=   0.0s\n",
      "[CV 2/5] END estimator__max_depth=5, estimator__min_samples_leaf=5, estimator__min_samples_split=10, n_estimators=10;, score=0.813 total time=   0.0s\n",
      "[CV 3/5] END estimator__max_depth=5, estimator__min_samples_leaf=5, estimator__min_samples_split=10, n_estimators=10;, score=0.859 total time=   0.0s\n",
      "[CV 4/5] END estimator__max_depth=5, estimator__min_samples_leaf=5, estimator__min_samples_split=10, n_estimators=10;, score=0.819 total time=   0.0s\n",
      "[CV 5/5] END estimator__max_depth=5, estimator__min_samples_leaf=5, estimator__min_samples_split=10, n_estimators=10;, score=0.834 total time=   0.0s\n",
      "[CV 1/5] END estimator__max_depth=5, estimator__min_samples_leaf=5, estimator__min_samples_split=10, n_estimators=30;, score=0.809 total time=   0.1s\n",
      "[CV 2/5] END estimator__max_depth=5, estimator__min_samples_leaf=5, estimator__min_samples_split=10, n_estimators=30;, score=0.817 total time=   0.1s\n",
      "[CV 3/5] END estimator__max_depth=5, estimator__min_samples_leaf=5, estimator__min_samples_split=10, n_estimators=30;, score=0.868 total time=   0.1s\n",
      "[CV 4/5] END estimator__max_depth=5, estimator__min_samples_leaf=5, estimator__min_samples_split=10, n_estimators=30;, score=0.824 total time=   0.1s\n",
      "[CV 5/5] END estimator__max_depth=5, estimator__min_samples_leaf=5, estimator__min_samples_split=10, n_estimators=30;, score=0.826 total time=   0.1s\n",
      "[CV 1/5] END estimator__max_depth=5, estimator__min_samples_leaf=5, estimator__min_samples_split=10, n_estimators=50;, score=0.815 total time=   0.1s\n",
      "[CV 2/5] END estimator__max_depth=5, estimator__min_samples_leaf=5, estimator__min_samples_split=10, n_estimators=50;, score=0.819 total time=   0.1s\n",
      "[CV 3/5] END estimator__max_depth=5, estimator__min_samples_leaf=5, estimator__min_samples_split=10, n_estimators=50;, score=0.868 total time=   0.1s\n",
      "[CV 4/5] END estimator__max_depth=5, estimator__min_samples_leaf=5, estimator__min_samples_split=10, n_estimators=50;, score=0.827 total time=   0.1s\n",
      "[CV 5/5] END estimator__max_depth=5, estimator__min_samples_leaf=5, estimator__min_samples_split=10, n_estimators=50;, score=0.826 total time=   0.1s\n",
      "[CV 1/5] END estimator__max_depth=5, estimator__min_samples_leaf=10, estimator__min_samples_split=2, n_estimators=10;, score=0.800 total time=   0.0s\n",
      "[CV 2/5] END estimator__max_depth=5, estimator__min_samples_leaf=10, estimator__min_samples_split=2, n_estimators=10;, score=0.796 total time=   0.0s\n",
      "[CV 3/5] END estimator__max_depth=5, estimator__min_samples_leaf=10, estimator__min_samples_split=2, n_estimators=10;, score=0.848 total time=   0.0s\n",
      "[CV 4/5] END estimator__max_depth=5, estimator__min_samples_leaf=10, estimator__min_samples_split=2, n_estimators=10;, score=0.814 total time=   0.0s\n",
      "[CV 5/5] END estimator__max_depth=5, estimator__min_samples_leaf=10, estimator__min_samples_split=2, n_estimators=10;, score=0.821 total time=   0.0s\n",
      "[CV 1/5] END estimator__max_depth=5, estimator__min_samples_leaf=10, estimator__min_samples_split=2, n_estimators=30;, score=0.794 total time=   0.1s\n",
      "[CV 2/5] END estimator__max_depth=5, estimator__min_samples_leaf=10, estimator__min_samples_split=2, n_estimators=30;, score=0.805 total time=   0.1s\n",
      "[CV 3/5] END estimator__max_depth=5, estimator__min_samples_leaf=10, estimator__min_samples_split=2, n_estimators=30;, score=0.854 total time=   0.1s\n",
      "[CV 4/5] END estimator__max_depth=5, estimator__min_samples_leaf=10, estimator__min_samples_split=2, n_estimators=30;, score=0.820 total time=   0.1s\n",
      "[CV 5/5] END estimator__max_depth=5, estimator__min_samples_leaf=10, estimator__min_samples_split=2, n_estimators=30;, score=0.818 total time=   0.1s\n",
      "[CV 1/5] END estimator__max_depth=5, estimator__min_samples_leaf=10, estimator__min_samples_split=2, n_estimators=50;, score=0.802 total time=   0.1s\n",
      "[CV 2/5] END estimator__max_depth=5, estimator__min_samples_leaf=10, estimator__min_samples_split=2, n_estimators=50;, score=0.808 total time=   0.1s\n",
      "[CV 3/5] END estimator__max_depth=5, estimator__min_samples_leaf=10, estimator__min_samples_split=2, n_estimators=50;, score=0.852 total time=   0.1s\n",
      "[CV 4/5] END estimator__max_depth=5, estimator__min_samples_leaf=10, estimator__min_samples_split=2, n_estimators=50;, score=0.823 total time=   0.1s\n",
      "[CV 5/5] END estimator__max_depth=5, estimator__min_samples_leaf=10, estimator__min_samples_split=2, n_estimators=50;, score=0.817 total time=   0.1s\n",
      "[CV 1/5] END estimator__max_depth=5, estimator__min_samples_leaf=10, estimator__min_samples_split=5, n_estimators=10;, score=0.800 total time=   0.0s\n",
      "[CV 2/5] END estimator__max_depth=5, estimator__min_samples_leaf=10, estimator__min_samples_split=5, n_estimators=10;, score=0.796 total time=   0.0s\n",
      "[CV 3/5] END estimator__max_depth=5, estimator__min_samples_leaf=10, estimator__min_samples_split=5, n_estimators=10;, score=0.848 total time=   0.0s\n",
      "[CV 4/5] END estimator__max_depth=5, estimator__min_samples_leaf=10, estimator__min_samples_split=5, n_estimators=10;, score=0.814 total time=   0.0s\n",
      "[CV 5/5] END estimator__max_depth=5, estimator__min_samples_leaf=10, estimator__min_samples_split=5, n_estimators=10;, score=0.821 total time=   0.0s\n",
      "[CV 1/5] END estimator__max_depth=5, estimator__min_samples_leaf=10, estimator__min_samples_split=5, n_estimators=30;, score=0.794 total time=   0.1s\n",
      "[CV 2/5] END estimator__max_depth=5, estimator__min_samples_leaf=10, estimator__min_samples_split=5, n_estimators=30;, score=0.805 total time=   0.1s\n",
      "[CV 3/5] END estimator__max_depth=5, estimator__min_samples_leaf=10, estimator__min_samples_split=5, n_estimators=30;, score=0.854 total time=   0.1s\n",
      "[CV 4/5] END estimator__max_depth=5, estimator__min_samples_leaf=10, estimator__min_samples_split=5, n_estimators=30;, score=0.820 total time=   0.1s\n",
      "[CV 5/5] END estimator__max_depth=5, estimator__min_samples_leaf=10, estimator__min_samples_split=5, n_estimators=30;, score=0.818 total time=   0.1s\n",
      "[CV 1/5] END estimator__max_depth=5, estimator__min_samples_leaf=10, estimator__min_samples_split=5, n_estimators=50;, score=0.802 total time=   0.1s\n",
      "[CV 2/5] END estimator__max_depth=5, estimator__min_samples_leaf=10, estimator__min_samples_split=5, n_estimators=50;, score=0.808 total time=   0.1s\n",
      "[CV 3/5] END estimator__max_depth=5, estimator__min_samples_leaf=10, estimator__min_samples_split=5, n_estimators=50;, score=0.852 total time=   0.1s\n",
      "[CV 4/5] END estimator__max_depth=5, estimator__min_samples_leaf=10, estimator__min_samples_split=5, n_estimators=50;, score=0.823 total time=   0.1s\n",
      "[CV 5/5] END estimator__max_depth=5, estimator__min_samples_leaf=10, estimator__min_samples_split=5, n_estimators=50;, score=0.817 total time=   0.1s\n",
      "[CV 1/5] END estimator__max_depth=5, estimator__min_samples_leaf=10, estimator__min_samples_split=10, n_estimators=10;, score=0.800 total time=   0.0s\n",
      "[CV 2/5] END estimator__max_depth=5, estimator__min_samples_leaf=10, estimator__min_samples_split=10, n_estimators=10;, score=0.796 total time=   0.0s\n",
      "[CV 3/5] END estimator__max_depth=5, estimator__min_samples_leaf=10, estimator__min_samples_split=10, n_estimators=10;, score=0.848 total time=   0.0s\n",
      "[CV 4/5] END estimator__max_depth=5, estimator__min_samples_leaf=10, estimator__min_samples_split=10, n_estimators=10;, score=0.814 total time=   0.0s\n",
      "[CV 5/5] END estimator__max_depth=5, estimator__min_samples_leaf=10, estimator__min_samples_split=10, n_estimators=10;, score=0.821 total time=   0.0s\n"
     ]
    },
    {
     "name": "stdout",
     "output_type": "stream",
     "text": [
      "[CV 1/5] END estimator__max_depth=5, estimator__min_samples_leaf=10, estimator__min_samples_split=10, n_estimators=30;, score=0.794 total time=   0.1s\n",
      "[CV 2/5] END estimator__max_depth=5, estimator__min_samples_leaf=10, estimator__min_samples_split=10, n_estimators=30;, score=0.805 total time=   0.1s\n",
      "[CV 3/5] END estimator__max_depth=5, estimator__min_samples_leaf=10, estimator__min_samples_split=10, n_estimators=30;, score=0.854 total time=   0.1s\n",
      "[CV 4/5] END estimator__max_depth=5, estimator__min_samples_leaf=10, estimator__min_samples_split=10, n_estimators=30;, score=0.820 total time=   0.1s\n",
      "[CV 5/5] END estimator__max_depth=5, estimator__min_samples_leaf=10, estimator__min_samples_split=10, n_estimators=30;, score=0.818 total time=   0.1s\n",
      "[CV 1/5] END estimator__max_depth=5, estimator__min_samples_leaf=10, estimator__min_samples_split=10, n_estimators=50;, score=0.802 total time=   0.1s\n",
      "[CV 2/5] END estimator__max_depth=5, estimator__min_samples_leaf=10, estimator__min_samples_split=10, n_estimators=50;, score=0.808 total time=   0.1s\n",
      "[CV 3/5] END estimator__max_depth=5, estimator__min_samples_leaf=10, estimator__min_samples_split=10, n_estimators=50;, score=0.852 total time=   0.1s\n",
      "[CV 4/5] END estimator__max_depth=5, estimator__min_samples_leaf=10, estimator__min_samples_split=10, n_estimators=50;, score=0.823 total time=   0.1s\n",
      "[CV 5/5] END estimator__max_depth=5, estimator__min_samples_leaf=10, estimator__min_samples_split=10, n_estimators=50;, score=0.817 total time=   0.1s\n"
     ]
    },
    {
     "data": {
      "text/html": [
       "<style>#sk-container-id-6 {color: black;}#sk-container-id-6 pre{padding: 0;}#sk-container-id-6 div.sk-toggleable {background-color: white;}#sk-container-id-6 label.sk-toggleable__label {cursor: pointer;display: block;width: 100%;margin-bottom: 0;padding: 0.3em;box-sizing: border-box;text-align: center;}#sk-container-id-6 label.sk-toggleable__label-arrow:before {content: \"▸\";float: left;margin-right: 0.25em;color: #696969;}#sk-container-id-6 label.sk-toggleable__label-arrow:hover:before {color: black;}#sk-container-id-6 div.sk-estimator:hover label.sk-toggleable__label-arrow:before {color: black;}#sk-container-id-6 div.sk-toggleable__content {max-height: 0;max-width: 0;overflow: hidden;text-align: left;background-color: #f0f8ff;}#sk-container-id-6 div.sk-toggleable__content pre {margin: 0.2em;color: black;border-radius: 0.25em;background-color: #f0f8ff;}#sk-container-id-6 input.sk-toggleable__control:checked~div.sk-toggleable__content {max-height: 200px;max-width: 100%;overflow: auto;}#sk-container-id-6 input.sk-toggleable__control:checked~label.sk-toggleable__label-arrow:before {content: \"▾\";}#sk-container-id-6 div.sk-estimator input.sk-toggleable__control:checked~label.sk-toggleable__label {background-color: #d4ebff;}#sk-container-id-6 div.sk-label input.sk-toggleable__control:checked~label.sk-toggleable__label {background-color: #d4ebff;}#sk-container-id-6 input.sk-hidden--visually {border: 0;clip: rect(1px 1px 1px 1px);clip: rect(1px, 1px, 1px, 1px);height: 1px;margin: -1px;overflow: hidden;padding: 0;position: absolute;width: 1px;}#sk-container-id-6 div.sk-estimator {font-family: monospace;background-color: #f0f8ff;border: 1px dotted black;border-radius: 0.25em;box-sizing: border-box;margin-bottom: 0.5em;}#sk-container-id-6 div.sk-estimator:hover {background-color: #d4ebff;}#sk-container-id-6 div.sk-parallel-item::after {content: \"\";width: 100%;border-bottom: 1px solid gray;flex-grow: 1;}#sk-container-id-6 div.sk-label:hover label.sk-toggleable__label {background-color: #d4ebff;}#sk-container-id-6 div.sk-serial::before {content: \"\";position: absolute;border-left: 1px solid gray;box-sizing: border-box;top: 0;bottom: 0;left: 50%;z-index: 0;}#sk-container-id-6 div.sk-serial {display: flex;flex-direction: column;align-items: center;background-color: white;padding-right: 0.2em;padding-left: 0.2em;position: relative;}#sk-container-id-6 div.sk-item {position: relative;z-index: 1;}#sk-container-id-6 div.sk-parallel {display: flex;align-items: stretch;justify-content: center;background-color: white;position: relative;}#sk-container-id-6 div.sk-item::before, #sk-container-id-6 div.sk-parallel-item::before {content: \"\";position: absolute;border-left: 1px solid gray;box-sizing: border-box;top: 0;bottom: 0;left: 50%;z-index: -1;}#sk-container-id-6 div.sk-parallel-item {display: flex;flex-direction: column;z-index: 1;position: relative;background-color: white;}#sk-container-id-6 div.sk-parallel-item:first-child::after {align-self: flex-end;width: 50%;}#sk-container-id-6 div.sk-parallel-item:last-child::after {align-self: flex-start;width: 50%;}#sk-container-id-6 div.sk-parallel-item:only-child::after {width: 0;}#sk-container-id-6 div.sk-dashed-wrapped {border: 1px dashed gray;margin: 0 0.4em 0.5em 0.4em;box-sizing: border-box;padding-bottom: 0.4em;background-color: white;}#sk-container-id-6 div.sk-label label {font-family: monospace;font-weight: bold;display: inline-block;line-height: 1.2em;}#sk-container-id-6 div.sk-label-container {text-align: center;}#sk-container-id-6 div.sk-container {/* jupyter's `normalize.less` sets `[hidden] { display: none; }` but bootstrap.min.css set `[hidden] { display: none !important; }` so we also need the `!important` here to be able to override the default hidden behavior on the sphinx rendered scikit-learn.org. See: https://github.com/scikit-learn/scikit-learn/issues/21755 */display: inline-block !important;position: relative;}#sk-container-id-6 div.sk-text-repr-fallback {display: none;}</style><div id=\"sk-container-id-6\" class=\"sk-top-container\"><div class=\"sk-text-repr-fallback\"><pre>GridSearchCV(cv=KFold(n_splits=5, random_state=23, shuffle=True),\n",
       "             estimator=BaggingRegressor(estimator=DecisionTreeRegressor(random_state=23),\n",
       "                                        random_state=23),\n",
       "             param_grid={&#x27;estimator__max_depth&#x27;: [None, 3, 5],\n",
       "                         &#x27;estimator__min_samples_leaf&#x27;: [1, 5, 10],\n",
       "                         &#x27;estimator__min_samples_split&#x27;: [2, 5, 10],\n",
       "                         &#x27;n_estimators&#x27;: [10, 30, 50]},\n",
       "             scoring=&#x27;r2&#x27;, verbose=3)</pre><b>In a Jupyter environment, please rerun this cell to show the HTML representation or trust the notebook. <br />On GitHub, the HTML representation is unable to render, please try loading this page with nbviewer.org.</b></div><div class=\"sk-container\" hidden><div class=\"sk-item sk-dashed-wrapped\"><div class=\"sk-label-container\"><div class=\"sk-label sk-toggleable\"><input class=\"sk-toggleable__control sk-hidden--visually\" id=\"sk-estimator-id-10\" type=\"checkbox\" ><label for=\"sk-estimator-id-10\" class=\"sk-toggleable__label sk-toggleable__label-arrow\">GridSearchCV</label><div class=\"sk-toggleable__content\"><pre>GridSearchCV(cv=KFold(n_splits=5, random_state=23, shuffle=True),\n",
       "             estimator=BaggingRegressor(estimator=DecisionTreeRegressor(random_state=23),\n",
       "                                        random_state=23),\n",
       "             param_grid={&#x27;estimator__max_depth&#x27;: [None, 3, 5],\n",
       "                         &#x27;estimator__min_samples_leaf&#x27;: [1, 5, 10],\n",
       "                         &#x27;estimator__min_samples_split&#x27;: [2, 5, 10],\n",
       "                         &#x27;n_estimators&#x27;: [10, 30, 50]},\n",
       "             scoring=&#x27;r2&#x27;, verbose=3)</pre></div></div></div><div class=\"sk-parallel\"><div class=\"sk-parallel-item\"><div class=\"sk-item\"><div class=\"sk-label-container\"><div class=\"sk-label sk-toggleable\"><input class=\"sk-toggleable__control sk-hidden--visually\" id=\"sk-estimator-id-11\" type=\"checkbox\" ><label for=\"sk-estimator-id-11\" class=\"sk-toggleable__label sk-toggleable__label-arrow\">estimator: BaggingRegressor</label><div class=\"sk-toggleable__content\"><pre>BaggingRegressor(estimator=DecisionTreeRegressor(random_state=23),\n",
       "                 random_state=23)</pre></div></div></div><div class=\"sk-serial\"><div class=\"sk-item sk-dashed-wrapped\"><div class=\"sk-parallel\"><div class=\"sk-parallel-item\"><div class=\"sk-item\"><div class=\"sk-label-container\"><div class=\"sk-label sk-toggleable\"><input class=\"sk-toggleable__control sk-hidden--visually\" id=\"sk-estimator-id-12\" type=\"checkbox\" ><label for=\"sk-estimator-id-12\" class=\"sk-toggleable__label sk-toggleable__label-arrow\">estimator: DecisionTreeRegressor</label><div class=\"sk-toggleable__content\"><pre>DecisionTreeRegressor(random_state=23)</pre></div></div></div><div class=\"sk-serial\"><div class=\"sk-item\"><div class=\"sk-estimator sk-toggleable\"><input class=\"sk-toggleable__control sk-hidden--visually\" id=\"sk-estimator-id-13\" type=\"checkbox\" ><label for=\"sk-estimator-id-13\" class=\"sk-toggleable__label sk-toggleable__label-arrow\">DecisionTreeRegressor</label><div class=\"sk-toggleable__content\"><pre>DecisionTreeRegressor(random_state=23)</pre></div></div></div></div></div></div></div></div></div></div></div></div></div></div></div>"
      ],
      "text/plain": [
       "GridSearchCV(cv=KFold(n_splits=5, random_state=23, shuffle=True),\n",
       "             estimator=BaggingRegressor(estimator=DecisionTreeRegressor(random_state=23),\n",
       "                                        random_state=23),\n",
       "             param_grid={'estimator__max_depth': [None, 3, 5],\n",
       "                         'estimator__min_samples_leaf': [1, 5, 10],\n",
       "                         'estimator__min_samples_split': [2, 5, 10],\n",
       "                         'n_estimators': [10, 30, 50]},\n",
       "             scoring='r2', verbose=3)"
      ]
     },
     "execution_count": 44,
     "metadata": {},
     "output_type": "execute_result"
    }
   ],
   "source": [
    "gcv.fit(X,y)"
   ]
  },
  {
   "cell_type": "code",
   "execution_count": 45,
   "id": "92e9b6a0",
   "metadata": {},
   "outputs": [
    {
     "data": {
      "text/plain": [
       "{'estimator__max_depth': None,\n",
       " 'estimator__min_samples_leaf': 1,\n",
       " 'estimator__min_samples_split': 2,\n",
       " 'n_estimators': 50}"
      ]
     },
     "execution_count": 45,
     "metadata": {},
     "output_type": "execute_result"
    }
   ],
   "source": [
    "gcv.best_params_"
   ]
  },
  {
   "cell_type": "code",
   "execution_count": 46,
   "id": "0c2f79b6",
   "metadata": {},
   "outputs": [
    {
     "data": {
      "text/plain": [
       "0.9092434907551853"
      ]
     },
     "execution_count": 46,
     "metadata": {},
     "output_type": "execute_result"
    }
   ],
   "source": [
    "gcv.best_score_"
   ]
  },
  {
   "cell_type": "code",
   "execution_count": null,
   "id": "3ffacebd",
   "metadata": {},
   "outputs": [],
   "source": []
  }
 ],
 "metadata": {
  "kernelspec": {
   "display_name": "Python 3 (ipykernel)",
   "language": "python",
   "name": "python3"
  },
  "language_info": {
   "codemirror_mode": {
    "name": "ipython",
    "version": 3
   },
   "file_extension": ".py",
   "mimetype": "text/x-python",
   "name": "python",
   "nbconvert_exporter": "python",
   "pygments_lexer": "ipython3",
   "version": "3.11.5"
  }
 },
 "nbformat": 4,
 "nbformat_minor": 5
}
