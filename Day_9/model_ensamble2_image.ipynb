{
 "cells": [
  {
   "cell_type": "code",
   "execution_count": 1,
   "id": "e1b8c8b0",
   "metadata": {},
   "outputs": [],
   "source": [
    "import pandas as pd\n",
    "import numpy as np\n",
    "from sklearn.svm import SVC\n",
    "from sklearn.linear_model import LogisticRegression\n",
    "from sklearn.tree import DecisionTreeClassifier\n",
    "from sklearn.ensemble import VotingClassifier\n",
    "from sklearn.metrics import accuracy_score, log_loss\n",
    "from sklearn.preprocessing import LabelEncoder\n",
    "from sklearn.model_selection import train_test_split,StratifiedKFold,RandomizedSearchCV,GridSearchCV"
   ]
  },
  {
   "cell_type": "code",
   "execution_count": 2,
   "id": "46c266b1",
   "metadata": {},
   "outputs": [],
   "source": [
    "image=pd.read_csv('Image_Segmention.csv')"
   ]
  },
  {
   "cell_type": "code",
   "execution_count": 3,
   "id": "5af0685d",
   "metadata": {},
   "outputs": [],
   "source": [
    "lbl=LabelEncoder()"
   ]
  },
  {
   "cell_type": "code",
   "execution_count": 4,
   "id": "7011807b",
   "metadata": {},
   "outputs": [],
   "source": [
    "image['Class']=lbl.fit_transform(image['Class'])"
   ]
  },
  {
   "cell_type": "code",
   "execution_count": 5,
   "id": "c24fb80f",
   "metadata": {},
   "outputs": [],
   "source": [
    "X=image.drop('Class',axis=1)\n",
    "y=image['Class']"
   ]
  },
  {
   "cell_type": "code",
   "execution_count": 6,
   "id": "cca20801",
   "metadata": {},
   "outputs": [],
   "source": [
    "svm=SVC(probability=True,random_state=23)"
   ]
  },
  {
   "cell_type": "code",
   "execution_count": 7,
   "id": "89851f5e",
   "metadata": {},
   "outputs": [],
   "source": [
    "kfold=StratifiedKFold(n_splits=5,shuffle=True,random_state=23)"
   ]
  },
  {
   "cell_type": "code",
   "execution_count": 8,
   "id": "d9d78acd",
   "metadata": {},
   "outputs": [
    {
     "data": {
      "text/plain": [
       "{'C': 1.0,\n",
       " 'break_ties': False,\n",
       " 'cache_size': 200,\n",
       " 'class_weight': None,\n",
       " 'coef0': 0.0,\n",
       " 'decision_function_shape': 'ovr',\n",
       " 'degree': 3,\n",
       " 'gamma': 'scale',\n",
       " 'kernel': 'rbf',\n",
       " 'max_iter': -1,\n",
       " 'probability': True,\n",
       " 'random_state': 23,\n",
       " 'shrinking': True,\n",
       " 'tol': 0.001,\n",
       " 'verbose': False}"
      ]
     },
     "execution_count": 8,
     "metadata": {},
     "output_type": "execute_result"
    }
   ],
   "source": [
    "svm.get_params()"
   ]
  },
  {
   "cell_type": "code",
   "execution_count": 9,
   "id": "ec6f38a7",
   "metadata": {},
   "outputs": [],
   "source": [
    "params={'gamma': ['scale','auto'],'C':np.linspace(0.001,5,5)}"
   ]
  },
  {
   "cell_type": "code",
   "execution_count": 10,
   "id": "ea65551e",
   "metadata": {},
   "outputs": [],
   "source": [
    "gcv=GridSearchCV(svm,param_grid=params,verbose=3,cv=kfold,scoring='neg_log_loss')"
   ]
  },
  {
   "cell_type": "code",
   "execution_count": 11,
   "id": "468ad721",
   "metadata": {},
   "outputs": [
    {
     "name": "stdout",
     "output_type": "stream",
     "text": [
      "Fitting 5 folds for each of 10 candidates, totalling 50 fits\n",
      "[CV 1/5] END .............C=0.001, gamma=scale;, score=-1.962 total time=   0.0s\n",
      "[CV 2/5] END .............C=0.001, gamma=scale;, score=-1.962 total time=   0.0s\n",
      "[CV 3/5] END .............C=0.001, gamma=scale;, score=-1.962 total time=   0.0s\n",
      "[CV 4/5] END .............C=0.001, gamma=scale;, score=-1.962 total time=   0.0s\n",
      "[CV 5/5] END .............C=0.001, gamma=scale;, score=-1.947 total time=   0.0s\n",
      "[CV 1/5] END ..............C=0.001, gamma=auto;, score=-1.960 total time=   0.0s\n",
      "[CV 2/5] END ..............C=0.001, gamma=auto;, score=-1.960 total time=   0.0s\n",
      "[CV 3/5] END ..............C=0.001, gamma=auto;, score=-1.960 total time=   0.0s\n",
      "[CV 4/5] END ..............C=0.001, gamma=auto;, score=-1.960 total time=   0.0s\n",
      "[CV 5/5] END ..............C=0.001, gamma=auto;, score=-1.945 total time=   0.0s\n",
      "[CV 1/5] END C=1.2507499999999998, gamma=scale;, score=-0.586 total time=   0.0s\n",
      "[CV 2/5] END C=1.2507499999999998, gamma=scale;, score=-0.697 total time=   0.0s\n",
      "[CV 3/5] END C=1.2507499999999998, gamma=scale;, score=-0.731 total time=   0.0s\n",
      "[CV 4/5] END C=1.2507499999999998, gamma=scale;, score=-0.750 total time=   0.0s\n",
      "[CV 5/5] END C=1.2507499999999998, gamma=scale;, score=-0.673 total time=   0.0s\n",
      "[CV 1/5] END .C=1.2507499999999998, gamma=auto;, score=-1.963 total time=   0.0s\n",
      "[CV 2/5] END .C=1.2507499999999998, gamma=auto;, score=-1.937 total time=   0.0s\n",
      "[CV 3/5] END .C=1.2507499999999998, gamma=auto;, score=-1.912 total time=   0.0s\n",
      "[CV 4/5] END .C=1.2507499999999998, gamma=auto;, score=-1.951 total time=   0.0s\n",
      "[CV 5/5] END .C=1.2507499999999998, gamma=auto;, score=-1.946 total time=   0.0s\n",
      "[CV 1/5] END C=2.5004999999999997, gamma=scale;, score=-0.565 total time=   0.0s\n",
      "[CV 2/5] END C=2.5004999999999997, gamma=scale;, score=-0.687 total time=   0.0s\n",
      "[CV 3/5] END C=2.5004999999999997, gamma=scale;, score=-0.708 total time=   0.0s\n",
      "[CV 4/5] END C=2.5004999999999997, gamma=scale;, score=-0.725 total time=   0.0s\n",
      "[CV 5/5] END C=2.5004999999999997, gamma=scale;, score=-0.652 total time=   0.0s\n",
      "[CV 1/5] END .C=2.5004999999999997, gamma=auto;, score=-1.963 total time=   0.0s\n",
      "[CV 2/5] END .C=2.5004999999999997, gamma=auto;, score=-1.937 total time=   0.0s\n",
      "[CV 3/5] END .C=2.5004999999999997, gamma=auto;, score=-1.912 total time=   0.0s\n",
      "[CV 4/5] END .C=2.5004999999999997, gamma=auto;, score=-1.951 total time=   0.0s\n",
      "[CV 5/5] END .C=2.5004999999999997, gamma=auto;, score=-1.946 total time=   0.0s\n",
      "[CV 1/5] END ...........C=3.75025, gamma=scale;, score=-0.547 total time=   0.0s\n",
      "[CV 2/5] END ...........C=3.75025, gamma=scale;, score=-0.654 total time=   0.0s\n",
      "[CV 3/5] END ...........C=3.75025, gamma=scale;, score=-0.693 total time=   0.0s\n",
      "[CV 4/5] END ...........C=3.75025, gamma=scale;, score=-0.716 total time=   0.0s\n",
      "[CV 5/5] END ...........C=3.75025, gamma=scale;, score=-0.623 total time=   0.0s\n",
      "[CV 1/5] END ............C=3.75025, gamma=auto;, score=-1.963 total time=   0.0s\n",
      "[CV 2/5] END ............C=3.75025, gamma=auto;, score=-1.937 total time=   0.0s\n",
      "[CV 3/5] END ............C=3.75025, gamma=auto;, score=-1.912 total time=   0.0s\n",
      "[CV 4/5] END ............C=3.75025, gamma=auto;, score=-1.951 total time=   0.0s\n",
      "[CV 5/5] END ............C=3.75025, gamma=auto;, score=-1.946 total time=   0.0s\n",
      "[CV 1/5] END ...............C=5.0, gamma=scale;, score=-0.518 total time=   0.0s\n",
      "[CV 2/5] END ...............C=5.0, gamma=scale;, score=-0.613 total time=   0.0s\n",
      "[CV 3/5] END ...............C=5.0, gamma=scale;, score=-0.687 total time=   0.0s\n",
      "[CV 4/5] END ...............C=5.0, gamma=scale;, score=-0.694 total time=   0.0s\n",
      "[CV 5/5] END ...............C=5.0, gamma=scale;, score=-0.601 total time=   0.0s\n",
      "[CV 1/5] END ................C=5.0, gamma=auto;, score=-1.963 total time=   0.0s\n",
      "[CV 2/5] END ................C=5.0, gamma=auto;, score=-1.937 total time=   0.0s\n",
      "[CV 3/5] END ................C=5.0, gamma=auto;, score=-1.912 total time=   0.0s\n",
      "[CV 4/5] END ................C=5.0, gamma=auto;, score=-1.951 total time=   0.0s\n",
      "[CV 5/5] END ................C=5.0, gamma=auto;, score=-1.946 total time=   0.0s\n"
     ]
    },
    {
     "data": {
      "text/html": [
       "<style>#sk-container-id-1 {color: black;}#sk-container-id-1 pre{padding: 0;}#sk-container-id-1 div.sk-toggleable {background-color: white;}#sk-container-id-1 label.sk-toggleable__label {cursor: pointer;display: block;width: 100%;margin-bottom: 0;padding: 0.3em;box-sizing: border-box;text-align: center;}#sk-container-id-1 label.sk-toggleable__label-arrow:before {content: \"▸\";float: left;margin-right: 0.25em;color: #696969;}#sk-container-id-1 label.sk-toggleable__label-arrow:hover:before {color: black;}#sk-container-id-1 div.sk-estimator:hover label.sk-toggleable__label-arrow:before {color: black;}#sk-container-id-1 div.sk-toggleable__content {max-height: 0;max-width: 0;overflow: hidden;text-align: left;background-color: #f0f8ff;}#sk-container-id-1 div.sk-toggleable__content pre {margin: 0.2em;color: black;border-radius: 0.25em;background-color: #f0f8ff;}#sk-container-id-1 input.sk-toggleable__control:checked~div.sk-toggleable__content {max-height: 200px;max-width: 100%;overflow: auto;}#sk-container-id-1 input.sk-toggleable__control:checked~label.sk-toggleable__label-arrow:before {content: \"▾\";}#sk-container-id-1 div.sk-estimator input.sk-toggleable__control:checked~label.sk-toggleable__label {background-color: #d4ebff;}#sk-container-id-1 div.sk-label input.sk-toggleable__control:checked~label.sk-toggleable__label {background-color: #d4ebff;}#sk-container-id-1 input.sk-hidden--visually {border: 0;clip: rect(1px 1px 1px 1px);clip: rect(1px, 1px, 1px, 1px);height: 1px;margin: -1px;overflow: hidden;padding: 0;position: absolute;width: 1px;}#sk-container-id-1 div.sk-estimator {font-family: monospace;background-color: #f0f8ff;border: 1px dotted black;border-radius: 0.25em;box-sizing: border-box;margin-bottom: 0.5em;}#sk-container-id-1 div.sk-estimator:hover {background-color: #d4ebff;}#sk-container-id-1 div.sk-parallel-item::after {content: \"\";width: 100%;border-bottom: 1px solid gray;flex-grow: 1;}#sk-container-id-1 div.sk-label:hover label.sk-toggleable__label {background-color: #d4ebff;}#sk-container-id-1 div.sk-serial::before {content: \"\";position: absolute;border-left: 1px solid gray;box-sizing: border-box;top: 0;bottom: 0;left: 50%;z-index: 0;}#sk-container-id-1 div.sk-serial {display: flex;flex-direction: column;align-items: center;background-color: white;padding-right: 0.2em;padding-left: 0.2em;position: relative;}#sk-container-id-1 div.sk-item {position: relative;z-index: 1;}#sk-container-id-1 div.sk-parallel {display: flex;align-items: stretch;justify-content: center;background-color: white;position: relative;}#sk-container-id-1 div.sk-item::before, #sk-container-id-1 div.sk-parallel-item::before {content: \"\";position: absolute;border-left: 1px solid gray;box-sizing: border-box;top: 0;bottom: 0;left: 50%;z-index: -1;}#sk-container-id-1 div.sk-parallel-item {display: flex;flex-direction: column;z-index: 1;position: relative;background-color: white;}#sk-container-id-1 div.sk-parallel-item:first-child::after {align-self: flex-end;width: 50%;}#sk-container-id-1 div.sk-parallel-item:last-child::after {align-self: flex-start;width: 50%;}#sk-container-id-1 div.sk-parallel-item:only-child::after {width: 0;}#sk-container-id-1 div.sk-dashed-wrapped {border: 1px dashed gray;margin: 0 0.4em 0.5em 0.4em;box-sizing: border-box;padding-bottom: 0.4em;background-color: white;}#sk-container-id-1 div.sk-label label {font-family: monospace;font-weight: bold;display: inline-block;line-height: 1.2em;}#sk-container-id-1 div.sk-label-container {text-align: center;}#sk-container-id-1 div.sk-container {/* jupyter's `normalize.less` sets `[hidden] { display: none; }` but bootstrap.min.css set `[hidden] { display: none !important; }` so we also need the `!important` here to be able to override the default hidden behavior on the sphinx rendered scikit-learn.org. See: https://github.com/scikit-learn/scikit-learn/issues/21755 */display: inline-block !important;position: relative;}#sk-container-id-1 div.sk-text-repr-fallback {display: none;}</style><div id=\"sk-container-id-1\" class=\"sk-top-container\"><div class=\"sk-text-repr-fallback\"><pre>GridSearchCV(cv=StratifiedKFold(n_splits=5, random_state=23, shuffle=True),\n",
       "             estimator=SVC(probability=True, random_state=23),\n",
       "             param_grid={&#x27;C&#x27;: array([1.00000e-03, 1.25075e+00, 2.50050e+00, 3.75025e+00, 5.00000e+00]),\n",
       "                         &#x27;gamma&#x27;: [&#x27;scale&#x27;, &#x27;auto&#x27;]},\n",
       "             scoring=&#x27;neg_log_loss&#x27;, verbose=3)</pre><b>In a Jupyter environment, please rerun this cell to show the HTML representation or trust the notebook. <br />On GitHub, the HTML representation is unable to render, please try loading this page with nbviewer.org.</b></div><div class=\"sk-container\" hidden><div class=\"sk-item sk-dashed-wrapped\"><div class=\"sk-label-container\"><div class=\"sk-label sk-toggleable\"><input class=\"sk-toggleable__control sk-hidden--visually\" id=\"sk-estimator-id-1\" type=\"checkbox\" ><label for=\"sk-estimator-id-1\" class=\"sk-toggleable__label sk-toggleable__label-arrow\">GridSearchCV</label><div class=\"sk-toggleable__content\"><pre>GridSearchCV(cv=StratifiedKFold(n_splits=5, random_state=23, shuffle=True),\n",
       "             estimator=SVC(probability=True, random_state=23),\n",
       "             param_grid={&#x27;C&#x27;: array([1.00000e-03, 1.25075e+00, 2.50050e+00, 3.75025e+00, 5.00000e+00]),\n",
       "                         &#x27;gamma&#x27;: [&#x27;scale&#x27;, &#x27;auto&#x27;]},\n",
       "             scoring=&#x27;neg_log_loss&#x27;, verbose=3)</pre></div></div></div><div class=\"sk-parallel\"><div class=\"sk-parallel-item\"><div class=\"sk-item\"><div class=\"sk-label-container\"><div class=\"sk-label sk-toggleable\"><input class=\"sk-toggleable__control sk-hidden--visually\" id=\"sk-estimator-id-2\" type=\"checkbox\" ><label for=\"sk-estimator-id-2\" class=\"sk-toggleable__label sk-toggleable__label-arrow\">estimator: SVC</label><div class=\"sk-toggleable__content\"><pre>SVC(probability=True, random_state=23)</pre></div></div></div><div class=\"sk-serial\"><div class=\"sk-item\"><div class=\"sk-estimator sk-toggleable\"><input class=\"sk-toggleable__control sk-hidden--visually\" id=\"sk-estimator-id-3\" type=\"checkbox\" ><label for=\"sk-estimator-id-3\" class=\"sk-toggleable__label sk-toggleable__label-arrow\">SVC</label><div class=\"sk-toggleable__content\"><pre>SVC(probability=True, random_state=23)</pre></div></div></div></div></div></div></div></div></div></div>"
      ],
      "text/plain": [
       "GridSearchCV(cv=StratifiedKFold(n_splits=5, random_state=23, shuffle=True),\n",
       "             estimator=SVC(probability=True, random_state=23),\n",
       "             param_grid={'C': array([1.00000e-03, 1.25075e+00, 2.50050e+00, 3.75025e+00, 5.00000e+00]),\n",
       "                         'gamma': ['scale', 'auto']},\n",
       "             scoring='neg_log_loss', verbose=3)"
      ]
     },
     "execution_count": 11,
     "metadata": {},
     "output_type": "execute_result"
    }
   ],
   "source": [
    "gcv.fit(X,y)"
   ]
  },
  {
   "cell_type": "code",
   "execution_count": 12,
   "id": "df98edda",
   "metadata": {},
   "outputs": [],
   "source": [
    "svm_ll=gcv.best_score_"
   ]
  },
  {
   "cell_type": "markdown",
   "id": "d09a00f1",
   "metadata": {},
   "source": [
    "# logistic regression"
   ]
  },
  {
   "cell_type": "code",
   "execution_count": 13,
   "id": "5b3426b4",
   "metadata": {},
   "outputs": [],
   "source": [
    "lr=LogisticRegression()"
   ]
  },
  {
   "cell_type": "code",
   "execution_count": 14,
   "id": "be24cf62",
   "metadata": {},
   "outputs": [
    {
     "data": {
      "text/plain": [
       "{'C': 1.0,\n",
       " 'class_weight': None,\n",
       " 'dual': False,\n",
       " 'fit_intercept': True,\n",
       " 'intercept_scaling': 1,\n",
       " 'l1_ratio': None,\n",
       " 'max_iter': 100,\n",
       " 'multi_class': 'auto',\n",
       " 'n_jobs': None,\n",
       " 'penalty': 'l2',\n",
       " 'random_state': None,\n",
       " 'solver': 'lbfgs',\n",
       " 'tol': 0.0001,\n",
       " 'verbose': 0,\n",
       " 'warm_start': False}"
      ]
     },
     "execution_count": 14,
     "metadata": {},
     "output_type": "execute_result"
    }
   ],
   "source": [
    "lr.get_params()"
   ]
  },
  {
   "cell_type": "code",
   "execution_count": 15,
   "id": "8e5d4ea4",
   "metadata": {},
   "outputs": [],
   "source": [
    "params={'penalty':['l1','l2','elasticnet',None],'multi_class':['multimodel','ovr']}"
   ]
  },
  {
   "cell_type": "code",
   "execution_count": 16,
   "id": "1dcb4b17",
   "metadata": {},
   "outputs": [],
   "source": [
    "gcv=GridSearchCV(lr,param_grid=params,verbose=3,cv=kfold,scoring='neg_log_loss')"
   ]
  },
  {
   "cell_type": "code",
   "execution_count": 17,
   "id": "c332a1e2",
   "metadata": {},
   "outputs": [
    {
     "name": "stdout",
     "output_type": "stream",
     "text": [
      "Fitting 5 folds for each of 8 candidates, totalling 40 fits\n",
      "[CV 1/5] END ..multi_class=multimodel, penalty=l1;, score=nan total time=   0.0s\n",
      "[CV 2/5] END ..multi_class=multimodel, penalty=l1;, score=nan total time=   0.0s\n",
      "[CV 3/5] END ..multi_class=multimodel, penalty=l1;, score=nan total time=   0.0s\n",
      "[CV 4/5] END ..multi_class=multimodel, penalty=l1;, score=nan total time=   0.0s\n",
      "[CV 5/5] END ..multi_class=multimodel, penalty=l1;, score=nan total time=   0.0s\n",
      "[CV 1/5] END ..multi_class=multimodel, penalty=l2;, score=nan total time=   0.0s\n",
      "[CV 2/5] END ..multi_class=multimodel, penalty=l2;, score=nan total time=   0.0s\n",
      "[CV 3/5] END ..multi_class=multimodel, penalty=l2;, score=nan total time=   0.0s\n",
      "[CV 4/5] END ..multi_class=multimodel, penalty=l2;, score=nan total time=   0.0s\n",
      "[CV 5/5] END ..multi_class=multimodel, penalty=l2;, score=nan total time=   0.0s\n",
      "[CV 1/5] END multi_class=multimodel, penalty=elasticnet;, score=nan total time=   0.0s\n",
      "[CV 2/5] END multi_class=multimodel, penalty=elasticnet;, score=nan total time=   0.0s\n",
      "[CV 3/5] END multi_class=multimodel, penalty=elasticnet;, score=nan total time=   0.0s\n",
      "[CV 4/5] END multi_class=multimodel, penalty=elasticnet;, score=nan total time=   0.0s\n",
      "[CV 5/5] END multi_class=multimodel, penalty=elasticnet;, score=nan total time=   0.0s\n",
      "[CV 1/5] END multi_class=multimodel, penalty=None;, score=nan total time=   0.0s\n",
      "[CV 2/5] END multi_class=multimodel, penalty=None;, score=nan total time=   0.0s\n",
      "[CV 3/5] END multi_class=multimodel, penalty=None;, score=nan total time=   0.0s\n",
      "[CV 4/5] END multi_class=multimodel, penalty=None;, score=nan total time=   0.0s\n",
      "[CV 5/5] END multi_class=multimodel, penalty=None;, score=nan total time=   0.0s\n",
      "[CV 1/5] END .........multi_class=ovr, penalty=l1;, score=nan total time=   0.0s\n",
      "[CV 2/5] END .........multi_class=ovr, penalty=l1;, score=nan total time=   0.0s\n",
      "[CV 3/5] END .........multi_class=ovr, penalty=l1;, score=nan total time=   0.0s\n",
      "[CV 4/5] END .........multi_class=ovr, penalty=l1;, score=nan total time=   0.0s\n",
      "[CV 5/5] END .........multi_class=ovr, penalty=l1;, score=nan total time=   0.0s\n"
     ]
    },
    {
     "name": "stderr",
     "output_type": "stream",
     "text": [
      "/home/dai/anaconda3/lib/python3.11/site-packages/sklearn/linear_model/_logistic.py:460: ConvergenceWarning: lbfgs failed to converge (status=1):\n",
      "STOP: TOTAL NO. of ITERATIONS REACHED LIMIT.\n",
      "\n",
      "Increase the number of iterations (max_iter) or scale the data as shown in:\n",
      "    https://scikit-learn.org/stable/modules/preprocessing.html\n",
      "Please also refer to the documentation for alternative solver options:\n",
      "    https://scikit-learn.org/stable/modules/linear_model.html#logistic-regression\n",
      "  n_iter_i = _check_optimize_result(\n",
      "/home/dai/anaconda3/lib/python3.11/site-packages/sklearn/linear_model/_logistic.py:460: ConvergenceWarning: lbfgs failed to converge (status=1):\n",
      "STOP: TOTAL NO. of ITERATIONS REACHED LIMIT.\n",
      "\n",
      "Increase the number of iterations (max_iter) or scale the data as shown in:\n",
      "    https://scikit-learn.org/stable/modules/preprocessing.html\n",
      "Please also refer to the documentation for alternative solver options:\n",
      "    https://scikit-learn.org/stable/modules/linear_model.html#logistic-regression\n",
      "  n_iter_i = _check_optimize_result(\n"
     ]
    },
    {
     "name": "stdout",
     "output_type": "stream",
     "text": [
      "[CV 1/5] END ......multi_class=ovr, penalty=l2;, score=-0.409 total time=   0.2s\n",
      "[CV 2/5] END ......multi_class=ovr, penalty=l2;, score=-0.415 total time=   0.1s\n"
     ]
    },
    {
     "name": "stderr",
     "output_type": "stream",
     "text": [
      "/home/dai/anaconda3/lib/python3.11/site-packages/sklearn/linear_model/_logistic.py:460: ConvergenceWarning: lbfgs failed to converge (status=1):\n",
      "STOP: TOTAL NO. of ITERATIONS REACHED LIMIT.\n",
      "\n",
      "Increase the number of iterations (max_iter) or scale the data as shown in:\n",
      "    https://scikit-learn.org/stable/modules/preprocessing.html\n",
      "Please also refer to the documentation for alternative solver options:\n",
      "    https://scikit-learn.org/stable/modules/linear_model.html#logistic-regression\n",
      "  n_iter_i = _check_optimize_result(\n",
      "/home/dai/anaconda3/lib/python3.11/site-packages/sklearn/linear_model/_logistic.py:460: ConvergenceWarning: lbfgs failed to converge (status=1):\n",
      "STOP: TOTAL NO. of ITERATIONS REACHED LIMIT.\n",
      "\n",
      "Increase the number of iterations (max_iter) or scale the data as shown in:\n",
      "    https://scikit-learn.org/stable/modules/preprocessing.html\n",
      "Please also refer to the documentation for alternative solver options:\n",
      "    https://scikit-learn.org/stable/modules/linear_model.html#logistic-regression\n",
      "  n_iter_i = _check_optimize_result(\n"
     ]
    },
    {
     "name": "stdout",
     "output_type": "stream",
     "text": [
      "[CV 3/5] END ......multi_class=ovr, penalty=l2;, score=-1.682 total time=   0.1s\n",
      "[CV 4/5] END ......multi_class=ovr, penalty=l2;, score=-0.424 total time=   0.1s\n"
     ]
    },
    {
     "name": "stderr",
     "output_type": "stream",
     "text": [
      "/home/dai/anaconda3/lib/python3.11/site-packages/sklearn/linear_model/_logistic.py:460: ConvergenceWarning: lbfgs failed to converge (status=1):\n",
      "STOP: TOTAL NO. of ITERATIONS REACHED LIMIT.\n",
      "\n",
      "Increase the number of iterations (max_iter) or scale the data as shown in:\n",
      "    https://scikit-learn.org/stable/modules/preprocessing.html\n",
      "Please also refer to the documentation for alternative solver options:\n",
      "    https://scikit-learn.org/stable/modules/linear_model.html#logistic-regression\n",
      "  n_iter_i = _check_optimize_result(\n",
      "/home/dai/anaconda3/lib/python3.11/site-packages/sklearn/linear_model/_logistic.py:460: ConvergenceWarning: lbfgs failed to converge (status=1):\n",
      "STOP: TOTAL NO. of ITERATIONS REACHED LIMIT.\n",
      "\n",
      "Increase the number of iterations (max_iter) or scale the data as shown in:\n",
      "    https://scikit-learn.org/stable/modules/preprocessing.html\n",
      "Please also refer to the documentation for alternative solver options:\n",
      "    https://scikit-learn.org/stable/modules/linear_model.html#logistic-regression\n",
      "  n_iter_i = _check_optimize_result(\n"
     ]
    },
    {
     "name": "stdout",
     "output_type": "stream",
     "text": [
      "[CV 5/5] END ......multi_class=ovr, penalty=l2;, score=-0.435 total time=   0.2s\n",
      "[CV 1/5] END .multi_class=ovr, penalty=elasticnet;, score=nan total time=   0.0s\n",
      "[CV 2/5] END .multi_class=ovr, penalty=elasticnet;, score=nan total time=   0.0s\n",
      "[CV 3/5] END .multi_class=ovr, penalty=elasticnet;, score=nan total time=   0.0s\n",
      "[CV 4/5] END .multi_class=ovr, penalty=elasticnet;, score=nan total time=   0.0s\n",
      "[CV 5/5] END .multi_class=ovr, penalty=elasticnet;, score=nan total time=   0.0s\n",
      "[CV 1/5] END ....multi_class=ovr, penalty=None;, score=-1.564 total time=   0.1s\n"
     ]
    },
    {
     "name": "stderr",
     "output_type": "stream",
     "text": [
      "/home/dai/anaconda3/lib/python3.11/site-packages/sklearn/linear_model/_logistic.py:460: ConvergenceWarning: lbfgs failed to converge (status=1):\n",
      "STOP: TOTAL NO. of ITERATIONS REACHED LIMIT.\n",
      "\n",
      "Increase the number of iterations (max_iter) or scale the data as shown in:\n",
      "    https://scikit-learn.org/stable/modules/preprocessing.html\n",
      "Please also refer to the documentation for alternative solver options:\n",
      "    https://scikit-learn.org/stable/modules/linear_model.html#logistic-regression\n",
      "  n_iter_i = _check_optimize_result(\n",
      "/home/dai/anaconda3/lib/python3.11/site-packages/sklearn/linear_model/_logistic.py:460: ConvergenceWarning: lbfgs failed to converge (status=1):\n",
      "STOP: TOTAL NO. of ITERATIONS REACHED LIMIT.\n",
      "\n",
      "Increase the number of iterations (max_iter) or scale the data as shown in:\n",
      "    https://scikit-learn.org/stable/modules/preprocessing.html\n",
      "Please also refer to the documentation for alternative solver options:\n",
      "    https://scikit-learn.org/stable/modules/linear_model.html#logistic-regression\n",
      "  n_iter_i = _check_optimize_result(\n"
     ]
    },
    {
     "name": "stdout",
     "output_type": "stream",
     "text": [
      "[CV 2/5] END ....multi_class=ovr, penalty=None;, score=-0.913 total time=   0.1s\n",
      "[CV 3/5] END ....multi_class=ovr, penalty=None;, score=-3.268 total time=   0.1s\n"
     ]
    },
    {
     "name": "stderr",
     "output_type": "stream",
     "text": [
      "/home/dai/anaconda3/lib/python3.11/site-packages/sklearn/linear_model/_logistic.py:460: ConvergenceWarning: lbfgs failed to converge (status=1):\n",
      "STOP: TOTAL NO. of ITERATIONS REACHED LIMIT.\n",
      "\n",
      "Increase the number of iterations (max_iter) or scale the data as shown in:\n",
      "    https://scikit-learn.org/stable/modules/preprocessing.html\n",
      "Please also refer to the documentation for alternative solver options:\n",
      "    https://scikit-learn.org/stable/modules/linear_model.html#logistic-regression\n",
      "  n_iter_i = _check_optimize_result(\n",
      "/home/dai/anaconda3/lib/python3.11/site-packages/sklearn/linear_model/_logistic.py:460: ConvergenceWarning: lbfgs failed to converge (status=1):\n",
      "STOP: TOTAL NO. of ITERATIONS REACHED LIMIT.\n",
      "\n",
      "Increase the number of iterations (max_iter) or scale the data as shown in:\n",
      "    https://scikit-learn.org/stable/modules/preprocessing.html\n",
      "Please also refer to the documentation for alternative solver options:\n",
      "    https://scikit-learn.org/stable/modules/linear_model.html#logistic-regression\n",
      "  n_iter_i = _check_optimize_result(\n",
      "/home/dai/anaconda3/lib/python3.11/site-packages/sklearn/model_selection/_validation.py:425: FitFailedWarning: \n",
      "30 fits failed out of a total of 40.\n",
      "The score on these train-test partitions for these parameters will be set to nan.\n",
      "If these failures are not expected, you can try to debug them by setting error_score='raise'.\n",
      "\n",
      "Below are more details about the failures:\n",
      "--------------------------------------------------------------------------------\n",
      "20 fits failed with the following error:\n",
      "Traceback (most recent call last):\n",
      "  File \"/home/dai/anaconda3/lib/python3.11/site-packages/sklearn/model_selection/_validation.py\", line 729, in _fit_and_score\n",
      "    estimator.fit(X_train, y_train, **fit_params)\n",
      "  File \"/home/dai/anaconda3/lib/python3.11/site-packages/sklearn/base.py\", line 1145, in wrapper\n",
      "    estimator._validate_params()\n",
      "  File \"/home/dai/anaconda3/lib/python3.11/site-packages/sklearn/base.py\", line 638, in _validate_params\n",
      "    validate_parameter_constraints(\n",
      "  File \"/home/dai/anaconda3/lib/python3.11/site-packages/sklearn/utils/_param_validation.py\", line 96, in validate_parameter_constraints\n",
      "    raise InvalidParameterError(\n",
      "sklearn.utils._param_validation.InvalidParameterError: The 'multi_class' parameter of LogisticRegression must be a str among {'ovr', 'multinomial', 'auto'}. Got 'multimodel' instead.\n",
      "\n",
      "--------------------------------------------------------------------------------\n",
      "5 fits failed with the following error:\n",
      "Traceback (most recent call last):\n",
      "  File \"/home/dai/anaconda3/lib/python3.11/site-packages/sklearn/model_selection/_validation.py\", line 729, in _fit_and_score\n",
      "    estimator.fit(X_train, y_train, **fit_params)\n",
      "  File \"/home/dai/anaconda3/lib/python3.11/site-packages/sklearn/base.py\", line 1152, in wrapper\n",
      "    return fit_method(estimator, *args, **kwargs)\n",
      "           ^^^^^^^^^^^^^^^^^^^^^^^^^^^^^^^^^^^^^^\n",
      "  File \"/home/dai/anaconda3/lib/python3.11/site-packages/sklearn/linear_model/_logistic.py\", line 1169, in fit\n",
      "    solver = _check_solver(self.solver, self.penalty, self.dual)\n",
      "             ^^^^^^^^^^^^^^^^^^^^^^^^^^^^^^^^^^^^^^^^^^^^^^^^^^^\n",
      "  File \"/home/dai/anaconda3/lib/python3.11/site-packages/sklearn/linear_model/_logistic.py\", line 56, in _check_solver\n",
      "    raise ValueError(\n",
      "ValueError: Solver lbfgs supports only 'l2' or 'none' penalties, got l1 penalty.\n",
      "\n",
      "--------------------------------------------------------------------------------\n",
      "5 fits failed with the following error:\n",
      "Traceback (most recent call last):\n",
      "  File \"/home/dai/anaconda3/lib/python3.11/site-packages/sklearn/model_selection/_validation.py\", line 729, in _fit_and_score\n",
      "    estimator.fit(X_train, y_train, **fit_params)\n",
      "  File \"/home/dai/anaconda3/lib/python3.11/site-packages/sklearn/base.py\", line 1152, in wrapper\n",
      "    return fit_method(estimator, *args, **kwargs)\n",
      "           ^^^^^^^^^^^^^^^^^^^^^^^^^^^^^^^^^^^^^^\n",
      "  File \"/home/dai/anaconda3/lib/python3.11/site-packages/sklearn/linear_model/_logistic.py\", line 1169, in fit\n",
      "    solver = _check_solver(self.solver, self.penalty, self.dual)\n",
      "             ^^^^^^^^^^^^^^^^^^^^^^^^^^^^^^^^^^^^^^^^^^^^^^^^^^^\n",
      "  File \"/home/dai/anaconda3/lib/python3.11/site-packages/sklearn/linear_model/_logistic.py\", line 56, in _check_solver\n",
      "    raise ValueError(\n",
      "ValueError: Solver lbfgs supports only 'l2' or 'none' penalties, got elasticnet penalty.\n",
      "\n",
      "  warnings.warn(some_fits_failed_message, FitFailedWarning)\n",
      "/home/dai/anaconda3/lib/python3.11/site-packages/sklearn/model_selection/_search.py:979: UserWarning: One or more of the test scores are non-finite: [        nan         nan         nan         nan         nan -0.67305389\n",
      "         nan -1.41023545]\n",
      "  warnings.warn(\n",
      "/home/dai/anaconda3/lib/python3.11/site-packages/sklearn/linear_model/_logistic.py:460: ConvergenceWarning: lbfgs failed to converge (status=1):\n",
      "STOP: TOTAL NO. of ITERATIONS REACHED LIMIT.\n",
      "\n",
      "Increase the number of iterations (max_iter) or scale the data as shown in:\n",
      "    https://scikit-learn.org/stable/modules/preprocessing.html\n",
      "Please also refer to the documentation for alternative solver options:\n",
      "    https://scikit-learn.org/stable/modules/linear_model.html#logistic-regression\n",
      "  n_iter_i = _check_optimize_result(\n"
     ]
    },
    {
     "name": "stdout",
     "output_type": "stream",
     "text": [
      "[CV 4/5] END ....multi_class=ovr, penalty=None;, score=-0.412 total time=   0.1s\n",
      "[CV 5/5] END ....multi_class=ovr, penalty=None;, score=-0.894 total time=   0.1s\n"
     ]
    },
    {
     "data": {
      "text/html": [
       "<style>#sk-container-id-2 {color: black;}#sk-container-id-2 pre{padding: 0;}#sk-container-id-2 div.sk-toggleable {background-color: white;}#sk-container-id-2 label.sk-toggleable__label {cursor: pointer;display: block;width: 100%;margin-bottom: 0;padding: 0.3em;box-sizing: border-box;text-align: center;}#sk-container-id-2 label.sk-toggleable__label-arrow:before {content: \"▸\";float: left;margin-right: 0.25em;color: #696969;}#sk-container-id-2 label.sk-toggleable__label-arrow:hover:before {color: black;}#sk-container-id-2 div.sk-estimator:hover label.sk-toggleable__label-arrow:before {color: black;}#sk-container-id-2 div.sk-toggleable__content {max-height: 0;max-width: 0;overflow: hidden;text-align: left;background-color: #f0f8ff;}#sk-container-id-2 div.sk-toggleable__content pre {margin: 0.2em;color: black;border-radius: 0.25em;background-color: #f0f8ff;}#sk-container-id-2 input.sk-toggleable__control:checked~div.sk-toggleable__content {max-height: 200px;max-width: 100%;overflow: auto;}#sk-container-id-2 input.sk-toggleable__control:checked~label.sk-toggleable__label-arrow:before {content: \"▾\";}#sk-container-id-2 div.sk-estimator input.sk-toggleable__control:checked~label.sk-toggleable__label {background-color: #d4ebff;}#sk-container-id-2 div.sk-label input.sk-toggleable__control:checked~label.sk-toggleable__label {background-color: #d4ebff;}#sk-container-id-2 input.sk-hidden--visually {border: 0;clip: rect(1px 1px 1px 1px);clip: rect(1px, 1px, 1px, 1px);height: 1px;margin: -1px;overflow: hidden;padding: 0;position: absolute;width: 1px;}#sk-container-id-2 div.sk-estimator {font-family: monospace;background-color: #f0f8ff;border: 1px dotted black;border-radius: 0.25em;box-sizing: border-box;margin-bottom: 0.5em;}#sk-container-id-2 div.sk-estimator:hover {background-color: #d4ebff;}#sk-container-id-2 div.sk-parallel-item::after {content: \"\";width: 100%;border-bottom: 1px solid gray;flex-grow: 1;}#sk-container-id-2 div.sk-label:hover label.sk-toggleable__label {background-color: #d4ebff;}#sk-container-id-2 div.sk-serial::before {content: \"\";position: absolute;border-left: 1px solid gray;box-sizing: border-box;top: 0;bottom: 0;left: 50%;z-index: 0;}#sk-container-id-2 div.sk-serial {display: flex;flex-direction: column;align-items: center;background-color: white;padding-right: 0.2em;padding-left: 0.2em;position: relative;}#sk-container-id-2 div.sk-item {position: relative;z-index: 1;}#sk-container-id-2 div.sk-parallel {display: flex;align-items: stretch;justify-content: center;background-color: white;position: relative;}#sk-container-id-2 div.sk-item::before, #sk-container-id-2 div.sk-parallel-item::before {content: \"\";position: absolute;border-left: 1px solid gray;box-sizing: border-box;top: 0;bottom: 0;left: 50%;z-index: -1;}#sk-container-id-2 div.sk-parallel-item {display: flex;flex-direction: column;z-index: 1;position: relative;background-color: white;}#sk-container-id-2 div.sk-parallel-item:first-child::after {align-self: flex-end;width: 50%;}#sk-container-id-2 div.sk-parallel-item:last-child::after {align-self: flex-start;width: 50%;}#sk-container-id-2 div.sk-parallel-item:only-child::after {width: 0;}#sk-container-id-2 div.sk-dashed-wrapped {border: 1px dashed gray;margin: 0 0.4em 0.5em 0.4em;box-sizing: border-box;padding-bottom: 0.4em;background-color: white;}#sk-container-id-2 div.sk-label label {font-family: monospace;font-weight: bold;display: inline-block;line-height: 1.2em;}#sk-container-id-2 div.sk-label-container {text-align: center;}#sk-container-id-2 div.sk-container {/* jupyter's `normalize.less` sets `[hidden] { display: none; }` but bootstrap.min.css set `[hidden] { display: none !important; }` so we also need the `!important` here to be able to override the default hidden behavior on the sphinx rendered scikit-learn.org. See: https://github.com/scikit-learn/scikit-learn/issues/21755 */display: inline-block !important;position: relative;}#sk-container-id-2 div.sk-text-repr-fallback {display: none;}</style><div id=\"sk-container-id-2\" class=\"sk-top-container\"><div class=\"sk-text-repr-fallback\"><pre>GridSearchCV(cv=StratifiedKFold(n_splits=5, random_state=23, shuffle=True),\n",
       "             estimator=LogisticRegression(),\n",
       "             param_grid={&#x27;multi_class&#x27;: [&#x27;multimodel&#x27;, &#x27;ovr&#x27;],\n",
       "                         &#x27;penalty&#x27;: [&#x27;l1&#x27;, &#x27;l2&#x27;, &#x27;elasticnet&#x27;, None]},\n",
       "             scoring=&#x27;neg_log_loss&#x27;, verbose=3)</pre><b>In a Jupyter environment, please rerun this cell to show the HTML representation or trust the notebook. <br />On GitHub, the HTML representation is unable to render, please try loading this page with nbviewer.org.</b></div><div class=\"sk-container\" hidden><div class=\"sk-item sk-dashed-wrapped\"><div class=\"sk-label-container\"><div class=\"sk-label sk-toggleable\"><input class=\"sk-toggleable__control sk-hidden--visually\" id=\"sk-estimator-id-4\" type=\"checkbox\" ><label for=\"sk-estimator-id-4\" class=\"sk-toggleable__label sk-toggleable__label-arrow\">GridSearchCV</label><div class=\"sk-toggleable__content\"><pre>GridSearchCV(cv=StratifiedKFold(n_splits=5, random_state=23, shuffle=True),\n",
       "             estimator=LogisticRegression(),\n",
       "             param_grid={&#x27;multi_class&#x27;: [&#x27;multimodel&#x27;, &#x27;ovr&#x27;],\n",
       "                         &#x27;penalty&#x27;: [&#x27;l1&#x27;, &#x27;l2&#x27;, &#x27;elasticnet&#x27;, None]},\n",
       "             scoring=&#x27;neg_log_loss&#x27;, verbose=3)</pre></div></div></div><div class=\"sk-parallel\"><div class=\"sk-parallel-item\"><div class=\"sk-item\"><div class=\"sk-label-container\"><div class=\"sk-label sk-toggleable\"><input class=\"sk-toggleable__control sk-hidden--visually\" id=\"sk-estimator-id-5\" type=\"checkbox\" ><label for=\"sk-estimator-id-5\" class=\"sk-toggleable__label sk-toggleable__label-arrow\">estimator: LogisticRegression</label><div class=\"sk-toggleable__content\"><pre>LogisticRegression()</pre></div></div></div><div class=\"sk-serial\"><div class=\"sk-item\"><div class=\"sk-estimator sk-toggleable\"><input class=\"sk-toggleable__control sk-hidden--visually\" id=\"sk-estimator-id-6\" type=\"checkbox\" ><label for=\"sk-estimator-id-6\" class=\"sk-toggleable__label sk-toggleable__label-arrow\">LogisticRegression</label><div class=\"sk-toggleable__content\"><pre>LogisticRegression()</pre></div></div></div></div></div></div></div></div></div></div>"
      ],
      "text/plain": [
       "GridSearchCV(cv=StratifiedKFold(n_splits=5, random_state=23, shuffle=True),\n",
       "             estimator=LogisticRegression(),\n",
       "             param_grid={'multi_class': ['multimodel', 'ovr'],\n",
       "                         'penalty': ['l1', 'l2', 'elasticnet', None]},\n",
       "             scoring='neg_log_loss', verbose=3)"
      ]
     },
     "execution_count": 17,
     "metadata": {},
     "output_type": "execute_result"
    }
   ],
   "source": [
    "gcv.fit(X,y)"
   ]
  },
  {
   "cell_type": "code",
   "execution_count": 18,
   "id": "42b95fca",
   "metadata": {},
   "outputs": [],
   "source": [
    "lr_ll=gcv.best_score_"
   ]
  },
  {
   "cell_type": "markdown",
   "id": "1142b62f",
   "metadata": {},
   "source": [
    "# Decision Tree classifier"
   ]
  },
  {
   "cell_type": "code",
   "execution_count": 19,
   "id": "84e0b54e",
   "metadata": {},
   "outputs": [],
   "source": [
    "dtc=DecisionTreeClassifier()"
   ]
  },
  {
   "cell_type": "code",
   "execution_count": 20,
   "id": "99c13713",
   "metadata": {},
   "outputs": [
    {
     "data": {
      "text/plain": [
       "{'ccp_alpha': 0.0,\n",
       " 'class_weight': None,\n",
       " 'criterion': 'gini',\n",
       " 'max_depth': None,\n",
       " 'max_features': None,\n",
       " 'max_leaf_nodes': None,\n",
       " 'min_impurity_decrease': 0.0,\n",
       " 'min_samples_leaf': 1,\n",
       " 'min_samples_split': 2,\n",
       " 'min_weight_fraction_leaf': 0.0,\n",
       " 'random_state': None,\n",
       " 'splitter': 'best'}"
      ]
     },
     "execution_count": 20,
     "metadata": {},
     "output_type": "execute_result"
    }
   ],
   "source": [
    "dtc.get_params()"
   ]
  },
  {
   "cell_type": "code",
   "execution_count": 21,
   "id": "96a1d038",
   "metadata": {},
   "outputs": [],
   "source": [
    "params={'max_depth':[2,3,4,5,6,None],'min_samples_leaf':[1,3,5,7,10,15],'min_samples_split': [2,5,10]}"
   ]
  },
  {
   "cell_type": "code",
   "execution_count": 22,
   "id": "e33c6286",
   "metadata": {},
   "outputs": [],
   "source": [
    "gcv=GridSearchCV(dtc,param_grid=params,verbose=3,cv=kfold,scoring='neg_log_loss')"
   ]
  },
  {
   "cell_type": "code",
   "execution_count": 23,
   "id": "9a0d3555",
   "metadata": {},
   "outputs": [
    {
     "name": "stdout",
     "output_type": "stream",
     "text": [
      "Fitting 5 folds for each of 108 candidates, totalling 540 fits\n",
      "[CV 1/5] END max_depth=2, min_samples_leaf=1, min_samples_split=2;, score=-1.150 total time=   0.0s\n",
      "[CV 2/5] END max_depth=2, min_samples_leaf=1, min_samples_split=2;, score=-2.008 total time=   0.0s\n",
      "[CV 3/5] END max_depth=2, min_samples_leaf=1, min_samples_split=2;, score=-1.150 total time=   0.0s\n",
      "[CV 4/5] END max_depth=2, min_samples_leaf=1, min_samples_split=2;, score=-1.150 total time=   0.0s\n",
      "[CV 5/5] END max_depth=2, min_samples_leaf=1, min_samples_split=2;, score=-1.138 total time=   0.0s\n",
      "[CV 1/5] END max_depth=2, min_samples_leaf=1, min_samples_split=5;, score=-1.150 total time=   0.0s\n",
      "[CV 2/5] END max_depth=2, min_samples_leaf=1, min_samples_split=5;, score=-2.008 total time=   0.0s\n",
      "[CV 3/5] END max_depth=2, min_samples_leaf=1, min_samples_split=5;, score=-1.150 total time=   0.0s\n",
      "[CV 4/5] END max_depth=2, min_samples_leaf=1, min_samples_split=5;, score=-1.150 total time=   0.0s\n",
      "[CV 5/5] END max_depth=2, min_samples_leaf=1, min_samples_split=5;, score=-1.138 total time=   0.0s\n",
      "[CV 1/5] END max_depth=2, min_samples_leaf=1, min_samples_split=10;, score=-1.150 total time=   0.0s\n",
      "[CV 2/5] END max_depth=2, min_samples_leaf=1, min_samples_split=10;, score=-2.008 total time=   0.0s\n",
      "[CV 3/5] END max_depth=2, min_samples_leaf=1, min_samples_split=10;, score=-1.150 total time=   0.0s\n",
      "[CV 4/5] END max_depth=2, min_samples_leaf=1, min_samples_split=10;, score=-1.150 total time=   0.0s\n",
      "[CV 5/5] END max_depth=2, min_samples_leaf=1, min_samples_split=10;, score=-1.138 total time=   0.0s\n",
      "[CV 1/5] END max_depth=2, min_samples_leaf=3, min_samples_split=2;, score=-1.150 total time=   0.0s\n",
      "[CV 2/5] END max_depth=2, min_samples_leaf=3, min_samples_split=2;, score=-2.008 total time=   0.0s\n",
      "[CV 3/5] END max_depth=2, min_samples_leaf=3, min_samples_split=2;, score=-1.150 total time=   0.0s\n",
      "[CV 4/5] END max_depth=2, min_samples_leaf=3, min_samples_split=2;, score=-1.150 total time=   0.0s\n",
      "[CV 5/5] END max_depth=2, min_samples_leaf=3, min_samples_split=2;, score=-1.138 total time=   0.0s\n",
      "[CV 1/5] END max_depth=2, min_samples_leaf=3, min_samples_split=5;, score=-1.150 total time=   0.0s\n",
      "[CV 2/5] END max_depth=2, min_samples_leaf=3, min_samples_split=5;, score=-1.150 total time=   0.0s\n",
      "[CV 3/5] END max_depth=2, min_samples_leaf=3, min_samples_split=5;, score=-1.150 total time=   0.0s\n",
      "[CV 4/5] END max_depth=2, min_samples_leaf=3, min_samples_split=5;, score=-1.150 total time=   0.0s\n",
      "[CV 5/5] END max_depth=2, min_samples_leaf=3, min_samples_split=5;, score=-1.138 total time=   0.0s\n",
      "[CV 1/5] END max_depth=2, min_samples_leaf=3, min_samples_split=10;, score=-1.150 total time=   0.0s\n",
      "[CV 2/5] END max_depth=2, min_samples_leaf=3, min_samples_split=10;, score=-2.008 total time=   0.0s\n",
      "[CV 3/5] END max_depth=2, min_samples_leaf=3, min_samples_split=10;, score=-1.150 total time=   0.0s\n",
      "[CV 4/5] END max_depth=2, min_samples_leaf=3, min_samples_split=10;, score=-1.150 total time=   0.0s\n",
      "[CV 5/5] END max_depth=2, min_samples_leaf=3, min_samples_split=10;, score=-1.138 total time=   0.0s\n",
      "[CV 1/5] END max_depth=2, min_samples_leaf=5, min_samples_split=2;, score=-1.150 total time=   0.0s\n",
      "[CV 2/5] END max_depth=2, min_samples_leaf=5, min_samples_split=2;, score=-1.150 total time=   0.0s\n",
      "[CV 3/5] END max_depth=2, min_samples_leaf=5, min_samples_split=2;, score=-1.150 total time=   0.0s\n",
      "[CV 4/5] END max_depth=2, min_samples_leaf=5, min_samples_split=2;, score=-1.150 total time=   0.0s\n",
      "[CV 5/5] END max_depth=2, min_samples_leaf=5, min_samples_split=2;, score=-1.138 total time=   0.0s\n",
      "[CV 1/5] END max_depth=2, min_samples_leaf=5, min_samples_split=5;, score=-1.150 total time=   0.0s\n",
      "[CV 2/5] END max_depth=2, min_samples_leaf=5, min_samples_split=5;, score=-2.008 total time=   0.0s\n",
      "[CV 3/5] END max_depth=2, min_samples_leaf=5, min_samples_split=5;, score=-1.150 total time=   0.0s\n",
      "[CV 4/5] END max_depth=2, min_samples_leaf=5, min_samples_split=5;, score=-1.150 total time=   0.0s\n",
      "[CV 5/5] END max_depth=2, min_samples_leaf=5, min_samples_split=5;, score=-1.138 total time=   0.0s\n",
      "[CV 1/5] END max_depth=2, min_samples_leaf=5, min_samples_split=10;, score=-1.150 total time=   0.0s\n",
      "[CV 2/5] END max_depth=2, min_samples_leaf=5, min_samples_split=10;, score=-2.008 total time=   0.0s\n",
      "[CV 3/5] END max_depth=2, min_samples_leaf=5, min_samples_split=10;, score=-1.150 total time=   0.0s\n",
      "[CV 4/5] END max_depth=2, min_samples_leaf=5, min_samples_split=10;, score=-1.150 total time=   0.0s\n",
      "[CV 5/5] END max_depth=2, min_samples_leaf=5, min_samples_split=10;, score=-1.138 total time=   0.0s\n",
      "[CV 1/5] END max_depth=2, min_samples_leaf=7, min_samples_split=2;, score=-1.150 total time=   0.0s\n",
      "[CV 2/5] END max_depth=2, min_samples_leaf=7, min_samples_split=2;, score=-1.150 total time=   0.0s\n",
      "[CV 3/5] END max_depth=2, min_samples_leaf=7, min_samples_split=2;, score=-1.150 total time=   0.0s\n",
      "[CV 4/5] END max_depth=2, min_samples_leaf=7, min_samples_split=2;, score=-1.150 total time=   0.0s\n",
      "[CV 5/5] END max_depth=2, min_samples_leaf=7, min_samples_split=2;, score=-1.138 total time=   0.0s\n",
      "[CV 1/5] END max_depth=2, min_samples_leaf=7, min_samples_split=5;, score=-1.150 total time=   0.0s\n",
      "[CV 2/5] END max_depth=2, min_samples_leaf=7, min_samples_split=5;, score=-1.150 total time=   0.0s\n",
      "[CV 3/5] END max_depth=2, min_samples_leaf=7, min_samples_split=5;, score=-1.150 total time=   0.0s\n",
      "[CV 4/5] END max_depth=2, min_samples_leaf=7, min_samples_split=5;, score=-1.150 total time=   0.0s\n",
      "[CV 5/5] END max_depth=2, min_samples_leaf=7, min_samples_split=5;, score=-1.138 total time=   0.0s\n",
      "[CV 1/5] END max_depth=2, min_samples_leaf=7, min_samples_split=10;, score=-1.150 total time=   0.0s\n",
      "[CV 2/5] END max_depth=2, min_samples_leaf=7, min_samples_split=10;, score=-2.008 total time=   0.0s\n",
      "[CV 3/5] END max_depth=2, min_samples_leaf=7, min_samples_split=10;, score=-1.150 total time=   0.0s\n",
      "[CV 4/5] END max_depth=2, min_samples_leaf=7, min_samples_split=10;, score=-1.150 total time=   0.0s\n",
      "[CV 5/5] END max_depth=2, min_samples_leaf=7, min_samples_split=10;, score=-1.138 total time=   0.0s\n",
      "[CV 1/5] END max_depth=2, min_samples_leaf=10, min_samples_split=2;, score=-1.150 total time=   0.0s\n",
      "[CV 2/5] END max_depth=2, min_samples_leaf=10, min_samples_split=2;, score=-2.008 total time=   0.0s\n",
      "[CV 3/5] END max_depth=2, min_samples_leaf=10, min_samples_split=2;, score=-1.150 total time=   0.0s\n",
      "[CV 4/5] END max_depth=2, min_samples_leaf=10, min_samples_split=2;, score=-1.150 total time=   0.0s\n",
      "[CV 5/5] END max_depth=2, min_samples_leaf=10, min_samples_split=2;, score=-1.138 total time=   0.0s\n",
      "[CV 1/5] END max_depth=2, min_samples_leaf=10, min_samples_split=5;, score=-1.150 total time=   0.0s\n",
      "[CV 2/5] END max_depth=2, min_samples_leaf=10, min_samples_split=5;, score=-2.008 total time=   0.0s\n",
      "[CV 3/5] END max_depth=2, min_samples_leaf=10, min_samples_split=5;, score=-1.150 total time=   0.0s\n",
      "[CV 4/5] END max_depth=2, min_samples_leaf=10, min_samples_split=5;, score=-1.150 total time=   0.0s\n",
      "[CV 5/5] END max_depth=2, min_samples_leaf=10, min_samples_split=5;, score=-1.138 total time=   0.0s\n",
      "[CV 1/5] END max_depth=2, min_samples_leaf=10, min_samples_split=10;, score=-1.150 total time=   0.0s\n",
      "[CV 2/5] END max_depth=2, min_samples_leaf=10, min_samples_split=10;, score=-1.150 total time=   0.0s\n",
      "[CV 3/5] END max_depth=2, min_samples_leaf=10, min_samples_split=10;, score=-1.150 total time=   0.0s\n",
      "[CV 4/5] END max_depth=2, min_samples_leaf=10, min_samples_split=10;, score=-1.150 total time=   0.0s\n",
      "[CV 5/5] END max_depth=2, min_samples_leaf=10, min_samples_split=10;, score=-1.138 total time=   0.0s\n",
      "[CV 1/5] END max_depth=2, min_samples_leaf=15, min_samples_split=2;, score=-1.150 total time=   0.0s\n",
      "[CV 2/5] END max_depth=2, min_samples_leaf=15, min_samples_split=2;, score=-2.008 total time=   0.0s\n",
      "[CV 3/5] END max_depth=2, min_samples_leaf=15, min_samples_split=2;, score=-1.150 total time=   0.0s\n",
      "[CV 4/5] END max_depth=2, min_samples_leaf=15, min_samples_split=2;, score=-1.150 total time=   0.0s\n",
      "[CV 5/5] END max_depth=2, min_samples_leaf=15, min_samples_split=2;, score=-1.138 total time=   0.0s\n",
      "[CV 1/5] END max_depth=2, min_samples_leaf=15, min_samples_split=5;, score=-1.150 total time=   0.0s\n",
      "[CV 2/5] END max_depth=2, min_samples_leaf=15, min_samples_split=5;, score=-1.150 total time=   0.0s\n",
      "[CV 3/5] END max_depth=2, min_samples_leaf=15, min_samples_split=5;, score=-1.150 total time=   0.0s\n",
      "[CV 4/5] END max_depth=2, min_samples_leaf=15, min_samples_split=5;, score=-1.150 total time=   0.0s\n",
      "[CV 5/5] END max_depth=2, min_samples_leaf=15, min_samples_split=5;, score=-1.138 total time=   0.0s\n",
      "[CV 1/5] END max_depth=2, min_samples_leaf=15, min_samples_split=10;, score=-1.150 total time=   0.0s\n",
      "[CV 2/5] END max_depth=2, min_samples_leaf=15, min_samples_split=10;, score=-1.150 total time=   0.0s\n",
      "[CV 3/5] END max_depth=2, min_samples_leaf=15, min_samples_split=10;, score=-1.150 total time=   0.0s\n",
      "[CV 4/5] END max_depth=2, min_samples_leaf=15, min_samples_split=10;, score=-1.150 total time=   0.0s\n",
      "[CV 5/5] END max_depth=2, min_samples_leaf=15, min_samples_split=10;, score=-1.138 total time=   0.0s\n",
      "[CV 1/5] END max_depth=3, min_samples_leaf=1, min_samples_split=2;, score=-0.792 total time=   0.0s\n",
      "[CV 2/5] END max_depth=3, min_samples_leaf=1, min_samples_split=2;, score=-1.650 total time=   0.0s\n",
      "[CV 3/5] END max_depth=3, min_samples_leaf=1, min_samples_split=2;, score=-2.509 total time=   0.0s\n",
      "[CV 4/5] END max_depth=3, min_samples_leaf=1, min_samples_split=2;, score=-0.792 total time=   0.0s\n",
      "[CV 5/5] END max_depth=3, min_samples_leaf=1, min_samples_split=2;, score=-0.778 total time=   0.0s\n",
      "[CV 1/5] END max_depth=3, min_samples_leaf=1, min_samples_split=5;, score=-0.792 total time=   0.0s\n",
      "[CV 2/5] END max_depth=3, min_samples_leaf=1, min_samples_split=5;, score=-0.792 total time=   0.0s\n",
      "[CV 3/5] END max_depth=3, min_samples_leaf=1, min_samples_split=5;, score=-2.509 total time=   0.0s\n",
      "[CV 4/5] END max_depth=3, min_samples_leaf=1, min_samples_split=5;, score=-0.792 total time=   0.0s\n",
      "[CV 5/5] END max_depth=3, min_samples_leaf=1, min_samples_split=5;, score=-0.778 total time=   0.0s\n",
      "[CV 1/5] END max_depth=3, min_samples_leaf=1, min_samples_split=10;, score=-0.792 total time=   0.0s\n",
      "[CV 2/5] END max_depth=3, min_samples_leaf=1, min_samples_split=10;, score=-1.650 total time=   0.0s\n",
      "[CV 3/5] END max_depth=3, min_samples_leaf=1, min_samples_split=10;, score=-2.509 total time=   0.0s\n",
      "[CV 4/5] END max_depth=3, min_samples_leaf=1, min_samples_split=10;, score=-0.792 total time=   0.0s\n",
      "[CV 5/5] END max_depth=3, min_samples_leaf=1, min_samples_split=10;, score=-0.778 total time=   0.0s\n",
      "[CV 1/5] END max_depth=3, min_samples_leaf=3, min_samples_split=2;, score=-0.792 total time=   0.0s\n",
      "[CV 2/5] END max_depth=3, min_samples_leaf=3, min_samples_split=2;, score=-1.650 total time=   0.0s\n",
      "[CV 3/5] END max_depth=3, min_samples_leaf=3, min_samples_split=2;, score=-2.509 total time=   0.0s\n"
     ]
    },
    {
     "name": "stdout",
     "output_type": "stream",
     "text": [
      "[CV 4/5] END max_depth=3, min_samples_leaf=3, min_samples_split=2;, score=-0.792 total time=   0.0s\n",
      "[CV 5/5] END max_depth=3, min_samples_leaf=3, min_samples_split=2;, score=-0.778 total time=   0.0s\n",
      "[CV 1/5] END max_depth=3, min_samples_leaf=3, min_samples_split=5;, score=-0.792 total time=   0.0s\n",
      "[CV 2/5] END max_depth=3, min_samples_leaf=3, min_samples_split=5;, score=-1.650 total time=   0.0s\n",
      "[CV 3/5] END max_depth=3, min_samples_leaf=3, min_samples_split=5;, score=-2.509 total time=   0.0s\n",
      "[CV 4/5] END max_depth=3, min_samples_leaf=3, min_samples_split=5;, score=-0.792 total time=   0.0s\n",
      "[CV 5/5] END max_depth=3, min_samples_leaf=3, min_samples_split=5;, score=-0.778 total time=   0.0s\n",
      "[CV 1/5] END max_depth=3, min_samples_leaf=3, min_samples_split=10;, score=-0.792 total time=   0.0s\n",
      "[CV 2/5] END max_depth=3, min_samples_leaf=3, min_samples_split=10;, score=-0.792 total time=   0.0s\n",
      "[CV 3/5] END max_depth=3, min_samples_leaf=3, min_samples_split=10;, score=-2.509 total time=   0.0s\n",
      "[CV 4/5] END max_depth=3, min_samples_leaf=3, min_samples_split=10;, score=-0.792 total time=   0.0s\n",
      "[CV 5/5] END max_depth=3, min_samples_leaf=3, min_samples_split=10;, score=-0.778 total time=   0.0s\n",
      "[CV 1/5] END max_depth=3, min_samples_leaf=5, min_samples_split=2;, score=-0.792 total time=   0.0s\n",
      "[CV 2/5] END max_depth=3, min_samples_leaf=5, min_samples_split=2;, score=-1.650 total time=   0.0s\n",
      "[CV 3/5] END max_depth=3, min_samples_leaf=5, min_samples_split=2;, score=-2.509 total time=   0.0s\n",
      "[CV 4/5] END max_depth=3, min_samples_leaf=5, min_samples_split=2;, score=-0.792 total time=   0.0s\n",
      "[CV 5/5] END max_depth=3, min_samples_leaf=5, min_samples_split=2;, score=-0.778 total time=   0.0s\n",
      "[CV 1/5] END max_depth=3, min_samples_leaf=5, min_samples_split=5;, score=-0.792 total time=   0.0s\n",
      "[CV 2/5] END max_depth=3, min_samples_leaf=5, min_samples_split=5;, score=-1.650 total time=   0.0s\n",
      "[CV 3/5] END max_depth=3, min_samples_leaf=5, min_samples_split=5;, score=-2.509 total time=   0.0s\n",
      "[CV 4/5] END max_depth=3, min_samples_leaf=5, min_samples_split=5;, score=-0.792 total time=   0.0s\n",
      "[CV 5/5] END max_depth=3, min_samples_leaf=5, min_samples_split=5;, score=-0.778 total time=   0.0s\n",
      "[CV 1/5] END max_depth=3, min_samples_leaf=5, min_samples_split=10;, score=-0.792 total time=   0.0s\n",
      "[CV 2/5] END max_depth=3, min_samples_leaf=5, min_samples_split=10;, score=-0.792 total time=   0.0s\n",
      "[CV 3/5] END max_depth=3, min_samples_leaf=5, min_samples_split=10;, score=-2.509 total time=   0.0s\n",
      "[CV 4/5] END max_depth=3, min_samples_leaf=5, min_samples_split=10;, score=-0.792 total time=   0.0s\n",
      "[CV 5/5] END max_depth=3, min_samples_leaf=5, min_samples_split=10;, score=-0.778 total time=   0.0s\n",
      "[CV 1/5] END max_depth=3, min_samples_leaf=7, min_samples_split=2;, score=-0.792 total time=   0.0s\n",
      "[CV 2/5] END max_depth=3, min_samples_leaf=7, min_samples_split=2;, score=-0.792 total time=   0.0s\n",
      "[CV 3/5] END max_depth=3, min_samples_leaf=7, min_samples_split=2;, score=-2.509 total time=   0.0s\n",
      "[CV 4/5] END max_depth=3, min_samples_leaf=7, min_samples_split=2;, score=-0.792 total time=   0.0s\n",
      "[CV 5/5] END max_depth=3, min_samples_leaf=7, min_samples_split=2;, score=-0.778 total time=   0.0s\n",
      "[CV 1/5] END max_depth=3, min_samples_leaf=7, min_samples_split=5;, score=-0.792 total time=   0.0s\n",
      "[CV 2/5] END max_depth=3, min_samples_leaf=7, min_samples_split=5;, score=-0.792 total time=   0.0s\n",
      "[CV 3/5] END max_depth=3, min_samples_leaf=7, min_samples_split=5;, score=-2.509 total time=   0.0s\n",
      "[CV 4/5] END max_depth=3, min_samples_leaf=7, min_samples_split=5;, score=-0.792 total time=   0.0s\n",
      "[CV 5/5] END max_depth=3, min_samples_leaf=7, min_samples_split=5;, score=-0.778 total time=   0.0s\n",
      "[CV 1/5] END max_depth=3, min_samples_leaf=7, min_samples_split=10;, score=-0.792 total time=   0.0s\n",
      "[CV 2/5] END max_depth=3, min_samples_leaf=7, min_samples_split=10;, score=-1.650 total time=   0.0s\n",
      "[CV 3/5] END max_depth=3, min_samples_leaf=7, min_samples_split=10;, score=-2.509 total time=   0.0s\n",
      "[CV 4/5] END max_depth=3, min_samples_leaf=7, min_samples_split=10;, score=-0.792 total time=   0.0s\n",
      "[CV 5/5] END max_depth=3, min_samples_leaf=7, min_samples_split=10;, score=-0.778 total time=   0.0s\n",
      "[CV 1/5] END max_depth=3, min_samples_leaf=10, min_samples_split=2;, score=-0.792 total time=   0.0s\n",
      "[CV 2/5] END max_depth=3, min_samples_leaf=10, min_samples_split=2;, score=-0.792 total time=   0.0s\n",
      "[CV 3/5] END max_depth=3, min_samples_leaf=10, min_samples_split=2;, score=-2.509 total time=   0.0s\n",
      "[CV 4/5] END max_depth=3, min_samples_leaf=10, min_samples_split=2;, score=-0.792 total time=   0.0s\n",
      "[CV 5/5] END max_depth=3, min_samples_leaf=10, min_samples_split=2;, score=-0.778 total time=   0.0s\n",
      "[CV 1/5] END max_depth=3, min_samples_leaf=10, min_samples_split=5;, score=-0.792 total time=   0.0s\n",
      "[CV 2/5] END max_depth=3, min_samples_leaf=10, min_samples_split=5;, score=-1.650 total time=   0.0s\n",
      "[CV 3/5] END max_depth=3, min_samples_leaf=10, min_samples_split=5;, score=-2.509 total time=   0.0s\n",
      "[CV 4/5] END max_depth=3, min_samples_leaf=10, min_samples_split=5;, score=-0.792 total time=   0.0s\n",
      "[CV 5/5] END max_depth=3, min_samples_leaf=10, min_samples_split=5;, score=-0.778 total time=   0.0s\n",
      "[CV 1/5] END max_depth=3, min_samples_leaf=10, min_samples_split=10;, score=-0.792 total time=   0.0s\n",
      "[CV 2/5] END max_depth=3, min_samples_leaf=10, min_samples_split=10;, score=-0.792 total time=   0.0s\n",
      "[CV 3/5] END max_depth=3, min_samples_leaf=10, min_samples_split=10;, score=-2.509 total time=   0.0s\n",
      "[CV 4/5] END max_depth=3, min_samples_leaf=10, min_samples_split=10;, score=-0.792 total time=   0.0s\n",
      "[CV 5/5] END max_depth=3, min_samples_leaf=10, min_samples_split=10;, score=-0.778 total time=   0.0s\n",
      "[CV 1/5] END max_depth=3, min_samples_leaf=15, min_samples_split=2;, score=-0.792 total time=   0.0s\n",
      "[CV 2/5] END max_depth=3, min_samples_leaf=15, min_samples_split=2;, score=-1.650 total time=   0.0s\n",
      "[CV 3/5] END max_depth=3, min_samples_leaf=15, min_samples_split=2;, score=-2.509 total time=   0.0s\n",
      "[CV 4/5] END max_depth=3, min_samples_leaf=15, min_samples_split=2;, score=-0.792 total time=   0.0s\n",
      "[CV 5/5] END max_depth=3, min_samples_leaf=15, min_samples_split=2;, score=-0.778 total time=   0.0s\n",
      "[CV 1/5] END max_depth=3, min_samples_leaf=15, min_samples_split=5;, score=-0.792 total time=   0.0s\n",
      "[CV 2/5] END max_depth=3, min_samples_leaf=15, min_samples_split=5;, score=-0.792 total time=   0.0s\n",
      "[CV 3/5] END max_depth=3, min_samples_leaf=15, min_samples_split=5;, score=-2.509 total time=   0.0s\n",
      "[CV 4/5] END max_depth=3, min_samples_leaf=15, min_samples_split=5;, score=-0.792 total time=   0.0s\n",
      "[CV 5/5] END max_depth=3, min_samples_leaf=15, min_samples_split=5;, score=-0.778 total time=   0.0s\n",
      "[CV 1/5] END max_depth=3, min_samples_leaf=15, min_samples_split=10;, score=-0.792 total time=   0.0s\n",
      "[CV 2/5] END max_depth=3, min_samples_leaf=15, min_samples_split=10;, score=-1.650 total time=   0.0s\n",
      "[CV 3/5] END max_depth=3, min_samples_leaf=15, min_samples_split=10;, score=-2.509 total time=   0.0s\n",
      "[CV 4/5] END max_depth=3, min_samples_leaf=15, min_samples_split=10;, score=-0.792 total time=   0.0s\n",
      "[CV 5/5] END max_depth=3, min_samples_leaf=15, min_samples_split=10;, score=-0.778 total time=   0.0s\n",
      "[CV 1/5] END max_depth=4, min_samples_leaf=1, min_samples_split=2;, score=-0.661 total time=   0.0s\n",
      "[CV 2/5] END max_depth=4, min_samples_leaf=1, min_samples_split=2;, score=-0.581 total time=   0.0s\n",
      "[CV 3/5] END max_depth=4, min_samples_leaf=1, min_samples_split=2;, score=-2.454 total time=   0.0s\n",
      "[CV 4/5] END max_depth=4, min_samples_leaf=1, min_samples_split=2;, score=-0.531 total time=   0.0s\n",
      "[CV 5/5] END max_depth=4, min_samples_leaf=1, min_samples_split=2;, score=-0.591 total time=   0.0s\n",
      "[CV 1/5] END max_depth=4, min_samples_leaf=1, min_samples_split=5;, score=-0.661 total time=   0.0s\n",
      "[CV 2/5] END max_depth=4, min_samples_leaf=1, min_samples_split=5;, score=-1.440 total time=   0.0s\n",
      "[CV 3/5] END max_depth=4, min_samples_leaf=1, min_samples_split=5;, score=-2.454 total time=   0.0s\n",
      "[CV 4/5] END max_depth=4, min_samples_leaf=1, min_samples_split=5;, score=-0.531 total time=   0.0s\n",
      "[CV 5/5] END max_depth=4, min_samples_leaf=1, min_samples_split=5;, score=-0.591 total time=   0.0s\n",
      "[CV 1/5] END max_depth=4, min_samples_leaf=1, min_samples_split=10;, score=-0.661 total time=   0.0s\n",
      "[CV 2/5] END max_depth=4, min_samples_leaf=1, min_samples_split=10;, score=-0.581 total time=   0.0s\n",
      "[CV 3/5] END max_depth=4, min_samples_leaf=1, min_samples_split=10;, score=-2.454 total time=   0.0s\n",
      "[CV 4/5] END max_depth=4, min_samples_leaf=1, min_samples_split=10;, score=-0.531 total time=   0.0s\n",
      "[CV 5/5] END max_depth=4, min_samples_leaf=1, min_samples_split=10;, score=-0.591 total time=   0.0s\n",
      "[CV 1/5] END max_depth=4, min_samples_leaf=3, min_samples_split=2;, score=-0.661 total time=   0.0s\n",
      "[CV 2/5] END max_depth=4, min_samples_leaf=3, min_samples_split=2;, score=-0.581 total time=   0.0s\n",
      "[CV 3/5] END max_depth=4, min_samples_leaf=3, min_samples_split=2;, score=-2.454 total time=   0.0s\n",
      "[CV 4/5] END max_depth=4, min_samples_leaf=3, min_samples_split=2;, score=-0.531 total time=   0.0s\n",
      "[CV 5/5] END max_depth=4, min_samples_leaf=3, min_samples_split=2;, score=-0.591 total time=   0.0s\n",
      "[CV 1/5] END max_depth=4, min_samples_leaf=3, min_samples_split=5;, score=-0.661 total time=   0.0s\n",
      "[CV 2/5] END max_depth=4, min_samples_leaf=3, min_samples_split=5;, score=-1.505 total time=   0.0s\n",
      "[CV 3/5] END max_depth=4, min_samples_leaf=3, min_samples_split=5;, score=-2.454 total time=   0.0s\n",
      "[CV 4/5] END max_depth=4, min_samples_leaf=3, min_samples_split=5;, score=-0.531 total time=   0.0s\n",
      "[CV 5/5] END max_depth=4, min_samples_leaf=3, min_samples_split=5;, score=-0.591 total time=   0.0s\n",
      "[CV 1/5] END max_depth=4, min_samples_leaf=3, min_samples_split=10;, score=-0.661 total time=   0.0s\n",
      "[CV 2/5] END max_depth=4, min_samples_leaf=3, min_samples_split=10;, score=-0.581 total time=   0.0s\n",
      "[CV 3/5] END max_depth=4, min_samples_leaf=3, min_samples_split=10;, score=-2.454 total time=   0.0s\n",
      "[CV 4/5] END max_depth=4, min_samples_leaf=3, min_samples_split=10;, score=-0.531 total time=   0.0s\n",
      "[CV 5/5] END max_depth=4, min_samples_leaf=3, min_samples_split=10;, score=-0.591 total time=   0.0s\n",
      "[CV 1/5] END max_depth=4, min_samples_leaf=5, min_samples_split=2;, score=-0.661 total time=   0.0s\n",
      "[CV 2/5] END max_depth=4, min_samples_leaf=5, min_samples_split=2;, score=-1.505 total time=   0.0s\n",
      "[CV 3/5] END max_depth=4, min_samples_leaf=5, min_samples_split=2;, score=-2.454 total time=   0.0s\n",
      "[CV 4/5] END max_depth=4, min_samples_leaf=5, min_samples_split=2;, score=-0.531 total time=   0.0s\n",
      "[CV 5/5] END max_depth=4, min_samples_leaf=5, min_samples_split=2;, score=-0.591 total time=   0.0s\n",
      "[CV 1/5] END max_depth=4, min_samples_leaf=5, min_samples_split=5;, score=-0.661 total time=   0.0s\n",
      "[CV 2/5] END max_depth=4, min_samples_leaf=5, min_samples_split=5;, score=-1.440 total time=   0.0s\n",
      "[CV 3/5] END max_depth=4, min_samples_leaf=5, min_samples_split=5;, score=-2.454 total time=   0.0s\n",
      "[CV 4/5] END max_depth=4, min_samples_leaf=5, min_samples_split=5;, score=-0.531 total time=   0.0s\n",
      "[CV 5/5] END max_depth=4, min_samples_leaf=5, min_samples_split=5;, score=-0.591 total time=   0.0s\n",
      "[CV 1/5] END max_depth=4, min_samples_leaf=5, min_samples_split=10;, score=-0.661 total time=   0.0s\n"
     ]
    },
    {
     "name": "stdout",
     "output_type": "stream",
     "text": [
      "[CV 2/5] END max_depth=4, min_samples_leaf=5, min_samples_split=10;, score=-1.505 total time=   0.0s\n",
      "[CV 3/5] END max_depth=4, min_samples_leaf=5, min_samples_split=10;, score=-2.454 total time=   0.0s\n",
      "[CV 4/5] END max_depth=4, min_samples_leaf=5, min_samples_split=10;, score=-0.531 total time=   0.0s\n",
      "[CV 5/5] END max_depth=4, min_samples_leaf=5, min_samples_split=10;, score=-0.591 total time=   0.0s\n",
      "[CV 1/5] END max_depth=4, min_samples_leaf=7, min_samples_split=2;, score=-0.661 total time=   0.0s\n",
      "[CV 2/5] END max_depth=4, min_samples_leaf=7, min_samples_split=2;, score=-1.505 total time=   0.0s\n",
      "[CV 3/5] END max_depth=4, min_samples_leaf=7, min_samples_split=2;, score=-2.454 total time=   0.0s\n",
      "[CV 4/5] END max_depth=4, min_samples_leaf=7, min_samples_split=2;, score=-0.531 total time=   0.0s\n",
      "[CV 5/5] END max_depth=4, min_samples_leaf=7, min_samples_split=2;, score=-0.591 total time=   0.0s\n",
      "[CV 1/5] END max_depth=4, min_samples_leaf=7, min_samples_split=5;, score=-0.661 total time=   0.0s\n",
      "[CV 2/5] END max_depth=4, min_samples_leaf=7, min_samples_split=5;, score=-1.505 total time=   0.0s\n",
      "[CV 3/5] END max_depth=4, min_samples_leaf=7, min_samples_split=5;, score=-2.454 total time=   0.0s\n",
      "[CV 4/5] END max_depth=4, min_samples_leaf=7, min_samples_split=5;, score=-0.531 total time=   0.0s\n",
      "[CV 5/5] END max_depth=4, min_samples_leaf=7, min_samples_split=5;, score=-0.591 total time=   0.0s\n",
      "[CV 1/5] END max_depth=4, min_samples_leaf=7, min_samples_split=10;, score=-0.661 total time=   0.0s\n",
      "[CV 2/5] END max_depth=4, min_samples_leaf=7, min_samples_split=10;, score=-0.647 total time=   0.0s\n",
      "[CV 3/5] END max_depth=4, min_samples_leaf=7, min_samples_split=10;, score=-2.454 total time=   0.0s\n",
      "[CV 4/5] END max_depth=4, min_samples_leaf=7, min_samples_split=10;, score=-0.531 total time=   0.0s\n",
      "[CV 5/5] END max_depth=4, min_samples_leaf=7, min_samples_split=10;, score=-0.591 total time=   0.0s\n",
      "[CV 1/5] END max_depth=4, min_samples_leaf=10, min_samples_split=2;, score=-0.661 total time=   0.0s\n",
      "[CV 2/5] END max_depth=4, min_samples_leaf=10, min_samples_split=2;, score=-1.505 total time=   0.0s\n",
      "[CV 3/5] END max_depth=4, min_samples_leaf=10, min_samples_split=2;, score=-2.454 total time=   0.0s\n",
      "[CV 4/5] END max_depth=4, min_samples_leaf=10, min_samples_split=2;, score=-0.531 total time=   0.0s\n",
      "[CV 5/5] END max_depth=4, min_samples_leaf=10, min_samples_split=2;, score=-0.591 total time=   0.0s\n",
      "[CV 1/5] END max_depth=4, min_samples_leaf=10, min_samples_split=5;, score=-0.661 total time=   0.0s\n",
      "[CV 2/5] END max_depth=4, min_samples_leaf=10, min_samples_split=5;, score=-0.647 total time=   0.0s\n",
      "[CV 3/5] END max_depth=4, min_samples_leaf=10, min_samples_split=5;, score=-2.454 total time=   0.0s\n",
      "[CV 4/5] END max_depth=4, min_samples_leaf=10, min_samples_split=5;, score=-0.531 total time=   0.0s\n",
      "[CV 5/5] END max_depth=4, min_samples_leaf=10, min_samples_split=5;, score=-0.591 total time=   0.0s\n",
      "[CV 1/5] END max_depth=4, min_samples_leaf=10, min_samples_split=10;, score=-0.661 total time=   0.0s\n",
      "[CV 2/5] END max_depth=4, min_samples_leaf=10, min_samples_split=10;, score=-0.647 total time=   0.0s\n",
      "[CV 3/5] END max_depth=4, min_samples_leaf=10, min_samples_split=10;, score=-2.454 total time=   0.0s\n",
      "[CV 4/5] END max_depth=4, min_samples_leaf=10, min_samples_split=10;, score=-0.531 total time=   0.0s\n",
      "[CV 5/5] END max_depth=4, min_samples_leaf=10, min_samples_split=10;, score=-0.591 total time=   0.0s\n",
      "[CV 1/5] END max_depth=4, min_samples_leaf=15, min_samples_split=2;, score=-0.661 total time=   0.0s\n",
      "[CV 2/5] END max_depth=4, min_samples_leaf=15, min_samples_split=2;, score=-0.647 total time=   0.0s\n",
      "[CV 3/5] END max_depth=4, min_samples_leaf=15, min_samples_split=2;, score=-2.454 total time=   0.0s\n",
      "[CV 4/5] END max_depth=4, min_samples_leaf=15, min_samples_split=2;, score=-0.531 total time=   0.0s\n",
      "[CV 5/5] END max_depth=4, min_samples_leaf=15, min_samples_split=2;, score=-0.591 total time=   0.0s\n",
      "[CV 1/5] END max_depth=4, min_samples_leaf=15, min_samples_split=5;, score=-0.661 total time=   0.0s\n",
      "[CV 2/5] END max_depth=4, min_samples_leaf=15, min_samples_split=5;, score=-0.581 total time=   0.0s\n",
      "[CV 3/5] END max_depth=4, min_samples_leaf=15, min_samples_split=5;, score=-2.454 total time=   0.0s\n",
      "[CV 4/5] END max_depth=4, min_samples_leaf=15, min_samples_split=5;, score=-0.531 total time=   0.0s\n",
      "[CV 5/5] END max_depth=4, min_samples_leaf=15, min_samples_split=5;, score=-0.591 total time=   0.0s\n",
      "[CV 1/5] END max_depth=4, min_samples_leaf=15, min_samples_split=10;, score=-0.661 total time=   0.0s\n",
      "[CV 2/5] END max_depth=4, min_samples_leaf=15, min_samples_split=10;, score=-0.581 total time=   0.0s\n",
      "[CV 3/5] END max_depth=4, min_samples_leaf=15, min_samples_split=10;, score=-2.454 total time=   0.0s\n",
      "[CV 4/5] END max_depth=4, min_samples_leaf=15, min_samples_split=10;, score=-0.531 total time=   0.0s\n",
      "[CV 5/5] END max_depth=4, min_samples_leaf=15, min_samples_split=10;, score=-0.591 total time=   0.0s\n",
      "[CV 1/5] END max_depth=5, min_samples_leaf=1, min_samples_split=2;, score=-0.386 total time=   0.0s\n",
      "[CV 2/5] END max_depth=5, min_samples_leaf=1, min_samples_split=2;, score=-1.343 total time=   0.0s\n",
      "[CV 3/5] END max_depth=5, min_samples_leaf=1, min_samples_split=2;, score=-3.762 total time=   0.0s\n",
      "[CV 4/5] END max_depth=5, min_samples_leaf=1, min_samples_split=2;, score=-0.280 total time=   0.0s\n",
      "[CV 5/5] END max_depth=5, min_samples_leaf=1, min_samples_split=2;, score=-2.060 total time=   0.0s\n",
      "[CV 1/5] END max_depth=5, min_samples_leaf=1, min_samples_split=5;, score=-1.244 total time=   0.0s\n",
      "[CV 2/5] END max_depth=5, min_samples_leaf=1, min_samples_split=5;, score=-1.281 total time=   0.0s\n",
      "[CV 3/5] END max_depth=5, min_samples_leaf=1, min_samples_split=5;, score=-3.762 total time=   0.0s\n",
      "[CV 4/5] END max_depth=5, min_samples_leaf=1, min_samples_split=5;, score=-0.280 total time=   0.0s\n",
      "[CV 5/5] END max_depth=5, min_samples_leaf=1, min_samples_split=5;, score=-2.060 total time=   0.0s\n",
      "[CV 1/5] END max_depth=5, min_samples_leaf=1, min_samples_split=10;, score=-1.243 total time=   0.0s\n",
      "[CV 2/5] END max_depth=5, min_samples_leaf=1, min_samples_split=10;, score=-2.201 total time=   0.0s\n",
      "[CV 3/5] END max_depth=5, min_samples_leaf=1, min_samples_split=10;, score=-4.620 total time=   0.0s\n",
      "[CV 4/5] END max_depth=5, min_samples_leaf=1, min_samples_split=10;, score=-0.280 total time=   0.0s\n",
      "[CV 5/5] END max_depth=5, min_samples_leaf=1, min_samples_split=10;, score=-2.060 total time=   0.0s\n",
      "[CV 1/5] END max_depth=5, min_samples_leaf=3, min_samples_split=2;, score=-0.390 total time=   0.0s\n",
      "[CV 2/5] END max_depth=5, min_samples_leaf=3, min_samples_split=2;, score=-2.201 total time=   0.0s\n",
      "[CV 3/5] END max_depth=5, min_samples_leaf=3, min_samples_split=2;, score=-4.656 total time=   0.0s\n",
      "[CV 4/5] END max_depth=5, min_samples_leaf=3, min_samples_split=2;, score=-0.280 total time=   0.0s\n",
      "[CV 5/5] END max_depth=5, min_samples_leaf=3, min_samples_split=2;, score=-2.060 total time=   0.0s\n",
      "[CV 1/5] END max_depth=5, min_samples_leaf=3, min_samples_split=5;, score=-0.390 total time=   0.0s\n",
      "[CV 2/5] END max_depth=5, min_samples_leaf=3, min_samples_split=5;, score=-1.281 total time=   0.0s\n",
      "[CV 3/5] END max_depth=5, min_samples_leaf=3, min_samples_split=5;, score=-4.656 total time=   0.0s\n",
      "[CV 4/5] END max_depth=5, min_samples_leaf=3, min_samples_split=5;, score=-0.280 total time=   0.0s\n",
      "[CV 5/5] END max_depth=5, min_samples_leaf=3, min_samples_split=5;, score=-2.060 total time=   0.0s\n",
      "[CV 1/5] END max_depth=5, min_samples_leaf=3, min_samples_split=10;, score=-0.390 total time=   0.0s\n",
      "[CV 2/5] END max_depth=5, min_samples_leaf=3, min_samples_split=10;, score=-0.423 total time=   0.0s\n",
      "[CV 3/5] END max_depth=5, min_samples_leaf=3, min_samples_split=10;, score=-4.656 total time=   0.0s\n",
      "[CV 4/5] END max_depth=5, min_samples_leaf=3, min_samples_split=10;, score=-0.280 total time=   0.0s\n",
      "[CV 5/5] END max_depth=5, min_samples_leaf=3, min_samples_split=10;, score=-2.060 total time=   0.0s\n",
      "[CV 1/5] END max_depth=5, min_samples_leaf=5, min_samples_split=2;, score=-0.389 total time=   0.0s\n",
      "[CV 2/5] END max_depth=5, min_samples_leaf=5, min_samples_split=2;, score=-1.365 total time=   0.0s\n",
      "[CV 3/5] END max_depth=5, min_samples_leaf=5, min_samples_split=2;, score=-3.844 total time=   0.0s\n",
      "[CV 4/5] END max_depth=5, min_samples_leaf=5, min_samples_split=2;, score=-0.280 total time=   0.0s\n",
      "[CV 5/5] END max_depth=5, min_samples_leaf=5, min_samples_split=2;, score=-2.075 total time=   0.0s\n",
      "[CV 1/5] END max_depth=5, min_samples_leaf=5, min_samples_split=5;, score=-0.389 total time=   0.0s\n",
      "[CV 2/5] END max_depth=5, min_samples_leaf=5, min_samples_split=5;, score=-1.303 total time=   0.0s\n",
      "[CV 3/5] END max_depth=5, min_samples_leaf=5, min_samples_split=5;, score=-3.844 total time=   0.0s\n",
      "[CV 4/5] END max_depth=5, min_samples_leaf=5, min_samples_split=5;, score=-0.280 total time=   0.0s\n",
      "[CV 5/5] END max_depth=5, min_samples_leaf=5, min_samples_split=5;, score=-2.075 total time=   0.0s\n",
      "[CV 1/5] END max_depth=5, min_samples_leaf=5, min_samples_split=10;, score=-0.411 total time=   0.0s\n",
      "[CV 2/5] END max_depth=5, min_samples_leaf=5, min_samples_split=10;, score=-0.485 total time=   0.0s\n",
      "[CV 3/5] END max_depth=5, min_samples_leaf=5, min_samples_split=10;, score=-3.844 total time=   0.0s\n",
      "[CV 4/5] END max_depth=5, min_samples_leaf=5, min_samples_split=10;, score=-0.280 total time=   0.0s\n",
      "[CV 5/5] END max_depth=5, min_samples_leaf=5, min_samples_split=10;, score=-2.075 total time=   0.0s\n",
      "[CV 1/5] END max_depth=5, min_samples_leaf=7, min_samples_split=2;, score=-0.410 total time=   0.0s\n",
      "[CV 2/5] END max_depth=5, min_samples_leaf=7, min_samples_split=2;, score=-1.294 total time=   0.0s\n",
      "[CV 3/5] END max_depth=5, min_samples_leaf=7, min_samples_split=2;, score=-3.859 total time=   0.0s\n",
      "[CV 4/5] END max_depth=5, min_samples_leaf=7, min_samples_split=2;, score=-0.280 total time=   0.0s\n",
      "[CV 5/5] END max_depth=5, min_samples_leaf=7, min_samples_split=2;, score=-2.082 total time=   0.0s\n",
      "[CV 1/5] END max_depth=5, min_samples_leaf=7, min_samples_split=5;, score=-0.397 total time=   0.0s\n",
      "[CV 2/5] END max_depth=5, min_samples_leaf=7, min_samples_split=5;, score=-0.498 total time=   0.0s\n",
      "[CV 3/5] END max_depth=5, min_samples_leaf=7, min_samples_split=5;, score=-3.859 total time=   0.0s\n",
      "[CV 4/5] END max_depth=5, min_samples_leaf=7, min_samples_split=5;, score=-0.280 total time=   0.0s\n",
      "[CV 5/5] END max_depth=5, min_samples_leaf=7, min_samples_split=5;, score=-2.082 total time=   0.0s\n",
      "[CV 1/5] END max_depth=5, min_samples_leaf=7, min_samples_split=10;, score=-0.410 total time=   0.0s\n",
      "[CV 2/5] END max_depth=5, min_samples_leaf=7, min_samples_split=10;, score=-1.343 total time=   0.0s\n",
      "[CV 3/5] END max_depth=5, min_samples_leaf=7, min_samples_split=10;, score=-3.862 total time=   0.0s\n",
      "[CV 4/5] END max_depth=5, min_samples_leaf=7, min_samples_split=10;, score=-0.280 total time=   0.0s\n",
      "[CV 5/5] END max_depth=5, min_samples_leaf=7, min_samples_split=10;, score=-2.082 total time=   0.0s\n"
     ]
    },
    {
     "name": "stdout",
     "output_type": "stream",
     "text": [
      "[CV 1/5] END max_depth=5, min_samples_leaf=10, min_samples_split=2;, score=-0.426 total time=   0.0s\n",
      "[CV 2/5] END max_depth=5, min_samples_leaf=10, min_samples_split=2;, score=-1.298 total time=   0.0s\n",
      "[CV 3/5] END max_depth=5, min_samples_leaf=10, min_samples_split=2;, score=-3.874 total time=   0.0s\n",
      "[CV 4/5] END max_depth=5, min_samples_leaf=10, min_samples_split=2;, score=-0.286 total time=   0.0s\n",
      "[CV 5/5] END max_depth=5, min_samples_leaf=10, min_samples_split=2;, score=-2.117 total time=   0.0s\n",
      "[CV 1/5] END max_depth=5, min_samples_leaf=10, min_samples_split=5;, score=-0.417 total time=   0.0s\n",
      "[CV 2/5] END max_depth=5, min_samples_leaf=10, min_samples_split=5;, score=-1.289 total time=   0.0s\n",
      "[CV 3/5] END max_depth=5, min_samples_leaf=10, min_samples_split=5;, score=-3.877 total time=   0.0s\n",
      "[CV 4/5] END max_depth=5, min_samples_leaf=10, min_samples_split=5;, score=-0.286 total time=   0.0s\n",
      "[CV 5/5] END max_depth=5, min_samples_leaf=10, min_samples_split=5;, score=-2.117 total time=   0.0s\n",
      "[CV 1/5] END max_depth=5, min_samples_leaf=10, min_samples_split=10;, score=-0.417 total time=   0.0s\n",
      "[CV 2/5] END max_depth=5, min_samples_leaf=10, min_samples_split=10;, score=-0.448 total time=   0.0s\n",
      "[CV 3/5] END max_depth=5, min_samples_leaf=10, min_samples_split=10;, score=-3.872 total time=   0.0s\n",
      "[CV 4/5] END max_depth=5, min_samples_leaf=10, min_samples_split=10;, score=-0.286 total time=   0.0s\n",
      "[CV 5/5] END max_depth=5, min_samples_leaf=10, min_samples_split=10;, score=-2.117 total time=   0.0s\n",
      "[CV 1/5] END max_depth=5, min_samples_leaf=15, min_samples_split=2;, score=-0.458 total time=   0.0s\n",
      "[CV 2/5] END max_depth=5, min_samples_leaf=15, min_samples_split=2;, score=-1.297 total time=   0.0s\n",
      "[CV 3/5] END max_depth=5, min_samples_leaf=15, min_samples_split=2;, score=-3.914 total time=   0.0s\n",
      "[CV 4/5] END max_depth=5, min_samples_leaf=15, min_samples_split=2;, score=-0.344 total time=   0.0s\n",
      "[CV 5/5] END max_depth=5, min_samples_leaf=15, min_samples_split=2;, score=-1.349 total time=   0.0s\n",
      "[CV 1/5] END max_depth=5, min_samples_leaf=15, min_samples_split=5;, score=-0.458 total time=   0.0s\n",
      "[CV 2/5] END max_depth=5, min_samples_leaf=15, min_samples_split=5;, score=-1.297 total time=   0.0s\n",
      "[CV 3/5] END max_depth=5, min_samples_leaf=15, min_samples_split=5;, score=-3.914 total time=   0.0s\n",
      "[CV 4/5] END max_depth=5, min_samples_leaf=15, min_samples_split=5;, score=-0.344 total time=   0.0s\n",
      "[CV 5/5] END max_depth=5, min_samples_leaf=15, min_samples_split=5;, score=-1.349 total time=   0.0s\n",
      "[CV 1/5] END max_depth=5, min_samples_leaf=15, min_samples_split=10;, score=-0.458 total time=   0.0s\n",
      "[CV 2/5] END max_depth=5, min_samples_leaf=15, min_samples_split=10;, score=-1.356 total time=   0.0s\n",
      "[CV 3/5] END max_depth=5, min_samples_leaf=15, min_samples_split=10;, score=-3.914 total time=   0.0s\n",
      "[CV 4/5] END max_depth=5, min_samples_leaf=15, min_samples_split=10;, score=-0.344 total time=   0.0s\n",
      "[CV 5/5] END max_depth=5, min_samples_leaf=15, min_samples_split=10;, score=-1.349 total time=   0.0s\n",
      "[CV 1/5] END max_depth=6, min_samples_leaf=1, min_samples_split=2;, score=-1.831 total time=   0.0s\n",
      "[CV 2/5] END max_depth=6, min_samples_leaf=1, min_samples_split=2;, score=-0.303 total time=   0.0s\n",
      "[CV 3/5] END max_depth=6, min_samples_leaf=1, min_samples_split=2;, score=-4.592 total time=   0.0s\n",
      "[CV 4/5] END max_depth=6, min_samples_leaf=1, min_samples_split=2;, score=-1.056 total time=   0.0s\n",
      "[CV 5/5] END max_depth=6, min_samples_leaf=1, min_samples_split=2;, score=-1.986 total time=   0.0s\n",
      "[CV 1/5] END max_depth=6, min_samples_leaf=1, min_samples_split=5;, score=-1.831 total time=   0.0s\n",
      "[CV 2/5] END max_depth=6, min_samples_leaf=1, min_samples_split=5;, score=-1.161 total time=   0.0s\n",
      "[CV 3/5] END max_depth=6, min_samples_leaf=1, min_samples_split=5;, score=-5.450 total time=   0.0s\n",
      "[CV 4/5] END max_depth=6, min_samples_leaf=1, min_samples_split=5;, score=-1.056 total time=   0.0s\n",
      "[CV 5/5] END max_depth=6, min_samples_leaf=1, min_samples_split=5;, score=-2.000 total time=   0.0s\n",
      "[CV 1/5] END max_depth=6, min_samples_leaf=1, min_samples_split=10;, score=-1.831 total time=   0.0s\n",
      "[CV 2/5] END max_depth=6, min_samples_leaf=1, min_samples_split=10;, score=-0.256 total time=   0.0s\n",
      "[CV 3/5] END max_depth=6, min_samples_leaf=1, min_samples_split=10;, score=-5.450 total time=   0.0s\n",
      "[CV 4/5] END max_depth=6, min_samples_leaf=1, min_samples_split=10;, score=-1.062 total time=   0.0s\n",
      "[CV 5/5] END max_depth=6, min_samples_leaf=1, min_samples_split=10;, score=-2.879 total time=   0.0s\n",
      "[CV 1/5] END max_depth=6, min_samples_leaf=3, min_samples_split=2;, score=-0.164 total time=   0.0s\n",
      "[CV 2/5] END max_depth=6, min_samples_leaf=3, min_samples_split=2;, score=-0.340 total time=   0.0s\n",
      "[CV 3/5] END max_depth=6, min_samples_leaf=3, min_samples_split=2;, score=-4.644 total time=   0.0s\n",
      "[CV 4/5] END max_depth=6, min_samples_leaf=3, min_samples_split=2;, score=-1.055 total time=   0.0s\n",
      "[CV 5/5] END max_depth=6, min_samples_leaf=3, min_samples_split=2;, score=-2.027 total time=   0.0s\n",
      "[CV 1/5] END max_depth=6, min_samples_leaf=3, min_samples_split=5;, score=-0.197 total time=   0.0s\n",
      "[CV 2/5] END max_depth=6, min_samples_leaf=3, min_samples_split=5;, score=-1.161 total time=   0.0s\n",
      "[CV 3/5] END max_depth=6, min_samples_leaf=3, min_samples_split=5;, score=-6.327 total time=   0.0s\n",
      "[CV 4/5] END max_depth=6, min_samples_leaf=3, min_samples_split=5;, score=-1.055 total time=   0.0s\n",
      "[CV 5/5] END max_depth=6, min_samples_leaf=3, min_samples_split=5;, score=-2.027 total time=   0.0s\n",
      "[CV 1/5] END max_depth=6, min_samples_leaf=3, min_samples_split=10;, score=-0.197 total time=   0.0s\n",
      "[CV 2/5] END max_depth=6, min_samples_leaf=3, min_samples_split=10;, score=-1.198 total time=   0.0s\n",
      "[CV 3/5] END max_depth=6, min_samples_leaf=3, min_samples_split=10;, score=-4.644 total time=   0.0s\n",
      "[CV 4/5] END max_depth=6, min_samples_leaf=3, min_samples_split=10;, score=-1.055 total time=   0.0s\n",
      "[CV 5/5] END max_depth=6, min_samples_leaf=3, min_samples_split=10;, score=-2.879 total time=   0.0s\n",
      "[CV 1/5] END max_depth=6, min_samples_leaf=5, min_samples_split=2;, score=-0.196 total time=   0.0s\n",
      "[CV 2/5] END max_depth=6, min_samples_leaf=5, min_samples_split=2;, score=-1.220 total time=   0.0s\n",
      "[CV 3/5] END max_depth=6, min_samples_leaf=5, min_samples_split=2;, score=-4.674 total time=   0.0s\n",
      "[CV 4/5] END max_depth=6, min_samples_leaf=5, min_samples_split=2;, score=-0.243 total time=   0.0s\n",
      "[CV 5/5] END max_depth=6, min_samples_leaf=5, min_samples_split=2;, score=-2.059 total time=   0.0s\n",
      "[CV 1/5] END max_depth=6, min_samples_leaf=5, min_samples_split=5;, score=-0.196 total time=   0.0s\n",
      "[CV 2/5] END max_depth=6, min_samples_leaf=5, min_samples_split=5;, score=-0.278 total time=   0.0s\n",
      "[CV 3/5] END max_depth=6, min_samples_leaf=5, min_samples_split=5;, score=-4.674 total time=   0.0s\n",
      "[CV 4/5] END max_depth=6, min_samples_leaf=5, min_samples_split=5;, score=-0.243 total time=   0.0s\n",
      "[CV 5/5] END max_depth=6, min_samples_leaf=5, min_samples_split=5;, score=-2.899 total time=   0.0s\n",
      "[CV 1/5] END max_depth=6, min_samples_leaf=5, min_samples_split=10;, score=-0.218 total time=   0.0s\n",
      "[CV 2/5] END max_depth=6, min_samples_leaf=5, min_samples_split=10;, score=-0.278 total time=   0.0s\n",
      "[CV 3/5] END max_depth=6, min_samples_leaf=5, min_samples_split=10;, score=-6.319 total time=   0.0s\n",
      "[CV 4/5] END max_depth=6, min_samples_leaf=5, min_samples_split=10;, score=-0.243 total time=   0.0s\n",
      "[CV 5/5] END max_depth=6, min_samples_leaf=5, min_samples_split=10;, score=-2.059 total time=   0.0s\n",
      "[CV 1/5] END max_depth=6, min_samples_leaf=7, min_samples_split=2;, score=-0.217 total time=   0.0s\n",
      "[CV 2/5] END max_depth=6, min_samples_leaf=7, min_samples_split=2;, score=-1.978 total time=   0.0s\n",
      "[CV 3/5] END max_depth=6, min_samples_leaf=7, min_samples_split=2;, score=-3.872 total time=   0.0s\n",
      "[CV 4/5] END max_depth=6, min_samples_leaf=7, min_samples_split=2;, score=-0.244 total time=   0.0s\n",
      "[CV 5/5] END max_depth=6, min_samples_leaf=7, min_samples_split=2;, score=-2.075 total time=   0.0s\n",
      "[CV 1/5] END max_depth=6, min_samples_leaf=7, min_samples_split=5;, score=-0.217 total time=   0.0s\n",
      "[CV 2/5] END max_depth=6, min_samples_leaf=7, min_samples_split=5;, score=-1.166 total time=   0.0s\n",
      "[CV 3/5] END max_depth=6, min_samples_leaf=7, min_samples_split=5;, score=-3.880 total time=   0.0s\n",
      "[CV 4/5] END max_depth=6, min_samples_leaf=7, min_samples_split=5;, score=-0.240 total time=   0.0s\n",
      "[CV 5/5] END max_depth=6, min_samples_leaf=7, min_samples_split=5;, score=-2.079 total time=   0.0s\n",
      "[CV 1/5] END max_depth=6, min_samples_leaf=7, min_samples_split=10;, score=-0.217 total time=   0.0s\n",
      "[CV 2/5] END max_depth=6, min_samples_leaf=7, min_samples_split=10;, score=-2.024 total time=   0.0s\n",
      "[CV 3/5] END max_depth=6, min_samples_leaf=7, min_samples_split=10;, score=-3.876 total time=   0.0s\n",
      "[CV 4/5] END max_depth=6, min_samples_leaf=7, min_samples_split=10;, score=-0.248 total time=   0.0s\n",
      "[CV 5/5] END max_depth=6, min_samples_leaf=7, min_samples_split=10;, score=-2.075 total time=   0.0s\n",
      "[CV 1/5] END max_depth=6, min_samples_leaf=10, min_samples_split=2;, score=-0.278 total time=   0.0s\n",
      "[CV 2/5] END max_depth=6, min_samples_leaf=10, min_samples_split=2;, score=-1.190 total time=   0.0s\n",
      "[CV 3/5] END max_depth=6, min_samples_leaf=10, min_samples_split=2;, score=-3.872 total time=   0.0s\n",
      "[CV 4/5] END max_depth=6, min_samples_leaf=10, min_samples_split=2;, score=-0.254 total time=   0.0s\n",
      "[CV 5/5] END max_depth=6, min_samples_leaf=10, min_samples_split=2;, score=-2.120 total time=   0.0s\n",
      "[CV 1/5] END max_depth=6, min_samples_leaf=10, min_samples_split=5;, score=-0.261 total time=   0.0s\n",
      "[CV 2/5] END max_depth=6, min_samples_leaf=10, min_samples_split=5;, score=-1.190 total time=   0.0s\n",
      "[CV 3/5] END max_depth=6, min_samples_leaf=10, min_samples_split=5;, score=-3.867 total time=   0.0s\n",
      "[CV 4/5] END max_depth=6, min_samples_leaf=10, min_samples_split=5;, score=-0.254 total time=   0.0s\n",
      "[CV 5/5] END max_depth=6, min_samples_leaf=10, min_samples_split=5;, score=-2.123 total time=   0.0s\n",
      "[CV 1/5] END max_depth=6, min_samples_leaf=10, min_samples_split=10;, score=-0.261 total time=   0.0s\n",
      "[CV 2/5] END max_depth=6, min_samples_leaf=10, min_samples_split=10;, score=-1.965 total time=   0.0s\n",
      "[CV 3/5] END max_depth=6, min_samples_leaf=10, min_samples_split=10;, score=-3.867 total time=   0.0s\n",
      "[CV 4/5] END max_depth=6, min_samples_leaf=10, min_samples_split=10;, score=-0.254 total time=   0.0s\n",
      "[CV 5/5] END max_depth=6, min_samples_leaf=10, min_samples_split=10;, score=-2.946 total time=   0.0s\n",
      "[CV 1/5] END max_depth=6, min_samples_leaf=15, min_samples_split=2;, score=-0.481 total time=   0.0s\n",
      "[CV 2/5] END max_depth=6, min_samples_leaf=15, min_samples_split=2;, score=-2.043 total time=   0.0s\n",
      "[CV 3/5] END max_depth=6, min_samples_leaf=15, min_samples_split=2;, score=-3.821 total time=   0.0s\n",
      "[CV 4/5] END max_depth=6, min_samples_leaf=15, min_samples_split=2;, score=-0.351 total time=   0.0s\n",
      "[CV 5/5] END max_depth=6, min_samples_leaf=15, min_samples_split=2;, score=-1.375 total time=   0.0s\n",
      "[CV 1/5] END max_depth=6, min_samples_leaf=15, min_samples_split=5;, score=-0.481 total time=   0.0s\n",
      "[CV 2/5] END max_depth=6, min_samples_leaf=15, min_samples_split=5;, score=-2.000 total time=   0.0s\n",
      "[CV 3/5] END max_depth=6, min_samples_leaf=15, min_samples_split=5;, score=-3.821 total time=   0.0s\n"
     ]
    },
    {
     "name": "stdout",
     "output_type": "stream",
     "text": [
      "[CV 4/5] END max_depth=6, min_samples_leaf=15, min_samples_split=5;, score=-0.351 total time=   0.0s\n",
      "[CV 5/5] END max_depth=6, min_samples_leaf=15, min_samples_split=5;, score=-1.375 total time=   0.0s\n",
      "[CV 1/5] END max_depth=6, min_samples_leaf=15, min_samples_split=10;, score=-0.481 total time=   0.0s\n",
      "[CV 2/5] END max_depth=6, min_samples_leaf=15, min_samples_split=10;, score=-1.142 total time=   0.0s\n",
      "[CV 3/5] END max_depth=6, min_samples_leaf=15, min_samples_split=10;, score=-3.821 total time=   0.0s\n",
      "[CV 4/5] END max_depth=6, min_samples_leaf=15, min_samples_split=10;, score=-0.351 total time=   0.0s\n",
      "[CV 5/5] END max_depth=6, min_samples_leaf=15, min_samples_split=10;, score=-1.375 total time=   0.0s\n",
      "[CV 1/5] END max_depth=None, min_samples_leaf=1, min_samples_split=2;, score=-3.433 total time=   0.0s\n",
      "[CV 2/5] END max_depth=None, min_samples_leaf=1, min_samples_split=2;, score=-3.433 total time=   0.0s\n",
      "[CV 3/5] END max_depth=None, min_samples_leaf=1, min_samples_split=2;, score=-6.865 total time=   0.0s\n",
      "[CV 4/5] END max_depth=None, min_samples_leaf=1, min_samples_split=2;, score=-2.575 total time=   0.0s\n",
      "[CV 5/5] END max_depth=None, min_samples_leaf=1, min_samples_split=2;, score=-4.396 total time=   0.0s\n",
      "[CV 1/5] END max_depth=None, min_samples_leaf=1, min_samples_split=5;, score=-3.433 total time=   0.0s\n",
      "[CV 2/5] END max_depth=None, min_samples_leaf=1, min_samples_split=5;, score=-1.766 total time=   0.0s\n",
      "[CV 3/5] END max_depth=None, min_samples_leaf=1, min_samples_split=5;, score=-7.743 total time=   0.0s\n",
      "[CV 4/5] END max_depth=None, min_samples_leaf=1, min_samples_split=5;, score=-3.433 total time=   0.0s\n",
      "[CV 5/5] END max_depth=None, min_samples_leaf=1, min_samples_split=5;, score=-4.410 total time=   0.0s\n",
      "[CV 1/5] END max_depth=None, min_samples_leaf=1, min_samples_split=10;, score=-3.437 total time=   0.0s\n",
      "[CV 2/5] END max_depth=None, min_samples_leaf=1, min_samples_split=10;, score=-1.755 total time=   0.0s\n",
      "[CV 3/5] END max_depth=None, min_samples_leaf=1, min_samples_split=10;, score=-6.885 total time=   0.0s\n",
      "[CV 4/5] END max_depth=None, min_samples_leaf=1, min_samples_split=10;, score=-0.963 total time=   0.0s\n",
      "[CV 5/5] END max_depth=None, min_samples_leaf=1, min_samples_split=10;, score=-4.410 total time=   0.0s\n",
      "[CV 1/5] END max_depth=None, min_samples_leaf=3, min_samples_split=2;, score=-1.785 total time=   0.0s\n",
      "[CV 2/5] END max_depth=None, min_samples_leaf=3, min_samples_split=2;, score=-2.682 total time=   0.0s\n",
      "[CV 3/5] END max_depth=None, min_samples_leaf=3, min_samples_split=2;, score=-6.937 total time=   0.0s\n",
      "[CV 4/5] END max_depth=None, min_samples_leaf=3, min_samples_split=2;, score=-2.662 total time=   0.0s\n",
      "[CV 5/5] END max_depth=None, min_samples_leaf=3, min_samples_split=2;, score=-5.289 total time=   0.0s\n",
      "[CV 1/5] END max_depth=None, min_samples_leaf=3, min_samples_split=5;, score=-1.818 total time=   0.0s\n",
      "[CV 2/5] END max_depth=None, min_samples_leaf=3, min_samples_split=5;, score=-2.656 total time=   0.0s\n",
      "[CV 3/5] END max_depth=None, min_samples_leaf=3, min_samples_split=5;, score=-6.937 total time=   0.0s\n",
      "[CV 4/5] END max_depth=None, min_samples_leaf=3, min_samples_split=5;, score=-2.662 total time=   0.0s\n",
      "[CV 5/5] END max_depth=None, min_samples_leaf=3, min_samples_split=5;, score=-5.289 total time=   0.0s\n",
      "[CV 1/5] END max_depth=None, min_samples_leaf=3, min_samples_split=10;, score=-1.823 total time=   0.0s\n",
      "[CV 2/5] END max_depth=None, min_samples_leaf=3, min_samples_split=10;, score=-2.649 total time=   0.0s\n",
      "[CV 3/5] END max_depth=None, min_samples_leaf=3, min_samples_split=10;, score=-6.973 total time=   0.0s\n",
      "[CV 4/5] END max_depth=None, min_samples_leaf=3, min_samples_split=10;, score=-1.822 total time=   0.0s\n",
      "[CV 5/5] END max_depth=None, min_samples_leaf=3, min_samples_split=10;, score=-5.289 total time=   0.0s\n",
      "[CV 1/5] END max_depth=None, min_samples_leaf=5, min_samples_split=2;, score=-0.966 total time=   0.0s\n",
      "[CV 2/5] END max_depth=None, min_samples_leaf=5, min_samples_split=2;, score=-1.878 total time=   0.0s\n",
      "[CV 3/5] END max_depth=None, min_samples_leaf=5, min_samples_split=2;, score=-5.342 total time=   0.0s\n",
      "[CV 4/5] END max_depth=None, min_samples_leaf=5, min_samples_split=2;, score=-1.010 total time=   0.0s\n",
      "[CV 5/5] END max_depth=None, min_samples_leaf=5, min_samples_split=2;, score=-2.789 total time=   0.0s\n",
      "[CV 1/5] END max_depth=None, min_samples_leaf=5, min_samples_split=5;, score=-0.977 total time=   0.0s\n",
      "[CV 2/5] END max_depth=None, min_samples_leaf=5, min_samples_split=5;, score=-1.900 total time=   0.0s\n",
      "[CV 3/5] END max_depth=None, min_samples_leaf=5, min_samples_split=5;, score=-6.970 total time=   0.0s\n",
      "[CV 4/5] END max_depth=None, min_samples_leaf=5, min_samples_split=5;, score=-1.846 total time=   0.0s\n",
      "[CV 5/5] END max_depth=None, min_samples_leaf=5, min_samples_split=5;, score=-4.474 total time=   0.0s\n",
      "[CV 1/5] END max_depth=None, min_samples_leaf=5, min_samples_split=10;, score=-0.993 total time=   0.0s\n",
      "[CV 2/5] END max_depth=None, min_samples_leaf=5, min_samples_split=10;, score=-1.883 total time=   0.0s\n",
      "[CV 3/5] END max_depth=None, min_samples_leaf=5, min_samples_split=10;, score=-7.000 total time=   0.0s\n",
      "[CV 4/5] END max_depth=None, min_samples_leaf=5, min_samples_split=10;, score=-1.010 total time=   0.0s\n",
      "[CV 5/5] END max_depth=None, min_samples_leaf=5, min_samples_split=10;, score=-3.634 total time=   0.0s\n",
      "[CV 1/5] END max_depth=None, min_samples_leaf=7, min_samples_split=2;, score=-0.989 total time=   0.0s\n",
      "[CV 2/5] END max_depth=None, min_samples_leaf=7, min_samples_split=2;, score=-1.070 total time=   0.0s\n",
      "[CV 3/5] END max_depth=None, min_samples_leaf=7, min_samples_split=2;, score=-4.577 total time=   0.0s\n",
      "[CV 4/5] END max_depth=None, min_samples_leaf=7, min_samples_split=2;, score=-1.007 total time=   0.0s\n",
      "[CV 5/5] END max_depth=None, min_samples_leaf=7, min_samples_split=2;, score=-2.829 total time=   0.0s\n",
      "[CV 1/5] END max_depth=None, min_samples_leaf=7, min_samples_split=5;, score=-0.998 total time=   0.0s\n",
      "[CV 2/5] END max_depth=None, min_samples_leaf=7, min_samples_split=5;, score=-2.774 total time=   0.0s\n",
      "[CV 3/5] END max_depth=None, min_samples_leaf=7, min_samples_split=5;, score=-3.762 total time=   0.0s\n",
      "[CV 4/5] END max_depth=None, min_samples_leaf=7, min_samples_split=5;, score=-1.007 total time=   0.0s\n",
      "[CV 5/5] END max_depth=None, min_samples_leaf=7, min_samples_split=5;, score=-3.647 total time=   0.0s\n",
      "[CV 1/5] END max_depth=None, min_samples_leaf=7, min_samples_split=10;, score=-0.998 total time=   0.0s\n",
      "[CV 2/5] END max_depth=None, min_samples_leaf=7, min_samples_split=10;, score=-1.942 total time=   0.0s\n",
      "[CV 3/5] END max_depth=None, min_samples_leaf=7, min_samples_split=10;, score=-3.762 total time=   0.0s\n",
      "[CV 4/5] END max_depth=None, min_samples_leaf=7, min_samples_split=10;, score=-1.003 total time=   0.0s\n",
      "[CV 5/5] END max_depth=None, min_samples_leaf=7, min_samples_split=10;, score=-3.664 total time=   0.0s\n",
      "[CV 1/5] END max_depth=None, min_samples_leaf=10, min_samples_split=2;, score=-0.258 total time=   0.0s\n",
      "[CV 2/5] END max_depth=None, min_samples_leaf=10, min_samples_split=2;, score=-1.954 total time=   0.0s\n",
      "[CV 3/5] END max_depth=None, min_samples_leaf=10, min_samples_split=2;, score=-4.567 total time=   0.0s\n",
      "[CV 4/5] END max_depth=None, min_samples_leaf=10, min_samples_split=2;, score=-0.226 total time=   0.0s\n",
      "[CV 5/5] END max_depth=None, min_samples_leaf=10, min_samples_split=2;, score=-2.826 total time=   0.0s\n",
      "[CV 1/5] END max_depth=None, min_samples_leaf=10, min_samples_split=5;, score=-0.250 total time=   0.0s\n",
      "[CV 2/5] END max_depth=None, min_samples_leaf=10, min_samples_split=5;, score=-1.915 total time=   0.0s\n",
      "[CV 3/5] END max_depth=None, min_samples_leaf=10, min_samples_split=5;, score=-3.764 total time=   0.0s\n",
      "[CV 4/5] END max_depth=None, min_samples_leaf=10, min_samples_split=5;, score=-0.217 total time=   0.0s\n",
      "[CV 5/5] END max_depth=None, min_samples_leaf=10, min_samples_split=5;, score=-1.997 total time=   0.0s\n",
      "[CV 1/5] END max_depth=None, min_samples_leaf=10, min_samples_split=10;, score=-0.258 total time=   0.0s\n",
      "[CV 2/5] END max_depth=None, min_samples_leaf=10, min_samples_split=10;, score=-2.802 total time=   0.0s\n",
      "[CV 3/5] END max_depth=None, min_samples_leaf=10, min_samples_split=10;, score=-3.753 total time=   0.0s\n",
      "[CV 4/5] END max_depth=None, min_samples_leaf=10, min_samples_split=10;, score=-0.217 total time=   0.0s\n",
      "[CV 5/5] END max_depth=None, min_samples_leaf=10, min_samples_split=10;, score=-2.826 total time=   0.0s\n",
      "[CV 1/5] END max_depth=None, min_samples_leaf=15, min_samples_split=2;, score=-0.481 total time=   0.0s\n",
      "[CV 2/5] END max_depth=None, min_samples_leaf=15, min_samples_split=2;, score=-1.179 total time=   0.0s\n",
      "[CV 3/5] END max_depth=None, min_samples_leaf=15, min_samples_split=2;, score=-3.821 total time=   0.0s\n",
      "[CV 4/5] END max_depth=None, min_samples_leaf=15, min_samples_split=2;, score=-0.351 total time=   0.0s\n",
      "[CV 5/5] END max_depth=None, min_samples_leaf=15, min_samples_split=2;, score=-1.282 total time=   0.0s\n",
      "[CV 1/5] END max_depth=None, min_samples_leaf=15, min_samples_split=5;, score=-0.481 total time=   0.0s\n",
      "[CV 2/5] END max_depth=None, min_samples_leaf=15, min_samples_split=5;, score=-1.142 total time=   0.0s\n",
      "[CV 3/5] END max_depth=None, min_samples_leaf=15, min_samples_split=5;, score=-3.821 total time=   0.0s\n",
      "[CV 4/5] END max_depth=None, min_samples_leaf=15, min_samples_split=5;, score=-0.351 total time=   0.0s\n",
      "[CV 5/5] END max_depth=None, min_samples_leaf=15, min_samples_split=5;, score=-1.282 total time=   0.0s\n",
      "[CV 1/5] END max_depth=None, min_samples_leaf=15, min_samples_split=10;, score=-0.481 total time=   0.0s\n",
      "[CV 2/5] END max_depth=None, min_samples_leaf=15, min_samples_split=10;, score=-2.043 total time=   0.0s\n",
      "[CV 3/5] END max_depth=None, min_samples_leaf=15, min_samples_split=10;, score=-3.821 total time=   0.0s\n",
      "[CV 4/5] END max_depth=None, min_samples_leaf=15, min_samples_split=10;, score=-0.351 total time=   0.0s\n",
      "[CV 5/5] END max_depth=None, min_samples_leaf=15, min_samples_split=10;, score=-1.282 total time=   0.0s\n"
     ]
    },
    {
     "data": {
      "text/html": [
       "<style>#sk-container-id-3 {color: black;}#sk-container-id-3 pre{padding: 0;}#sk-container-id-3 div.sk-toggleable {background-color: white;}#sk-container-id-3 label.sk-toggleable__label {cursor: pointer;display: block;width: 100%;margin-bottom: 0;padding: 0.3em;box-sizing: border-box;text-align: center;}#sk-container-id-3 label.sk-toggleable__label-arrow:before {content: \"▸\";float: left;margin-right: 0.25em;color: #696969;}#sk-container-id-3 label.sk-toggleable__label-arrow:hover:before {color: black;}#sk-container-id-3 div.sk-estimator:hover label.sk-toggleable__label-arrow:before {color: black;}#sk-container-id-3 div.sk-toggleable__content {max-height: 0;max-width: 0;overflow: hidden;text-align: left;background-color: #f0f8ff;}#sk-container-id-3 div.sk-toggleable__content pre {margin: 0.2em;color: black;border-radius: 0.25em;background-color: #f0f8ff;}#sk-container-id-3 input.sk-toggleable__control:checked~div.sk-toggleable__content {max-height: 200px;max-width: 100%;overflow: auto;}#sk-container-id-3 input.sk-toggleable__control:checked~label.sk-toggleable__label-arrow:before {content: \"▾\";}#sk-container-id-3 div.sk-estimator input.sk-toggleable__control:checked~label.sk-toggleable__label {background-color: #d4ebff;}#sk-container-id-3 div.sk-label input.sk-toggleable__control:checked~label.sk-toggleable__label {background-color: #d4ebff;}#sk-container-id-3 input.sk-hidden--visually {border: 0;clip: rect(1px 1px 1px 1px);clip: rect(1px, 1px, 1px, 1px);height: 1px;margin: -1px;overflow: hidden;padding: 0;position: absolute;width: 1px;}#sk-container-id-3 div.sk-estimator {font-family: monospace;background-color: #f0f8ff;border: 1px dotted black;border-radius: 0.25em;box-sizing: border-box;margin-bottom: 0.5em;}#sk-container-id-3 div.sk-estimator:hover {background-color: #d4ebff;}#sk-container-id-3 div.sk-parallel-item::after {content: \"\";width: 100%;border-bottom: 1px solid gray;flex-grow: 1;}#sk-container-id-3 div.sk-label:hover label.sk-toggleable__label {background-color: #d4ebff;}#sk-container-id-3 div.sk-serial::before {content: \"\";position: absolute;border-left: 1px solid gray;box-sizing: border-box;top: 0;bottom: 0;left: 50%;z-index: 0;}#sk-container-id-3 div.sk-serial {display: flex;flex-direction: column;align-items: center;background-color: white;padding-right: 0.2em;padding-left: 0.2em;position: relative;}#sk-container-id-3 div.sk-item {position: relative;z-index: 1;}#sk-container-id-3 div.sk-parallel {display: flex;align-items: stretch;justify-content: center;background-color: white;position: relative;}#sk-container-id-3 div.sk-item::before, #sk-container-id-3 div.sk-parallel-item::before {content: \"\";position: absolute;border-left: 1px solid gray;box-sizing: border-box;top: 0;bottom: 0;left: 50%;z-index: -1;}#sk-container-id-3 div.sk-parallel-item {display: flex;flex-direction: column;z-index: 1;position: relative;background-color: white;}#sk-container-id-3 div.sk-parallel-item:first-child::after {align-self: flex-end;width: 50%;}#sk-container-id-3 div.sk-parallel-item:last-child::after {align-self: flex-start;width: 50%;}#sk-container-id-3 div.sk-parallel-item:only-child::after {width: 0;}#sk-container-id-3 div.sk-dashed-wrapped {border: 1px dashed gray;margin: 0 0.4em 0.5em 0.4em;box-sizing: border-box;padding-bottom: 0.4em;background-color: white;}#sk-container-id-3 div.sk-label label {font-family: monospace;font-weight: bold;display: inline-block;line-height: 1.2em;}#sk-container-id-3 div.sk-label-container {text-align: center;}#sk-container-id-3 div.sk-container {/* jupyter's `normalize.less` sets `[hidden] { display: none; }` but bootstrap.min.css set `[hidden] { display: none !important; }` so we also need the `!important` here to be able to override the default hidden behavior on the sphinx rendered scikit-learn.org. See: https://github.com/scikit-learn/scikit-learn/issues/21755 */display: inline-block !important;position: relative;}#sk-container-id-3 div.sk-text-repr-fallback {display: none;}</style><div id=\"sk-container-id-3\" class=\"sk-top-container\"><div class=\"sk-text-repr-fallback\"><pre>GridSearchCV(cv=StratifiedKFold(n_splits=5, random_state=23, shuffle=True),\n",
       "             estimator=DecisionTreeClassifier(),\n",
       "             param_grid={&#x27;max_depth&#x27;: [2, 3, 4, 5, 6, None],\n",
       "                         &#x27;min_samples_leaf&#x27;: [1, 3, 5, 7, 10, 15],\n",
       "                         &#x27;min_samples_split&#x27;: [2, 5, 10]},\n",
       "             scoring=&#x27;neg_log_loss&#x27;, verbose=3)</pre><b>In a Jupyter environment, please rerun this cell to show the HTML representation or trust the notebook. <br />On GitHub, the HTML representation is unable to render, please try loading this page with nbviewer.org.</b></div><div class=\"sk-container\" hidden><div class=\"sk-item sk-dashed-wrapped\"><div class=\"sk-label-container\"><div class=\"sk-label sk-toggleable\"><input class=\"sk-toggleable__control sk-hidden--visually\" id=\"sk-estimator-id-7\" type=\"checkbox\" ><label for=\"sk-estimator-id-7\" class=\"sk-toggleable__label sk-toggleable__label-arrow\">GridSearchCV</label><div class=\"sk-toggleable__content\"><pre>GridSearchCV(cv=StratifiedKFold(n_splits=5, random_state=23, shuffle=True),\n",
       "             estimator=DecisionTreeClassifier(),\n",
       "             param_grid={&#x27;max_depth&#x27;: [2, 3, 4, 5, 6, None],\n",
       "                         &#x27;min_samples_leaf&#x27;: [1, 3, 5, 7, 10, 15],\n",
       "                         &#x27;min_samples_split&#x27;: [2, 5, 10]},\n",
       "             scoring=&#x27;neg_log_loss&#x27;, verbose=3)</pre></div></div></div><div class=\"sk-parallel\"><div class=\"sk-parallel-item\"><div class=\"sk-item\"><div class=\"sk-label-container\"><div class=\"sk-label sk-toggleable\"><input class=\"sk-toggleable__control sk-hidden--visually\" id=\"sk-estimator-id-8\" type=\"checkbox\" ><label for=\"sk-estimator-id-8\" class=\"sk-toggleable__label sk-toggleable__label-arrow\">estimator: DecisionTreeClassifier</label><div class=\"sk-toggleable__content\"><pre>DecisionTreeClassifier()</pre></div></div></div><div class=\"sk-serial\"><div class=\"sk-item\"><div class=\"sk-estimator sk-toggleable\"><input class=\"sk-toggleable__control sk-hidden--visually\" id=\"sk-estimator-id-9\" type=\"checkbox\" ><label for=\"sk-estimator-id-9\" class=\"sk-toggleable__label sk-toggleable__label-arrow\">DecisionTreeClassifier</label><div class=\"sk-toggleable__content\"><pre>DecisionTreeClassifier()</pre></div></div></div></div></div></div></div></div></div></div>"
      ],
      "text/plain": [
       "GridSearchCV(cv=StratifiedKFold(n_splits=5, random_state=23, shuffle=True),\n",
       "             estimator=DecisionTreeClassifier(),\n",
       "             param_grid={'max_depth': [2, 3, 4, 5, 6, None],\n",
       "                         'min_samples_leaf': [1, 3, 5, 7, 10, 15],\n",
       "                         'min_samples_split': [2, 5, 10]},\n",
       "             scoring='neg_log_loss', verbose=3)"
      ]
     },
     "execution_count": 23,
     "metadata": {},
     "output_type": "execute_result"
    }
   ],
   "source": [
    "gcv.fit(X,y)"
   ]
  },
  {
   "cell_type": "code",
   "execution_count": 24,
   "id": "a41732d3",
   "metadata": {},
   "outputs": [],
   "source": [
    "dtc_ll=gcv.best_score_"
   ]
  },
  {
   "cell_type": "markdown",
   "id": "eb4560f2",
   "metadata": {},
   "source": [
    "# esemble without weights"
   ]
  },
  {
   "cell_type": "code",
   "execution_count": 56,
   "id": "e338079a",
   "metadata": {},
   "outputs": [],
   "source": [
    "voting=VotingClassifier(estimators=[('SVM',svm),('LR',lr),('DTC',dtc)],voting=\"soft\")"
   ]
  },
  {
   "cell_type": "code",
   "execution_count": 57,
   "id": "a340b877",
   "metadata": {},
   "outputs": [
    {
     "data": {
      "text/plain": [
       "{'estimators': [('SVM', SVC(probability=True, random_state=23)),\n",
       "  ('LR', LogisticRegression()),\n",
       "  ('DTC', DecisionTreeClassifier())],\n",
       " 'flatten_transform': True,\n",
       " 'n_jobs': None,\n",
       " 'verbose': False,\n",
       " 'voting': 'soft',\n",
       " 'weights': None,\n",
       " 'SVM': SVC(probability=True, random_state=23),\n",
       " 'LR': LogisticRegression(),\n",
       " 'DTC': DecisionTreeClassifier(),\n",
       " 'SVM__C': 1.0,\n",
       " 'SVM__break_ties': False,\n",
       " 'SVM__cache_size': 200,\n",
       " 'SVM__class_weight': None,\n",
       " 'SVM__coef0': 0.0,\n",
       " 'SVM__decision_function_shape': 'ovr',\n",
       " 'SVM__degree': 3,\n",
       " 'SVM__gamma': 'scale',\n",
       " 'SVM__kernel': 'rbf',\n",
       " 'SVM__max_iter': -1,\n",
       " 'SVM__probability': True,\n",
       " 'SVM__random_state': 23,\n",
       " 'SVM__shrinking': True,\n",
       " 'SVM__tol': 0.001,\n",
       " 'SVM__verbose': False,\n",
       " 'LR__C': 1.0,\n",
       " 'LR__class_weight': None,\n",
       " 'LR__dual': False,\n",
       " 'LR__fit_intercept': True,\n",
       " 'LR__intercept_scaling': 1,\n",
       " 'LR__l1_ratio': None,\n",
       " 'LR__max_iter': 100,\n",
       " 'LR__multi_class': 'auto',\n",
       " 'LR__n_jobs': None,\n",
       " 'LR__penalty': 'l2',\n",
       " 'LR__random_state': None,\n",
       " 'LR__solver': 'lbfgs',\n",
       " 'LR__tol': 0.0001,\n",
       " 'LR__verbose': 0,\n",
       " 'LR__warm_start': False,\n",
       " 'DTC__ccp_alpha': 0.0,\n",
       " 'DTC__class_weight': None,\n",
       " 'DTC__criterion': 'gini',\n",
       " 'DTC__max_depth': None,\n",
       " 'DTC__max_features': None,\n",
       " 'DTC__max_leaf_nodes': None,\n",
       " 'DTC__min_impurity_decrease': 0.0,\n",
       " 'DTC__min_samples_leaf': 1,\n",
       " 'DTC__min_samples_split': 2,\n",
       " 'DTC__min_weight_fraction_leaf': 0.0,\n",
       " 'DTC__random_state': None,\n",
       " 'DTC__splitter': 'best'}"
      ]
     },
     "execution_count": 57,
     "metadata": {},
     "output_type": "execute_result"
    }
   ],
   "source": [
    "voting.get_params()"
   ]
  },
  {
   "cell_type": "code",
   "execution_count": 58,
   "id": "34827e24",
   "metadata": {},
   "outputs": [],
   "source": [
    "params={'SVM__gamma': ['scale','auto'],'SVM__C':np.linspace(0.001,5,5),'LR__penalty':['l1','l2','elasticnet',None],'LR__multi_class':['multimodel','ovr'] ,'DTC__max_depth':[2,3,4,5,6,None],'DTC__min_samples_leaf':[1,3,5,7,10,15],'DTC__min_samples_split': [2,5,10]}"
   ]
  },
  {
   "cell_type": "code",
   "execution_count": 59,
   "id": "ed595ad2",
   "metadata": {},
   "outputs": [],
   "source": [
    "rgcv=RandomizedSearchCV(voting,param_distributions=params,verbose=3,cv=kfold,scoring='neg_log_loss',n_iter=50)"
   ]
  },
  {
   "cell_type": "code",
   "execution_count": 60,
   "id": "562eec80",
   "metadata": {},
   "outputs": [
    {
     "name": "stdout",
     "output_type": "stream",
     "text": [
      "Fitting 5 folds for each of 50 candidates, totalling 250 fits\n",
      "[CV 1/5] END DTC__max_depth=4, DTC__min_samples_leaf=10, DTC__min_samples_split=2, LR__multi_class=multimodel, LR__penalty=elasticnet, SVM__C=5.0, SVM__gamma=scale;, score=nan total time=   0.0s\n",
      "[CV 2/5] END DTC__max_depth=4, DTC__min_samples_leaf=10, DTC__min_samples_split=2, LR__multi_class=multimodel, LR__penalty=elasticnet, SVM__C=5.0, SVM__gamma=scale;, score=nan total time=   0.0s\n",
      "[CV 3/5] END DTC__max_depth=4, DTC__min_samples_leaf=10, DTC__min_samples_split=2, LR__multi_class=multimodel, LR__penalty=elasticnet, SVM__C=5.0, SVM__gamma=scale;, score=nan total time=   0.0s\n",
      "[CV 4/5] END DTC__max_depth=4, DTC__min_samples_leaf=10, DTC__min_samples_split=2, LR__multi_class=multimodel, LR__penalty=elasticnet, SVM__C=5.0, SVM__gamma=scale;, score=nan total time=   0.0s\n",
      "[CV 5/5] END DTC__max_depth=4, DTC__min_samples_leaf=10, DTC__min_samples_split=2, LR__multi_class=multimodel, LR__penalty=elasticnet, SVM__C=5.0, SVM__gamma=scale;, score=nan total time=   0.0s\n"
     ]
    },
    {
     "name": "stderr",
     "output_type": "stream",
     "text": [
      "/home/dai/anaconda3/lib/python3.11/site-packages/sklearn/linear_model/_logistic.py:460: ConvergenceWarning: lbfgs failed to converge (status=1):\n",
      "STOP: TOTAL NO. of ITERATIONS REACHED LIMIT.\n",
      "\n",
      "Increase the number of iterations (max_iter) or scale the data as shown in:\n",
      "    https://scikit-learn.org/stable/modules/preprocessing.html\n",
      "Please also refer to the documentation for alternative solver options:\n",
      "    https://scikit-learn.org/stable/modules/linear_model.html#logistic-regression\n",
      "  n_iter_i = _check_optimize_result(\n",
      "/home/dai/anaconda3/lib/python3.11/site-packages/sklearn/linear_model/_logistic.py:460: ConvergenceWarning: lbfgs failed to converge (status=1):\n",
      "STOP: TOTAL NO. of ITERATIONS REACHED LIMIT.\n",
      "\n",
      "Increase the number of iterations (max_iter) or scale the data as shown in:\n",
      "    https://scikit-learn.org/stable/modules/preprocessing.html\n",
      "Please also refer to the documentation for alternative solver options:\n",
      "    https://scikit-learn.org/stable/modules/linear_model.html#logistic-regression\n",
      "  n_iter_i = _check_optimize_result(\n"
     ]
    },
    {
     "name": "stdout",
     "output_type": "stream",
     "text": [
      "[CV 1/5] END DTC__max_depth=6, DTC__min_samples_leaf=7, DTC__min_samples_split=10, LR__multi_class=ovr, LR__penalty=l2, SVM__C=3.75025, SVM__gamma=auto;, score=-0.541 total time=   0.2s\n",
      "[CV 2/5] END DTC__max_depth=6, DTC__min_samples_leaf=7, DTC__min_samples_split=10, LR__multi_class=ovr, LR__penalty=l2, SVM__C=3.75025, SVM__gamma=auto;, score=-0.612 total time=   0.2s\n",
      "[CV 3/5] END DTC__max_depth=6, DTC__min_samples_leaf=7, DTC__min_samples_split=10, LR__multi_class=ovr, LR__penalty=l2, SVM__C=3.75025, SVM__gamma=auto;, score=-0.847 total time=   0.2s\n"
     ]
    },
    {
     "name": "stderr",
     "output_type": "stream",
     "text": [
      "/home/dai/anaconda3/lib/python3.11/site-packages/sklearn/linear_model/_logistic.py:460: ConvergenceWarning: lbfgs failed to converge (status=1):\n",
      "STOP: TOTAL NO. of ITERATIONS REACHED LIMIT.\n",
      "\n",
      "Increase the number of iterations (max_iter) or scale the data as shown in:\n",
      "    https://scikit-learn.org/stable/modules/preprocessing.html\n",
      "Please also refer to the documentation for alternative solver options:\n",
      "    https://scikit-learn.org/stable/modules/linear_model.html#logistic-regression\n",
      "  n_iter_i = _check_optimize_result(\n",
      "/home/dai/anaconda3/lib/python3.11/site-packages/sklearn/linear_model/_logistic.py:460: ConvergenceWarning: lbfgs failed to converge (status=1):\n",
      "STOP: TOTAL NO. of ITERATIONS REACHED LIMIT.\n",
      "\n",
      "Increase the number of iterations (max_iter) or scale the data as shown in:\n",
      "    https://scikit-learn.org/stable/modules/preprocessing.html\n",
      "Please also refer to the documentation for alternative solver options:\n",
      "    https://scikit-learn.org/stable/modules/linear_model.html#logistic-regression\n",
      "  n_iter_i = _check_optimize_result(\n"
     ]
    },
    {
     "name": "stdout",
     "output_type": "stream",
     "text": [
      "[CV 4/5] END DTC__max_depth=6, DTC__min_samples_leaf=7, DTC__min_samples_split=10, LR__multi_class=ovr, LR__penalty=l2, SVM__C=3.75025, SVM__gamma=auto;, score=-0.603 total time=   0.2s\n",
      "[CV 5/5] END DTC__max_depth=6, DTC__min_samples_leaf=7, DTC__min_samples_split=10, LR__multi_class=ovr, LR__penalty=l2, SVM__C=3.75025, SVM__gamma=auto;, score=-0.648 total time=   0.2s\n"
     ]
    },
    {
     "name": "stderr",
     "output_type": "stream",
     "text": [
      "/home/dai/anaconda3/lib/python3.11/site-packages/sklearn/linear_model/_logistic.py:460: ConvergenceWarning: lbfgs failed to converge (status=1):\n",
      "STOP: TOTAL NO. of ITERATIONS REACHED LIMIT.\n",
      "\n",
      "Increase the number of iterations (max_iter) or scale the data as shown in:\n",
      "    https://scikit-learn.org/stable/modules/preprocessing.html\n",
      "Please also refer to the documentation for alternative solver options:\n",
      "    https://scikit-learn.org/stable/modules/linear_model.html#logistic-regression\n",
      "  n_iter_i = _check_optimize_result(\n"
     ]
    },
    {
     "name": "stdout",
     "output_type": "stream",
     "text": [
      "[CV 1/5] END DTC__max_depth=5, DTC__min_samples_leaf=5, DTC__min_samples_split=2, LR__multi_class=ovr, LR__penalty=elasticnet, SVM__C=0.001, SVM__gamma=scale;, score=nan total time=   0.0s\n",
      "[CV 2/5] END DTC__max_depth=5, DTC__min_samples_leaf=5, DTC__min_samples_split=2, LR__multi_class=ovr, LR__penalty=elasticnet, SVM__C=0.001, SVM__gamma=scale;, score=nan total time=   0.0s\n",
      "[CV 3/5] END DTC__max_depth=5, DTC__min_samples_leaf=5, DTC__min_samples_split=2, LR__multi_class=ovr, LR__penalty=elasticnet, SVM__C=0.001, SVM__gamma=scale;, score=nan total time=   0.0s\n",
      "[CV 4/5] END DTC__max_depth=5, DTC__min_samples_leaf=5, DTC__min_samples_split=2, LR__multi_class=ovr, LR__penalty=elasticnet, SVM__C=0.001, SVM__gamma=scale;, score=nan total time=   0.0s\n",
      "[CV 5/5] END DTC__max_depth=5, DTC__min_samples_leaf=5, DTC__min_samples_split=2, LR__multi_class=ovr, LR__penalty=elasticnet, SVM__C=0.001, SVM__gamma=scale;, score=nan total time=   0.0s\n"
     ]
    },
    {
     "name": "stderr",
     "output_type": "stream",
     "text": [
      "/home/dai/anaconda3/lib/python3.11/site-packages/sklearn/linear_model/_logistic.py:460: ConvergenceWarning: lbfgs failed to converge (status=1):\n",
      "STOP: TOTAL NO. of ITERATIONS REACHED LIMIT.\n",
      "\n",
      "Increase the number of iterations (max_iter) or scale the data as shown in:\n",
      "    https://scikit-learn.org/stable/modules/preprocessing.html\n",
      "Please also refer to the documentation for alternative solver options:\n",
      "    https://scikit-learn.org/stable/modules/linear_model.html#logistic-regression\n",
      "  n_iter_i = _check_optimize_result(\n",
      "/home/dai/anaconda3/lib/python3.11/site-packages/sklearn/linear_model/_logistic.py:460: ConvergenceWarning: lbfgs failed to converge (status=1):\n",
      "STOP: TOTAL NO. of ITERATIONS REACHED LIMIT.\n",
      "\n",
      "Increase the number of iterations (max_iter) or scale the data as shown in:\n",
      "    https://scikit-learn.org/stable/modules/preprocessing.html\n",
      "Please also refer to the documentation for alternative solver options:\n",
      "    https://scikit-learn.org/stable/modules/linear_model.html#logistic-regression\n",
      "  n_iter_i = _check_optimize_result(\n"
     ]
    },
    {
     "name": "stdout",
     "output_type": "stream",
     "text": [
      "[CV 1/5] END DTC__max_depth=2, DTC__min_samples_leaf=7, DTC__min_samples_split=5, LR__multi_class=ovr, LR__penalty=None, SVM__C=2.5004999999999997, SVM__gamma=auto;, score=-0.888 total time=   0.1s\n",
      "[CV 2/5] END DTC__max_depth=2, DTC__min_samples_leaf=7, DTC__min_samples_split=5, LR__multi_class=ovr, LR__penalty=None, SVM__C=2.5004999999999997, SVM__gamma=auto;, score=-0.948 total time=   0.2s\n"
     ]
    },
    {
     "name": "stderr",
     "output_type": "stream",
     "text": [
      "/home/dai/anaconda3/lib/python3.11/site-packages/sklearn/linear_model/_logistic.py:460: ConvergenceWarning: lbfgs failed to converge (status=1):\n",
      "STOP: TOTAL NO. of ITERATIONS REACHED LIMIT.\n",
      "\n",
      "Increase the number of iterations (max_iter) or scale the data as shown in:\n",
      "    https://scikit-learn.org/stable/modules/preprocessing.html\n",
      "Please also refer to the documentation for alternative solver options:\n",
      "    https://scikit-learn.org/stable/modules/linear_model.html#logistic-regression\n",
      "  n_iter_i = _check_optimize_result(\n",
      "/home/dai/anaconda3/lib/python3.11/site-packages/sklearn/linear_model/_logistic.py:460: ConvergenceWarning: lbfgs failed to converge (status=1):\n",
      "STOP: TOTAL NO. of ITERATIONS REACHED LIMIT.\n",
      "\n",
      "Increase the number of iterations (max_iter) or scale the data as shown in:\n",
      "    https://scikit-learn.org/stable/modules/preprocessing.html\n",
      "Please also refer to the documentation for alternative solver options:\n",
      "    https://scikit-learn.org/stable/modules/linear_model.html#logistic-regression\n",
      "  n_iter_i = _check_optimize_result(\n"
     ]
    },
    {
     "name": "stdout",
     "output_type": "stream",
     "text": [
      "[CV 3/5] END DTC__max_depth=2, DTC__min_samples_leaf=7, DTC__min_samples_split=5, LR__multi_class=ovr, LR__penalty=None, SVM__C=2.5004999999999997, SVM__gamma=auto;, score=-1.046 total time=   0.2s\n",
      "[CV 4/5] END DTC__max_depth=2, DTC__min_samples_leaf=7, DTC__min_samples_split=5, LR__multi_class=ovr, LR__penalty=None, SVM__C=2.5004999999999997, SVM__gamma=auto;, score=-0.870 total time=   0.2s\n"
     ]
    },
    {
     "name": "stderr",
     "output_type": "stream",
     "text": [
      "/home/dai/anaconda3/lib/python3.11/site-packages/sklearn/linear_model/_logistic.py:460: ConvergenceWarning: lbfgs failed to converge (status=1):\n",
      "STOP: TOTAL NO. of ITERATIONS REACHED LIMIT.\n",
      "\n",
      "Increase the number of iterations (max_iter) or scale the data as shown in:\n",
      "    https://scikit-learn.org/stable/modules/preprocessing.html\n",
      "Please also refer to the documentation for alternative solver options:\n",
      "    https://scikit-learn.org/stable/modules/linear_model.html#logistic-regression\n",
      "  n_iter_i = _check_optimize_result(\n"
     ]
    },
    {
     "name": "stdout",
     "output_type": "stream",
     "text": [
      "[CV 5/5] END DTC__max_depth=2, DTC__min_samples_leaf=7, DTC__min_samples_split=5, LR__multi_class=ovr, LR__penalty=None, SVM__C=2.5004999999999997, SVM__gamma=auto;, score=-0.892 total time=   0.1s\n",
      "[CV 1/5] END DTC__max_depth=5, DTC__min_samples_leaf=10, DTC__min_samples_split=10, LR__multi_class=ovr, LR__penalty=l1, SVM__C=1.2507499999999998, SVM__gamma=scale;, score=nan total time=   0.0s\n",
      "[CV 2/5] END DTC__max_depth=5, DTC__min_samples_leaf=10, DTC__min_samples_split=10, LR__multi_class=ovr, LR__penalty=l1, SVM__C=1.2507499999999998, SVM__gamma=scale;, score=nan total time=   0.0s\n",
      "[CV 3/5] END DTC__max_depth=5, DTC__min_samples_leaf=10, DTC__min_samples_split=10, LR__multi_class=ovr, LR__penalty=l1, SVM__C=1.2507499999999998, SVM__gamma=scale;, score=nan total time=   0.0s\n",
      "[CV 4/5] END DTC__max_depth=5, DTC__min_samples_leaf=10, DTC__min_samples_split=10, LR__multi_class=ovr, LR__penalty=l1, SVM__C=1.2507499999999998, SVM__gamma=scale;, score=nan total time=   0.0s\n",
      "[CV 5/5] END DTC__max_depth=5, DTC__min_samples_leaf=10, DTC__min_samples_split=10, LR__multi_class=ovr, LR__penalty=l1, SVM__C=1.2507499999999998, SVM__gamma=scale;, score=nan total time=   0.0s\n"
     ]
    },
    {
     "name": "stderr",
     "output_type": "stream",
     "text": [
      "/home/dai/anaconda3/lib/python3.11/site-packages/sklearn/linear_model/_logistic.py:460: ConvergenceWarning: lbfgs failed to converge (status=1):\n",
      "STOP: TOTAL NO. of ITERATIONS REACHED LIMIT.\n",
      "\n",
      "Increase the number of iterations (max_iter) or scale the data as shown in:\n",
      "    https://scikit-learn.org/stable/modules/preprocessing.html\n",
      "Please also refer to the documentation for alternative solver options:\n",
      "    https://scikit-learn.org/stable/modules/linear_model.html#logistic-regression\n",
      "  n_iter_i = _check_optimize_result(\n",
      "/home/dai/anaconda3/lib/python3.11/site-packages/sklearn/linear_model/_logistic.py:460: ConvergenceWarning: lbfgs failed to converge (status=1):\n",
      "STOP: TOTAL NO. of ITERATIONS REACHED LIMIT.\n",
      "\n",
      "Increase the number of iterations (max_iter) or scale the data as shown in:\n",
      "    https://scikit-learn.org/stable/modules/preprocessing.html\n",
      "Please also refer to the documentation for alternative solver options:\n",
      "    https://scikit-learn.org/stable/modules/linear_model.html#logistic-regression\n",
      "  n_iter_i = _check_optimize_result(\n"
     ]
    },
    {
     "name": "stdout",
     "output_type": "stream",
     "text": [
      "[CV 1/5] END DTC__max_depth=5, DTC__min_samples_leaf=1, DTC__min_samples_split=2, LR__multi_class=ovr, LR__penalty=l2, SVM__C=5.0, SVM__gamma=auto;, score=-0.617 total time=   0.2s\n",
      "[CV 2/5] END DTC__max_depth=5, DTC__min_samples_leaf=1, DTC__min_samples_split=2, LR__multi_class=ovr, LR__penalty=l2, SVM__C=5.0, SVM__gamma=auto;, score=-0.699 total time=   0.2s\n"
     ]
    },
    {
     "name": "stderr",
     "output_type": "stream",
     "text": [
      "/home/dai/anaconda3/lib/python3.11/site-packages/sklearn/linear_model/_logistic.py:460: ConvergenceWarning: lbfgs failed to converge (status=1):\n",
      "STOP: TOTAL NO. of ITERATIONS REACHED LIMIT.\n",
      "\n",
      "Increase the number of iterations (max_iter) or scale the data as shown in:\n",
      "    https://scikit-learn.org/stable/modules/preprocessing.html\n",
      "Please also refer to the documentation for alternative solver options:\n",
      "    https://scikit-learn.org/stable/modules/linear_model.html#logistic-regression\n",
      "  n_iter_i = _check_optimize_result(\n",
      "/home/dai/anaconda3/lib/python3.11/site-packages/sklearn/linear_model/_logistic.py:460: ConvergenceWarning: lbfgs failed to converge (status=1):\n",
      "STOP: TOTAL NO. of ITERATIONS REACHED LIMIT.\n",
      "\n",
      "Increase the number of iterations (max_iter) or scale the data as shown in:\n",
      "    https://scikit-learn.org/stable/modules/preprocessing.html\n",
      "Please also refer to the documentation for alternative solver options:\n",
      "    https://scikit-learn.org/stable/modules/linear_model.html#logistic-regression\n",
      "  n_iter_i = _check_optimize_result(\n"
     ]
    },
    {
     "name": "stdout",
     "output_type": "stream",
     "text": [
      "[CV 3/5] END DTC__max_depth=5, DTC__min_samples_leaf=1, DTC__min_samples_split=2, LR__multi_class=ovr, LR__penalty=l2, SVM__C=5.0, SVM__gamma=auto;, score=-0.782 total time=   0.2s\n",
      "[CV 4/5] END DTC__max_depth=5, DTC__min_samples_leaf=1, DTC__min_samples_split=2, LR__multi_class=ovr, LR__penalty=l2, SVM__C=5.0, SVM__gamma=auto;, score=-0.614 total time=   0.2s\n"
     ]
    },
    {
     "name": "stderr",
     "output_type": "stream",
     "text": [
      "/home/dai/anaconda3/lib/python3.11/site-packages/sklearn/linear_model/_logistic.py:460: ConvergenceWarning: lbfgs failed to converge (status=1):\n",
      "STOP: TOTAL NO. of ITERATIONS REACHED LIMIT.\n",
      "\n",
      "Increase the number of iterations (max_iter) or scale the data as shown in:\n",
      "    https://scikit-learn.org/stable/modules/preprocessing.html\n",
      "Please also refer to the documentation for alternative solver options:\n",
      "    https://scikit-learn.org/stable/modules/linear_model.html#logistic-regression\n",
      "  n_iter_i = _check_optimize_result(\n",
      "/home/dai/anaconda3/lib/python3.11/site-packages/sklearn/linear_model/_logistic.py:460: ConvergenceWarning: lbfgs failed to converge (status=1):\n",
      "STOP: TOTAL NO. of ITERATIONS REACHED LIMIT.\n",
      "\n",
      "Increase the number of iterations (max_iter) or scale the data as shown in:\n",
      "    https://scikit-learn.org/stable/modules/preprocessing.html\n",
      "Please also refer to the documentation for alternative solver options:\n",
      "    https://scikit-learn.org/stable/modules/linear_model.html#logistic-regression\n",
      "  n_iter_i = _check_optimize_result(\n"
     ]
    },
    {
     "name": "stdout",
     "output_type": "stream",
     "text": [
      "[CV 5/5] END DTC__max_depth=5, DTC__min_samples_leaf=1, DTC__min_samples_split=2, LR__multi_class=ovr, LR__penalty=l2, SVM__C=5.0, SVM__gamma=auto;, score=-0.636 total time=   0.2s\n",
      "[CV 1/5] END DTC__max_depth=3, DTC__min_samples_leaf=5, DTC__min_samples_split=10, LR__multi_class=ovr, LR__penalty=l2, SVM__C=2.5004999999999997, SVM__gamma=auto;, score=-0.749 total time=   0.2s\n"
     ]
    },
    {
     "name": "stderr",
     "output_type": "stream",
     "text": [
      "/home/dai/anaconda3/lib/python3.11/site-packages/sklearn/linear_model/_logistic.py:460: ConvergenceWarning: lbfgs failed to converge (status=1):\n",
      "STOP: TOTAL NO. of ITERATIONS REACHED LIMIT.\n",
      "\n",
      "Increase the number of iterations (max_iter) or scale the data as shown in:\n",
      "    https://scikit-learn.org/stable/modules/preprocessing.html\n",
      "Please also refer to the documentation for alternative solver options:\n",
      "    https://scikit-learn.org/stable/modules/linear_model.html#logistic-regression\n",
      "  n_iter_i = _check_optimize_result(\n",
      "/home/dai/anaconda3/lib/python3.11/site-packages/sklearn/linear_model/_logistic.py:460: ConvergenceWarning: lbfgs failed to converge (status=1):\n",
      "STOP: TOTAL NO. of ITERATIONS REACHED LIMIT.\n",
      "\n",
      "Increase the number of iterations (max_iter) or scale the data as shown in:\n",
      "    https://scikit-learn.org/stable/modules/preprocessing.html\n",
      "Please also refer to the documentation for alternative solver options:\n",
      "    https://scikit-learn.org/stable/modules/linear_model.html#logistic-regression\n",
      "  n_iter_i = _check_optimize_result(\n"
     ]
    },
    {
     "name": "stdout",
     "output_type": "stream",
     "text": [
      "[CV 2/5] END DTC__max_depth=3, DTC__min_samples_leaf=5, DTC__min_samples_split=10, LR__multi_class=ovr, LR__penalty=l2, SVM__C=2.5004999999999997, SVM__gamma=auto;, score=-0.836 total time=   0.2s\n",
      "[CV 3/5] END DTC__max_depth=3, DTC__min_samples_leaf=5, DTC__min_samples_split=10, LR__multi_class=ovr, LR__penalty=l2, SVM__C=2.5004999999999997, SVM__gamma=auto;, score=-0.892 total time=   0.2s\n"
     ]
    },
    {
     "name": "stderr",
     "output_type": "stream",
     "text": [
      "/home/dai/anaconda3/lib/python3.11/site-packages/sklearn/linear_model/_logistic.py:460: ConvergenceWarning: lbfgs failed to converge (status=1):\n",
      "STOP: TOTAL NO. of ITERATIONS REACHED LIMIT.\n",
      "\n",
      "Increase the number of iterations (max_iter) or scale the data as shown in:\n",
      "    https://scikit-learn.org/stable/modules/preprocessing.html\n",
      "Please also refer to the documentation for alternative solver options:\n",
      "    https://scikit-learn.org/stable/modules/linear_model.html#logistic-regression\n",
      "  n_iter_i = _check_optimize_result(\n",
      "/home/dai/anaconda3/lib/python3.11/site-packages/sklearn/linear_model/_logistic.py:460: ConvergenceWarning: lbfgs failed to converge (status=1):\n",
      "STOP: TOTAL NO. of ITERATIONS REACHED LIMIT.\n",
      "\n",
      "Increase the number of iterations (max_iter) or scale the data as shown in:\n",
      "    https://scikit-learn.org/stable/modules/preprocessing.html\n",
      "Please also refer to the documentation for alternative solver options:\n",
      "    https://scikit-learn.org/stable/modules/linear_model.html#logistic-regression\n",
      "  n_iter_i = _check_optimize_result(\n"
     ]
    },
    {
     "name": "stdout",
     "output_type": "stream",
     "text": [
      "[CV 4/5] END DTC__max_depth=3, DTC__min_samples_leaf=5, DTC__min_samples_split=10, LR__multi_class=ovr, LR__penalty=l2, SVM__C=2.5004999999999997, SVM__gamma=auto;, score=-0.795 total time=   0.2s\n",
      "[CV 5/5] END DTC__max_depth=3, DTC__min_samples_leaf=5, DTC__min_samples_split=10, LR__multi_class=ovr, LR__penalty=l2, SVM__C=2.5004999999999997, SVM__gamma=auto;, score=-0.755 total time=   0.2s\n",
      "[CV 1/5] END DTC__max_depth=2, DTC__min_samples_leaf=1, DTC__min_samples_split=2, LR__multi_class=multimodel, LR__penalty=l1, SVM__C=0.001, SVM__gamma=auto;, score=nan total time=   0.0s\n",
      "[CV 2/5] END DTC__max_depth=2, DTC__min_samples_leaf=1, DTC__min_samples_split=2, LR__multi_class=multimodel, LR__penalty=l1, SVM__C=0.001, SVM__gamma=auto;, score=nan total time=   0.0s\n",
      "[CV 3/5] END DTC__max_depth=2, DTC__min_samples_leaf=1, DTC__min_samples_split=2, LR__multi_class=multimodel, LR__penalty=l1, SVM__C=0.001, SVM__gamma=auto;, score=nan total time=   0.0s\n",
      "[CV 4/5] END DTC__max_depth=2, DTC__min_samples_leaf=1, DTC__min_samples_split=2, LR__multi_class=multimodel, LR__penalty=l1, SVM__C=0.001, SVM__gamma=auto;, score=nan total time=   0.0s\n",
      "[CV 5/5] END DTC__max_depth=2, DTC__min_samples_leaf=1, DTC__min_samples_split=2, LR__multi_class=multimodel, LR__penalty=l1, SVM__C=0.001, SVM__gamma=auto;, score=nan total time=   0.0s\n",
      "[CV 1/5] END DTC__max_depth=4, DTC__min_samples_leaf=1, DTC__min_samples_split=2, LR__multi_class=ovr, LR__penalty=l1, SVM__C=2.5004999999999997, SVM__gamma=scale;, score=nan total time=   0.0s\n",
      "[CV 2/5] END DTC__max_depth=4, DTC__min_samples_leaf=1, DTC__min_samples_split=2, LR__multi_class=ovr, LR__penalty=l1, SVM__C=2.5004999999999997, SVM__gamma=scale;, score=nan total time=   0.0s\n",
      "[CV 3/5] END DTC__max_depth=4, DTC__min_samples_leaf=1, DTC__min_samples_split=2, LR__multi_class=ovr, LR__penalty=l1, SVM__C=2.5004999999999997, SVM__gamma=scale;, score=nan total time=   0.0s\n",
      "[CV 4/5] END DTC__max_depth=4, DTC__min_samples_leaf=1, DTC__min_samples_split=2, LR__multi_class=ovr, LR__penalty=l1, SVM__C=2.5004999999999997, SVM__gamma=scale;, score=nan total time=   0.0s\n",
      "[CV 5/5] END DTC__max_depth=4, DTC__min_samples_leaf=1, DTC__min_samples_split=2, LR__multi_class=ovr, LR__penalty=l1, SVM__C=2.5004999999999997, SVM__gamma=scale;, score=nan total time=   0.0s\n",
      "[CV 1/5] END DTC__max_depth=None, DTC__min_samples_leaf=10, DTC__min_samples_split=2, LR__multi_class=ovr, LR__penalty=l1, SVM__C=3.75025, SVM__gamma=scale;, score=nan total time=   0.0s\n",
      "[CV 2/5] END DTC__max_depth=None, DTC__min_samples_leaf=10, DTC__min_samples_split=2, LR__multi_class=ovr, LR__penalty=l1, SVM__C=3.75025, SVM__gamma=scale;, score=nan total time=   0.0s\n",
      "[CV 3/5] END DTC__max_depth=None, DTC__min_samples_leaf=10, DTC__min_samples_split=2, LR__multi_class=ovr, LR__penalty=l1, SVM__C=3.75025, SVM__gamma=scale;, score=nan total time=   0.0s\n",
      "[CV 4/5] END DTC__max_depth=None, DTC__min_samples_leaf=10, DTC__min_samples_split=2, LR__multi_class=ovr, LR__penalty=l1, SVM__C=3.75025, SVM__gamma=scale;, score=nan total time=   0.0s\n",
      "[CV 5/5] END DTC__max_depth=None, DTC__min_samples_leaf=10, DTC__min_samples_split=2, LR__multi_class=ovr, LR__penalty=l1, SVM__C=3.75025, SVM__gamma=scale;, score=nan total time=   0.0s\n"
     ]
    },
    {
     "name": "stderr",
     "output_type": "stream",
     "text": [
      "/home/dai/anaconda3/lib/python3.11/site-packages/sklearn/linear_model/_logistic.py:460: ConvergenceWarning: lbfgs failed to converge (status=1):\n",
      "STOP: TOTAL NO. of ITERATIONS REACHED LIMIT.\n",
      "\n",
      "Increase the number of iterations (max_iter) or scale the data as shown in:\n",
      "    https://scikit-learn.org/stable/modules/preprocessing.html\n",
      "Please also refer to the documentation for alternative solver options:\n",
      "    https://scikit-learn.org/stable/modules/linear_model.html#logistic-regression\n",
      "  n_iter_i = _check_optimize_result(\n",
      "/home/dai/anaconda3/lib/python3.11/site-packages/sklearn/linear_model/_logistic.py:460: ConvergenceWarning: lbfgs failed to converge (status=1):\n",
      "STOP: TOTAL NO. of ITERATIONS REACHED LIMIT.\n",
      "\n",
      "Increase the number of iterations (max_iter) or scale the data as shown in:\n",
      "    https://scikit-learn.org/stable/modules/preprocessing.html\n",
      "Please also refer to the documentation for alternative solver options:\n",
      "    https://scikit-learn.org/stable/modules/linear_model.html#logistic-regression\n",
      "  n_iter_i = _check_optimize_result(\n"
     ]
    },
    {
     "name": "stdout",
     "output_type": "stream",
     "text": [
      "[CV 1/5] END DTC__max_depth=6, DTC__min_samples_leaf=10, DTC__min_samples_split=2, LR__multi_class=ovr, LR__penalty=l2, SVM__C=3.75025, SVM__gamma=scale;, score=-0.314 total time=   0.1s\n",
      "[CV 2/5] END DTC__max_depth=6, DTC__min_samples_leaf=10, DTC__min_samples_split=2, LR__multi_class=ovr, LR__penalty=l2, SVM__C=3.75025, SVM__gamma=scale;, score=-0.417 total time=   0.1s\n"
     ]
    },
    {
     "name": "stderr",
     "output_type": "stream",
     "text": [
      "/home/dai/anaconda3/lib/python3.11/site-packages/sklearn/linear_model/_logistic.py:460: ConvergenceWarning: lbfgs failed to converge (status=1):\n",
      "STOP: TOTAL NO. of ITERATIONS REACHED LIMIT.\n",
      "\n",
      "Increase the number of iterations (max_iter) or scale the data as shown in:\n",
      "    https://scikit-learn.org/stable/modules/preprocessing.html\n",
      "Please also refer to the documentation for alternative solver options:\n",
      "    https://scikit-learn.org/stable/modules/linear_model.html#logistic-regression\n",
      "  n_iter_i = _check_optimize_result(\n",
      "/home/dai/anaconda3/lib/python3.11/site-packages/sklearn/linear_model/_logistic.py:460: ConvergenceWarning: lbfgs failed to converge (status=1):\n",
      "STOP: TOTAL NO. of ITERATIONS REACHED LIMIT.\n",
      "\n",
      "Increase the number of iterations (max_iter) or scale the data as shown in:\n",
      "    https://scikit-learn.org/stable/modules/preprocessing.html\n",
      "Please also refer to the documentation for alternative solver options:\n",
      "    https://scikit-learn.org/stable/modules/linear_model.html#logistic-regression\n",
      "  n_iter_i = _check_optimize_result(\n"
     ]
    },
    {
     "name": "stdout",
     "output_type": "stream",
     "text": [
      "[CV 3/5] END DTC__max_depth=6, DTC__min_samples_leaf=10, DTC__min_samples_split=2, LR__multi_class=ovr, LR__penalty=l2, SVM__C=3.75025, SVM__gamma=scale;, score=-0.611 total time=   0.2s\n",
      "[CV 4/5] END DTC__max_depth=6, DTC__min_samples_leaf=10, DTC__min_samples_split=2, LR__multi_class=ovr, LR__penalty=l2, SVM__C=3.75025, SVM__gamma=scale;, score=-0.425 total time=   0.2s\n"
     ]
    },
    {
     "name": "stderr",
     "output_type": "stream",
     "text": [
      "/home/dai/anaconda3/lib/python3.11/site-packages/sklearn/linear_model/_logistic.py:460: ConvergenceWarning: lbfgs failed to converge (status=1):\n",
      "STOP: TOTAL NO. of ITERATIONS REACHED LIMIT.\n",
      "\n",
      "Increase the number of iterations (max_iter) or scale the data as shown in:\n",
      "    https://scikit-learn.org/stable/modules/preprocessing.html\n",
      "Please also refer to the documentation for alternative solver options:\n",
      "    https://scikit-learn.org/stable/modules/linear_model.html#logistic-regression\n",
      "  n_iter_i = _check_optimize_result(\n"
     ]
    },
    {
     "name": "stdout",
     "output_type": "stream",
     "text": [
      "[CV 5/5] END DTC__max_depth=6, DTC__min_samples_leaf=10, DTC__min_samples_split=2, LR__multi_class=ovr, LR__penalty=l2, SVM__C=3.75025, SVM__gamma=scale;, score=-0.408 total time=   0.1s\n",
      "[CV 1/5] END DTC__max_depth=3, DTC__min_samples_leaf=7, DTC__min_samples_split=10, LR__multi_class=ovr, LR__penalty=l1, SVM__C=1.2507499999999998, SVM__gamma=auto;, score=nan total time=   0.0s\n",
      "[CV 2/5] END DTC__max_depth=3, DTC__min_samples_leaf=7, DTC__min_samples_split=10, LR__multi_class=ovr, LR__penalty=l1, SVM__C=1.2507499999999998, SVM__gamma=auto;, score=nan total time=   0.0s\n",
      "[CV 3/5] END DTC__max_depth=3, DTC__min_samples_leaf=7, DTC__min_samples_split=10, LR__multi_class=ovr, LR__penalty=l1, SVM__C=1.2507499999999998, SVM__gamma=auto;, score=nan total time=   0.0s\n",
      "[CV 4/5] END DTC__max_depth=3, DTC__min_samples_leaf=7, DTC__min_samples_split=10, LR__multi_class=ovr, LR__penalty=l1, SVM__C=1.2507499999999998, SVM__gamma=auto;, score=nan total time=   0.0s\n",
      "[CV 5/5] END DTC__max_depth=3, DTC__min_samples_leaf=7, DTC__min_samples_split=10, LR__multi_class=ovr, LR__penalty=l1, SVM__C=1.2507499999999998, SVM__gamma=auto;, score=nan total time=   0.0s\n"
     ]
    },
    {
     "name": "stderr",
     "output_type": "stream",
     "text": [
      "/home/dai/anaconda3/lib/python3.11/site-packages/sklearn/linear_model/_logistic.py:460: ConvergenceWarning: lbfgs failed to converge (status=1):\n",
      "STOP: TOTAL NO. of ITERATIONS REACHED LIMIT.\n",
      "\n",
      "Increase the number of iterations (max_iter) or scale the data as shown in:\n",
      "    https://scikit-learn.org/stable/modules/preprocessing.html\n",
      "Please also refer to the documentation for alternative solver options:\n",
      "    https://scikit-learn.org/stable/modules/linear_model.html#logistic-regression\n",
      "  n_iter_i = _check_optimize_result(\n",
      "/home/dai/anaconda3/lib/python3.11/site-packages/sklearn/linear_model/_logistic.py:460: ConvergenceWarning: lbfgs failed to converge (status=1):\n",
      "STOP: TOTAL NO. of ITERATIONS REACHED LIMIT.\n",
      "\n",
      "Increase the number of iterations (max_iter) or scale the data as shown in:\n",
      "    https://scikit-learn.org/stable/modules/preprocessing.html\n",
      "Please also refer to the documentation for alternative solver options:\n",
      "    https://scikit-learn.org/stable/modules/linear_model.html#logistic-regression\n",
      "  n_iter_i = _check_optimize_result(\n"
     ]
    },
    {
     "name": "stdout",
     "output_type": "stream",
     "text": [
      "[CV 1/5] END DTC__max_depth=3, DTC__min_samples_leaf=5, DTC__min_samples_split=2, LR__multi_class=ovr, LR__penalty=l2, SVM__C=5.0, SVM__gamma=auto;, score=-0.749 total time=   0.2s\n",
      "[CV 2/5] END DTC__max_depth=3, DTC__min_samples_leaf=5, DTC__min_samples_split=2, LR__multi_class=ovr, LR__penalty=l2, SVM__C=5.0, SVM__gamma=auto;, score=-0.836 total time=   0.2s\n"
     ]
    },
    {
     "name": "stderr",
     "output_type": "stream",
     "text": [
      "/home/dai/anaconda3/lib/python3.11/site-packages/sklearn/linear_model/_logistic.py:460: ConvergenceWarning: lbfgs failed to converge (status=1):\n",
      "STOP: TOTAL NO. of ITERATIONS REACHED LIMIT.\n",
      "\n",
      "Increase the number of iterations (max_iter) or scale the data as shown in:\n",
      "    https://scikit-learn.org/stable/modules/preprocessing.html\n",
      "Please also refer to the documentation for alternative solver options:\n",
      "    https://scikit-learn.org/stable/modules/linear_model.html#logistic-regression\n",
      "  n_iter_i = _check_optimize_result(\n",
      "/home/dai/anaconda3/lib/python3.11/site-packages/sklearn/linear_model/_logistic.py:460: ConvergenceWarning: lbfgs failed to converge (status=1):\n",
      "STOP: TOTAL NO. of ITERATIONS REACHED LIMIT.\n",
      "\n",
      "Increase the number of iterations (max_iter) or scale the data as shown in:\n",
      "    https://scikit-learn.org/stable/modules/preprocessing.html\n",
      "Please also refer to the documentation for alternative solver options:\n",
      "    https://scikit-learn.org/stable/modules/linear_model.html#logistic-regression\n",
      "  n_iter_i = _check_optimize_result(\n"
     ]
    },
    {
     "name": "stdout",
     "output_type": "stream",
     "text": [
      "[CV 3/5] END DTC__max_depth=3, DTC__min_samples_leaf=5, DTC__min_samples_split=2, LR__multi_class=ovr, LR__penalty=l2, SVM__C=5.0, SVM__gamma=auto;, score=-0.892 total time=   0.2s\n",
      "[CV 4/5] END DTC__max_depth=3, DTC__min_samples_leaf=5, DTC__min_samples_split=2, LR__multi_class=ovr, LR__penalty=l2, SVM__C=5.0, SVM__gamma=auto;, score=-0.795 total time=   0.2s\n"
     ]
    },
    {
     "name": "stderr",
     "output_type": "stream",
     "text": [
      "/home/dai/anaconda3/lib/python3.11/site-packages/sklearn/linear_model/_logistic.py:460: ConvergenceWarning: lbfgs failed to converge (status=1):\n",
      "STOP: TOTAL NO. of ITERATIONS REACHED LIMIT.\n",
      "\n",
      "Increase the number of iterations (max_iter) or scale the data as shown in:\n",
      "    https://scikit-learn.org/stable/modules/preprocessing.html\n",
      "Please also refer to the documentation for alternative solver options:\n",
      "    https://scikit-learn.org/stable/modules/linear_model.html#logistic-regression\n",
      "  n_iter_i = _check_optimize_result(\n"
     ]
    },
    {
     "name": "stdout",
     "output_type": "stream",
     "text": [
      "[CV 5/5] END DTC__max_depth=3, DTC__min_samples_leaf=5, DTC__min_samples_split=2, LR__multi_class=ovr, LR__penalty=l2, SVM__C=5.0, SVM__gamma=auto;, score=-0.755 total time=   0.2s\n",
      "[CV 1/5] END DTC__max_depth=3, DTC__min_samples_leaf=10, DTC__min_samples_split=10, LR__multi_class=ovr, LR__penalty=elasticnet, SVM__C=5.0, SVM__gamma=scale;, score=nan total time=   0.0s\n",
      "[CV 2/5] END DTC__max_depth=3, DTC__min_samples_leaf=10, DTC__min_samples_split=10, LR__multi_class=ovr, LR__penalty=elasticnet, SVM__C=5.0, SVM__gamma=scale;, score=nan total time=   0.0s\n",
      "[CV 3/5] END DTC__max_depth=3, DTC__min_samples_leaf=10, DTC__min_samples_split=10, LR__multi_class=ovr, LR__penalty=elasticnet, SVM__C=5.0, SVM__gamma=scale;, score=nan total time=   0.0s\n",
      "[CV 4/5] END DTC__max_depth=3, DTC__min_samples_leaf=10, DTC__min_samples_split=10, LR__multi_class=ovr, LR__penalty=elasticnet, SVM__C=5.0, SVM__gamma=scale;, score=nan total time=   0.0s\n",
      "[CV 5/5] END DTC__max_depth=3, DTC__min_samples_leaf=10, DTC__min_samples_split=10, LR__multi_class=ovr, LR__penalty=elasticnet, SVM__C=5.0, SVM__gamma=scale;, score=nan total time=   0.0s\n",
      "[CV 1/5] END DTC__max_depth=3, DTC__min_samples_leaf=7, DTC__min_samples_split=2, LR__multi_class=multimodel, LR__penalty=l2, SVM__C=3.75025, SVM__gamma=scale;, score=nan total time=   0.0s\n",
      "[CV 2/5] END DTC__max_depth=3, DTC__min_samples_leaf=7, DTC__min_samples_split=2, LR__multi_class=multimodel, LR__penalty=l2, SVM__C=3.75025, SVM__gamma=scale;, score=nan total time=   0.0s\n",
      "[CV 3/5] END DTC__max_depth=3, DTC__min_samples_leaf=7, DTC__min_samples_split=2, LR__multi_class=multimodel, LR__penalty=l2, SVM__C=3.75025, SVM__gamma=scale;, score=nan total time=   0.0s\n",
      "[CV 4/5] END DTC__max_depth=3, DTC__min_samples_leaf=7, DTC__min_samples_split=2, LR__multi_class=multimodel, LR__penalty=l2, SVM__C=3.75025, SVM__gamma=scale;, score=nan total time=   0.0s\n",
      "[CV 5/5] END DTC__max_depth=3, DTC__min_samples_leaf=7, DTC__min_samples_split=2, LR__multi_class=multimodel, LR__penalty=l2, SVM__C=3.75025, SVM__gamma=scale;, score=nan total time=   0.0s\n",
      "[CV 1/5] END DTC__max_depth=6, DTC__min_samples_leaf=10, DTC__min_samples_split=5, LR__multi_class=multimodel, LR__penalty=None, SVM__C=2.5004999999999997, SVM__gamma=scale;, score=nan total time=   0.0s\n",
      "[CV 2/5] END DTC__max_depth=6, DTC__min_samples_leaf=10, DTC__min_samples_split=5, LR__multi_class=multimodel, LR__penalty=None, SVM__C=2.5004999999999997, SVM__gamma=scale;, score=nan total time=   0.0s\n",
      "[CV 3/5] END DTC__max_depth=6, DTC__min_samples_leaf=10, DTC__min_samples_split=5, LR__multi_class=multimodel, LR__penalty=None, SVM__C=2.5004999999999997, SVM__gamma=scale;, score=nan total time=   0.0s\n",
      "[CV 4/5] END DTC__max_depth=6, DTC__min_samples_leaf=10, DTC__min_samples_split=5, LR__multi_class=multimodel, LR__penalty=None, SVM__C=2.5004999999999997, SVM__gamma=scale;, score=nan total time=   0.0s\n",
      "[CV 5/5] END DTC__max_depth=6, DTC__min_samples_leaf=10, DTC__min_samples_split=5, LR__multi_class=multimodel, LR__penalty=None, SVM__C=2.5004999999999997, SVM__gamma=scale;, score=nan total time=   0.0s\n",
      "[CV 1/5] END DTC__max_depth=3, DTC__min_samples_leaf=15, DTC__min_samples_split=2, LR__multi_class=multimodel, LR__penalty=None, SVM__C=3.75025, SVM__gamma=auto;, score=nan total time=   0.0s\n",
      "[CV 2/5] END DTC__max_depth=3, DTC__min_samples_leaf=15, DTC__min_samples_split=2, LR__multi_class=multimodel, LR__penalty=None, SVM__C=3.75025, SVM__gamma=auto;, score=nan total time=   0.0s\n",
      "[CV 3/5] END DTC__max_depth=3, DTC__min_samples_leaf=15, DTC__min_samples_split=2, LR__multi_class=multimodel, LR__penalty=None, SVM__C=3.75025, SVM__gamma=auto;, score=nan total time=   0.0s\n",
      "[CV 4/5] END DTC__max_depth=3, DTC__min_samples_leaf=15, DTC__min_samples_split=2, LR__multi_class=multimodel, LR__penalty=None, SVM__C=3.75025, SVM__gamma=auto;, score=nan total time=   0.0s\n",
      "[CV 5/5] END DTC__max_depth=3, DTC__min_samples_leaf=15, DTC__min_samples_split=2, LR__multi_class=multimodel, LR__penalty=None, SVM__C=3.75025, SVM__gamma=auto;, score=nan total time=   0.0s\n",
      "[CV 1/5] END DTC__max_depth=None, DTC__min_samples_leaf=3, DTC__min_samples_split=5, LR__multi_class=ovr, LR__penalty=None, SVM__C=0.001, SVM__gamma=scale;, score=-0.579 total time=   0.1s\n"
     ]
    },
    {
     "name": "stderr",
     "output_type": "stream",
     "text": [
      "/home/dai/anaconda3/lib/python3.11/site-packages/sklearn/linear_model/_logistic.py:460: ConvergenceWarning: lbfgs failed to converge (status=1):\n",
      "STOP: TOTAL NO. of ITERATIONS REACHED LIMIT.\n",
      "\n",
      "Increase the number of iterations (max_iter) or scale the data as shown in:\n",
      "    https://scikit-learn.org/stable/modules/preprocessing.html\n",
      "Please also refer to the documentation for alternative solver options:\n",
      "    https://scikit-learn.org/stable/modules/linear_model.html#logistic-regression\n",
      "  n_iter_i = _check_optimize_result(\n",
      "/home/dai/anaconda3/lib/python3.11/site-packages/sklearn/linear_model/_logistic.py:460: ConvergenceWarning: lbfgs failed to converge (status=1):\n",
      "STOP: TOTAL NO. of ITERATIONS REACHED LIMIT.\n",
      "\n",
      "Increase the number of iterations (max_iter) or scale the data as shown in:\n",
      "    https://scikit-learn.org/stable/modules/preprocessing.html\n",
      "Please also refer to the documentation for alternative solver options:\n",
      "    https://scikit-learn.org/stable/modules/linear_model.html#logistic-regression\n",
      "  n_iter_i = _check_optimize_result(\n"
     ]
    },
    {
     "name": "stdout",
     "output_type": "stream",
     "text": [
      "[CV 2/5] END DTC__max_depth=None, DTC__min_samples_leaf=3, DTC__min_samples_split=5, LR__multi_class=ovr, LR__penalty=None, SVM__C=0.001, SVM__gamma=scale;, score=-0.607 total time=   0.1s\n",
      "[CV 3/5] END DTC__max_depth=None, DTC__min_samples_leaf=3, DTC__min_samples_split=5, LR__multi_class=ovr, LR__penalty=None, SVM__C=0.001, SVM__gamma=scale;, score=-0.827 total time=   0.1s\n"
     ]
    },
    {
     "name": "stderr",
     "output_type": "stream",
     "text": [
      "/home/dai/anaconda3/lib/python3.11/site-packages/sklearn/linear_model/_logistic.py:460: ConvergenceWarning: lbfgs failed to converge (status=1):\n",
      "STOP: TOTAL NO. of ITERATIONS REACHED LIMIT.\n",
      "\n",
      "Increase the number of iterations (max_iter) or scale the data as shown in:\n",
      "    https://scikit-learn.org/stable/modules/preprocessing.html\n",
      "Please also refer to the documentation for alternative solver options:\n",
      "    https://scikit-learn.org/stable/modules/linear_model.html#logistic-regression\n",
      "  n_iter_i = _check_optimize_result(\n",
      "/home/dai/anaconda3/lib/python3.11/site-packages/sklearn/linear_model/_logistic.py:460: ConvergenceWarning: lbfgs failed to converge (status=1):\n",
      "STOP: TOTAL NO. of ITERATIONS REACHED LIMIT.\n",
      "\n",
      "Increase the number of iterations (max_iter) or scale the data as shown in:\n",
      "    https://scikit-learn.org/stable/modules/preprocessing.html\n",
      "Please also refer to the documentation for alternative solver options:\n",
      "    https://scikit-learn.org/stable/modules/linear_model.html#logistic-regression\n",
      "  n_iter_i = _check_optimize_result(\n"
     ]
    },
    {
     "name": "stdout",
     "output_type": "stream",
     "text": [
      "[CV 4/5] END DTC__max_depth=None, DTC__min_samples_leaf=3, DTC__min_samples_split=5, LR__multi_class=ovr, LR__penalty=None, SVM__C=0.001, SVM__gamma=scale;, score=-0.595 total time=   0.1s\n",
      "[CV 5/5] END DTC__max_depth=None, DTC__min_samples_leaf=3, DTC__min_samples_split=5, LR__multi_class=ovr, LR__penalty=None, SVM__C=0.001, SVM__gamma=scale;, score=-0.607 total time=   0.1s\n",
      "[CV 1/5] END DTC__max_depth=6, DTC__min_samples_leaf=10, DTC__min_samples_split=10, LR__multi_class=ovr, LR__penalty=elasticnet, SVM__C=2.5004999999999997, SVM__gamma=scale;, score=nan total time=   0.0s\n",
      "[CV 2/5] END DTC__max_depth=6, DTC__min_samples_leaf=10, DTC__min_samples_split=10, LR__multi_class=ovr, LR__penalty=elasticnet, SVM__C=2.5004999999999997, SVM__gamma=scale;, score=nan total time=   0.0s\n",
      "[CV 3/5] END DTC__max_depth=6, DTC__min_samples_leaf=10, DTC__min_samples_split=10, LR__multi_class=ovr, LR__penalty=elasticnet, SVM__C=2.5004999999999997, SVM__gamma=scale;, score=nan total time=   0.0s\n",
      "[CV 4/5] END DTC__max_depth=6, DTC__min_samples_leaf=10, DTC__min_samples_split=10, LR__multi_class=ovr, LR__penalty=elasticnet, SVM__C=2.5004999999999997, SVM__gamma=scale;, score=nan total time=   0.0s\n"
     ]
    },
    {
     "name": "stderr",
     "output_type": "stream",
     "text": [
      "/home/dai/anaconda3/lib/python3.11/site-packages/sklearn/linear_model/_logistic.py:460: ConvergenceWarning: lbfgs failed to converge (status=1):\n",
      "STOP: TOTAL NO. of ITERATIONS REACHED LIMIT.\n",
      "\n",
      "Increase the number of iterations (max_iter) or scale the data as shown in:\n",
      "    https://scikit-learn.org/stable/modules/preprocessing.html\n",
      "Please also refer to the documentation for alternative solver options:\n",
      "    https://scikit-learn.org/stable/modules/linear_model.html#logistic-regression\n",
      "  n_iter_i = _check_optimize_result(\n"
     ]
    },
    {
     "name": "stdout",
     "output_type": "stream",
     "text": [
      "[CV 5/5] END DTC__max_depth=6, DTC__min_samples_leaf=10, DTC__min_samples_split=10, LR__multi_class=ovr, LR__penalty=elasticnet, SVM__C=2.5004999999999997, SVM__gamma=scale;, score=nan total time=   0.0s\n",
      "[CV 1/5] END DTC__max_depth=5, DTC__min_samples_leaf=1, DTC__min_samples_split=2, LR__multi_class=multimodel, LR__penalty=elasticnet, SVM__C=3.75025, SVM__gamma=auto;, score=nan total time=   0.0s\n",
      "[CV 2/5] END DTC__max_depth=5, DTC__min_samples_leaf=1, DTC__min_samples_split=2, LR__multi_class=multimodel, LR__penalty=elasticnet, SVM__C=3.75025, SVM__gamma=auto;, score=nan total time=   0.0s\n",
      "[CV 3/5] END DTC__max_depth=5, DTC__min_samples_leaf=1, DTC__min_samples_split=2, LR__multi_class=multimodel, LR__penalty=elasticnet, SVM__C=3.75025, SVM__gamma=auto;, score=nan total time=   0.0s\n",
      "[CV 4/5] END DTC__max_depth=5, DTC__min_samples_leaf=1, DTC__min_samples_split=2, LR__multi_class=multimodel, LR__penalty=elasticnet, SVM__C=3.75025, SVM__gamma=auto;, score=nan total time=   0.0s\n",
      "[CV 5/5] END DTC__max_depth=5, DTC__min_samples_leaf=1, DTC__min_samples_split=2, LR__multi_class=multimodel, LR__penalty=elasticnet, SVM__C=3.75025, SVM__gamma=auto;, score=nan total time=   0.0s\n"
     ]
    },
    {
     "name": "stderr",
     "output_type": "stream",
     "text": [
      "/home/dai/anaconda3/lib/python3.11/site-packages/sklearn/linear_model/_logistic.py:460: ConvergenceWarning: lbfgs failed to converge (status=1):\n",
      "STOP: TOTAL NO. of ITERATIONS REACHED LIMIT.\n",
      "\n",
      "Increase the number of iterations (max_iter) or scale the data as shown in:\n",
      "    https://scikit-learn.org/stable/modules/preprocessing.html\n",
      "Please also refer to the documentation for alternative solver options:\n",
      "    https://scikit-learn.org/stable/modules/linear_model.html#logistic-regression\n",
      "  n_iter_i = _check_optimize_result(\n",
      "/home/dai/anaconda3/lib/python3.11/site-packages/sklearn/linear_model/_logistic.py:460: ConvergenceWarning: lbfgs failed to converge (status=1):\n",
      "STOP: TOTAL NO. of ITERATIONS REACHED LIMIT.\n",
      "\n",
      "Increase the number of iterations (max_iter) or scale the data as shown in:\n",
      "    https://scikit-learn.org/stable/modules/preprocessing.html\n",
      "Please also refer to the documentation for alternative solver options:\n",
      "    https://scikit-learn.org/stable/modules/linear_model.html#logistic-regression\n",
      "  n_iter_i = _check_optimize_result(\n"
     ]
    },
    {
     "name": "stdout",
     "output_type": "stream",
     "text": [
      "[CV 1/5] END DTC__max_depth=None, DTC__min_samples_leaf=15, DTC__min_samples_split=2, LR__multi_class=ovr, LR__penalty=None, SVM__C=5.0, SVM__gamma=auto;, score=-0.653 total time=   0.1s\n",
      "[CV 2/5] END DTC__max_depth=None, DTC__min_samples_leaf=15, DTC__min_samples_split=2, LR__multi_class=ovr, LR__penalty=None, SVM__C=5.0, SVM__gamma=auto;, score=-0.728 total time=   0.1s\n"
     ]
    },
    {
     "name": "stderr",
     "output_type": "stream",
     "text": [
      "/home/dai/anaconda3/lib/python3.11/site-packages/sklearn/linear_model/_logistic.py:460: ConvergenceWarning: lbfgs failed to converge (status=1):\n",
      "STOP: TOTAL NO. of ITERATIONS REACHED LIMIT.\n",
      "\n",
      "Increase the number of iterations (max_iter) or scale the data as shown in:\n",
      "    https://scikit-learn.org/stable/modules/preprocessing.html\n",
      "Please also refer to the documentation for alternative solver options:\n",
      "    https://scikit-learn.org/stable/modules/linear_model.html#logistic-regression\n",
      "  n_iter_i = _check_optimize_result(\n",
      "/home/dai/anaconda3/lib/python3.11/site-packages/sklearn/linear_model/_logistic.py:460: ConvergenceWarning: lbfgs failed to converge (status=1):\n",
      "STOP: TOTAL NO. of ITERATIONS REACHED LIMIT.\n",
      "\n",
      "Increase the number of iterations (max_iter) or scale the data as shown in:\n",
      "    https://scikit-learn.org/stable/modules/preprocessing.html\n",
      "Please also refer to the documentation for alternative solver options:\n",
      "    https://scikit-learn.org/stable/modules/linear_model.html#logistic-regression\n",
      "  n_iter_i = _check_optimize_result(\n"
     ]
    },
    {
     "name": "stdout",
     "output_type": "stream",
     "text": [
      "[CV 3/5] END DTC__max_depth=None, DTC__min_samples_leaf=15, DTC__min_samples_split=2, LR__multi_class=ovr, LR__penalty=None, SVM__C=5.0, SVM__gamma=auto;, score=-0.869 total time=   0.1s\n",
      "[CV 4/5] END DTC__max_depth=None, DTC__min_samples_leaf=15, DTC__min_samples_split=2, LR__multi_class=ovr, LR__penalty=None, SVM__C=5.0, SVM__gamma=auto;, score=-0.631 total time=   0.1s\n"
     ]
    },
    {
     "name": "stderr",
     "output_type": "stream",
     "text": [
      "/home/dai/anaconda3/lib/python3.11/site-packages/sklearn/linear_model/_logistic.py:460: ConvergenceWarning: lbfgs failed to converge (status=1):\n",
      "STOP: TOTAL NO. of ITERATIONS REACHED LIMIT.\n",
      "\n",
      "Increase the number of iterations (max_iter) or scale the data as shown in:\n",
      "    https://scikit-learn.org/stable/modules/preprocessing.html\n",
      "Please also refer to the documentation for alternative solver options:\n",
      "    https://scikit-learn.org/stable/modules/linear_model.html#logistic-regression\n",
      "  n_iter_i = _check_optimize_result(\n",
      "/home/dai/anaconda3/lib/python3.11/site-packages/sklearn/linear_model/_logistic.py:460: ConvergenceWarning: lbfgs failed to converge (status=1):\n",
      "STOP: TOTAL NO. of ITERATIONS REACHED LIMIT.\n",
      "\n",
      "Increase the number of iterations (max_iter) or scale the data as shown in:\n",
      "    https://scikit-learn.org/stable/modules/preprocessing.html\n",
      "Please also refer to the documentation for alternative solver options:\n",
      "    https://scikit-learn.org/stable/modules/linear_model.html#logistic-regression\n",
      "  n_iter_i = _check_optimize_result(\n"
     ]
    },
    {
     "name": "stdout",
     "output_type": "stream",
     "text": [
      "[CV 5/5] END DTC__max_depth=None, DTC__min_samples_leaf=15, DTC__min_samples_split=2, LR__multi_class=ovr, LR__penalty=None, SVM__C=5.0, SVM__gamma=auto;, score=-0.652 total time=   0.1s\n",
      "[CV 1/5] END DTC__max_depth=6, DTC__min_samples_leaf=5, DTC__min_samples_split=5, LR__multi_class=ovr, LR__penalty=l2, SVM__C=0.001, SVM__gamma=scale;, score=-0.547 total time=   0.1s\n"
     ]
    },
    {
     "name": "stderr",
     "output_type": "stream",
     "text": [
      "/home/dai/anaconda3/lib/python3.11/site-packages/sklearn/linear_model/_logistic.py:460: ConvergenceWarning: lbfgs failed to converge (status=1):\n",
      "STOP: TOTAL NO. of ITERATIONS REACHED LIMIT.\n",
      "\n",
      "Increase the number of iterations (max_iter) or scale the data as shown in:\n",
      "    https://scikit-learn.org/stable/modules/preprocessing.html\n",
      "Please also refer to the documentation for alternative solver options:\n",
      "    https://scikit-learn.org/stable/modules/linear_model.html#logistic-regression\n",
      "  n_iter_i = _check_optimize_result(\n",
      "/home/dai/anaconda3/lib/python3.11/site-packages/sklearn/linear_model/_logistic.py:460: ConvergenceWarning: lbfgs failed to converge (status=1):\n",
      "STOP: TOTAL NO. of ITERATIONS REACHED LIMIT.\n",
      "\n",
      "Increase the number of iterations (max_iter) or scale the data as shown in:\n",
      "    https://scikit-learn.org/stable/modules/preprocessing.html\n",
      "Please also refer to the documentation for alternative solver options:\n",
      "    https://scikit-learn.org/stable/modules/linear_model.html#logistic-regression\n",
      "  n_iter_i = _check_optimize_result(\n"
     ]
    },
    {
     "name": "stdout",
     "output_type": "stream",
     "text": [
      "[CV 2/5] END DTC__max_depth=6, DTC__min_samples_leaf=5, DTC__min_samples_split=5, LR__multi_class=ovr, LR__penalty=l2, SVM__C=0.001, SVM__gamma=scale;, score=-0.626 total time=   0.2s\n",
      "[CV 3/5] END DTC__max_depth=6, DTC__min_samples_leaf=5, DTC__min_samples_split=5, LR__multi_class=ovr, LR__penalty=l2, SVM__C=0.001, SVM__gamma=scale;, score=-0.828 total time=   0.2s\n"
     ]
    },
    {
     "name": "stderr",
     "output_type": "stream",
     "text": [
      "/home/dai/anaconda3/lib/python3.11/site-packages/sklearn/linear_model/_logistic.py:460: ConvergenceWarning: lbfgs failed to converge (status=1):\n",
      "STOP: TOTAL NO. of ITERATIONS REACHED LIMIT.\n",
      "\n",
      "Increase the number of iterations (max_iter) or scale the data as shown in:\n",
      "    https://scikit-learn.org/stable/modules/preprocessing.html\n",
      "Please also refer to the documentation for alternative solver options:\n",
      "    https://scikit-learn.org/stable/modules/linear_model.html#logistic-regression\n",
      "  n_iter_i = _check_optimize_result(\n",
      "/home/dai/anaconda3/lib/python3.11/site-packages/sklearn/linear_model/_logistic.py:460: ConvergenceWarning: lbfgs failed to converge (status=1):\n",
      "STOP: TOTAL NO. of ITERATIONS REACHED LIMIT.\n",
      "\n",
      "Increase the number of iterations (max_iter) or scale the data as shown in:\n",
      "    https://scikit-learn.org/stable/modules/preprocessing.html\n",
      "Please also refer to the documentation for alternative solver options:\n",
      "    https://scikit-learn.org/stable/modules/linear_model.html#logistic-regression\n",
      "  n_iter_i = _check_optimize_result(\n"
     ]
    },
    {
     "name": "stdout",
     "output_type": "stream",
     "text": [
      "[CV 4/5] END DTC__max_depth=6, DTC__min_samples_leaf=5, DTC__min_samples_split=5, LR__multi_class=ovr, LR__penalty=l2, SVM__C=0.001, SVM__gamma=scale;, score=-0.605 total time=   0.2s\n",
      "[CV 5/5] END DTC__max_depth=6, DTC__min_samples_leaf=5, DTC__min_samples_split=5, LR__multi_class=ovr, LR__penalty=l2, SVM__C=0.001, SVM__gamma=scale;, score=-0.643 total time=   0.2s\n",
      "[CV 1/5] END DTC__max_depth=6, DTC__min_samples_leaf=5, DTC__min_samples_split=2, LR__multi_class=multimodel, LR__penalty=l2, SVM__C=3.75025, SVM__gamma=auto;, score=nan total time=   0.0s\n",
      "[CV 2/5] END DTC__max_depth=6, DTC__min_samples_leaf=5, DTC__min_samples_split=2, LR__multi_class=multimodel, LR__penalty=l2, SVM__C=3.75025, SVM__gamma=auto;, score=nan total time=   0.0s\n",
      "[CV 3/5] END DTC__max_depth=6, DTC__min_samples_leaf=5, DTC__min_samples_split=2, LR__multi_class=multimodel, LR__penalty=l2, SVM__C=3.75025, SVM__gamma=auto;, score=nan total time=   0.0s\n",
      "[CV 4/5] END DTC__max_depth=6, DTC__min_samples_leaf=5, DTC__min_samples_split=2, LR__multi_class=multimodel, LR__penalty=l2, SVM__C=3.75025, SVM__gamma=auto;, score=nan total time=   0.0s\n",
      "[CV 5/5] END DTC__max_depth=6, DTC__min_samples_leaf=5, DTC__min_samples_split=2, LR__multi_class=multimodel, LR__penalty=l2, SVM__C=3.75025, SVM__gamma=auto;, score=nan total time=   0.0s\n",
      "[CV 1/5] END DTC__max_depth=None, DTC__min_samples_leaf=3, DTC__min_samples_split=5, LR__multi_class=ovr, LR__penalty=elasticnet, SVM__C=2.5004999999999997, SVM__gamma=scale;, score=nan total time=   0.0s\n",
      "[CV 2/5] END DTC__max_depth=None, DTC__min_samples_leaf=3, DTC__min_samples_split=5, LR__multi_class=ovr, LR__penalty=elasticnet, SVM__C=2.5004999999999997, SVM__gamma=scale;, score=nan total time=   0.0s\n",
      "[CV 3/5] END DTC__max_depth=None, DTC__min_samples_leaf=3, DTC__min_samples_split=5, LR__multi_class=ovr, LR__penalty=elasticnet, SVM__C=2.5004999999999997, SVM__gamma=scale;, score=nan total time=   0.0s\n",
      "[CV 4/5] END DTC__max_depth=None, DTC__min_samples_leaf=3, DTC__min_samples_split=5, LR__multi_class=ovr, LR__penalty=elasticnet, SVM__C=2.5004999999999997, SVM__gamma=scale;, score=nan total time=   0.0s\n",
      "[CV 5/5] END DTC__max_depth=None, DTC__min_samples_leaf=3, DTC__min_samples_split=5, LR__multi_class=ovr, LR__penalty=elasticnet, SVM__C=2.5004999999999997, SVM__gamma=scale;, score=nan total time=   0.0s\n",
      "[CV 1/5] END DTC__max_depth=4, DTC__min_samples_leaf=7, DTC__min_samples_split=10, LR__multi_class=ovr, LR__penalty=elasticnet, SVM__C=2.5004999999999997, SVM__gamma=scale;, score=nan total time=   0.0s\n",
      "[CV 2/5] END DTC__max_depth=4, DTC__min_samples_leaf=7, DTC__min_samples_split=10, LR__multi_class=ovr, LR__penalty=elasticnet, SVM__C=2.5004999999999997, SVM__gamma=scale;, score=nan total time=   0.0s\n",
      "[CV 3/5] END DTC__max_depth=4, DTC__min_samples_leaf=7, DTC__min_samples_split=10, LR__multi_class=ovr, LR__penalty=elasticnet, SVM__C=2.5004999999999997, SVM__gamma=scale;, score=nan total time=   0.0s\n",
      "[CV 4/5] END DTC__max_depth=4, DTC__min_samples_leaf=7, DTC__min_samples_split=10, LR__multi_class=ovr, LR__penalty=elasticnet, SVM__C=2.5004999999999997, SVM__gamma=scale;, score=nan total time=   0.0s\n",
      "[CV 5/5] END DTC__max_depth=4, DTC__min_samples_leaf=7, DTC__min_samples_split=10, LR__multi_class=ovr, LR__penalty=elasticnet, SVM__C=2.5004999999999997, SVM__gamma=scale;, score=nan total time=   0.0s\n",
      "[CV 1/5] END DTC__max_depth=None, DTC__min_samples_leaf=3, DTC__min_samples_split=10, LR__multi_class=ovr, LR__penalty=elasticnet, SVM__C=0.001, SVM__gamma=scale;, score=nan total time=   0.0s\n",
      "[CV 2/5] END DTC__max_depth=None, DTC__min_samples_leaf=3, DTC__min_samples_split=10, LR__multi_class=ovr, LR__penalty=elasticnet, SVM__C=0.001, SVM__gamma=scale;, score=nan total time=   0.0s\n",
      "[CV 3/5] END DTC__max_depth=None, DTC__min_samples_leaf=3, DTC__min_samples_split=10, LR__multi_class=ovr, LR__penalty=elasticnet, SVM__C=0.001, SVM__gamma=scale;, score=nan total time=   0.0s\n",
      "[CV 4/5] END DTC__max_depth=None, DTC__min_samples_leaf=3, DTC__min_samples_split=10, LR__multi_class=ovr, LR__penalty=elasticnet, SVM__C=0.001, SVM__gamma=scale;, score=nan total time=   0.0s\n",
      "[CV 5/5] END DTC__max_depth=None, DTC__min_samples_leaf=3, DTC__min_samples_split=10, LR__multi_class=ovr, LR__penalty=elasticnet, SVM__C=0.001, SVM__gamma=scale;, score=nan total time=   0.0s\n",
      "[CV 1/5] END DTC__max_depth=4, DTC__min_samples_leaf=1, DTC__min_samples_split=5, LR__multi_class=ovr, LR__penalty=l1, SVM__C=2.5004999999999997, SVM__gamma=scale;, score=nan total time=   0.0s\n",
      "[CV 2/5] END DTC__max_depth=4, DTC__min_samples_leaf=1, DTC__min_samples_split=5, LR__multi_class=ovr, LR__penalty=l1, SVM__C=2.5004999999999997, SVM__gamma=scale;, score=nan total time=   0.0s\n",
      "[CV 3/5] END DTC__max_depth=4, DTC__min_samples_leaf=1, DTC__min_samples_split=5, LR__multi_class=ovr, LR__penalty=l1, SVM__C=2.5004999999999997, SVM__gamma=scale;, score=nan total time=   0.0s\n",
      "[CV 4/5] END DTC__max_depth=4, DTC__min_samples_leaf=1, DTC__min_samples_split=5, LR__multi_class=ovr, LR__penalty=l1, SVM__C=2.5004999999999997, SVM__gamma=scale;, score=nan total time=   0.0s\n",
      "[CV 5/5] END DTC__max_depth=4, DTC__min_samples_leaf=1, DTC__min_samples_split=5, LR__multi_class=ovr, LR__penalty=l1, SVM__C=2.5004999999999997, SVM__gamma=scale;, score=nan total time=   0.0s\n",
      "[CV 1/5] END DTC__max_depth=5, DTC__min_samples_leaf=15, DTC__min_samples_split=5, LR__multi_class=multimodel, LR__penalty=None, SVM__C=0.001, SVM__gamma=auto;, score=nan total time=   0.0s\n",
      "[CV 2/5] END DTC__max_depth=5, DTC__min_samples_leaf=15, DTC__min_samples_split=5, LR__multi_class=multimodel, LR__penalty=None, SVM__C=0.001, SVM__gamma=auto;, score=nan total time=   0.0s\n",
      "[CV 3/5] END DTC__max_depth=5, DTC__min_samples_leaf=15, DTC__min_samples_split=5, LR__multi_class=multimodel, LR__penalty=None, SVM__C=0.001, SVM__gamma=auto;, score=nan total time=   0.0s\n",
      "[CV 4/5] END DTC__max_depth=5, DTC__min_samples_leaf=15, DTC__min_samples_split=5, LR__multi_class=multimodel, LR__penalty=None, SVM__C=0.001, SVM__gamma=auto;, score=nan total time=   0.0s\n",
      "[CV 5/5] END DTC__max_depth=5, DTC__min_samples_leaf=15, DTC__min_samples_split=5, LR__multi_class=multimodel, LR__penalty=None, SVM__C=0.001, SVM__gamma=auto;, score=nan total time=   0.0s\n",
      "[CV 1/5] END DTC__max_depth=None, DTC__min_samples_leaf=5, DTC__min_samples_split=2, LR__multi_class=multimodel, LR__penalty=elasticnet, SVM__C=5.0, SVM__gamma=auto;, score=nan total time=   0.0s\n",
      "[CV 2/5] END DTC__max_depth=None, DTC__min_samples_leaf=5, DTC__min_samples_split=2, LR__multi_class=multimodel, LR__penalty=elasticnet, SVM__C=5.0, SVM__gamma=auto;, score=nan total time=   0.0s\n",
      "[CV 3/5] END DTC__max_depth=None, DTC__min_samples_leaf=5, DTC__min_samples_split=2, LR__multi_class=multimodel, LR__penalty=elasticnet, SVM__C=5.0, SVM__gamma=auto;, score=nan total time=   0.0s\n",
      "[CV 4/5] END DTC__max_depth=None, DTC__min_samples_leaf=5, DTC__min_samples_split=2, LR__multi_class=multimodel, LR__penalty=elasticnet, SVM__C=5.0, SVM__gamma=auto;, score=nan total time=   0.0s\n",
      "[CV 5/5] END DTC__max_depth=None, DTC__min_samples_leaf=5, DTC__min_samples_split=2, LR__multi_class=multimodel, LR__penalty=elasticnet, SVM__C=5.0, SVM__gamma=auto;, score=nan total time=   0.0s\n",
      "[CV 1/5] END DTC__max_depth=None, DTC__min_samples_leaf=3, DTC__min_samples_split=2, LR__multi_class=multimodel, LR__penalty=elasticnet, SVM__C=0.001, SVM__gamma=auto;, score=nan total time=   0.0s\n",
      "[CV 2/5] END DTC__max_depth=None, DTC__min_samples_leaf=3, DTC__min_samples_split=2, LR__multi_class=multimodel, LR__penalty=elasticnet, SVM__C=0.001, SVM__gamma=auto;, score=nan total time=   0.0s\n",
      "[CV 3/5] END DTC__max_depth=None, DTC__min_samples_leaf=3, DTC__min_samples_split=2, LR__multi_class=multimodel, LR__penalty=elasticnet, SVM__C=0.001, SVM__gamma=auto;, score=nan total time=   0.0s\n",
      "[CV 4/5] END DTC__max_depth=None, DTC__min_samples_leaf=3, DTC__min_samples_split=2, LR__multi_class=multimodel, LR__penalty=elasticnet, SVM__C=0.001, SVM__gamma=auto;, score=nan total time=   0.0s\n",
      "[CV 5/5] END DTC__max_depth=None, DTC__min_samples_leaf=3, DTC__min_samples_split=2, LR__multi_class=multimodel, LR__penalty=elasticnet, SVM__C=0.001, SVM__gamma=auto;, score=nan total time=   0.0s\n",
      "[CV 1/5] END DTC__max_depth=5, DTC__min_samples_leaf=3, DTC__min_samples_split=10, LR__multi_class=multimodel, LR__penalty=None, SVM__C=0.001, SVM__gamma=scale;, score=nan total time=   0.0s\n"
     ]
    },
    {
     "name": "stdout",
     "output_type": "stream",
     "text": [
      "[CV 2/5] END DTC__max_depth=5, DTC__min_samples_leaf=3, DTC__min_samples_split=10, LR__multi_class=multimodel, LR__penalty=None, SVM__C=0.001, SVM__gamma=scale;, score=nan total time=   0.0s\n",
      "[CV 3/5] END DTC__max_depth=5, DTC__min_samples_leaf=3, DTC__min_samples_split=10, LR__multi_class=multimodel, LR__penalty=None, SVM__C=0.001, SVM__gamma=scale;, score=nan total time=   0.0s\n",
      "[CV 4/5] END DTC__max_depth=5, DTC__min_samples_leaf=3, DTC__min_samples_split=10, LR__multi_class=multimodel, LR__penalty=None, SVM__C=0.001, SVM__gamma=scale;, score=nan total time=   0.0s\n",
      "[CV 5/5] END DTC__max_depth=5, DTC__min_samples_leaf=3, DTC__min_samples_split=10, LR__multi_class=multimodel, LR__penalty=None, SVM__C=0.001, SVM__gamma=scale;, score=nan total time=   0.0s\n",
      "[CV 1/5] END DTC__max_depth=4, DTC__min_samples_leaf=3, DTC__min_samples_split=2, LR__multi_class=ovr, LR__penalty=elasticnet, SVM__C=0.001, SVM__gamma=scale;, score=nan total time=   0.0s\n",
      "[CV 2/5] END DTC__max_depth=4, DTC__min_samples_leaf=3, DTC__min_samples_split=2, LR__multi_class=ovr, LR__penalty=elasticnet, SVM__C=0.001, SVM__gamma=scale;, score=nan total time=   0.0s\n",
      "[CV 3/5] END DTC__max_depth=4, DTC__min_samples_leaf=3, DTC__min_samples_split=2, LR__multi_class=ovr, LR__penalty=elasticnet, SVM__C=0.001, SVM__gamma=scale;, score=nan total time=   0.0s\n",
      "[CV 4/5] END DTC__max_depth=4, DTC__min_samples_leaf=3, DTC__min_samples_split=2, LR__multi_class=ovr, LR__penalty=elasticnet, SVM__C=0.001, SVM__gamma=scale;, score=nan total time=   0.0s\n",
      "[CV 5/5] END DTC__max_depth=4, DTC__min_samples_leaf=3, DTC__min_samples_split=2, LR__multi_class=ovr, LR__penalty=elasticnet, SVM__C=0.001, SVM__gamma=scale;, score=nan total time=   0.0s\n",
      "[CV 1/5] END DTC__max_depth=2, DTC__min_samples_leaf=7, DTC__min_samples_split=10, LR__multi_class=multimodel, LR__penalty=l2, SVM__C=5.0, SVM__gamma=scale;, score=nan total time=   0.0s\n",
      "[CV 2/5] END DTC__max_depth=2, DTC__min_samples_leaf=7, DTC__min_samples_split=10, LR__multi_class=multimodel, LR__penalty=l2, SVM__C=5.0, SVM__gamma=scale;, score=nan total time=   0.0s\n",
      "[CV 3/5] END DTC__max_depth=2, DTC__min_samples_leaf=7, DTC__min_samples_split=10, LR__multi_class=multimodel, LR__penalty=l2, SVM__C=5.0, SVM__gamma=scale;, score=nan total time=   0.0s\n",
      "[CV 4/5] END DTC__max_depth=2, DTC__min_samples_leaf=7, DTC__min_samples_split=10, LR__multi_class=multimodel, LR__penalty=l2, SVM__C=5.0, SVM__gamma=scale;, score=nan total time=   0.0s\n",
      "[CV 5/5] END DTC__max_depth=2, DTC__min_samples_leaf=7, DTC__min_samples_split=10, LR__multi_class=multimodel, LR__penalty=l2, SVM__C=5.0, SVM__gamma=scale;, score=nan total time=   0.0s\n",
      "[CV 1/5] END DTC__max_depth=6, DTC__min_samples_leaf=5, DTC__min_samples_split=5, LR__multi_class=multimodel, LR__penalty=l1, SVM__C=0.001, SVM__gamma=scale;, score=nan total time=   0.0s\n",
      "[CV 2/5] END DTC__max_depth=6, DTC__min_samples_leaf=5, DTC__min_samples_split=5, LR__multi_class=multimodel, LR__penalty=l1, SVM__C=0.001, SVM__gamma=scale;, score=nan total time=   0.0s\n",
      "[CV 3/5] END DTC__max_depth=6, DTC__min_samples_leaf=5, DTC__min_samples_split=5, LR__multi_class=multimodel, LR__penalty=l1, SVM__C=0.001, SVM__gamma=scale;, score=nan total time=   0.0s\n",
      "[CV 4/5] END DTC__max_depth=6, DTC__min_samples_leaf=5, DTC__min_samples_split=5, LR__multi_class=multimodel, LR__penalty=l1, SVM__C=0.001, SVM__gamma=scale;, score=nan total time=   0.0s\n",
      "[CV 5/5] END DTC__max_depth=6, DTC__min_samples_leaf=5, DTC__min_samples_split=5, LR__multi_class=multimodel, LR__penalty=l1, SVM__C=0.001, SVM__gamma=scale;, score=nan total time=   0.0s\n",
      "[CV 1/5] END DTC__max_depth=4, DTC__min_samples_leaf=3, DTC__min_samples_split=2, LR__multi_class=multimodel, LR__penalty=l1, SVM__C=3.75025, SVM__gamma=scale;, score=nan total time=   0.0s\n",
      "[CV 2/5] END DTC__max_depth=4, DTC__min_samples_leaf=3, DTC__min_samples_split=2, LR__multi_class=multimodel, LR__penalty=l1, SVM__C=3.75025, SVM__gamma=scale;, score=nan total time=   0.0s\n",
      "[CV 3/5] END DTC__max_depth=4, DTC__min_samples_leaf=3, DTC__min_samples_split=2, LR__multi_class=multimodel, LR__penalty=l1, SVM__C=3.75025, SVM__gamma=scale;, score=nan total time=   0.0s\n",
      "[CV 4/5] END DTC__max_depth=4, DTC__min_samples_leaf=3, DTC__min_samples_split=2, LR__multi_class=multimodel, LR__penalty=l1, SVM__C=3.75025, SVM__gamma=scale;, score=nan total time=   0.0s\n",
      "[CV 5/5] END DTC__max_depth=4, DTC__min_samples_leaf=3, DTC__min_samples_split=2, LR__multi_class=multimodel, LR__penalty=l1, SVM__C=3.75025, SVM__gamma=scale;, score=nan total time=   0.0s\n",
      "[CV 1/5] END DTC__max_depth=4, DTC__min_samples_leaf=7, DTC__min_samples_split=5, LR__multi_class=ovr, LR__penalty=l1, SVM__C=1.2507499999999998, SVM__gamma=auto;, score=nan total time=   0.0s\n",
      "[CV 2/5] END DTC__max_depth=4, DTC__min_samples_leaf=7, DTC__min_samples_split=5, LR__multi_class=ovr, LR__penalty=l1, SVM__C=1.2507499999999998, SVM__gamma=auto;, score=nan total time=   0.0s\n",
      "[CV 3/5] END DTC__max_depth=4, DTC__min_samples_leaf=7, DTC__min_samples_split=5, LR__multi_class=ovr, LR__penalty=l1, SVM__C=1.2507499999999998, SVM__gamma=auto;, score=nan total time=   0.0s\n",
      "[CV 4/5] END DTC__max_depth=4, DTC__min_samples_leaf=7, DTC__min_samples_split=5, LR__multi_class=ovr, LR__penalty=l1, SVM__C=1.2507499999999998, SVM__gamma=auto;, score=nan total time=   0.0s\n",
      "[CV 5/5] END DTC__max_depth=4, DTC__min_samples_leaf=7, DTC__min_samples_split=5, LR__multi_class=ovr, LR__penalty=l1, SVM__C=1.2507499999999998, SVM__gamma=auto;, score=nan total time=   0.0s\n",
      "[CV 1/5] END DTC__max_depth=None, DTC__min_samples_leaf=3, DTC__min_samples_split=10, LR__multi_class=ovr, LR__penalty=None, SVM__C=5.0, SVM__gamma=auto;, score=-0.576 total time=   0.1s\n"
     ]
    },
    {
     "name": "stderr",
     "output_type": "stream",
     "text": [
      "/home/dai/anaconda3/lib/python3.11/site-packages/sklearn/linear_model/_logistic.py:460: ConvergenceWarning: lbfgs failed to converge (status=1):\n",
      "STOP: TOTAL NO. of ITERATIONS REACHED LIMIT.\n",
      "\n",
      "Increase the number of iterations (max_iter) or scale the data as shown in:\n",
      "    https://scikit-learn.org/stable/modules/preprocessing.html\n",
      "Please also refer to the documentation for alternative solver options:\n",
      "    https://scikit-learn.org/stable/modules/linear_model.html#logistic-regression\n",
      "  n_iter_i = _check_optimize_result(\n",
      "/home/dai/anaconda3/lib/python3.11/site-packages/sklearn/linear_model/_logistic.py:460: ConvergenceWarning: lbfgs failed to converge (status=1):\n",
      "STOP: TOTAL NO. of ITERATIONS REACHED LIMIT.\n",
      "\n",
      "Increase the number of iterations (max_iter) or scale the data as shown in:\n",
      "    https://scikit-learn.org/stable/modules/preprocessing.html\n",
      "Please also refer to the documentation for alternative solver options:\n",
      "    https://scikit-learn.org/stable/modules/linear_model.html#logistic-regression\n",
      "  n_iter_i = _check_optimize_result(\n"
     ]
    },
    {
     "name": "stdout",
     "output_type": "stream",
     "text": [
      "[CV 2/5] END DTC__max_depth=None, DTC__min_samples_leaf=3, DTC__min_samples_split=10, LR__multi_class=ovr, LR__penalty=None, SVM__C=5.0, SVM__gamma=auto;, score=-0.724 total time=   0.1s\n",
      "[CV 3/5] END DTC__max_depth=None, DTC__min_samples_leaf=3, DTC__min_samples_split=10, LR__multi_class=ovr, LR__penalty=None, SVM__C=5.0, SVM__gamma=auto;, score=-0.874 total time=   0.1s\n"
     ]
    },
    {
     "name": "stderr",
     "output_type": "stream",
     "text": [
      "/home/dai/anaconda3/lib/python3.11/site-packages/sklearn/linear_model/_logistic.py:460: ConvergenceWarning: lbfgs failed to converge (status=1):\n",
      "STOP: TOTAL NO. of ITERATIONS REACHED LIMIT.\n",
      "\n",
      "Increase the number of iterations (max_iter) or scale the data as shown in:\n",
      "    https://scikit-learn.org/stable/modules/preprocessing.html\n",
      "Please also refer to the documentation for alternative solver options:\n",
      "    https://scikit-learn.org/stable/modules/linear_model.html#logistic-regression\n",
      "  n_iter_i = _check_optimize_result(\n",
      "/home/dai/anaconda3/lib/python3.11/site-packages/sklearn/linear_model/_logistic.py:460: ConvergenceWarning: lbfgs failed to converge (status=1):\n",
      "STOP: TOTAL NO. of ITERATIONS REACHED LIMIT.\n",
      "\n",
      "Increase the number of iterations (max_iter) or scale the data as shown in:\n",
      "    https://scikit-learn.org/stable/modules/preprocessing.html\n",
      "Please also refer to the documentation for alternative solver options:\n",
      "    https://scikit-learn.org/stable/modules/linear_model.html#logistic-regression\n",
      "  n_iter_i = _check_optimize_result(\n"
     ]
    },
    {
     "name": "stdout",
     "output_type": "stream",
     "text": [
      "[CV 4/5] END DTC__max_depth=None, DTC__min_samples_leaf=3, DTC__min_samples_split=10, LR__multi_class=ovr, LR__penalty=None, SVM__C=5.0, SVM__gamma=auto;, score=-0.584 total time=   0.2s\n",
      "[CV 5/5] END DTC__max_depth=None, DTC__min_samples_leaf=3, DTC__min_samples_split=10, LR__multi_class=ovr, LR__penalty=None, SVM__C=5.0, SVM__gamma=auto;, score=-0.635 total time=   0.2s\n",
      "[CV 1/5] END DTC__max_depth=6, DTC__min_samples_leaf=1, DTC__min_samples_split=2, LR__multi_class=multimodel, LR__penalty=None, SVM__C=3.75025, SVM__gamma=scale;, score=nan total time=   0.0s\n",
      "[CV 2/5] END DTC__max_depth=6, DTC__min_samples_leaf=1, DTC__min_samples_split=2, LR__multi_class=multimodel, LR__penalty=None, SVM__C=3.75025, SVM__gamma=scale;, score=nan total time=   0.0s\n"
     ]
    },
    {
     "name": "stderr",
     "output_type": "stream",
     "text": [
      "/home/dai/anaconda3/lib/python3.11/site-packages/sklearn/linear_model/_logistic.py:460: ConvergenceWarning: lbfgs failed to converge (status=1):\n",
      "STOP: TOTAL NO. of ITERATIONS REACHED LIMIT.\n",
      "\n",
      "Increase the number of iterations (max_iter) or scale the data as shown in:\n",
      "    https://scikit-learn.org/stable/modules/preprocessing.html\n",
      "Please also refer to the documentation for alternative solver options:\n",
      "    https://scikit-learn.org/stable/modules/linear_model.html#logistic-regression\n",
      "  n_iter_i = _check_optimize_result(\n"
     ]
    },
    {
     "name": "stdout",
     "output_type": "stream",
     "text": [
      "[CV 3/5] END DTC__max_depth=6, DTC__min_samples_leaf=1, DTC__min_samples_split=2, LR__multi_class=multimodel, LR__penalty=None, SVM__C=3.75025, SVM__gamma=scale;, score=nan total time=   0.0s\n",
      "[CV 4/5] END DTC__max_depth=6, DTC__min_samples_leaf=1, DTC__min_samples_split=2, LR__multi_class=multimodel, LR__penalty=None, SVM__C=3.75025, SVM__gamma=scale;, score=nan total time=   0.0s\n",
      "[CV 5/5] END DTC__max_depth=6, DTC__min_samples_leaf=1, DTC__min_samples_split=2, LR__multi_class=multimodel, LR__penalty=None, SVM__C=3.75025, SVM__gamma=scale;, score=nan total time=   0.0s\n",
      "[CV 1/5] END DTC__max_depth=6, DTC__min_samples_leaf=15, DTC__min_samples_split=10, LR__multi_class=multimodel, LR__penalty=None, SVM__C=1.2507499999999998, SVM__gamma=scale;, score=nan total time=   0.0s\n",
      "[CV 2/5] END DTC__max_depth=6, DTC__min_samples_leaf=15, DTC__min_samples_split=10, LR__multi_class=multimodel, LR__penalty=None, SVM__C=1.2507499999999998, SVM__gamma=scale;, score=nan total time=   0.0s\n",
      "[CV 3/5] END DTC__max_depth=6, DTC__min_samples_leaf=15, DTC__min_samples_split=10, LR__multi_class=multimodel, LR__penalty=None, SVM__C=1.2507499999999998, SVM__gamma=scale;, score=nan total time=   0.0s\n",
      "[CV 4/5] END DTC__max_depth=6, DTC__min_samples_leaf=15, DTC__min_samples_split=10, LR__multi_class=multimodel, LR__penalty=None, SVM__C=1.2507499999999998, SVM__gamma=scale;, score=nan total time=   0.0s\n",
      "[CV 5/5] END DTC__max_depth=6, DTC__min_samples_leaf=15, DTC__min_samples_split=10, LR__multi_class=multimodel, LR__penalty=None, SVM__C=1.2507499999999998, SVM__gamma=scale;, score=nan total time=   0.0s\n"
     ]
    },
    {
     "name": "stderr",
     "output_type": "stream",
     "text": [
      "/home/dai/anaconda3/lib/python3.11/site-packages/sklearn/linear_model/_logistic.py:460: ConvergenceWarning: lbfgs failed to converge (status=1):\n",
      "STOP: TOTAL NO. of ITERATIONS REACHED LIMIT.\n",
      "\n",
      "Increase the number of iterations (max_iter) or scale the data as shown in:\n",
      "    https://scikit-learn.org/stable/modules/preprocessing.html\n",
      "Please also refer to the documentation for alternative solver options:\n",
      "    https://scikit-learn.org/stable/modules/linear_model.html#logistic-regression\n",
      "  n_iter_i = _check_optimize_result(\n",
      "/home/dai/anaconda3/lib/python3.11/site-packages/sklearn/linear_model/_logistic.py:460: ConvergenceWarning: lbfgs failed to converge (status=1):\n",
      "STOP: TOTAL NO. of ITERATIONS REACHED LIMIT.\n",
      "\n",
      "Increase the number of iterations (max_iter) or scale the data as shown in:\n",
      "    https://scikit-learn.org/stable/modules/preprocessing.html\n",
      "Please also refer to the documentation for alternative solver options:\n",
      "    https://scikit-learn.org/stable/modules/linear_model.html#logistic-regression\n",
      "  n_iter_i = _check_optimize_result(\n"
     ]
    },
    {
     "name": "stdout",
     "output_type": "stream",
     "text": [
      "[CV 1/5] END DTC__max_depth=3, DTC__min_samples_leaf=3, DTC__min_samples_split=10, LR__multi_class=ovr, LR__penalty=None, SVM__C=1.2507499999999998, SVM__gamma=auto;, score=-0.788 total time=   0.2s\n",
      "[CV 2/5] END DTC__max_depth=3, DTC__min_samples_leaf=3, DTC__min_samples_split=10, LR__multi_class=ovr, LR__penalty=None, SVM__C=1.2507499999999998, SVM__gamma=auto;, score=-0.829 total time=   0.2s\n"
     ]
    },
    {
     "name": "stderr",
     "output_type": "stream",
     "text": [
      "/home/dai/anaconda3/lib/python3.11/site-packages/sklearn/linear_model/_logistic.py:460: ConvergenceWarning: lbfgs failed to converge (status=1):\n",
      "STOP: TOTAL NO. of ITERATIONS REACHED LIMIT.\n",
      "\n",
      "Increase the number of iterations (max_iter) or scale the data as shown in:\n",
      "    https://scikit-learn.org/stable/modules/preprocessing.html\n",
      "Please also refer to the documentation for alternative solver options:\n",
      "    https://scikit-learn.org/stable/modules/linear_model.html#logistic-regression\n",
      "  n_iter_i = _check_optimize_result(\n",
      "/home/dai/anaconda3/lib/python3.11/site-packages/sklearn/linear_model/_logistic.py:460: ConvergenceWarning: lbfgs failed to converge (status=1):\n",
      "STOP: TOTAL NO. of ITERATIONS REACHED LIMIT.\n",
      "\n",
      "Increase the number of iterations (max_iter) or scale the data as shown in:\n",
      "    https://scikit-learn.org/stable/modules/preprocessing.html\n",
      "Please also refer to the documentation for alternative solver options:\n",
      "    https://scikit-learn.org/stable/modules/linear_model.html#logistic-regression\n",
      "  n_iter_i = _check_optimize_result(\n"
     ]
    },
    {
     "name": "stdout",
     "output_type": "stream",
     "text": [
      "[CV 3/5] END DTC__max_depth=3, DTC__min_samples_leaf=3, DTC__min_samples_split=10, LR__multi_class=ovr, LR__penalty=None, SVM__C=1.2507499999999998, SVM__gamma=auto;, score=-0.939 total time=   0.2s\n",
      "[CV 4/5] END DTC__max_depth=3, DTC__min_samples_leaf=3, DTC__min_samples_split=10, LR__multi_class=ovr, LR__penalty=None, SVM__C=1.2507499999999998, SVM__gamma=auto;, score=-0.768 total time=   0.2s\n"
     ]
    },
    {
     "name": "stderr",
     "output_type": "stream",
     "text": [
      "/home/dai/anaconda3/lib/python3.11/site-packages/sklearn/linear_model/_logistic.py:460: ConvergenceWarning: lbfgs failed to converge (status=1):\n",
      "STOP: TOTAL NO. of ITERATIONS REACHED LIMIT.\n",
      "\n",
      "Increase the number of iterations (max_iter) or scale the data as shown in:\n",
      "    https://scikit-learn.org/stable/modules/preprocessing.html\n",
      "Please also refer to the documentation for alternative solver options:\n",
      "    https://scikit-learn.org/stable/modules/linear_model.html#logistic-regression\n",
      "  n_iter_i = _check_optimize_result(\n",
      "/home/dai/anaconda3/lib/python3.11/site-packages/sklearn/linear_model/_logistic.py:460: ConvergenceWarning: lbfgs failed to converge (status=1):\n",
      "STOP: TOTAL NO. of ITERATIONS REACHED LIMIT.\n",
      "\n",
      "Increase the number of iterations (max_iter) or scale the data as shown in:\n",
      "    https://scikit-learn.org/stable/modules/preprocessing.html\n",
      "Please also refer to the documentation for alternative solver options:\n",
      "    https://scikit-learn.org/stable/modules/linear_model.html#logistic-regression\n",
      "  n_iter_i = _check_optimize_result(\n"
     ]
    },
    {
     "name": "stdout",
     "output_type": "stream",
     "text": [
      "[CV 5/5] END DTC__max_depth=3, DTC__min_samples_leaf=3, DTC__min_samples_split=10, LR__multi_class=ovr, LR__penalty=None, SVM__C=1.2507499999999998, SVM__gamma=auto;, score=-0.782 total time=   0.1s\n",
      "[CV 1/5] END DTC__max_depth=6, DTC__min_samples_leaf=10, DTC__min_samples_split=2, LR__multi_class=ovr, LR__penalty=None, SVM__C=3.75025, SVM__gamma=auto;, score=-0.589 total time=   0.1s\n"
     ]
    },
    {
     "name": "stderr",
     "output_type": "stream",
     "text": [
      "/home/dai/anaconda3/lib/python3.11/site-packages/sklearn/linear_model/_logistic.py:460: ConvergenceWarning: lbfgs failed to converge (status=1):\n",
      "STOP: TOTAL NO. of ITERATIONS REACHED LIMIT.\n",
      "\n",
      "Increase the number of iterations (max_iter) or scale the data as shown in:\n",
      "    https://scikit-learn.org/stable/modules/preprocessing.html\n",
      "Please also refer to the documentation for alternative solver options:\n",
      "    https://scikit-learn.org/stable/modules/linear_model.html#logistic-regression\n",
      "  n_iter_i = _check_optimize_result(\n",
      "/home/dai/anaconda3/lib/python3.11/site-packages/sklearn/linear_model/_logistic.py:460: ConvergenceWarning: lbfgs failed to converge (status=1):\n",
      "STOP: TOTAL NO. of ITERATIONS REACHED LIMIT.\n",
      "\n",
      "Increase the number of iterations (max_iter) or scale the data as shown in:\n",
      "    https://scikit-learn.org/stable/modules/preprocessing.html\n",
      "Please also refer to the documentation for alternative solver options:\n",
      "    https://scikit-learn.org/stable/modules/linear_model.html#logistic-regression\n",
      "  n_iter_i = _check_optimize_result(\n"
     ]
    },
    {
     "name": "stdout",
     "output_type": "stream",
     "text": [
      "[CV 2/5] END DTC__max_depth=6, DTC__min_samples_leaf=10, DTC__min_samples_split=2, LR__multi_class=ovr, LR__penalty=None, SVM__C=3.75025, SVM__gamma=auto;, score=-0.676 total time=   0.1s\n",
      "[CV 3/5] END DTC__max_depth=6, DTC__min_samples_leaf=10, DTC__min_samples_split=2, LR__multi_class=ovr, LR__penalty=None, SVM__C=3.75025, SVM__gamma=auto;, score=-0.878 total time=   0.1s\n"
     ]
    },
    {
     "name": "stderr",
     "output_type": "stream",
     "text": [
      "/home/dai/anaconda3/lib/python3.11/site-packages/sklearn/linear_model/_logistic.py:460: ConvergenceWarning: lbfgs failed to converge (status=1):\n",
      "STOP: TOTAL NO. of ITERATIONS REACHED LIMIT.\n",
      "\n",
      "Increase the number of iterations (max_iter) or scale the data as shown in:\n",
      "    https://scikit-learn.org/stable/modules/preprocessing.html\n",
      "Please also refer to the documentation for alternative solver options:\n",
      "    https://scikit-learn.org/stable/modules/linear_model.html#logistic-regression\n",
      "  n_iter_i = _check_optimize_result(\n",
      "/home/dai/anaconda3/lib/python3.11/site-packages/sklearn/linear_model/_logistic.py:460: ConvergenceWarning: lbfgs failed to converge (status=1):\n",
      "STOP: TOTAL NO. of ITERATIONS REACHED LIMIT.\n",
      "\n",
      "Increase the number of iterations (max_iter) or scale the data as shown in:\n",
      "    https://scikit-learn.org/stable/modules/preprocessing.html\n",
      "Please also refer to the documentation for alternative solver options:\n",
      "    https://scikit-learn.org/stable/modules/linear_model.html#logistic-regression\n",
      "  n_iter_i = _check_optimize_result(\n"
     ]
    },
    {
     "name": "stdout",
     "output_type": "stream",
     "text": [
      "[CV 4/5] END DTC__max_depth=6, DTC__min_samples_leaf=10, DTC__min_samples_split=2, LR__multi_class=ovr, LR__penalty=None, SVM__C=3.75025, SVM__gamma=auto;, score=-0.597 total time=   0.1s\n",
      "[CV 5/5] END DTC__max_depth=6, DTC__min_samples_leaf=10, DTC__min_samples_split=2, LR__multi_class=ovr, LR__penalty=None, SVM__C=3.75025, SVM__gamma=auto;, score=-0.665 total time=   0.1s\n"
     ]
    },
    {
     "name": "stderr",
     "output_type": "stream",
     "text": [
      "/home/dai/anaconda3/lib/python3.11/site-packages/sklearn/linear_model/_logistic.py:460: ConvergenceWarning: lbfgs failed to converge (status=1):\n",
      "STOP: TOTAL NO. of ITERATIONS REACHED LIMIT.\n",
      "\n",
      "Increase the number of iterations (max_iter) or scale the data as shown in:\n",
      "    https://scikit-learn.org/stable/modules/preprocessing.html\n",
      "Please also refer to the documentation for alternative solver options:\n",
      "    https://scikit-learn.org/stable/modules/linear_model.html#logistic-regression\n",
      "  n_iter_i = _check_optimize_result(\n",
      "/home/dai/anaconda3/lib/python3.11/site-packages/sklearn/linear_model/_logistic.py:460: ConvergenceWarning: lbfgs failed to converge (status=1):\n",
      "STOP: TOTAL NO. of ITERATIONS REACHED LIMIT.\n",
      "\n",
      "Increase the number of iterations (max_iter) or scale the data as shown in:\n",
      "    https://scikit-learn.org/stable/modules/preprocessing.html\n",
      "Please also refer to the documentation for alternative solver options:\n",
      "    https://scikit-learn.org/stable/modules/linear_model.html#logistic-regression\n",
      "  n_iter_i = _check_optimize_result(\n"
     ]
    },
    {
     "name": "stdout",
     "output_type": "stream",
     "text": [
      "[CV 1/5] END DTC__max_depth=None, DTC__min_samples_leaf=7, DTC__min_samples_split=5, LR__multi_class=ovr, LR__penalty=l2, SVM__C=3.75025, SVM__gamma=scale;, score=-0.281 total time=   0.1s\n",
      "[CV 2/5] END DTC__max_depth=None, DTC__min_samples_leaf=7, DTC__min_samples_split=5, LR__multi_class=ovr, LR__penalty=l2, SVM__C=3.75025, SVM__gamma=scale;, score=-0.397 total time=   0.2s\n"
     ]
    },
    {
     "name": "stderr",
     "output_type": "stream",
     "text": [
      "/home/dai/anaconda3/lib/python3.11/site-packages/sklearn/linear_model/_logistic.py:460: ConvergenceWarning: lbfgs failed to converge (status=1):\n",
      "STOP: TOTAL NO. of ITERATIONS REACHED LIMIT.\n",
      "\n",
      "Increase the number of iterations (max_iter) or scale the data as shown in:\n",
      "    https://scikit-learn.org/stable/modules/preprocessing.html\n",
      "Please also refer to the documentation for alternative solver options:\n",
      "    https://scikit-learn.org/stable/modules/linear_model.html#logistic-regression\n",
      "  n_iter_i = _check_optimize_result(\n",
      "/home/dai/anaconda3/lib/python3.11/site-packages/sklearn/linear_model/_logistic.py:460: ConvergenceWarning: lbfgs failed to converge (status=1):\n",
      "STOP: TOTAL NO. of ITERATIONS REACHED LIMIT.\n",
      "\n",
      "Increase the number of iterations (max_iter) or scale the data as shown in:\n",
      "    https://scikit-learn.org/stable/modules/preprocessing.html\n",
      "Please also refer to the documentation for alternative solver options:\n",
      "    https://scikit-learn.org/stable/modules/linear_model.html#logistic-regression\n",
      "  n_iter_i = _check_optimize_result(\n"
     ]
    },
    {
     "name": "stdout",
     "output_type": "stream",
     "text": [
      "[CV 3/5] END DTC__max_depth=None, DTC__min_samples_leaf=7, DTC__min_samples_split=5, LR__multi_class=ovr, LR__penalty=l2, SVM__C=3.75025, SVM__gamma=scale;, score=-0.557 total time=   0.2s\n",
      "[CV 4/5] END DTC__max_depth=None, DTC__min_samples_leaf=7, DTC__min_samples_split=5, LR__multi_class=ovr, LR__penalty=l2, SVM__C=3.75025, SVM__gamma=scale;, score=-0.391 total time=   0.2s\n"
     ]
    },
    {
     "name": "stderr",
     "output_type": "stream",
     "text": [
      "/home/dai/anaconda3/lib/python3.11/site-packages/sklearn/linear_model/_logistic.py:460: ConvergenceWarning: lbfgs failed to converge (status=1):\n",
      "STOP: TOTAL NO. of ITERATIONS REACHED LIMIT.\n",
      "\n",
      "Increase the number of iterations (max_iter) or scale the data as shown in:\n",
      "    https://scikit-learn.org/stable/modules/preprocessing.html\n",
      "Please also refer to the documentation for alternative solver options:\n",
      "    https://scikit-learn.org/stable/modules/linear_model.html#logistic-regression\n",
      "  n_iter_i = _check_optimize_result(\n"
     ]
    },
    {
     "name": "stdout",
     "output_type": "stream",
     "text": [
      "[CV 5/5] END DTC__max_depth=None, DTC__min_samples_leaf=7, DTC__min_samples_split=5, LR__multi_class=ovr, LR__penalty=l2, SVM__C=3.75025, SVM__gamma=scale;, score=-0.353 total time=   0.1s\n",
      "[CV 1/5] END DTC__max_depth=6, DTC__min_samples_leaf=10, DTC__min_samples_split=5, LR__multi_class=multimodel, LR__penalty=l2, SVM__C=5.0, SVM__gamma=scale;, score=nan total time=   0.0s\n",
      "[CV 2/5] END DTC__max_depth=6, DTC__min_samples_leaf=10, DTC__min_samples_split=5, LR__multi_class=multimodel, LR__penalty=l2, SVM__C=5.0, SVM__gamma=scale;, score=nan total time=   0.0s\n",
      "[CV 3/5] END DTC__max_depth=6, DTC__min_samples_leaf=10, DTC__min_samples_split=5, LR__multi_class=multimodel, LR__penalty=l2, SVM__C=5.0, SVM__gamma=scale;, score=nan total time=   0.0s\n",
      "[CV 4/5] END DTC__max_depth=6, DTC__min_samples_leaf=10, DTC__min_samples_split=5, LR__multi_class=multimodel, LR__penalty=l2, SVM__C=5.0, SVM__gamma=scale;, score=nan total time=   0.0s\n",
      "[CV 5/5] END DTC__max_depth=6, DTC__min_samples_leaf=10, DTC__min_samples_split=5, LR__multi_class=multimodel, LR__penalty=l2, SVM__C=5.0, SVM__gamma=scale;, score=nan total time=   0.0s\n"
     ]
    },
    {
     "name": "stderr",
     "output_type": "stream",
     "text": [
      "/home/dai/anaconda3/lib/python3.11/site-packages/sklearn/linear_model/_logistic.py:460: ConvergenceWarning: lbfgs failed to converge (status=1):\n",
      "STOP: TOTAL NO. of ITERATIONS REACHED LIMIT.\n",
      "\n",
      "Increase the number of iterations (max_iter) or scale the data as shown in:\n",
      "    https://scikit-learn.org/stable/modules/preprocessing.html\n",
      "Please also refer to the documentation for alternative solver options:\n",
      "    https://scikit-learn.org/stable/modules/linear_model.html#logistic-regression\n",
      "  n_iter_i = _check_optimize_result(\n",
      "/home/dai/anaconda3/lib/python3.11/site-packages/sklearn/linear_model/_logistic.py:460: ConvergenceWarning: lbfgs failed to converge (status=1):\n",
      "STOP: TOTAL NO. of ITERATIONS REACHED LIMIT.\n",
      "\n",
      "Increase the number of iterations (max_iter) or scale the data as shown in:\n",
      "    https://scikit-learn.org/stable/modules/preprocessing.html\n",
      "Please also refer to the documentation for alternative solver options:\n",
      "    https://scikit-learn.org/stable/modules/linear_model.html#logistic-regression\n",
      "  n_iter_i = _check_optimize_result(\n"
     ]
    },
    {
     "name": "stdout",
     "output_type": "stream",
     "text": [
      "[CV 1/5] END DTC__max_depth=5, DTC__min_samples_leaf=15, DTC__min_samples_split=2, LR__multi_class=ovr, LR__penalty=l2, SVM__C=1.2507499999999998, SVM__gamma=auto;, score=-0.620 total time=   0.2s\n",
      "[CV 2/5] END DTC__max_depth=5, DTC__min_samples_leaf=15, DTC__min_samples_split=2, LR__multi_class=ovr, LR__penalty=l2, SVM__C=1.2507499999999998, SVM__gamma=auto;, score=-0.721 total time=   0.2s\n"
     ]
    },
    {
     "name": "stderr",
     "output_type": "stream",
     "text": [
      "/home/dai/anaconda3/lib/python3.11/site-packages/sklearn/linear_model/_logistic.py:460: ConvergenceWarning: lbfgs failed to converge (status=1):\n",
      "STOP: TOTAL NO. of ITERATIONS REACHED LIMIT.\n",
      "\n",
      "Increase the number of iterations (max_iter) or scale the data as shown in:\n",
      "    https://scikit-learn.org/stable/modules/preprocessing.html\n",
      "Please also refer to the documentation for alternative solver options:\n",
      "    https://scikit-learn.org/stable/modules/linear_model.html#logistic-regression\n",
      "  n_iter_i = _check_optimize_result(\n",
      "/home/dai/anaconda3/lib/python3.11/site-packages/sklearn/linear_model/_logistic.py:460: ConvergenceWarning: lbfgs failed to converge (status=1):\n",
      "STOP: TOTAL NO. of ITERATIONS REACHED LIMIT.\n",
      "\n",
      "Increase the number of iterations (max_iter) or scale the data as shown in:\n",
      "    https://scikit-learn.org/stable/modules/preprocessing.html\n",
      "Please also refer to the documentation for alternative solver options:\n",
      "    https://scikit-learn.org/stable/modules/linear_model.html#logistic-regression\n",
      "  n_iter_i = _check_optimize_result(\n"
     ]
    },
    {
     "name": "stdout",
     "output_type": "stream",
     "text": [
      "[CV 3/5] END DTC__max_depth=5, DTC__min_samples_leaf=15, DTC__min_samples_split=2, LR__multi_class=ovr, LR__penalty=l2, SVM__C=1.2507499999999998, SVM__gamma=auto;, score=-0.851 total time=   0.2s\n",
      "[CV 4/5] END DTC__max_depth=5, DTC__min_samples_leaf=15, DTC__min_samples_split=2, LR__multi_class=ovr, LR__penalty=l2, SVM__C=1.2507499999999998, SVM__gamma=auto;, score=-0.637 total time=   0.2s\n"
     ]
    },
    {
     "name": "stderr",
     "output_type": "stream",
     "text": [
      "/home/dai/anaconda3/lib/python3.11/site-packages/sklearn/linear_model/_logistic.py:460: ConvergenceWarning: lbfgs failed to converge (status=1):\n",
      "STOP: TOTAL NO. of ITERATIONS REACHED LIMIT.\n",
      "\n",
      "Increase the number of iterations (max_iter) or scale the data as shown in:\n",
      "    https://scikit-learn.org/stable/modules/preprocessing.html\n",
      "Please also refer to the documentation for alternative solver options:\n",
      "    https://scikit-learn.org/stable/modules/linear_model.html#logistic-regression\n",
      "  n_iter_i = _check_optimize_result(\n",
      "/home/dai/anaconda3/lib/python3.11/site-packages/sklearn/linear_model/_logistic.py:460: ConvergenceWarning: lbfgs failed to converge (status=1):\n",
      "STOP: TOTAL NO. of ITERATIONS REACHED LIMIT.\n",
      "\n",
      "Increase the number of iterations (max_iter) or scale the data as shown in:\n",
      "    https://scikit-learn.org/stable/modules/preprocessing.html\n",
      "Please also refer to the documentation for alternative solver options:\n",
      "    https://scikit-learn.org/stable/modules/linear_model.html#logistic-regression\n",
      "  n_iter_i = _check_optimize_result(\n"
     ]
    },
    {
     "name": "stdout",
     "output_type": "stream",
     "text": [
      "[CV 5/5] END DTC__max_depth=5, DTC__min_samples_leaf=15, DTC__min_samples_split=2, LR__multi_class=ovr, LR__penalty=l2, SVM__C=1.2507499999999998, SVM__gamma=auto;, score=-0.662 total time=   0.2s\n",
      "[CV 1/5] END DTC__max_depth=2, DTC__min_samples_leaf=3, DTC__min_samples_split=5, LR__multi_class=ovr, LR__penalty=None, SVM__C=1.2507499999999998, SVM__gamma=auto;, score=-0.888 total time=   0.1s\n"
     ]
    },
    {
     "name": "stderr",
     "output_type": "stream",
     "text": [
      "/home/dai/anaconda3/lib/python3.11/site-packages/sklearn/linear_model/_logistic.py:460: ConvergenceWarning: lbfgs failed to converge (status=1):\n",
      "STOP: TOTAL NO. of ITERATIONS REACHED LIMIT.\n",
      "\n",
      "Increase the number of iterations (max_iter) or scale the data as shown in:\n",
      "    https://scikit-learn.org/stable/modules/preprocessing.html\n",
      "Please also refer to the documentation for alternative solver options:\n",
      "    https://scikit-learn.org/stable/modules/linear_model.html#logistic-regression\n",
      "  n_iter_i = _check_optimize_result(\n",
      "/home/dai/anaconda3/lib/python3.11/site-packages/sklearn/linear_model/_logistic.py:460: ConvergenceWarning: lbfgs failed to converge (status=1):\n",
      "STOP: TOTAL NO. of ITERATIONS REACHED LIMIT.\n",
      "\n",
      "Increase the number of iterations (max_iter) or scale the data as shown in:\n",
      "    https://scikit-learn.org/stable/modules/preprocessing.html\n",
      "Please also refer to the documentation for alternative solver options:\n",
      "    https://scikit-learn.org/stable/modules/linear_model.html#logistic-regression\n",
      "  n_iter_i = _check_optimize_result(\n"
     ]
    },
    {
     "name": "stdout",
     "output_type": "stream",
     "text": [
      "[CV 2/5] END DTC__max_depth=2, DTC__min_samples_leaf=3, DTC__min_samples_split=5, LR__multi_class=ovr, LR__penalty=None, SVM__C=1.2507499999999998, SVM__gamma=auto;, score=-0.996 total time=   0.1s\n",
      "[CV 3/5] END DTC__max_depth=2, DTC__min_samples_leaf=3, DTC__min_samples_split=5, LR__multi_class=ovr, LR__penalty=None, SVM__C=1.2507499999999998, SVM__gamma=auto;, score=-1.046 total time=   0.1s\n"
     ]
    },
    {
     "name": "stderr",
     "output_type": "stream",
     "text": [
      "/home/dai/anaconda3/lib/python3.11/site-packages/sklearn/linear_model/_logistic.py:460: ConvergenceWarning: lbfgs failed to converge (status=1):\n",
      "STOP: TOTAL NO. of ITERATIONS REACHED LIMIT.\n",
      "\n",
      "Increase the number of iterations (max_iter) or scale the data as shown in:\n",
      "    https://scikit-learn.org/stable/modules/preprocessing.html\n",
      "Please also refer to the documentation for alternative solver options:\n",
      "    https://scikit-learn.org/stable/modules/linear_model.html#logistic-regression\n",
      "  n_iter_i = _check_optimize_result(\n",
      "/home/dai/anaconda3/lib/python3.11/site-packages/sklearn/linear_model/_logistic.py:460: ConvergenceWarning: lbfgs failed to converge (status=1):\n",
      "STOP: TOTAL NO. of ITERATIONS REACHED LIMIT.\n",
      "\n",
      "Increase the number of iterations (max_iter) or scale the data as shown in:\n",
      "    https://scikit-learn.org/stable/modules/preprocessing.html\n",
      "Please also refer to the documentation for alternative solver options:\n",
      "    https://scikit-learn.org/stable/modules/linear_model.html#logistic-regression\n",
      "  n_iter_i = _check_optimize_result(\n"
     ]
    },
    {
     "name": "stdout",
     "output_type": "stream",
     "text": [
      "[CV 4/5] END DTC__max_depth=2, DTC__min_samples_leaf=3, DTC__min_samples_split=5, LR__multi_class=ovr, LR__penalty=None, SVM__C=1.2507499999999998, SVM__gamma=auto;, score=-0.870 total time=   0.1s\n",
      "[CV 5/5] END DTC__max_depth=2, DTC__min_samples_leaf=3, DTC__min_samples_split=5, LR__multi_class=ovr, LR__penalty=None, SVM__C=1.2507499999999998, SVM__gamma=auto;, score=-0.892 total time=   0.1s\n"
     ]
    },
    {
     "name": "stderr",
     "output_type": "stream",
     "text": [
      "/home/dai/anaconda3/lib/python3.11/site-packages/sklearn/linear_model/_logistic.py:460: ConvergenceWarning: lbfgs failed to converge (status=1):\n",
      "STOP: TOTAL NO. of ITERATIONS REACHED LIMIT.\n",
      "\n",
      "Increase the number of iterations (max_iter) or scale the data as shown in:\n",
      "    https://scikit-learn.org/stable/modules/preprocessing.html\n",
      "Please also refer to the documentation for alternative solver options:\n",
      "    https://scikit-learn.org/stable/modules/linear_model.html#logistic-regression\n",
      "  n_iter_i = _check_optimize_result(\n",
      "/home/dai/anaconda3/lib/python3.11/site-packages/sklearn/linear_model/_logistic.py:460: ConvergenceWarning: lbfgs failed to converge (status=1):\n",
      "STOP: TOTAL NO. of ITERATIONS REACHED LIMIT.\n",
      "\n",
      "Increase the number of iterations (max_iter) or scale the data as shown in:\n",
      "    https://scikit-learn.org/stable/modules/preprocessing.html\n",
      "Please also refer to the documentation for alternative solver options:\n",
      "    https://scikit-learn.org/stable/modules/linear_model.html#logistic-regression\n",
      "  n_iter_i = _check_optimize_result(\n"
     ]
    },
    {
     "name": "stdout",
     "output_type": "stream",
     "text": [
      "[CV 1/5] END DTC__max_depth=5, DTC__min_samples_leaf=7, DTC__min_samples_split=5, LR__multi_class=ovr, LR__penalty=l2, SVM__C=1.2507499999999998, SVM__gamma=scale;, score=-0.379 total time=   0.2s\n",
      "[CV 2/5] END DTC__max_depth=5, DTC__min_samples_leaf=7, DTC__min_samples_split=5, LR__multi_class=ovr, LR__penalty=l2, SVM__C=1.2507499999999998, SVM__gamma=scale;, score=-0.456 total time=   0.1s\n"
     ]
    },
    {
     "name": "stderr",
     "output_type": "stream",
     "text": [
      "/home/dai/anaconda3/lib/python3.11/site-packages/sklearn/linear_model/_logistic.py:460: ConvergenceWarning: lbfgs failed to converge (status=1):\n",
      "STOP: TOTAL NO. of ITERATIONS REACHED LIMIT.\n",
      "\n",
      "Increase the number of iterations (max_iter) or scale the data as shown in:\n",
      "    https://scikit-learn.org/stable/modules/preprocessing.html\n",
      "Please also refer to the documentation for alternative solver options:\n",
      "    https://scikit-learn.org/stable/modules/linear_model.html#logistic-regression\n",
      "  n_iter_i = _check_optimize_result(\n",
      "/home/dai/anaconda3/lib/python3.11/site-packages/sklearn/linear_model/_logistic.py:460: ConvergenceWarning: lbfgs failed to converge (status=1):\n",
      "STOP: TOTAL NO. of ITERATIONS REACHED LIMIT.\n",
      "\n",
      "Increase the number of iterations (max_iter) or scale the data as shown in:\n",
      "    https://scikit-learn.org/stable/modules/preprocessing.html\n",
      "Please also refer to the documentation for alternative solver options:\n",
      "    https://scikit-learn.org/stable/modules/linear_model.html#logistic-regression\n",
      "  n_iter_i = _check_optimize_result(\n"
     ]
    },
    {
     "name": "stdout",
     "output_type": "stream",
     "text": [
      "[CV 3/5] END DTC__max_depth=5, DTC__min_samples_leaf=7, DTC__min_samples_split=5, LR__multi_class=ovr, LR__penalty=l2, SVM__C=1.2507499999999998, SVM__gamma=scale;, score=-0.603 total time=   0.1s\n",
      "[CV 4/5] END DTC__max_depth=5, DTC__min_samples_leaf=7, DTC__min_samples_split=5, LR__multi_class=ovr, LR__penalty=l2, SVM__C=1.2507499999999998, SVM__gamma=scale;, score=-0.418 total time=   0.2s\n"
     ]
    },
    {
     "name": "stderr",
     "output_type": "stream",
     "text": [
      "/home/dai/anaconda3/lib/python3.11/site-packages/sklearn/linear_model/_logistic.py:460: ConvergenceWarning: lbfgs failed to converge (status=1):\n",
      "STOP: TOTAL NO. of ITERATIONS REACHED LIMIT.\n",
      "\n",
      "Increase the number of iterations (max_iter) or scale the data as shown in:\n",
      "    https://scikit-learn.org/stable/modules/preprocessing.html\n",
      "Please also refer to the documentation for alternative solver options:\n",
      "    https://scikit-learn.org/stable/modules/linear_model.html#logistic-regression\n",
      "  n_iter_i = _check_optimize_result(\n"
     ]
    },
    {
     "name": "stdout",
     "output_type": "stream",
     "text": [
      "[CV 5/5] END DTC__max_depth=5, DTC__min_samples_leaf=7, DTC__min_samples_split=5, LR__multi_class=ovr, LR__penalty=l2, SVM__C=1.2507499999999998, SVM__gamma=scale;, score=-0.420 total time=   0.1s\n",
      "[CV 1/5] END DTC__max_depth=None, DTC__min_samples_leaf=15, DTC__min_samples_split=10, LR__multi_class=ovr, LR__penalty=l1, SVM__C=5.0, SVM__gamma=auto;, score=nan total time=   0.0s\n",
      "[CV 2/5] END DTC__max_depth=None, DTC__min_samples_leaf=15, DTC__min_samples_split=10, LR__multi_class=ovr, LR__penalty=l1, SVM__C=5.0, SVM__gamma=auto;, score=nan total time=   0.0s\n",
      "[CV 3/5] END DTC__max_depth=None, DTC__min_samples_leaf=15, DTC__min_samples_split=10, LR__multi_class=ovr, LR__penalty=l1, SVM__C=5.0, SVM__gamma=auto;, score=nan total time=   0.0s\n",
      "[CV 4/5] END DTC__max_depth=None, DTC__min_samples_leaf=15, DTC__min_samples_split=10, LR__multi_class=ovr, LR__penalty=l1, SVM__C=5.0, SVM__gamma=auto;, score=nan total time=   0.0s\n",
      "[CV 5/5] END DTC__max_depth=None, DTC__min_samples_leaf=15, DTC__min_samples_split=10, LR__multi_class=ovr, LR__penalty=l1, SVM__C=5.0, SVM__gamma=auto;, score=nan total time=   0.0s\n",
      "[CV 1/5] END DTC__max_depth=5, DTC__min_samples_leaf=5, DTC__min_samples_split=10, LR__multi_class=multimodel, LR__penalty=l1, SVM__C=0.001, SVM__gamma=scale;, score=nan total time=   0.0s\n",
      "[CV 2/5] END DTC__max_depth=5, DTC__min_samples_leaf=5, DTC__min_samples_split=10, LR__multi_class=multimodel, LR__penalty=l1, SVM__C=0.001, SVM__gamma=scale;, score=nan total time=   0.0s\n",
      "[CV 3/5] END DTC__max_depth=5, DTC__min_samples_leaf=5, DTC__min_samples_split=10, LR__multi_class=multimodel, LR__penalty=l1, SVM__C=0.001, SVM__gamma=scale;, score=nan total time=   0.0s\n",
      "[CV 4/5] END DTC__max_depth=5, DTC__min_samples_leaf=5, DTC__min_samples_split=10, LR__multi_class=multimodel, LR__penalty=l1, SVM__C=0.001, SVM__gamma=scale;, score=nan total time=   0.0s\n",
      "[CV 5/5] END DTC__max_depth=5, DTC__min_samples_leaf=5, DTC__min_samples_split=10, LR__multi_class=multimodel, LR__penalty=l1, SVM__C=0.001, SVM__gamma=scale;, score=nan total time=   0.0s\n"
     ]
    },
    {
     "name": "stderr",
     "output_type": "stream",
     "text": [
      "/home/dai/anaconda3/lib/python3.11/site-packages/sklearn/linear_model/_logistic.py:460: ConvergenceWarning: lbfgs failed to converge (status=1):\n",
      "STOP: TOTAL NO. of ITERATIONS REACHED LIMIT.\n",
      "\n",
      "Increase the number of iterations (max_iter) or scale the data as shown in:\n",
      "    https://scikit-learn.org/stable/modules/preprocessing.html\n",
      "Please also refer to the documentation for alternative solver options:\n",
      "    https://scikit-learn.org/stable/modules/linear_model.html#logistic-regression\n",
      "  n_iter_i = _check_optimize_result(\n",
      "/home/dai/anaconda3/lib/python3.11/site-packages/sklearn/linear_model/_logistic.py:460: ConvergenceWarning: lbfgs failed to converge (status=1):\n",
      "STOP: TOTAL NO. of ITERATIONS REACHED LIMIT.\n",
      "\n",
      "Increase the number of iterations (max_iter) or scale the data as shown in:\n",
      "    https://scikit-learn.org/stable/modules/preprocessing.html\n",
      "Please also refer to the documentation for alternative solver options:\n",
      "    https://scikit-learn.org/stable/modules/linear_model.html#logistic-regression\n",
      "  n_iter_i = _check_optimize_result(\n"
     ]
    },
    {
     "name": "stdout",
     "output_type": "stream",
     "text": [
      "[CV 1/5] END DTC__max_depth=2, DTC__min_samples_leaf=1, DTC__min_samples_split=5, LR__multi_class=ovr, LR__penalty=l2, SVM__C=3.75025, SVM__gamma=scale;, score=-0.531 total time=   0.1s\n",
      "[CV 2/5] END DTC__max_depth=2, DTC__min_samples_leaf=1, DTC__min_samples_split=5, LR__multi_class=ovr, LR__penalty=l2, SVM__C=3.75025, SVM__gamma=scale;, score=-0.652 total time=   0.1s\n"
     ]
    },
    {
     "name": "stderr",
     "output_type": "stream",
     "text": [
      "/home/dai/anaconda3/lib/python3.11/site-packages/sklearn/linear_model/_logistic.py:460: ConvergenceWarning: lbfgs failed to converge (status=1):\n",
      "STOP: TOTAL NO. of ITERATIONS REACHED LIMIT.\n",
      "\n",
      "Increase the number of iterations (max_iter) or scale the data as shown in:\n",
      "    https://scikit-learn.org/stable/modules/preprocessing.html\n",
      "Please also refer to the documentation for alternative solver options:\n",
      "    https://scikit-learn.org/stable/modules/linear_model.html#logistic-regression\n",
      "  n_iter_i = _check_optimize_result(\n",
      "/home/dai/anaconda3/lib/python3.11/site-packages/sklearn/linear_model/_logistic.py:460: ConvergenceWarning: lbfgs failed to converge (status=1):\n",
      "STOP: TOTAL NO. of ITERATIONS REACHED LIMIT.\n",
      "\n",
      "Increase the number of iterations (max_iter) or scale the data as shown in:\n",
      "    https://scikit-learn.org/stable/modules/preprocessing.html\n",
      "Please also refer to the documentation for alternative solver options:\n",
      "    https://scikit-learn.org/stable/modules/linear_model.html#logistic-regression\n",
      "  n_iter_i = _check_optimize_result(\n"
     ]
    },
    {
     "name": "stdout",
     "output_type": "stream",
     "text": [
      "[CV 3/5] END DTC__max_depth=2, DTC__min_samples_leaf=1, DTC__min_samples_split=5, LR__multi_class=ovr, LR__penalty=l2, SVM__C=3.75025, SVM__gamma=scale;, score=-0.725 total time=   0.1s\n",
      "[CV 4/5] END DTC__max_depth=2, DTC__min_samples_leaf=1, DTC__min_samples_split=5, LR__multi_class=ovr, LR__penalty=l2, SVM__C=3.75025, SVM__gamma=scale;, score=-0.645 total time=   0.1s\n"
     ]
    },
    {
     "name": "stderr",
     "output_type": "stream",
     "text": [
      "/home/dai/anaconda3/lib/python3.11/site-packages/sklearn/linear_model/_logistic.py:460: ConvergenceWarning: lbfgs failed to converge (status=1):\n",
      "STOP: TOTAL NO. of ITERATIONS REACHED LIMIT.\n",
      "\n",
      "Increase the number of iterations (max_iter) or scale the data as shown in:\n",
      "    https://scikit-learn.org/stable/modules/preprocessing.html\n",
      "Please also refer to the documentation for alternative solver options:\n",
      "    https://scikit-learn.org/stable/modules/linear_model.html#logistic-regression\n",
      "  n_iter_i = _check_optimize_result(\n"
     ]
    },
    {
     "name": "stdout",
     "output_type": "stream",
     "text": [
      "[CV 5/5] END DTC__max_depth=2, DTC__min_samples_leaf=1, DTC__min_samples_split=5, LR__multi_class=ovr, LR__penalty=l2, SVM__C=3.75025, SVM__gamma=scale;, score=-0.575 total time=   0.1s\n",
      "[CV 1/5] END DTC__max_depth=6, DTC__min_samples_leaf=5, DTC__min_samples_split=5, LR__multi_class=multimodel, LR__penalty=None, SVM__C=1.2507499999999998, SVM__gamma=auto;, score=nan total time=   0.0s\n",
      "[CV 2/5] END DTC__max_depth=6, DTC__min_samples_leaf=5, DTC__min_samples_split=5, LR__multi_class=multimodel, LR__penalty=None, SVM__C=1.2507499999999998, SVM__gamma=auto;, score=nan total time=   0.0s\n",
      "[CV 3/5] END DTC__max_depth=6, DTC__min_samples_leaf=5, DTC__min_samples_split=5, LR__multi_class=multimodel, LR__penalty=None, SVM__C=1.2507499999999998, SVM__gamma=auto;, score=nan total time=   0.0s\n",
      "[CV 4/5] END DTC__max_depth=6, DTC__min_samples_leaf=5, DTC__min_samples_split=5, LR__multi_class=multimodel, LR__penalty=None, SVM__C=1.2507499999999998, SVM__gamma=auto;, score=nan total time=   0.0s\n",
      "[CV 5/5] END DTC__max_depth=6, DTC__min_samples_leaf=5, DTC__min_samples_split=5, LR__multi_class=multimodel, LR__penalty=None, SVM__C=1.2507499999999998, SVM__gamma=auto;, score=nan total time=   0.0s\n"
     ]
    },
    {
     "name": "stderr",
     "output_type": "stream",
     "text": [
      "/home/dai/anaconda3/lib/python3.11/site-packages/sklearn/model_selection/_validation.py:425: FitFailedWarning: \n",
      "165 fits failed out of a total of 250.\n",
      "The score on these train-test partitions for these parameters will be set to nan.\n",
      "If these failures are not expected, you can try to debug them by setting error_score='raise'.\n",
      "\n",
      "Below are more details about the failures:\n",
      "--------------------------------------------------------------------------------\n",
      "95 fits failed with the following error:\n",
      "Traceback (most recent call last):\n",
      "  File \"/home/dai/anaconda3/lib/python3.11/site-packages/sklearn/model_selection/_validation.py\", line 729, in _fit_and_score\n",
      "    estimator.fit(X_train, y_train, **fit_params)\n",
      "  File \"/home/dai/anaconda3/lib/python3.11/site-packages/sklearn/base.py\", line 1152, in wrapper\n",
      "    return fit_method(estimator, *args, **kwargs)\n",
      "           ^^^^^^^^^^^^^^^^^^^^^^^^^^^^^^^^^^^^^^\n",
      "  File \"/home/dai/anaconda3/lib/python3.11/site-packages/sklearn/ensemble/_voting.py\", line 349, in fit\n",
      "    return super().fit(X, transformed_y, sample_weight)\n",
      "           ^^^^^^^^^^^^^^^^^^^^^^^^^^^^^^^^^^^^^^^^^^^^\n",
      "  File \"/home/dai/anaconda3/lib/python3.11/site-packages/sklearn/ensemble/_voting.py\", line 81, in fit\n",
      "    self.estimators_ = Parallel(n_jobs=self.n_jobs)(\n",
      "                       ^^^^^^^^^^^^^^^^^^^^^^^^^^^^^\n",
      "  File \"/home/dai/anaconda3/lib/python3.11/site-packages/sklearn/utils/parallel.py\", line 65, in __call__\n",
      "    return super().__call__(iterable_with_config)\n",
      "           ^^^^^^^^^^^^^^^^^^^^^^^^^^^^^^^^^^^^^^\n",
      "  File \"/home/dai/anaconda3/lib/python3.11/site-packages/joblib/parallel.py\", line 1088, in __call__\n",
      "    while self.dispatch_one_batch(iterator):\n",
      "          ^^^^^^^^^^^^^^^^^^^^^^^^^^^^^^^^^\n",
      "  File \"/home/dai/anaconda3/lib/python3.11/site-packages/joblib/parallel.py\", line 901, in dispatch_one_batch\n",
      "    self._dispatch(tasks)\n",
      "  File \"/home/dai/anaconda3/lib/python3.11/site-packages/joblib/parallel.py\", line 819, in _dispatch\n",
      "    job = self._backend.apply_async(batch, callback=cb)\n",
      "          ^^^^^^^^^^^^^^^^^^^^^^^^^^^^^^^^^^^^^^^^^^^^^\n",
      "  File \"/home/dai/anaconda3/lib/python3.11/site-packages/joblib/_parallel_backends.py\", line 208, in apply_async\n",
      "    result = ImmediateResult(func)\n",
      "             ^^^^^^^^^^^^^^^^^^^^^\n",
      "  File \"/home/dai/anaconda3/lib/python3.11/site-packages/joblib/_parallel_backends.py\", line 597, in __init__\n",
      "    self.results = batch()\n",
      "                   ^^^^^^^\n",
      "  File \"/home/dai/anaconda3/lib/python3.11/site-packages/joblib/parallel.py\", line 288, in __call__\n",
      "    return [func(*args, **kwargs)\n",
      "           ^^^^^^^^^^^^^^^^^^^^^^\n",
      "  File \"/home/dai/anaconda3/lib/python3.11/site-packages/joblib/parallel.py\", line 288, in <listcomp>\n",
      "    return [func(*args, **kwargs)\n",
      "            ^^^^^^^^^^^^^^^^^^^^^\n",
      "  File \"/home/dai/anaconda3/lib/python3.11/site-packages/sklearn/utils/parallel.py\", line 127, in __call__\n",
      "    return self.function(*args, **kwargs)\n",
      "           ^^^^^^^^^^^^^^^^^^^^^^^^^^^^^^\n",
      "  File \"/home/dai/anaconda3/lib/python3.11/site-packages/sklearn/ensemble/_base.py\", line 36, in _fit_single_estimator\n",
      "    estimator.fit(X, y)\n",
      "  File \"/home/dai/anaconda3/lib/python3.11/site-packages/sklearn/base.py\", line 1145, in wrapper\n",
      "    estimator._validate_params()\n",
      "  File \"/home/dai/anaconda3/lib/python3.11/site-packages/sklearn/base.py\", line 638, in _validate_params\n",
      "    validate_parameter_constraints(\n",
      "  File \"/home/dai/anaconda3/lib/python3.11/site-packages/sklearn/utils/_param_validation.py\", line 96, in validate_parameter_constraints\n",
      "    raise InvalidParameterError(\n",
      "sklearn.utils._param_validation.InvalidParameterError: The 'multi_class' parameter of LogisticRegression must be a str among {'ovr', 'multinomial', 'auto'}. Got 'multimodel' instead.\n",
      "\n",
      "--------------------------------------------------------------------------------\n",
      "35 fits failed with the following error:\n",
      "Traceback (most recent call last):\n",
      "  File \"/home/dai/anaconda3/lib/python3.11/site-packages/sklearn/model_selection/_validation.py\", line 729, in _fit_and_score\n",
      "    estimator.fit(X_train, y_train, **fit_params)\n",
      "  File \"/home/dai/anaconda3/lib/python3.11/site-packages/sklearn/base.py\", line 1152, in wrapper\n",
      "    return fit_method(estimator, *args, **kwargs)\n",
      "           ^^^^^^^^^^^^^^^^^^^^^^^^^^^^^^^^^^^^^^\n",
      "  File \"/home/dai/anaconda3/lib/python3.11/site-packages/sklearn/ensemble/_voting.py\", line 349, in fit\n",
      "    return super().fit(X, transformed_y, sample_weight)\n",
      "           ^^^^^^^^^^^^^^^^^^^^^^^^^^^^^^^^^^^^^^^^^^^^\n",
      "  File \"/home/dai/anaconda3/lib/python3.11/site-packages/sklearn/ensemble/_voting.py\", line 81, in fit\n",
      "    self.estimators_ = Parallel(n_jobs=self.n_jobs)(\n",
      "                       ^^^^^^^^^^^^^^^^^^^^^^^^^^^^^\n",
      "  File \"/home/dai/anaconda3/lib/python3.11/site-packages/sklearn/utils/parallel.py\", line 65, in __call__\n",
      "    return super().__call__(iterable_with_config)\n",
      "           ^^^^^^^^^^^^^^^^^^^^^^^^^^^^^^^^^^^^^^\n",
      "  File \"/home/dai/anaconda3/lib/python3.11/site-packages/joblib/parallel.py\", line 1088, in __call__\n",
      "    while self.dispatch_one_batch(iterator):\n",
      "          ^^^^^^^^^^^^^^^^^^^^^^^^^^^^^^^^^\n",
      "  File \"/home/dai/anaconda3/lib/python3.11/site-packages/joblib/parallel.py\", line 901, in dispatch_one_batch\n",
      "    self._dispatch(tasks)\n",
      "  File \"/home/dai/anaconda3/lib/python3.11/site-packages/joblib/parallel.py\", line 819, in _dispatch\n",
      "    job = self._backend.apply_async(batch, callback=cb)\n",
      "          ^^^^^^^^^^^^^^^^^^^^^^^^^^^^^^^^^^^^^^^^^^^^^\n",
      "  File \"/home/dai/anaconda3/lib/python3.11/site-packages/joblib/_parallel_backends.py\", line 208, in apply_async\n",
      "    result = ImmediateResult(func)\n",
      "             ^^^^^^^^^^^^^^^^^^^^^\n",
      "  File \"/home/dai/anaconda3/lib/python3.11/site-packages/joblib/_parallel_backends.py\", line 597, in __init__\n",
      "    self.results = batch()\n",
      "                   ^^^^^^^\n",
      "  File \"/home/dai/anaconda3/lib/python3.11/site-packages/joblib/parallel.py\", line 288, in __call__\n",
      "    return [func(*args, **kwargs)\n",
      "           ^^^^^^^^^^^^^^^^^^^^^^\n",
      "  File \"/home/dai/anaconda3/lib/python3.11/site-packages/joblib/parallel.py\", line 288, in <listcomp>\n",
      "    return [func(*args, **kwargs)\n",
      "            ^^^^^^^^^^^^^^^^^^^^^\n",
      "  File \"/home/dai/anaconda3/lib/python3.11/site-packages/sklearn/utils/parallel.py\", line 127, in __call__\n",
      "    return self.function(*args, **kwargs)\n",
      "           ^^^^^^^^^^^^^^^^^^^^^^^^^^^^^^\n",
      "  File \"/home/dai/anaconda3/lib/python3.11/site-packages/sklearn/ensemble/_base.py\", line 36, in _fit_single_estimator\n",
      "    estimator.fit(X, y)\n",
      "  File \"/home/dai/anaconda3/lib/python3.11/site-packages/sklearn/base.py\", line 1152, in wrapper\n",
      "    return fit_method(estimator, *args, **kwargs)\n",
      "           ^^^^^^^^^^^^^^^^^^^^^^^^^^^^^^^^^^^^^^\n",
      "  File \"/home/dai/anaconda3/lib/python3.11/site-packages/sklearn/linear_model/_logistic.py\", line 1169, in fit\n",
      "    solver = _check_solver(self.solver, self.penalty, self.dual)\n",
      "             ^^^^^^^^^^^^^^^^^^^^^^^^^^^^^^^^^^^^^^^^^^^^^^^^^^^\n",
      "  File \"/home/dai/anaconda3/lib/python3.11/site-packages/sklearn/linear_model/_logistic.py\", line 56, in _check_solver\n",
      "    raise ValueError(\n",
      "ValueError: Solver lbfgs supports only 'l2' or 'none' penalties, got elasticnet penalty.\n",
      "\n",
      "--------------------------------------------------------------------------------\n",
      "35 fits failed with the following error:\n",
      "Traceback (most recent call last):\n",
      "  File \"/home/dai/anaconda3/lib/python3.11/site-packages/sklearn/model_selection/_validation.py\", line 729, in _fit_and_score\n",
      "    estimator.fit(X_train, y_train, **fit_params)\n",
      "  File \"/home/dai/anaconda3/lib/python3.11/site-packages/sklearn/base.py\", line 1152, in wrapper\n",
      "    return fit_method(estimator, *args, **kwargs)\n",
      "           ^^^^^^^^^^^^^^^^^^^^^^^^^^^^^^^^^^^^^^\n",
      "  File \"/home/dai/anaconda3/lib/python3.11/site-packages/sklearn/ensemble/_voting.py\", line 349, in fit\n",
      "    return super().fit(X, transformed_y, sample_weight)\n",
      "           ^^^^^^^^^^^^^^^^^^^^^^^^^^^^^^^^^^^^^^^^^^^^\n",
      "  File \"/home/dai/anaconda3/lib/python3.11/site-packages/sklearn/ensemble/_voting.py\", line 81, in fit\n",
      "    self.estimators_ = Parallel(n_jobs=self.n_jobs)(\n",
      "                       ^^^^^^^^^^^^^^^^^^^^^^^^^^^^^\n",
      "  File \"/home/dai/anaconda3/lib/python3.11/site-packages/sklearn/utils/parallel.py\", line 65, in __call__\n",
      "    return super().__call__(iterable_with_config)\n",
      "           ^^^^^^^^^^^^^^^^^^^^^^^^^^^^^^^^^^^^^^\n",
      "  File \"/home/dai/anaconda3/lib/python3.11/site-packages/joblib/parallel.py\", line 1088, in __call__\n",
      "    while self.dispatch_one_batch(iterator):\n",
      "          ^^^^^^^^^^^^^^^^^^^^^^^^^^^^^^^^^\n",
      "  File \"/home/dai/anaconda3/lib/python3.11/site-packages/joblib/parallel.py\", line 901, in dispatch_one_batch\n",
      "    self._dispatch(tasks)\n",
      "  File \"/home/dai/anaconda3/lib/python3.11/site-packages/joblib/parallel.py\", line 819, in _dispatch\n",
      "    job = self._backend.apply_async(batch, callback=cb)\n",
      "          ^^^^^^^^^^^^^^^^^^^^^^^^^^^^^^^^^^^^^^^^^^^^^\n",
      "  File \"/home/dai/anaconda3/lib/python3.11/site-packages/joblib/_parallel_backends.py\", line 208, in apply_async\n",
      "    result = ImmediateResult(func)\n",
      "             ^^^^^^^^^^^^^^^^^^^^^\n",
      "  File \"/home/dai/anaconda3/lib/python3.11/site-packages/joblib/_parallel_backends.py\", line 597, in __init__\n",
      "    self.results = batch()\n",
      "                   ^^^^^^^\n",
      "  File \"/home/dai/anaconda3/lib/python3.11/site-packages/joblib/parallel.py\", line 288, in __call__\n",
      "    return [func(*args, **kwargs)\n",
      "           ^^^^^^^^^^^^^^^^^^^^^^\n",
      "  File \"/home/dai/anaconda3/lib/python3.11/site-packages/joblib/parallel.py\", line 288, in <listcomp>\n",
      "    return [func(*args, **kwargs)\n",
      "            ^^^^^^^^^^^^^^^^^^^^^\n",
      "  File \"/home/dai/anaconda3/lib/python3.11/site-packages/sklearn/utils/parallel.py\", line 127, in __call__\n",
      "    return self.function(*args, **kwargs)\n",
      "           ^^^^^^^^^^^^^^^^^^^^^^^^^^^^^^\n",
      "  File \"/home/dai/anaconda3/lib/python3.11/site-packages/sklearn/ensemble/_base.py\", line 36, in _fit_single_estimator\n",
      "    estimator.fit(X, y)\n",
      "  File \"/home/dai/anaconda3/lib/python3.11/site-packages/sklearn/base.py\", line 1152, in wrapper\n",
      "    return fit_method(estimator, *args, **kwargs)\n",
      "           ^^^^^^^^^^^^^^^^^^^^^^^^^^^^^^^^^^^^^^\n",
      "  File \"/home/dai/anaconda3/lib/python3.11/site-packages/sklearn/linear_model/_logistic.py\", line 1169, in fit\n",
      "    solver = _check_solver(self.solver, self.penalty, self.dual)\n",
      "             ^^^^^^^^^^^^^^^^^^^^^^^^^^^^^^^^^^^^^^^^^^^^^^^^^^^\n",
      "  File \"/home/dai/anaconda3/lib/python3.11/site-packages/sklearn/linear_model/_logistic.py\", line 56, in _check_solver\n",
      "    raise ValueError(\n",
      "ValueError: Solver lbfgs supports only 'l2' or 'none' penalties, got l1 penalty.\n",
      "\n",
      "  warnings.warn(some_fits_failed_message, FitFailedWarning)\n",
      "/home/dai/anaconda3/lib/python3.11/site-packages/sklearn/model_selection/_search.py:979: UserWarning: One or more of the test scores are non-finite: [        nan -0.65028458         nan -0.9285818          nan -0.66968026\n",
      " -0.80527088         nan         nan         nan -0.43500651         nan\n",
      " -0.80527088         nan         nan         nan         nan -0.6430986\n",
      "         nan         nan -0.70668331 -0.64968133         nan         nan\n",
      "         nan         nan         nan         nan         nan         nan\n",
      "         nan         nan         nan         nan         nan         nan\n",
      " -0.67876503         nan         nan -0.82095679 -0.68090213 -0.39561272\n",
      "         nan -0.698256   -0.9383302  -0.45543453         nan         nan\n",
      " -0.62562527         nan]\n",
      "  warnings.warn(\n",
      "/home/dai/anaconda3/lib/python3.11/site-packages/sklearn/linear_model/_logistic.py:460: ConvergenceWarning: lbfgs failed to converge (status=1):\n",
      "STOP: TOTAL NO. of ITERATIONS REACHED LIMIT.\n",
      "\n",
      "Increase the number of iterations (max_iter) or scale the data as shown in:\n",
      "    https://scikit-learn.org/stable/modules/preprocessing.html\n",
      "Please also refer to the documentation for alternative solver options:\n",
      "    https://scikit-learn.org/stable/modules/linear_model.html#logistic-regression\n",
      "  n_iter_i = _check_optimize_result(\n"
     ]
    },
    {
     "data": {
      "text/html": [
       "<style>#sk-container-id-8 {color: black;}#sk-container-id-8 pre{padding: 0;}#sk-container-id-8 div.sk-toggleable {background-color: white;}#sk-container-id-8 label.sk-toggleable__label {cursor: pointer;display: block;width: 100%;margin-bottom: 0;padding: 0.3em;box-sizing: border-box;text-align: center;}#sk-container-id-8 label.sk-toggleable__label-arrow:before {content: \"▸\";float: left;margin-right: 0.25em;color: #696969;}#sk-container-id-8 label.sk-toggleable__label-arrow:hover:before {color: black;}#sk-container-id-8 div.sk-estimator:hover label.sk-toggleable__label-arrow:before {color: black;}#sk-container-id-8 div.sk-toggleable__content {max-height: 0;max-width: 0;overflow: hidden;text-align: left;background-color: #f0f8ff;}#sk-container-id-8 div.sk-toggleable__content pre {margin: 0.2em;color: black;border-radius: 0.25em;background-color: #f0f8ff;}#sk-container-id-8 input.sk-toggleable__control:checked~div.sk-toggleable__content {max-height: 200px;max-width: 100%;overflow: auto;}#sk-container-id-8 input.sk-toggleable__control:checked~label.sk-toggleable__label-arrow:before {content: \"▾\";}#sk-container-id-8 div.sk-estimator input.sk-toggleable__control:checked~label.sk-toggleable__label {background-color: #d4ebff;}#sk-container-id-8 div.sk-label input.sk-toggleable__control:checked~label.sk-toggleable__label {background-color: #d4ebff;}#sk-container-id-8 input.sk-hidden--visually {border: 0;clip: rect(1px 1px 1px 1px);clip: rect(1px, 1px, 1px, 1px);height: 1px;margin: -1px;overflow: hidden;padding: 0;position: absolute;width: 1px;}#sk-container-id-8 div.sk-estimator {font-family: monospace;background-color: #f0f8ff;border: 1px dotted black;border-radius: 0.25em;box-sizing: border-box;margin-bottom: 0.5em;}#sk-container-id-8 div.sk-estimator:hover {background-color: #d4ebff;}#sk-container-id-8 div.sk-parallel-item::after {content: \"\";width: 100%;border-bottom: 1px solid gray;flex-grow: 1;}#sk-container-id-8 div.sk-label:hover label.sk-toggleable__label {background-color: #d4ebff;}#sk-container-id-8 div.sk-serial::before {content: \"\";position: absolute;border-left: 1px solid gray;box-sizing: border-box;top: 0;bottom: 0;left: 50%;z-index: 0;}#sk-container-id-8 div.sk-serial {display: flex;flex-direction: column;align-items: center;background-color: white;padding-right: 0.2em;padding-left: 0.2em;position: relative;}#sk-container-id-8 div.sk-item {position: relative;z-index: 1;}#sk-container-id-8 div.sk-parallel {display: flex;align-items: stretch;justify-content: center;background-color: white;position: relative;}#sk-container-id-8 div.sk-item::before, #sk-container-id-8 div.sk-parallel-item::before {content: \"\";position: absolute;border-left: 1px solid gray;box-sizing: border-box;top: 0;bottom: 0;left: 50%;z-index: -1;}#sk-container-id-8 div.sk-parallel-item {display: flex;flex-direction: column;z-index: 1;position: relative;background-color: white;}#sk-container-id-8 div.sk-parallel-item:first-child::after {align-self: flex-end;width: 50%;}#sk-container-id-8 div.sk-parallel-item:last-child::after {align-self: flex-start;width: 50%;}#sk-container-id-8 div.sk-parallel-item:only-child::after {width: 0;}#sk-container-id-8 div.sk-dashed-wrapped {border: 1px dashed gray;margin: 0 0.4em 0.5em 0.4em;box-sizing: border-box;padding-bottom: 0.4em;background-color: white;}#sk-container-id-8 div.sk-label label {font-family: monospace;font-weight: bold;display: inline-block;line-height: 1.2em;}#sk-container-id-8 div.sk-label-container {text-align: center;}#sk-container-id-8 div.sk-container {/* jupyter's `normalize.less` sets `[hidden] { display: none; }` but bootstrap.min.css set `[hidden] { display: none !important; }` so we also need the `!important` here to be able to override the default hidden behavior on the sphinx rendered scikit-learn.org. See: https://github.com/scikit-learn/scikit-learn/issues/21755 */display: inline-block !important;position: relative;}#sk-container-id-8 div.sk-text-repr-fallback {display: none;}</style><div id=\"sk-container-id-8\" class=\"sk-top-container\"><div class=\"sk-text-repr-fallback\"><pre>RandomizedSearchCV(cv=StratifiedKFold(n_splits=5, random_state=23, shuffle=True),\n",
       "                   estimator=VotingClassifier(estimators=[(&#x27;SVM&#x27;,\n",
       "                                                           SVC(probability=True,\n",
       "                                                               random_state=23)),\n",
       "                                                          (&#x27;LR&#x27;,\n",
       "                                                           LogisticRegression()),\n",
       "                                                          (&#x27;DTC&#x27;,\n",
       "                                                           DecisionTreeClassifier())],\n",
       "                                              voting=&#x27;soft&#x27;),\n",
       "                   n_iter=50,\n",
       "                   param_distributions={&#x27;DTC__max_depth&#x27;: [2, 3, 4, 5, 6, None],\n",
       "                                        &#x27;DTC__min_samples_leaf&#x27;: [1, 3, 5, 7,\n",
       "                                                                  10, 15],\n",
       "                                        &#x27;DTC__min_samples_split&#x27;: [2, 5, 10],\n",
       "                                        &#x27;LR__multi_class&#x27;: [&#x27;multimodel&#x27;,\n",
       "                                                            &#x27;ovr&#x27;],\n",
       "                                        &#x27;LR__penalty&#x27;: [&#x27;l1&#x27;, &#x27;l2&#x27;,\n",
       "                                                        &#x27;elasticnet&#x27;, None],\n",
       "                                        &#x27;SVM__C&#x27;: array([1.00000e-03, 1.25075e+00, 2.50050e+00, 3.75025e+00, 5.00000e+00]),\n",
       "                                        &#x27;SVM__gamma&#x27;: [&#x27;scale&#x27;, &#x27;auto&#x27;]},\n",
       "                   scoring=&#x27;neg_log_loss&#x27;, verbose=3)</pre><b>In a Jupyter environment, please rerun this cell to show the HTML representation or trust the notebook. <br />On GitHub, the HTML representation is unable to render, please try loading this page with nbviewer.org.</b></div><div class=\"sk-container\" hidden><div class=\"sk-item sk-dashed-wrapped\"><div class=\"sk-label-container\"><div class=\"sk-label sk-toggleable\"><input class=\"sk-toggleable__control sk-hidden--visually\" id=\"sk-estimator-id-30\" type=\"checkbox\" ><label for=\"sk-estimator-id-30\" class=\"sk-toggleable__label sk-toggleable__label-arrow\">RandomizedSearchCV</label><div class=\"sk-toggleable__content\"><pre>RandomizedSearchCV(cv=StratifiedKFold(n_splits=5, random_state=23, shuffle=True),\n",
       "                   estimator=VotingClassifier(estimators=[(&#x27;SVM&#x27;,\n",
       "                                                           SVC(probability=True,\n",
       "                                                               random_state=23)),\n",
       "                                                          (&#x27;LR&#x27;,\n",
       "                                                           LogisticRegression()),\n",
       "                                                          (&#x27;DTC&#x27;,\n",
       "                                                           DecisionTreeClassifier())],\n",
       "                                              voting=&#x27;soft&#x27;),\n",
       "                   n_iter=50,\n",
       "                   param_distributions={&#x27;DTC__max_depth&#x27;: [2, 3, 4, 5, 6, None],\n",
       "                                        &#x27;DTC__min_samples_leaf&#x27;: [1, 3, 5, 7,\n",
       "                                                                  10, 15],\n",
       "                                        &#x27;DTC__min_samples_split&#x27;: [2, 5, 10],\n",
       "                                        &#x27;LR__multi_class&#x27;: [&#x27;multimodel&#x27;,\n",
       "                                                            &#x27;ovr&#x27;],\n",
       "                                        &#x27;LR__penalty&#x27;: [&#x27;l1&#x27;, &#x27;l2&#x27;,\n",
       "                                                        &#x27;elasticnet&#x27;, None],\n",
       "                                        &#x27;SVM__C&#x27;: array([1.00000e-03, 1.25075e+00, 2.50050e+00, 3.75025e+00, 5.00000e+00]),\n",
       "                                        &#x27;SVM__gamma&#x27;: [&#x27;scale&#x27;, &#x27;auto&#x27;]},\n",
       "                   scoring=&#x27;neg_log_loss&#x27;, verbose=3)</pre></div></div></div><div class=\"sk-parallel\"><div class=\"sk-parallel-item\"><div class=\"sk-item\"><div class=\"sk-label-container\"><div class=\"sk-label sk-toggleable\"><input class=\"sk-toggleable__control sk-hidden--visually\" id=\"sk-estimator-id-31\" type=\"checkbox\" ><label for=\"sk-estimator-id-31\" class=\"sk-toggleable__label sk-toggleable__label-arrow\">estimator: VotingClassifier</label><div class=\"sk-toggleable__content\"><pre>VotingClassifier(estimators=[(&#x27;SVM&#x27;, SVC(probability=True, random_state=23)),\n",
       "                             (&#x27;LR&#x27;, LogisticRegression()),\n",
       "                             (&#x27;DTC&#x27;, DecisionTreeClassifier())],\n",
       "                 voting=&#x27;soft&#x27;)</pre></div></div></div><div class=\"sk-serial\"><div class=\"sk-item sk-dashed-wrapped\"><div class=\"sk-parallel\"><div class=\"sk-parallel-item\"><div class=\"sk-item\"><div class=\"sk-label-container\"><div class=\"sk-label sk-toggleable\"><label>SVM</label></div></div><div class=\"sk-serial\"><div class=\"sk-item\"><div class=\"sk-estimator sk-toggleable\"><input class=\"sk-toggleable__control sk-hidden--visually\" id=\"sk-estimator-id-32\" type=\"checkbox\" ><label for=\"sk-estimator-id-32\" class=\"sk-toggleable__label sk-toggleable__label-arrow\">SVC</label><div class=\"sk-toggleable__content\"><pre>SVC(probability=True, random_state=23)</pre></div></div></div></div></div></div><div class=\"sk-parallel-item\"><div class=\"sk-item\"><div class=\"sk-label-container\"><div class=\"sk-label sk-toggleable\"><label>LR</label></div></div><div class=\"sk-serial\"><div class=\"sk-item\"><div class=\"sk-estimator sk-toggleable\"><input class=\"sk-toggleable__control sk-hidden--visually\" id=\"sk-estimator-id-33\" type=\"checkbox\" ><label for=\"sk-estimator-id-33\" class=\"sk-toggleable__label sk-toggleable__label-arrow\">LogisticRegression</label><div class=\"sk-toggleable__content\"><pre>LogisticRegression()</pre></div></div></div></div></div></div><div class=\"sk-parallel-item\"><div class=\"sk-item\"><div class=\"sk-label-container\"><div class=\"sk-label sk-toggleable\"><label>DTC</label></div></div><div class=\"sk-serial\"><div class=\"sk-item\"><div class=\"sk-estimator sk-toggleable\"><input class=\"sk-toggleable__control sk-hidden--visually\" id=\"sk-estimator-id-34\" type=\"checkbox\" ><label for=\"sk-estimator-id-34\" class=\"sk-toggleable__label sk-toggleable__label-arrow\">DecisionTreeClassifier</label><div class=\"sk-toggleable__content\"><pre>DecisionTreeClassifier()</pre></div></div></div></div></div></div></div></div></div></div></div></div></div></div></div>"
      ],
      "text/plain": [
       "RandomizedSearchCV(cv=StratifiedKFold(n_splits=5, random_state=23, shuffle=True),\n",
       "                   estimator=VotingClassifier(estimators=[('SVM',\n",
       "                                                           SVC(probability=True,\n",
       "                                                               random_state=23)),\n",
       "                                                          ('LR',\n",
       "                                                           LogisticRegression()),\n",
       "                                                          ('DTC',\n",
       "                                                           DecisionTreeClassifier())],\n",
       "                                              voting='soft'),\n",
       "                   n_iter=50,\n",
       "                   param_distributions={'DTC__max_depth': [2, 3, 4, 5, 6, None],\n",
       "                                        'DTC__min_samples_leaf': [1, 3, 5, 7,\n",
       "                                                                  10, 15],\n",
       "                                        'DTC__min_samples_split': [2, 5, 10],\n",
       "                                        'LR__multi_class': ['multimodel',\n",
       "                                                            'ovr'],\n",
       "                                        'LR__penalty': ['l1', 'l2',\n",
       "                                                        'elasticnet', None],\n",
       "                                        'SVM__C': array([1.00000e-03, 1.25075e+00, 2.50050e+00, 3.75025e+00, 5.00000e+00]),\n",
       "                                        'SVM__gamma': ['scale', 'auto']},\n",
       "                   scoring='neg_log_loss', verbose=3)"
      ]
     },
     "execution_count": 60,
     "metadata": {},
     "output_type": "execute_result"
    }
   ],
   "source": [
    "rgcv.fit(X,y)"
   ]
  },
  {
   "cell_type": "code",
   "execution_count": 61,
   "id": "e27d84a1",
   "metadata": {},
   "outputs": [],
   "source": [
    "unweighted_ll=rgcv.best_score_"
   ]
  },
  {
   "cell_type": "code",
   "execution_count": 62,
   "id": "783e8560",
   "metadata": {},
   "outputs": [
    {
     "name": "stdout",
     "output_type": "stream",
     "text": [
      "unweighted -0.3956127159926913\n",
      "SVM -0.622653795419567\n",
      "LR -0.6730538927927027\n",
      "NB -0.963501969636304\n"
     ]
    }
   ],
   "source": [
    "print(\"unweighted\",unweighted_ll)\n",
    "print(\"SVM\",svm_ll)\n",
    "print(\"LR\",lr_ll)\n",
    "print(\"NB\",dtc_ll)"
   ]
  },
  {
   "cell_type": "markdown",
   "id": "12c024c5",
   "metadata": {},
   "source": [
    "# weighted ensemble"
   ]
  },
  {
   "cell_type": "code",
   "execution_count": 63,
   "id": "12b1dcaf",
   "metadata": {},
   "outputs": [],
   "source": [
    "voting=VotingClassifier(estimators=[('SVM',svm),('LR',lr),('DTC',dtc)],voting=\"soft\",weights=[0.45,0.35,0.2])"
   ]
  },
  {
   "cell_type": "code",
   "execution_count": 64,
   "id": "cb33e9d6",
   "metadata": {},
   "outputs": [],
   "source": [
    "params={'SVM__gamma': ['scale','auto'],'SVM__C':np.linspace(0.001,5,5),'LR__penalty':['l1','l2','elasticnet',None],'LR__multi_class':['multimodel','ovr'] ,'DTC__max_depth':[2,3,4,5,6,None],'DTC__min_samples_leaf':[1,3,5,7,10,15],'DTC__min_samples_split': [2,5,10]}"
   ]
  },
  {
   "cell_type": "code",
   "execution_count": 65,
   "id": "98da56f2",
   "metadata": {},
   "outputs": [],
   "source": [
    "rgcv=RandomizedSearchCV(voting,param_distributions=params,verbose=3,cv=kfold,scoring='neg_log_loss',n_iter=50)"
   ]
  },
  {
   "cell_type": "code",
   "execution_count": 66,
   "id": "baab6286",
   "metadata": {},
   "outputs": [
    {
     "name": "stdout",
     "output_type": "stream",
     "text": [
      "Fitting 5 folds for each of 50 candidates, totalling 250 fits\n",
      "[CV 1/5] END DTC__max_depth=4, DTC__min_samples_leaf=5, DTC__min_samples_split=10, LR__multi_class=multimodel, LR__penalty=None, SVM__C=0.001, SVM__gamma=scale;, score=nan total time=   0.0s\n",
      "[CV 2/5] END DTC__max_depth=4, DTC__min_samples_leaf=5, DTC__min_samples_split=10, LR__multi_class=multimodel, LR__penalty=None, SVM__C=0.001, SVM__gamma=scale;, score=nan total time=   0.0s\n",
      "[CV 3/5] END DTC__max_depth=4, DTC__min_samples_leaf=5, DTC__min_samples_split=10, LR__multi_class=multimodel, LR__penalty=None, SVM__C=0.001, SVM__gamma=scale;, score=nan total time=   0.0s\n",
      "[CV 4/5] END DTC__max_depth=4, DTC__min_samples_leaf=5, DTC__min_samples_split=10, LR__multi_class=multimodel, LR__penalty=None, SVM__C=0.001, SVM__gamma=scale;, score=nan total time=   0.0s\n",
      "[CV 5/5] END DTC__max_depth=4, DTC__min_samples_leaf=5, DTC__min_samples_split=10, LR__multi_class=multimodel, LR__penalty=None, SVM__C=0.001, SVM__gamma=scale;, score=nan total time=   0.0s\n",
      "[CV 1/5] END DTC__max_depth=4, DTC__min_samples_leaf=7, DTC__min_samples_split=2, LR__multi_class=ovr, LR__penalty=elasticnet, SVM__C=2.5004999999999997, SVM__gamma=scale;, score=nan total time=   0.0s\n",
      "[CV 2/5] END DTC__max_depth=4, DTC__min_samples_leaf=7, DTC__min_samples_split=2, LR__multi_class=ovr, LR__penalty=elasticnet, SVM__C=2.5004999999999997, SVM__gamma=scale;, score=nan total time=   0.0s\n",
      "[CV 3/5] END DTC__max_depth=4, DTC__min_samples_leaf=7, DTC__min_samples_split=2, LR__multi_class=ovr, LR__penalty=elasticnet, SVM__C=2.5004999999999997, SVM__gamma=scale;, score=nan total time=   0.0s\n",
      "[CV 4/5] END DTC__max_depth=4, DTC__min_samples_leaf=7, DTC__min_samples_split=2, LR__multi_class=ovr, LR__penalty=elasticnet, SVM__C=2.5004999999999997, SVM__gamma=scale;, score=nan total time=   0.0s\n",
      "[CV 5/5] END DTC__max_depth=4, DTC__min_samples_leaf=7, DTC__min_samples_split=2, LR__multi_class=ovr, LR__penalty=elasticnet, SVM__C=2.5004999999999997, SVM__gamma=scale;, score=nan total time=   0.0s\n",
      "[CV 1/5] END DTC__max_depth=5, DTC__min_samples_leaf=1, DTC__min_samples_split=5, LR__multi_class=multimodel, LR__penalty=elasticnet, SVM__C=3.75025, SVM__gamma=scale;, score=nan total time=   0.0s\n",
      "[CV 2/5] END DTC__max_depth=5, DTC__min_samples_leaf=1, DTC__min_samples_split=5, LR__multi_class=multimodel, LR__penalty=elasticnet, SVM__C=3.75025, SVM__gamma=scale;, score=nan total time=   0.0s\n",
      "[CV 3/5] END DTC__max_depth=5, DTC__min_samples_leaf=1, DTC__min_samples_split=5, LR__multi_class=multimodel, LR__penalty=elasticnet, SVM__C=3.75025, SVM__gamma=scale;, score=nan total time=   0.0s\n",
      "[CV 4/5] END DTC__max_depth=5, DTC__min_samples_leaf=1, DTC__min_samples_split=5, LR__multi_class=multimodel, LR__penalty=elasticnet, SVM__C=3.75025, SVM__gamma=scale;, score=nan total time=   0.0s\n",
      "[CV 5/5] END DTC__max_depth=5, DTC__min_samples_leaf=1, DTC__min_samples_split=5, LR__multi_class=multimodel, LR__penalty=elasticnet, SVM__C=3.75025, SVM__gamma=scale;, score=nan total time=   0.0s\n",
      "[CV 1/5] END DTC__max_depth=3, DTC__min_samples_leaf=15, DTC__min_samples_split=2, LR__multi_class=multimodel, LR__penalty=None, SVM__C=1.2507499999999998, SVM__gamma=auto;, score=nan total time=   0.0s\n",
      "[CV 2/5] END DTC__max_depth=3, DTC__min_samples_leaf=15, DTC__min_samples_split=2, LR__multi_class=multimodel, LR__penalty=None, SVM__C=1.2507499999999998, SVM__gamma=auto;, score=nan total time=   0.0s\n",
      "[CV 3/5] END DTC__max_depth=3, DTC__min_samples_leaf=15, DTC__min_samples_split=2, LR__multi_class=multimodel, LR__penalty=None, SVM__C=1.2507499999999998, SVM__gamma=auto;, score=nan total time=   0.0s\n",
      "[CV 4/5] END DTC__max_depth=3, DTC__min_samples_leaf=15, DTC__min_samples_split=2, LR__multi_class=multimodel, LR__penalty=None, SVM__C=1.2507499999999998, SVM__gamma=auto;, score=nan total time=   0.0s\n",
      "[CV 5/5] END DTC__max_depth=3, DTC__min_samples_leaf=15, DTC__min_samples_split=2, LR__multi_class=multimodel, LR__penalty=None, SVM__C=1.2507499999999998, SVM__gamma=auto;, score=nan total time=   0.0s\n",
      "[CV 1/5] END DTC__max_depth=3, DTC__min_samples_leaf=3, DTC__min_samples_split=10, LR__multi_class=multimodel, LR__penalty=None, SVM__C=2.5004999999999997, SVM__gamma=scale;, score=nan total time=   0.0s\n",
      "[CV 2/5] END DTC__max_depth=3, DTC__min_samples_leaf=3, DTC__min_samples_split=10, LR__multi_class=multimodel, LR__penalty=None, SVM__C=2.5004999999999997, SVM__gamma=scale;, score=nan total time=   0.0s\n",
      "[CV 3/5] END DTC__max_depth=3, DTC__min_samples_leaf=3, DTC__min_samples_split=10, LR__multi_class=multimodel, LR__penalty=None, SVM__C=2.5004999999999997, SVM__gamma=scale;, score=nan total time=   0.0s\n",
      "[CV 4/5] END DTC__max_depth=3, DTC__min_samples_leaf=3, DTC__min_samples_split=10, LR__multi_class=multimodel, LR__penalty=None, SVM__C=2.5004999999999997, SVM__gamma=scale;, score=nan total time=   0.0s\n",
      "[CV 5/5] END DTC__max_depth=3, DTC__min_samples_leaf=3, DTC__min_samples_split=10, LR__multi_class=multimodel, LR__penalty=None, SVM__C=2.5004999999999997, SVM__gamma=scale;, score=nan total time=   0.0s\n",
      "[CV 1/5] END DTC__max_depth=5, DTC__min_samples_leaf=10, DTC__min_samples_split=2, LR__multi_class=multimodel, LR__penalty=elasticnet, SVM__C=5.0, SVM__gamma=scale;, score=nan total time=   0.0s\n",
      "[CV 2/5] END DTC__max_depth=5, DTC__min_samples_leaf=10, DTC__min_samples_split=2, LR__multi_class=multimodel, LR__penalty=elasticnet, SVM__C=5.0, SVM__gamma=scale;, score=nan total time=   0.0s\n",
      "[CV 3/5] END DTC__max_depth=5, DTC__min_samples_leaf=10, DTC__min_samples_split=2, LR__multi_class=multimodel, LR__penalty=elasticnet, SVM__C=5.0, SVM__gamma=scale;, score=nan total time=   0.0s\n",
      "[CV 4/5] END DTC__max_depth=5, DTC__min_samples_leaf=10, DTC__min_samples_split=2, LR__multi_class=multimodel, LR__penalty=elasticnet, SVM__C=5.0, SVM__gamma=scale;, score=nan total time=   0.0s\n",
      "[CV 5/5] END DTC__max_depth=5, DTC__min_samples_leaf=10, DTC__min_samples_split=2, LR__multi_class=multimodel, LR__penalty=elasticnet, SVM__C=5.0, SVM__gamma=scale;, score=nan total time=   0.0s\n"
     ]
    },
    {
     "name": "stderr",
     "output_type": "stream",
     "text": [
      "/home/dai/anaconda3/lib/python3.11/site-packages/sklearn/linear_model/_logistic.py:460: ConvergenceWarning: lbfgs failed to converge (status=1):\n",
      "STOP: TOTAL NO. of ITERATIONS REACHED LIMIT.\n",
      "\n",
      "Increase the number of iterations (max_iter) or scale the data as shown in:\n",
      "    https://scikit-learn.org/stable/modules/preprocessing.html\n",
      "Please also refer to the documentation for alternative solver options:\n",
      "    https://scikit-learn.org/stable/modules/linear_model.html#logistic-regression\n",
      "  n_iter_i = _check_optimize_result(\n"
     ]
    },
    {
     "name": "stdout",
     "output_type": "stream",
     "text": [
      "[CV 1/5] END DTC__max_depth=6, DTC__min_samples_leaf=3, DTC__min_samples_split=10, LR__multi_class=ovr, LR__penalty=l2, SVM__C=2.5004999999999997, SVM__gamma=auto;, score=-0.673 total time=   0.2s\n",
      "[CV 2/5] END DTC__max_depth=6, DTC__min_samples_leaf=3, DTC__min_samples_split=10, LR__multi_class=ovr, LR__penalty=l2, SVM__C=2.5004999999999997, SVM__gamma=auto;, score=-0.778 total time=   0.2s\n"
     ]
    },
    {
     "name": "stderr",
     "output_type": "stream",
     "text": [
      "/home/dai/anaconda3/lib/python3.11/site-packages/sklearn/linear_model/_logistic.py:460: ConvergenceWarning: lbfgs failed to converge (status=1):\n",
      "STOP: TOTAL NO. of ITERATIONS REACHED LIMIT.\n",
      "\n",
      "Increase the number of iterations (max_iter) or scale the data as shown in:\n",
      "    https://scikit-learn.org/stable/modules/preprocessing.html\n",
      "Please also refer to the documentation for alternative solver options:\n",
      "    https://scikit-learn.org/stable/modules/linear_model.html#logistic-regression\n",
      "  n_iter_i = _check_optimize_result(\n",
      "/home/dai/anaconda3/lib/python3.11/site-packages/sklearn/linear_model/_logistic.py:460: ConvergenceWarning: lbfgs failed to converge (status=1):\n",
      "STOP: TOTAL NO. of ITERATIONS REACHED LIMIT.\n",
      "\n",
      "Increase the number of iterations (max_iter) or scale the data as shown in:\n",
      "    https://scikit-learn.org/stable/modules/preprocessing.html\n",
      "Please also refer to the documentation for alternative solver options:\n",
      "    https://scikit-learn.org/stable/modules/linear_model.html#logistic-regression\n",
      "  n_iter_i = _check_optimize_result(\n"
     ]
    },
    {
     "name": "stdout",
     "output_type": "stream",
     "text": [
      "[CV 3/5] END DTC__max_depth=6, DTC__min_samples_leaf=3, DTC__min_samples_split=10, LR__multi_class=ovr, LR__penalty=l2, SVM__C=2.5004999999999997, SVM__gamma=auto;, score=-0.906 total time=   0.2s\n",
      "[CV 4/5] END DTC__max_depth=6, DTC__min_samples_leaf=3, DTC__min_samples_split=10, LR__multi_class=ovr, LR__penalty=l2, SVM__C=2.5004999999999997, SVM__gamma=auto;, score=-0.757 total time=   0.2s\n"
     ]
    },
    {
     "name": "stderr",
     "output_type": "stream",
     "text": [
      "/home/dai/anaconda3/lib/python3.11/site-packages/sklearn/linear_model/_logistic.py:460: ConvergenceWarning: lbfgs failed to converge (status=1):\n",
      "STOP: TOTAL NO. of ITERATIONS REACHED LIMIT.\n",
      "\n",
      "Increase the number of iterations (max_iter) or scale the data as shown in:\n",
      "    https://scikit-learn.org/stable/modules/preprocessing.html\n",
      "Please also refer to the documentation for alternative solver options:\n",
      "    https://scikit-learn.org/stable/modules/linear_model.html#logistic-regression\n",
      "  n_iter_i = _check_optimize_result(\n",
      "/home/dai/anaconda3/lib/python3.11/site-packages/sklearn/linear_model/_logistic.py:460: ConvergenceWarning: lbfgs failed to converge (status=1):\n",
      "STOP: TOTAL NO. of ITERATIONS REACHED LIMIT.\n",
      "\n",
      "Increase the number of iterations (max_iter) or scale the data as shown in:\n",
      "    https://scikit-learn.org/stable/modules/preprocessing.html\n",
      "Please also refer to the documentation for alternative solver options:\n",
      "    https://scikit-learn.org/stable/modules/linear_model.html#logistic-regression\n",
      "  n_iter_i = _check_optimize_result(\n"
     ]
    },
    {
     "name": "stdout",
     "output_type": "stream",
     "text": [
      "[CV 5/5] END DTC__max_depth=6, DTC__min_samples_leaf=3, DTC__min_samples_split=10, LR__multi_class=ovr, LR__penalty=l2, SVM__C=2.5004999999999997, SVM__gamma=auto;, score=-0.754 total time=   0.2s\n",
      "[CV 1/5] END DTC__max_depth=3, DTC__min_samples_leaf=1, DTC__min_samples_split=5, LR__multi_class=ovr, LR__penalty=elasticnet, SVM__C=5.0, SVM__gamma=auto;, score=nan total time=   0.0s\n",
      "[CV 2/5] END DTC__max_depth=3, DTC__min_samples_leaf=1, DTC__min_samples_split=5, LR__multi_class=ovr, LR__penalty=elasticnet, SVM__C=5.0, SVM__gamma=auto;, score=nan total time=   0.0s\n",
      "[CV 3/5] END DTC__max_depth=3, DTC__min_samples_leaf=1, DTC__min_samples_split=5, LR__multi_class=ovr, LR__penalty=elasticnet, SVM__C=5.0, SVM__gamma=auto;, score=nan total time=   0.0s\n",
      "[CV 4/5] END DTC__max_depth=3, DTC__min_samples_leaf=1, DTC__min_samples_split=5, LR__multi_class=ovr, LR__penalty=elasticnet, SVM__C=5.0, SVM__gamma=auto;, score=nan total time=   0.0s\n",
      "[CV 5/5] END DTC__max_depth=3, DTC__min_samples_leaf=1, DTC__min_samples_split=5, LR__multi_class=ovr, LR__penalty=elasticnet, SVM__C=5.0, SVM__gamma=auto;, score=nan total time=   0.1s\n",
      "[CV 1/5] END DTC__max_depth=5, DTC__min_samples_leaf=15, DTC__min_samples_split=10, LR__multi_class=multimodel, LR__penalty=l2, SVM__C=2.5004999999999997, SVM__gamma=auto;, score=nan total time=   0.1s\n",
      "[CV 2/5] END DTC__max_depth=5, DTC__min_samples_leaf=15, DTC__min_samples_split=10, LR__multi_class=multimodel, LR__penalty=l2, SVM__C=2.5004999999999997, SVM__gamma=auto;, score=nan total time=   0.0s\n",
      "[CV 3/5] END DTC__max_depth=5, DTC__min_samples_leaf=15, DTC__min_samples_split=10, LR__multi_class=multimodel, LR__penalty=l2, SVM__C=2.5004999999999997, SVM__gamma=auto;, score=nan total time=   0.0s\n",
      "[CV 4/5] END DTC__max_depth=5, DTC__min_samples_leaf=15, DTC__min_samples_split=10, LR__multi_class=multimodel, LR__penalty=l2, SVM__C=2.5004999999999997, SVM__gamma=auto;, score=nan total time=   0.0s\n",
      "[CV 5/5] END DTC__max_depth=5, DTC__min_samples_leaf=15, DTC__min_samples_split=10, LR__multi_class=multimodel, LR__penalty=l2, SVM__C=2.5004999999999997, SVM__gamma=auto;, score=nan total time=   0.0s\n"
     ]
    },
    {
     "name": "stderr",
     "output_type": "stream",
     "text": [
      "/home/dai/anaconda3/lib/python3.11/site-packages/sklearn/linear_model/_logistic.py:460: ConvergenceWarning: lbfgs failed to converge (status=1):\n",
      "STOP: TOTAL NO. of ITERATIONS REACHED LIMIT.\n",
      "\n",
      "Increase the number of iterations (max_iter) or scale the data as shown in:\n",
      "    https://scikit-learn.org/stable/modules/preprocessing.html\n",
      "Please also refer to the documentation for alternative solver options:\n",
      "    https://scikit-learn.org/stable/modules/linear_model.html#logistic-regression\n",
      "  n_iter_i = _check_optimize_result(\n",
      "/home/dai/anaconda3/lib/python3.11/site-packages/sklearn/linear_model/_logistic.py:460: ConvergenceWarning: lbfgs failed to converge (status=1):\n",
      "STOP: TOTAL NO. of ITERATIONS REACHED LIMIT.\n",
      "\n",
      "Increase the number of iterations (max_iter) or scale the data as shown in:\n",
      "    https://scikit-learn.org/stable/modules/preprocessing.html\n",
      "Please also refer to the documentation for alternative solver options:\n",
      "    https://scikit-learn.org/stable/modules/linear_model.html#logistic-regression\n",
      "  n_iter_i = _check_optimize_result(\n"
     ]
    },
    {
     "name": "stdout",
     "output_type": "stream",
     "text": [
      "[CV 1/5] END DTC__max_depth=3, DTC__min_samples_leaf=10, DTC__min_samples_split=10, LR__multi_class=ovr, LR__penalty=l2, SVM__C=5.0, SVM__gamma=scale;, score=-0.424 total time=   0.2s\n",
      "[CV 2/5] END DTC__max_depth=3, DTC__min_samples_leaf=10, DTC__min_samples_split=10, LR__multi_class=ovr, LR__penalty=l2, SVM__C=5.0, SVM__gamma=scale;, score=-0.534 total time=   0.2s\n"
     ]
    },
    {
     "name": "stderr",
     "output_type": "stream",
     "text": [
      "/home/dai/anaconda3/lib/python3.11/site-packages/sklearn/linear_model/_logistic.py:460: ConvergenceWarning: lbfgs failed to converge (status=1):\n",
      "STOP: TOTAL NO. of ITERATIONS REACHED LIMIT.\n",
      "\n",
      "Increase the number of iterations (max_iter) or scale the data as shown in:\n",
      "    https://scikit-learn.org/stable/modules/preprocessing.html\n",
      "Please also refer to the documentation for alternative solver options:\n",
      "    https://scikit-learn.org/stable/modules/linear_model.html#logistic-regression\n",
      "  n_iter_i = _check_optimize_result(\n",
      "/home/dai/anaconda3/lib/python3.11/site-packages/sklearn/linear_model/_logistic.py:460: ConvergenceWarning: lbfgs failed to converge (status=1):\n",
      "STOP: TOTAL NO. of ITERATIONS REACHED LIMIT.\n",
      "\n",
      "Increase the number of iterations (max_iter) or scale the data as shown in:\n",
      "    https://scikit-learn.org/stable/modules/preprocessing.html\n",
      "Please also refer to the documentation for alternative solver options:\n",
      "    https://scikit-learn.org/stable/modules/linear_model.html#logistic-regression\n",
      "  n_iter_i = _check_optimize_result(\n"
     ]
    },
    {
     "name": "stdout",
     "output_type": "stream",
     "text": [
      "[CV 3/5] END DTC__max_depth=3, DTC__min_samples_leaf=10, DTC__min_samples_split=10, LR__multi_class=ovr, LR__penalty=l2, SVM__C=5.0, SVM__gamma=scale;, score=-0.628 total time=   0.1s\n",
      "[CV 4/5] END DTC__max_depth=3, DTC__min_samples_leaf=10, DTC__min_samples_split=10, LR__multi_class=ovr, LR__penalty=l2, SVM__C=5.0, SVM__gamma=scale;, score=-0.557 total time=   0.1s\n"
     ]
    },
    {
     "name": "stderr",
     "output_type": "stream",
     "text": [
      "/home/dai/anaconda3/lib/python3.11/site-packages/sklearn/linear_model/_logistic.py:460: ConvergenceWarning: lbfgs failed to converge (status=1):\n",
      "STOP: TOTAL NO. of ITERATIONS REACHED LIMIT.\n",
      "\n",
      "Increase the number of iterations (max_iter) or scale the data as shown in:\n",
      "    https://scikit-learn.org/stable/modules/preprocessing.html\n",
      "Please also refer to the documentation for alternative solver options:\n",
      "    https://scikit-learn.org/stable/modules/linear_model.html#logistic-regression\n",
      "  n_iter_i = _check_optimize_result(\n",
      "/home/dai/anaconda3/lib/python3.11/site-packages/sklearn/linear_model/_logistic.py:460: ConvergenceWarning: lbfgs failed to converge (status=1):\n",
      "STOP: TOTAL NO. of ITERATIONS REACHED LIMIT.\n",
      "\n",
      "Increase the number of iterations (max_iter) or scale the data as shown in:\n",
      "    https://scikit-learn.org/stable/modules/preprocessing.html\n",
      "Please also refer to the documentation for alternative solver options:\n",
      "    https://scikit-learn.org/stable/modules/linear_model.html#logistic-regression\n",
      "  n_iter_i = _check_optimize_result(\n"
     ]
    },
    {
     "name": "stdout",
     "output_type": "stream",
     "text": [
      "[CV 5/5] END DTC__max_depth=3, DTC__min_samples_leaf=10, DTC__min_samples_split=10, LR__multi_class=ovr, LR__penalty=l2, SVM__C=5.0, SVM__gamma=scale;, score=-0.475 total time=   0.1s\n",
      "[CV 1/5] END DTC__max_depth=5, DTC__min_samples_leaf=1, DTC__min_samples_split=10, LR__multi_class=ovr, LR__penalty=l2, SVM__C=0.001, SVM__gamma=scale;, score=-0.739 total time=   0.2s\n"
     ]
    },
    {
     "name": "stderr",
     "output_type": "stream",
     "text": [
      "/home/dai/anaconda3/lib/python3.11/site-packages/sklearn/linear_model/_logistic.py:460: ConvergenceWarning: lbfgs failed to converge (status=1):\n",
      "STOP: TOTAL NO. of ITERATIONS REACHED LIMIT.\n",
      "\n",
      "Increase the number of iterations (max_iter) or scale the data as shown in:\n",
      "    https://scikit-learn.org/stable/modules/preprocessing.html\n",
      "Please also refer to the documentation for alternative solver options:\n",
      "    https://scikit-learn.org/stable/modules/linear_model.html#logistic-regression\n",
      "  n_iter_i = _check_optimize_result(\n",
      "/home/dai/anaconda3/lib/python3.11/site-packages/sklearn/linear_model/_logistic.py:460: ConvergenceWarning: lbfgs failed to converge (status=1):\n",
      "STOP: TOTAL NO. of ITERATIONS REACHED LIMIT.\n",
      "\n",
      "Increase the number of iterations (max_iter) or scale the data as shown in:\n",
      "    https://scikit-learn.org/stable/modules/preprocessing.html\n",
      "Please also refer to the documentation for alternative solver options:\n",
      "    https://scikit-learn.org/stable/modules/linear_model.html#logistic-regression\n",
      "  n_iter_i = _check_optimize_result(\n"
     ]
    },
    {
     "name": "stdout",
     "output_type": "stream",
     "text": [
      "[CV 2/5] END DTC__max_depth=5, DTC__min_samples_leaf=1, DTC__min_samples_split=10, LR__multi_class=ovr, LR__penalty=l2, SVM__C=0.001, SVM__gamma=scale;, score=-0.812 total time=   0.2s\n",
      "[CV 3/5] END DTC__max_depth=5, DTC__min_samples_leaf=1, DTC__min_samples_split=10, LR__multi_class=ovr, LR__penalty=l2, SVM__C=0.001, SVM__gamma=scale;, score=-0.897 total time=   0.2s\n"
     ]
    },
    {
     "name": "stderr",
     "output_type": "stream",
     "text": [
      "/home/dai/anaconda3/lib/python3.11/site-packages/sklearn/linear_model/_logistic.py:460: ConvergenceWarning: lbfgs failed to converge (status=1):\n",
      "STOP: TOTAL NO. of ITERATIONS REACHED LIMIT.\n",
      "\n",
      "Increase the number of iterations (max_iter) or scale the data as shown in:\n",
      "    https://scikit-learn.org/stable/modules/preprocessing.html\n",
      "Please also refer to the documentation for alternative solver options:\n",
      "    https://scikit-learn.org/stable/modules/linear_model.html#logistic-regression\n",
      "  n_iter_i = _check_optimize_result(\n",
      "/home/dai/anaconda3/lib/python3.11/site-packages/sklearn/linear_model/_logistic.py:460: ConvergenceWarning: lbfgs failed to converge (status=1):\n",
      "STOP: TOTAL NO. of ITERATIONS REACHED LIMIT.\n",
      "\n",
      "Increase the number of iterations (max_iter) or scale the data as shown in:\n",
      "    https://scikit-learn.org/stable/modules/preprocessing.html\n",
      "Please also refer to the documentation for alternative solver options:\n",
      "    https://scikit-learn.org/stable/modules/linear_model.html#logistic-regression\n",
      "  n_iter_i = _check_optimize_result(\n"
     ]
    },
    {
     "name": "stdout",
     "output_type": "stream",
     "text": [
      "[CV 4/5] END DTC__max_depth=5, DTC__min_samples_leaf=1, DTC__min_samples_split=10, LR__multi_class=ovr, LR__penalty=l2, SVM__C=0.001, SVM__gamma=scale;, score=-0.760 total time=   0.2s\n",
      "[CV 5/5] END DTC__max_depth=5, DTC__min_samples_leaf=1, DTC__min_samples_split=10, LR__multi_class=ovr, LR__penalty=l2, SVM__C=0.001, SVM__gamma=scale;, score=-0.759 total time=   0.2s\n",
      "[CV 1/5] END DTC__max_depth=3, DTC__min_samples_leaf=5, DTC__min_samples_split=2, LR__multi_class=multimodel, LR__penalty=l1, SVM__C=5.0, SVM__gamma=scale;, score=nan total time=   0.0s\n",
      "[CV 2/5] END DTC__max_depth=3, DTC__min_samples_leaf=5, DTC__min_samples_split=2, LR__multi_class=multimodel, LR__penalty=l1, SVM__C=5.0, SVM__gamma=scale;, score=nan total time=   0.0s\n",
      "[CV 3/5] END DTC__max_depth=3, DTC__min_samples_leaf=5, DTC__min_samples_split=2, LR__multi_class=multimodel, LR__penalty=l1, SVM__C=5.0, SVM__gamma=scale;, score=nan total time=   0.0s\n",
      "[CV 4/5] END DTC__max_depth=3, DTC__min_samples_leaf=5, DTC__min_samples_split=2, LR__multi_class=multimodel, LR__penalty=l1, SVM__C=5.0, SVM__gamma=scale;, score=nan total time=   0.0s\n",
      "[CV 5/5] END DTC__max_depth=3, DTC__min_samples_leaf=5, DTC__min_samples_split=2, LR__multi_class=multimodel, LR__penalty=l1, SVM__C=5.0, SVM__gamma=scale;, score=nan total time=   0.0s\n",
      "[CV 1/5] END DTC__max_depth=6, DTC__min_samples_leaf=3, DTC__min_samples_split=10, LR__multi_class=multimodel, LR__penalty=elasticnet, SVM__C=3.75025, SVM__gamma=scale;, score=nan total time=   0.0s\n",
      "[CV 2/5] END DTC__max_depth=6, DTC__min_samples_leaf=3, DTC__min_samples_split=10, LR__multi_class=multimodel, LR__penalty=elasticnet, SVM__C=3.75025, SVM__gamma=scale;, score=nan total time=   0.0s\n",
      "[CV 3/5] END DTC__max_depth=6, DTC__min_samples_leaf=3, DTC__min_samples_split=10, LR__multi_class=multimodel, LR__penalty=elasticnet, SVM__C=3.75025, SVM__gamma=scale;, score=nan total time=   0.0s\n",
      "[CV 4/5] END DTC__max_depth=6, DTC__min_samples_leaf=3, DTC__min_samples_split=10, LR__multi_class=multimodel, LR__penalty=elasticnet, SVM__C=3.75025, SVM__gamma=scale;, score=nan total time=   0.0s\n",
      "[CV 5/5] END DTC__max_depth=6, DTC__min_samples_leaf=3, DTC__min_samples_split=10, LR__multi_class=multimodel, LR__penalty=elasticnet, SVM__C=3.75025, SVM__gamma=scale;, score=nan total time=   0.0s\n"
     ]
    },
    {
     "name": "stderr",
     "output_type": "stream",
     "text": [
      "/home/dai/anaconda3/lib/python3.11/site-packages/sklearn/linear_model/_logistic.py:460: ConvergenceWarning: lbfgs failed to converge (status=1):\n",
      "STOP: TOTAL NO. of ITERATIONS REACHED LIMIT.\n",
      "\n",
      "Increase the number of iterations (max_iter) or scale the data as shown in:\n",
      "    https://scikit-learn.org/stable/modules/preprocessing.html\n",
      "Please also refer to the documentation for alternative solver options:\n",
      "    https://scikit-learn.org/stable/modules/linear_model.html#logistic-regression\n",
      "  n_iter_i = _check_optimize_result(\n",
      "/home/dai/anaconda3/lib/python3.11/site-packages/sklearn/linear_model/_logistic.py:460: ConvergenceWarning: lbfgs failed to converge (status=1):\n",
      "STOP: TOTAL NO. of ITERATIONS REACHED LIMIT.\n",
      "\n",
      "Increase the number of iterations (max_iter) or scale the data as shown in:\n",
      "    https://scikit-learn.org/stable/modules/preprocessing.html\n",
      "Please also refer to the documentation for alternative solver options:\n",
      "    https://scikit-learn.org/stable/modules/linear_model.html#logistic-regression\n",
      "  n_iter_i = _check_optimize_result(\n"
     ]
    },
    {
     "name": "stdout",
     "output_type": "stream",
     "text": [
      "[CV 1/5] END DTC__max_depth=3, DTC__min_samples_leaf=10, DTC__min_samples_split=10, LR__multi_class=ovr, LR__penalty=None, SVM__C=5.0, SVM__gamma=auto;, score=-0.878 total time=   0.1s\n",
      "[CV 2/5] END DTC__max_depth=3, DTC__min_samples_leaf=10, DTC__min_samples_split=10, LR__multi_class=ovr, LR__penalty=None, SVM__C=5.0, SVM__gamma=auto;, score=-0.958 total time=   0.1s\n"
     ]
    },
    {
     "name": "stderr",
     "output_type": "stream",
     "text": [
      "/home/dai/anaconda3/lib/python3.11/site-packages/sklearn/linear_model/_logistic.py:460: ConvergenceWarning: lbfgs failed to converge (status=1):\n",
      "STOP: TOTAL NO. of ITERATIONS REACHED LIMIT.\n",
      "\n",
      "Increase the number of iterations (max_iter) or scale the data as shown in:\n",
      "    https://scikit-learn.org/stable/modules/preprocessing.html\n",
      "Please also refer to the documentation for alternative solver options:\n",
      "    https://scikit-learn.org/stable/modules/linear_model.html#logistic-regression\n",
      "  n_iter_i = _check_optimize_result(\n",
      "/home/dai/anaconda3/lib/python3.11/site-packages/sklearn/linear_model/_logistic.py:460: ConvergenceWarning: lbfgs failed to converge (status=1):\n",
      "STOP: TOTAL NO. of ITERATIONS REACHED LIMIT.\n",
      "\n",
      "Increase the number of iterations (max_iter) or scale the data as shown in:\n",
      "    https://scikit-learn.org/stable/modules/preprocessing.html\n",
      "Please also refer to the documentation for alternative solver options:\n",
      "    https://scikit-learn.org/stable/modules/linear_model.html#logistic-regression\n",
      "  n_iter_i = _check_optimize_result(\n"
     ]
    },
    {
     "name": "stdout",
     "output_type": "stream",
     "text": [
      "[CV 3/5] END DTC__max_depth=3, DTC__min_samples_leaf=10, DTC__min_samples_split=10, LR__multi_class=ovr, LR__penalty=None, SVM__C=5.0, SVM__gamma=auto;, score=-1.019 total time=   0.1s\n",
      "[CV 4/5] END DTC__max_depth=3, DTC__min_samples_leaf=10, DTC__min_samples_split=10, LR__multi_class=ovr, LR__penalty=None, SVM__C=5.0, SVM__gamma=auto;, score=-0.851 total time=   0.1s\n"
     ]
    },
    {
     "name": "stderr",
     "output_type": "stream",
     "text": [
      "/home/dai/anaconda3/lib/python3.11/site-packages/sklearn/linear_model/_logistic.py:460: ConvergenceWarning: lbfgs failed to converge (status=1):\n",
      "STOP: TOTAL NO. of ITERATIONS REACHED LIMIT.\n",
      "\n",
      "Increase the number of iterations (max_iter) or scale the data as shown in:\n",
      "    https://scikit-learn.org/stable/modules/preprocessing.html\n",
      "Please also refer to the documentation for alternative solver options:\n",
      "    https://scikit-learn.org/stable/modules/linear_model.html#logistic-regression\n",
      "  n_iter_i = _check_optimize_result(\n",
      "/home/dai/anaconda3/lib/python3.11/site-packages/sklearn/linear_model/_logistic.py:460: ConvergenceWarning: lbfgs failed to converge (status=1):\n",
      "STOP: TOTAL NO. of ITERATIONS REACHED LIMIT.\n",
      "\n",
      "Increase the number of iterations (max_iter) or scale the data as shown in:\n",
      "    https://scikit-learn.org/stable/modules/preprocessing.html\n",
      "Please also refer to the documentation for alternative solver options:\n",
      "    https://scikit-learn.org/stable/modules/linear_model.html#logistic-regression\n",
      "  n_iter_i = _check_optimize_result(\n"
     ]
    },
    {
     "name": "stdout",
     "output_type": "stream",
     "text": [
      "[CV 5/5] END DTC__max_depth=3, DTC__min_samples_leaf=10, DTC__min_samples_split=10, LR__multi_class=ovr, LR__penalty=None, SVM__C=5.0, SVM__gamma=auto;, score=-0.870 total time=   0.1s\n",
      "[CV 1/5] END DTC__max_depth=3, DTC__min_samples_leaf=5, DTC__min_samples_split=2, LR__multi_class=ovr, LR__penalty=None, SVM__C=2.5004999999999997, SVM__gamma=auto;, score=-0.878 total time=   0.2s\n"
     ]
    },
    {
     "name": "stderr",
     "output_type": "stream",
     "text": [
      "/home/dai/anaconda3/lib/python3.11/site-packages/sklearn/linear_model/_logistic.py:460: ConvergenceWarning: lbfgs failed to converge (status=1):\n",
      "STOP: TOTAL NO. of ITERATIONS REACHED LIMIT.\n",
      "\n",
      "Increase the number of iterations (max_iter) or scale the data as shown in:\n",
      "    https://scikit-learn.org/stable/modules/preprocessing.html\n",
      "Please also refer to the documentation for alternative solver options:\n",
      "    https://scikit-learn.org/stable/modules/linear_model.html#logistic-regression\n",
      "  n_iter_i = _check_optimize_result(\n",
      "/home/dai/anaconda3/lib/python3.11/site-packages/sklearn/linear_model/_logistic.py:460: ConvergenceWarning: lbfgs failed to converge (status=1):\n",
      "STOP: TOTAL NO. of ITERATIONS REACHED LIMIT.\n",
      "\n",
      "Increase the number of iterations (max_iter) or scale the data as shown in:\n",
      "    https://scikit-learn.org/stable/modules/preprocessing.html\n",
      "Please also refer to the documentation for alternative solver options:\n",
      "    https://scikit-learn.org/stable/modules/linear_model.html#logistic-regression\n",
      "  n_iter_i = _check_optimize_result(\n"
     ]
    },
    {
     "name": "stdout",
     "output_type": "stream",
     "text": [
      "[CV 2/5] END DTC__max_depth=3, DTC__min_samples_leaf=5, DTC__min_samples_split=2, LR__multi_class=ovr, LR__penalty=None, SVM__C=2.5004999999999997, SVM__gamma=auto;, score=-0.925 total time=   0.2s\n",
      "[CV 3/5] END DTC__max_depth=3, DTC__min_samples_leaf=5, DTC__min_samples_split=2, LR__multi_class=ovr, LR__penalty=None, SVM__C=2.5004999999999997, SVM__gamma=auto;, score=-1.019 total time=   0.2s\n"
     ]
    },
    {
     "name": "stderr",
     "output_type": "stream",
     "text": [
      "/home/dai/anaconda3/lib/python3.11/site-packages/sklearn/linear_model/_logistic.py:460: ConvergenceWarning: lbfgs failed to converge (status=1):\n",
      "STOP: TOTAL NO. of ITERATIONS REACHED LIMIT.\n",
      "\n",
      "Increase the number of iterations (max_iter) or scale the data as shown in:\n",
      "    https://scikit-learn.org/stable/modules/preprocessing.html\n",
      "Please also refer to the documentation for alternative solver options:\n",
      "    https://scikit-learn.org/stable/modules/linear_model.html#logistic-regression\n",
      "  n_iter_i = _check_optimize_result(\n",
      "/home/dai/anaconda3/lib/python3.11/site-packages/sklearn/linear_model/_logistic.py:460: ConvergenceWarning: lbfgs failed to converge (status=1):\n",
      "STOP: TOTAL NO. of ITERATIONS REACHED LIMIT.\n",
      "\n",
      "Increase the number of iterations (max_iter) or scale the data as shown in:\n",
      "    https://scikit-learn.org/stable/modules/preprocessing.html\n",
      "Please also refer to the documentation for alternative solver options:\n",
      "    https://scikit-learn.org/stable/modules/linear_model.html#logistic-regression\n",
      "  n_iter_i = _check_optimize_result(\n"
     ]
    },
    {
     "name": "stdout",
     "output_type": "stream",
     "text": [
      "[CV 4/5] END DTC__max_depth=3, DTC__min_samples_leaf=5, DTC__min_samples_split=2, LR__multi_class=ovr, LR__penalty=None, SVM__C=2.5004999999999997, SVM__gamma=auto;, score=-0.851 total time=   0.1s\n",
      "[CV 5/5] END DTC__max_depth=3, DTC__min_samples_leaf=5, DTC__min_samples_split=2, LR__multi_class=ovr, LR__penalty=None, SVM__C=2.5004999999999997, SVM__gamma=auto;, score=-0.870 total time=   0.1s\n",
      "[CV 1/5] END DTC__max_depth=4, DTC__min_samples_leaf=10, DTC__min_samples_split=5, LR__multi_class=multimodel, LR__penalty=elasticnet, SVM__C=5.0, SVM__gamma=auto;, score=nan total time=   0.0s\n",
      "[CV 2/5] END DTC__max_depth=4, DTC__min_samples_leaf=10, DTC__min_samples_split=5, LR__multi_class=multimodel, LR__penalty=elasticnet, SVM__C=5.0, SVM__gamma=auto;, score=nan total time=   0.0s\n",
      "[CV 3/5] END DTC__max_depth=4, DTC__min_samples_leaf=10, DTC__min_samples_split=5, LR__multi_class=multimodel, LR__penalty=elasticnet, SVM__C=5.0, SVM__gamma=auto;, score=nan total time=   0.0s\n",
      "[CV 4/5] END DTC__max_depth=4, DTC__min_samples_leaf=10, DTC__min_samples_split=5, LR__multi_class=multimodel, LR__penalty=elasticnet, SVM__C=5.0, SVM__gamma=auto;, score=nan total time=   0.0s\n",
      "[CV 5/5] END DTC__max_depth=4, DTC__min_samples_leaf=10, DTC__min_samples_split=5, LR__multi_class=multimodel, LR__penalty=elasticnet, SVM__C=5.0, SVM__gamma=auto;, score=nan total time=   0.0s\n"
     ]
    },
    {
     "name": "stderr",
     "output_type": "stream",
     "text": [
      "/home/dai/anaconda3/lib/python3.11/site-packages/sklearn/linear_model/_logistic.py:460: ConvergenceWarning: lbfgs failed to converge (status=1):\n",
      "STOP: TOTAL NO. of ITERATIONS REACHED LIMIT.\n",
      "\n",
      "Increase the number of iterations (max_iter) or scale the data as shown in:\n",
      "    https://scikit-learn.org/stable/modules/preprocessing.html\n",
      "Please also refer to the documentation for alternative solver options:\n",
      "    https://scikit-learn.org/stable/modules/linear_model.html#logistic-regression\n",
      "  n_iter_i = _check_optimize_result(\n",
      "/home/dai/anaconda3/lib/python3.11/site-packages/sklearn/linear_model/_logistic.py:460: ConvergenceWarning: lbfgs failed to converge (status=1):\n",
      "STOP: TOTAL NO. of ITERATIONS REACHED LIMIT.\n",
      "\n",
      "Increase the number of iterations (max_iter) or scale the data as shown in:\n",
      "    https://scikit-learn.org/stable/modules/preprocessing.html\n",
      "Please also refer to the documentation for alternative solver options:\n",
      "    https://scikit-learn.org/stable/modules/linear_model.html#logistic-regression\n",
      "  n_iter_i = _check_optimize_result(\n"
     ]
    },
    {
     "name": "stdout",
     "output_type": "stream",
     "text": [
      "[CV 1/5] END DTC__max_depth=2, DTC__min_samples_leaf=1, DTC__min_samples_split=10, LR__multi_class=ovr, LR__penalty=None, SVM__C=0.001, SVM__gamma=scale;, score=-0.942 total time=   0.1s\n",
      "[CV 2/5] END DTC__max_depth=2, DTC__min_samples_leaf=1, DTC__min_samples_split=10, LR__multi_class=ovr, LR__penalty=None, SVM__C=0.001, SVM__gamma=scale;, score=-1.044 total time=   0.1s\n"
     ]
    },
    {
     "name": "stderr",
     "output_type": "stream",
     "text": [
      "/home/dai/anaconda3/lib/python3.11/site-packages/sklearn/linear_model/_logistic.py:460: ConvergenceWarning: lbfgs failed to converge (status=1):\n",
      "STOP: TOTAL NO. of ITERATIONS REACHED LIMIT.\n",
      "\n",
      "Increase the number of iterations (max_iter) or scale the data as shown in:\n",
      "    https://scikit-learn.org/stable/modules/preprocessing.html\n",
      "Please also refer to the documentation for alternative solver options:\n",
      "    https://scikit-learn.org/stable/modules/linear_model.html#logistic-regression\n",
      "  n_iter_i = _check_optimize_result(\n",
      "/home/dai/anaconda3/lib/python3.11/site-packages/sklearn/linear_model/_logistic.py:460: ConvergenceWarning: lbfgs failed to converge (status=1):\n",
      "STOP: TOTAL NO. of ITERATIONS REACHED LIMIT.\n",
      "\n",
      "Increase the number of iterations (max_iter) or scale the data as shown in:\n",
      "    https://scikit-learn.org/stable/modules/preprocessing.html\n",
      "Please also refer to the documentation for alternative solver options:\n",
      "    https://scikit-learn.org/stable/modules/linear_model.html#logistic-regression\n",
      "  n_iter_i = _check_optimize_result(\n"
     ]
    },
    {
     "name": "stdout",
     "output_type": "stream",
     "text": [
      "[CV 3/5] END DTC__max_depth=2, DTC__min_samples_leaf=1, DTC__min_samples_split=10, LR__multi_class=ovr, LR__penalty=None, SVM__C=0.001, SVM__gamma=scale;, score=-1.083 total time=   0.1s\n",
      "[CV 4/5] END DTC__max_depth=2, DTC__min_samples_leaf=1, DTC__min_samples_split=10, LR__multi_class=ovr, LR__penalty=None, SVM__C=0.001, SVM__gamma=scale;, score=-0.916 total time=   0.1s\n"
     ]
    },
    {
     "name": "stderr",
     "output_type": "stream",
     "text": [
      "/home/dai/anaconda3/lib/python3.11/site-packages/sklearn/linear_model/_logistic.py:460: ConvergenceWarning: lbfgs failed to converge (status=1):\n",
      "STOP: TOTAL NO. of ITERATIONS REACHED LIMIT.\n",
      "\n",
      "Increase the number of iterations (max_iter) or scale the data as shown in:\n",
      "    https://scikit-learn.org/stable/modules/preprocessing.html\n",
      "Please also refer to the documentation for alternative solver options:\n",
      "    https://scikit-learn.org/stable/modules/linear_model.html#logistic-regression\n",
      "  n_iter_i = _check_optimize_result(\n"
     ]
    },
    {
     "name": "stdout",
     "output_type": "stream",
     "text": [
      "[CV 5/5] END DTC__max_depth=2, DTC__min_samples_leaf=1, DTC__min_samples_split=10, LR__multi_class=ovr, LR__penalty=None, SVM__C=0.001, SVM__gamma=scale;, score=-0.945 total time=   0.1s\n",
      "[CV 1/5] END DTC__max_depth=2, DTC__min_samples_leaf=5, DTC__min_samples_split=2, LR__multi_class=multimodel, LR__penalty=elasticnet, SVM__C=3.75025, SVM__gamma=auto;, score=nan total time=   0.0s\n",
      "[CV 2/5] END DTC__max_depth=2, DTC__min_samples_leaf=5, DTC__min_samples_split=2, LR__multi_class=multimodel, LR__penalty=elasticnet, SVM__C=3.75025, SVM__gamma=auto;, score=nan total time=   0.0s\n",
      "[CV 3/5] END DTC__max_depth=2, DTC__min_samples_leaf=5, DTC__min_samples_split=2, LR__multi_class=multimodel, LR__penalty=elasticnet, SVM__C=3.75025, SVM__gamma=auto;, score=nan total time=   0.0s\n",
      "[CV 4/5] END DTC__max_depth=2, DTC__min_samples_leaf=5, DTC__min_samples_split=2, LR__multi_class=multimodel, LR__penalty=elasticnet, SVM__C=3.75025, SVM__gamma=auto;, score=nan total time=   0.0s\n",
      "[CV 5/5] END DTC__max_depth=2, DTC__min_samples_leaf=5, DTC__min_samples_split=2, LR__multi_class=multimodel, LR__penalty=elasticnet, SVM__C=3.75025, SVM__gamma=auto;, score=nan total time=   0.0s\n",
      "[CV 1/5] END DTC__max_depth=3, DTC__min_samples_leaf=1, DTC__min_samples_split=2, LR__multi_class=ovr, LR__penalty=l1, SVM__C=1.2507499999999998, SVM__gamma=scale;, score=nan total time=   0.0s\n",
      "[CV 2/5] END DTC__max_depth=3, DTC__min_samples_leaf=1, DTC__min_samples_split=2, LR__multi_class=ovr, LR__penalty=l1, SVM__C=1.2507499999999998, SVM__gamma=scale;, score=nan total time=   0.0s\n",
      "[CV 3/5] END DTC__max_depth=3, DTC__min_samples_leaf=1, DTC__min_samples_split=2, LR__multi_class=ovr, LR__penalty=l1, SVM__C=1.2507499999999998, SVM__gamma=scale;, score=nan total time=   0.0s\n",
      "[CV 4/5] END DTC__max_depth=3, DTC__min_samples_leaf=1, DTC__min_samples_split=2, LR__multi_class=ovr, LR__penalty=l1, SVM__C=1.2507499999999998, SVM__gamma=scale;, score=nan total time=   0.0s\n",
      "[CV 5/5] END DTC__max_depth=3, DTC__min_samples_leaf=1, DTC__min_samples_split=2, LR__multi_class=ovr, LR__penalty=l1, SVM__C=1.2507499999999998, SVM__gamma=scale;, score=nan total time=   0.0s\n",
      "[CV 1/5] END DTC__max_depth=3, DTC__min_samples_leaf=7, DTC__min_samples_split=2, LR__multi_class=multimodel, LR__penalty=elasticnet, SVM__C=3.75025, SVM__gamma=scale;, score=nan total time=   0.0s\n",
      "[CV 2/5] END DTC__max_depth=3, DTC__min_samples_leaf=7, DTC__min_samples_split=2, LR__multi_class=multimodel, LR__penalty=elasticnet, SVM__C=3.75025, SVM__gamma=scale;, score=nan total time=   0.0s\n",
      "[CV 3/5] END DTC__max_depth=3, DTC__min_samples_leaf=7, DTC__min_samples_split=2, LR__multi_class=multimodel, LR__penalty=elasticnet, SVM__C=3.75025, SVM__gamma=scale;, score=nan total time=   0.0s\n",
      "[CV 4/5] END DTC__max_depth=3, DTC__min_samples_leaf=7, DTC__min_samples_split=2, LR__multi_class=multimodel, LR__penalty=elasticnet, SVM__C=3.75025, SVM__gamma=scale;, score=nan total time=   0.0s\n",
      "[CV 5/5] END DTC__max_depth=3, DTC__min_samples_leaf=7, DTC__min_samples_split=2, LR__multi_class=multimodel, LR__penalty=elasticnet, SVM__C=3.75025, SVM__gamma=scale;, score=nan total time=   0.0s\n",
      "[CV 1/5] END DTC__max_depth=5, DTC__min_samples_leaf=15, DTC__min_samples_split=10, LR__multi_class=multimodel, LR__penalty=l1, SVM__C=1.2507499999999998, SVM__gamma=auto;, score=nan total time=   0.0s\n",
      "[CV 2/5] END DTC__max_depth=5, DTC__min_samples_leaf=15, DTC__min_samples_split=10, LR__multi_class=multimodel, LR__penalty=l1, SVM__C=1.2507499999999998, SVM__gamma=auto;, score=nan total time=   0.0s\n",
      "[CV 3/5] END DTC__max_depth=5, DTC__min_samples_leaf=15, DTC__min_samples_split=10, LR__multi_class=multimodel, LR__penalty=l1, SVM__C=1.2507499999999998, SVM__gamma=auto;, score=nan total time=   0.0s\n",
      "[CV 4/5] END DTC__max_depth=5, DTC__min_samples_leaf=15, DTC__min_samples_split=10, LR__multi_class=multimodel, LR__penalty=l1, SVM__C=1.2507499999999998, SVM__gamma=auto;, score=nan total time=   0.0s\n",
      "[CV 5/5] END DTC__max_depth=5, DTC__min_samples_leaf=15, DTC__min_samples_split=10, LR__multi_class=multimodel, LR__penalty=l1, SVM__C=1.2507499999999998, SVM__gamma=auto;, score=nan total time=   0.0s\n",
      "[CV 1/5] END DTC__max_depth=2, DTC__min_samples_leaf=1, DTC__min_samples_split=10, LR__multi_class=multimodel, LR__penalty=elasticnet, SVM__C=2.5004999999999997, SVM__gamma=scale;, score=nan total time=   0.0s\n",
      "[CV 2/5] END DTC__max_depth=2, DTC__min_samples_leaf=1, DTC__min_samples_split=10, LR__multi_class=multimodel, LR__penalty=elasticnet, SVM__C=2.5004999999999997, SVM__gamma=scale;, score=nan total time=   0.0s\n",
      "[CV 3/5] END DTC__max_depth=2, DTC__min_samples_leaf=1, DTC__min_samples_split=10, LR__multi_class=multimodel, LR__penalty=elasticnet, SVM__C=2.5004999999999997, SVM__gamma=scale;, score=nan total time=   0.0s\n",
      "[CV 4/5] END DTC__max_depth=2, DTC__min_samples_leaf=1, DTC__min_samples_split=10, LR__multi_class=multimodel, LR__penalty=elasticnet, SVM__C=2.5004999999999997, SVM__gamma=scale;, score=nan total time=   0.0s\n",
      "[CV 5/5] END DTC__max_depth=2, DTC__min_samples_leaf=1, DTC__min_samples_split=10, LR__multi_class=multimodel, LR__penalty=elasticnet, SVM__C=2.5004999999999997, SVM__gamma=scale;, score=nan total time=   0.0s\n",
      "[CV 1/5] END DTC__max_depth=5, DTC__min_samples_leaf=5, DTC__min_samples_split=2, LR__multi_class=ovr, LR__penalty=l1, SVM__C=5.0, SVM__gamma=scale;, score=nan total time=   0.0s\n",
      "[CV 2/5] END DTC__max_depth=5, DTC__min_samples_leaf=5, DTC__min_samples_split=2, LR__multi_class=ovr, LR__penalty=l1, SVM__C=5.0, SVM__gamma=scale;, score=nan total time=   0.0s\n",
      "[CV 3/5] END DTC__max_depth=5, DTC__min_samples_leaf=5, DTC__min_samples_split=2, LR__multi_class=ovr, LR__penalty=l1, SVM__C=5.0, SVM__gamma=scale;, score=nan total time=   0.0s\n",
      "[CV 4/5] END DTC__max_depth=5, DTC__min_samples_leaf=5, DTC__min_samples_split=2, LR__multi_class=ovr, LR__penalty=l1, SVM__C=5.0, SVM__gamma=scale;, score=nan total time=   0.0s\n",
      "[CV 5/5] END DTC__max_depth=5, DTC__min_samples_leaf=5, DTC__min_samples_split=2, LR__multi_class=ovr, LR__penalty=l1, SVM__C=5.0, SVM__gamma=scale;, score=nan total time=   0.0s\n",
      "[CV 1/5] END DTC__max_depth=6, DTC__min_samples_leaf=1, DTC__min_samples_split=10, LR__multi_class=multimodel, LR__penalty=elasticnet, SVM__C=1.2507499999999998, SVM__gamma=scale;, score=nan total time=   0.0s\n",
      "[CV 2/5] END DTC__max_depth=6, DTC__min_samples_leaf=1, DTC__min_samples_split=10, LR__multi_class=multimodel, LR__penalty=elasticnet, SVM__C=1.2507499999999998, SVM__gamma=scale;, score=nan total time=   0.0s\n",
      "[CV 3/5] END DTC__max_depth=6, DTC__min_samples_leaf=1, DTC__min_samples_split=10, LR__multi_class=multimodel, LR__penalty=elasticnet, SVM__C=1.2507499999999998, SVM__gamma=scale;, score=nan total time=   0.0s\n",
      "[CV 4/5] END DTC__max_depth=6, DTC__min_samples_leaf=1, DTC__min_samples_split=10, LR__multi_class=multimodel, LR__penalty=elasticnet, SVM__C=1.2507499999999998, SVM__gamma=scale;, score=nan total time=   0.0s\n",
      "[CV 5/5] END DTC__max_depth=6, DTC__min_samples_leaf=1, DTC__min_samples_split=10, LR__multi_class=multimodel, LR__penalty=elasticnet, SVM__C=1.2507499999999998, SVM__gamma=scale;, score=nan total time=   0.0s\n",
      "[CV 1/5] END DTC__max_depth=3, DTC__min_samples_leaf=15, DTC__min_samples_split=10, LR__multi_class=multimodel, LR__penalty=None, SVM__C=5.0, SVM__gamma=scale;, score=nan total time=   0.0s\n",
      "[CV 2/5] END DTC__max_depth=3, DTC__min_samples_leaf=15, DTC__min_samples_split=10, LR__multi_class=multimodel, LR__penalty=None, SVM__C=5.0, SVM__gamma=scale;, score=nan total time=   0.0s\n",
      "[CV 3/5] END DTC__max_depth=3, DTC__min_samples_leaf=15, DTC__min_samples_split=10, LR__multi_class=multimodel, LR__penalty=None, SVM__C=5.0, SVM__gamma=scale;, score=nan total time=   0.0s\n",
      "[CV 4/5] END DTC__max_depth=3, DTC__min_samples_leaf=15, DTC__min_samples_split=10, LR__multi_class=multimodel, LR__penalty=None, SVM__C=5.0, SVM__gamma=scale;, score=nan total time=   0.0s\n",
      "[CV 5/5] END DTC__max_depth=3, DTC__min_samples_leaf=15, DTC__min_samples_split=10, LR__multi_class=multimodel, LR__penalty=None, SVM__C=5.0, SVM__gamma=scale;, score=nan total time=   0.0s\n",
      "[CV 1/5] END DTC__max_depth=6, DTC__min_samples_leaf=10, DTC__min_samples_split=10, LR__multi_class=multimodel, LR__penalty=l1, SVM__C=5.0, SVM__gamma=scale;, score=nan total time=   0.0s\n",
      "[CV 2/5] END DTC__max_depth=6, DTC__min_samples_leaf=10, DTC__min_samples_split=10, LR__multi_class=multimodel, LR__penalty=l1, SVM__C=5.0, SVM__gamma=scale;, score=nan total time=   0.0s\n",
      "[CV 3/5] END DTC__max_depth=6, DTC__min_samples_leaf=10, DTC__min_samples_split=10, LR__multi_class=multimodel, LR__penalty=l1, SVM__C=5.0, SVM__gamma=scale;, score=nan total time=   0.0s\n",
      "[CV 4/5] END DTC__max_depth=6, DTC__min_samples_leaf=10, DTC__min_samples_split=10, LR__multi_class=multimodel, LR__penalty=l1, SVM__C=5.0, SVM__gamma=scale;, score=nan total time=   0.0s\n"
     ]
    },
    {
     "name": "stdout",
     "output_type": "stream",
     "text": [
      "[CV 5/5] END DTC__max_depth=6, DTC__min_samples_leaf=10, DTC__min_samples_split=10, LR__multi_class=multimodel, LR__penalty=l1, SVM__C=5.0, SVM__gamma=scale;, score=nan total time=   0.0s\n",
      "[CV 1/5] END DTC__max_depth=6, DTC__min_samples_leaf=7, DTC__min_samples_split=2, LR__multi_class=ovr, LR__penalty=None, SVM__C=2.5004999999999997, SVM__gamma=auto;, score=-0.727 total time=   0.1s\n"
     ]
    },
    {
     "name": "stderr",
     "output_type": "stream",
     "text": [
      "/home/dai/anaconda3/lib/python3.11/site-packages/sklearn/linear_model/_logistic.py:460: ConvergenceWarning: lbfgs failed to converge (status=1):\n",
      "STOP: TOTAL NO. of ITERATIONS REACHED LIMIT.\n",
      "\n",
      "Increase the number of iterations (max_iter) or scale the data as shown in:\n",
      "    https://scikit-learn.org/stable/modules/preprocessing.html\n",
      "Please also refer to the documentation for alternative solver options:\n",
      "    https://scikit-learn.org/stable/modules/linear_model.html#logistic-regression\n",
      "  n_iter_i = _check_optimize_result(\n",
      "/home/dai/anaconda3/lib/python3.11/site-packages/sklearn/linear_model/_logistic.py:460: ConvergenceWarning: lbfgs failed to converge (status=1):\n",
      "STOP: TOTAL NO. of ITERATIONS REACHED LIMIT.\n",
      "\n",
      "Increase the number of iterations (max_iter) or scale the data as shown in:\n",
      "    https://scikit-learn.org/stable/modules/preprocessing.html\n",
      "Please also refer to the documentation for alternative solver options:\n",
      "    https://scikit-learn.org/stable/modules/linear_model.html#logistic-regression\n",
      "  n_iter_i = _check_optimize_result(\n"
     ]
    },
    {
     "name": "stdout",
     "output_type": "stream",
     "text": [
      "[CV 2/5] END DTC__max_depth=6, DTC__min_samples_leaf=7, DTC__min_samples_split=2, LR__multi_class=ovr, LR__penalty=None, SVM__C=2.5004999999999997, SVM__gamma=auto;, score=-0.868 total time=   0.1s\n",
      "[CV 3/5] END DTC__max_depth=6, DTC__min_samples_leaf=7, DTC__min_samples_split=2, LR__multi_class=ovr, LR__penalty=None, SVM__C=2.5004999999999997, SVM__gamma=auto;, score=-0.971 total time=   0.1s\n"
     ]
    },
    {
     "name": "stderr",
     "output_type": "stream",
     "text": [
      "/home/dai/anaconda3/lib/python3.11/site-packages/sklearn/linear_model/_logistic.py:460: ConvergenceWarning: lbfgs failed to converge (status=1):\n",
      "STOP: TOTAL NO. of ITERATIONS REACHED LIMIT.\n",
      "\n",
      "Increase the number of iterations (max_iter) or scale the data as shown in:\n",
      "    https://scikit-learn.org/stable/modules/preprocessing.html\n",
      "Please also refer to the documentation for alternative solver options:\n",
      "    https://scikit-learn.org/stable/modules/linear_model.html#logistic-regression\n",
      "  n_iter_i = _check_optimize_result(\n",
      "/home/dai/anaconda3/lib/python3.11/site-packages/sklearn/linear_model/_logistic.py:460: ConvergenceWarning: lbfgs failed to converge (status=1):\n",
      "STOP: TOTAL NO. of ITERATIONS REACHED LIMIT.\n",
      "\n",
      "Increase the number of iterations (max_iter) or scale the data as shown in:\n",
      "    https://scikit-learn.org/stable/modules/preprocessing.html\n",
      "Please also refer to the documentation for alternative solver options:\n",
      "    https://scikit-learn.org/stable/modules/linear_model.html#logistic-regression\n",
      "  n_iter_i = _check_optimize_result(\n"
     ]
    },
    {
     "name": "stdout",
     "output_type": "stream",
     "text": [
      "[CV 4/5] END DTC__max_depth=6, DTC__min_samples_leaf=7, DTC__min_samples_split=2, LR__multi_class=ovr, LR__penalty=None, SVM__C=2.5004999999999997, SVM__gamma=auto;, score=-0.732 total time=   0.1s\n",
      "[CV 5/5] END DTC__max_depth=6, DTC__min_samples_leaf=7, DTC__min_samples_split=2, LR__multi_class=ovr, LR__penalty=None, SVM__C=2.5004999999999997, SVM__gamma=auto;, score=-0.786 total time=   0.1s\n",
      "[CV 1/5] END DTC__max_depth=2, DTC__min_samples_leaf=1, DTC__min_samples_split=10, LR__multi_class=ovr, LR__penalty=elasticnet, SVM__C=0.001, SVM__gamma=auto;, score=nan total time=   0.0s\n"
     ]
    },
    {
     "name": "stderr",
     "output_type": "stream",
     "text": [
      "/home/dai/anaconda3/lib/python3.11/site-packages/sklearn/linear_model/_logistic.py:460: ConvergenceWarning: lbfgs failed to converge (status=1):\n",
      "STOP: TOTAL NO. of ITERATIONS REACHED LIMIT.\n",
      "\n",
      "Increase the number of iterations (max_iter) or scale the data as shown in:\n",
      "    https://scikit-learn.org/stable/modules/preprocessing.html\n",
      "Please also refer to the documentation for alternative solver options:\n",
      "    https://scikit-learn.org/stable/modules/linear_model.html#logistic-regression\n",
      "  n_iter_i = _check_optimize_result(\n"
     ]
    },
    {
     "name": "stdout",
     "output_type": "stream",
     "text": [
      "[CV 2/5] END DTC__max_depth=2, DTC__min_samples_leaf=1, DTC__min_samples_split=10, LR__multi_class=ovr, LR__penalty=elasticnet, SVM__C=0.001, SVM__gamma=auto;, score=nan total time=   0.0s\n",
      "[CV 3/5] END DTC__max_depth=2, DTC__min_samples_leaf=1, DTC__min_samples_split=10, LR__multi_class=ovr, LR__penalty=elasticnet, SVM__C=0.001, SVM__gamma=auto;, score=nan total time=   0.0s\n",
      "[CV 4/5] END DTC__max_depth=2, DTC__min_samples_leaf=1, DTC__min_samples_split=10, LR__multi_class=ovr, LR__penalty=elasticnet, SVM__C=0.001, SVM__gamma=auto;, score=nan total time=   0.0s\n",
      "[CV 5/5] END DTC__max_depth=2, DTC__min_samples_leaf=1, DTC__min_samples_split=10, LR__multi_class=ovr, LR__penalty=elasticnet, SVM__C=0.001, SVM__gamma=auto;, score=nan total time=   0.0s\n",
      "[CV 1/5] END DTC__max_depth=2, DTC__min_samples_leaf=1, DTC__min_samples_split=2, LR__multi_class=multimodel, LR__penalty=l2, SVM__C=0.001, SVM__gamma=scale;, score=nan total time=   0.0s\n",
      "[CV 2/5] END DTC__max_depth=2, DTC__min_samples_leaf=1, DTC__min_samples_split=2, LR__multi_class=multimodel, LR__penalty=l2, SVM__C=0.001, SVM__gamma=scale;, score=nan total time=   0.0s\n",
      "[CV 3/5] END DTC__max_depth=2, DTC__min_samples_leaf=1, DTC__min_samples_split=2, LR__multi_class=multimodel, LR__penalty=l2, SVM__C=0.001, SVM__gamma=scale;, score=nan total time=   0.0s\n",
      "[CV 4/5] END DTC__max_depth=2, DTC__min_samples_leaf=1, DTC__min_samples_split=2, LR__multi_class=multimodel, LR__penalty=l2, SVM__C=0.001, SVM__gamma=scale;, score=nan total time=   0.0s\n",
      "[CV 5/5] END DTC__max_depth=2, DTC__min_samples_leaf=1, DTC__min_samples_split=2, LR__multi_class=multimodel, LR__penalty=l2, SVM__C=0.001, SVM__gamma=scale;, score=nan total time=   0.0s\n",
      "[CV 1/5] END DTC__max_depth=2, DTC__min_samples_leaf=15, DTC__min_samples_split=2, LR__multi_class=multimodel, LR__penalty=None, SVM__C=2.5004999999999997, SVM__gamma=scale;, score=nan total time=   0.0s\n",
      "[CV 2/5] END DTC__max_depth=2, DTC__min_samples_leaf=15, DTC__min_samples_split=2, LR__multi_class=multimodel, LR__penalty=None, SVM__C=2.5004999999999997, SVM__gamma=scale;, score=nan total time=   0.0s\n",
      "[CV 3/5] END DTC__max_depth=2, DTC__min_samples_leaf=15, DTC__min_samples_split=2, LR__multi_class=multimodel, LR__penalty=None, SVM__C=2.5004999999999997, SVM__gamma=scale;, score=nan total time=   0.0s\n",
      "[CV 4/5] END DTC__max_depth=2, DTC__min_samples_leaf=15, DTC__min_samples_split=2, LR__multi_class=multimodel, LR__penalty=None, SVM__C=2.5004999999999997, SVM__gamma=scale;, score=nan total time=   0.0s\n",
      "[CV 5/5] END DTC__max_depth=2, DTC__min_samples_leaf=15, DTC__min_samples_split=2, LR__multi_class=multimodel, LR__penalty=None, SVM__C=2.5004999999999997, SVM__gamma=scale;, score=nan total time=   0.0s\n"
     ]
    },
    {
     "name": "stderr",
     "output_type": "stream",
     "text": [
      "/home/dai/anaconda3/lib/python3.11/site-packages/sklearn/linear_model/_logistic.py:460: ConvergenceWarning: lbfgs failed to converge (status=1):\n",
      "STOP: TOTAL NO. of ITERATIONS REACHED LIMIT.\n",
      "\n",
      "Increase the number of iterations (max_iter) or scale the data as shown in:\n",
      "    https://scikit-learn.org/stable/modules/preprocessing.html\n",
      "Please also refer to the documentation for alternative solver options:\n",
      "    https://scikit-learn.org/stable/modules/linear_model.html#logistic-regression\n",
      "  n_iter_i = _check_optimize_result(\n",
      "/home/dai/anaconda3/lib/python3.11/site-packages/sklearn/linear_model/_logistic.py:460: ConvergenceWarning: lbfgs failed to converge (status=1):\n",
      "STOP: TOTAL NO. of ITERATIONS REACHED LIMIT.\n",
      "\n",
      "Increase the number of iterations (max_iter) or scale the data as shown in:\n",
      "    https://scikit-learn.org/stable/modules/preprocessing.html\n",
      "Please also refer to the documentation for alternative solver options:\n",
      "    https://scikit-learn.org/stable/modules/linear_model.html#logistic-regression\n",
      "  n_iter_i = _check_optimize_result(\n"
     ]
    },
    {
     "name": "stdout",
     "output_type": "stream",
     "text": [
      "[CV 1/5] END DTC__max_depth=None, DTC__min_samples_leaf=15, DTC__min_samples_split=5, LR__multi_class=ovr, LR__penalty=l2, SVM__C=2.5004999999999997, SVM__gamma=auto;, score=-0.739 total time=   0.2s\n",
      "[CV 2/5] END DTC__max_depth=None, DTC__min_samples_leaf=15, DTC__min_samples_split=5, LR__multi_class=ovr, LR__penalty=l2, SVM__C=2.5004999999999997, SVM__gamma=auto;, score=-0.806 total time=   0.2s\n"
     ]
    },
    {
     "name": "stderr",
     "output_type": "stream",
     "text": [
      "/home/dai/anaconda3/lib/python3.11/site-packages/sklearn/linear_model/_logistic.py:460: ConvergenceWarning: lbfgs failed to converge (status=1):\n",
      "STOP: TOTAL NO. of ITERATIONS REACHED LIMIT.\n",
      "\n",
      "Increase the number of iterations (max_iter) or scale the data as shown in:\n",
      "    https://scikit-learn.org/stable/modules/preprocessing.html\n",
      "Please also refer to the documentation for alternative solver options:\n",
      "    https://scikit-learn.org/stable/modules/linear_model.html#logistic-regression\n",
      "  n_iter_i = _check_optimize_result(\n",
      "/home/dai/anaconda3/lib/python3.11/site-packages/sklearn/linear_model/_logistic.py:460: ConvergenceWarning: lbfgs failed to converge (status=1):\n",
      "STOP: TOTAL NO. of ITERATIONS REACHED LIMIT.\n",
      "\n",
      "Increase the number of iterations (max_iter) or scale the data as shown in:\n",
      "    https://scikit-learn.org/stable/modules/preprocessing.html\n",
      "Please also refer to the documentation for alternative solver options:\n",
      "    https://scikit-learn.org/stable/modules/linear_model.html#logistic-regression\n",
      "  n_iter_i = _check_optimize_result(\n"
     ]
    },
    {
     "name": "stdout",
     "output_type": "stream",
     "text": [
      "[CV 3/5] END DTC__max_depth=None, DTC__min_samples_leaf=15, DTC__min_samples_split=5, LR__multi_class=ovr, LR__penalty=l2, SVM__C=2.5004999999999997, SVM__gamma=auto;, score=-0.910 total time=   0.2s\n",
      "[CV 4/5] END DTC__max_depth=None, DTC__min_samples_leaf=15, DTC__min_samples_split=5, LR__multi_class=ovr, LR__penalty=l2, SVM__C=2.5004999999999997, SVM__gamma=auto;, score=-0.781 total time=   0.2s\n"
     ]
    },
    {
     "name": "stderr",
     "output_type": "stream",
     "text": [
      "/home/dai/anaconda3/lib/python3.11/site-packages/sklearn/linear_model/_logistic.py:460: ConvergenceWarning: lbfgs failed to converge (status=1):\n",
      "STOP: TOTAL NO. of ITERATIONS REACHED LIMIT.\n",
      "\n",
      "Increase the number of iterations (max_iter) or scale the data as shown in:\n",
      "    https://scikit-learn.org/stable/modules/preprocessing.html\n",
      "Please also refer to the documentation for alternative solver options:\n",
      "    https://scikit-learn.org/stable/modules/linear_model.html#logistic-regression\n",
      "  n_iter_i = _check_optimize_result(\n"
     ]
    },
    {
     "name": "stdout",
     "output_type": "stream",
     "text": [
      "[CV 5/5] END DTC__max_depth=None, DTC__min_samples_leaf=15, DTC__min_samples_split=5, LR__multi_class=ovr, LR__penalty=l2, SVM__C=2.5004999999999997, SVM__gamma=auto;, score=-0.752 total time=   0.2s\n",
      "[CV 1/5] END DTC__max_depth=5, DTC__min_samples_leaf=1, DTC__min_samples_split=10, LR__multi_class=ovr, LR__penalty=l1, SVM__C=2.5004999999999997, SVM__gamma=auto;, score=nan total time=   0.0s\n",
      "[CV 2/5] END DTC__max_depth=5, DTC__min_samples_leaf=1, DTC__min_samples_split=10, LR__multi_class=ovr, LR__penalty=l1, SVM__C=2.5004999999999997, SVM__gamma=auto;, score=nan total time=   0.0s\n",
      "[CV 3/5] END DTC__max_depth=5, DTC__min_samples_leaf=1, DTC__min_samples_split=10, LR__multi_class=ovr, LR__penalty=l1, SVM__C=2.5004999999999997, SVM__gamma=auto;, score=nan total time=   0.0s\n",
      "[CV 4/5] END DTC__max_depth=5, DTC__min_samples_leaf=1, DTC__min_samples_split=10, LR__multi_class=ovr, LR__penalty=l1, SVM__C=2.5004999999999997, SVM__gamma=auto;, score=nan total time=   0.0s\n",
      "[CV 5/5] END DTC__max_depth=5, DTC__min_samples_leaf=1, DTC__min_samples_split=10, LR__multi_class=ovr, LR__penalty=l1, SVM__C=2.5004999999999997, SVM__gamma=auto;, score=nan total time=   0.0s\n",
      "[CV 1/5] END DTC__max_depth=5, DTC__min_samples_leaf=5, DTC__min_samples_split=5, LR__multi_class=ovr, LR__penalty=None, SVM__C=3.75025, SVM__gamma=auto;, score=-0.779 total time=   0.1s\n"
     ]
    },
    {
     "name": "stderr",
     "output_type": "stream",
     "text": [
      "/home/dai/anaconda3/lib/python3.11/site-packages/sklearn/linear_model/_logistic.py:460: ConvergenceWarning: lbfgs failed to converge (status=1):\n",
      "STOP: TOTAL NO. of ITERATIONS REACHED LIMIT.\n",
      "\n",
      "Increase the number of iterations (max_iter) or scale the data as shown in:\n",
      "    https://scikit-learn.org/stable/modules/preprocessing.html\n",
      "Please also refer to the documentation for alternative solver options:\n",
      "    https://scikit-learn.org/stable/modules/linear_model.html#logistic-regression\n",
      "  n_iter_i = _check_optimize_result(\n",
      "/home/dai/anaconda3/lib/python3.11/site-packages/sklearn/linear_model/_logistic.py:460: ConvergenceWarning: lbfgs failed to converge (status=1):\n",
      "STOP: TOTAL NO. of ITERATIONS REACHED LIMIT.\n",
      "\n",
      "Increase the number of iterations (max_iter) or scale the data as shown in:\n",
      "    https://scikit-learn.org/stable/modules/preprocessing.html\n",
      "Please also refer to the documentation for alternative solver options:\n",
      "    https://scikit-learn.org/stable/modules/linear_model.html#logistic-regression\n",
      "  n_iter_i = _check_optimize_result(\n"
     ]
    },
    {
     "name": "stdout",
     "output_type": "stream",
     "text": [
      "[CV 2/5] END DTC__max_depth=5, DTC__min_samples_leaf=5, DTC__min_samples_split=5, LR__multi_class=ovr, LR__penalty=None, SVM__C=3.75025, SVM__gamma=auto;, score=-0.883 total time=   0.1s\n",
      "[CV 3/5] END DTC__max_depth=5, DTC__min_samples_leaf=5, DTC__min_samples_split=5, LR__multi_class=ovr, LR__penalty=None, SVM__C=3.75025, SVM__gamma=auto;, score=-0.978 total time=   0.1s\n"
     ]
    },
    {
     "name": "stderr",
     "output_type": "stream",
     "text": [
      "/home/dai/anaconda3/lib/python3.11/site-packages/sklearn/linear_model/_logistic.py:460: ConvergenceWarning: lbfgs failed to converge (status=1):\n",
      "STOP: TOTAL NO. of ITERATIONS REACHED LIMIT.\n",
      "\n",
      "Increase the number of iterations (max_iter) or scale the data as shown in:\n",
      "    https://scikit-learn.org/stable/modules/preprocessing.html\n",
      "Please also refer to the documentation for alternative solver options:\n",
      "    https://scikit-learn.org/stable/modules/linear_model.html#logistic-regression\n",
      "  n_iter_i = _check_optimize_result(\n",
      "/home/dai/anaconda3/lib/python3.11/site-packages/sklearn/linear_model/_logistic.py:460: ConvergenceWarning: lbfgs failed to converge (status=1):\n",
      "STOP: TOTAL NO. of ITERATIONS REACHED LIMIT.\n",
      "\n",
      "Increase the number of iterations (max_iter) or scale the data as shown in:\n",
      "    https://scikit-learn.org/stable/modules/preprocessing.html\n",
      "Please also refer to the documentation for alternative solver options:\n",
      "    https://scikit-learn.org/stable/modules/linear_model.html#logistic-regression\n",
      "  n_iter_i = _check_optimize_result(\n"
     ]
    },
    {
     "name": "stdout",
     "output_type": "stream",
     "text": [
      "[CV 4/5] END DTC__max_depth=5, DTC__min_samples_leaf=5, DTC__min_samples_split=5, LR__multi_class=ovr, LR__penalty=None, SVM__C=3.75025, SVM__gamma=auto;, score=-0.741 total time=   0.1s\n",
      "[CV 5/5] END DTC__max_depth=5, DTC__min_samples_leaf=5, DTC__min_samples_split=5, LR__multi_class=ovr, LR__penalty=None, SVM__C=3.75025, SVM__gamma=auto;, score=-0.785 total time=   0.1s\n",
      "[CV 1/5] END DTC__max_depth=4, DTC__min_samples_leaf=10, DTC__min_samples_split=2, LR__multi_class=multimodel, LR__penalty=l2, SVM__C=2.5004999999999997, SVM__gamma=scale;, score=nan total time=   0.0s\n",
      "[CV 2/5] END DTC__max_depth=4, DTC__min_samples_leaf=10, DTC__min_samples_split=2, LR__multi_class=multimodel, LR__penalty=l2, SVM__C=2.5004999999999997, SVM__gamma=scale;, score=nan total time=   0.0s\n",
      "[CV 3/5] END DTC__max_depth=4, DTC__min_samples_leaf=10, DTC__min_samples_split=2, LR__multi_class=multimodel, LR__penalty=l2, SVM__C=2.5004999999999997, SVM__gamma=scale;, score=nan total time=   0.0s\n"
     ]
    },
    {
     "name": "stderr",
     "output_type": "stream",
     "text": [
      "/home/dai/anaconda3/lib/python3.11/site-packages/sklearn/linear_model/_logistic.py:460: ConvergenceWarning: lbfgs failed to converge (status=1):\n",
      "STOP: TOTAL NO. of ITERATIONS REACHED LIMIT.\n",
      "\n",
      "Increase the number of iterations (max_iter) or scale the data as shown in:\n",
      "    https://scikit-learn.org/stable/modules/preprocessing.html\n",
      "Please also refer to the documentation for alternative solver options:\n",
      "    https://scikit-learn.org/stable/modules/linear_model.html#logistic-regression\n",
      "  n_iter_i = _check_optimize_result(\n"
     ]
    },
    {
     "name": "stdout",
     "output_type": "stream",
     "text": [
      "[CV 4/5] END DTC__max_depth=4, DTC__min_samples_leaf=10, DTC__min_samples_split=2, LR__multi_class=multimodel, LR__penalty=l2, SVM__C=2.5004999999999997, SVM__gamma=scale;, score=nan total time=   0.0s\n",
      "[CV 5/5] END DTC__max_depth=4, DTC__min_samples_leaf=10, DTC__min_samples_split=2, LR__multi_class=multimodel, LR__penalty=l2, SVM__C=2.5004999999999997, SVM__gamma=scale;, score=nan total time=   0.0s\n",
      "[CV 1/5] END DTC__max_depth=5, DTC__min_samples_leaf=15, DTC__min_samples_split=10, LR__multi_class=multimodel, LR__penalty=l1, SVM__C=0.001, SVM__gamma=scale;, score=nan total time=   0.0s\n",
      "[CV 2/5] END DTC__max_depth=5, DTC__min_samples_leaf=15, DTC__min_samples_split=10, LR__multi_class=multimodel, LR__penalty=l1, SVM__C=0.001, SVM__gamma=scale;, score=nan total time=   0.0s\n",
      "[CV 3/5] END DTC__max_depth=5, DTC__min_samples_leaf=15, DTC__min_samples_split=10, LR__multi_class=multimodel, LR__penalty=l1, SVM__C=0.001, SVM__gamma=scale;, score=nan total time=   0.0s\n",
      "[CV 4/5] END DTC__max_depth=5, DTC__min_samples_leaf=15, DTC__min_samples_split=10, LR__multi_class=multimodel, LR__penalty=l1, SVM__C=0.001, SVM__gamma=scale;, score=nan total time=   0.0s\n",
      "[CV 5/5] END DTC__max_depth=5, DTC__min_samples_leaf=15, DTC__min_samples_split=10, LR__multi_class=multimodel, LR__penalty=l1, SVM__C=0.001, SVM__gamma=scale;, score=nan total time=   0.0s\n",
      "[CV 1/5] END DTC__max_depth=None, DTC__min_samples_leaf=5, DTC__min_samples_split=10, LR__multi_class=multimodel, LR__penalty=elasticnet, SVM__C=0.001, SVM__gamma=scale;, score=nan total time=   0.0s\n",
      "[CV 2/5] END DTC__max_depth=None, DTC__min_samples_leaf=5, DTC__min_samples_split=10, LR__multi_class=multimodel, LR__penalty=elasticnet, SVM__C=0.001, SVM__gamma=scale;, score=nan total time=   0.0s\n",
      "[CV 3/5] END DTC__max_depth=None, DTC__min_samples_leaf=5, DTC__min_samples_split=10, LR__multi_class=multimodel, LR__penalty=elasticnet, SVM__C=0.001, SVM__gamma=scale;, score=nan total time=   0.0s\n",
      "[CV 4/5] END DTC__max_depth=None, DTC__min_samples_leaf=5, DTC__min_samples_split=10, LR__multi_class=multimodel, LR__penalty=elasticnet, SVM__C=0.001, SVM__gamma=scale;, score=nan total time=   0.0s\n",
      "[CV 5/5] END DTC__max_depth=None, DTC__min_samples_leaf=5, DTC__min_samples_split=10, LR__multi_class=multimodel, LR__penalty=elasticnet, SVM__C=0.001, SVM__gamma=scale;, score=nan total time=   0.0s\n",
      "[CV 1/5] END DTC__max_depth=3, DTC__min_samples_leaf=3, DTC__min_samples_split=5, LR__multi_class=multimodel, LR__penalty=None, SVM__C=2.5004999999999997, SVM__gamma=scale;, score=nan total time=   0.0s\n",
      "[CV 2/5] END DTC__max_depth=3, DTC__min_samples_leaf=3, DTC__min_samples_split=5, LR__multi_class=multimodel, LR__penalty=None, SVM__C=2.5004999999999997, SVM__gamma=scale;, score=nan total time=   0.0s\n",
      "[CV 3/5] END DTC__max_depth=3, DTC__min_samples_leaf=3, DTC__min_samples_split=5, LR__multi_class=multimodel, LR__penalty=None, SVM__C=2.5004999999999997, SVM__gamma=scale;, score=nan total time=   0.0s\n",
      "[CV 4/5] END DTC__max_depth=3, DTC__min_samples_leaf=3, DTC__min_samples_split=5, LR__multi_class=multimodel, LR__penalty=None, SVM__C=2.5004999999999997, SVM__gamma=scale;, score=nan total time=   0.0s\n",
      "[CV 5/5] END DTC__max_depth=3, DTC__min_samples_leaf=3, DTC__min_samples_split=5, LR__multi_class=multimodel, LR__penalty=None, SVM__C=2.5004999999999997, SVM__gamma=scale;, score=nan total time=   0.0s\n"
     ]
    },
    {
     "name": "stderr",
     "output_type": "stream",
     "text": [
      "/home/dai/anaconda3/lib/python3.11/site-packages/sklearn/linear_model/_logistic.py:460: ConvergenceWarning: lbfgs failed to converge (status=1):\n",
      "STOP: TOTAL NO. of ITERATIONS REACHED LIMIT.\n",
      "\n",
      "Increase the number of iterations (max_iter) or scale the data as shown in:\n",
      "    https://scikit-learn.org/stable/modules/preprocessing.html\n",
      "Please also refer to the documentation for alternative solver options:\n",
      "    https://scikit-learn.org/stable/modules/linear_model.html#logistic-regression\n",
      "  n_iter_i = _check_optimize_result(\n",
      "/home/dai/anaconda3/lib/python3.11/site-packages/sklearn/linear_model/_logistic.py:460: ConvergenceWarning: lbfgs failed to converge (status=1):\n",
      "STOP: TOTAL NO. of ITERATIONS REACHED LIMIT.\n",
      "\n",
      "Increase the number of iterations (max_iter) or scale the data as shown in:\n",
      "    https://scikit-learn.org/stable/modules/preprocessing.html\n",
      "Please also refer to the documentation for alternative solver options:\n",
      "    https://scikit-learn.org/stable/modules/linear_model.html#logistic-regression\n",
      "  n_iter_i = _check_optimize_result(\n"
     ]
    },
    {
     "name": "stdout",
     "output_type": "stream",
     "text": [
      "[CV 1/5] END DTC__max_depth=None, DTC__min_samples_leaf=7, DTC__min_samples_split=10, LR__multi_class=ovr, LR__penalty=None, SVM__C=3.75025, SVM__gamma=auto;, score=-0.728 total time=   0.1s\n",
      "[CV 2/5] END DTC__max_depth=None, DTC__min_samples_leaf=7, DTC__min_samples_split=10, LR__multi_class=ovr, LR__penalty=None, SVM__C=3.75025, SVM__gamma=auto;, score=-0.828 total time=   0.1s\n"
     ]
    },
    {
     "name": "stderr",
     "output_type": "stream",
     "text": [
      "/home/dai/anaconda3/lib/python3.11/site-packages/sklearn/linear_model/_logistic.py:460: ConvergenceWarning: lbfgs failed to converge (status=1):\n",
      "STOP: TOTAL NO. of ITERATIONS REACHED LIMIT.\n",
      "\n",
      "Increase the number of iterations (max_iter) or scale the data as shown in:\n",
      "    https://scikit-learn.org/stable/modules/preprocessing.html\n",
      "Please also refer to the documentation for alternative solver options:\n",
      "    https://scikit-learn.org/stable/modules/linear_model.html#logistic-regression\n",
      "  n_iter_i = _check_optimize_result(\n",
      "/home/dai/anaconda3/lib/python3.11/site-packages/sklearn/linear_model/_logistic.py:460: ConvergenceWarning: lbfgs failed to converge (status=1):\n",
      "STOP: TOTAL NO. of ITERATIONS REACHED LIMIT.\n",
      "\n",
      "Increase the number of iterations (max_iter) or scale the data as shown in:\n",
      "    https://scikit-learn.org/stable/modules/preprocessing.html\n",
      "Please also refer to the documentation for alternative solver options:\n",
      "    https://scikit-learn.org/stable/modules/linear_model.html#logistic-regression\n",
      "  n_iter_i = _check_optimize_result(\n"
     ]
    },
    {
     "name": "stdout",
     "output_type": "stream",
     "text": [
      "[CV 3/5] END DTC__max_depth=None, DTC__min_samples_leaf=7, DTC__min_samples_split=10, LR__multi_class=ovr, LR__penalty=None, SVM__C=3.75025, SVM__gamma=auto;, score=-0.944 total time=   0.1s\n",
      "[CV 4/5] END DTC__max_depth=None, DTC__min_samples_leaf=7, DTC__min_samples_split=10, LR__multi_class=ovr, LR__penalty=None, SVM__C=3.75025, SVM__gamma=auto;, score=-0.712 total time=   0.1s\n"
     ]
    },
    {
     "name": "stderr",
     "output_type": "stream",
     "text": [
      "/home/dai/anaconda3/lib/python3.11/site-packages/sklearn/linear_model/_logistic.py:460: ConvergenceWarning: lbfgs failed to converge (status=1):\n",
      "STOP: TOTAL NO. of ITERATIONS REACHED LIMIT.\n",
      "\n",
      "Increase the number of iterations (max_iter) or scale the data as shown in:\n",
      "    https://scikit-learn.org/stable/modules/preprocessing.html\n",
      "Please also refer to the documentation for alternative solver options:\n",
      "    https://scikit-learn.org/stable/modules/linear_model.html#logistic-regression\n",
      "  n_iter_i = _check_optimize_result(\n"
     ]
    },
    {
     "name": "stdout",
     "output_type": "stream",
     "text": [
      "[CV 5/5] END DTC__max_depth=None, DTC__min_samples_leaf=7, DTC__min_samples_split=10, LR__multi_class=ovr, LR__penalty=None, SVM__C=3.75025, SVM__gamma=auto;, score=-0.752 total time=   0.2s\n",
      "[CV 1/5] END DTC__max_depth=5, DTC__min_samples_leaf=5, DTC__min_samples_split=2, LR__multi_class=ovr, LR__penalty=elasticnet, SVM__C=0.001, SVM__gamma=scale;, score=nan total time=   0.0s\n",
      "[CV 2/5] END DTC__max_depth=5, DTC__min_samples_leaf=5, DTC__min_samples_split=2, LR__multi_class=ovr, LR__penalty=elasticnet, SVM__C=0.001, SVM__gamma=scale;, score=nan total time=   0.0s\n",
      "[CV 3/5] END DTC__max_depth=5, DTC__min_samples_leaf=5, DTC__min_samples_split=2, LR__multi_class=ovr, LR__penalty=elasticnet, SVM__C=0.001, SVM__gamma=scale;, score=nan total time=   0.0s\n",
      "[CV 4/5] END DTC__max_depth=5, DTC__min_samples_leaf=5, DTC__min_samples_split=2, LR__multi_class=ovr, LR__penalty=elasticnet, SVM__C=0.001, SVM__gamma=scale;, score=nan total time=   0.0s\n",
      "[CV 5/5] END DTC__max_depth=5, DTC__min_samples_leaf=5, DTC__min_samples_split=2, LR__multi_class=ovr, LR__penalty=elasticnet, SVM__C=0.001, SVM__gamma=scale;, score=nan total time=   0.0s\n",
      "[CV 1/5] END DTC__max_depth=4, DTC__min_samples_leaf=10, DTC__min_samples_split=10, LR__multi_class=ovr, LR__penalty=elasticnet, SVM__C=2.5004999999999997, SVM__gamma=scale;, score=nan total time=   0.0s\n",
      "[CV 2/5] END DTC__max_depth=4, DTC__min_samples_leaf=10, DTC__min_samples_split=10, LR__multi_class=ovr, LR__penalty=elasticnet, SVM__C=2.5004999999999997, SVM__gamma=scale;, score=nan total time=   0.0s\n",
      "[CV 3/5] END DTC__max_depth=4, DTC__min_samples_leaf=10, DTC__min_samples_split=10, LR__multi_class=ovr, LR__penalty=elasticnet, SVM__C=2.5004999999999997, SVM__gamma=scale;, score=nan total time=   0.0s\n",
      "[CV 4/5] END DTC__max_depth=4, DTC__min_samples_leaf=10, DTC__min_samples_split=10, LR__multi_class=ovr, LR__penalty=elasticnet, SVM__C=2.5004999999999997, SVM__gamma=scale;, score=nan total time=   0.0s\n",
      "[CV 5/5] END DTC__max_depth=4, DTC__min_samples_leaf=10, DTC__min_samples_split=10, LR__multi_class=ovr, LR__penalty=elasticnet, SVM__C=2.5004999999999997, SVM__gamma=scale;, score=nan total time=   0.0s\n",
      "[CV 1/5] END DTC__max_depth=6, DTC__min_samples_leaf=10, DTC__min_samples_split=10, LR__multi_class=multimodel, LR__penalty=None, SVM__C=1.2507499999999998, SVM__gamma=auto;, score=nan total time=   0.0s\n",
      "[CV 2/5] END DTC__max_depth=6, DTC__min_samples_leaf=10, DTC__min_samples_split=10, LR__multi_class=multimodel, LR__penalty=None, SVM__C=1.2507499999999998, SVM__gamma=auto;, score=nan total time=   0.0s\n",
      "[CV 3/5] END DTC__max_depth=6, DTC__min_samples_leaf=10, DTC__min_samples_split=10, LR__multi_class=multimodel, LR__penalty=None, SVM__C=1.2507499999999998, SVM__gamma=auto;, score=nan total time=   0.0s\n",
      "[CV 4/5] END DTC__max_depth=6, DTC__min_samples_leaf=10, DTC__min_samples_split=10, LR__multi_class=multimodel, LR__penalty=None, SVM__C=1.2507499999999998, SVM__gamma=auto;, score=nan total time=   0.0s\n",
      "[CV 5/5] END DTC__max_depth=6, DTC__min_samples_leaf=10, DTC__min_samples_split=10, LR__multi_class=multimodel, LR__penalty=None, SVM__C=1.2507499999999998, SVM__gamma=auto;, score=nan total time=   0.0s\n",
      "[CV 1/5] END DTC__max_depth=2, DTC__min_samples_leaf=1, DTC__min_samples_split=10, LR__multi_class=multimodel, LR__penalty=None, SVM__C=0.001, SVM__gamma=scale;, score=nan total time=   0.0s\n",
      "[CV 2/5] END DTC__max_depth=2, DTC__min_samples_leaf=1, DTC__min_samples_split=10, LR__multi_class=multimodel, LR__penalty=None, SVM__C=0.001, SVM__gamma=scale;, score=nan total time=   0.0s\n",
      "[CV 3/5] END DTC__max_depth=2, DTC__min_samples_leaf=1, DTC__min_samples_split=10, LR__multi_class=multimodel, LR__penalty=None, SVM__C=0.001, SVM__gamma=scale;, score=nan total time=   0.0s\n",
      "[CV 4/5] END DTC__max_depth=2, DTC__min_samples_leaf=1, DTC__min_samples_split=10, LR__multi_class=multimodel, LR__penalty=None, SVM__C=0.001, SVM__gamma=scale;, score=nan total time=   0.0s\n",
      "[CV 5/5] END DTC__max_depth=2, DTC__min_samples_leaf=1, DTC__min_samples_split=10, LR__multi_class=multimodel, LR__penalty=None, SVM__C=0.001, SVM__gamma=scale;, score=nan total time=   0.0s\n",
      "[CV 1/5] END DTC__max_depth=None, DTC__min_samples_leaf=10, DTC__min_samples_split=2, LR__multi_class=multimodel, LR__penalty=l1, SVM__C=0.001, SVM__gamma=scale;, score=nan total time=   0.0s\n",
      "[CV 2/5] END DTC__max_depth=None, DTC__min_samples_leaf=10, DTC__min_samples_split=2, LR__multi_class=multimodel, LR__penalty=l1, SVM__C=0.001, SVM__gamma=scale;, score=nan total time=   0.0s\n",
      "[CV 3/5] END DTC__max_depth=None, DTC__min_samples_leaf=10, DTC__min_samples_split=2, LR__multi_class=multimodel, LR__penalty=l1, SVM__C=0.001, SVM__gamma=scale;, score=nan total time=   0.0s\n",
      "[CV 4/5] END DTC__max_depth=None, DTC__min_samples_leaf=10, DTC__min_samples_split=2, LR__multi_class=multimodel, LR__penalty=l1, SVM__C=0.001, SVM__gamma=scale;, score=nan total time=   0.0s\n",
      "[CV 5/5] END DTC__max_depth=None, DTC__min_samples_leaf=10, DTC__min_samples_split=2, LR__multi_class=multimodel, LR__penalty=l1, SVM__C=0.001, SVM__gamma=scale;, score=nan total time=   0.0s\n"
     ]
    },
    {
     "name": "stderr",
     "output_type": "stream",
     "text": [
      "/home/dai/anaconda3/lib/python3.11/site-packages/sklearn/linear_model/_logistic.py:460: ConvergenceWarning: lbfgs failed to converge (status=1):\n",
      "STOP: TOTAL NO. of ITERATIONS REACHED LIMIT.\n",
      "\n",
      "Increase the number of iterations (max_iter) or scale the data as shown in:\n",
      "    https://scikit-learn.org/stable/modules/preprocessing.html\n",
      "Please also refer to the documentation for alternative solver options:\n",
      "    https://scikit-learn.org/stable/modules/linear_model.html#logistic-regression\n",
      "  n_iter_i = _check_optimize_result(\n",
      "/home/dai/anaconda3/lib/python3.11/site-packages/sklearn/linear_model/_logistic.py:460: ConvergenceWarning: lbfgs failed to converge (status=1):\n",
      "STOP: TOTAL NO. of ITERATIONS REACHED LIMIT.\n",
      "\n",
      "Increase the number of iterations (max_iter) or scale the data as shown in:\n",
      "    https://scikit-learn.org/stable/modules/preprocessing.html\n",
      "Please also refer to the documentation for alternative solver options:\n",
      "    https://scikit-learn.org/stable/modules/linear_model.html#logistic-regression\n",
      "  n_iter_i = _check_optimize_result(\n"
     ]
    },
    {
     "name": "stdout",
     "output_type": "stream",
     "text": [
      "[CV 1/5] END DTC__max_depth=3, DTC__min_samples_leaf=15, DTC__min_samples_split=10, LR__multi_class=ovr, LR__penalty=l2, SVM__C=3.75025, SVM__gamma=scale;, score=-0.434 total time=   0.1s\n",
      "[CV 2/5] END DTC__max_depth=3, DTC__min_samples_leaf=15, DTC__min_samples_split=10, LR__multi_class=ovr, LR__penalty=l2, SVM__C=3.75025, SVM__gamma=scale;, score=-0.549 total time=   0.1s\n"
     ]
    },
    {
     "name": "stderr",
     "output_type": "stream",
     "text": [
      "/home/dai/anaconda3/lib/python3.11/site-packages/sklearn/linear_model/_logistic.py:460: ConvergenceWarning: lbfgs failed to converge (status=1):\n",
      "STOP: TOTAL NO. of ITERATIONS REACHED LIMIT.\n",
      "\n",
      "Increase the number of iterations (max_iter) or scale the data as shown in:\n",
      "    https://scikit-learn.org/stable/modules/preprocessing.html\n",
      "Please also refer to the documentation for alternative solver options:\n",
      "    https://scikit-learn.org/stable/modules/linear_model.html#logistic-regression\n",
      "  n_iter_i = _check_optimize_result(\n",
      "/home/dai/anaconda3/lib/python3.11/site-packages/sklearn/linear_model/_logistic.py:460: ConvergenceWarning: lbfgs failed to converge (status=1):\n",
      "STOP: TOTAL NO. of ITERATIONS REACHED LIMIT.\n",
      "\n",
      "Increase the number of iterations (max_iter) or scale the data as shown in:\n",
      "    https://scikit-learn.org/stable/modules/preprocessing.html\n",
      "Please also refer to the documentation for alternative solver options:\n",
      "    https://scikit-learn.org/stable/modules/linear_model.html#logistic-regression\n",
      "  n_iter_i = _check_optimize_result(\n"
     ]
    },
    {
     "name": "stdout",
     "output_type": "stream",
     "text": [
      "[CV 3/5] END DTC__max_depth=3, DTC__min_samples_leaf=15, DTC__min_samples_split=10, LR__multi_class=ovr, LR__penalty=l2, SVM__C=3.75025, SVM__gamma=scale;, score=-0.629 total time=   0.1s\n",
      "[CV 4/5] END DTC__max_depth=3, DTC__min_samples_leaf=15, DTC__min_samples_split=10, LR__multi_class=ovr, LR__penalty=l2, SVM__C=3.75025, SVM__gamma=scale;, score=-0.565 total time=   0.1s\n"
     ]
    },
    {
     "name": "stderr",
     "output_type": "stream",
     "text": [
      "/home/dai/anaconda3/lib/python3.11/site-packages/sklearn/linear_model/_logistic.py:460: ConvergenceWarning: lbfgs failed to converge (status=1):\n",
      "STOP: TOTAL NO. of ITERATIONS REACHED LIMIT.\n",
      "\n",
      "Increase the number of iterations (max_iter) or scale the data as shown in:\n",
      "    https://scikit-learn.org/stable/modules/preprocessing.html\n",
      "Please also refer to the documentation for alternative solver options:\n",
      "    https://scikit-learn.org/stable/modules/linear_model.html#logistic-regression\n",
      "  n_iter_i = _check_optimize_result(\n",
      "/home/dai/anaconda3/lib/python3.11/site-packages/sklearn/linear_model/_logistic.py:460: ConvergenceWarning: lbfgs failed to converge (status=1):\n",
      "STOP: TOTAL NO. of ITERATIONS REACHED LIMIT.\n",
      "\n",
      "Increase the number of iterations (max_iter) or scale the data as shown in:\n",
      "    https://scikit-learn.org/stable/modules/preprocessing.html\n",
      "Please also refer to the documentation for alternative solver options:\n",
      "    https://scikit-learn.org/stable/modules/linear_model.html#logistic-regression\n",
      "  n_iter_i = _check_optimize_result(\n"
     ]
    },
    {
     "name": "stdout",
     "output_type": "stream",
     "text": [
      "[CV 5/5] END DTC__max_depth=3, DTC__min_samples_leaf=15, DTC__min_samples_split=10, LR__multi_class=ovr, LR__penalty=l2, SVM__C=3.75025, SVM__gamma=scale;, score=-0.483 total time=   0.1s\n",
      "[CV 1/5] END DTC__max_depth=None, DTC__min_samples_leaf=10, DTC__min_samples_split=5, LR__multi_class=ovr, LR__penalty=None, SVM__C=3.75025, SVM__gamma=auto;, score=-0.735 total time=   0.1s\n"
     ]
    },
    {
     "name": "stderr",
     "output_type": "stream",
     "text": [
      "/home/dai/anaconda3/lib/python3.11/site-packages/sklearn/linear_model/_logistic.py:460: ConvergenceWarning: lbfgs failed to converge (status=1):\n",
      "STOP: TOTAL NO. of ITERATIONS REACHED LIMIT.\n",
      "\n",
      "Increase the number of iterations (max_iter) or scale the data as shown in:\n",
      "    https://scikit-learn.org/stable/modules/preprocessing.html\n",
      "Please also refer to the documentation for alternative solver options:\n",
      "    https://scikit-learn.org/stable/modules/linear_model.html#logistic-regression\n",
      "  n_iter_i = _check_optimize_result(\n",
      "/home/dai/anaconda3/lib/python3.11/site-packages/sklearn/linear_model/_logistic.py:460: ConvergenceWarning: lbfgs failed to converge (status=1):\n",
      "STOP: TOTAL NO. of ITERATIONS REACHED LIMIT.\n",
      "\n",
      "Increase the number of iterations (max_iter) or scale the data as shown in:\n",
      "    https://scikit-learn.org/stable/modules/preprocessing.html\n",
      "Please also refer to the documentation for alternative solver options:\n",
      "    https://scikit-learn.org/stable/modules/linear_model.html#logistic-regression\n",
      "  n_iter_i = _check_optimize_result(\n"
     ]
    },
    {
     "name": "stdout",
     "output_type": "stream",
     "text": [
      "[CV 2/5] END DTC__max_depth=None, DTC__min_samples_leaf=10, DTC__min_samples_split=5, LR__multi_class=ovr, LR__penalty=None, SVM__C=3.75025, SVM__gamma=auto;, score=-0.816 total time=   0.2s\n",
      "[CV 3/5] END DTC__max_depth=None, DTC__min_samples_leaf=10, DTC__min_samples_split=5, LR__multi_class=ovr, LR__penalty=None, SVM__C=3.75025, SVM__gamma=auto;, score=-0.956 total time=   0.2s\n"
     ]
    },
    {
     "name": "stderr",
     "output_type": "stream",
     "text": [
      "/home/dai/anaconda3/lib/python3.11/site-packages/sklearn/linear_model/_logistic.py:460: ConvergenceWarning: lbfgs failed to converge (status=1):\n",
      "STOP: TOTAL NO. of ITERATIONS REACHED LIMIT.\n",
      "\n",
      "Increase the number of iterations (max_iter) or scale the data as shown in:\n",
      "    https://scikit-learn.org/stable/modules/preprocessing.html\n",
      "Please also refer to the documentation for alternative solver options:\n",
      "    https://scikit-learn.org/stable/modules/linear_model.html#logistic-regression\n",
      "  n_iter_i = _check_optimize_result(\n",
      "/home/dai/anaconda3/lib/python3.11/site-packages/sklearn/linear_model/_logistic.py:460: ConvergenceWarning: lbfgs failed to converge (status=1):\n",
      "STOP: TOTAL NO. of ITERATIONS REACHED LIMIT.\n",
      "\n",
      "Increase the number of iterations (max_iter) or scale the data as shown in:\n",
      "    https://scikit-learn.org/stable/modules/preprocessing.html\n",
      "Please also refer to the documentation for alternative solver options:\n",
      "    https://scikit-learn.org/stable/modules/linear_model.html#logistic-regression\n",
      "  n_iter_i = _check_optimize_result(\n"
     ]
    },
    {
     "name": "stdout",
     "output_type": "stream",
     "text": [
      "[CV 4/5] END DTC__max_depth=None, DTC__min_samples_leaf=10, DTC__min_samples_split=5, LR__multi_class=ovr, LR__penalty=None, SVM__C=3.75025, SVM__gamma=auto;, score=-0.725 total time=   0.2s\n",
      "[CV 5/5] END DTC__max_depth=None, DTC__min_samples_leaf=10, DTC__min_samples_split=5, LR__multi_class=ovr, LR__penalty=None, SVM__C=3.75025, SVM__gamma=auto;, score=-0.760 total time=   0.1s\n"
     ]
    },
    {
     "name": "stderr",
     "output_type": "stream",
     "text": [
      "/home/dai/anaconda3/lib/python3.11/site-packages/sklearn/linear_model/_logistic.py:460: ConvergenceWarning: lbfgs failed to converge (status=1):\n",
      "STOP: TOTAL NO. of ITERATIONS REACHED LIMIT.\n",
      "\n",
      "Increase the number of iterations (max_iter) or scale the data as shown in:\n",
      "    https://scikit-learn.org/stable/modules/preprocessing.html\n",
      "Please also refer to the documentation for alternative solver options:\n",
      "    https://scikit-learn.org/stable/modules/linear_model.html#logistic-regression\n",
      "  n_iter_i = _check_optimize_result(\n",
      "/home/dai/anaconda3/lib/python3.11/site-packages/sklearn/linear_model/_logistic.py:460: ConvergenceWarning: lbfgs failed to converge (status=1):\n",
      "STOP: TOTAL NO. of ITERATIONS REACHED LIMIT.\n",
      "\n",
      "Increase the number of iterations (max_iter) or scale the data as shown in:\n",
      "    https://scikit-learn.org/stable/modules/preprocessing.html\n",
      "Please also refer to the documentation for alternative solver options:\n",
      "    https://scikit-learn.org/stable/modules/linear_model.html#logistic-regression\n",
      "  n_iter_i = _check_optimize_result(\n"
     ]
    },
    {
     "name": "stdout",
     "output_type": "stream",
     "text": [
      "[CV 1/5] END DTC__max_depth=4, DTC__min_samples_leaf=5, DTC__min_samples_split=10, LR__multi_class=ovr, LR__penalty=None, SVM__C=0.001, SVM__gamma=scale;, score=-0.830 total time=   0.1s\n",
      "[CV 2/5] END DTC__max_depth=4, DTC__min_samples_leaf=5, DTC__min_samples_split=10, LR__multi_class=ovr, LR__penalty=None, SVM__C=0.001, SVM__gamma=scale;, score=-0.897 total time=   0.1s\n"
     ]
    },
    {
     "name": "stderr",
     "output_type": "stream",
     "text": [
      "/home/dai/anaconda3/lib/python3.11/site-packages/sklearn/linear_model/_logistic.py:460: ConvergenceWarning: lbfgs failed to converge (status=1):\n",
      "STOP: TOTAL NO. of ITERATIONS REACHED LIMIT.\n",
      "\n",
      "Increase the number of iterations (max_iter) or scale the data as shown in:\n",
      "    https://scikit-learn.org/stable/modules/preprocessing.html\n",
      "Please also refer to the documentation for alternative solver options:\n",
      "    https://scikit-learn.org/stable/modules/linear_model.html#logistic-regression\n",
      "  n_iter_i = _check_optimize_result(\n",
      "/home/dai/anaconda3/lib/python3.11/site-packages/sklearn/linear_model/_logistic.py:460: ConvergenceWarning: lbfgs failed to converge (status=1):\n",
      "STOP: TOTAL NO. of ITERATIONS REACHED LIMIT.\n",
      "\n",
      "Increase the number of iterations (max_iter) or scale the data as shown in:\n",
      "    https://scikit-learn.org/stable/modules/preprocessing.html\n",
      "Please also refer to the documentation for alternative solver options:\n",
      "    https://scikit-learn.org/stable/modules/linear_model.html#logistic-regression\n",
      "  n_iter_i = _check_optimize_result(\n"
     ]
    },
    {
     "name": "stdout",
     "output_type": "stream",
     "text": [
      "[CV 3/5] END DTC__max_depth=4, DTC__min_samples_leaf=5, DTC__min_samples_split=10, LR__multi_class=ovr, LR__penalty=None, SVM__C=0.001, SVM__gamma=scale;, score=-1.013 total time=   0.1s\n",
      "[CV 4/5] END DTC__max_depth=4, DTC__min_samples_leaf=5, DTC__min_samples_split=10, LR__multi_class=ovr, LR__penalty=None, SVM__C=0.001, SVM__gamma=scale;, score=-0.800 total time=   0.1s\n"
     ]
    },
    {
     "name": "stderr",
     "output_type": "stream",
     "text": [
      "/home/dai/anaconda3/lib/python3.11/site-packages/sklearn/linear_model/_logistic.py:460: ConvergenceWarning: lbfgs failed to converge (status=1):\n",
      "STOP: TOTAL NO. of ITERATIONS REACHED LIMIT.\n",
      "\n",
      "Increase the number of iterations (max_iter) or scale the data as shown in:\n",
      "    https://scikit-learn.org/stable/modules/preprocessing.html\n",
      "Please also refer to the documentation for alternative solver options:\n",
      "    https://scikit-learn.org/stable/modules/linear_model.html#logistic-regression\n",
      "  n_iter_i = _check_optimize_result(\n"
     ]
    },
    {
     "name": "stdout",
     "output_type": "stream",
     "text": [
      "[CV 5/5] END DTC__max_depth=4, DTC__min_samples_leaf=5, DTC__min_samples_split=10, LR__multi_class=ovr, LR__penalty=None, SVM__C=0.001, SVM__gamma=scale;, score=-0.815 total time=   0.1s\n",
      "[CV 1/5] END DTC__max_depth=5, DTC__min_samples_leaf=7, DTC__min_samples_split=2, LR__multi_class=multimodel, LR__penalty=l1, SVM__C=2.5004999999999997, SVM__gamma=scale;, score=nan total time=   0.0s\n",
      "[CV 2/5] END DTC__max_depth=5, DTC__min_samples_leaf=7, DTC__min_samples_split=2, LR__multi_class=multimodel, LR__penalty=l1, SVM__C=2.5004999999999997, SVM__gamma=scale;, score=nan total time=   0.0s\n",
      "[CV 3/5] END DTC__max_depth=5, DTC__min_samples_leaf=7, DTC__min_samples_split=2, LR__multi_class=multimodel, LR__penalty=l1, SVM__C=2.5004999999999997, SVM__gamma=scale;, score=nan total time=   0.0s\n",
      "[CV 4/5] END DTC__max_depth=5, DTC__min_samples_leaf=7, DTC__min_samples_split=2, LR__multi_class=multimodel, LR__penalty=l1, SVM__C=2.5004999999999997, SVM__gamma=scale;, score=nan total time=   0.0s\n",
      "[CV 5/5] END DTC__max_depth=5, DTC__min_samples_leaf=7, DTC__min_samples_split=2, LR__multi_class=multimodel, LR__penalty=l1, SVM__C=2.5004999999999997, SVM__gamma=scale;, score=nan total time=   0.0s\n",
      "[CV 1/5] END DTC__max_depth=2, DTC__min_samples_leaf=10, DTC__min_samples_split=10, LR__multi_class=multimodel, LR__penalty=None, SVM__C=2.5004999999999997, SVM__gamma=auto;, score=nan total time=   0.0s\n",
      "[CV 2/5] END DTC__max_depth=2, DTC__min_samples_leaf=10, DTC__min_samples_split=10, LR__multi_class=multimodel, LR__penalty=None, SVM__C=2.5004999999999997, SVM__gamma=auto;, score=nan total time=   0.0s\n",
      "[CV 3/5] END DTC__max_depth=2, DTC__min_samples_leaf=10, DTC__min_samples_split=10, LR__multi_class=multimodel, LR__penalty=None, SVM__C=2.5004999999999997, SVM__gamma=auto;, score=nan total time=   0.0s\n",
      "[CV 4/5] END DTC__max_depth=2, DTC__min_samples_leaf=10, DTC__min_samples_split=10, LR__multi_class=multimodel, LR__penalty=None, SVM__C=2.5004999999999997, SVM__gamma=auto;, score=nan total time=   0.0s\n",
      "[CV 5/5] END DTC__max_depth=2, DTC__min_samples_leaf=10, DTC__min_samples_split=10, LR__multi_class=multimodel, LR__penalty=None, SVM__C=2.5004999999999997, SVM__gamma=auto;, score=nan total time=   0.0s\n",
      "[CV 1/5] END DTC__max_depth=2, DTC__min_samples_leaf=3, DTC__min_samples_split=5, LR__multi_class=ovr, LR__penalty=l1, SVM__C=5.0, SVM__gamma=scale;, score=nan total time=   0.0s\n",
      "[CV 2/5] END DTC__max_depth=2, DTC__min_samples_leaf=3, DTC__min_samples_split=5, LR__multi_class=ovr, LR__penalty=l1, SVM__C=5.0, SVM__gamma=scale;, score=nan total time=   0.0s\n",
      "[CV 3/5] END DTC__max_depth=2, DTC__min_samples_leaf=3, DTC__min_samples_split=5, LR__multi_class=ovr, LR__penalty=l1, SVM__C=5.0, SVM__gamma=scale;, score=nan total time=   0.0s\n",
      "[CV 4/5] END DTC__max_depth=2, DTC__min_samples_leaf=3, DTC__min_samples_split=5, LR__multi_class=ovr, LR__penalty=l1, SVM__C=5.0, SVM__gamma=scale;, score=nan total time=   0.0s\n",
      "[CV 5/5] END DTC__max_depth=2, DTC__min_samples_leaf=3, DTC__min_samples_split=5, LR__multi_class=ovr, LR__penalty=l1, SVM__C=5.0, SVM__gamma=scale;, score=nan total time=   0.0s\n",
      "[CV 1/5] END DTC__max_depth=None, DTC__min_samples_leaf=5, DTC__min_samples_split=2, LR__multi_class=ovr, LR__penalty=elasticnet, SVM__C=0.001, SVM__gamma=auto;, score=nan total time=   0.0s\n",
      "[CV 2/5] END DTC__max_depth=None, DTC__min_samples_leaf=5, DTC__min_samples_split=2, LR__multi_class=ovr, LR__penalty=elasticnet, SVM__C=0.001, SVM__gamma=auto;, score=nan total time=   0.0s\n",
      "[CV 3/5] END DTC__max_depth=None, DTC__min_samples_leaf=5, DTC__min_samples_split=2, LR__multi_class=ovr, LR__penalty=elasticnet, SVM__C=0.001, SVM__gamma=auto;, score=nan total time=   0.0s\n",
      "[CV 4/5] END DTC__max_depth=None, DTC__min_samples_leaf=5, DTC__min_samples_split=2, LR__multi_class=ovr, LR__penalty=elasticnet, SVM__C=0.001, SVM__gamma=auto;, score=nan total time=   0.0s\n",
      "[CV 5/5] END DTC__max_depth=None, DTC__min_samples_leaf=5, DTC__min_samples_split=2, LR__multi_class=ovr, LR__penalty=elasticnet, SVM__C=0.001, SVM__gamma=auto;, score=nan total time=   0.0s\n"
     ]
    },
    {
     "name": "stderr",
     "output_type": "stream",
     "text": [
      "/home/dai/anaconda3/lib/python3.11/site-packages/sklearn/model_selection/_validation.py:425: FitFailedWarning: \n",
      "185 fits failed out of a total of 250.\n",
      "The score on these train-test partitions for these parameters will be set to nan.\n",
      "If these failures are not expected, you can try to debug them by setting error_score='raise'.\n",
      "\n",
      "Below are more details about the failures:\n",
      "--------------------------------------------------------------------------------\n",
      "135 fits failed with the following error:\n",
      "Traceback (most recent call last):\n",
      "  File \"/home/dai/anaconda3/lib/python3.11/site-packages/sklearn/model_selection/_validation.py\", line 729, in _fit_and_score\n",
      "    estimator.fit(X_train, y_train, **fit_params)\n",
      "  File \"/home/dai/anaconda3/lib/python3.11/site-packages/sklearn/base.py\", line 1152, in wrapper\n",
      "    return fit_method(estimator, *args, **kwargs)\n",
      "           ^^^^^^^^^^^^^^^^^^^^^^^^^^^^^^^^^^^^^^\n",
      "  File \"/home/dai/anaconda3/lib/python3.11/site-packages/sklearn/ensemble/_voting.py\", line 349, in fit\n",
      "    return super().fit(X, transformed_y, sample_weight)\n",
      "           ^^^^^^^^^^^^^^^^^^^^^^^^^^^^^^^^^^^^^^^^^^^^\n",
      "  File \"/home/dai/anaconda3/lib/python3.11/site-packages/sklearn/ensemble/_voting.py\", line 81, in fit\n",
      "    self.estimators_ = Parallel(n_jobs=self.n_jobs)(\n",
      "                       ^^^^^^^^^^^^^^^^^^^^^^^^^^^^^\n",
      "  File \"/home/dai/anaconda3/lib/python3.11/site-packages/sklearn/utils/parallel.py\", line 65, in __call__\n",
      "    return super().__call__(iterable_with_config)\n",
      "           ^^^^^^^^^^^^^^^^^^^^^^^^^^^^^^^^^^^^^^\n",
      "  File \"/home/dai/anaconda3/lib/python3.11/site-packages/joblib/parallel.py\", line 1088, in __call__\n",
      "    while self.dispatch_one_batch(iterator):\n",
      "          ^^^^^^^^^^^^^^^^^^^^^^^^^^^^^^^^^\n",
      "  File \"/home/dai/anaconda3/lib/python3.11/site-packages/joblib/parallel.py\", line 901, in dispatch_one_batch\n",
      "    self._dispatch(tasks)\n",
      "  File \"/home/dai/anaconda3/lib/python3.11/site-packages/joblib/parallel.py\", line 819, in _dispatch\n",
      "    job = self._backend.apply_async(batch, callback=cb)\n",
      "          ^^^^^^^^^^^^^^^^^^^^^^^^^^^^^^^^^^^^^^^^^^^^^\n",
      "  File \"/home/dai/anaconda3/lib/python3.11/site-packages/joblib/_parallel_backends.py\", line 208, in apply_async\n",
      "    result = ImmediateResult(func)\n",
      "             ^^^^^^^^^^^^^^^^^^^^^\n",
      "  File \"/home/dai/anaconda3/lib/python3.11/site-packages/joblib/_parallel_backends.py\", line 597, in __init__\n",
      "    self.results = batch()\n",
      "                   ^^^^^^^\n",
      "  File \"/home/dai/anaconda3/lib/python3.11/site-packages/joblib/parallel.py\", line 288, in __call__\n",
      "    return [func(*args, **kwargs)\n",
      "           ^^^^^^^^^^^^^^^^^^^^^^\n",
      "  File \"/home/dai/anaconda3/lib/python3.11/site-packages/joblib/parallel.py\", line 288, in <listcomp>\n",
      "    return [func(*args, **kwargs)\n",
      "            ^^^^^^^^^^^^^^^^^^^^^\n",
      "  File \"/home/dai/anaconda3/lib/python3.11/site-packages/sklearn/utils/parallel.py\", line 127, in __call__\n",
      "    return self.function(*args, **kwargs)\n",
      "           ^^^^^^^^^^^^^^^^^^^^^^^^^^^^^^\n",
      "  File \"/home/dai/anaconda3/lib/python3.11/site-packages/sklearn/ensemble/_base.py\", line 36, in _fit_single_estimator\n",
      "    estimator.fit(X, y)\n",
      "  File \"/home/dai/anaconda3/lib/python3.11/site-packages/sklearn/base.py\", line 1145, in wrapper\n",
      "    estimator._validate_params()\n",
      "  File \"/home/dai/anaconda3/lib/python3.11/site-packages/sklearn/base.py\", line 638, in _validate_params\n",
      "    validate_parameter_constraints(\n",
      "  File \"/home/dai/anaconda3/lib/python3.11/site-packages/sklearn/utils/_param_validation.py\", line 96, in validate_parameter_constraints\n",
      "    raise InvalidParameterError(\n",
      "sklearn.utils._param_validation.InvalidParameterError: The 'multi_class' parameter of LogisticRegression must be a str among {'ovr', 'multinomial', 'auto'}. Got 'multimodel' instead.\n",
      "\n",
      "--------------------------------------------------------------------------------\n",
      "30 fits failed with the following error:\n",
      "Traceback (most recent call last):\n",
      "  File \"/home/dai/anaconda3/lib/python3.11/site-packages/sklearn/model_selection/_validation.py\", line 729, in _fit_and_score\n",
      "    estimator.fit(X_train, y_train, **fit_params)\n",
      "  File \"/home/dai/anaconda3/lib/python3.11/site-packages/sklearn/base.py\", line 1152, in wrapper\n",
      "    return fit_method(estimator, *args, **kwargs)\n",
      "           ^^^^^^^^^^^^^^^^^^^^^^^^^^^^^^^^^^^^^^\n",
      "  File \"/home/dai/anaconda3/lib/python3.11/site-packages/sklearn/ensemble/_voting.py\", line 349, in fit\n",
      "    return super().fit(X, transformed_y, sample_weight)\n",
      "           ^^^^^^^^^^^^^^^^^^^^^^^^^^^^^^^^^^^^^^^^^^^^\n",
      "  File \"/home/dai/anaconda3/lib/python3.11/site-packages/sklearn/ensemble/_voting.py\", line 81, in fit\n",
      "    self.estimators_ = Parallel(n_jobs=self.n_jobs)(\n",
      "                       ^^^^^^^^^^^^^^^^^^^^^^^^^^^^^\n",
      "  File \"/home/dai/anaconda3/lib/python3.11/site-packages/sklearn/utils/parallel.py\", line 65, in __call__\n",
      "    return super().__call__(iterable_with_config)\n",
      "           ^^^^^^^^^^^^^^^^^^^^^^^^^^^^^^^^^^^^^^\n",
      "  File \"/home/dai/anaconda3/lib/python3.11/site-packages/joblib/parallel.py\", line 1088, in __call__\n",
      "    while self.dispatch_one_batch(iterator):\n",
      "          ^^^^^^^^^^^^^^^^^^^^^^^^^^^^^^^^^\n",
      "  File \"/home/dai/anaconda3/lib/python3.11/site-packages/joblib/parallel.py\", line 901, in dispatch_one_batch\n",
      "    self._dispatch(tasks)\n",
      "  File \"/home/dai/anaconda3/lib/python3.11/site-packages/joblib/parallel.py\", line 819, in _dispatch\n",
      "    job = self._backend.apply_async(batch, callback=cb)\n",
      "          ^^^^^^^^^^^^^^^^^^^^^^^^^^^^^^^^^^^^^^^^^^^^^\n",
      "  File \"/home/dai/anaconda3/lib/python3.11/site-packages/joblib/_parallel_backends.py\", line 208, in apply_async\n",
      "    result = ImmediateResult(func)\n",
      "             ^^^^^^^^^^^^^^^^^^^^^\n",
      "  File \"/home/dai/anaconda3/lib/python3.11/site-packages/joblib/_parallel_backends.py\", line 597, in __init__\n",
      "    self.results = batch()\n",
      "                   ^^^^^^^\n",
      "  File \"/home/dai/anaconda3/lib/python3.11/site-packages/joblib/parallel.py\", line 288, in __call__\n",
      "    return [func(*args, **kwargs)\n",
      "           ^^^^^^^^^^^^^^^^^^^^^^\n",
      "  File \"/home/dai/anaconda3/lib/python3.11/site-packages/joblib/parallel.py\", line 288, in <listcomp>\n",
      "    return [func(*args, **kwargs)\n",
      "            ^^^^^^^^^^^^^^^^^^^^^\n",
      "  File \"/home/dai/anaconda3/lib/python3.11/site-packages/sklearn/utils/parallel.py\", line 127, in __call__\n",
      "    return self.function(*args, **kwargs)\n",
      "           ^^^^^^^^^^^^^^^^^^^^^^^^^^^^^^\n",
      "  File \"/home/dai/anaconda3/lib/python3.11/site-packages/sklearn/ensemble/_base.py\", line 36, in _fit_single_estimator\n",
      "    estimator.fit(X, y)\n",
      "  File \"/home/dai/anaconda3/lib/python3.11/site-packages/sklearn/base.py\", line 1152, in wrapper\n",
      "    return fit_method(estimator, *args, **kwargs)\n",
      "           ^^^^^^^^^^^^^^^^^^^^^^^^^^^^^^^^^^^^^^\n",
      "  File \"/home/dai/anaconda3/lib/python3.11/site-packages/sklearn/linear_model/_logistic.py\", line 1169, in fit\n",
      "    solver = _check_solver(self.solver, self.penalty, self.dual)\n",
      "             ^^^^^^^^^^^^^^^^^^^^^^^^^^^^^^^^^^^^^^^^^^^^^^^^^^^\n",
      "  File \"/home/dai/anaconda3/lib/python3.11/site-packages/sklearn/linear_model/_logistic.py\", line 56, in _check_solver\n",
      "    raise ValueError(\n",
      "ValueError: Solver lbfgs supports only 'l2' or 'none' penalties, got elasticnet penalty.\n",
      "\n",
      "--------------------------------------------------------------------------------\n",
      "20 fits failed with the following error:\n",
      "Traceback (most recent call last):\n",
      "  File \"/home/dai/anaconda3/lib/python3.11/site-packages/sklearn/model_selection/_validation.py\", line 729, in _fit_and_score\n",
      "    estimator.fit(X_train, y_train, **fit_params)\n",
      "  File \"/home/dai/anaconda3/lib/python3.11/site-packages/sklearn/base.py\", line 1152, in wrapper\n",
      "    return fit_method(estimator, *args, **kwargs)\n",
      "           ^^^^^^^^^^^^^^^^^^^^^^^^^^^^^^^^^^^^^^\n",
      "  File \"/home/dai/anaconda3/lib/python3.11/site-packages/sklearn/ensemble/_voting.py\", line 349, in fit\n",
      "    return super().fit(X, transformed_y, sample_weight)\n",
      "           ^^^^^^^^^^^^^^^^^^^^^^^^^^^^^^^^^^^^^^^^^^^^\n",
      "  File \"/home/dai/anaconda3/lib/python3.11/site-packages/sklearn/ensemble/_voting.py\", line 81, in fit\n",
      "    self.estimators_ = Parallel(n_jobs=self.n_jobs)(\n",
      "                       ^^^^^^^^^^^^^^^^^^^^^^^^^^^^^\n",
      "  File \"/home/dai/anaconda3/lib/python3.11/site-packages/sklearn/utils/parallel.py\", line 65, in __call__\n",
      "    return super().__call__(iterable_with_config)\n",
      "           ^^^^^^^^^^^^^^^^^^^^^^^^^^^^^^^^^^^^^^\n",
      "  File \"/home/dai/anaconda3/lib/python3.11/site-packages/joblib/parallel.py\", line 1088, in __call__\n",
      "    while self.dispatch_one_batch(iterator):\n",
      "          ^^^^^^^^^^^^^^^^^^^^^^^^^^^^^^^^^\n",
      "  File \"/home/dai/anaconda3/lib/python3.11/site-packages/joblib/parallel.py\", line 901, in dispatch_one_batch\n",
      "    self._dispatch(tasks)\n",
      "  File \"/home/dai/anaconda3/lib/python3.11/site-packages/joblib/parallel.py\", line 819, in _dispatch\n",
      "    job = self._backend.apply_async(batch, callback=cb)\n",
      "          ^^^^^^^^^^^^^^^^^^^^^^^^^^^^^^^^^^^^^^^^^^^^^\n",
      "  File \"/home/dai/anaconda3/lib/python3.11/site-packages/joblib/_parallel_backends.py\", line 208, in apply_async\n",
      "    result = ImmediateResult(func)\n",
      "             ^^^^^^^^^^^^^^^^^^^^^\n",
      "  File \"/home/dai/anaconda3/lib/python3.11/site-packages/joblib/_parallel_backends.py\", line 597, in __init__\n",
      "    self.results = batch()\n",
      "                   ^^^^^^^\n",
      "  File \"/home/dai/anaconda3/lib/python3.11/site-packages/joblib/parallel.py\", line 288, in __call__\n",
      "    return [func(*args, **kwargs)\n",
      "           ^^^^^^^^^^^^^^^^^^^^^^\n",
      "  File \"/home/dai/anaconda3/lib/python3.11/site-packages/joblib/parallel.py\", line 288, in <listcomp>\n",
      "    return [func(*args, **kwargs)\n",
      "            ^^^^^^^^^^^^^^^^^^^^^\n",
      "  File \"/home/dai/anaconda3/lib/python3.11/site-packages/sklearn/utils/parallel.py\", line 127, in __call__\n",
      "    return self.function(*args, **kwargs)\n",
      "           ^^^^^^^^^^^^^^^^^^^^^^^^^^^^^^\n",
      "  File \"/home/dai/anaconda3/lib/python3.11/site-packages/sklearn/ensemble/_base.py\", line 36, in _fit_single_estimator\n",
      "    estimator.fit(X, y)\n",
      "  File \"/home/dai/anaconda3/lib/python3.11/site-packages/sklearn/base.py\", line 1152, in wrapper\n",
      "    return fit_method(estimator, *args, **kwargs)\n",
      "           ^^^^^^^^^^^^^^^^^^^^^^^^^^^^^^^^^^^^^^\n",
      "  File \"/home/dai/anaconda3/lib/python3.11/site-packages/sklearn/linear_model/_logistic.py\", line 1169, in fit\n",
      "    solver = _check_solver(self.solver, self.penalty, self.dual)\n",
      "             ^^^^^^^^^^^^^^^^^^^^^^^^^^^^^^^^^^^^^^^^^^^^^^^^^^^\n",
      "  File \"/home/dai/anaconda3/lib/python3.11/site-packages/sklearn/linear_model/_logistic.py\", line 56, in _check_solver\n",
      "    raise ValueError(\n",
      "ValueError: Solver lbfgs supports only 'l2' or 'none' penalties, got l1 penalty.\n",
      "\n",
      "  warnings.warn(some_fits_failed_message, FitFailedWarning)\n",
      "/home/dai/anaconda3/lib/python3.11/site-packages/sklearn/model_selection/_search.py:979: UserWarning: One or more of the test scores are non-finite: [        nan         nan         nan         nan         nan         nan\n",
      " -0.77348097         nan         nan -0.52363849 -0.7932696          nan\n",
      "         nan -0.91505131 -0.90845197         nan -0.98591266         nan\n",
      "         nan         nan         nan         nan         nan         nan\n",
      "         nan         nan -0.81686753         nan         nan         nan\n",
      " -0.79753625         nan -0.83302311         nan         nan         nan\n",
      "         nan -0.79287879         nan         nan         nan         nan\n",
      "         nan -0.53198737 -0.79845863 -0.87115651         nan         nan\n",
      "         nan         nan]\n",
      "  warnings.warn(\n",
      "/home/dai/anaconda3/lib/python3.11/site-packages/sklearn/linear_model/_logistic.py:460: ConvergenceWarning: lbfgs failed to converge (status=1):\n",
      "STOP: TOTAL NO. of ITERATIONS REACHED LIMIT.\n",
      "\n",
      "Increase the number of iterations (max_iter) or scale the data as shown in:\n",
      "    https://scikit-learn.org/stable/modules/preprocessing.html\n",
      "Please also refer to the documentation for alternative solver options:\n",
      "    https://scikit-learn.org/stable/modules/linear_model.html#logistic-regression\n",
      "  n_iter_i = _check_optimize_result(\n"
     ]
    },
    {
     "data": {
      "text/html": [
       "<style>#sk-container-id-9 {color: black;}#sk-container-id-9 pre{padding: 0;}#sk-container-id-9 div.sk-toggleable {background-color: white;}#sk-container-id-9 label.sk-toggleable__label {cursor: pointer;display: block;width: 100%;margin-bottom: 0;padding: 0.3em;box-sizing: border-box;text-align: center;}#sk-container-id-9 label.sk-toggleable__label-arrow:before {content: \"▸\";float: left;margin-right: 0.25em;color: #696969;}#sk-container-id-9 label.sk-toggleable__label-arrow:hover:before {color: black;}#sk-container-id-9 div.sk-estimator:hover label.sk-toggleable__label-arrow:before {color: black;}#sk-container-id-9 div.sk-toggleable__content {max-height: 0;max-width: 0;overflow: hidden;text-align: left;background-color: #f0f8ff;}#sk-container-id-9 div.sk-toggleable__content pre {margin: 0.2em;color: black;border-radius: 0.25em;background-color: #f0f8ff;}#sk-container-id-9 input.sk-toggleable__control:checked~div.sk-toggleable__content {max-height: 200px;max-width: 100%;overflow: auto;}#sk-container-id-9 input.sk-toggleable__control:checked~label.sk-toggleable__label-arrow:before {content: \"▾\";}#sk-container-id-9 div.sk-estimator input.sk-toggleable__control:checked~label.sk-toggleable__label {background-color: #d4ebff;}#sk-container-id-9 div.sk-label input.sk-toggleable__control:checked~label.sk-toggleable__label {background-color: #d4ebff;}#sk-container-id-9 input.sk-hidden--visually {border: 0;clip: rect(1px 1px 1px 1px);clip: rect(1px, 1px, 1px, 1px);height: 1px;margin: -1px;overflow: hidden;padding: 0;position: absolute;width: 1px;}#sk-container-id-9 div.sk-estimator {font-family: monospace;background-color: #f0f8ff;border: 1px dotted black;border-radius: 0.25em;box-sizing: border-box;margin-bottom: 0.5em;}#sk-container-id-9 div.sk-estimator:hover {background-color: #d4ebff;}#sk-container-id-9 div.sk-parallel-item::after {content: \"\";width: 100%;border-bottom: 1px solid gray;flex-grow: 1;}#sk-container-id-9 div.sk-label:hover label.sk-toggleable__label {background-color: #d4ebff;}#sk-container-id-9 div.sk-serial::before {content: \"\";position: absolute;border-left: 1px solid gray;box-sizing: border-box;top: 0;bottom: 0;left: 50%;z-index: 0;}#sk-container-id-9 div.sk-serial {display: flex;flex-direction: column;align-items: center;background-color: white;padding-right: 0.2em;padding-left: 0.2em;position: relative;}#sk-container-id-9 div.sk-item {position: relative;z-index: 1;}#sk-container-id-9 div.sk-parallel {display: flex;align-items: stretch;justify-content: center;background-color: white;position: relative;}#sk-container-id-9 div.sk-item::before, #sk-container-id-9 div.sk-parallel-item::before {content: \"\";position: absolute;border-left: 1px solid gray;box-sizing: border-box;top: 0;bottom: 0;left: 50%;z-index: -1;}#sk-container-id-9 div.sk-parallel-item {display: flex;flex-direction: column;z-index: 1;position: relative;background-color: white;}#sk-container-id-9 div.sk-parallel-item:first-child::after {align-self: flex-end;width: 50%;}#sk-container-id-9 div.sk-parallel-item:last-child::after {align-self: flex-start;width: 50%;}#sk-container-id-9 div.sk-parallel-item:only-child::after {width: 0;}#sk-container-id-9 div.sk-dashed-wrapped {border: 1px dashed gray;margin: 0 0.4em 0.5em 0.4em;box-sizing: border-box;padding-bottom: 0.4em;background-color: white;}#sk-container-id-9 div.sk-label label {font-family: monospace;font-weight: bold;display: inline-block;line-height: 1.2em;}#sk-container-id-9 div.sk-label-container {text-align: center;}#sk-container-id-9 div.sk-container {/* jupyter's `normalize.less` sets `[hidden] { display: none; }` but bootstrap.min.css set `[hidden] { display: none !important; }` so we also need the `!important` here to be able to override the default hidden behavior on the sphinx rendered scikit-learn.org. See: https://github.com/scikit-learn/scikit-learn/issues/21755 */display: inline-block !important;position: relative;}#sk-container-id-9 div.sk-text-repr-fallback {display: none;}</style><div id=\"sk-container-id-9\" class=\"sk-top-container\"><div class=\"sk-text-repr-fallback\"><pre>RandomizedSearchCV(cv=StratifiedKFold(n_splits=5, random_state=23, shuffle=True),\n",
       "                   estimator=VotingClassifier(estimators=[(&#x27;SVM&#x27;,\n",
       "                                                           SVC(probability=True,\n",
       "                                                               random_state=23)),\n",
       "                                                          (&#x27;LR&#x27;,\n",
       "                                                           LogisticRegression()),\n",
       "                                                          (&#x27;DTC&#x27;,\n",
       "                                                           DecisionTreeClassifier())],\n",
       "                                              voting=&#x27;soft&#x27;,\n",
       "                                              weights=[0.45, 0.35, 0.2]),\n",
       "                   n_iter=50,\n",
       "                   param_distributions={&#x27;DTC__max_depth&#x27;: [2, 3, 4, 5, 6, None],\n",
       "                                        &#x27;DTC__min_samples_leaf&#x27;: [1, 3, 5, 7,\n",
       "                                                                  10, 15],\n",
       "                                        &#x27;DTC__min_samples_split&#x27;: [2, 5, 10],\n",
       "                                        &#x27;LR__multi_class&#x27;: [&#x27;multimodel&#x27;,\n",
       "                                                            &#x27;ovr&#x27;],\n",
       "                                        &#x27;LR__penalty&#x27;: [&#x27;l1&#x27;, &#x27;l2&#x27;,\n",
       "                                                        &#x27;elasticnet&#x27;, None],\n",
       "                                        &#x27;SVM__C&#x27;: array([1.00000e-03, 1.25075e+00, 2.50050e+00, 3.75025e+00, 5.00000e+00]),\n",
       "                                        &#x27;SVM__gamma&#x27;: [&#x27;scale&#x27;, &#x27;auto&#x27;]},\n",
       "                   scoring=&#x27;neg_log_loss&#x27;, verbose=3)</pre><b>In a Jupyter environment, please rerun this cell to show the HTML representation or trust the notebook. <br />On GitHub, the HTML representation is unable to render, please try loading this page with nbviewer.org.</b></div><div class=\"sk-container\" hidden><div class=\"sk-item sk-dashed-wrapped\"><div class=\"sk-label-container\"><div class=\"sk-label sk-toggleable\"><input class=\"sk-toggleable__control sk-hidden--visually\" id=\"sk-estimator-id-35\" type=\"checkbox\" ><label for=\"sk-estimator-id-35\" class=\"sk-toggleable__label sk-toggleable__label-arrow\">RandomizedSearchCV</label><div class=\"sk-toggleable__content\"><pre>RandomizedSearchCV(cv=StratifiedKFold(n_splits=5, random_state=23, shuffle=True),\n",
       "                   estimator=VotingClassifier(estimators=[(&#x27;SVM&#x27;,\n",
       "                                                           SVC(probability=True,\n",
       "                                                               random_state=23)),\n",
       "                                                          (&#x27;LR&#x27;,\n",
       "                                                           LogisticRegression()),\n",
       "                                                          (&#x27;DTC&#x27;,\n",
       "                                                           DecisionTreeClassifier())],\n",
       "                                              voting=&#x27;soft&#x27;,\n",
       "                                              weights=[0.45, 0.35, 0.2]),\n",
       "                   n_iter=50,\n",
       "                   param_distributions={&#x27;DTC__max_depth&#x27;: [2, 3, 4, 5, 6, None],\n",
       "                                        &#x27;DTC__min_samples_leaf&#x27;: [1, 3, 5, 7,\n",
       "                                                                  10, 15],\n",
       "                                        &#x27;DTC__min_samples_split&#x27;: [2, 5, 10],\n",
       "                                        &#x27;LR__multi_class&#x27;: [&#x27;multimodel&#x27;,\n",
       "                                                            &#x27;ovr&#x27;],\n",
       "                                        &#x27;LR__penalty&#x27;: [&#x27;l1&#x27;, &#x27;l2&#x27;,\n",
       "                                                        &#x27;elasticnet&#x27;, None],\n",
       "                                        &#x27;SVM__C&#x27;: array([1.00000e-03, 1.25075e+00, 2.50050e+00, 3.75025e+00, 5.00000e+00]),\n",
       "                                        &#x27;SVM__gamma&#x27;: [&#x27;scale&#x27;, &#x27;auto&#x27;]},\n",
       "                   scoring=&#x27;neg_log_loss&#x27;, verbose=3)</pre></div></div></div><div class=\"sk-parallel\"><div class=\"sk-parallel-item\"><div class=\"sk-item\"><div class=\"sk-label-container\"><div class=\"sk-label sk-toggleable\"><input class=\"sk-toggleable__control sk-hidden--visually\" id=\"sk-estimator-id-36\" type=\"checkbox\" ><label for=\"sk-estimator-id-36\" class=\"sk-toggleable__label sk-toggleable__label-arrow\">estimator: VotingClassifier</label><div class=\"sk-toggleable__content\"><pre>VotingClassifier(estimators=[(&#x27;SVM&#x27;, SVC(probability=True, random_state=23)),\n",
       "                             (&#x27;LR&#x27;, LogisticRegression()),\n",
       "                             (&#x27;DTC&#x27;, DecisionTreeClassifier())],\n",
       "                 voting=&#x27;soft&#x27;, weights=[0.45, 0.35, 0.2])</pre></div></div></div><div class=\"sk-serial\"><div class=\"sk-item sk-dashed-wrapped\"><div class=\"sk-parallel\"><div class=\"sk-parallel-item\"><div class=\"sk-item\"><div class=\"sk-label-container\"><div class=\"sk-label sk-toggleable\"><label>SVM</label></div></div><div class=\"sk-serial\"><div class=\"sk-item\"><div class=\"sk-estimator sk-toggleable\"><input class=\"sk-toggleable__control sk-hidden--visually\" id=\"sk-estimator-id-37\" type=\"checkbox\" ><label for=\"sk-estimator-id-37\" class=\"sk-toggleable__label sk-toggleable__label-arrow\">SVC</label><div class=\"sk-toggleable__content\"><pre>SVC(probability=True, random_state=23)</pre></div></div></div></div></div></div><div class=\"sk-parallel-item\"><div class=\"sk-item\"><div class=\"sk-label-container\"><div class=\"sk-label sk-toggleable\"><label>LR</label></div></div><div class=\"sk-serial\"><div class=\"sk-item\"><div class=\"sk-estimator sk-toggleable\"><input class=\"sk-toggleable__control sk-hidden--visually\" id=\"sk-estimator-id-38\" type=\"checkbox\" ><label for=\"sk-estimator-id-38\" class=\"sk-toggleable__label sk-toggleable__label-arrow\">LogisticRegression</label><div class=\"sk-toggleable__content\"><pre>LogisticRegression()</pre></div></div></div></div></div></div><div class=\"sk-parallel-item\"><div class=\"sk-item\"><div class=\"sk-label-container\"><div class=\"sk-label sk-toggleable\"><label>DTC</label></div></div><div class=\"sk-serial\"><div class=\"sk-item\"><div class=\"sk-estimator sk-toggleable\"><input class=\"sk-toggleable__control sk-hidden--visually\" id=\"sk-estimator-id-39\" type=\"checkbox\" ><label for=\"sk-estimator-id-39\" class=\"sk-toggleable__label sk-toggleable__label-arrow\">DecisionTreeClassifier</label><div class=\"sk-toggleable__content\"><pre>DecisionTreeClassifier()</pre></div></div></div></div></div></div></div></div></div></div></div></div></div></div></div>"
      ],
      "text/plain": [
       "RandomizedSearchCV(cv=StratifiedKFold(n_splits=5, random_state=23, shuffle=True),\n",
       "                   estimator=VotingClassifier(estimators=[('SVM',\n",
       "                                                           SVC(probability=True,\n",
       "                                                               random_state=23)),\n",
       "                                                          ('LR',\n",
       "                                                           LogisticRegression()),\n",
       "                                                          ('DTC',\n",
       "                                                           DecisionTreeClassifier())],\n",
       "                                              voting='soft',\n",
       "                                              weights=[0.45, 0.35, 0.2]),\n",
       "                   n_iter=50,\n",
       "                   param_distributions={'DTC__max_depth': [2, 3, 4, 5, 6, None],\n",
       "                                        'DTC__min_samples_leaf': [1, 3, 5, 7,\n",
       "                                                                  10, 15],\n",
       "                                        'DTC__min_samples_split': [2, 5, 10],\n",
       "                                        'LR__multi_class': ['multimodel',\n",
       "                                                            'ovr'],\n",
       "                                        'LR__penalty': ['l1', 'l2',\n",
       "                                                        'elasticnet', None],\n",
       "                                        'SVM__C': array([1.00000e-03, 1.25075e+00, 2.50050e+00, 3.75025e+00, 5.00000e+00]),\n",
       "                                        'SVM__gamma': ['scale', 'auto']},\n",
       "                   scoring='neg_log_loss', verbose=3)"
      ]
     },
     "execution_count": 66,
     "metadata": {},
     "output_type": "execute_result"
    }
   ],
   "source": [
    "rgcv.fit(X,y)"
   ]
  },
  {
   "cell_type": "code",
   "execution_count": 67,
   "id": "4823fd52",
   "metadata": {},
   "outputs": [
    {
     "data": {
      "text/plain": [
       "-0.5236384908597582"
      ]
     },
     "execution_count": 67,
     "metadata": {},
     "output_type": "execute_result"
    }
   ],
   "source": [
    "rgcv.best_score_"
   ]
  },
  {
   "cell_type": "code",
   "execution_count": null,
   "id": "9e52dd55",
   "metadata": {},
   "outputs": [],
   "source": []
  }
 ],
 "metadata": {
  "kernelspec": {
   "display_name": "Python 3 (ipykernel)",
   "language": "python",
   "name": "python3"
  },
  "language_info": {
   "codemirror_mode": {
    "name": "ipython",
    "version": 3
   },
   "file_extension": ".py",
   "mimetype": "text/x-python",
   "name": "python",
   "nbconvert_exporter": "python",
   "pygments_lexer": "ipython3",
   "version": "3.11.5"
  }
 },
 "nbformat": 4,
 "nbformat_minor": 5
}
