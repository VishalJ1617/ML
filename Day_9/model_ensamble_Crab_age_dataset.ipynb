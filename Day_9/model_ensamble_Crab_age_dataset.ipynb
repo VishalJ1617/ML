{
 "cells": [
  {
   "cell_type": "markdown",
   "id": "641e0a14",
   "metadata": {},
   "source": [
    "## Model_Ensamble with crab age dataset"
   ]
  },
  {
   "cell_type": "code",
   "execution_count": 1,
   "id": "9c1df1ab",
   "metadata": {},
   "outputs": [],
   "source": [
    "import pandas as pd\n",
    "import numpy as np\n",
    "from sklearn.ensemble import VotingRegressor\n",
    "from sklearn.preprocessing import LabelEncoder, StandardScaler, MinMaxScaler\n",
    "from sklearn.linear_model import ElasticNet\n",
    "from sklearn.neighbors import KNeighborsRegressor\n",
    "from sklearn.tree import DecisionTreeRegressor"
   ]
  },
  {
   "cell_type": "code",
   "execution_count": 2,
   "id": "969d6fe5",
   "metadata": {},
   "outputs": [],
   "source": [
    "crab_df=pd.read_csv('train.csv',index_col=0)"
   ]
  },
  {
   "cell_type": "code",
   "execution_count": 3,
   "id": "0ce49686",
   "metadata": {},
   "outputs": [],
   "source": [
    "lbl=LabelEncoder()"
   ]
  },
  {
   "cell_type": "code",
   "execution_count": 4,
   "id": "bc990bd6",
   "metadata": {},
   "outputs": [
    {
     "data": {
      "text/html": [
       "<div>\n",
       "<style scoped>\n",
       "    .dataframe tbody tr th:only-of-type {\n",
       "        vertical-align: middle;\n",
       "    }\n",
       "\n",
       "    .dataframe tbody tr th {\n",
       "        vertical-align: top;\n",
       "    }\n",
       "\n",
       "    .dataframe thead th {\n",
       "        text-align: right;\n",
       "    }\n",
       "</style>\n",
       "<table border=\"1\" class=\"dataframe\">\n",
       "  <thead>\n",
       "    <tr style=\"text-align: right;\">\n",
       "      <th></th>\n",
       "      <th>Length</th>\n",
       "      <th>Diameter</th>\n",
       "      <th>Height</th>\n",
       "      <th>Weight</th>\n",
       "      <th>Shucked Weight</th>\n",
       "      <th>Viscera Weight</th>\n",
       "      <th>Shell Weight</th>\n",
       "      <th>Age</th>\n",
       "      <th>Sex_I</th>\n",
       "      <th>Sex_M</th>\n",
       "    </tr>\n",
       "    <tr>\n",
       "      <th>id</th>\n",
       "      <th></th>\n",
       "      <th></th>\n",
       "      <th></th>\n",
       "      <th></th>\n",
       "      <th></th>\n",
       "      <th></th>\n",
       "      <th></th>\n",
       "      <th></th>\n",
       "      <th></th>\n",
       "      <th></th>\n",
       "    </tr>\n",
       "  </thead>\n",
       "  <tbody>\n",
       "    <tr>\n",
       "      <th>0</th>\n",
       "      <td>1.5250</td>\n",
       "      <td>1.1750</td>\n",
       "      <td>0.3750</td>\n",
       "      <td>28.973189</td>\n",
       "      <td>12.728926</td>\n",
       "      <td>6.647958</td>\n",
       "      <td>8.348928</td>\n",
       "      <td>9</td>\n",
       "      <td>True</td>\n",
       "      <td>False</td>\n",
       "    </tr>\n",
       "    <tr>\n",
       "      <th>1</th>\n",
       "      <td>1.1000</td>\n",
       "      <td>0.8250</td>\n",
       "      <td>0.2750</td>\n",
       "      <td>10.418441</td>\n",
       "      <td>4.521745</td>\n",
       "      <td>2.324659</td>\n",
       "      <td>3.401940</td>\n",
       "      <td>8</td>\n",
       "      <td>True</td>\n",
       "      <td>False</td>\n",
       "    </tr>\n",
       "    <tr>\n",
       "      <th>2</th>\n",
       "      <td>1.3875</td>\n",
       "      <td>1.1125</td>\n",
       "      <td>0.3750</td>\n",
       "      <td>24.777463</td>\n",
       "      <td>11.339800</td>\n",
       "      <td>5.556502</td>\n",
       "      <td>6.662133</td>\n",
       "      <td>9</td>\n",
       "      <td>False</td>\n",
       "      <td>True</td>\n",
       "    </tr>\n",
       "    <tr>\n",
       "      <th>3</th>\n",
       "      <td>1.7000</td>\n",
       "      <td>1.4125</td>\n",
       "      <td>0.5000</td>\n",
       "      <td>50.660556</td>\n",
       "      <td>20.354941</td>\n",
       "      <td>10.991839</td>\n",
       "      <td>14.996885</td>\n",
       "      <td>11</td>\n",
       "      <td>False</td>\n",
       "      <td>False</td>\n",
       "    </tr>\n",
       "    <tr>\n",
       "      <th>4</th>\n",
       "      <td>1.2500</td>\n",
       "      <td>1.0125</td>\n",
       "      <td>0.3375</td>\n",
       "      <td>23.289114</td>\n",
       "      <td>11.977664</td>\n",
       "      <td>4.507570</td>\n",
       "      <td>5.953395</td>\n",
       "      <td>8</td>\n",
       "      <td>True</td>\n",
       "      <td>False</td>\n",
       "    </tr>\n",
       "    <tr>\n",
       "      <th>...</th>\n",
       "      <td>...</td>\n",
       "      <td>...</td>\n",
       "      <td>...</td>\n",
       "      <td>...</td>\n",
       "      <td>...</td>\n",
       "      <td>...</td>\n",
       "      <td>...</td>\n",
       "      <td>...</td>\n",
       "      <td>...</td>\n",
       "      <td>...</td>\n",
       "    </tr>\n",
       "    <tr>\n",
       "      <th>74046</th>\n",
       "      <td>1.6625</td>\n",
       "      <td>1.2625</td>\n",
       "      <td>0.4375</td>\n",
       "      <td>50.660556</td>\n",
       "      <td>20.680960</td>\n",
       "      <td>10.361742</td>\n",
       "      <td>12.332033</td>\n",
       "      <td>10</td>\n",
       "      <td>False</td>\n",
       "      <td>False</td>\n",
       "    </tr>\n",
       "    <tr>\n",
       "      <th>74047</th>\n",
       "      <td>1.0750</td>\n",
       "      <td>0.8625</td>\n",
       "      <td>0.2750</td>\n",
       "      <td>10.446791</td>\n",
       "      <td>4.323299</td>\n",
       "      <td>2.296310</td>\n",
       "      <td>3.543687</td>\n",
       "      <td>6</td>\n",
       "      <td>True</td>\n",
       "      <td>False</td>\n",
       "    </tr>\n",
       "    <tr>\n",
       "      <th>74048</th>\n",
       "      <td>1.4875</td>\n",
       "      <td>1.2000</td>\n",
       "      <td>0.4125</td>\n",
       "      <td>29.483480</td>\n",
       "      <td>12.303683</td>\n",
       "      <td>7.540967</td>\n",
       "      <td>8.079607</td>\n",
       "      <td>10</td>\n",
       "      <td>False</td>\n",
       "      <td>False</td>\n",
       "    </tr>\n",
       "    <tr>\n",
       "      <th>74049</th>\n",
       "      <td>1.2125</td>\n",
       "      <td>0.9625</td>\n",
       "      <td>0.3125</td>\n",
       "      <td>16.768729</td>\n",
       "      <td>8.972617</td>\n",
       "      <td>2.919999</td>\n",
       "      <td>4.280774</td>\n",
       "      <td>8</td>\n",
       "      <td>True</td>\n",
       "      <td>False</td>\n",
       "    </tr>\n",
       "    <tr>\n",
       "      <th>74050</th>\n",
       "      <td>0.9125</td>\n",
       "      <td>0.6750</td>\n",
       "      <td>0.2000</td>\n",
       "      <td>5.386405</td>\n",
       "      <td>2.055339</td>\n",
       "      <td>1.034757</td>\n",
       "      <td>1.700970</td>\n",
       "      <td>6</td>\n",
       "      <td>True</td>\n",
       "      <td>False</td>\n",
       "    </tr>\n",
       "  </tbody>\n",
       "</table>\n",
       "<p>74051 rows × 10 columns</p>\n",
       "</div>"
      ],
      "text/plain": [
       "       Length  Diameter  Height     Weight  Shucked Weight  Viscera Weight  \\\n",
       "id                                                                           \n",
       "0      1.5250    1.1750  0.3750  28.973189       12.728926        6.647958   \n",
       "1      1.1000    0.8250  0.2750  10.418441        4.521745        2.324659   \n",
       "2      1.3875    1.1125  0.3750  24.777463       11.339800        5.556502   \n",
       "3      1.7000    1.4125  0.5000  50.660556       20.354941       10.991839   \n",
       "4      1.2500    1.0125  0.3375  23.289114       11.977664        4.507570   \n",
       "...       ...       ...     ...        ...             ...             ...   \n",
       "74046  1.6625    1.2625  0.4375  50.660556       20.680960       10.361742   \n",
       "74047  1.0750    0.8625  0.2750  10.446791        4.323299        2.296310   \n",
       "74048  1.4875    1.2000  0.4125  29.483480       12.303683        7.540967   \n",
       "74049  1.2125    0.9625  0.3125  16.768729        8.972617        2.919999   \n",
       "74050  0.9125    0.6750  0.2000   5.386405        2.055339        1.034757   \n",
       "\n",
       "       Shell Weight  Age  Sex_I  Sex_M  \n",
       "id                                      \n",
       "0          8.348928    9   True  False  \n",
       "1          3.401940    8   True  False  \n",
       "2          6.662133    9  False   True  \n",
       "3         14.996885   11  False  False  \n",
       "4          5.953395    8   True  False  \n",
       "...             ...  ...    ...    ...  \n",
       "74046     12.332033   10  False  False  \n",
       "74047      3.543687    6   True  False  \n",
       "74048      8.079607   10  False  False  \n",
       "74049      4.280774    8   True  False  \n",
       "74050      1.700970    6   True  False  \n",
       "\n",
       "[74051 rows x 10 columns]"
      ]
     },
     "execution_count": 4,
     "metadata": {},
     "output_type": "execute_result"
    }
   ],
   "source": [
    "crab_df=pd.get_dummies(crab_df,drop_first=True)\n",
    "crab_df"
   ]
  },
  {
   "cell_type": "code",
   "execution_count": 5,
   "id": "6fc6d33c",
   "metadata": {},
   "outputs": [],
   "source": [
    "X=crab_df.drop('Age',axis=1)\n",
    "y=crab_df['Age']"
   ]
  },
  {
   "cell_type": "code",
   "execution_count": 6,
   "id": "2ace7a37",
   "metadata": {},
   "outputs": [],
   "source": [
    "elastic=ElasticNet()"
   ]
  },
  {
   "cell_type": "code",
   "execution_count": 7,
   "id": "fee36ed5",
   "metadata": {},
   "outputs": [],
   "source": [
    "scaler=StandardScaler()"
   ]
  },
  {
   "cell_type": "code",
   "execution_count": 8,
   "id": "ab8de009",
   "metadata": {},
   "outputs": [],
   "source": [
    "knn=KNeighborsRegressor()"
   ]
  },
  {
   "cell_type": "code",
   "execution_count": 9,
   "id": "08e62cee",
   "metadata": {},
   "outputs": [],
   "source": [
    "dtr=DecisionTreeRegressor()"
   ]
  },
  {
   "cell_type": "code",
   "execution_count": 10,
   "id": "23347e58",
   "metadata": {},
   "outputs": [],
   "source": [
    "from sklearn.pipeline import Pipeline"
   ]
  },
  {
   "cell_type": "code",
   "execution_count": 11,
   "id": "e0d6b696",
   "metadata": {},
   "outputs": [],
   "source": [
    "pipe=Pipeline([('SCL',scaler),('KNN',knn)])"
   ]
  },
  {
   "cell_type": "code",
   "execution_count": 12,
   "id": "a0c15a5d",
   "metadata": {},
   "outputs": [],
   "source": [
    "ensamble=VotingRegressor(estimators=[('Elastic',elastic),('KNN',pipe),('DTR',dtr)],verbose=3)"
   ]
  },
  {
   "cell_type": "code",
   "execution_count": 13,
   "id": "5a95782d",
   "metadata": {},
   "outputs": [
    {
     "data": {
      "text/plain": [
       "{'estimators': [('Elastic', ElasticNet()),\n",
       "  ('KNN',\n",
       "   Pipeline(steps=[('SCL', StandardScaler()), ('KNN', KNeighborsRegressor())])),\n",
       "  ('DTR', DecisionTreeRegressor())],\n",
       " 'n_jobs': None,\n",
       " 'verbose': 3,\n",
       " 'weights': None,\n",
       " 'Elastic': ElasticNet(),\n",
       " 'KNN': Pipeline(steps=[('SCL', StandardScaler()), ('KNN', KNeighborsRegressor())]),\n",
       " 'DTR': DecisionTreeRegressor(),\n",
       " 'Elastic__alpha': 1.0,\n",
       " 'Elastic__copy_X': True,\n",
       " 'Elastic__fit_intercept': True,\n",
       " 'Elastic__l1_ratio': 0.5,\n",
       " 'Elastic__max_iter': 1000,\n",
       " 'Elastic__positive': False,\n",
       " 'Elastic__precompute': False,\n",
       " 'Elastic__random_state': None,\n",
       " 'Elastic__selection': 'cyclic',\n",
       " 'Elastic__tol': 0.0001,\n",
       " 'Elastic__warm_start': False,\n",
       " 'KNN__memory': None,\n",
       " 'KNN__steps': [('SCL', StandardScaler()), ('KNN', KNeighborsRegressor())],\n",
       " 'KNN__verbose': False,\n",
       " 'KNN__SCL': StandardScaler(),\n",
       " 'KNN__KNN': KNeighborsRegressor(),\n",
       " 'KNN__SCL__copy': True,\n",
       " 'KNN__SCL__with_mean': True,\n",
       " 'KNN__SCL__with_std': True,\n",
       " 'KNN__KNN__algorithm': 'auto',\n",
       " 'KNN__KNN__leaf_size': 30,\n",
       " 'KNN__KNN__metric': 'minkowski',\n",
       " 'KNN__KNN__metric_params': None,\n",
       " 'KNN__KNN__n_jobs': None,\n",
       " 'KNN__KNN__n_neighbors': 5,\n",
       " 'KNN__KNN__p': 2,\n",
       " 'KNN__KNN__weights': 'uniform',\n",
       " 'DTR__ccp_alpha': 0.0,\n",
       " 'DTR__criterion': 'squared_error',\n",
       " 'DTR__max_depth': None,\n",
       " 'DTR__max_features': None,\n",
       " 'DTR__max_leaf_nodes': None,\n",
       " 'DTR__min_impurity_decrease': 0.0,\n",
       " 'DTR__min_samples_leaf': 1,\n",
       " 'DTR__min_samples_split': 2,\n",
       " 'DTR__min_weight_fraction_leaf': 0.0,\n",
       " 'DTR__random_state': None,\n",
       " 'DTR__splitter': 'best'}"
      ]
     },
     "execution_count": 13,
     "metadata": {},
     "output_type": "execute_result"
    }
   ],
   "source": [
    "ensamble.get_params()"
   ]
  },
  {
   "cell_type": "code",
   "execution_count": 14,
   "id": "7f6f27eb",
   "metadata": {},
   "outputs": [],
   "source": [
    "params={'Elastic__alpha':np.linspace(0.001,5,5),'Elastic__l1_ratio':np.linspace(0,1,5),'KNN__SCL':[StandardScaler(),MinMaxScaler()],'KNN__KNN__n_neighbors':[1,2,3,4],'DTR__max_depth':[None,3,5],'DTR__min_samples_split':[2,5,10],'DTR__min_samples_leaf':[1,5,10]}"
   ]
  },
  {
   "cell_type": "code",
   "execution_count": 15,
   "id": "ed96379c",
   "metadata": {},
   "outputs": [],
   "source": [
    "from sklearn.model_selection import GridSearchCV, RandomizedSearchCV"
   ]
  },
  {
   "cell_type": "code",
   "execution_count": 16,
   "id": "015021aa",
   "metadata": {},
   "outputs": [],
   "source": [
    "from sklearn.model_selection import StratifiedKFold"
   ]
  },
  {
   "cell_type": "code",
   "execution_count": 17,
   "id": "175b44a9",
   "metadata": {},
   "outputs": [],
   "source": [
    "kfolf=StratifiedKFold(n_splits=5, shuffle=True, random_state=23)"
   ]
  },
  {
   "cell_type": "code",
   "execution_count": 18,
   "id": "a43bae97",
   "metadata": {},
   "outputs": [],
   "source": [
    "rgcv=RandomizedSearchCV(ensamble,param_distributions=params,cv=kfolf,scoring='r2')"
   ]
  },
  {
   "cell_type": "code",
   "execution_count": 19,
   "id": "52510d51",
   "metadata": {},
   "outputs": [
    {
     "name": "stdout",
     "output_type": "stream",
     "text": [
      "[Voting] .................. (1 of 3) Processing Elastic, total=   0.1s\n",
      "[Voting] ...................... (2 of 3) Processing KNN, total=   0.1s\n",
      "[Voting] ...................... (3 of 3) Processing DTR, total=   0.1s\n",
      "[Voting] .................. (1 of 3) Processing Elastic, total=   0.0s\n",
      "[Voting] ...................... (2 of 3) Processing KNN, total=   0.1s\n",
      "[Voting] ...................... (3 of 3) Processing DTR, total=   0.1s\n",
      "[Voting] .................. (1 of 3) Processing Elastic, total=   0.0s\n",
      "[Voting] ...................... (2 of 3) Processing KNN, total=   0.1s\n",
      "[Voting] ...................... (3 of 3) Processing DTR, total=   0.1s\n",
      "[Voting] .................. (1 of 3) Processing Elastic, total=   0.0s\n",
      "[Voting] ...................... (2 of 3) Processing KNN, total=   0.1s\n",
      "[Voting] ...................... (3 of 3) Processing DTR, total=   0.1s\n",
      "[Voting] .................. (1 of 3) Processing Elastic, total=   0.0s\n",
      "[Voting] ...................... (2 of 3) Processing KNN, total=   0.1s\n",
      "[Voting] ...................... (3 of 3) Processing DTR, total=   0.1s\n"
     ]
    },
    {
     "name": "stderr",
     "output_type": "stream",
     "text": [
      "/home/dai/anaconda3/lib/python3.11/site-packages/sklearn/linear_model/_coordinate_descent.py:628: ConvergenceWarning: Objective did not converge. You might want to increase the number of iterations, check the scale of the features or consider increasing regularisation. Duality gap: 1.789e+05, tolerance: 5.970e+01 Linear regression models with null weight for the l1 regularization term are more efficiently fitted using one of the solvers implemented in sklearn.linear_model.Ridge/RidgeCV instead.\n",
      "  model = cd_fast.enet_coordinate_descent(\n"
     ]
    },
    {
     "name": "stdout",
     "output_type": "stream",
     "text": [
      "[Voting] .................. (1 of 3) Processing Elastic, total=   0.3s\n",
      "[Voting] ...................... (2 of 3) Processing KNN, total=   0.1s\n",
      "[Voting] ...................... (3 of 3) Processing DTR, total=   0.5s\n"
     ]
    },
    {
     "name": "stderr",
     "output_type": "stream",
     "text": [
      "/home/dai/anaconda3/lib/python3.11/site-packages/sklearn/linear_model/_coordinate_descent.py:628: ConvergenceWarning: Objective did not converge. You might want to increase the number of iterations, check the scale of the features or consider increasing regularisation. Duality gap: 1.788e+05, tolerance: 5.974e+01 Linear regression models with null weight for the l1 regularization term are more efficiently fitted using one of the solvers implemented in sklearn.linear_model.Ridge/RidgeCV instead.\n",
      "  model = cd_fast.enet_coordinate_descent(\n"
     ]
    },
    {
     "name": "stdout",
     "output_type": "stream",
     "text": [
      "[Voting] .................. (1 of 3) Processing Elastic, total=   0.3s\n",
      "[Voting] ...................... (2 of 3) Processing KNN, total=   0.1s\n",
      "[Voting] ...................... (3 of 3) Processing DTR, total=   0.5s\n"
     ]
    },
    {
     "name": "stderr",
     "output_type": "stream",
     "text": [
      "/home/dai/anaconda3/lib/python3.11/site-packages/sklearn/linear_model/_coordinate_descent.py:628: ConvergenceWarning: Objective did not converge. You might want to increase the number of iterations, check the scale of the features or consider increasing regularisation. Duality gap: 1.792e+05, tolerance: 5.974e+01 Linear regression models with null weight for the l1 regularization term are more efficiently fitted using one of the solvers implemented in sklearn.linear_model.Ridge/RidgeCV instead.\n",
      "  model = cd_fast.enet_coordinate_descent(\n"
     ]
    },
    {
     "name": "stdout",
     "output_type": "stream",
     "text": [
      "[Voting] .................. (1 of 3) Processing Elastic, total=   0.2s\n",
      "[Voting] ...................... (2 of 3) Processing KNN, total=   0.1s\n",
      "[Voting] ...................... (3 of 3) Processing DTR, total=   0.5s\n"
     ]
    },
    {
     "name": "stderr",
     "output_type": "stream",
     "text": [
      "/home/dai/anaconda3/lib/python3.11/site-packages/sklearn/linear_model/_coordinate_descent.py:628: ConvergenceWarning: Objective did not converge. You might want to increase the number of iterations, check the scale of the features or consider increasing regularisation. Duality gap: 1.785e+05, tolerance: 5.973e+01 Linear regression models with null weight for the l1 regularization term are more efficiently fitted using one of the solvers implemented in sklearn.linear_model.Ridge/RidgeCV instead.\n",
      "  model = cd_fast.enet_coordinate_descent(\n"
     ]
    },
    {
     "name": "stdout",
     "output_type": "stream",
     "text": [
      "[Voting] .................. (1 of 3) Processing Elastic, total=   0.3s\n",
      "[Voting] ...................... (2 of 3) Processing KNN, total=   0.1s\n",
      "[Voting] ...................... (3 of 3) Processing DTR, total=   0.4s\n"
     ]
    },
    {
     "name": "stderr",
     "output_type": "stream",
     "text": [
      "/home/dai/anaconda3/lib/python3.11/site-packages/sklearn/linear_model/_coordinate_descent.py:628: ConvergenceWarning: Objective did not converge. You might want to increase the number of iterations, check the scale of the features or consider increasing regularisation. Duality gap: 1.791e+05, tolerance: 5.972e+01 Linear regression models with null weight for the l1 regularization term are more efficiently fitted using one of the solvers implemented in sklearn.linear_model.Ridge/RidgeCV instead.\n",
      "  model = cd_fast.enet_coordinate_descent(\n"
     ]
    },
    {
     "name": "stdout",
     "output_type": "stream",
     "text": [
      "[Voting] .................. (1 of 3) Processing Elastic, total=   0.3s\n",
      "[Voting] ...................... (2 of 3) Processing KNN, total=   0.1s\n",
      "[Voting] ...................... (3 of 3) Processing DTR, total=   0.4s\n"
     ]
    },
    {
     "name": "stderr",
     "output_type": "stream",
     "text": [
      "/home/dai/anaconda3/lib/python3.11/site-packages/sklearn/linear_model/_coordinate_descent.py:628: ConvergenceWarning: Objective did not converge. You might want to increase the number of iterations, check the scale of the features or consider increasing regularisation. Duality gap: 1.789e+05, tolerance: 5.970e+01 Linear regression models with null weight for the l1 regularization term are more efficiently fitted using one of the solvers implemented in sklearn.linear_model.Ridge/RidgeCV instead.\n",
      "  model = cd_fast.enet_coordinate_descent(\n"
     ]
    },
    {
     "name": "stdout",
     "output_type": "stream",
     "text": [
      "[Voting] .................. (1 of 3) Processing Elastic, total=   0.2s\n",
      "[Voting] ...................... (2 of 3) Processing KNN, total=   0.1s\n",
      "[Voting] ...................... (3 of 3) Processing DTR, total=   0.1s\n"
     ]
    },
    {
     "name": "stderr",
     "output_type": "stream",
     "text": [
      "/home/dai/anaconda3/lib/python3.11/site-packages/sklearn/linear_model/_coordinate_descent.py:628: ConvergenceWarning: Objective did not converge. You might want to increase the number of iterations, check the scale of the features or consider increasing regularisation. Duality gap: 1.788e+05, tolerance: 5.974e+01 Linear regression models with null weight for the l1 regularization term are more efficiently fitted using one of the solvers implemented in sklearn.linear_model.Ridge/RidgeCV instead.\n",
      "  model = cd_fast.enet_coordinate_descent(\n"
     ]
    },
    {
     "name": "stdout",
     "output_type": "stream",
     "text": [
      "[Voting] .................. (1 of 3) Processing Elastic, total=   0.3s\n",
      "[Voting] ...................... (2 of 3) Processing KNN, total=   0.1s\n",
      "[Voting] ...................... (3 of 3) Processing DTR, total=   0.1s\n"
     ]
    },
    {
     "name": "stderr",
     "output_type": "stream",
     "text": [
      "/home/dai/anaconda3/lib/python3.11/site-packages/sklearn/linear_model/_coordinate_descent.py:628: ConvergenceWarning: Objective did not converge. You might want to increase the number of iterations, check the scale of the features or consider increasing regularisation. Duality gap: 1.792e+05, tolerance: 5.974e+01 Linear regression models with null weight for the l1 regularization term are more efficiently fitted using one of the solvers implemented in sklearn.linear_model.Ridge/RidgeCV instead.\n",
      "  model = cd_fast.enet_coordinate_descent(\n"
     ]
    },
    {
     "name": "stdout",
     "output_type": "stream",
     "text": [
      "[Voting] .................. (1 of 3) Processing Elastic, total=   0.2s\n",
      "[Voting] ...................... (2 of 3) Processing KNN, total=   0.1s\n",
      "[Voting] ...................... (3 of 3) Processing DTR, total=   0.1s\n"
     ]
    },
    {
     "name": "stderr",
     "output_type": "stream",
     "text": [
      "/home/dai/anaconda3/lib/python3.11/site-packages/sklearn/linear_model/_coordinate_descent.py:628: ConvergenceWarning: Objective did not converge. You might want to increase the number of iterations, check the scale of the features or consider increasing regularisation. Duality gap: 1.785e+05, tolerance: 5.973e+01 Linear regression models with null weight for the l1 regularization term are more efficiently fitted using one of the solvers implemented in sklearn.linear_model.Ridge/RidgeCV instead.\n",
      "  model = cd_fast.enet_coordinate_descent(\n"
     ]
    },
    {
     "name": "stdout",
     "output_type": "stream",
     "text": [
      "[Voting] .................. (1 of 3) Processing Elastic, total=   0.2s\n",
      "[Voting] ...................... (2 of 3) Processing KNN, total=   0.1s\n",
      "[Voting] ...................... (3 of 3) Processing DTR, total=   0.1s\n"
     ]
    },
    {
     "name": "stderr",
     "output_type": "stream",
     "text": [
      "/home/dai/anaconda3/lib/python3.11/site-packages/sklearn/linear_model/_coordinate_descent.py:628: ConvergenceWarning: Objective did not converge. You might want to increase the number of iterations, check the scale of the features or consider increasing regularisation. Duality gap: 1.791e+05, tolerance: 5.972e+01 Linear regression models with null weight for the l1 regularization term are more efficiently fitted using one of the solvers implemented in sklearn.linear_model.Ridge/RidgeCV instead.\n",
      "  model = cd_fast.enet_coordinate_descent(\n"
     ]
    },
    {
     "name": "stdout",
     "output_type": "stream",
     "text": [
      "[Voting] .................. (1 of 3) Processing Elastic, total=   0.2s\n",
      "[Voting] ...................... (2 of 3) Processing KNN, total=   0.1s\n",
      "[Voting] ...................... (3 of 3) Processing DTR, total=   0.1s\n",
      "[Voting] .................. (1 of 3) Processing Elastic, total=   0.0s\n",
      "[Voting] ...................... (2 of 3) Processing KNN, total=   0.1s\n",
      "[Voting] ...................... (3 of 3) Processing DTR, total=   0.1s\n",
      "[Voting] .................. (1 of 3) Processing Elastic, total=   0.0s\n",
      "[Voting] ...................... (2 of 3) Processing KNN, total=   0.1s\n",
      "[Voting] ...................... (3 of 3) Processing DTR, total=   0.1s\n",
      "[Voting] .................. (1 of 3) Processing Elastic, total=   0.0s\n",
      "[Voting] ...................... (2 of 3) Processing KNN, total=   0.1s\n",
      "[Voting] ...................... (3 of 3) Processing DTR, total=   0.1s\n",
      "[Voting] .................. (1 of 3) Processing Elastic, total=   0.0s\n",
      "[Voting] ...................... (2 of 3) Processing KNN, total=   0.1s\n",
      "[Voting] ...................... (3 of 3) Processing DTR, total=   0.1s\n",
      "[Voting] .................. (1 of 3) Processing Elastic, total=   0.0s\n",
      "[Voting] ...................... (2 of 3) Processing KNN, total=   0.1s\n",
      "[Voting] ...................... (3 of 3) Processing DTR, total=   0.1s\n",
      "[Voting] .................. (1 of 3) Processing Elastic, total=   0.1s\n",
      "[Voting] ...................... (2 of 3) Processing KNN, total=   0.1s\n",
      "[Voting] ...................... (3 of 3) Processing DTR, total=   0.1s\n",
      "[Voting] .................. (1 of 3) Processing Elastic, total=   0.1s\n",
      "[Voting] ...................... (2 of 3) Processing KNN, total=   0.1s\n",
      "[Voting] ...................... (3 of 3) Processing DTR, total=   0.1s\n",
      "[Voting] .................. (1 of 3) Processing Elastic, total=   0.1s\n",
      "[Voting] ...................... (2 of 3) Processing KNN, total=   0.1s\n",
      "[Voting] ...................... (3 of 3) Processing DTR, total=   0.1s\n",
      "[Voting] .................. (1 of 3) Processing Elastic, total=   0.1s\n",
      "[Voting] ...................... (2 of 3) Processing KNN, total=   0.1s\n",
      "[Voting] ...................... (3 of 3) Processing DTR, total=   0.1s\n",
      "[Voting] .................. (1 of 3) Processing Elastic, total=   0.1s\n",
      "[Voting] ...................... (2 of 3) Processing KNN, total=   0.1s\n",
      "[Voting] ...................... (3 of 3) Processing DTR, total=   0.1s\n"
     ]
    },
    {
     "name": "stderr",
     "output_type": "stream",
     "text": [
      "/home/dai/anaconda3/lib/python3.11/site-packages/sklearn/linear_model/_coordinate_descent.py:628: ConvergenceWarning: Objective did not converge. You might want to increase the number of iterations, check the scale of the features or consider increasing regularisation. Duality gap: 1.737e+05, tolerance: 5.970e+01 Linear regression models with null weight for the l1 regularization term are more efficiently fitted using one of the solvers implemented in sklearn.linear_model.Ridge/RidgeCV instead.\n",
      "  model = cd_fast.enet_coordinate_descent(\n"
     ]
    },
    {
     "name": "stdout",
     "output_type": "stream",
     "text": [
      "[Voting] .................. (1 of 3) Processing Elastic, total=   0.2s\n",
      "[Voting] ...................... (2 of 3) Processing KNN, total=   0.1s\n",
      "[Voting] ...................... (3 of 3) Processing DTR, total=   0.1s\n"
     ]
    },
    {
     "name": "stderr",
     "output_type": "stream",
     "text": [
      "/home/dai/anaconda3/lib/python3.11/site-packages/sklearn/linear_model/_coordinate_descent.py:628: ConvergenceWarning: Objective did not converge. You might want to increase the number of iterations, check the scale of the features or consider increasing regularisation. Duality gap: 1.736e+05, tolerance: 5.974e+01 Linear regression models with null weight for the l1 regularization term are more efficiently fitted using one of the solvers implemented in sklearn.linear_model.Ridge/RidgeCV instead.\n",
      "  model = cd_fast.enet_coordinate_descent(\n"
     ]
    },
    {
     "name": "stdout",
     "output_type": "stream",
     "text": [
      "[Voting] .................. (1 of 3) Processing Elastic, total=   0.2s\n",
      "[Voting] ...................... (2 of 3) Processing KNN, total=   0.1s\n",
      "[Voting] ...................... (3 of 3) Processing DTR, total=   0.1s\n"
     ]
    },
    {
     "name": "stderr",
     "output_type": "stream",
     "text": [
      "/home/dai/anaconda3/lib/python3.11/site-packages/sklearn/linear_model/_coordinate_descent.py:628: ConvergenceWarning: Objective did not converge. You might want to increase the number of iterations, check the scale of the features or consider increasing regularisation. Duality gap: 1.739e+05, tolerance: 5.974e+01 Linear regression models with null weight for the l1 regularization term are more efficiently fitted using one of the solvers implemented in sklearn.linear_model.Ridge/RidgeCV instead.\n",
      "  model = cd_fast.enet_coordinate_descent(\n"
     ]
    },
    {
     "name": "stdout",
     "output_type": "stream",
     "text": [
      "[Voting] .................. (1 of 3) Processing Elastic, total=   0.2s\n",
      "[Voting] ...................... (2 of 3) Processing KNN, total=   0.1s\n",
      "[Voting] ...................... (3 of 3) Processing DTR, total=   0.1s\n"
     ]
    },
    {
     "name": "stderr",
     "output_type": "stream",
     "text": [
      "/home/dai/anaconda3/lib/python3.11/site-packages/sklearn/linear_model/_coordinate_descent.py:628: ConvergenceWarning: Objective did not converge. You might want to increase the number of iterations, check the scale of the features or consider increasing regularisation. Duality gap: 1.732e+05, tolerance: 5.973e+01 Linear regression models with null weight for the l1 regularization term are more efficiently fitted using one of the solvers implemented in sklearn.linear_model.Ridge/RidgeCV instead.\n",
      "  model = cd_fast.enet_coordinate_descent(\n"
     ]
    },
    {
     "name": "stdout",
     "output_type": "stream",
     "text": [
      "[Voting] .................. (1 of 3) Processing Elastic, total=   0.2s\n",
      "[Voting] ...................... (2 of 3) Processing KNN, total=   0.1s\n",
      "[Voting] ...................... (3 of 3) Processing DTR, total=   0.1s\n"
     ]
    },
    {
     "name": "stderr",
     "output_type": "stream",
     "text": [
      "/home/dai/anaconda3/lib/python3.11/site-packages/sklearn/linear_model/_coordinate_descent.py:628: ConvergenceWarning: Objective did not converge. You might want to increase the number of iterations, check the scale of the features or consider increasing regularisation. Duality gap: 1.739e+05, tolerance: 5.972e+01 Linear regression models with null weight for the l1 regularization term are more efficiently fitted using one of the solvers implemented in sklearn.linear_model.Ridge/RidgeCV instead.\n",
      "  model = cd_fast.enet_coordinate_descent(\n"
     ]
    },
    {
     "name": "stdout",
     "output_type": "stream",
     "text": [
      "[Voting] .................. (1 of 3) Processing Elastic, total=   0.3s\n",
      "[Voting] ...................... (2 of 3) Processing KNN, total=   0.1s\n",
      "[Voting] ...................... (3 of 3) Processing DTR, total=   0.1s\n",
      "[Voting] .................. (1 of 3) Processing Elastic, total=   0.0s\n",
      "[Voting] ...................... (2 of 3) Processing KNN, total=   0.1s\n",
      "[Voting] ...................... (3 of 3) Processing DTR, total=   0.3s\n",
      "[Voting] .................. (1 of 3) Processing Elastic, total=   0.0s\n",
      "[Voting] ...................... (2 of 3) Processing KNN, total=   0.1s\n",
      "[Voting] ...................... (3 of 3) Processing DTR, total=   0.3s\n",
      "[Voting] .................. (1 of 3) Processing Elastic, total=   0.0s\n",
      "[Voting] ...................... (2 of 3) Processing KNN, total=   0.1s\n",
      "[Voting] ...................... (3 of 3) Processing DTR, total=   0.3s\n",
      "[Voting] .................. (1 of 3) Processing Elastic, total=   0.0s\n",
      "[Voting] ...................... (2 of 3) Processing KNN, total=   0.1s\n",
      "[Voting] ...................... (3 of 3) Processing DTR, total=   0.3s\n",
      "[Voting] .................. (1 of 3) Processing Elastic, total=   0.0s\n",
      "[Voting] ...................... (2 of 3) Processing KNN, total=   0.1s\n",
      "[Voting] ...................... (3 of 3) Processing DTR, total=   0.3s\n",
      "[Voting] .................. (1 of 3) Processing Elastic, total=   0.0s\n",
      "[Voting] ...................... (2 of 3) Processing KNN, total=   0.1s\n",
      "[Voting] ...................... (3 of 3) Processing DTR, total=   0.1s\n",
      "[Voting] .................. (1 of 3) Processing Elastic, total=   0.0s\n",
      "[Voting] ...................... (2 of 3) Processing KNN, total=   0.1s\n",
      "[Voting] ...................... (3 of 3) Processing DTR, total=   0.1s\n",
      "[Voting] .................. (1 of 3) Processing Elastic, total=   0.0s\n",
      "[Voting] ...................... (2 of 3) Processing KNN, total=   0.1s\n",
      "[Voting] ...................... (3 of 3) Processing DTR, total=   0.1s\n",
      "[Voting] .................. (1 of 3) Processing Elastic, total=   0.0s\n",
      "[Voting] ...................... (2 of 3) Processing KNN, total=   0.1s\n",
      "[Voting] ...................... (3 of 3) Processing DTR, total=   0.1s\n",
      "[Voting] .................. (1 of 3) Processing Elastic, total=   0.0s\n",
      "[Voting] ...................... (2 of 3) Processing KNN, total=   0.1s\n",
      "[Voting] ...................... (3 of 3) Processing DTR, total=   0.1s\n",
      "[Voting] .................. (1 of 3) Processing Elastic, total=   0.0s\n",
      "[Voting] ...................... (2 of 3) Processing KNN, total=   0.1s\n",
      "[Voting] ...................... (3 of 3) Processing DTR, total=   0.1s\n",
      "[Voting] .................. (1 of 3) Processing Elastic, total=   0.0s\n",
      "[Voting] ...................... (2 of 3) Processing KNN, total=   0.1s\n",
      "[Voting] ...................... (3 of 3) Processing DTR, total=   0.1s\n",
      "[Voting] .................. (1 of 3) Processing Elastic, total=   0.0s\n",
      "[Voting] ...................... (2 of 3) Processing KNN, total=   0.1s\n",
      "[Voting] ...................... (3 of 3) Processing DTR, total=   0.1s\n",
      "[Voting] .................. (1 of 3) Processing Elastic, total=   0.0s\n",
      "[Voting] ...................... (2 of 3) Processing KNN, total=   0.1s\n",
      "[Voting] ...................... (3 of 3) Processing DTR, total=   0.1s\n",
      "[Voting] .................. (1 of 3) Processing Elastic, total=   0.0s\n",
      "[Voting] ...................... (2 of 3) Processing KNN, total=   0.1s\n",
      "[Voting] ...................... (3 of 3) Processing DTR, total=   0.1s\n",
      "[Voting] .................. (1 of 3) Processing Elastic, total=   0.0s\n",
      "[Voting] ...................... (2 of 3) Processing KNN, total=   0.1s\n",
      "[Voting] ...................... (3 of 3) Processing DTR, total=   0.1s\n",
      "[Voting] .................. (1 of 3) Processing Elastic, total=   0.0s\n",
      "[Voting] ...................... (2 of 3) Processing KNN, total=   0.1s\n",
      "[Voting] ...................... (3 of 3) Processing DTR, total=   0.1s\n",
      "[Voting] .................. (1 of 3) Processing Elastic, total=   0.0s\n",
      "[Voting] ...................... (2 of 3) Processing KNN, total=   0.1s\n",
      "[Voting] ...................... (3 of 3) Processing DTR, total=   0.1s\n",
      "[Voting] .................. (1 of 3) Processing Elastic, total=   0.0s\n",
      "[Voting] ...................... (2 of 3) Processing KNN, total=   0.1s\n",
      "[Voting] ...................... (3 of 3) Processing DTR, total=   0.1s\n",
      "[Voting] .................. (1 of 3) Processing Elastic, total=   0.0s\n",
      "[Voting] ...................... (2 of 3) Processing KNN, total=   0.1s\n",
      "[Voting] ...................... (3 of 3) Processing DTR, total=   0.1s\n"
     ]
    },
    {
     "name": "stderr",
     "output_type": "stream",
     "text": [
      "/home/dai/anaconda3/lib/python3.11/site-packages/sklearn/linear_model/_coordinate_descent.py:628: ConvergenceWarning: Objective did not converge. You might want to increase the number of iterations, check the scale of the features or consider increasing regularisation. Duality gap: 2.171e+05, tolerance: 7.466e+01 Linear regression models with null weight for the l1 regularization term are more efficiently fitted using one of the solvers implemented in sklearn.linear_model.Ridge/RidgeCV instead.\n",
      "  model = cd_fast.enet_coordinate_descent(\n"
     ]
    },
    {
     "name": "stdout",
     "output_type": "stream",
     "text": [
      "[Voting] .................. (1 of 3) Processing Elastic, total=   0.3s\n",
      "[Voting] ...................... (2 of 3) Processing KNN, total=   0.2s\n",
      "[Voting] ...................... (3 of 3) Processing DTR, total=   0.1s\n"
     ]
    },
    {
     "data": {
      "text/html": [
       "<style>#sk-container-id-1 {color: black;}#sk-container-id-1 pre{padding: 0;}#sk-container-id-1 div.sk-toggleable {background-color: white;}#sk-container-id-1 label.sk-toggleable__label {cursor: pointer;display: block;width: 100%;margin-bottom: 0;padding: 0.3em;box-sizing: border-box;text-align: center;}#sk-container-id-1 label.sk-toggleable__label-arrow:before {content: \"▸\";float: left;margin-right: 0.25em;color: #696969;}#sk-container-id-1 label.sk-toggleable__label-arrow:hover:before {color: black;}#sk-container-id-1 div.sk-estimator:hover label.sk-toggleable__label-arrow:before {color: black;}#sk-container-id-1 div.sk-toggleable__content {max-height: 0;max-width: 0;overflow: hidden;text-align: left;background-color: #f0f8ff;}#sk-container-id-1 div.sk-toggleable__content pre {margin: 0.2em;color: black;border-radius: 0.25em;background-color: #f0f8ff;}#sk-container-id-1 input.sk-toggleable__control:checked~div.sk-toggleable__content {max-height: 200px;max-width: 100%;overflow: auto;}#sk-container-id-1 input.sk-toggleable__control:checked~label.sk-toggleable__label-arrow:before {content: \"▾\";}#sk-container-id-1 div.sk-estimator input.sk-toggleable__control:checked~label.sk-toggleable__label {background-color: #d4ebff;}#sk-container-id-1 div.sk-label input.sk-toggleable__control:checked~label.sk-toggleable__label {background-color: #d4ebff;}#sk-container-id-1 input.sk-hidden--visually {border: 0;clip: rect(1px 1px 1px 1px);clip: rect(1px, 1px, 1px, 1px);height: 1px;margin: -1px;overflow: hidden;padding: 0;position: absolute;width: 1px;}#sk-container-id-1 div.sk-estimator {font-family: monospace;background-color: #f0f8ff;border: 1px dotted black;border-radius: 0.25em;box-sizing: border-box;margin-bottom: 0.5em;}#sk-container-id-1 div.sk-estimator:hover {background-color: #d4ebff;}#sk-container-id-1 div.sk-parallel-item::after {content: \"\";width: 100%;border-bottom: 1px solid gray;flex-grow: 1;}#sk-container-id-1 div.sk-label:hover label.sk-toggleable__label {background-color: #d4ebff;}#sk-container-id-1 div.sk-serial::before {content: \"\";position: absolute;border-left: 1px solid gray;box-sizing: border-box;top: 0;bottom: 0;left: 50%;z-index: 0;}#sk-container-id-1 div.sk-serial {display: flex;flex-direction: column;align-items: center;background-color: white;padding-right: 0.2em;padding-left: 0.2em;position: relative;}#sk-container-id-1 div.sk-item {position: relative;z-index: 1;}#sk-container-id-1 div.sk-parallel {display: flex;align-items: stretch;justify-content: center;background-color: white;position: relative;}#sk-container-id-1 div.sk-item::before, #sk-container-id-1 div.sk-parallel-item::before {content: \"\";position: absolute;border-left: 1px solid gray;box-sizing: border-box;top: 0;bottom: 0;left: 50%;z-index: -1;}#sk-container-id-1 div.sk-parallel-item {display: flex;flex-direction: column;z-index: 1;position: relative;background-color: white;}#sk-container-id-1 div.sk-parallel-item:first-child::after {align-self: flex-end;width: 50%;}#sk-container-id-1 div.sk-parallel-item:last-child::after {align-self: flex-start;width: 50%;}#sk-container-id-1 div.sk-parallel-item:only-child::after {width: 0;}#sk-container-id-1 div.sk-dashed-wrapped {border: 1px dashed gray;margin: 0 0.4em 0.5em 0.4em;box-sizing: border-box;padding-bottom: 0.4em;background-color: white;}#sk-container-id-1 div.sk-label label {font-family: monospace;font-weight: bold;display: inline-block;line-height: 1.2em;}#sk-container-id-1 div.sk-label-container {text-align: center;}#sk-container-id-1 div.sk-container {/* jupyter's `normalize.less` sets `[hidden] { display: none; }` but bootstrap.min.css set `[hidden] { display: none !important; }` so we also need the `!important` here to be able to override the default hidden behavior on the sphinx rendered scikit-learn.org. See: https://github.com/scikit-learn/scikit-learn/issues/21755 */display: inline-block !important;position: relative;}#sk-container-id-1 div.sk-text-repr-fallback {display: none;}</style><div id=\"sk-container-id-1\" class=\"sk-top-container\"><div class=\"sk-text-repr-fallback\"><pre>RandomizedSearchCV(cv=StratifiedKFold(n_splits=5, random_state=23, shuffle=True),\n",
       "                   estimator=VotingRegressor(estimators=[(&#x27;Elastic&#x27;,\n",
       "                                                          ElasticNet()),\n",
       "                                                         (&#x27;KNN&#x27;,\n",
       "                                                          Pipeline(steps=[(&#x27;SCL&#x27;,\n",
       "                                                                           StandardScaler()),\n",
       "                                                                          (&#x27;KNN&#x27;,\n",
       "                                                                           KNeighborsRegressor())])),\n",
       "                                                         (&#x27;DTR&#x27;,\n",
       "                                                          DecisionTreeRegressor())],\n",
       "                                             verbose=3),\n",
       "                   param_distributions={&#x27;DTR__max_depth&#x27;: [None, 3, 5],\n",
       "                                        &#x27;DTR__min_samples_leaf&#x27;: [1, 5, 10],\n",
       "                                        &#x27;DTR__min_samples_split&#x27;: [2, 5, 10],\n",
       "                                        &#x27;Elastic__alpha&#x27;: array([1.00000e-03, 1.25075e+00, 2.50050e+00, 3.75025e+00, 5.00000e+00]),\n",
       "                                        &#x27;Elastic__l1_ratio&#x27;: array([0.  , 0.25, 0.5 , 0.75, 1.  ]),\n",
       "                                        &#x27;KNN__KNN__n_neighbors&#x27;: [1, 2, 3, 4],\n",
       "                                        &#x27;KNN__SCL&#x27;: [StandardScaler(),\n",
       "                                                     MinMaxScaler()]},\n",
       "                   scoring=&#x27;r2&#x27;)</pre><b>In a Jupyter environment, please rerun this cell to show the HTML representation or trust the notebook. <br />On GitHub, the HTML representation is unable to render, please try loading this page with nbviewer.org.</b></div><div class=\"sk-container\" hidden><div class=\"sk-item sk-dashed-wrapped\"><div class=\"sk-label-container\"><div class=\"sk-label sk-toggleable\"><input class=\"sk-toggleable__control sk-hidden--visually\" id=\"sk-estimator-id-1\" type=\"checkbox\" ><label for=\"sk-estimator-id-1\" class=\"sk-toggleable__label sk-toggleable__label-arrow\">RandomizedSearchCV</label><div class=\"sk-toggleable__content\"><pre>RandomizedSearchCV(cv=StratifiedKFold(n_splits=5, random_state=23, shuffle=True),\n",
       "                   estimator=VotingRegressor(estimators=[(&#x27;Elastic&#x27;,\n",
       "                                                          ElasticNet()),\n",
       "                                                         (&#x27;KNN&#x27;,\n",
       "                                                          Pipeline(steps=[(&#x27;SCL&#x27;,\n",
       "                                                                           StandardScaler()),\n",
       "                                                                          (&#x27;KNN&#x27;,\n",
       "                                                                           KNeighborsRegressor())])),\n",
       "                                                         (&#x27;DTR&#x27;,\n",
       "                                                          DecisionTreeRegressor())],\n",
       "                                             verbose=3),\n",
       "                   param_distributions={&#x27;DTR__max_depth&#x27;: [None, 3, 5],\n",
       "                                        &#x27;DTR__min_samples_leaf&#x27;: [1, 5, 10],\n",
       "                                        &#x27;DTR__min_samples_split&#x27;: [2, 5, 10],\n",
       "                                        &#x27;Elastic__alpha&#x27;: array([1.00000e-03, 1.25075e+00, 2.50050e+00, 3.75025e+00, 5.00000e+00]),\n",
       "                                        &#x27;Elastic__l1_ratio&#x27;: array([0.  , 0.25, 0.5 , 0.75, 1.  ]),\n",
       "                                        &#x27;KNN__KNN__n_neighbors&#x27;: [1, 2, 3, 4],\n",
       "                                        &#x27;KNN__SCL&#x27;: [StandardScaler(),\n",
       "                                                     MinMaxScaler()]},\n",
       "                   scoring=&#x27;r2&#x27;)</pre></div></div></div><div class=\"sk-parallel\"><div class=\"sk-parallel-item\"><div class=\"sk-item\"><div class=\"sk-label-container\"><div class=\"sk-label sk-toggleable\"><input class=\"sk-toggleable__control sk-hidden--visually\" id=\"sk-estimator-id-2\" type=\"checkbox\" ><label for=\"sk-estimator-id-2\" class=\"sk-toggleable__label sk-toggleable__label-arrow\">estimator: VotingRegressor</label><div class=\"sk-toggleable__content\"><pre>VotingRegressor(estimators=[(&#x27;Elastic&#x27;, ElasticNet()),\n",
       "                            (&#x27;KNN&#x27;,\n",
       "                             Pipeline(steps=[(&#x27;SCL&#x27;, StandardScaler()),\n",
       "                                             (&#x27;KNN&#x27;, KNeighborsRegressor())])),\n",
       "                            (&#x27;DTR&#x27;, DecisionTreeRegressor())],\n",
       "                verbose=3)</pre></div></div></div><div class=\"sk-serial\"><div class=\"sk-item sk-dashed-wrapped\"><div class=\"sk-parallel\"><div class=\"sk-parallel-item\"><div class=\"sk-item\"><div class=\"sk-label-container\"><div class=\"sk-label sk-toggleable\"><label>Elastic</label></div></div><div class=\"sk-serial\"><div class=\"sk-item\"><div class=\"sk-estimator sk-toggleable\"><input class=\"sk-toggleable__control sk-hidden--visually\" id=\"sk-estimator-id-3\" type=\"checkbox\" ><label for=\"sk-estimator-id-3\" class=\"sk-toggleable__label sk-toggleable__label-arrow\">ElasticNet</label><div class=\"sk-toggleable__content\"><pre>ElasticNet()</pre></div></div></div></div></div></div><div class=\"sk-parallel-item\"><div class=\"sk-item\"><div class=\"sk-label-container\"><div class=\"sk-label sk-toggleable\"><label>KNN</label></div></div><div class=\"sk-serial\"><div class=\"sk-item\"><div class=\"sk-serial\"><div class=\"sk-item\"><div class=\"sk-estimator sk-toggleable\"><input class=\"sk-toggleable__control sk-hidden--visually\" id=\"sk-estimator-id-4\" type=\"checkbox\" ><label for=\"sk-estimator-id-4\" class=\"sk-toggleable__label sk-toggleable__label-arrow\">StandardScaler</label><div class=\"sk-toggleable__content\"><pre>StandardScaler()</pre></div></div></div><div class=\"sk-item\"><div class=\"sk-estimator sk-toggleable\"><input class=\"sk-toggleable__control sk-hidden--visually\" id=\"sk-estimator-id-5\" type=\"checkbox\" ><label for=\"sk-estimator-id-5\" class=\"sk-toggleable__label sk-toggleable__label-arrow\">KNeighborsRegressor</label><div class=\"sk-toggleable__content\"><pre>KNeighborsRegressor()</pre></div></div></div></div></div></div></div></div><div class=\"sk-parallel-item\"><div class=\"sk-item\"><div class=\"sk-label-container\"><div class=\"sk-label sk-toggleable\"><label>DTR</label></div></div><div class=\"sk-serial\"><div class=\"sk-item\"><div class=\"sk-estimator sk-toggleable\"><input class=\"sk-toggleable__control sk-hidden--visually\" id=\"sk-estimator-id-6\" type=\"checkbox\" ><label for=\"sk-estimator-id-6\" class=\"sk-toggleable__label sk-toggleable__label-arrow\">DecisionTreeRegressor</label><div class=\"sk-toggleable__content\"><pre>DecisionTreeRegressor()</pre></div></div></div></div></div></div></div></div></div></div></div></div></div></div></div>"
      ],
      "text/plain": [
       "RandomizedSearchCV(cv=StratifiedKFold(n_splits=5, random_state=23, shuffle=True),\n",
       "                   estimator=VotingRegressor(estimators=[('Elastic',\n",
       "                                                          ElasticNet()),\n",
       "                                                         ('KNN',\n",
       "                                                          Pipeline(steps=[('SCL',\n",
       "                                                                           StandardScaler()),\n",
       "                                                                          ('KNN',\n",
       "                                                                           KNeighborsRegressor())])),\n",
       "                                                         ('DTR',\n",
       "                                                          DecisionTreeRegressor())],\n",
       "                                             verbose=3),\n",
       "                   param_distributions={'DTR__max_depth': [None, 3, 5],\n",
       "                                        'DTR__min_samples_leaf': [1, 5, 10],\n",
       "                                        'DTR__min_samples_split': [2, 5, 10],\n",
       "                                        'Elastic__alpha': array([1.00000e-03, 1.25075e+00, 2.50050e+00, 3.75025e+00, 5.00000e+00]),\n",
       "                                        'Elastic__l1_ratio': array([0.  , 0.25, 0.5 , 0.75, 1.  ]),\n",
       "                                        'KNN__KNN__n_neighbors': [1, 2, 3, 4],\n",
       "                                        'KNN__SCL': [StandardScaler(),\n",
       "                                                     MinMaxScaler()]},\n",
       "                   scoring='r2')"
      ]
     },
     "execution_count": 19,
     "metadata": {},
     "output_type": "execute_result"
    }
   ],
   "source": [
    "rgcv.fit(X,y)"
   ]
  },
  {
   "cell_type": "code",
   "execution_count": 20,
   "id": "dfeefc8a",
   "metadata": {},
   "outputs": [
    {
     "data": {
      "text/plain": [
       "0.5413108442694662"
      ]
     },
     "execution_count": 20,
     "metadata": {},
     "output_type": "execute_result"
    }
   ],
   "source": [
    "rgcv.best_score_"
   ]
  },
  {
   "cell_type": "code",
   "execution_count": 21,
   "id": "1a87a5fb",
   "metadata": {},
   "outputs": [
    {
     "data": {
      "text/plain": [
       "{'KNN__SCL': StandardScaler(),\n",
       " 'KNN__KNN__n_neighbors': 3,\n",
       " 'Elastic__l1_ratio': 0.0,\n",
       " 'Elastic__alpha': 2.5004999999999997,\n",
       " 'DTR__min_samples_split': 5,\n",
       " 'DTR__min_samples_leaf': 5,\n",
       " 'DTR__max_depth': 5}"
      ]
     },
     "execution_count": 21,
     "metadata": {},
     "output_type": "execute_result"
    }
   ],
   "source": [
    "rgcv.best_params_"
   ]
  },
  {
   "cell_type": "code",
   "execution_count": 44,
   "id": "dad4da3d",
   "metadata": {},
   "outputs": [
    {
     "data": {
      "text/html": [
       "<style>#sk-container-id-2 {color: black;}#sk-container-id-2 pre{padding: 0;}#sk-container-id-2 div.sk-toggleable {background-color: white;}#sk-container-id-2 label.sk-toggleable__label {cursor: pointer;display: block;width: 100%;margin-bottom: 0;padding: 0.3em;box-sizing: border-box;text-align: center;}#sk-container-id-2 label.sk-toggleable__label-arrow:before {content: \"▸\";float: left;margin-right: 0.25em;color: #696969;}#sk-container-id-2 label.sk-toggleable__label-arrow:hover:before {color: black;}#sk-container-id-2 div.sk-estimator:hover label.sk-toggleable__label-arrow:before {color: black;}#sk-container-id-2 div.sk-toggleable__content {max-height: 0;max-width: 0;overflow: hidden;text-align: left;background-color: #f0f8ff;}#sk-container-id-2 div.sk-toggleable__content pre {margin: 0.2em;color: black;border-radius: 0.25em;background-color: #f0f8ff;}#sk-container-id-2 input.sk-toggleable__control:checked~div.sk-toggleable__content {max-height: 200px;max-width: 100%;overflow: auto;}#sk-container-id-2 input.sk-toggleable__control:checked~label.sk-toggleable__label-arrow:before {content: \"▾\";}#sk-container-id-2 div.sk-estimator input.sk-toggleable__control:checked~label.sk-toggleable__label {background-color: #d4ebff;}#sk-container-id-2 div.sk-label input.sk-toggleable__control:checked~label.sk-toggleable__label {background-color: #d4ebff;}#sk-container-id-2 input.sk-hidden--visually {border: 0;clip: rect(1px 1px 1px 1px);clip: rect(1px, 1px, 1px, 1px);height: 1px;margin: -1px;overflow: hidden;padding: 0;position: absolute;width: 1px;}#sk-container-id-2 div.sk-estimator {font-family: monospace;background-color: #f0f8ff;border: 1px dotted black;border-radius: 0.25em;box-sizing: border-box;margin-bottom: 0.5em;}#sk-container-id-2 div.sk-estimator:hover {background-color: #d4ebff;}#sk-container-id-2 div.sk-parallel-item::after {content: \"\";width: 100%;border-bottom: 1px solid gray;flex-grow: 1;}#sk-container-id-2 div.sk-label:hover label.sk-toggleable__label {background-color: #d4ebff;}#sk-container-id-2 div.sk-serial::before {content: \"\";position: absolute;border-left: 1px solid gray;box-sizing: border-box;top: 0;bottom: 0;left: 50%;z-index: 0;}#sk-container-id-2 div.sk-serial {display: flex;flex-direction: column;align-items: center;background-color: white;padding-right: 0.2em;padding-left: 0.2em;position: relative;}#sk-container-id-2 div.sk-item {position: relative;z-index: 1;}#sk-container-id-2 div.sk-parallel {display: flex;align-items: stretch;justify-content: center;background-color: white;position: relative;}#sk-container-id-2 div.sk-item::before, #sk-container-id-2 div.sk-parallel-item::before {content: \"\";position: absolute;border-left: 1px solid gray;box-sizing: border-box;top: 0;bottom: 0;left: 50%;z-index: -1;}#sk-container-id-2 div.sk-parallel-item {display: flex;flex-direction: column;z-index: 1;position: relative;background-color: white;}#sk-container-id-2 div.sk-parallel-item:first-child::after {align-self: flex-end;width: 50%;}#sk-container-id-2 div.sk-parallel-item:last-child::after {align-self: flex-start;width: 50%;}#sk-container-id-2 div.sk-parallel-item:only-child::after {width: 0;}#sk-container-id-2 div.sk-dashed-wrapped {border: 1px dashed gray;margin: 0 0.4em 0.5em 0.4em;box-sizing: border-box;padding-bottom: 0.4em;background-color: white;}#sk-container-id-2 div.sk-label label {font-family: monospace;font-weight: bold;display: inline-block;line-height: 1.2em;}#sk-container-id-2 div.sk-label-container {text-align: center;}#sk-container-id-2 div.sk-container {/* jupyter's `normalize.less` sets `[hidden] { display: none; }` but bootstrap.min.css set `[hidden] { display: none !important; }` so we also need the `!important` here to be able to override the default hidden behavior on the sphinx rendered scikit-learn.org. See: https://github.com/scikit-learn/scikit-learn/issues/21755 */display: inline-block !important;position: relative;}#sk-container-id-2 div.sk-text-repr-fallback {display: none;}</style><div id=\"sk-container-id-2\" class=\"sk-top-container\"><div class=\"sk-text-repr-fallback\"><pre>VotingRegressor(estimators=[(&#x27;Elastic&#x27;,\n",
       "                             ElasticNet(alpha=2.5004999999999997,\n",
       "                                        l1_ratio=0.0)),\n",
       "                            (&#x27;KNN&#x27;,\n",
       "                             Pipeline(steps=[(&#x27;SCL&#x27;, StandardScaler()),\n",
       "                                             (&#x27;KNN&#x27;,\n",
       "                                              KNeighborsRegressor(n_neighbors=3))])),\n",
       "                            (&#x27;DTR&#x27;,\n",
       "                             DecisionTreeRegressor(max_depth=5,\n",
       "                                                   min_samples_leaf=5,\n",
       "                                                   min_samples_split=5))],\n",
       "                verbose=3)</pre><b>In a Jupyter environment, please rerun this cell to show the HTML representation or trust the notebook. <br />On GitHub, the HTML representation is unable to render, please try loading this page with nbviewer.org.</b></div><div class=\"sk-container\" hidden><div class=\"sk-item sk-dashed-wrapped\"><div class=\"sk-label-container\"><div class=\"sk-label sk-toggleable\"><input class=\"sk-toggleable__control sk-hidden--visually\" id=\"sk-estimator-id-7\" type=\"checkbox\" ><label for=\"sk-estimator-id-7\" class=\"sk-toggleable__label sk-toggleable__label-arrow\">VotingRegressor</label><div class=\"sk-toggleable__content\"><pre>VotingRegressor(estimators=[(&#x27;Elastic&#x27;,\n",
       "                             ElasticNet(alpha=2.5004999999999997,\n",
       "                                        l1_ratio=0.0)),\n",
       "                            (&#x27;KNN&#x27;,\n",
       "                             Pipeline(steps=[(&#x27;SCL&#x27;, StandardScaler()),\n",
       "                                             (&#x27;KNN&#x27;,\n",
       "                                              KNeighborsRegressor(n_neighbors=3))])),\n",
       "                            (&#x27;DTR&#x27;,\n",
       "                             DecisionTreeRegressor(max_depth=5,\n",
       "                                                   min_samples_leaf=5,\n",
       "                                                   min_samples_split=5))],\n",
       "                verbose=3)</pre></div></div></div><div class=\"sk-parallel\"><div class=\"sk-parallel-item\"><div class=\"sk-item\"><div class=\"sk-label-container\"><div class=\"sk-label sk-toggleable\"><label>Elastic</label></div></div><div class=\"sk-serial\"><div class=\"sk-item\"><div class=\"sk-estimator sk-toggleable\"><input class=\"sk-toggleable__control sk-hidden--visually\" id=\"sk-estimator-id-8\" type=\"checkbox\" ><label for=\"sk-estimator-id-8\" class=\"sk-toggleable__label sk-toggleable__label-arrow\">ElasticNet</label><div class=\"sk-toggleable__content\"><pre>ElasticNet(alpha=2.5004999999999997, l1_ratio=0.0)</pre></div></div></div></div></div></div><div class=\"sk-parallel-item\"><div class=\"sk-item\"><div class=\"sk-label-container\"><div class=\"sk-label sk-toggleable\"><label>KNN</label></div></div><div class=\"sk-serial\"><div class=\"sk-item\"><div class=\"sk-serial\"><div class=\"sk-item\"><div class=\"sk-estimator sk-toggleable\"><input class=\"sk-toggleable__control sk-hidden--visually\" id=\"sk-estimator-id-9\" type=\"checkbox\" ><label for=\"sk-estimator-id-9\" class=\"sk-toggleable__label sk-toggleable__label-arrow\">StandardScaler</label><div class=\"sk-toggleable__content\"><pre>StandardScaler()</pre></div></div></div><div class=\"sk-item\"><div class=\"sk-estimator sk-toggleable\"><input class=\"sk-toggleable__control sk-hidden--visually\" id=\"sk-estimator-id-10\" type=\"checkbox\" ><label for=\"sk-estimator-id-10\" class=\"sk-toggleable__label sk-toggleable__label-arrow\">KNeighborsRegressor</label><div class=\"sk-toggleable__content\"><pre>KNeighborsRegressor(n_neighbors=3)</pre></div></div></div></div></div></div></div></div><div class=\"sk-parallel-item\"><div class=\"sk-item\"><div class=\"sk-label-container\"><div class=\"sk-label sk-toggleable\"><label>DTR</label></div></div><div class=\"sk-serial\"><div class=\"sk-item\"><div class=\"sk-estimator sk-toggleable\"><input class=\"sk-toggleable__control sk-hidden--visually\" id=\"sk-estimator-id-11\" type=\"checkbox\" ><label for=\"sk-estimator-id-11\" class=\"sk-toggleable__label sk-toggleable__label-arrow\">DecisionTreeRegressor</label><div class=\"sk-toggleable__content\"><pre>DecisionTreeRegressor(max_depth=5, min_samples_leaf=5, min_samples_split=5)</pre></div></div></div></div></div></div></div></div></div></div>"
      ],
      "text/plain": [
       "VotingRegressor(estimators=[('Elastic',\n",
       "                             ElasticNet(alpha=2.5004999999999997,\n",
       "                                        l1_ratio=0.0)),\n",
       "                            ('KNN',\n",
       "                             Pipeline(steps=[('SCL', StandardScaler()),\n",
       "                                             ('KNN',\n",
       "                                              KNeighborsRegressor(n_neighbors=3))])),\n",
       "                            ('DTR',\n",
       "                             DecisionTreeRegressor(max_depth=5,\n",
       "                                                   min_samples_leaf=5,\n",
       "                                                   min_samples_split=5))],\n",
       "                verbose=3)"
      ]
     },
     "execution_count": 44,
     "metadata": {},
     "output_type": "execute_result"
    }
   ],
   "source": [
    "rgcv.best_estimator_"
   ]
  },
  {
   "cell_type": "code",
   "execution_count": 31,
   "id": "adf4b357",
   "metadata": {},
   "outputs": [],
   "source": [
    "test_new_df=pd.read_csv('test.csv',index_col=0)"
   ]
  },
  {
   "cell_type": "code",
   "execution_count": 33,
   "id": "4e894df9",
   "metadata": {},
   "outputs": [],
   "source": [
    "test_new_df=pd.get_dummies(test_new_df,drop_first=True)"
   ]
  },
  {
   "cell_type": "code",
   "execution_count": 34,
   "id": "37a624fc",
   "metadata": {},
   "outputs": [
    {
     "data": {
      "text/html": [
       "<div>\n",
       "<style scoped>\n",
       "    .dataframe tbody tr th:only-of-type {\n",
       "        vertical-align: middle;\n",
       "    }\n",
       "\n",
       "    .dataframe tbody tr th {\n",
       "        vertical-align: top;\n",
       "    }\n",
       "\n",
       "    .dataframe thead th {\n",
       "        text-align: right;\n",
       "    }\n",
       "</style>\n",
       "<table border=\"1\" class=\"dataframe\">\n",
       "  <thead>\n",
       "    <tr style=\"text-align: right;\">\n",
       "      <th></th>\n",
       "      <th>Length</th>\n",
       "      <th>Diameter</th>\n",
       "      <th>Height</th>\n",
       "      <th>Weight</th>\n",
       "      <th>Shucked Weight</th>\n",
       "      <th>Viscera Weight</th>\n",
       "      <th>Shell Weight</th>\n",
       "      <th>Sex_I</th>\n",
       "      <th>Sex_M</th>\n",
       "    </tr>\n",
       "    <tr>\n",
       "      <th>id</th>\n",
       "      <th></th>\n",
       "      <th></th>\n",
       "      <th></th>\n",
       "      <th></th>\n",
       "      <th></th>\n",
       "      <th></th>\n",
       "      <th></th>\n",
       "      <th></th>\n",
       "      <th></th>\n",
       "    </tr>\n",
       "  </thead>\n",
       "  <tbody>\n",
       "    <tr>\n",
       "      <th>74051</th>\n",
       "      <td>1.0500</td>\n",
       "      <td>0.7625</td>\n",
       "      <td>0.2750</td>\n",
       "      <td>8.618248</td>\n",
       "      <td>3.657085</td>\n",
       "      <td>1.729319</td>\n",
       "      <td>2.721552</td>\n",
       "      <td>True</td>\n",
       "      <td>False</td>\n",
       "    </tr>\n",
       "    <tr>\n",
       "      <th>74052</th>\n",
       "      <td>1.1625</td>\n",
       "      <td>0.8875</td>\n",
       "      <td>0.2750</td>\n",
       "      <td>15.507176</td>\n",
       "      <td>7.030676</td>\n",
       "      <td>3.246018</td>\n",
       "      <td>3.968930</td>\n",
       "      <td>True</td>\n",
       "      <td>False</td>\n",
       "    </tr>\n",
       "    <tr>\n",
       "      <th>74053</th>\n",
       "      <td>1.2875</td>\n",
       "      <td>0.9875</td>\n",
       "      <td>0.3250</td>\n",
       "      <td>14.571643</td>\n",
       "      <td>5.556502</td>\n",
       "      <td>3.883882</td>\n",
       "      <td>4.819415</td>\n",
       "      <td>False</td>\n",
       "      <td>False</td>\n",
       "    </tr>\n",
       "    <tr>\n",
       "      <th>74054</th>\n",
       "      <td>1.5500</td>\n",
       "      <td>0.9875</td>\n",
       "      <td>0.3875</td>\n",
       "      <td>28.377849</td>\n",
       "      <td>13.380964</td>\n",
       "      <td>6.548735</td>\n",
       "      <td>7.030676</td>\n",
       "      <td>False</td>\n",
       "      <td>False</td>\n",
       "    </tr>\n",
       "    <tr>\n",
       "      <th>74055</th>\n",
       "      <td>1.1125</td>\n",
       "      <td>0.8500</td>\n",
       "      <td>0.2625</td>\n",
       "      <td>11.765042</td>\n",
       "      <td>5.528153</td>\n",
       "      <td>2.466407</td>\n",
       "      <td>3.331066</td>\n",
       "      <td>True</td>\n",
       "      <td>False</td>\n",
       "    </tr>\n",
       "    <tr>\n",
       "      <th>...</th>\n",
       "      <td>...</td>\n",
       "      <td>...</td>\n",
       "      <td>...</td>\n",
       "      <td>...</td>\n",
       "      <td>...</td>\n",
       "      <td>...</td>\n",
       "      <td>...</td>\n",
       "      <td>...</td>\n",
       "      <td>...</td>\n",
       "    </tr>\n",
       "    <tr>\n",
       "      <th>123414</th>\n",
       "      <td>1.3000</td>\n",
       "      <td>1.0375</td>\n",
       "      <td>0.3250</td>\n",
       "      <td>16.315137</td>\n",
       "      <td>6.690482</td>\n",
       "      <td>5.173784</td>\n",
       "      <td>3.756309</td>\n",
       "      <td>False</td>\n",
       "      <td>False</td>\n",
       "    </tr>\n",
       "    <tr>\n",
       "      <th>123415</th>\n",
       "      <td>1.0375</td>\n",
       "      <td>0.7625</td>\n",
       "      <td>0.2625</td>\n",
       "      <td>10.276694</td>\n",
       "      <td>4.436697</td>\n",
       "      <td>1.998640</td>\n",
       "      <td>3.543687</td>\n",
       "      <td>True</td>\n",
       "      <td>False</td>\n",
       "    </tr>\n",
       "    <tr>\n",
       "      <th>123416</th>\n",
       "      <td>1.4875</td>\n",
       "      <td>1.1625</td>\n",
       "      <td>0.3625</td>\n",
       "      <td>31.382897</td>\n",
       "      <td>11.396499</td>\n",
       "      <td>6.846404</td>\n",
       "      <td>8.788345</td>\n",
       "      <td>False</td>\n",
       "      <td>False</td>\n",
       "    </tr>\n",
       "    <tr>\n",
       "      <th>123417</th>\n",
       "      <td>1.2375</td>\n",
       "      <td>0.9500</td>\n",
       "      <td>0.2875</td>\n",
       "      <td>15.663099</td>\n",
       "      <td>6.095142</td>\n",
       "      <td>3.727959</td>\n",
       "      <td>4.961163</td>\n",
       "      <td>False</td>\n",
       "      <td>False</td>\n",
       "    </tr>\n",
       "    <tr>\n",
       "      <th>123418</th>\n",
       "      <td>1.6625</td>\n",
       "      <td>1.3000</td>\n",
       "      <td>0.4375</td>\n",
       "      <td>36.613379</td>\n",
       "      <td>14.911837</td>\n",
       "      <td>8.292229</td>\n",
       "      <td>10.489315</td>\n",
       "      <td>False</td>\n",
       "      <td>True</td>\n",
       "    </tr>\n",
       "  </tbody>\n",
       "</table>\n",
       "<p>49368 rows × 9 columns</p>\n",
       "</div>"
      ],
      "text/plain": [
       "        Length  Diameter  Height     Weight  Shucked Weight  Viscera Weight  \\\n",
       "id                                                                            \n",
       "74051   1.0500    0.7625  0.2750   8.618248        3.657085        1.729319   \n",
       "74052   1.1625    0.8875  0.2750  15.507176        7.030676        3.246018   \n",
       "74053   1.2875    0.9875  0.3250  14.571643        5.556502        3.883882   \n",
       "74054   1.5500    0.9875  0.3875  28.377849       13.380964        6.548735   \n",
       "74055   1.1125    0.8500  0.2625  11.765042        5.528153        2.466407   \n",
       "...        ...       ...     ...        ...             ...             ...   \n",
       "123414  1.3000    1.0375  0.3250  16.315137        6.690482        5.173784   \n",
       "123415  1.0375    0.7625  0.2625  10.276694        4.436697        1.998640   \n",
       "123416  1.4875    1.1625  0.3625  31.382897       11.396499        6.846404   \n",
       "123417  1.2375    0.9500  0.2875  15.663099        6.095142        3.727959   \n",
       "123418  1.6625    1.3000  0.4375  36.613379       14.911837        8.292229   \n",
       "\n",
       "        Shell Weight  Sex_I  Sex_M  \n",
       "id                                  \n",
       "74051       2.721552   True  False  \n",
       "74052       3.968930   True  False  \n",
       "74053       4.819415  False  False  \n",
       "74054       7.030676  False  False  \n",
       "74055       3.331066   True  False  \n",
       "...              ...    ...    ...  \n",
       "123414      3.756309  False  False  \n",
       "123415      3.543687   True  False  \n",
       "123416      8.788345  False  False  \n",
       "123417      4.961163  False  False  \n",
       "123418     10.489315  False   True  \n",
       "\n",
       "[49368 rows x 9 columns]"
      ]
     },
     "execution_count": 34,
     "metadata": {},
     "output_type": "execute_result"
    }
   ],
   "source": [
    "test_new_df"
   ]
  },
  {
   "cell_type": "code",
   "execution_count": 35,
   "id": "c921c1c8",
   "metadata": {},
   "outputs": [],
   "source": [
    "y_pred=rgcv.predict(test_new_df)"
   ]
  },
  {
   "cell_type": "code",
   "execution_count": 36,
   "id": "eb180675",
   "metadata": {},
   "outputs": [
    {
     "data": {
      "text/plain": [
       "array([ 7.44161235,  7.81984293, 10.19037008, ..., 13.23494095,\n",
       "        9.66514767, 11.92062678])"
      ]
     },
     "execution_count": 36,
     "metadata": {},
     "output_type": "execute_result"
    }
   ],
   "source": [
    "y_pred"
   ]
  },
  {
   "cell_type": "code",
   "execution_count": 39,
   "id": "4c46da5c",
   "metadata": {},
   "outputs": [],
   "source": [
    "sample_submission_df=pd.read_csv('sample_submission.csv',index_col=0)"
   ]
  },
  {
   "cell_type": "code",
   "execution_count": 40,
   "id": "f4834e27",
   "metadata": {},
   "outputs": [
    {
     "data": {
      "text/html": [
       "<div>\n",
       "<style scoped>\n",
       "    .dataframe tbody tr th:only-of-type {\n",
       "        vertical-align: middle;\n",
       "    }\n",
       "\n",
       "    .dataframe tbody tr th {\n",
       "        vertical-align: top;\n",
       "    }\n",
       "\n",
       "    .dataframe thead th {\n",
       "        text-align: right;\n",
       "    }\n",
       "</style>\n",
       "<table border=\"1\" class=\"dataframe\">\n",
       "  <thead>\n",
       "    <tr style=\"text-align: right;\">\n",
       "      <th></th>\n",
       "      <th>Age</th>\n",
       "    </tr>\n",
       "    <tr>\n",
       "      <th>id</th>\n",
       "      <th></th>\n",
       "    </tr>\n",
       "  </thead>\n",
       "  <tbody>\n",
       "    <tr>\n",
       "      <th>74051</th>\n",
       "      <td>10</td>\n",
       "    </tr>\n",
       "    <tr>\n",
       "      <th>74052</th>\n",
       "      <td>10</td>\n",
       "    </tr>\n",
       "    <tr>\n",
       "      <th>74053</th>\n",
       "      <td>10</td>\n",
       "    </tr>\n",
       "    <tr>\n",
       "      <th>74054</th>\n",
       "      <td>10</td>\n",
       "    </tr>\n",
       "    <tr>\n",
       "      <th>74055</th>\n",
       "      <td>10</td>\n",
       "    </tr>\n",
       "    <tr>\n",
       "      <th>...</th>\n",
       "      <td>...</td>\n",
       "    </tr>\n",
       "    <tr>\n",
       "      <th>123414</th>\n",
       "      <td>10</td>\n",
       "    </tr>\n",
       "    <tr>\n",
       "      <th>123415</th>\n",
       "      <td>10</td>\n",
       "    </tr>\n",
       "    <tr>\n",
       "      <th>123416</th>\n",
       "      <td>10</td>\n",
       "    </tr>\n",
       "    <tr>\n",
       "      <th>123417</th>\n",
       "      <td>10</td>\n",
       "    </tr>\n",
       "    <tr>\n",
       "      <th>123418</th>\n",
       "      <td>10</td>\n",
       "    </tr>\n",
       "  </tbody>\n",
       "</table>\n",
       "<p>49368 rows × 1 columns</p>\n",
       "</div>"
      ],
      "text/plain": [
       "        Age\n",
       "id         \n",
       "74051    10\n",
       "74052    10\n",
       "74053    10\n",
       "74054    10\n",
       "74055    10\n",
       "...     ...\n",
       "123414   10\n",
       "123415   10\n",
       "123416   10\n",
       "123417   10\n",
       "123418   10\n",
       "\n",
       "[49368 rows x 1 columns]"
      ]
     },
     "execution_count": 40,
     "metadata": {},
     "output_type": "execute_result"
    }
   ],
   "source": [
    "sample_submission_df"
   ]
  },
  {
   "cell_type": "code",
   "execution_count": 41,
   "id": "bb7e4bad",
   "metadata": {},
   "outputs": [],
   "source": [
    "sample_submission_df['Age']=y_pred"
   ]
  },
  {
   "cell_type": "code",
   "execution_count": 42,
   "id": "61d06afd",
   "metadata": {},
   "outputs": [
    {
     "data": {
      "text/html": [
       "<div>\n",
       "<style scoped>\n",
       "    .dataframe tbody tr th:only-of-type {\n",
       "        vertical-align: middle;\n",
       "    }\n",
       "\n",
       "    .dataframe tbody tr th {\n",
       "        vertical-align: top;\n",
       "    }\n",
       "\n",
       "    .dataframe thead th {\n",
       "        text-align: right;\n",
       "    }\n",
       "</style>\n",
       "<table border=\"1\" class=\"dataframe\">\n",
       "  <thead>\n",
       "    <tr style=\"text-align: right;\">\n",
       "      <th></th>\n",
       "      <th>Age</th>\n",
       "    </tr>\n",
       "    <tr>\n",
       "      <th>id</th>\n",
       "      <th></th>\n",
       "    </tr>\n",
       "  </thead>\n",
       "  <tbody>\n",
       "    <tr>\n",
       "      <th>74051</th>\n",
       "      <td>7.441612</td>\n",
       "    </tr>\n",
       "    <tr>\n",
       "      <th>74052</th>\n",
       "      <td>7.819843</td>\n",
       "    </tr>\n",
       "    <tr>\n",
       "      <th>74053</th>\n",
       "      <td>10.190370</td>\n",
       "    </tr>\n",
       "    <tr>\n",
       "      <th>74054</th>\n",
       "      <td>10.185395</td>\n",
       "    </tr>\n",
       "    <tr>\n",
       "      <th>74055</th>\n",
       "      <td>7.750905</td>\n",
       "    </tr>\n",
       "    <tr>\n",
       "      <th>...</th>\n",
       "      <td>...</td>\n",
       "    </tr>\n",
       "    <tr>\n",
       "      <th>123414</th>\n",
       "      <td>8.640982</td>\n",
       "    </tr>\n",
       "    <tr>\n",
       "      <th>123415</th>\n",
       "      <td>8.351339</td>\n",
       "    </tr>\n",
       "    <tr>\n",
       "      <th>123416</th>\n",
       "      <td>13.234941</td>\n",
       "    </tr>\n",
       "    <tr>\n",
       "      <th>123417</th>\n",
       "      <td>9.665148</td>\n",
       "    </tr>\n",
       "    <tr>\n",
       "      <th>123418</th>\n",
       "      <td>11.920627</td>\n",
       "    </tr>\n",
       "  </tbody>\n",
       "</table>\n",
       "<p>49368 rows × 1 columns</p>\n",
       "</div>"
      ],
      "text/plain": [
       "              Age\n",
       "id               \n",
       "74051    7.441612\n",
       "74052    7.819843\n",
       "74053   10.190370\n",
       "74054   10.185395\n",
       "74055    7.750905\n",
       "...           ...\n",
       "123414   8.640982\n",
       "123415   8.351339\n",
       "123416  13.234941\n",
       "123417   9.665148\n",
       "123418  11.920627\n",
       "\n",
       "[49368 rows x 1 columns]"
      ]
     },
     "execution_count": 42,
     "metadata": {},
     "output_type": "execute_result"
    }
   ],
   "source": [
    "sample_submission_df"
   ]
  },
  {
   "cell_type": "code",
   "execution_count": 43,
   "id": "d77a3a58",
   "metadata": {},
   "outputs": [],
   "source": [
    "sample_submission_df.to_csv('sample_submission.csv')"
   ]
  },
  {
   "cell_type": "code",
   "execution_count": null,
   "id": "7b43a79a",
   "metadata": {},
   "outputs": [],
   "source": []
  }
 ],
 "metadata": {
  "kernelspec": {
   "display_name": "Python 3 (ipykernel)",
   "language": "python",
   "name": "python3"
  },
  "language_info": {
   "codemirror_mode": {
    "name": "ipython",
    "version": 3
   },
   "file_extension": ".py",
   "mimetype": "text/x-python",
   "name": "python",
   "nbconvert_exporter": "python",
   "pygments_lexer": "ipython3",
   "version": "3.11.5"
  }
 },
 "nbformat": 4,
 "nbformat_minor": 5
}
