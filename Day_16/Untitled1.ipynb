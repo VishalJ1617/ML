{
 "cells": [
  {
   "cell_type": "code",
   "execution_count": 3,
   "id": "1a9adf54",
   "metadata": {},
   "outputs": [],
   "source": [
    "import pandas as pd\n",
    "import os\n",
    "\n",
    "\n",
    "df = pd.read_excel(\"[final] April 2015 to Nov 30 2019 - Transformed Jester Data - .xlsx\",\n",
    "                   header=None)\n",
    "\n",
    "ratings_df = pd.melt(df, id_vars=0)\n",
    "ratings_df.columns=[\"uid\", \"iid\", \"rating\"]\n",
    "ratings_df = ratings_df[(ratings_df['rating']<=10) & (ratings_df['rating']>=-10)]\n",
    "\n"
   ]
  },
  {
   "cell_type": "code",
   "execution_count": null,
   "id": "9448cfe5",
   "metadata": {},
   "outputs": [],
   "source": []
  }
 ],
 "metadata": {
  "kernelspec": {
   "display_name": "Python 3 (ipykernel)",
   "language": "python",
   "name": "python3"
  },
  "language_info": {
   "codemirror_mode": {
    "name": "ipython",
    "version": 3
   },
   "file_extension": ".py",
   "mimetype": "text/x-python",
   "name": "python",
   "nbconvert_exporter": "python",
   "pygments_lexer": "ipython3",
   "version": "3.11.5"
  }
 },
 "nbformat": 4,
 "nbformat_minor": 5
}
