{
 "cells": [
  {
   "cell_type": "code",
   "execution_count": 1,
   "id": "079fdc58",
   "metadata": {},
   "outputs": [],
   "source": [
    "import pandas as pd\n",
    "import numpy as np\n",
    "import matplotlib.pyplot as plt\n",
    "from sklearn.decomposition import PCA\n",
    "import seaborn as sns\n",
    "from sklearn.manifold import TSNE"
   ]
  },
  {
   "cell_type": "code",
   "execution_count": 2,
   "id": "4e646d18",
   "metadata": {},
   "outputs": [],
   "source": [
    "cancer_df=pd.read_csv('BreastCancer.csv',index_col=0)"
   ]
  },
  {
   "cell_type": "code",
   "execution_count": 3,
   "id": "f0c170e2",
   "metadata": {},
   "outputs": [
    {
     "data": {
      "text/html": [
       "<div>\n",
       "<style scoped>\n",
       "    .dataframe tbody tr th:only-of-type {\n",
       "        vertical-align: middle;\n",
       "    }\n",
       "\n",
       "    .dataframe tbody tr th {\n",
       "        vertical-align: top;\n",
       "    }\n",
       "\n",
       "    .dataframe thead th {\n",
       "        text-align: right;\n",
       "    }\n",
       "</style>\n",
       "<table border=\"1\" class=\"dataframe\">\n",
       "  <thead>\n",
       "    <tr style=\"text-align: right;\">\n",
       "      <th></th>\n",
       "      <th>Clump</th>\n",
       "      <th>UniCell_Size</th>\n",
       "      <th>Uni_CellShape</th>\n",
       "      <th>MargAdh</th>\n",
       "      <th>SEpith</th>\n",
       "      <th>BareN</th>\n",
       "      <th>BChromatin</th>\n",
       "      <th>NoemN</th>\n",
       "      <th>Mitoses</th>\n",
       "      <th>Class</th>\n",
       "    </tr>\n",
       "    <tr>\n",
       "      <th>Code</th>\n",
       "      <th></th>\n",
       "      <th></th>\n",
       "      <th></th>\n",
       "      <th></th>\n",
       "      <th></th>\n",
       "      <th></th>\n",
       "      <th></th>\n",
       "      <th></th>\n",
       "      <th></th>\n",
       "      <th></th>\n",
       "    </tr>\n",
       "  </thead>\n",
       "  <tbody>\n",
       "    <tr>\n",
       "      <th>61634</th>\n",
       "      <td>5</td>\n",
       "      <td>4</td>\n",
       "      <td>3</td>\n",
       "      <td>1</td>\n",
       "      <td>2</td>\n",
       "      <td>2</td>\n",
       "      <td>2</td>\n",
       "      <td>3</td>\n",
       "      <td>1</td>\n",
       "      <td>Benign</td>\n",
       "    </tr>\n",
       "    <tr>\n",
       "      <th>63375</th>\n",
       "      <td>9</td>\n",
       "      <td>1</td>\n",
       "      <td>2</td>\n",
       "      <td>6</td>\n",
       "      <td>4</td>\n",
       "      <td>10</td>\n",
       "      <td>7</td>\n",
       "      <td>7</td>\n",
       "      <td>2</td>\n",
       "      <td>Malignant</td>\n",
       "    </tr>\n",
       "    <tr>\n",
       "      <th>76389</th>\n",
       "      <td>10</td>\n",
       "      <td>4</td>\n",
       "      <td>7</td>\n",
       "      <td>2</td>\n",
       "      <td>2</td>\n",
       "      <td>8</td>\n",
       "      <td>6</td>\n",
       "      <td>1</td>\n",
       "      <td>1</td>\n",
       "      <td>Malignant</td>\n",
       "    </tr>\n",
       "    <tr>\n",
       "      <th>95719</th>\n",
       "      <td>6</td>\n",
       "      <td>10</td>\n",
       "      <td>10</td>\n",
       "      <td>10</td>\n",
       "      <td>8</td>\n",
       "      <td>10</td>\n",
       "      <td>7</td>\n",
       "      <td>10</td>\n",
       "      <td>7</td>\n",
       "      <td>Malignant</td>\n",
       "    </tr>\n",
       "    <tr>\n",
       "      <th>128059</th>\n",
       "      <td>1</td>\n",
       "      <td>1</td>\n",
       "      <td>1</td>\n",
       "      <td>1</td>\n",
       "      <td>2</td>\n",
       "      <td>5</td>\n",
       "      <td>5</td>\n",
       "      <td>1</td>\n",
       "      <td>1</td>\n",
       "      <td>Benign</td>\n",
       "    </tr>\n",
       "    <tr>\n",
       "      <th>...</th>\n",
       "      <td>...</td>\n",
       "      <td>...</td>\n",
       "      <td>...</td>\n",
       "      <td>...</td>\n",
       "      <td>...</td>\n",
       "      <td>...</td>\n",
       "      <td>...</td>\n",
       "      <td>...</td>\n",
       "      <td>...</td>\n",
       "      <td>...</td>\n",
       "    </tr>\n",
       "    <tr>\n",
       "      <th>1369821</th>\n",
       "      <td>10</td>\n",
       "      <td>10</td>\n",
       "      <td>10</td>\n",
       "      <td>10</td>\n",
       "      <td>5</td>\n",
       "      <td>10</td>\n",
       "      <td>10</td>\n",
       "      <td>10</td>\n",
       "      <td>7</td>\n",
       "      <td>Malignant</td>\n",
       "    </tr>\n",
       "    <tr>\n",
       "      <th>1371026</th>\n",
       "      <td>5</td>\n",
       "      <td>10</td>\n",
       "      <td>10</td>\n",
       "      <td>10</td>\n",
       "      <td>4</td>\n",
       "      <td>10</td>\n",
       "      <td>5</td>\n",
       "      <td>6</td>\n",
       "      <td>3</td>\n",
       "      <td>Malignant</td>\n",
       "    </tr>\n",
       "    <tr>\n",
       "      <th>1371920</th>\n",
       "      <td>5</td>\n",
       "      <td>1</td>\n",
       "      <td>1</td>\n",
       "      <td>1</td>\n",
       "      <td>2</td>\n",
       "      <td>1</td>\n",
       "      <td>3</td>\n",
       "      <td>2</td>\n",
       "      <td>1</td>\n",
       "      <td>Benign</td>\n",
       "    </tr>\n",
       "    <tr>\n",
       "      <th>8233704</th>\n",
       "      <td>4</td>\n",
       "      <td>1</td>\n",
       "      <td>1</td>\n",
       "      <td>1</td>\n",
       "      <td>1</td>\n",
       "      <td>1</td>\n",
       "      <td>2</td>\n",
       "      <td>1</td>\n",
       "      <td>1</td>\n",
       "      <td>Benign</td>\n",
       "    </tr>\n",
       "    <tr>\n",
       "      <th>13454352</th>\n",
       "      <td>1</td>\n",
       "      <td>1</td>\n",
       "      <td>3</td>\n",
       "      <td>1</td>\n",
       "      <td>2</td>\n",
       "      <td>1</td>\n",
       "      <td>2</td>\n",
       "      <td>1</td>\n",
       "      <td>1</td>\n",
       "      <td>Benign</td>\n",
       "    </tr>\n",
       "  </tbody>\n",
       "</table>\n",
       "<p>699 rows × 10 columns</p>\n",
       "</div>"
      ],
      "text/plain": [
       "          Clump  UniCell_Size  Uni_CellShape  MargAdh  SEpith  BareN  \\\n",
       "Code                                                                   \n",
       "61634         5             4              3        1       2      2   \n",
       "63375         9             1              2        6       4     10   \n",
       "76389        10             4              7        2       2      8   \n",
       "95719         6            10             10       10       8     10   \n",
       "128059        1             1              1        1       2      5   \n",
       "...         ...           ...            ...      ...     ...    ...   \n",
       "1369821      10            10             10       10       5     10   \n",
       "1371026       5            10             10       10       4     10   \n",
       "1371920       5             1              1        1       2      1   \n",
       "8233704       4             1              1        1       1      1   \n",
       "13454352      1             1              3        1       2      1   \n",
       "\n",
       "          BChromatin  NoemN  Mitoses      Class  \n",
       "Code                                             \n",
       "61634              2      3        1     Benign  \n",
       "63375              7      7        2  Malignant  \n",
       "76389              6      1        1  Malignant  \n",
       "95719              7     10        7  Malignant  \n",
       "128059             5      1        1     Benign  \n",
       "...              ...    ...      ...        ...  \n",
       "1369821           10     10        7  Malignant  \n",
       "1371026            5      6        3  Malignant  \n",
       "1371920            3      2        1     Benign  \n",
       "8233704            2      1        1     Benign  \n",
       "13454352           2      1        1     Benign  \n",
       "\n",
       "[699 rows x 10 columns]"
      ]
     },
     "execution_count": 3,
     "metadata": {},
     "output_type": "execute_result"
    }
   ],
   "source": [
    "cancer_df"
   ]
  },
  {
   "cell_type": "code",
   "execution_count": 4,
   "id": "8254ae43",
   "metadata": {},
   "outputs": [],
   "source": [
    "X=cancer_df.drop('Class',axis=1)"
   ]
  },
  {
   "cell_type": "code",
   "execution_count": 5,
   "id": "92b18058",
   "metadata": {},
   "outputs": [],
   "source": [
    "y=cancer_df['Class']"
   ]
  },
  {
   "cell_type": "code",
   "execution_count": 6,
   "id": "50da0756",
   "metadata": {},
   "outputs": [],
   "source": [
    "tsne=TSNE(random_state=23).set_output(transform='pandas')"
   ]
  },
  {
   "cell_type": "code",
   "execution_count": 7,
   "id": "b179861b",
   "metadata": {},
   "outputs": [],
   "source": [
    "x_tsne=tsne.fit_transform(X)"
   ]
  },
  {
   "cell_type": "code",
   "execution_count": 8,
   "id": "fdfadaa2",
   "metadata": {},
   "outputs": [],
   "source": [
    "tsne_pd=pd.concat([x_tsne,y],axis=1)"
   ]
  },
  {
   "cell_type": "code",
   "execution_count": 9,
   "id": "83582b1c",
   "metadata": {},
   "outputs": [
    {
     "name": "stderr",
     "output_type": "stream",
     "text": [
      "/home/dai/anaconda3/lib/python3.11/site-packages/seaborn/_oldcore.py:1498: FutureWarning: is_categorical_dtype is deprecated and will be removed in a future version. Use isinstance(dtype, CategoricalDtype) instead\n",
      "  if pd.api.types.is_categorical_dtype(vector):\n",
      "/home/dai/anaconda3/lib/python3.11/site-packages/seaborn/_oldcore.py:1498: FutureWarning: is_categorical_dtype is deprecated and will be removed in a future version. Use isinstance(dtype, CategoricalDtype) instead\n",
      "  if pd.api.types.is_categorical_dtype(vector):\n",
      "/home/dai/anaconda3/lib/python3.11/site-packages/seaborn/_oldcore.py:1498: FutureWarning: is_categorical_dtype is deprecated and will be removed in a future version. Use isinstance(dtype, CategoricalDtype) instead\n",
      "  if pd.api.types.is_categorical_dtype(vector):\n",
      "/home/dai/anaconda3/lib/python3.11/site-packages/seaborn/_oldcore.py:1498: FutureWarning: is_categorical_dtype is deprecated and will be removed in a future version. Use isinstance(dtype, CategoricalDtype) instead\n",
      "  if pd.api.types.is_categorical_dtype(vector):\n",
      "/home/dai/anaconda3/lib/python3.11/site-packages/seaborn/_oldcore.py:1498: FutureWarning: is_categorical_dtype is deprecated and will be removed in a future version. Use isinstance(dtype, CategoricalDtype) instead\n",
      "  if pd.api.types.is_categorical_dtype(vector):\n"
     ]
    },
    {
     "data": {
      "image/png": "[encoded data removed]",
      "text/plain": [
       "<Figure size 640x480 with 1 Axes>"
      ]
     },
     "metadata": {},
     "output_type": "display_data"
    }
   ],
   "source": [
    "sns.scatterplot(data=tsne_pd,x='tsne0',y='tsne1',hue='Class')\n",
    "plt.title('t-SNE')\n",
    "plt.show()"
   ]
  },
  {
   "cell_type": "markdown",
   "id": "c82e17a4",
   "metadata": {},
   "source": [
    "# Grid Search"
   ]
  },
  {
   "cell_type": "code",
   "execution_count": 13,
   "id": "bd13ee6b",
   "metadata": {},
   "outputs": [],
   "source": [
    "from sklearn.model_selection import StratifiedKFold,GridSearchCV"
   ]
  },
  {
   "cell_type": "code",
   "execution_count": 14,
   "id": "e9801b02",
   "metadata": {},
   "outputs": [],
   "source": [
    "kfold=StratifiedKFold(n_splits=5,shuffle=True,random_state=23)"
   ]
  },
  {
   "cell_type": "code",
   "execution_count": 15,
   "id": "241e213d",
   "metadata": {},
   "outputs": [],
   "source": [
    "tsne=TSNE(random_state=23).set_output(transform='pandas')"
   ]
  },
  {
   "cell_type": "code",
   "execution_count": 16,
   "id": "4e459e96",
   "metadata": {},
   "outputs": [
    {
     "data": {
      "text/plain": [
       "{'angle': 0.5,\n",
       " 'early_exaggeration': 12.0,\n",
       " 'init': 'pca',\n",
       " 'learning_rate': 'auto',\n",
       " 'method': 'barnes_hut',\n",
       " 'metric': 'euclidean',\n",
       " 'metric_params': None,\n",
       " 'min_grad_norm': 1e-07,\n",
       " 'n_components': 2,\n",
       " 'n_iter': 1000,\n",
       " 'n_iter_without_progress': 300,\n",
       " 'n_jobs': None,\n",
       " 'perplexity': 30.0,\n",
       " 'random_state': 23,\n",
       " 'verbose': 0}"
      ]
     },
     "execution_count": 16,
     "metadata": {},
     "output_type": "execute_result"
    }
   ],
   "source": [
    "tsne.get_params()"
   ]
  },
  {
   "cell_type": "code",
   "execution_count": 22,
   "id": "6bd462c8",
   "metadata": {},
   "outputs": [],
   "source": [
    "from sklearn.svm import SVC"
   ]
  },
  {
   "cell_type": "code",
   "execution_count": 25,
   "id": "7e697d3b",
   "metadata": {},
   "outputs": [],
   "source": [
    "from sklearn.pipeline import Pipeline"
   ]
  },
  {
   "cell_type": "code",
   "execution_count": 23,
   "id": "be32b9e4",
   "metadata": {},
   "outputs": [],
   "source": [
    "svm=SVC(kernel='linear')"
   ]
  },
  {
   "cell_type": "code",
   "execution_count": 26,
   "id": "a2a04748",
   "metadata": {},
   "outputs": [],
   "source": [
    "pipe=Pipeline([('TSNE',tsne),('SVM',svm)])"
   ]
  },
  {
   "cell_type": "code",
   "execution_count": 32,
   "id": "f7b11e10",
   "metadata": {},
   "outputs": [],
   "source": [
    "x_tsne=tsne.fit_transform(X)"
   ]
  },
  {
   "cell_type": "code",
   "execution_count": 28,
   "id": "40dce5b1",
   "metadata": {},
   "outputs": [
    {
     "data": {
      "text/plain": [
       "{'memory': None,\n",
       " 'steps': [('TSNE', TSNE(random_state=23)), ('SVM', SVC(kernel='linear'))],\n",
       " 'verbose': False,\n",
       " 'TSNE': TSNE(random_state=23),\n",
       " 'SVM': SVC(kernel='linear'),\n",
       " 'TSNE__angle': 0.5,\n",
       " 'TSNE__early_exaggeration': 12.0,\n",
       " 'TSNE__init': 'pca',\n",
       " 'TSNE__learning_rate': 'auto',\n",
       " 'TSNE__method': 'barnes_hut',\n",
       " 'TSNE__metric': 'euclidean',\n",
       " 'TSNE__metric_params': None,\n",
       " 'TSNE__min_grad_norm': 1e-07,\n",
       " 'TSNE__n_components': 2,\n",
       " 'TSNE__n_iter': 1000,\n",
       " 'TSNE__n_iter_without_progress': 300,\n",
       " 'TSNE__n_jobs': None,\n",
       " 'TSNE__perplexity': 30.0,\n",
       " 'TSNE__random_state': 23,\n",
       " 'TSNE__verbose': 0,\n",
       " 'SVM__C': 1.0,\n",
       " 'SVM__break_ties': False,\n",
       " 'SVM__cache_size': 200,\n",
       " 'SVM__class_weight': None,\n",
       " 'SVM__coef0': 0.0,\n",
       " 'SVM__decision_function_shape': 'ovr',\n",
       " 'SVM__degree': 3,\n",
       " 'SVM__gamma': 'scale',\n",
       " 'SVM__kernel': 'linear',\n",
       " 'SVM__max_iter': -1,\n",
       " 'SVM__probability': False,\n",
       " 'SVM__random_state': None,\n",
       " 'SVM__shrinking': True,\n",
       " 'SVM__tol': 0.001,\n",
       " 'SVM__verbose': False}"
      ]
     },
     "execution_count": 28,
     "metadata": {},
     "output_type": "execute_result"
    }
   ],
   "source": [
    "pipe.get_params()"
   ]
  },
  {
   "cell_type": "code",
   "execution_count": 29,
   "id": "eaaac487",
   "metadata": {},
   "outputs": [],
   "source": [
    "params={'TSNE__perplexity':[5,15,30,35]}"
   ]
  },
  {
   "cell_type": "code",
   "execution_count": 30,
   "id": "aedc91ea",
   "metadata": {},
   "outputs": [],
   "source": [
    "gcv=GridSearchCV(pipe,param_grid=params,cv=kfold,verbose=3)"
   ]
  },
  {
   "cell_type": "code",
   "execution_count": 38,
   "id": "a4928532",
   "metadata": {},
   "outputs": [],
   "source": [
    "scores=[]"
   ]
  },
  {
   "cell_type": "code",
   "execution_count": 39,
   "id": "616c00fa",
   "metadata": {},
   "outputs": [],
   "source": [
    "perplex=[5,15,30,35,45,50]"
   ]
  },
  {
   "cell_type": "code",
   "execution_count": 45,
   "id": "675be0e7",
   "metadata": {},
   "outputs": [],
   "source": [
    "from sklearn.model_selection import cross_val_score"
   ]
  },
  {
   "cell_type": "code",
   "execution_count": 46,
   "id": "8c44cdfb",
   "metadata": {},
   "outputs": [
    {
     "name": "stderr",
     "output_type": "stream",
     "text": [
      "[Parallel(n_jobs=1)]: Using backend SequentialBackend with 1 concurrent workers.\n"
     ]
    },
    {
     "name": "stdout",
     "output_type": "stream",
     "text": [
      "[CV] END ................................ score: (test=0.864) total time=   0.2s\n",
      "[CV] END ................................ score: (test=0.900) total time=   0.2s\n"
     ]
    },
    {
     "name": "stderr",
     "output_type": "stream",
     "text": [
      "[Parallel(n_jobs=1)]: Done   1 out of   1 | elapsed:    0.3s remaining:    0.0s\n",
      "[Parallel(n_jobs=1)]: Done   2 out of   2 | elapsed:    0.5s remaining:    0.0s\n"
     ]
    },
    {
     "name": "stdout",
     "output_type": "stream",
     "text": [
      "[CV] END ................................ score: (test=0.893) total time=   0.2s\n",
      "[CV] END ................................ score: (test=0.914) total time=   0.4s\n",
      "[CV] END ................................ score: (test=0.835) total time=   0.1s\n"
     ]
    },
    {
     "name": "stderr",
     "output_type": "stream",
     "text": [
      "[Parallel(n_jobs=1)]: Done   5 out of   5 | elapsed:    1.3s finished\n",
      "[Parallel(n_jobs=1)]: Using backend SequentialBackend with 1 concurrent workers.\n",
      "[Parallel(n_jobs=1)]: Done   1 out of   1 | elapsed:    0.0s remaining:    0.0s\n",
      "[Parallel(n_jobs=1)]: Done   2 out of   2 | elapsed:    0.1s remaining:    0.0s\n",
      "[Parallel(n_jobs=1)]: Done   5 out of   5 | elapsed:    0.1s finished\n"
     ]
    },
    {
     "name": "stdout",
     "output_type": "stream",
     "text": [
      "[CV] END ................................ score: (test=0.929) total time=   0.0s\n",
      "[CV] END ................................ score: (test=0.979) total time=   0.0s\n",
      "[CV] END ................................ score: (test=0.979) total time=   0.0s\n",
      "[CV] END ................................ score: (test=0.964) total time=   0.0s\n",
      "[CV] END ................................ score: (test=0.921) total time=   0.0s\n"
     ]
    },
    {
     "name": "stderr",
     "output_type": "stream",
     "text": [
      "[Parallel(n_jobs=1)]: Using backend SequentialBackend with 1 concurrent workers.\n",
      "[Parallel(n_jobs=1)]: Done   1 out of   1 | elapsed:    0.0s remaining:    0.0s\n",
      "[Parallel(n_jobs=1)]: Done   2 out of   2 | elapsed:    0.0s remaining:    0.0s\n",
      "[Parallel(n_jobs=1)]: Done   5 out of   5 | elapsed:    0.1s finished\n"
     ]
    },
    {
     "name": "stdout",
     "output_type": "stream",
     "text": [
      "[CV] END ................................ score: (test=0.936) total time=   0.0s\n",
      "[CV] END ................................ score: (test=0.971) total time=   0.0s\n",
      "[CV] END ................................ score: (test=0.993) total time=   0.0s\n",
      "[CV] END ................................ score: (test=0.950) total time=   0.0s\n",
      "[CV] END ................................ score: (test=0.928) total time=   0.0s\n"
     ]
    },
    {
     "name": "stderr",
     "output_type": "stream",
     "text": [
      "[Parallel(n_jobs=1)]: Using backend SequentialBackend with 1 concurrent workers.\n",
      "[Parallel(n_jobs=1)]: Done   1 out of   1 | elapsed:    0.0s remaining:    0.0s\n",
      "[Parallel(n_jobs=1)]: Done   2 out of   2 | elapsed:    0.0s remaining:    0.0s\n",
      "[Parallel(n_jobs=1)]: Done   5 out of   5 | elapsed:    0.1s finished\n"
     ]
    },
    {
     "name": "stdout",
     "output_type": "stream",
     "text": [
      "[CV] END ................................ score: (test=0.929) total time=   0.0s\n",
      "[CV] END ................................ score: (test=0.979) total time=   0.0s\n",
      "[CV] END ................................ score: (test=0.986) total time=   0.0s\n",
      "[CV] END ................................ score: (test=0.979) total time=   0.0s\n",
      "[CV] END ................................ score: (test=0.957) total time=   0.0s\n"
     ]
    },
    {
     "name": "stderr",
     "output_type": "stream",
     "text": [
      "[Parallel(n_jobs=1)]: Using backend SequentialBackend with 1 concurrent workers.\n",
      "[Parallel(n_jobs=1)]: Done   1 out of   1 | elapsed:    0.0s remaining:    0.0s\n",
      "[Parallel(n_jobs=1)]: Done   2 out of   2 | elapsed:    0.0s remaining:    0.0s\n",
      "[Parallel(n_jobs=1)]: Done   5 out of   5 | elapsed:    0.1s finished\n"
     ]
    },
    {
     "name": "stdout",
     "output_type": "stream",
     "text": [
      "[CV] END ................................ score: (test=0.929) total time=   0.0s\n",
      "[CV] END ................................ score: (test=0.979) total time=   0.0s\n",
      "[CV] END ................................ score: (test=0.993) total time=   0.0s\n",
      "[CV] END ................................ score: (test=0.979) total time=   0.0s\n",
      "[CV] END ................................ score: (test=0.914) total time=   0.0s\n",
      "[CV] END ................................ score: (test=0.929) total time=   0.0s\n",
      "[CV] END ................................ score: (test=0.979) total time=   0.0s\n",
      "[CV] END ................................ score: (test=0.993) total time=   0.0s\n",
      "[CV] END ................................ score: (test=0.971) total time=   0.0s\n",
      "[CV] END ................................ score: (test=0.914) total time=   0.0s\n"
     ]
    },
    {
     "name": "stderr",
     "output_type": "stream",
     "text": [
      "[Parallel(n_jobs=1)]: Using backend SequentialBackend with 1 concurrent workers.\n",
      "[Parallel(n_jobs=1)]: Done   1 out of   1 | elapsed:    0.0s remaining:    0.0s\n",
      "[Parallel(n_jobs=1)]: Done   2 out of   2 | elapsed:    0.0s remaining:    0.0s\n",
      "[Parallel(n_jobs=1)]: Done   5 out of   5 | elapsed:    0.1s finished\n"
     ]
    }
   ],
   "source": [
    "for i in perplex:\n",
    "    tsne=TSNE(random_state=23,perplexity=i)\n",
    "    x_tsne=tsne.fit_transform(X)\n",
    "    svm=SVC(kernel='linear')\n",
    "    results=cross_val_score(svm,x_tsne,y,cv=kfold,verbose=3)\n",
    "    scores.append(gcv.best_score_)"
   ]
  },
  {
   "cell_type": "code",
   "execution_count": 47,
   "id": "49081f87",
   "metadata": {},
   "outputs": [
    {
     "name": "stdout",
     "output_type": "stream",
     "text": [
      "Best score =  0.9656526207605344\n"
     ]
    }
   ],
   "source": [
    "print(\"Best score = \",np.max(scores))"
   ]
  },
  {
   "cell_type": "code",
   "execution_count": 48,
   "id": "715e2a7a",
   "metadata": {},
   "outputs": [
    {
     "name": "stdout",
     "output_type": "stream",
     "text": [
      "Best perplexity =  35\n"
     ]
    }
   ],
   "source": [
    "print(\"Best perplexity = \",perplex[np.argmax(scores)])"
   ]
  },
  {
   "cell_type": "code",
   "execution_count": null,
   "id": "6a6dbb63",
   "metadata": {},
   "outputs": [],
   "source": []
  }
 ],
 "metadata": {
  "kernelspec": {
   "display_name": "Python 3 (ipykernel)",
   "language": "python",
   "name": "python3"
  },
  "language_info": {
   "codemirror_mode": {
    "name": "ipython",
    "version": 3
   },
   "file_extension": ".py",
   "mimetype": "text/x-python",
   "name": "python",
   "nbconvert_exporter": "python",
   "pygments_lexer": "ipython3",
   "version": "3.11.5"
  }
 },
 "nbformat": 4,
 "nbformat_minor": 5
}
