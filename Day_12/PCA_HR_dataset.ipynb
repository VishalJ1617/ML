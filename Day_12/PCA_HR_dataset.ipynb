{
 "cells": [
  {
   "cell_type": "code",
   "execution_count": 1,
   "id": "f6c16f8f",
   "metadata": {},
   "outputs": [],
   "source": [
    "import pandas as pd\n",
    "import numpy as np\n",
    "from sklearn.svm import SVC\n",
    "from sklearn.model_selection import train_test_split\n",
    "from sklearn.metrics import accuracy_score"
   ]
  },
  {
   "cell_type": "code",
   "execution_count": 2,
   "id": "71fb5500",
   "metadata": {},
   "outputs": [],
   "source": [
    "hr=pd.read_csv('HR_comma_sep.csv')"
   ]
  },
  {
   "cell_type": "code",
   "execution_count": 3,
   "id": "71fe1f92",
   "metadata": {},
   "outputs": [
    {
     "data": {
      "text/html": [
       "<div>\n",
       "<style scoped>\n",
       "    .dataframe tbody tr th:only-of-type {\n",
       "        vertical-align: middle;\n",
       "    }\n",
       "\n",
       "    .dataframe tbody tr th {\n",
       "        vertical-align: top;\n",
       "    }\n",
       "\n",
       "    .dataframe thead th {\n",
       "        text-align: right;\n",
       "    }\n",
       "</style>\n",
       "<table border=\"1\" class=\"dataframe\">\n",
       "  <thead>\n",
       "    <tr style=\"text-align: right;\">\n",
       "      <th></th>\n",
       "      <th>satisfaction_level</th>\n",
       "      <th>last_evaluation</th>\n",
       "      <th>number_project</th>\n",
       "      <th>average_montly_hours</th>\n",
       "      <th>time_spend_company</th>\n",
       "      <th>Work_accident</th>\n",
       "      <th>left</th>\n",
       "      <th>promotion_last_5years</th>\n",
       "      <th>Department</th>\n",
       "      <th>salary</th>\n",
       "    </tr>\n",
       "  </thead>\n",
       "  <tbody>\n",
       "    <tr>\n",
       "      <th>0</th>\n",
       "      <td>0.38</td>\n",
       "      <td>0.53</td>\n",
       "      <td>2</td>\n",
       "      <td>157</td>\n",
       "      <td>3</td>\n",
       "      <td>0</td>\n",
       "      <td>1</td>\n",
       "      <td>0</td>\n",
       "      <td>sales</td>\n",
       "      <td>low</td>\n",
       "    </tr>\n",
       "    <tr>\n",
       "      <th>1</th>\n",
       "      <td>0.80</td>\n",
       "      <td>0.86</td>\n",
       "      <td>5</td>\n",
       "      <td>262</td>\n",
       "      <td>6</td>\n",
       "      <td>0</td>\n",
       "      <td>1</td>\n",
       "      <td>0</td>\n",
       "      <td>sales</td>\n",
       "      <td>medium</td>\n",
       "    </tr>\n",
       "    <tr>\n",
       "      <th>2</th>\n",
       "      <td>0.10</td>\n",
       "      <td>0.77</td>\n",
       "      <td>6</td>\n",
       "      <td>247</td>\n",
       "      <td>4</td>\n",
       "      <td>0</td>\n",
       "      <td>1</td>\n",
       "      <td>0</td>\n",
       "      <td>sales</td>\n",
       "      <td>low</td>\n",
       "    </tr>\n",
       "    <tr>\n",
       "      <th>3</th>\n",
       "      <td>0.92</td>\n",
       "      <td>0.85</td>\n",
       "      <td>5</td>\n",
       "      <td>259</td>\n",
       "      <td>5</td>\n",
       "      <td>0</td>\n",
       "      <td>1</td>\n",
       "      <td>0</td>\n",
       "      <td>sales</td>\n",
       "      <td>low</td>\n",
       "    </tr>\n",
       "    <tr>\n",
       "      <th>4</th>\n",
       "      <td>0.89</td>\n",
       "      <td>1.00</td>\n",
       "      <td>5</td>\n",
       "      <td>224</td>\n",
       "      <td>5</td>\n",
       "      <td>0</td>\n",
       "      <td>1</td>\n",
       "      <td>0</td>\n",
       "      <td>sales</td>\n",
       "      <td>low</td>\n",
       "    </tr>\n",
       "    <tr>\n",
       "      <th>...</th>\n",
       "      <td>...</td>\n",
       "      <td>...</td>\n",
       "      <td>...</td>\n",
       "      <td>...</td>\n",
       "      <td>...</td>\n",
       "      <td>...</td>\n",
       "      <td>...</td>\n",
       "      <td>...</td>\n",
       "      <td>...</td>\n",
       "      <td>...</td>\n",
       "    </tr>\n",
       "    <tr>\n",
       "      <th>14990</th>\n",
       "      <td>0.40</td>\n",
       "      <td>0.57</td>\n",
       "      <td>2</td>\n",
       "      <td>151</td>\n",
       "      <td>3</td>\n",
       "      <td>0</td>\n",
       "      <td>1</td>\n",
       "      <td>0</td>\n",
       "      <td>support</td>\n",
       "      <td>low</td>\n",
       "    </tr>\n",
       "    <tr>\n",
       "      <th>14991</th>\n",
       "      <td>0.37</td>\n",
       "      <td>0.48</td>\n",
       "      <td>2</td>\n",
       "      <td>160</td>\n",
       "      <td>3</td>\n",
       "      <td>0</td>\n",
       "      <td>1</td>\n",
       "      <td>0</td>\n",
       "      <td>support</td>\n",
       "      <td>low</td>\n",
       "    </tr>\n",
       "    <tr>\n",
       "      <th>14992</th>\n",
       "      <td>0.37</td>\n",
       "      <td>0.53</td>\n",
       "      <td>2</td>\n",
       "      <td>143</td>\n",
       "      <td>3</td>\n",
       "      <td>0</td>\n",
       "      <td>1</td>\n",
       "      <td>0</td>\n",
       "      <td>support</td>\n",
       "      <td>low</td>\n",
       "    </tr>\n",
       "    <tr>\n",
       "      <th>14993</th>\n",
       "      <td>0.11</td>\n",
       "      <td>0.96</td>\n",
       "      <td>6</td>\n",
       "      <td>280</td>\n",
       "      <td>4</td>\n",
       "      <td>0</td>\n",
       "      <td>1</td>\n",
       "      <td>0</td>\n",
       "      <td>support</td>\n",
       "      <td>low</td>\n",
       "    </tr>\n",
       "    <tr>\n",
       "      <th>14994</th>\n",
       "      <td>0.37</td>\n",
       "      <td>0.52</td>\n",
       "      <td>2</td>\n",
       "      <td>158</td>\n",
       "      <td>3</td>\n",
       "      <td>0</td>\n",
       "      <td>1</td>\n",
       "      <td>0</td>\n",
       "      <td>support</td>\n",
       "      <td>low</td>\n",
       "    </tr>\n",
       "  </tbody>\n",
       "</table>\n",
       "<p>14995 rows × 10 columns</p>\n",
       "</div>"
      ],
      "text/plain": [
       "       satisfaction_level  last_evaluation  number_project  \\\n",
       "0                    0.38             0.53               2   \n",
       "1                    0.80             0.86               5   \n",
       "2                    0.10             0.77               6   \n",
       "3                    0.92             0.85               5   \n",
       "4                    0.89             1.00               5   \n",
       "...                   ...              ...             ...   \n",
       "14990                0.40             0.57               2   \n",
       "14991                0.37             0.48               2   \n",
       "14992                0.37             0.53               2   \n",
       "14993                0.11             0.96               6   \n",
       "14994                0.37             0.52               2   \n",
       "\n",
       "       average_montly_hours  time_spend_company  Work_accident  left  \\\n",
       "0                       157                   3              0     1   \n",
       "1                       262                   6              0     1   \n",
       "2                       247                   4              0     1   \n",
       "3                       259                   5              0     1   \n",
       "4                       224                   5              0     1   \n",
       "...                     ...                 ...            ...   ...   \n",
       "14990                   151                   3              0     1   \n",
       "14991                   160                   3              0     1   \n",
       "14992                   143                   3              0     1   \n",
       "14993                   280                   4              0     1   \n",
       "14994                   158                   3              0     1   \n",
       "\n",
       "       promotion_last_5years Department  salary  \n",
       "0                          0      sales     low  \n",
       "1                          0      sales  medium  \n",
       "2                          0      sales     low  \n",
       "3                          0      sales     low  \n",
       "4                          0      sales     low  \n",
       "...                      ...        ...     ...  \n",
       "14990                      0    support     low  \n",
       "14991                      0    support     low  \n",
       "14992                      0    support     low  \n",
       "14993                      0    support     low  \n",
       "14994                      0    support     low  \n",
       "\n",
       "[14995 rows x 10 columns]"
      ]
     },
     "execution_count": 3,
     "metadata": {},
     "output_type": "execute_result"
    }
   ],
   "source": [
    "hr"
   ]
  },
  {
   "cell_type": "code",
   "execution_count": 4,
   "id": "ca6202d9",
   "metadata": {},
   "outputs": [],
   "source": [
    "hr=pd.get_dummies(hr,drop_first=True)"
   ]
  },
  {
   "cell_type": "code",
   "execution_count": 5,
   "id": "9c1e2ad9",
   "metadata": {},
   "outputs": [],
   "source": [
    "X=hr.drop('left',axis=1)\n",
    "y=hr['left']"
   ]
  },
  {
   "cell_type": "code",
   "execution_count": 6,
   "id": "a417558a",
   "metadata": {},
   "outputs": [],
   "source": [
    "from sklearn.pipeline import Pipeline\n",
    "from sklearn.preprocessing import StandardScaler\n",
    "from sklearn.compose import make_column_transformer,make_column_selector"
   ]
  },
  {
   "cell_type": "code",
   "execution_count": 7,
   "id": "4c099777",
   "metadata": {},
   "outputs": [],
   "source": [
    "from sklearn.decomposition import PCA\n",
    "prcomp=PCA()"
   ]
  },
  {
   "cell_type": "code",
   "execution_count": 8,
   "id": "99225bb6",
   "metadata": {},
   "outputs": [],
   "source": [
    "scaler=StandardScaler()"
   ]
  },
  {
   "cell_type": "code",
   "execution_count": 9,
   "id": "48c3cd1d",
   "metadata": {},
   "outputs": [],
   "source": [
    "svm=SVC(kernel='linear')"
   ]
  },
  {
   "cell_type": "code",
   "execution_count": 10,
   "id": "7900b011",
   "metadata": {},
   "outputs": [],
   "source": [
    "pipe_svc=Pipeline([('Scaler',scaler),('PCA',prcomp),('SVC',svm)])"
   ]
  },
  {
   "cell_type": "code",
   "execution_count": 11,
   "id": "868bcc67",
   "metadata": {},
   "outputs": [
    {
     "data": {
      "text/plain": [
       "{'memory': None,\n",
       " 'steps': [('Scaler', StandardScaler()),\n",
       "  ('PCA', PCA()),\n",
       "  ('SVC', SVC(kernel='linear'))],\n",
       " 'verbose': False,\n",
       " 'Scaler': StandardScaler(),\n",
       " 'PCA': PCA(),\n",
       " 'SVC': SVC(kernel='linear'),\n",
       " 'Scaler__copy': True,\n",
       " 'Scaler__with_mean': True,\n",
       " 'Scaler__with_std': True,\n",
       " 'PCA__copy': True,\n",
       " 'PCA__iterated_power': 'auto',\n",
       " 'PCA__n_components': None,\n",
       " 'PCA__n_oversamples': 10,\n",
       " 'PCA__power_iteration_normalizer': 'auto',\n",
       " 'PCA__random_state': None,\n",
       " 'PCA__svd_solver': 'auto',\n",
       " 'PCA__tol': 0.0,\n",
       " 'PCA__whiten': False,\n",
       " 'SVC__C': 1.0,\n",
       " 'SVC__break_ties': False,\n",
       " 'SVC__cache_size': 200,\n",
       " 'SVC__class_weight': None,\n",
       " 'SVC__coef0': 0.0,\n",
       " 'SVC__decision_function_shape': 'ovr',\n",
       " 'SVC__degree': 3,\n",
       " 'SVC__gamma': 'scale',\n",
       " 'SVC__kernel': 'linear',\n",
       " 'SVC__max_iter': -1,\n",
       " 'SVC__probability': False,\n",
       " 'SVC__random_state': None,\n",
       " 'SVC__shrinking': True,\n",
       " 'SVC__tol': 0.001,\n",
       " 'SVC__verbose': False}"
      ]
     },
     "execution_count": 11,
     "metadata": {},
     "output_type": "execute_result"
    }
   ],
   "source": [
    "pipe_svc.get_params()"
   ]
  },
  {
   "cell_type": "code",
   "execution_count": 12,
   "id": "b66368d1",
   "metadata": {},
   "outputs": [],
   "source": [
    "from sklearn.model_selection import GridSearchCV"
   ]
  },
  {
   "cell_type": "code",
   "execution_count": 13,
   "id": "6450b96b",
   "metadata": {},
   "outputs": [],
   "source": [
    "params={'PCA__n_components':[2,3,4,5]}"
   ]
  },
  {
   "cell_type": "code",
   "execution_count": 14,
   "id": "4d03b654",
   "metadata": {},
   "outputs": [],
   "source": [
    "from sklearn.model_selection import StratifiedKFold"
   ]
  },
  {
   "cell_type": "code",
   "execution_count": 15,
   "id": "672a12b6",
   "metadata": {},
   "outputs": [],
   "source": [
    "kfold=StratifiedKFold(n_splits=5,shuffle=True,random_state=23)"
   ]
  },
  {
   "cell_type": "code",
   "execution_count": 16,
   "id": "b6ef27d9",
   "metadata": {},
   "outputs": [],
   "source": [
    "gcv=GridSearchCV(pipe_svc,param_grid=params,cv=kfold,verbose=3)"
   ]
  },
  {
   "cell_type": "code",
   "execution_count": 17,
   "id": "df9de55d",
   "metadata": {},
   "outputs": [
    {
     "name": "stdout",
     "output_type": "stream",
     "text": [
      "Fitting 5 folds for each of 4 candidates, totalling 20 fits\n",
      "[CV 1/5] END ...............PCA__n_components=2;, score=0.762 total time=   4.7s\n",
      "[CV 2/5] END ...............PCA__n_components=2;, score=0.762 total time=   4.6s\n",
      "[CV 3/5] END ...............PCA__n_components=2;, score=0.762 total time=   4.6s\n",
      "[CV 4/5] END ...............PCA__n_components=2;, score=0.762 total time=   4.3s\n",
      "[CV 5/5] END ...............PCA__n_components=2;, score=0.762 total time=   4.6s\n",
      "[CV 1/5] END ...............PCA__n_components=3;, score=0.762 total time=   4.6s\n",
      "[CV 2/5] END ...............PCA__n_components=3;, score=0.762 total time=   4.6s\n",
      "[CV 3/5] END ...............PCA__n_components=3;, score=0.762 total time=   4.5s\n",
      "[CV 4/5] END ...............PCA__n_components=3;, score=0.762 total time=   4.6s\n",
      "[CV 5/5] END ...............PCA__n_components=3;, score=0.762 total time=   4.5s\n",
      "[CV 1/5] END ...............PCA__n_components=4;, score=0.762 total time=   4.6s\n",
      "[CV 2/5] END ...............PCA__n_components=4;, score=0.762 total time=   4.8s\n",
      "[CV 3/5] END ...............PCA__n_components=4;, score=0.762 total time=   4.6s\n",
      "[CV 4/5] END ...............PCA__n_components=4;, score=0.762 total time=   4.8s\n",
      "[CV 5/5] END ...............PCA__n_components=4;, score=0.762 total time=   4.6s\n",
      "[CV 1/5] END ...............PCA__n_components=5;, score=0.762 total time=   4.6s\n",
      "[CV 2/5] END ...............PCA__n_components=5;, score=0.762 total time=   4.7s\n",
      "[CV 3/5] END ...............PCA__n_components=5;, score=0.762 total time=   4.7s\n",
      "[CV 4/5] END ...............PCA__n_components=5;, score=0.762 total time=   4.7s\n",
      "[CV 5/5] END ...............PCA__n_components=5;, score=0.762 total time=   4.7s\n"
     ]
    },
    {
     "data": {
      "text/html": [
       "<style>#sk-container-id-1 {color: black;}#sk-container-id-1 pre{padding: 0;}#sk-container-id-1 div.sk-toggleable {background-color: white;}#sk-container-id-1 label.sk-toggleable__label {cursor: pointer;display: block;width: 100%;margin-bottom: 0;padding: 0.3em;box-sizing: border-box;text-align: center;}#sk-container-id-1 label.sk-toggleable__label-arrow:before {content: \"▸\";float: left;margin-right: 0.25em;color: #696969;}#sk-container-id-1 label.sk-toggleable__label-arrow:hover:before {color: black;}#sk-container-id-1 div.sk-estimator:hover label.sk-toggleable__label-arrow:before {color: black;}#sk-container-id-1 div.sk-toggleable__content {max-height: 0;max-width: 0;overflow: hidden;text-align: left;background-color: #f0f8ff;}#sk-container-id-1 div.sk-toggleable__content pre {margin: 0.2em;color: black;border-radius: 0.25em;background-color: #f0f8ff;}#sk-container-id-1 input.sk-toggleable__control:checked~div.sk-toggleable__content {max-height: 200px;max-width: 100%;overflow: auto;}#sk-container-id-1 input.sk-toggleable__control:checked~label.sk-toggleable__label-arrow:before {content: \"▾\";}#sk-container-id-1 div.sk-estimator input.sk-toggleable__control:checked~label.sk-toggleable__label {background-color: #d4ebff;}#sk-container-id-1 div.sk-label input.sk-toggleable__control:checked~label.sk-toggleable__label {background-color: #d4ebff;}#sk-container-id-1 input.sk-hidden--visually {border: 0;clip: rect(1px 1px 1px 1px);clip: rect(1px, 1px, 1px, 1px);height: 1px;margin: -1px;overflow: hidden;padding: 0;position: absolute;width: 1px;}#sk-container-id-1 div.sk-estimator {font-family: monospace;background-color: #f0f8ff;border: 1px dotted black;border-radius: 0.25em;box-sizing: border-box;margin-bottom: 0.5em;}#sk-container-id-1 div.sk-estimator:hover {background-color: #d4ebff;}#sk-container-id-1 div.sk-parallel-item::after {content: \"\";width: 100%;border-bottom: 1px solid gray;flex-grow: 1;}#sk-container-id-1 div.sk-label:hover label.sk-toggleable__label {background-color: #d4ebff;}#sk-container-id-1 div.sk-serial::before {content: \"\";position: absolute;border-left: 1px solid gray;box-sizing: border-box;top: 0;bottom: 0;left: 50%;z-index: 0;}#sk-container-id-1 div.sk-serial {display: flex;flex-direction: column;align-items: center;background-color: white;padding-right: 0.2em;padding-left: 0.2em;position: relative;}#sk-container-id-1 div.sk-item {position: relative;z-index: 1;}#sk-container-id-1 div.sk-parallel {display: flex;align-items: stretch;justify-content: center;background-color: white;position: relative;}#sk-container-id-1 div.sk-item::before, #sk-container-id-1 div.sk-parallel-item::before {content: \"\";position: absolute;border-left: 1px solid gray;box-sizing: border-box;top: 0;bottom: 0;left: 50%;z-index: -1;}#sk-container-id-1 div.sk-parallel-item {display: flex;flex-direction: column;z-index: 1;position: relative;background-color: white;}#sk-container-id-1 div.sk-parallel-item:first-child::after {align-self: flex-end;width: 50%;}#sk-container-id-1 div.sk-parallel-item:last-child::after {align-self: flex-start;width: 50%;}#sk-container-id-1 div.sk-parallel-item:only-child::after {width: 0;}#sk-container-id-1 div.sk-dashed-wrapped {border: 1px dashed gray;margin: 0 0.4em 0.5em 0.4em;box-sizing: border-box;padding-bottom: 0.4em;background-color: white;}#sk-container-id-1 div.sk-label label {font-family: monospace;font-weight: bold;display: inline-block;line-height: 1.2em;}#sk-container-id-1 div.sk-label-container {text-align: center;}#sk-container-id-1 div.sk-container {/* jupyter's `normalize.less` sets `[hidden] { display: none; }` but bootstrap.min.css set `[hidden] { display: none !important; }` so we also need the `!important` here to be able to override the default hidden behavior on the sphinx rendered scikit-learn.org. See: https://github.com/scikit-learn/scikit-learn/issues/21755 */display: inline-block !important;position: relative;}#sk-container-id-1 div.sk-text-repr-fallback {display: none;}</style><div id=\"sk-container-id-1\" class=\"sk-top-container\"><div class=\"sk-text-repr-fallback\"><pre>GridSearchCV(cv=StratifiedKFold(n_splits=5, random_state=23, shuffle=True),\n",
       "             estimator=Pipeline(steps=[(&#x27;Scaler&#x27;, StandardScaler()),\n",
       "                                       (&#x27;PCA&#x27;, PCA()),\n",
       "                                       (&#x27;SVC&#x27;, SVC(kernel=&#x27;linear&#x27;))]),\n",
       "             param_grid={&#x27;PCA__n_components&#x27;: [2, 3, 4, 5]}, verbose=3)</pre><b>In a Jupyter environment, please rerun this cell to show the HTML representation or trust the notebook. <br />On GitHub, the HTML representation is unable to render, please try loading this page with nbviewer.org.</b></div><div class=\"sk-container\" hidden><div class=\"sk-item sk-dashed-wrapped\"><div class=\"sk-label-container\"><div class=\"sk-label sk-toggleable\"><input class=\"sk-toggleable__control sk-hidden--visually\" id=\"sk-estimator-id-1\" type=\"checkbox\" ><label for=\"sk-estimator-id-1\" class=\"sk-toggleable__label sk-toggleable__label-arrow\">GridSearchCV</label><div class=\"sk-toggleable__content\"><pre>GridSearchCV(cv=StratifiedKFold(n_splits=5, random_state=23, shuffle=True),\n",
       "             estimator=Pipeline(steps=[(&#x27;Scaler&#x27;, StandardScaler()),\n",
       "                                       (&#x27;PCA&#x27;, PCA()),\n",
       "                                       (&#x27;SVC&#x27;, SVC(kernel=&#x27;linear&#x27;))]),\n",
       "             param_grid={&#x27;PCA__n_components&#x27;: [2, 3, 4, 5]}, verbose=3)</pre></div></div></div><div class=\"sk-parallel\"><div class=\"sk-parallel-item\"><div class=\"sk-item\"><div class=\"sk-label-container\"><div class=\"sk-label sk-toggleable\"><input class=\"sk-toggleable__control sk-hidden--visually\" id=\"sk-estimator-id-2\" type=\"checkbox\" ><label for=\"sk-estimator-id-2\" class=\"sk-toggleable__label sk-toggleable__label-arrow\">estimator: Pipeline</label><div class=\"sk-toggleable__content\"><pre>Pipeline(steps=[(&#x27;Scaler&#x27;, StandardScaler()), (&#x27;PCA&#x27;, PCA()),\n",
       "                (&#x27;SVC&#x27;, SVC(kernel=&#x27;linear&#x27;))])</pre></div></div></div><div class=\"sk-serial\"><div class=\"sk-item\"><div class=\"sk-serial\"><div class=\"sk-item\"><div class=\"sk-estimator sk-toggleable\"><input class=\"sk-toggleable__control sk-hidden--visually\" id=\"sk-estimator-id-3\" type=\"checkbox\" ><label for=\"sk-estimator-id-3\" class=\"sk-toggleable__label sk-toggleable__label-arrow\">StandardScaler</label><div class=\"sk-toggleable__content\"><pre>StandardScaler()</pre></div></div></div><div class=\"sk-item\"><div class=\"sk-estimator sk-toggleable\"><input class=\"sk-toggleable__control sk-hidden--visually\" id=\"sk-estimator-id-4\" type=\"checkbox\" ><label for=\"sk-estimator-id-4\" class=\"sk-toggleable__label sk-toggleable__label-arrow\">PCA</label><div class=\"sk-toggleable__content\"><pre>PCA()</pre></div></div></div><div class=\"sk-item\"><div class=\"sk-estimator sk-toggleable\"><input class=\"sk-toggleable__control sk-hidden--visually\" id=\"sk-estimator-id-5\" type=\"checkbox\" ><label for=\"sk-estimator-id-5\" class=\"sk-toggleable__label sk-toggleable__label-arrow\">SVC</label><div class=\"sk-toggleable__content\"><pre>SVC(kernel=&#x27;linear&#x27;)</pre></div></div></div></div></div></div></div></div></div></div></div></div>"
      ],
      "text/plain": [
       "GridSearchCV(cv=StratifiedKFold(n_splits=5, random_state=23, shuffle=True),\n",
       "             estimator=Pipeline(steps=[('Scaler', StandardScaler()),\n",
       "                                       ('PCA', PCA()),\n",
       "                                       ('SVC', SVC(kernel='linear'))]),\n",
       "             param_grid={'PCA__n_components': [2, 3, 4, 5]}, verbose=3)"
      ]
     },
     "execution_count": 17,
     "metadata": {},
     "output_type": "execute_result"
    }
   ],
   "source": [
    "gcv.fit(X,y)"
   ]
  },
  {
   "cell_type": "code",
   "execution_count": 18,
   "id": "cb569dd5",
   "metadata": {},
   "outputs": [
    {
     "data": {
      "text/plain": [
       "{'PCA__n_components': 2}"
      ]
     },
     "execution_count": 18,
     "metadata": {},
     "output_type": "execute_result"
    }
   ],
   "source": [
    "gcv.best_params_"
   ]
  },
  {
   "cell_type": "code",
   "execution_count": 19,
   "id": "7e0963c0",
   "metadata": {},
   "outputs": [
    {
     "data": {
      "text/plain": [
       "0.7621207069023007"
      ]
     },
     "execution_count": 19,
     "metadata": {},
     "output_type": "execute_result"
    }
   ],
   "source": [
    "gcv.best_score_"
   ]
  },
  {
   "cell_type": "code",
   "execution_count": null,
   "id": "64c13407",
   "metadata": {},
   "outputs": [],
   "source": []
  }
 ],
 "metadata": {
  "kernelspec": {
   "display_name": "Python 3 (ipykernel)",
   "language": "python",
   "name": "python3"
  },
  "language_info": {
   "codemirror_mode": {
    "name": "ipython",
    "version": 3
   },
   "file_extension": ".py",
   "mimetype": "text/x-python",
   "name": "python",
   "nbconvert_exporter": "python",
   "pygments_lexer": "ipython3",
   "version": "3.11.5"
  }
 },
 "nbformat": 4,
 "nbformat_minor": 5
}
