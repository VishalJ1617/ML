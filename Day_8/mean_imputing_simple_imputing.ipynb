{
 "cells": [
  {
   "cell_type": "code",
   "execution_count": 14,
   "id": "f4f777b6",
   "metadata": {},
   "outputs": [],
   "source": [
    "import pandas as pd\n",
    "from sklearn.impute import SimpleImputer"
   ]
  },
  {
   "cell_type": "code",
   "execution_count": 15,
   "id": "c55cc529",
   "metadata": {},
   "outputs": [],
   "source": [
    "chem=pd.read_csv('ChemicalProcess.csv')"
   ]
  },
  {
   "cell_type": "code",
   "execution_count": 16,
   "id": "5074b347",
   "metadata": {},
   "outputs": [
    {
     "data": {
      "text/plain": [
       "Yield                      0\n",
       "BiologicalMaterial01       0\n",
       "BiologicalMaterial02       0\n",
       "BiologicalMaterial03       0\n",
       "BiologicalMaterial04       0\n",
       "BiologicalMaterial05       0\n",
       "BiologicalMaterial06       0\n",
       "BiologicalMaterial07       0\n",
       "BiologicalMaterial08       0\n",
       "BiologicalMaterial09       0\n",
       "BiologicalMaterial10       0\n",
       "BiologicalMaterial11       0\n",
       "BiologicalMaterial12       0\n",
       "ManufacturingProcess01     1\n",
       "ManufacturingProcess02     3\n",
       "ManufacturingProcess03    15\n",
       "ManufacturingProcess04     1\n",
       "ManufacturingProcess05     1\n",
       "ManufacturingProcess06     2\n",
       "ManufacturingProcess07     1\n",
       "ManufacturingProcess08     1\n",
       "ManufacturingProcess09     0\n",
       "ManufacturingProcess10     9\n",
       "ManufacturingProcess11    10\n",
       "ManufacturingProcess12     1\n",
       "ManufacturingProcess13     0\n",
       "ManufacturingProcess14     1\n",
       "ManufacturingProcess15     0\n",
       "ManufacturingProcess16     0\n",
       "ManufacturingProcess17     0\n",
       "ManufacturingProcess18     0\n",
       "ManufacturingProcess19     0\n",
       "ManufacturingProcess20     0\n",
       "ManufacturingProcess21     0\n",
       "ManufacturingProcess22     1\n",
       "ManufacturingProcess23     1\n",
       "ManufacturingProcess24     1\n",
       "ManufacturingProcess25     5\n",
       "ManufacturingProcess26     5\n",
       "ManufacturingProcess27     5\n",
       "ManufacturingProcess28     5\n",
       "ManufacturingProcess29     5\n",
       "ManufacturingProcess30     5\n",
       "ManufacturingProcess31     5\n",
       "ManufacturingProcess32     0\n",
       "ManufacturingProcess33     5\n",
       "ManufacturingProcess34     5\n",
       "ManufacturingProcess35     5\n",
       "ManufacturingProcess36     5\n",
       "ManufacturingProcess37     0\n",
       "ManufacturingProcess38     0\n",
       "ManufacturingProcess39     0\n",
       "ManufacturingProcess40     1\n",
       "ManufacturingProcess41     1\n",
       "ManufacturingProcess42     0\n",
       "ManufacturingProcess43     0\n",
       "ManufacturingProcess44     0\n",
       "ManufacturingProcess45     0\n",
       "dtype: int64"
      ]
     },
     "execution_count": 16,
     "metadata": {},
     "output_type": "execute_result"
    }
   ],
   "source": [
    "chem.isnull().sum()"
   ]
  },
  {
   "cell_type": "code",
   "execution_count": 17,
   "id": "a117b969",
   "metadata": {},
   "outputs": [],
   "source": [
    "si=SimpleImputer()\n",
    "imputed=si.fit_transform(chem)"
   ]
  },
  {
   "cell_type": "code",
   "execution_count": 20,
   "id": "37e8d120",
   "metadata": {},
   "outputs": [],
   "source": [
    "pd_imp=pd.DataFrame(imputed,columns=chem.columns)"
   ]
  },
  {
   "cell_type": "code",
   "execution_count": 21,
   "id": "30cc0b07",
   "metadata": {},
   "outputs": [
    {
     "data": {
      "text/plain": [
       "Yield                     0\n",
       "BiologicalMaterial01      0\n",
       "BiologicalMaterial02      0\n",
       "BiologicalMaterial03      0\n",
       "BiologicalMaterial04      0\n",
       "BiologicalMaterial05      0\n",
       "BiologicalMaterial06      0\n",
       "BiologicalMaterial07      0\n",
       "BiologicalMaterial08      0\n",
       "BiologicalMaterial09      0\n",
       "BiologicalMaterial10      0\n",
       "BiologicalMaterial11      0\n",
       "BiologicalMaterial12      0\n",
       "ManufacturingProcess01    0\n",
       "ManufacturingProcess02    0\n",
       "ManufacturingProcess03    0\n",
       "ManufacturingProcess04    0\n",
       "ManufacturingProcess05    0\n",
       "ManufacturingProcess06    0\n",
       "ManufacturingProcess07    0\n",
       "ManufacturingProcess08    0\n",
       "ManufacturingProcess09    0\n",
       "ManufacturingProcess10    0\n",
       "ManufacturingProcess11    0\n",
       "ManufacturingProcess12    0\n",
       "ManufacturingProcess13    0\n",
       "ManufacturingProcess14    0\n",
       "ManufacturingProcess15    0\n",
       "ManufacturingProcess16    0\n",
       "ManufacturingProcess17    0\n",
       "ManufacturingProcess18    0\n",
       "ManufacturingProcess19    0\n",
       "ManufacturingProcess20    0\n",
       "ManufacturingProcess21    0\n",
       "ManufacturingProcess22    0\n",
       "ManufacturingProcess23    0\n",
       "ManufacturingProcess24    0\n",
       "ManufacturingProcess25    0\n",
       "ManufacturingProcess26    0\n",
       "ManufacturingProcess27    0\n",
       "ManufacturingProcess28    0\n",
       "ManufacturingProcess29    0\n",
       "ManufacturingProcess30    0\n",
       "ManufacturingProcess31    0\n",
       "ManufacturingProcess32    0\n",
       "ManufacturingProcess33    0\n",
       "ManufacturingProcess34    0\n",
       "ManufacturingProcess35    0\n",
       "ManufacturingProcess36    0\n",
       "ManufacturingProcess37    0\n",
       "ManufacturingProcess38    0\n",
       "ManufacturingProcess39    0\n",
       "ManufacturingProcess40    0\n",
       "ManufacturingProcess41    0\n",
       "ManufacturingProcess42    0\n",
       "ManufacturingProcess43    0\n",
       "ManufacturingProcess44    0\n",
       "ManufacturingProcess45    0\n",
       "dtype: int64"
      ]
     },
     "execution_count": 21,
     "metadata": {},
     "output_type": "execute_result"
    }
   ],
   "source": [
    "pd_imp.isnull().sum()"
   ]
  },
  {
   "cell_type": "code",
   "execution_count": null,
   "id": "fed425d6",
   "metadata": {},
   "outputs": [],
   "source": []
  }
 ],
 "metadata": {
  "kernelspec": {
   "display_name": "Python 3 (ipykernel)",
   "language": "python",
   "name": "python3"
  },
  "language_info": {
   "codemirror_mode": {
    "name": "ipython",
    "version": 3
   },
   "file_extension": ".py",
   "mimetype": "text/x-python",
   "name": "python",
   "nbconvert_exporter": "python",
   "pygments_lexer": "ipython3",
   "version": "3.11.5"
  }
 },
 "nbformat": 4,
 "nbformat_minor": 5
}
