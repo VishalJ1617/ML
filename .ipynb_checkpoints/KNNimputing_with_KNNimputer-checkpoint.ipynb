{
 "cells": [
  {
   "cell_type": "code",
   "execution_count": 1,
   "id": "58b41d4f",
   "metadata": {},
   "outputs": [],
   "source": [
    "import pandas as pd\n",
    "import numpy as np\n",
    "from sklearn.impute import KNNImputer"
   ]
  },
  {
   "cell_type": "code",
   "execution_count": 2,
   "id": "bd259df7",
   "metadata": {},
   "outputs": [],
   "source": [
    "X=np.array([[1,2,np.nan],\n",
    "           [8,6.3,5.6],\n",
    "           [1.2,2.3,4],\n",
    "           [1.25,2.35,5],\n",
    "           [1.2,2.4,3],\n",
    "           [np.nan,6,5],\n",
    "            [10,6.43,5.61]\n",
    "           ])"
   ]
  },
  {
   "cell_type": "markdown",
   "id": "bff0d95d",
   "metadata": {},
   "source": [
    "## KNNimputer with n_neighbours=1"
   ]
  },
  {
   "cell_type": "code",
   "execution_count": 3,
   "id": "3896bd0b",
   "metadata": {},
   "outputs": [],
   "source": [
    "imputer=KNNImputer(n_neighbors=1)"
   ]
  },
  {
   "cell_type": "code",
   "execution_count": 4,
   "id": "66b3c047",
   "metadata": {},
   "outputs": [
    {
     "data": {
      "text/plain": [
       "array([[ 1.  ,  2.  ,  4.  ],\n",
       "       [ 8.  ,  6.3 ,  5.6 ],\n",
       "       [ 1.2 ,  2.3 ,  4.  ],\n",
       "       [ 1.25,  2.35,  5.  ],\n",
       "       [ 1.2 ,  2.4 ,  3.  ],\n",
       "       [ 8.  ,  6.  ,  5.  ],\n",
       "       [10.  ,  6.43,  5.61]])"
      ]
     },
     "execution_count": 4,
     "metadata": {},
     "output_type": "execute_result"
    }
   ],
   "source": [
    "imputer.fit_transform(X)"
   ]
  },
  {
   "cell_type": "markdown",
   "id": "b645ffc7",
   "metadata": {},
   "source": [
    "## KNNimputer with n_neighbours=2"
   ]
  },
  {
   "cell_type": "code",
   "execution_count": 5,
   "id": "7a3bf832",
   "metadata": {},
   "outputs": [],
   "source": [
    "imputer=KNNImputer(n_neighbors=2)"
   ]
  },
  {
   "cell_type": "code",
   "execution_count": 6,
   "id": "db999099",
   "metadata": {},
   "outputs": [
    {
     "data": {
      "text/plain": [
       "array([[ 1.  ,  2.  ,  4.5 ],\n",
       "       [ 8.  ,  6.3 ,  5.6 ],\n",
       "       [ 1.2 ,  2.3 ,  4.  ],\n",
       "       [ 1.25,  2.35,  5.  ],\n",
       "       [ 1.2 ,  2.4 ,  3.  ],\n",
       "       [ 9.  ,  6.  ,  5.  ],\n",
       "       [10.  ,  6.43,  5.61]])"
      ]
     },
     "execution_count": 6,
     "metadata": {},
     "output_type": "execute_result"
    }
   ],
   "source": [
    "imputer.fit_transform(X)"
   ]
  }
 ],
 "metadata": {
  "kernelspec": {
   "display_name": "Python 3 (ipykernel)",
   "language": "python",
   "name": "python3"
  },
  "language_info": {
   "codemirror_mode": {
    "name": "ipython",
    "version": 3
   },
   "file_extension": ".py",
   "mimetype": "text/x-python",
   "name": "python",
   "nbconvert_exporter": "python",
   "pygments_lexer": "ipython3",
   "version": "3.11.5"
  }
 },
 "nbformat": 4,
 "nbformat_minor": 5
}
