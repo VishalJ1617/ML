{
 "cells": [
  {
   "cell_type": "code",
   "execution_count": 1,
   "id": "48f0a707",
   "metadata": {},
   "outputs": [],
   "source": [
    "import os\n",
    "import pandas as pd\n",
    "import matplotlib.pyplot as plt\n",
    "from sktime.utils.plotting import plot_series\n",
    "from sktime.forecasting.model_selection import temporal_train_test_split\n",
    "from sktime.forecasting.ets import AutoETS\n",
    "from sktime.forecasting.base import ForecastingHorizon\n",
    "from sktime.performance_metrics.forecasting import mean_squared_error\n",
    "from sktime.forecasting.exp_smoothing import ExponentialSmoothing\n",
    "import warnings\n",
    "warnings.filterwarnings(\"ignore\")"
   ]
  },
  {
   "cell_type": "code",
   "execution_count": 2,
   "id": "347f8935",
   "metadata": {},
   "outputs": [],
   "source": [
    "train_df=pd.read_csv('Train_SU63ISt.csv',index_col=1)"
   ]
  },
  {
   "cell_type": "code",
   "execution_count": 3,
   "id": "dab1ec9b",
   "metadata": {},
   "outputs": [
    {
     "data": {
      "text/html": [
       "<div>\n",
       "<style scoped>\n",
       "    .dataframe tbody tr th:only-of-type {\n",
       "        vertical-align: middle;\n",
       "    }\n",
       "\n",
       "    .dataframe tbody tr th {\n",
       "        vertical-align: top;\n",
       "    }\n",
       "\n",
       "    .dataframe thead th {\n",
       "        text-align: right;\n",
       "    }\n",
       "</style>\n",
       "<table border=\"1\" class=\"dataframe\">\n",
       "  <thead>\n",
       "    <tr style=\"text-align: right;\">\n",
       "      <th></th>\n",
       "      <th>ID</th>\n",
       "      <th>Count</th>\n",
       "    </tr>\n",
       "    <tr>\n",
       "      <th>Datetime</th>\n",
       "      <th></th>\n",
       "      <th></th>\n",
       "    </tr>\n",
       "  </thead>\n",
       "  <tbody>\n",
       "    <tr>\n",
       "      <th>25-08-2012 00:00</th>\n",
       "      <td>0</td>\n",
       "      <td>8</td>\n",
       "    </tr>\n",
       "    <tr>\n",
       "      <th>25-08-2012 01:00</th>\n",
       "      <td>1</td>\n",
       "      <td>2</td>\n",
       "    </tr>\n",
       "    <tr>\n",
       "      <th>25-08-2012 02:00</th>\n",
       "      <td>2</td>\n",
       "      <td>6</td>\n",
       "    </tr>\n",
       "    <tr>\n",
       "      <th>25-08-2012 03:00</th>\n",
       "      <td>3</td>\n",
       "      <td>2</td>\n",
       "    </tr>\n",
       "    <tr>\n",
       "      <th>25-08-2012 04:00</th>\n",
       "      <td>4</td>\n",
       "      <td>2</td>\n",
       "    </tr>\n",
       "    <tr>\n",
       "      <th>...</th>\n",
       "      <td>...</td>\n",
       "      <td>...</td>\n",
       "    </tr>\n",
       "    <tr>\n",
       "      <th>25-09-2014 19:00</th>\n",
       "      <td>18283</td>\n",
       "      <td>868</td>\n",
       "    </tr>\n",
       "    <tr>\n",
       "      <th>25-09-2014 20:00</th>\n",
       "      <td>18284</td>\n",
       "      <td>732</td>\n",
       "    </tr>\n",
       "    <tr>\n",
       "      <th>25-09-2014 21:00</th>\n",
       "      <td>18285</td>\n",
       "      <td>702</td>\n",
       "    </tr>\n",
       "    <tr>\n",
       "      <th>25-09-2014 22:00</th>\n",
       "      <td>18286</td>\n",
       "      <td>580</td>\n",
       "    </tr>\n",
       "    <tr>\n",
       "      <th>25-09-2014 23:00</th>\n",
       "      <td>18287</td>\n",
       "      <td>534</td>\n",
       "    </tr>\n",
       "  </tbody>\n",
       "</table>\n",
       "<p>18288 rows × 2 columns</p>\n",
       "</div>"
      ],
      "text/plain": [
       "                     ID  Count\n",
       "Datetime                      \n",
       "25-08-2012 00:00      0      8\n",
       "25-08-2012 01:00      1      2\n",
       "25-08-2012 02:00      2      6\n",
       "25-08-2012 03:00      3      2\n",
       "25-08-2012 04:00      4      2\n",
       "...                 ...    ...\n",
       "25-09-2014 19:00  18283    868\n",
       "25-09-2014 20:00  18284    732\n",
       "25-09-2014 21:00  18285    702\n",
       "25-09-2014 22:00  18286    580\n",
       "25-09-2014 23:00  18287    534\n",
       "\n",
       "[18288 rows x 2 columns]"
      ]
     },
     "execution_count": 3,
     "metadata": {},
     "output_type": "execute_result"
    }
   ],
   "source": [
    "train_df"
   ]
  },
  {
   "cell_type": "code",
   "execution_count": 4,
   "id": "1ac85c85",
   "metadata": {},
   "outputs": [],
   "source": [
    "idx=pd.to_datetime(train_df.index).to_period(\"H\")\n",
    "train_df.index=idx"
   ]
  },
  {
   "cell_type": "code",
   "execution_count": 5,
   "id": "c77de710",
   "metadata": {},
   "outputs": [
    {
     "data": {
      "text/html": [
       "<div>\n",
       "<style scoped>\n",
       "    .dataframe tbody tr th:only-of-type {\n",
       "        vertical-align: middle;\n",
       "    }\n",
       "\n",
       "    .dataframe tbody tr th {\n",
       "        vertical-align: top;\n",
       "    }\n",
       "\n",
       "    .dataframe thead th {\n",
       "        text-align: right;\n",
       "    }\n",
       "</style>\n",
       "<table border=\"1\" class=\"dataframe\">\n",
       "  <thead>\n",
       "    <tr style=\"text-align: right;\">\n",
       "      <th></th>\n",
       "      <th>ID</th>\n",
       "      <th>Count</th>\n",
       "    </tr>\n",
       "    <tr>\n",
       "      <th>Datetime</th>\n",
       "      <th></th>\n",
       "      <th></th>\n",
       "    </tr>\n",
       "  </thead>\n",
       "  <tbody>\n",
       "    <tr>\n",
       "      <th>2012-08-25 00:00</th>\n",
       "      <td>0</td>\n",
       "      <td>8</td>\n",
       "    </tr>\n",
       "    <tr>\n",
       "      <th>2012-08-25 01:00</th>\n",
       "      <td>1</td>\n",
       "      <td>2</td>\n",
       "    </tr>\n",
       "    <tr>\n",
       "      <th>2012-08-25 02:00</th>\n",
       "      <td>2</td>\n",
       "      <td>6</td>\n",
       "    </tr>\n",
       "    <tr>\n",
       "      <th>2012-08-25 03:00</th>\n",
       "      <td>3</td>\n",
       "      <td>2</td>\n",
       "    </tr>\n",
       "    <tr>\n",
       "      <th>2012-08-25 04:00</th>\n",
       "      <td>4</td>\n",
       "      <td>2</td>\n",
       "    </tr>\n",
       "    <tr>\n",
       "      <th>...</th>\n",
       "      <td>...</td>\n",
       "      <td>...</td>\n",
       "    </tr>\n",
       "    <tr>\n",
       "      <th>2014-09-25 19:00</th>\n",
       "      <td>18283</td>\n",
       "      <td>868</td>\n",
       "    </tr>\n",
       "    <tr>\n",
       "      <th>2014-09-25 20:00</th>\n",
       "      <td>18284</td>\n",
       "      <td>732</td>\n",
       "    </tr>\n",
       "    <tr>\n",
       "      <th>2014-09-25 21:00</th>\n",
       "      <td>18285</td>\n",
       "      <td>702</td>\n",
       "    </tr>\n",
       "    <tr>\n",
       "      <th>2014-09-25 22:00</th>\n",
       "      <td>18286</td>\n",
       "      <td>580</td>\n",
       "    </tr>\n",
       "    <tr>\n",
       "      <th>2014-09-25 23:00</th>\n",
       "      <td>18287</td>\n",
       "      <td>534</td>\n",
       "    </tr>\n",
       "  </tbody>\n",
       "</table>\n",
       "<p>18288 rows × 2 columns</p>\n",
       "</div>"
      ],
      "text/plain": [
       "                     ID  Count\n",
       "Datetime                      \n",
       "2012-08-25 00:00      0      8\n",
       "2012-08-25 01:00      1      2\n",
       "2012-08-25 02:00      2      6\n",
       "2012-08-25 03:00      3      2\n",
       "2012-08-25 04:00      4      2\n",
       "...                 ...    ...\n",
       "2014-09-25 19:00  18283    868\n",
       "2014-09-25 20:00  18284    732\n",
       "2014-09-25 21:00  18285    702\n",
       "2014-09-25 22:00  18286    580\n",
       "2014-09-25 23:00  18287    534\n",
       "\n",
       "[18288 rows x 2 columns]"
      ]
     },
     "execution_count": 5,
     "metadata": {},
     "output_type": "execute_result"
    }
   ],
   "source": [
    "train_df"
   ]
  },
  {
   "cell_type": "code",
   "execution_count": 6,
   "id": "98481f7f",
   "metadata": {},
   "outputs": [],
   "source": [
    "y_train=train_df['Count']"
   ]
  },
  {
   "cell_type": "code",
   "execution_count": 7,
   "id": "c48e92fb",
   "metadata": {},
   "outputs": [
    {
     "data": {
      "text/plain": [
       "pandas.core.series.Series"
      ]
     },
     "execution_count": 7,
     "metadata": {},
     "output_type": "execute_result"
    }
   ],
   "source": [
    "type(y_train)"
   ]
  },
  {
   "cell_type": "code",
   "execution_count": 8,
   "id": "2105c6b4",
   "metadata": {},
   "outputs": [
    {
     "data": {
      "text/plain": [
       "PeriodIndex(['2012-08-25 00:00', '2012-08-25 01:00', '2012-08-25 02:00',\n",
       "             '2012-08-25 03:00', '2012-08-25 04:00', '2012-08-25 05:00',\n",
       "             '2012-08-25 06:00', '2012-08-25 07:00', '2012-08-25 08:00',\n",
       "             '2012-08-25 09:00',\n",
       "             ...\n",
       "             '2014-09-25 14:00', '2014-09-25 15:00', '2014-09-25 16:00',\n",
       "             '2014-09-25 17:00', '2014-09-25 18:00', '2014-09-25 19:00',\n",
       "             '2014-09-25 20:00', '2014-09-25 21:00', '2014-09-25 22:00',\n",
       "             '2014-09-25 23:00'],\n",
       "            dtype='period[H]', name='Datetime', length=18288)"
      ]
     },
     "execution_count": 8,
     "metadata": {},
     "output_type": "execute_result"
    }
   ],
   "source": [
    "y_train.index"
   ]
  },
  {
   "cell_type": "code",
   "execution_count": 9,
   "id": "b1b29218",
   "metadata": {},
   "outputs": [
    {
     "data": {
      "text/plain": [
       "Datetime\n",
       "2012-08-25 00:00      8\n",
       "2012-08-25 01:00      2\n",
       "2012-08-25 02:00      6\n",
       "2012-08-25 03:00      2\n",
       "2012-08-25 04:00      2\n",
       "                   ... \n",
       "2014-09-25 19:00    868\n",
       "2014-09-25 20:00    732\n",
       "2014-09-25 21:00    702\n",
       "2014-09-25 22:00    580\n",
       "2014-09-25 23:00    534\n",
       "Freq: H, Name: Count, Length: 18288, dtype: int64"
      ]
     },
     "execution_count": 9,
     "metadata": {},
     "output_type": "execute_result"
    }
   ],
   "source": [
    "y_train"
   ]
  },
  {
   "cell_type": "code",
   "execution_count": 10,
   "id": "4cbeef53",
   "metadata": {},
   "outputs": [
    {
     "name": "stdout",
     "output_type": "stream",
     "text": [
      "                                 ETS Results                                  \n",
      "==============================================================================\n",
      "Dep. Variable:                  Count   No. Observations:                18288\n",
      "Model:                       ETS(MAM)   Log Likelihood              -82915.149\n",
      "Date:                Thu, 16 Nov 2023   AIC                         165890.297\n",
      "Time:                        19:43:55   BIC                         166124.717\n",
      "Sample:                    08-25-2012   HQIC                        165967.326\n",
      "                         - 09-25-2014   Scale                            0.107\n",
      "Covariance Type:               approx                                         \n",
      "=======================================================================================\n",
      "                          coef    std err          z      P>|z|      [0.025      0.975]\n",
      "---------------------------------------------------------------------------------------\n",
      "smoothing_level         0.3354      0.004     75.730      0.000       0.327       0.344\n",
      "smoothing_trend      3.354e-05   1.85e-05      1.809      0.070   -2.79e-06    6.99e-05\n",
      "smoothing_seasonal      0.0139      0.001     14.979      0.000       0.012       0.016\n",
      "initial_level           3.1542        nan        nan        nan         nan         nan\n",
      "initial_trend           0.7184        nan        nan        nan         nan         nan\n",
      "initial_seasonal.0      0.8895        nan        nan        nan         nan         nan\n",
      "initial_seasonal.1      1.0642        nan        nan        nan         nan         nan\n",
      "initial_seasonal.2      1.0317        nan        nan        nan         nan         nan\n",
      "initial_seasonal.3      1.0685        nan        nan        nan         nan         nan\n",
      "initial_seasonal.4      1.0154        nan        nan        nan         nan         nan\n",
      "initial_seasonal.5      1.0614        nan        nan        nan         nan         nan\n",
      "initial_seasonal.6      1.0159        nan        nan        nan         nan         nan\n",
      "initial_seasonal.7      1.0062        nan        nan        nan         nan         nan\n",
      "initial_seasonal.8      0.8652        nan        nan        nan         nan         nan\n",
      "initial_seasonal.9      0.7493        nan        nan        nan         nan         nan\n",
      "initial_seasonal.10     0.7927        nan        nan        nan         nan         nan\n",
      "initial_seasonal.11     0.8165        nan        nan        nan         nan         nan\n",
      "initial_seasonal.12     0.8361        nan        nan        nan         nan         nan\n",
      "initial_seasonal.13     1.0490        nan        nan        nan         nan         nan\n",
      "initial_seasonal.14     0.7056        nan        nan        nan         nan         nan\n",
      "initial_seasonal.15     0.6200        nan        nan        nan         nan         nan\n",
      "initial_seasonal.16     0.5768        nan        nan        nan         nan         nan\n",
      "initial_seasonal.17     0.5459        nan        nan        nan         nan         nan\n",
      "initial_seasonal.18     0.4465        nan        nan        nan         nan         nan\n",
      "initial_seasonal.19     0.5621        nan        nan        nan         nan         nan\n",
      "initial_seasonal.20     0.5453        nan        nan        nan         nan         nan\n",
      "initial_seasonal.21     0.9692        nan        nan        nan         nan         nan\n",
      "initial_seasonal.22     1.7332        nan        nan        nan         nan         nan\n",
      "initial_seasonal.23     1.0000        nan        nan        nan         nan         nan\n",
      "===================================================================================\n",
      "Ljung-Box (Q):                     1349.77   Jarque-Bera (JB):            363724.93\n",
      "Prob(Q):                              0.00   Prob(JB):                         0.00\n",
      "Heteroskedasticity (H):               0.16   Skew:                             2.26\n",
      "Prob(H) (two-sided):                  0.00   Kurtosis:                        24.38\n",
      "===================================================================================\n",
      "\n",
      "Warnings:\n",
      "[1] Covariance matrix calculated using numerical (complex-step) differentiation.\n"
     ]
    }
   ],
   "source": [
    "forecaster=AutoETS(auto=True,sp=24)\n",
    "forecaster.fit(y_train)\n",
    "print(forecaster.summary())"
   ]
  },
  {
   "cell_type": "code",
   "execution_count": 11,
   "id": "ebd3a243",
   "metadata": {},
   "outputs": [],
   "source": [
    "y_test=pd.read_csv('Test_0qrQsBZ.csv',index_col=1)"
   ]
  },
  {
   "cell_type": "code",
   "execution_count": 12,
   "id": "11f96141",
   "metadata": {},
   "outputs": [],
   "source": [
    "idx=pd.to_datetime(y_test.index).to_period(\"H\")\n",
    "y_test.index=idx"
   ]
  },
  {
   "cell_type": "code",
   "execution_count": 13,
   "id": "423497b6",
   "metadata": {},
   "outputs": [
    {
     "data": {
      "text/plain": [
       "ForecastingHorizon(['2014-09-26 00:00', '2014-09-26 01:00', '2014-09-26 02:00',\n",
       "             '2014-09-26 03:00', '2014-09-26 04:00', '2014-09-26 05:00',\n",
       "             '2014-09-26 06:00', '2014-09-26 07:00', '2014-09-26 08:00',\n",
       "             '2014-09-26 09:00',\n",
       "             ...\n",
       "             '2015-04-26 14:00', '2015-04-26 15:00', '2015-04-26 16:00',\n",
       "             '2015-04-26 17:00', '2015-04-26 18:00', '2015-04-26 19:00',\n",
       "             '2015-04-26 20:00', '2015-04-26 21:00', '2015-04-26 22:00',\n",
       "             '2015-04-26 23:00'],\n",
       "            dtype='period[H]', name='Datetime', length=5112, is_relative=False)"
      ]
     },
     "execution_count": 13,
     "metadata": {},
     "output_type": "execute_result"
    }
   ],
   "source": [
    "fh=ForecastingHorizon(y_test.index,is_relative=False)\n",
    "fh"
   ]
  },
  {
   "cell_type": "code",
   "execution_count": 14,
   "id": "44d2072f",
   "metadata": {},
   "outputs": [
    {
     "data": {
      "text/html": [
       "<div>\n",
       "<style scoped>\n",
       "    .dataframe tbody tr th:only-of-type {\n",
       "        vertical-align: middle;\n",
       "    }\n",
       "\n",
       "    .dataframe tbody tr th {\n",
       "        vertical-align: top;\n",
       "    }\n",
       "\n",
       "    .dataframe thead th {\n",
       "        text-align: right;\n",
       "    }\n",
       "</style>\n",
       "<table border=\"1\" class=\"dataframe\">\n",
       "  <thead>\n",
       "    <tr style=\"text-align: right;\">\n",
       "      <th></th>\n",
       "      <th>ID</th>\n",
       "    </tr>\n",
       "    <tr>\n",
       "      <th>Datetime</th>\n",
       "      <th></th>\n",
       "    </tr>\n",
       "  </thead>\n",
       "  <tbody>\n",
       "    <tr>\n",
       "      <th>2014-09-26 00:00</th>\n",
       "      <td>18288</td>\n",
       "    </tr>\n",
       "    <tr>\n",
       "      <th>2014-09-26 01:00</th>\n",
       "      <td>18289</td>\n",
       "    </tr>\n",
       "    <tr>\n",
       "      <th>2014-09-26 02:00</th>\n",
       "      <td>18290</td>\n",
       "    </tr>\n",
       "    <tr>\n",
       "      <th>2014-09-26 03:00</th>\n",
       "      <td>18291</td>\n",
       "    </tr>\n",
       "    <tr>\n",
       "      <th>2014-09-26 04:00</th>\n",
       "      <td>18292</td>\n",
       "    </tr>\n",
       "    <tr>\n",
       "      <th>...</th>\n",
       "      <td>...</td>\n",
       "    </tr>\n",
       "    <tr>\n",
       "      <th>2015-04-26 19:00</th>\n",
       "      <td>23395</td>\n",
       "    </tr>\n",
       "    <tr>\n",
       "      <th>2015-04-26 20:00</th>\n",
       "      <td>23396</td>\n",
       "    </tr>\n",
       "    <tr>\n",
       "      <th>2015-04-26 21:00</th>\n",
       "      <td>23397</td>\n",
       "    </tr>\n",
       "    <tr>\n",
       "      <th>2015-04-26 22:00</th>\n",
       "      <td>23398</td>\n",
       "    </tr>\n",
       "    <tr>\n",
       "      <th>2015-04-26 23:00</th>\n",
       "      <td>23399</td>\n",
       "    </tr>\n",
       "  </tbody>\n",
       "</table>\n",
       "<p>5112 rows × 1 columns</p>\n",
       "</div>"
      ],
      "text/plain": [
       "                     ID\n",
       "Datetime               \n",
       "2014-09-26 00:00  18288\n",
       "2014-09-26 01:00  18289\n",
       "2014-09-26 02:00  18290\n",
       "2014-09-26 03:00  18291\n",
       "2014-09-26 04:00  18292\n",
       "...                 ...\n",
       "2015-04-26 19:00  23395\n",
       "2015-04-26 20:00  23396\n",
       "2015-04-26 21:00  23397\n",
       "2015-04-26 22:00  23398\n",
       "2015-04-26 23:00  23399\n",
       "\n",
       "[5112 rows x 1 columns]"
      ]
     },
     "execution_count": 14,
     "metadata": {},
     "output_type": "execute_result"
    }
   ],
   "source": [
    "y_test"
   ]
  },
  {
   "cell_type": "code",
   "execution_count": 15,
   "id": "f1c82421",
   "metadata": {},
   "outputs": [],
   "source": [
    "fh=ForecastingHorizon(y_test.index,is_relative=False)"
   ]
  },
  {
   "cell_type": "code",
   "execution_count": 16,
   "id": "639a22ed",
   "metadata": {},
   "outputs": [
    {
     "data": {
      "image/png": "[encoded data removed]",
      "text/plain": [
       "<Figure size 1600x400 with 1 Axes>"
      ]
     },
     "metadata": {},
     "output_type": "display_data"
    }
   ],
   "source": [
    "y_pred=forecaster.predict(fh)\n",
    "plot_series(y_train,y_test,y_pred,labels=['y_train','y_test','y_pred'])\n",
    "plt.show()"
   ]
  },
  {
   "cell_type": "code",
   "execution_count": null,
   "id": "20fe5d38",
   "metadata": {},
   "outputs": [],
   "source": []
  },
  {
   "cell_type": "code",
   "execution_count": null,
   "id": "c9d9aca3",
   "metadata": {},
   "outputs": [],
   "source": []
  },
  {
   "cell_type": "code",
   "execution_count": null,
   "id": "18f2b31d",
   "metadata": {},
   "outputs": [],
   "source": []
  },
  {
   "cell_type": "code",
   "execution_count": null,
   "id": "23a29397",
   "metadata": {},
   "outputs": [],
   "source": []
  }
 ],
 "metadata": {
  "kernelspec": {
   "display_name": "Python 3 (ipykernel)",
   "language": "python",
   "name": "python3"
  },
  "language_info": {
   "codemirror_mode": {
    "name": "ipython",
    "version": 3
   },
   "file_extension": ".py",
   "mimetype": "text/x-python",
   "name": "python",
   "nbconvert_exporter": "python",
   "pygments_lexer": "ipython3",
   "version": "3.11.5"
  }
 },
 "nbformat": 4,
 "nbformat_minor": 5
}
