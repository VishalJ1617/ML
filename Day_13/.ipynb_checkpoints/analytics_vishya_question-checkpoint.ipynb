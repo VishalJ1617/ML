{
 "cells": [
  {
   "cell_type": "code",
   "execution_count": 1,
   "id": "672cf1c8",
   "metadata": {},
   "outputs": [],
   "source": [
    "import os\n",
    "import pandas as pd\n",
    "import matplotlib.pyplot as plt\n",
    "from sktime.utils.plotting import plot_series\n",
    "from sktime.forecasting.model_selection import temporal_train_test_split\n",
    "from sktime.forecasting.ets import AutoETS\n",
    "from sktime.forecasting.base import ForecastingHorizon\n",
    "from sktime.performance_metrics.forecasting import mean_squared_error\n",
    "from sktime.forecasting.exp_smoothing import ExponentialSmoothing\n",
    "import warnings\n",
    "warnings.filterwarnings(\"ignore\")"
   ]
  },
  {
   "cell_type": "code",
   "execution_count": 6,
   "id": "0a7825cf",
   "metadata": {},
   "outputs": [],
   "source": [
    "train_df=pd.read_csv('Train_SU63ISt.csv',index_col=1)"
   ]
  },
  {
   "cell_type": "code",
   "execution_count": 7,
   "id": "19665771",
   "metadata": {},
   "outputs": [
    {
     "data": {
      "text/html": [
       "<div>\n",
       "<style scoped>\n",
       "    .dataframe tbody tr th:only-of-type {\n",
       "        vertical-align: middle;\n",
       "    }\n",
       "\n",
       "    .dataframe tbody tr th {\n",
       "        vertical-align: top;\n",
       "    }\n",
       "\n",
       "    .dataframe thead th {\n",
       "        text-align: right;\n",
       "    }\n",
       "</style>\n",
       "<table border=\"1\" class=\"dataframe\">\n",
       "  <thead>\n",
       "    <tr style=\"text-align: right;\">\n",
       "      <th></th>\n",
       "      <th>ID</th>\n",
       "      <th>Count</th>\n",
       "    </tr>\n",
       "    <tr>\n",
       "      <th>Datetime</th>\n",
       "      <th></th>\n",
       "      <th></th>\n",
       "    </tr>\n",
       "  </thead>\n",
       "  <tbody>\n",
       "    <tr>\n",
       "      <th>25-08-2012 00:00</th>\n",
       "      <td>0</td>\n",
       "      <td>8</td>\n",
       "    </tr>\n",
       "    <tr>\n",
       "      <th>25-08-2012 01:00</th>\n",
       "      <td>1</td>\n",
       "      <td>2</td>\n",
       "    </tr>\n",
       "    <tr>\n",
       "      <th>25-08-2012 02:00</th>\n",
       "      <td>2</td>\n",
       "      <td>6</td>\n",
       "    </tr>\n",
       "    <tr>\n",
       "      <th>25-08-2012 03:00</th>\n",
       "      <td>3</td>\n",
       "      <td>2</td>\n",
       "    </tr>\n",
       "    <tr>\n",
       "      <th>25-08-2012 04:00</th>\n",
       "      <td>4</td>\n",
       "      <td>2</td>\n",
       "    </tr>\n",
       "    <tr>\n",
       "      <th>...</th>\n",
       "      <td>...</td>\n",
       "      <td>...</td>\n",
       "    </tr>\n",
       "    <tr>\n",
       "      <th>25-09-2014 19:00</th>\n",
       "      <td>18283</td>\n",
       "      <td>868</td>\n",
       "    </tr>\n",
       "    <tr>\n",
       "      <th>25-09-2014 20:00</th>\n",
       "      <td>18284</td>\n",
       "      <td>732</td>\n",
       "    </tr>\n",
       "    <tr>\n",
       "      <th>25-09-2014 21:00</th>\n",
       "      <td>18285</td>\n",
       "      <td>702</td>\n",
       "    </tr>\n",
       "    <tr>\n",
       "      <th>25-09-2014 22:00</th>\n",
       "      <td>18286</td>\n",
       "      <td>580</td>\n",
       "    </tr>\n",
       "    <tr>\n",
       "      <th>25-09-2014 23:00</th>\n",
       "      <td>18287</td>\n",
       "      <td>534</td>\n",
       "    </tr>\n",
       "  </tbody>\n",
       "</table>\n",
       "<p>18288 rows × 2 columns</p>\n",
       "</div>"
      ],
      "text/plain": [
       "                     ID  Count\n",
       "Datetime                      \n",
       "25-08-2012 00:00      0      8\n",
       "25-08-2012 01:00      1      2\n",
       "25-08-2012 02:00      2      6\n",
       "25-08-2012 03:00      3      2\n",
       "25-08-2012 04:00      4      2\n",
       "...                 ...    ...\n",
       "25-09-2014 19:00  18283    868\n",
       "25-09-2014 20:00  18284    732\n",
       "25-09-2014 21:00  18285    702\n",
       "25-09-2014 22:00  18286    580\n",
       "25-09-2014 23:00  18287    534\n",
       "\n",
       "[18288 rows x 2 columns]"
      ]
     },
     "execution_count": 7,
     "metadata": {},
     "output_type": "execute_result"
    }
   ],
   "source": [
    "train_df"
   ]
  },
  {
   "cell_type": "code",
   "execution_count": 9,
   "id": "9cabd590",
   "metadata": {},
   "outputs": [],
   "source": [
    "idx=pd.to_datetime(train_df.index).to_period(\"M\")\n",
    "train_df.index=idx"
   ]
  },
  {
   "cell_type": "code",
   "execution_count": 10,
   "id": "e1122f4f",
   "metadata": {},
   "outputs": [
    {
     "data": {
      "text/html": [
       "<div>\n",
       "<style scoped>\n",
       "    .dataframe tbody tr th:only-of-type {\n",
       "        vertical-align: middle;\n",
       "    }\n",
       "\n",
       "    .dataframe tbody tr th {\n",
       "        vertical-align: top;\n",
       "    }\n",
       "\n",
       "    .dataframe thead th {\n",
       "        text-align: right;\n",
       "    }\n",
       "</style>\n",
       "<table border=\"1\" class=\"dataframe\">\n",
       "  <thead>\n",
       "    <tr style=\"text-align: right;\">\n",
       "      <th></th>\n",
       "      <th>ID</th>\n",
       "      <th>Count</th>\n",
       "    </tr>\n",
       "    <tr>\n",
       "      <th>Datetime</th>\n",
       "      <th></th>\n",
       "      <th></th>\n",
       "    </tr>\n",
       "  </thead>\n",
       "  <tbody>\n",
       "    <tr>\n",
       "      <th>2012-08</th>\n",
       "      <td>0</td>\n",
       "      <td>8</td>\n",
       "    </tr>\n",
       "    <tr>\n",
       "      <th>2012-08</th>\n",
       "      <td>1</td>\n",
       "      <td>2</td>\n",
       "    </tr>\n",
       "    <tr>\n",
       "      <th>2012-08</th>\n",
       "      <td>2</td>\n",
       "      <td>6</td>\n",
       "    </tr>\n",
       "    <tr>\n",
       "      <th>2012-08</th>\n",
       "      <td>3</td>\n",
       "      <td>2</td>\n",
       "    </tr>\n",
       "    <tr>\n",
       "      <th>2012-08</th>\n",
       "      <td>4</td>\n",
       "      <td>2</td>\n",
       "    </tr>\n",
       "    <tr>\n",
       "      <th>...</th>\n",
       "      <td>...</td>\n",
       "      <td>...</td>\n",
       "    </tr>\n",
       "    <tr>\n",
       "      <th>2014-09</th>\n",
       "      <td>18283</td>\n",
       "      <td>868</td>\n",
       "    </tr>\n",
       "    <tr>\n",
       "      <th>2014-09</th>\n",
       "      <td>18284</td>\n",
       "      <td>732</td>\n",
       "    </tr>\n",
       "    <tr>\n",
       "      <th>2014-09</th>\n",
       "      <td>18285</td>\n",
       "      <td>702</td>\n",
       "    </tr>\n",
       "    <tr>\n",
       "      <th>2014-09</th>\n",
       "      <td>18286</td>\n",
       "      <td>580</td>\n",
       "    </tr>\n",
       "    <tr>\n",
       "      <th>2014-09</th>\n",
       "      <td>18287</td>\n",
       "      <td>534</td>\n",
       "    </tr>\n",
       "  </tbody>\n",
       "</table>\n",
       "<p>18288 rows × 2 columns</p>\n",
       "</div>"
      ],
      "text/plain": [
       "             ID  Count\n",
       "Datetime              \n",
       "2012-08       0      8\n",
       "2012-08       1      2\n",
       "2012-08       2      6\n",
       "2012-08       3      2\n",
       "2012-08       4      2\n",
       "...         ...    ...\n",
       "2014-09   18283    868\n",
       "2014-09   18284    732\n",
       "2014-09   18285    702\n",
       "2014-09   18286    580\n",
       "2014-09   18287    534\n",
       "\n",
       "[18288 rows x 2 columns]"
      ]
     },
     "execution_count": 10,
     "metadata": {},
     "output_type": "execute_result"
    }
   ],
   "source": [
    "train_df"
   ]
  },
  {
   "cell_type": "code",
   "execution_count": 15,
   "id": "7d2bd2b6",
   "metadata": {},
   "outputs": [],
   "source": [
    "y_train=train_df['Count']"
   ]
  },
  {
   "cell_type": "code",
   "execution_count": 17,
   "id": "c9d56267",
   "metadata": {},
   "outputs": [
    {
     "data": {
      "text/plain": [
       "pandas.core.series.Series"
      ]
     },
     "execution_count": 17,
     "metadata": {},
     "output_type": "execute_result"
    }
   ],
   "source": [
    "type(y_train)"
   ]
  },
  {
   "cell_type": "code",
   "execution_count": 20,
   "id": "582fa24b",
   "metadata": {},
   "outputs": [
    {
     "data": {
      "text/plain": [
       "PeriodIndex(['2012-08', '2012-08', '2012-08', '2012-08', '2012-08', '2012-08',\n",
       "             '2012-08', '2012-08', '2012-08', '2012-08',\n",
       "             ...\n",
       "             '2014-09', '2014-09', '2014-09', '2014-09', '2014-09', '2014-09',\n",
       "             '2014-09', '2014-09', '2014-09', '2014-09'],\n",
       "            dtype='period[M]', name='Datetime', length=18288)"
      ]
     },
     "execution_count": 20,
     "metadata": {},
     "output_type": "execute_result"
    }
   ],
   "source": [
    "y_train.index"
   ]
  },
  {
   "cell_type": "code",
   "execution_count": 21,
   "id": "d1862ca2",
   "metadata": {},
   "outputs": [
    {
     "data": {
      "text/plain": [
       "Datetime\n",
       "2012-08      8\n",
       "2012-08      2\n",
       "2012-08      6\n",
       "2012-08      2\n",
       "2012-08      2\n",
       "          ... \n",
       "2014-09    868\n",
       "2014-09    732\n",
       "2014-09    702\n",
       "2014-09    580\n",
       "2014-09    534\n",
       "Freq: M, Name: Count, Length: 18288, dtype: int64"
      ]
     },
     "execution_count": 21,
     "metadata": {},
     "output_type": "execute_result"
    }
   ],
   "source": [
    "y_train"
   ]
  },
  {
   "cell_type": "code",
   "execution_count": 25,
   "id": "2bdf552d",
   "metadata": {},
   "outputs": [],
   "source": [
    "y_test=pd.read_csv('Test_0qrQsBZ.csv',index_col=1)"
   ]
  },
  {
   "cell_type": "code",
   "execution_count": 29,
   "id": "a360731c",
   "metadata": {},
   "outputs": [],
   "source": [
    "idx=pd.to_datetime(y_test.index).to_period(\"M\")\n",
    "y_test.index=idx"
   ]
  },
  {
   "cell_type": "code",
   "execution_count": 30,
   "id": "b3d28d70",
   "metadata": {},
   "outputs": [
    {
     "name": "stdout",
     "output_type": "stream",
     "text": [
      "<class 'pandas.core.frame.DataFrame'>\n",
      "PeriodIndex: 5112 entries, 2014-09 to 2015-04\n",
      "Freq: M\n",
      "Data columns (total 1 columns):\n",
      " #   Column  Non-Null Count  Dtype\n",
      "---  ------  --------------  -----\n",
      " 0   ID      5112 non-null   int64\n",
      "dtypes: int64(1)\n",
      "memory usage: 79.9 KB\n"
     ]
    }
   ],
   "source": [
    "y_test.info()"
   ]
  },
  {
   "cell_type": "code",
   "execution_count": 28,
   "id": "cd34ad0d",
   "metadata": {},
   "outputs": [
    {
     "name": "stdout",
     "output_type": "stream",
     "text": [
      "                                 ETS Results                                  \n",
      "==============================================================================\n",
      "Dep. Variable:                  Count   No. Observations:                18288\n",
      "Model:                       ETS(MAM)   Log Likelihood              -85608.787\n",
      "Date:                Thu, 16 Nov 2023   AIC                         171253.574\n",
      "Time:                        19:20:22   BIC                         171394.226\n",
      "Sample:                    08-31-2012   HQIC                        171299.791\n",
      "                         - 09-30-2014   Scale                            0.139\n",
      "Covariance Type:               approx                                         \n",
      "=======================================================================================\n",
      "                          coef    std err          z      P>|z|      [0.025      0.975]\n",
      "---------------------------------------------------------------------------------------\n",
      "smoothing_level         0.4618      0.003    134.447      0.000       0.455       0.469\n",
      "smoothing_trend      4.618e-05        nan        nan        nan         nan         nan\n",
      "smoothing_seasonal      0.0009        nan        nan        nan         nan         nan\n",
      "initial_level           3.3021      0.667      4.952      0.000       1.995       4.609\n",
      "initial_trend           0.9989      0.077     13.029      0.000       0.849       1.149\n",
      "initial_seasonal.0      1.1541      0.098     11.752      0.000       0.962       1.347\n",
      "initial_seasonal.1      1.2180      0.097     12.555      0.000       1.028       1.408\n",
      "initial_seasonal.2      1.0487      0.083     12.641      0.000       0.886       1.211\n",
      "initial_seasonal.3      0.8592      0.067     12.797      0.000       0.728       0.991\n",
      "initial_seasonal.4      0.8266      0.067     12.398      0.000       0.696       0.957\n",
      "initial_seasonal.5      0.7790      0.060     12.953      0.000       0.661       0.897\n",
      "initial_seasonal.6      0.7407      0.059     12.619      0.000       0.626       0.856\n",
      "initial_seasonal.7      0.7761      0.060     12.844      0.000       0.658       0.895\n",
      "initial_seasonal.8      0.8259      0.066     12.557      0.000       0.697       0.955\n",
      "initial_seasonal.9      0.8853      0.072     12.365      0.000       0.745       1.026\n",
      "initial_seasonal.10     0.9633      0.071     13.517      0.000       0.824       1.103\n",
      "initial_seasonal.11     1.0000      0.087     11.475      0.000       0.829       1.171\n",
      "===================================================================================\n",
      "Ljung-Box (Q):                     7051.71   Jarque-Bera (JB):           2681930.48\n",
      "Prob(Q):                              0.00   Prob(JB):                         0.00\n",
      "Heteroskedasticity (H):               0.27   Skew:                             3.38\n",
      "Prob(H) (two-sided):                  0.00   Kurtosis:                        61.94\n",
      "===================================================================================\n",
      "\n",
      "Warnings:\n",
      "[1] Covariance matrix calculated using numerical (complex-step) differentiation.\n"
     ]
    }
   ],
   "source": [
    "forecaster=AutoETS(auto=True,sp=12)\n",
    "forecaster.fit(y_train)\n",
    "print(forecaster.summary())"
   ]
  },
  {
   "cell_type": "code",
   "execution_count": null,
   "id": "cc65a812",
   "metadata": {},
   "outputs": [],
   "source": [
    "fh="
   ]
  }
 ],
 "metadata": {
  "kernelspec": {
   "display_name": "Python 3 (ipykernel)",
   "language": "python",
   "name": "python3"
  },
  "language_info": {
   "codemirror_mode": {
    "name": "ipython",
    "version": 3
   },
   "file_extension": ".py",
   "mimetype": "text/x-python",
   "name": "python",
   "nbconvert_exporter": "python",
   "pygments_lexer": "ipython3",
   "version": "3.11.5"
  }
 },
 "nbformat": 4,
 "nbformat_minor": 5
}
