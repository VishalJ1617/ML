{
 "cells": [
  {
   "cell_type": "code",
   "execution_count": 1,
   "id": "e4ffeabd",
   "metadata": {},
   "outputs": [],
   "source": [
    "import pandas as pd"
   ]
  },
  {
   "cell_type": "code",
   "execution_count": 4,
   "id": "50fa61fc",
   "metadata": {},
   "outputs": [],
   "source": [
    "gas_df=pd.read_csv('AusGas.csv',index_col=0)"
   ]
  },
  {
   "cell_type": "code",
   "execution_count": 5,
   "id": "76b0d86a",
   "metadata": {},
   "outputs": [
    {
     "data": {
      "text/html": [
       "<div>\n",
       "<style scoped>\n",
       "    .dataframe tbody tr th:only-of-type {\n",
       "        vertical-align: middle;\n",
       "    }\n",
       "\n",
       "    .dataframe tbody tr th {\n",
       "        vertical-align: top;\n",
       "    }\n",
       "\n",
       "    .dataframe thead th {\n",
       "        text-align: right;\n",
       "    }\n",
       "</style>\n",
       "<table border=\"1\" class=\"dataframe\">\n",
       "  <thead>\n",
       "    <tr style=\"text-align: right;\">\n",
       "      <th></th>\n",
       "      <th>GasProd</th>\n",
       "    </tr>\n",
       "    <tr>\n",
       "      <th>Month</th>\n",
       "      <th></th>\n",
       "    </tr>\n",
       "  </thead>\n",
       "  <tbody>\n",
       "    <tr>\n",
       "      <th>Jan-1956</th>\n",
       "      <td>1709</td>\n",
       "    </tr>\n",
       "    <tr>\n",
       "      <th>Feb-1956</th>\n",
       "      <td>1646</td>\n",
       "    </tr>\n",
       "    <tr>\n",
       "      <th>Mar-1956</th>\n",
       "      <td>1794</td>\n",
       "    </tr>\n",
       "    <tr>\n",
       "      <th>Apr-1956</th>\n",
       "      <td>1878</td>\n",
       "    </tr>\n",
       "    <tr>\n",
       "      <th>May-1956</th>\n",
       "      <td>2173</td>\n",
       "    </tr>\n",
       "    <tr>\n",
       "      <th>...</th>\n",
       "      <td>...</td>\n",
       "    </tr>\n",
       "    <tr>\n",
       "      <th>Apr-1995</th>\n",
       "      <td>49013</td>\n",
       "    </tr>\n",
       "    <tr>\n",
       "      <th>May-1995</th>\n",
       "      <td>56624</td>\n",
       "    </tr>\n",
       "    <tr>\n",
       "      <th>Jun-1995</th>\n",
       "      <td>61739</td>\n",
       "    </tr>\n",
       "    <tr>\n",
       "      <th>Jul-1995</th>\n",
       "      <td>66600</td>\n",
       "    </tr>\n",
       "    <tr>\n",
       "      <th>Aug-1995</th>\n",
       "      <td>60054</td>\n",
       "    </tr>\n",
       "  </tbody>\n",
       "</table>\n",
       "<p>476 rows × 1 columns</p>\n",
       "</div>"
      ],
      "text/plain": [
       "          GasProd\n",
       "Month            \n",
       "Jan-1956     1709\n",
       "Feb-1956     1646\n",
       "Mar-1956     1794\n",
       "Apr-1956     1878\n",
       "May-1956     2173\n",
       "...           ...\n",
       "Apr-1995    49013\n",
       "May-1995    56624\n",
       "Jun-1995    61739\n",
       "Jul-1995    66600\n",
       "Aug-1995    60054\n",
       "\n",
       "[476 rows x 1 columns]"
      ]
     },
     "execution_count": 5,
     "metadata": {},
     "output_type": "execute_result"
    }
   ],
   "source": [
    "gas_df"
   ]
  },
  {
   "cell_type": "code",
   "execution_count": 6,
   "id": "17ed5c8b",
   "metadata": {},
   "outputs": [],
   "source": [
    "y=gas_df['GasProd']"
   ]
  },
  {
   "cell_type": "code",
   "execution_count": 7,
   "id": "cc206b1c",
   "metadata": {},
   "outputs": [],
   "source": [
    "y_train=y[:464]"
   ]
  },
  {
   "cell_type": "code",
   "execution_count": 8,
   "id": "813b44ed",
   "metadata": {},
   "outputs": [],
   "source": [
    "y_test=y[464:]"
   ]
  },
  {
   "cell_type": "code",
   "execution_count": 9,
   "id": "a4674813",
   "metadata": {},
   "outputs": [],
   "source": [
    "from statsmodels.tsa.ar_model import AutoReg"
   ]
  },
  {
   "cell_type": "code",
   "execution_count": 11,
   "id": "049caf7d",
   "metadata": {},
   "outputs": [
    {
     "name": "stderr",
     "output_type": "stream",
     "text": [
      "/home/dai/anaconda3/lib/python3.11/site-packages/statsmodels/tsa/base/tsa_model.py:559: UserWarning: Could not infer format, so each element will be parsed individually, falling back to `dateutil`. To ensure parsing is consistent and as-expected, please specify a format.\n",
      "  _index = to_datetime(index)\n",
      "/home/dai/anaconda3/lib/python3.11/site-packages/statsmodels/tsa/base/tsa_model.py:473: ValueWarning: No frequency information was provided, so inferred frequency MS will be used.\n",
      "  self._init_dates(dates, freq)\n"
     ]
    }
   ],
   "source": [
    "model=AutoReg(y_train,lags=6)"
   ]
  },
  {
   "cell_type": "code",
   "execution_count": 12,
   "id": "0b505c42",
   "metadata": {},
   "outputs": [],
   "source": [
    "model_fit=model.fit()"
   ]
  },
  {
   "cell_type": "code",
   "execution_count": 13,
   "id": "a816fd3e",
   "metadata": {},
   "outputs": [
    {
     "name": "stdout",
     "output_type": "stream",
     "text": [
      "Coefficients: const         217.719010\n",
      "GasProd.L1      1.169807\n",
      "GasProd.L2      0.072351\n",
      "GasProd.L3     -0.298099\n",
      "GasProd.L4     -0.171587\n",
      "GasProd.L5      0.001518\n",
      "GasProd.L6      0.221831\n",
      "dtype: float64\n"
     ]
    }
   ],
   "source": [
    "print('Coefficients: %s'%model_fit.params)"
   ]
  },
  {
   "cell_type": "code",
   "execution_count": null,
   "id": "c333361d",
   "metadata": {},
   "outputs": [],
   "source": [
    "predictions=model_fit.predict(start=len(y_train),end=len())"
   ]
  }
 ],
 "metadata": {
  "kernelspec": {
   "display_name": "Python 3 (ipykernel)",
   "language": "python",
   "name": "python3"
  },
  "language_info": {
   "codemirror_mode": {
    "name": "ipython",
    "version": 3
   },
   "file_extension": ".py",
   "mimetype": "text/x-python",
   "name": "python",
   "nbconvert_exporter": "python",
   "pygments_lexer": "ipython3",
   "version": "3.11.5"
  }
 },
 "nbformat": 4,
 "nbformat_minor": 5
}
