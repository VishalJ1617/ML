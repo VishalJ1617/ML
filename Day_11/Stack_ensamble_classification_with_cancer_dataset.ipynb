{
 "cells": [
  {
   "cell_type": "code",
   "execution_count": 1,
   "id": "d4398a2e",
   "metadata": {},
   "outputs": [],
   "source": [
    "import pandas as pd\n",
    "import numpy as np\n",
    "import matplotlib.pyplot as ply\n",
    "from sklearn.preprocessing import LabelEncoder\n",
    "from sklearn.metrics import accuracy_score,log_loss\n",
    "from sklearn.model_selection import train_test_split,StratifiedKFold,RandomizedSearchCV\n",
    "from sklearn.linear_model import LogisticRegression\n",
    "from sklearn.svm import SVC\n",
    "from sklearn.tree import DecisionTreeClassifier\n",
    "from sklearn.ensemble import RandomForestClassifier,StackingClassifier,GradientBoostingClassifier"
   ]
  },
  {
   "cell_type": "code",
   "execution_count": 2,
   "id": "535dedf3",
   "metadata": {},
   "outputs": [],
   "source": [
    "bcancer=pd.read_csv('BreastCancer.csv',index_col=0)"
   ]
  },
  {
   "cell_type": "code",
   "execution_count": 3,
   "id": "9b5bd85b",
   "metadata": {},
   "outputs": [],
   "source": [
    "lbl=LabelEncoder()"
   ]
  },
  {
   "cell_type": "code",
   "execution_count": 4,
   "id": "42506f9c",
   "metadata": {},
   "outputs": [],
   "source": [
    "bcancer['Class']=lbl.fit_transform(bcancer['Class'])"
   ]
  },
  {
   "cell_type": "code",
   "execution_count": 5,
   "id": "2833493e",
   "metadata": {},
   "outputs": [],
   "source": [
    "X=bcancer.drop('Class',axis=1)\n",
    "y=bcancer['Class']"
   ]
  },
  {
   "cell_type": "code",
   "execution_count": 6,
   "id": "64b177b8",
   "metadata": {},
   "outputs": [],
   "source": [
    "X_train,X_test,y_train,y_test=train_test_split(X,y,test_size=0.3,random_state=23,stratify=y)"
   ]
  },
  {
   "cell_type": "code",
   "execution_count": 7,
   "id": "82bb42be",
   "metadata": {},
   "outputs": [],
   "source": [
    "lr=LogisticRegression()"
   ]
  },
  {
   "cell_type": "code",
   "execution_count": 8,
   "id": "317fec41",
   "metadata": {},
   "outputs": [],
   "source": [
    "svm=SVC(kernel='linear',random_state=23,probability=True)\n",
    "dtc=DecisionTreeClassifier(random_state=23)\n",
    "rf=RandomForestClassifier(random_state=23)"
   ]
  },
  {
   "cell_type": "code",
   "execution_count": 9,
   "id": "260cb760",
   "metadata": {},
   "outputs": [],
   "source": [
    "stack=StackingClassifier([('LR',lr),('SVM',svm),('TREE',dtc)],final_estimator=rf)"
   ]
  },
  {
   "cell_type": "code",
   "execution_count": 10,
   "id": "ea92858b",
   "metadata": {},
   "outputs": [
    {
     "data": {
      "text/html": [
       "<style>#sk-container-id-1 {color: black;}#sk-container-id-1 pre{padding: 0;}#sk-container-id-1 div.sk-toggleable {background-color: white;}#sk-container-id-1 label.sk-toggleable__label {cursor: pointer;display: block;width: 100%;margin-bottom: 0;padding: 0.3em;box-sizing: border-box;text-align: center;}#sk-container-id-1 label.sk-toggleable__label-arrow:before {content: \"▸\";float: left;margin-right: 0.25em;color: #696969;}#sk-container-id-1 label.sk-toggleable__label-arrow:hover:before {color: black;}#sk-container-id-1 div.sk-estimator:hover label.sk-toggleable__label-arrow:before {color: black;}#sk-container-id-1 div.sk-toggleable__content {max-height: 0;max-width: 0;overflow: hidden;text-align: left;background-color: #f0f8ff;}#sk-container-id-1 div.sk-toggleable__content pre {margin: 0.2em;color: black;border-radius: 0.25em;background-color: #f0f8ff;}#sk-container-id-1 input.sk-toggleable__control:checked~div.sk-toggleable__content {max-height: 200px;max-width: 100%;overflow: auto;}#sk-container-id-1 input.sk-toggleable__control:checked~label.sk-toggleable__label-arrow:before {content: \"▾\";}#sk-container-id-1 div.sk-estimator input.sk-toggleable__control:checked~label.sk-toggleable__label {background-color: #d4ebff;}#sk-container-id-1 div.sk-label input.sk-toggleable__control:checked~label.sk-toggleable__label {background-color: #d4ebff;}#sk-container-id-1 input.sk-hidden--visually {border: 0;clip: rect(1px 1px 1px 1px);clip: rect(1px, 1px, 1px, 1px);height: 1px;margin: -1px;overflow: hidden;padding: 0;position: absolute;width: 1px;}#sk-container-id-1 div.sk-estimator {font-family: monospace;background-color: #f0f8ff;border: 1px dotted black;border-radius: 0.25em;box-sizing: border-box;margin-bottom: 0.5em;}#sk-container-id-1 div.sk-estimator:hover {background-color: #d4ebff;}#sk-container-id-1 div.sk-parallel-item::after {content: \"\";width: 100%;border-bottom: 1px solid gray;flex-grow: 1;}#sk-container-id-1 div.sk-label:hover label.sk-toggleable__label {background-color: #d4ebff;}#sk-container-id-1 div.sk-serial::before {content: \"\";position: absolute;border-left: 1px solid gray;box-sizing: border-box;top: 0;bottom: 0;left: 50%;z-index: 0;}#sk-container-id-1 div.sk-serial {display: flex;flex-direction: column;align-items: center;background-color: white;padding-right: 0.2em;padding-left: 0.2em;position: relative;}#sk-container-id-1 div.sk-item {position: relative;z-index: 1;}#sk-container-id-1 div.sk-parallel {display: flex;align-items: stretch;justify-content: center;background-color: white;position: relative;}#sk-container-id-1 div.sk-item::before, #sk-container-id-1 div.sk-parallel-item::before {content: \"\";position: absolute;border-left: 1px solid gray;box-sizing: border-box;top: 0;bottom: 0;left: 50%;z-index: -1;}#sk-container-id-1 div.sk-parallel-item {display: flex;flex-direction: column;z-index: 1;position: relative;background-color: white;}#sk-container-id-1 div.sk-parallel-item:first-child::after {align-self: flex-end;width: 50%;}#sk-container-id-1 div.sk-parallel-item:last-child::after {align-self: flex-start;width: 50%;}#sk-container-id-1 div.sk-parallel-item:only-child::after {width: 0;}#sk-container-id-1 div.sk-dashed-wrapped {border: 1px dashed gray;margin: 0 0.4em 0.5em 0.4em;box-sizing: border-box;padding-bottom: 0.4em;background-color: white;}#sk-container-id-1 div.sk-label label {font-family: monospace;font-weight: bold;display: inline-block;line-height: 1.2em;}#sk-container-id-1 div.sk-label-container {text-align: center;}#sk-container-id-1 div.sk-container {/* jupyter's `normalize.less` sets `[hidden] { display: none; }` but bootstrap.min.css set `[hidden] { display: none !important; }` so we also need the `!important` here to be able to override the default hidden behavior on the sphinx rendered scikit-learn.org. See: https://github.com/scikit-learn/scikit-learn/issues/21755 */display: inline-block !important;position: relative;}#sk-container-id-1 div.sk-text-repr-fallback {display: none;}</style><div id=\"sk-container-id-1\" class=\"sk-top-container\"><div class=\"sk-text-repr-fallback\"><pre>StackingClassifier(estimators=[(&#x27;LR&#x27;, LogisticRegression()),\n",
       "                               (&#x27;SVM&#x27;,\n",
       "                                SVC(kernel=&#x27;linear&#x27;, probability=True,\n",
       "                                    random_state=23)),\n",
       "                               (&#x27;TREE&#x27;,\n",
       "                                DecisionTreeClassifier(random_state=23))],\n",
       "                   final_estimator=RandomForestClassifier(random_state=23))</pre><b>In a Jupyter environment, please rerun this cell to show the HTML representation or trust the notebook. <br />On GitHub, the HTML representation is unable to render, please try loading this page with nbviewer.org.</b></div><div class=\"sk-container\" hidden><div class=\"sk-item sk-dashed-wrapped\"><div class=\"sk-label-container\"><div class=\"sk-label sk-toggleable\"><input class=\"sk-toggleable__control sk-hidden--visually\" id=\"sk-estimator-id-1\" type=\"checkbox\" ><label for=\"sk-estimator-id-1\" class=\"sk-toggleable__label sk-toggleable__label-arrow\">StackingClassifier</label><div class=\"sk-toggleable__content\"><pre>StackingClassifier(estimators=[(&#x27;LR&#x27;, LogisticRegression()),\n",
       "                               (&#x27;SVM&#x27;,\n",
       "                                SVC(kernel=&#x27;linear&#x27;, probability=True,\n",
       "                                    random_state=23)),\n",
       "                               (&#x27;TREE&#x27;,\n",
       "                                DecisionTreeClassifier(random_state=23))],\n",
       "                   final_estimator=RandomForestClassifier(random_state=23))</pre></div></div></div><div class=\"sk-serial\"><div class=\"sk-item\"><div class=\"sk-parallel\"><div class=\"sk-parallel-item\"><div class=\"sk-item\"><div class=\"sk-label-container\"><div class=\"sk-label sk-toggleable\"><label>LR</label></div></div><div class=\"sk-serial\"><div class=\"sk-item\"><div class=\"sk-estimator sk-toggleable\"><input class=\"sk-toggleable__control sk-hidden--visually\" id=\"sk-estimator-id-2\" type=\"checkbox\" ><label for=\"sk-estimator-id-2\" class=\"sk-toggleable__label sk-toggleable__label-arrow\">LogisticRegression</label><div class=\"sk-toggleable__content\"><pre>LogisticRegression()</pre></div></div></div></div></div></div><div class=\"sk-parallel-item\"><div class=\"sk-item\"><div class=\"sk-label-container\"><div class=\"sk-label sk-toggleable\"><label>SVM</label></div></div><div class=\"sk-serial\"><div class=\"sk-item\"><div class=\"sk-estimator sk-toggleable\"><input class=\"sk-toggleable__control sk-hidden--visually\" id=\"sk-estimator-id-3\" type=\"checkbox\" ><label for=\"sk-estimator-id-3\" class=\"sk-toggleable__label sk-toggleable__label-arrow\">SVC</label><div class=\"sk-toggleable__content\"><pre>SVC(kernel=&#x27;linear&#x27;, probability=True, random_state=23)</pre></div></div></div></div></div></div><div class=\"sk-parallel-item\"><div class=\"sk-item\"><div class=\"sk-label-container\"><div class=\"sk-label sk-toggleable\"><label>TREE</label></div></div><div class=\"sk-serial\"><div class=\"sk-item\"><div class=\"sk-estimator sk-toggleable\"><input class=\"sk-toggleable__control sk-hidden--visually\" id=\"sk-estimator-id-4\" type=\"checkbox\" ><label for=\"sk-estimator-id-4\" class=\"sk-toggleable__label sk-toggleable__label-arrow\">DecisionTreeClassifier</label><div class=\"sk-toggleable__content\"><pre>DecisionTreeClassifier(random_state=23)</pre></div></div></div></div></div></div></div></div><div class=\"sk-item\"><div class=\"sk-parallel\"><div class=\"sk-parallel-item\"><div class=\"sk-item\"><div class=\"sk-label-container\"><div class=\"sk-label sk-toggleable\"><label>final_estimator</label></div></div><div class=\"sk-serial\"><div class=\"sk-item\"><div class=\"sk-estimator sk-toggleable\"><input class=\"sk-toggleable__control sk-hidden--visually\" id=\"sk-estimator-id-5\" type=\"checkbox\" ><label for=\"sk-estimator-id-5\" class=\"sk-toggleable__label sk-toggleable__label-arrow\">RandomForestClassifier</label><div class=\"sk-toggleable__content\"><pre>RandomForestClassifier(random_state=23)</pre></div></div></div></div></div></div></div></div></div></div></div></div>"
      ],
      "text/plain": [
       "StackingClassifier(estimators=[('LR', LogisticRegression()),\n",
       "                               ('SVM',\n",
       "                                SVC(kernel='linear', probability=True,\n",
       "                                    random_state=23)),\n",
       "                               ('TREE',\n",
       "                                DecisionTreeClassifier(random_state=23))],\n",
       "                   final_estimator=RandomForestClassifier(random_state=23))"
      ]
     },
     "execution_count": 10,
     "metadata": {},
     "output_type": "execute_result"
    }
   ],
   "source": [
    "stack.fit(X_train,y_train)"
   ]
  },
  {
   "cell_type": "code",
   "execution_count": 11,
   "id": "d68b85a3",
   "metadata": {},
   "outputs": [
    {
     "data": {
      "text/plain": [
       "0.9523809523809523"
      ]
     },
     "execution_count": 11,
     "metadata": {},
     "output_type": "execute_result"
    }
   ],
   "source": [
    "y_pred=stack.predict(X_test)\n",
    "accuracy_score(y_test,y_pred)"
   ]
  },
  {
   "cell_type": "markdown",
   "id": "65a69929",
   "metadata": {},
   "source": [
    "# passthrough"
   ]
  },
  {
   "cell_type": "code",
   "execution_count": 12,
   "id": "f18b4d6f",
   "metadata": {},
   "outputs": [],
   "source": [
    "stack=StackingClassifier([('LR',lr),('SVM',svm),('TREE',dtc)],final_estimator=rf,passthrough=True)"
   ]
  },
  {
   "cell_type": "code",
   "execution_count": 13,
   "id": "1b1f1a65",
   "metadata": {},
   "outputs": [
    {
     "data": {
      "text/html": [
       "<style>#sk-container-id-2 {color: black;}#sk-container-id-2 pre{padding: 0;}#sk-container-id-2 div.sk-toggleable {background-color: white;}#sk-container-id-2 label.sk-toggleable__label {cursor: pointer;display: block;width: 100%;margin-bottom: 0;padding: 0.3em;box-sizing: border-box;text-align: center;}#sk-container-id-2 label.sk-toggleable__label-arrow:before {content: \"▸\";float: left;margin-right: 0.25em;color: #696969;}#sk-container-id-2 label.sk-toggleable__label-arrow:hover:before {color: black;}#sk-container-id-2 div.sk-estimator:hover label.sk-toggleable__label-arrow:before {color: black;}#sk-container-id-2 div.sk-toggleable__content {max-height: 0;max-width: 0;overflow: hidden;text-align: left;background-color: #f0f8ff;}#sk-container-id-2 div.sk-toggleable__content pre {margin: 0.2em;color: black;border-radius: 0.25em;background-color: #f0f8ff;}#sk-container-id-2 input.sk-toggleable__control:checked~div.sk-toggleable__content {max-height: 200px;max-width: 100%;overflow: auto;}#sk-container-id-2 input.sk-toggleable__control:checked~label.sk-toggleable__label-arrow:before {content: \"▾\";}#sk-container-id-2 div.sk-estimator input.sk-toggleable__control:checked~label.sk-toggleable__label {background-color: #d4ebff;}#sk-container-id-2 div.sk-label input.sk-toggleable__control:checked~label.sk-toggleable__label {background-color: #d4ebff;}#sk-container-id-2 input.sk-hidden--visually {border: 0;clip: rect(1px 1px 1px 1px);clip: rect(1px, 1px, 1px, 1px);height: 1px;margin: -1px;overflow: hidden;padding: 0;position: absolute;width: 1px;}#sk-container-id-2 div.sk-estimator {font-family: monospace;background-color: #f0f8ff;border: 1px dotted black;border-radius: 0.25em;box-sizing: border-box;margin-bottom: 0.5em;}#sk-container-id-2 div.sk-estimator:hover {background-color: #d4ebff;}#sk-container-id-2 div.sk-parallel-item::after {content: \"\";width: 100%;border-bottom: 1px solid gray;flex-grow: 1;}#sk-container-id-2 div.sk-label:hover label.sk-toggleable__label {background-color: #d4ebff;}#sk-container-id-2 div.sk-serial::before {content: \"\";position: absolute;border-left: 1px solid gray;box-sizing: border-box;top: 0;bottom: 0;left: 50%;z-index: 0;}#sk-container-id-2 div.sk-serial {display: flex;flex-direction: column;align-items: center;background-color: white;padding-right: 0.2em;padding-left: 0.2em;position: relative;}#sk-container-id-2 div.sk-item {position: relative;z-index: 1;}#sk-container-id-2 div.sk-parallel {display: flex;align-items: stretch;justify-content: center;background-color: white;position: relative;}#sk-container-id-2 div.sk-item::before, #sk-container-id-2 div.sk-parallel-item::before {content: \"\";position: absolute;border-left: 1px solid gray;box-sizing: border-box;top: 0;bottom: 0;left: 50%;z-index: -1;}#sk-container-id-2 div.sk-parallel-item {display: flex;flex-direction: column;z-index: 1;position: relative;background-color: white;}#sk-container-id-2 div.sk-parallel-item:first-child::after {align-self: flex-end;width: 50%;}#sk-container-id-2 div.sk-parallel-item:last-child::after {align-self: flex-start;width: 50%;}#sk-container-id-2 div.sk-parallel-item:only-child::after {width: 0;}#sk-container-id-2 div.sk-dashed-wrapped {border: 1px dashed gray;margin: 0 0.4em 0.5em 0.4em;box-sizing: border-box;padding-bottom: 0.4em;background-color: white;}#sk-container-id-2 div.sk-label label {font-family: monospace;font-weight: bold;display: inline-block;line-height: 1.2em;}#sk-container-id-2 div.sk-label-container {text-align: center;}#sk-container-id-2 div.sk-container {/* jupyter's `normalize.less` sets `[hidden] { display: none; }` but bootstrap.min.css set `[hidden] { display: none !important; }` so we also need the `!important` here to be able to override the default hidden behavior on the sphinx rendered scikit-learn.org. See: https://github.com/scikit-learn/scikit-learn/issues/21755 */display: inline-block !important;position: relative;}#sk-container-id-2 div.sk-text-repr-fallback {display: none;}</style><div id=\"sk-container-id-2\" class=\"sk-top-container\"><div class=\"sk-text-repr-fallback\"><pre>StackingClassifier(estimators=[(&#x27;LR&#x27;, LogisticRegression()),\n",
       "                               (&#x27;SVM&#x27;,\n",
       "                                SVC(kernel=&#x27;linear&#x27;, probability=True,\n",
       "                                    random_state=23)),\n",
       "                               (&#x27;TREE&#x27;,\n",
       "                                DecisionTreeClassifier(random_state=23))],\n",
       "                   final_estimator=RandomForestClassifier(random_state=23),\n",
       "                   passthrough=True)</pre><b>In a Jupyter environment, please rerun this cell to show the HTML representation or trust the notebook. <br />On GitHub, the HTML representation is unable to render, please try loading this page with nbviewer.org.</b></div><div class=\"sk-container\" hidden><div class=\"sk-item sk-dashed-wrapped\"><div class=\"sk-label-container\"><div class=\"sk-label sk-toggleable\"><input class=\"sk-toggleable__control sk-hidden--visually\" id=\"sk-estimator-id-6\" type=\"checkbox\" ><label for=\"sk-estimator-id-6\" class=\"sk-toggleable__label sk-toggleable__label-arrow\">StackingClassifier</label><div class=\"sk-toggleable__content\"><pre>StackingClassifier(estimators=[(&#x27;LR&#x27;, LogisticRegression()),\n",
       "                               (&#x27;SVM&#x27;,\n",
       "                                SVC(kernel=&#x27;linear&#x27;, probability=True,\n",
       "                                    random_state=23)),\n",
       "                               (&#x27;TREE&#x27;,\n",
       "                                DecisionTreeClassifier(random_state=23))],\n",
       "                   final_estimator=RandomForestClassifier(random_state=23),\n",
       "                   passthrough=True)</pre></div></div></div><div class=\"sk-serial\"><div class=\"sk-item\"><div class=\"sk-parallel\"><div class=\"sk-parallel-item\"><div class=\"sk-item\"><div class=\"sk-label-container\"><div class=\"sk-label sk-toggleable\"><label>LR</label></div></div><div class=\"sk-serial\"><div class=\"sk-item\"><div class=\"sk-estimator sk-toggleable\"><input class=\"sk-toggleable__control sk-hidden--visually\" id=\"sk-estimator-id-7\" type=\"checkbox\" ><label for=\"sk-estimator-id-7\" class=\"sk-toggleable__label sk-toggleable__label-arrow\">LogisticRegression</label><div class=\"sk-toggleable__content\"><pre>LogisticRegression()</pre></div></div></div></div></div></div><div class=\"sk-parallel-item\"><div class=\"sk-item\"><div class=\"sk-label-container\"><div class=\"sk-label sk-toggleable\"><label>SVM</label></div></div><div class=\"sk-serial\"><div class=\"sk-item\"><div class=\"sk-estimator sk-toggleable\"><input class=\"sk-toggleable__control sk-hidden--visually\" id=\"sk-estimator-id-8\" type=\"checkbox\" ><label for=\"sk-estimator-id-8\" class=\"sk-toggleable__label sk-toggleable__label-arrow\">SVC</label><div class=\"sk-toggleable__content\"><pre>SVC(kernel=&#x27;linear&#x27;, probability=True, random_state=23)</pre></div></div></div></div></div></div><div class=\"sk-parallel-item\"><div class=\"sk-item\"><div class=\"sk-label-container\"><div class=\"sk-label sk-toggleable\"><label>TREE</label></div></div><div class=\"sk-serial\"><div class=\"sk-item\"><div class=\"sk-estimator sk-toggleable\"><input class=\"sk-toggleable__control sk-hidden--visually\" id=\"sk-estimator-id-9\" type=\"checkbox\" ><label for=\"sk-estimator-id-9\" class=\"sk-toggleable__label sk-toggleable__label-arrow\">DecisionTreeClassifier</label><div class=\"sk-toggleable__content\"><pre>DecisionTreeClassifier(random_state=23)</pre></div></div></div></div></div></div></div></div><div class=\"sk-item\"><div class=\"sk-parallel\"><div class=\"sk-parallel-item\"><div class=\"sk-item\"><div class=\"sk-label-container\"><div class=\"sk-label sk-toggleable\"><label>final_estimator</label></div></div><div class=\"sk-serial\"><div class=\"sk-item\"><div class=\"sk-estimator sk-toggleable\"><input class=\"sk-toggleable__control sk-hidden--visually\" id=\"sk-estimator-id-10\" type=\"checkbox\" ><label for=\"sk-estimator-id-10\" class=\"sk-toggleable__label sk-toggleable__label-arrow\">RandomForestClassifier</label><div class=\"sk-toggleable__content\"><pre>RandomForestClassifier(random_state=23)</pre></div></div></div></div></div></div></div></div></div></div></div></div>"
      ],
      "text/plain": [
       "StackingClassifier(estimators=[('LR', LogisticRegression()),\n",
       "                               ('SVM',\n",
       "                                SVC(kernel='linear', probability=True,\n",
       "                                    random_state=23)),\n",
       "                               ('TREE',\n",
       "                                DecisionTreeClassifier(random_state=23))],\n",
       "                   final_estimator=RandomForestClassifier(random_state=23),\n",
       "                   passthrough=True)"
      ]
     },
     "execution_count": 13,
     "metadata": {},
     "output_type": "execute_result"
    }
   ],
   "source": [
    "stack.fit(X_train,y_train)"
   ]
  },
  {
   "cell_type": "code",
   "execution_count": 14,
   "id": "5d7c87f2",
   "metadata": {},
   "outputs": [
    {
     "data": {
      "text/plain": [
       "0.9523809523809523"
      ]
     },
     "execution_count": 14,
     "metadata": {},
     "output_type": "execute_result"
    }
   ],
   "source": [
    "y_pred=stack.predict(X_test)\n",
    "accuracy_score(y_test,y_pred)"
   ]
  },
  {
   "cell_type": "markdown",
   "id": "10ca5319",
   "metadata": {},
   "source": [
    "#Grid search CV"
   ]
  },
  {
   "cell_type": "code",
   "execution_count": 15,
   "id": "f50f93e3",
   "metadata": {},
   "outputs": [],
   "source": [
    "gbm=GradientBoostingClassifier(random_state=23)"
   ]
  },
  {
   "cell_type": "code",
   "execution_count": 16,
   "id": "37a7cad5",
   "metadata": {},
   "outputs": [],
   "source": [
    "stack=StackingClassifier([('LR',lr),('SVM',svm),('TREE',dtc)],final_estimator=gbm,passthrough=True)"
   ]
  },
  {
   "cell_type": "code",
   "execution_count": 17,
   "id": "c90b1422",
   "metadata": {
    "scrolled": true
   },
   "outputs": [
    {
     "data": {
      "text/plain": [
       "{'cv': None,\n",
       " 'estimators': [('LR', LogisticRegression()),\n",
       "  ('SVM', SVC(kernel='linear', probability=True, random_state=23)),\n",
       "  ('TREE', DecisionTreeClassifier(random_state=23))],\n",
       " 'final_estimator__ccp_alpha': 0.0,\n",
       " 'final_estimator__criterion': 'friedman_mse',\n",
       " 'final_estimator__init': None,\n",
       " 'final_estimator__learning_rate': 0.1,\n",
       " 'final_estimator__loss': 'log_loss',\n",
       " 'final_estimator__max_depth': 3,\n",
       " 'final_estimator__max_features': None,\n",
       " 'final_estimator__max_leaf_nodes': None,\n",
       " 'final_estimator__min_impurity_decrease': 0.0,\n",
       " 'final_estimator__min_samples_leaf': 1,\n",
       " 'final_estimator__min_samples_split': 2,\n",
       " 'final_estimator__min_weight_fraction_leaf': 0.0,\n",
       " 'final_estimator__n_estimators': 100,\n",
       " 'final_estimator__n_iter_no_change': None,\n",
       " 'final_estimator__random_state': 23,\n",
       " 'final_estimator__subsample': 1.0,\n",
       " 'final_estimator__tol': 0.0001,\n",
       " 'final_estimator__validation_fraction': 0.1,\n",
       " 'final_estimator__verbose': 0,\n",
       " 'final_estimator__warm_start': False,\n",
       " 'final_estimator': GradientBoostingClassifier(random_state=23),\n",
       " 'n_jobs': None,\n",
       " 'passthrough': True,\n",
       " 'stack_method': 'auto',\n",
       " 'verbose': 0,\n",
       " 'LR': LogisticRegression(),\n",
       " 'SVM': SVC(kernel='linear', probability=True, random_state=23),\n",
       " 'TREE': DecisionTreeClassifier(random_state=23),\n",
       " 'LR__C': 1.0,\n",
       " 'LR__class_weight': None,\n",
       " 'LR__dual': False,\n",
       " 'LR__fit_intercept': True,\n",
       " 'LR__intercept_scaling': 1,\n",
       " 'LR__l1_ratio': None,\n",
       " 'LR__max_iter': 100,\n",
       " 'LR__multi_class': 'auto',\n",
       " 'LR__n_jobs': None,\n",
       " 'LR__penalty': 'l2',\n",
       " 'LR__random_state': None,\n",
       " 'LR__solver': 'lbfgs',\n",
       " 'LR__tol': 0.0001,\n",
       " 'LR__verbose': 0,\n",
       " 'LR__warm_start': False,\n",
       " 'SVM__C': 1.0,\n",
       " 'SVM__break_ties': False,\n",
       " 'SVM__cache_size': 200,\n",
       " 'SVM__class_weight': None,\n",
       " 'SVM__coef0': 0.0,\n",
       " 'SVM__decision_function_shape': 'ovr',\n",
       " 'SVM__degree': 3,\n",
       " 'SVM__gamma': 'scale',\n",
       " 'SVM__kernel': 'linear',\n",
       " 'SVM__max_iter': -1,\n",
       " 'SVM__probability': True,\n",
       " 'SVM__random_state': 23,\n",
       " 'SVM__shrinking': True,\n",
       " 'SVM__tol': 0.001,\n",
       " 'SVM__verbose': False,\n",
       " 'TREE__ccp_alpha': 0.0,\n",
       " 'TREE__class_weight': None,\n",
       " 'TREE__criterion': 'gini',\n",
       " 'TREE__max_depth': None,\n",
       " 'TREE__max_features': None,\n",
       " 'TREE__max_leaf_nodes': None,\n",
       " 'TREE__min_impurity_decrease': 0.0,\n",
       " 'TREE__min_samples_leaf': 1,\n",
       " 'TREE__min_samples_split': 2,\n",
       " 'TREE__min_weight_fraction_leaf': 0.0,\n",
       " 'TREE__random_state': 23,\n",
       " 'TREE__splitter': 'best'}"
      ]
     },
     "execution_count": 17,
     "metadata": {},
     "output_type": "execute_result"
    }
   ],
   "source": [
    "stack.get_params()"
   ]
  },
  {
   "cell_type": "code",
   "execution_count": 18,
   "id": "7ccfbf80",
   "metadata": {},
   "outputs": [],
   "source": [
    "params={'TREE__max_depth':[2,3,4,5,6,None],'TREE__min_samples_split':[2,5,10],\n",
    "        'TREE__min_samples_leaf':[1,2,5,7,10,15],'LR__penalty': ['l1','l2',None],'SVM__C':np.linspace(0.001,3,5),\n",
    "        'final_estimator__learning_rate':[0.1,0.2],'final_estimator__max_depth':[2,3,4,5,6,None]}"
   ]
  },
  {
   "cell_type": "code",
   "execution_count": 19,
   "id": "2564c27c",
   "metadata": {},
   "outputs": [],
   "source": [
    "kfold=StratifiedKFold(n_splits=5,shuffle=True,random_state=23)"
   ]
  },
  {
   "cell_type": "code",
   "execution_count": 21,
   "id": "4fdea6be",
   "metadata": {},
   "outputs": [],
   "source": [
    "rgcv_stack=RandomizedSearchCV(stack,param_distributions=params,verbose=3,cv=kfold,scoring='neg_log_loss',n_iter=50)"
   ]
  },
  {
   "cell_type": "code",
   "execution_count": 22,
   "id": "cd50eece",
   "metadata": {},
   "outputs": [
    {
     "name": "stdout",
     "output_type": "stream",
     "text": [
      "Fitting 5 folds for each of 50 candidates, totalling 250 fits\n",
      "[CV 1/5] END LR__penalty=l2, SVM__C=2.25025, TREE__max_depth=5, TREE__min_samples_leaf=7, TREE__min_samples_split=10, final_estimator__learning_rate=0.1, final_estimator__max_depth=4;, score=-0.193 total time=   0.7s\n",
      "[CV 2/5] END LR__penalty=l2, SVM__C=2.25025, TREE__max_depth=5, TREE__min_samples_leaf=7, TREE__min_samples_split=10, final_estimator__learning_rate=0.1, final_estimator__max_depth=4;, score=-0.127 total time=   0.7s\n",
      "[CV 3/5] END LR__penalty=l2, SVM__C=2.25025, TREE__max_depth=5, TREE__min_samples_leaf=7, TREE__min_samples_split=10, final_estimator__learning_rate=0.1, final_estimator__max_depth=4;, score=-0.065 total time=   0.7s\n",
      "[CV 4/5] END LR__penalty=l2, SVM__C=2.25025, TREE__max_depth=5, TREE__min_samples_leaf=7, TREE__min_samples_split=10, final_estimator__learning_rate=0.1, final_estimator__max_depth=4;, score=-0.236 total time=   0.6s\n",
      "[CV 5/5] END LR__penalty=l2, SVM__C=2.25025, TREE__max_depth=5, TREE__min_samples_leaf=7, TREE__min_samples_split=10, final_estimator__learning_rate=0.1, final_estimator__max_depth=4;, score=-0.287 total time=   0.6s\n",
      "[CV 1/5] END LR__penalty=None, SVM__C=3.0, TREE__max_depth=2, TREE__min_samples_leaf=1, TREE__min_samples_split=5, final_estimator__learning_rate=0.2, final_estimator__max_depth=3;, score=-0.192 total time=   0.6s\n",
      "[CV 2/5] END LR__penalty=None, SVM__C=3.0, TREE__max_depth=2, TREE__min_samples_leaf=1, TREE__min_samples_split=5, final_estimator__learning_rate=0.2, final_estimator__max_depth=3;, score=-0.125 total time=   0.6s\n",
      "[CV 3/5] END LR__penalty=None, SVM__C=3.0, TREE__max_depth=2, TREE__min_samples_leaf=1, TREE__min_samples_split=5, final_estimator__learning_rate=0.2, final_estimator__max_depth=3;, score=-0.081 total time=   0.6s\n",
      "[CV 4/5] END LR__penalty=None, SVM__C=3.0, TREE__max_depth=2, TREE__min_samples_leaf=1, TREE__min_samples_split=5, final_estimator__learning_rate=0.2, final_estimator__max_depth=3;, score=-0.222 total time=   0.6s\n",
      "[CV 5/5] END LR__penalty=None, SVM__C=3.0, TREE__max_depth=2, TREE__min_samples_leaf=1, TREE__min_samples_split=5, final_estimator__learning_rate=0.2, final_estimator__max_depth=3;, score=-0.340 total time=   0.5s\n",
      "[CV 1/5] END LR__penalty=l1, SVM__C=0.75075, TREE__max_depth=2, TREE__min_samples_leaf=7, TREE__min_samples_split=2, final_estimator__learning_rate=0.2, final_estimator__max_depth=5;, score=nan total time=   0.0s\n",
      "[CV 2/5] END LR__penalty=l1, SVM__C=0.75075, TREE__max_depth=2, TREE__min_samples_leaf=7, TREE__min_samples_split=2, final_estimator__learning_rate=0.2, final_estimator__max_depth=5;, score=nan total time=   0.0s\n",
      "[CV 3/5] END LR__penalty=l1, SVM__C=0.75075, TREE__max_depth=2, TREE__min_samples_leaf=7, TREE__min_samples_split=2, final_estimator__learning_rate=0.2, final_estimator__max_depth=5;, score=nan total time=   0.0s\n",
      "[CV 4/5] END LR__penalty=l1, SVM__C=0.75075, TREE__max_depth=2, TREE__min_samples_leaf=7, TREE__min_samples_split=2, final_estimator__learning_rate=0.2, final_estimator__max_depth=5;, score=nan total time=   0.0s\n",
      "[CV 5/5] END LR__penalty=l1, SVM__C=0.75075, TREE__max_depth=2, TREE__min_samples_leaf=7, TREE__min_samples_split=2, final_estimator__learning_rate=0.2, final_estimator__max_depth=5;, score=nan total time=   0.0s\n",
      "[CV 1/5] END LR__penalty=l1, SVM__C=0.001, TREE__max_depth=2, TREE__min_samples_leaf=1, TREE__min_samples_split=5, final_estimator__learning_rate=0.2, final_estimator__max_depth=2;, score=nan total time=   0.0s\n",
      "[CV 2/5] END LR__penalty=l1, SVM__C=0.001, TREE__max_depth=2, TREE__min_samples_leaf=1, TREE__min_samples_split=5, final_estimator__learning_rate=0.2, final_estimator__max_depth=2;, score=nan total time=   0.0s\n",
      "[CV 3/5] END LR__penalty=l1, SVM__C=0.001, TREE__max_depth=2, TREE__min_samples_leaf=1, TREE__min_samples_split=5, final_estimator__learning_rate=0.2, final_estimator__max_depth=2;, score=nan total time=   0.0s\n",
      "[CV 4/5] END LR__penalty=l1, SVM__C=0.001, TREE__max_depth=2, TREE__min_samples_leaf=1, TREE__min_samples_split=5, final_estimator__learning_rate=0.2, final_estimator__max_depth=2;, score=nan total time=   0.0s\n",
      "[CV 5/5] END LR__penalty=l1, SVM__C=0.001, TREE__max_depth=2, TREE__min_samples_leaf=1, TREE__min_samples_split=5, final_estimator__learning_rate=0.2, final_estimator__max_depth=2;, score=nan total time=   0.0s\n",
      "[CV 1/5] END LR__penalty=None, SVM__C=2.25025, TREE__max_depth=6, TREE__min_samples_leaf=5, TREE__min_samples_split=5, final_estimator__learning_rate=0.2, final_estimator__max_depth=3;, score=-0.230 total time=   0.6s\n",
      "[CV 2/5] END LR__penalty=None, SVM__C=2.25025, TREE__max_depth=6, TREE__min_samples_leaf=5, TREE__min_samples_split=5, final_estimator__learning_rate=0.2, final_estimator__max_depth=3;, score=-0.155 total time=   0.6s\n",
      "[CV 3/5] END LR__penalty=None, SVM__C=2.25025, TREE__max_depth=6, TREE__min_samples_leaf=5, TREE__min_samples_split=5, final_estimator__learning_rate=0.2, final_estimator__max_depth=3;, score=-0.056 total time=   0.5s\n",
      "[CV 4/5] END LR__penalty=None, SVM__C=2.25025, TREE__max_depth=6, TREE__min_samples_leaf=5, TREE__min_samples_split=5, final_estimator__learning_rate=0.2, final_estimator__max_depth=3;, score=-0.256 total time=   0.5s\n",
      "[CV 5/5] END LR__penalty=None, SVM__C=2.25025, TREE__max_depth=6, TREE__min_samples_leaf=5, TREE__min_samples_split=5, final_estimator__learning_rate=0.2, final_estimator__max_depth=3;, score=-0.326 total time=   0.5s\n",
      "[CV 1/5] END LR__penalty=l1, SVM__C=0.001, TREE__max_depth=4, TREE__min_samples_leaf=2, TREE__min_samples_split=10, final_estimator__learning_rate=0.1, final_estimator__max_depth=None;, score=nan total time=   0.0s\n",
      "[CV 2/5] END LR__penalty=l1, SVM__C=0.001, TREE__max_depth=4, TREE__min_samples_leaf=2, TREE__min_samples_split=10, final_estimator__learning_rate=0.1, final_estimator__max_depth=None;, score=nan total time=   0.0s\n",
      "[CV 3/5] END LR__penalty=l1, SVM__C=0.001, TREE__max_depth=4, TREE__min_samples_leaf=2, TREE__min_samples_split=10, final_estimator__learning_rate=0.1, final_estimator__max_depth=None;, score=nan total time=   0.0s\n",
      "[CV 4/5] END LR__penalty=l1, SVM__C=0.001, TREE__max_depth=4, TREE__min_samples_leaf=2, TREE__min_samples_split=10, final_estimator__learning_rate=0.1, final_estimator__max_depth=None;, score=nan total time=   0.0s\n",
      "[CV 5/5] END LR__penalty=l1, SVM__C=0.001, TREE__max_depth=4, TREE__min_samples_leaf=2, TREE__min_samples_split=10, final_estimator__learning_rate=0.1, final_estimator__max_depth=None;, score=nan total time=   0.0s\n",
      "[CV 1/5] END LR__penalty=None, SVM__C=0.75075, TREE__max_depth=6, TREE__min_samples_leaf=15, TREE__min_samples_split=5, final_estimator__learning_rate=0.2, final_estimator__max_depth=4;, score=-0.296 total time=   0.5s\n",
      "[CV 2/5] END LR__penalty=None, SVM__C=0.75075, TREE__max_depth=6, TREE__min_samples_leaf=15, TREE__min_samples_split=5, final_estimator__learning_rate=0.2, final_estimator__max_depth=4;, score=-0.134 total time=   0.5s\n",
      "[CV 3/5] END LR__penalty=None, SVM__C=0.75075, TREE__max_depth=6, TREE__min_samples_leaf=15, TREE__min_samples_split=5, final_estimator__learning_rate=0.2, final_estimator__max_depth=4;, score=-0.120 total time=   0.5s\n",
      "[CV 4/5] END LR__penalty=None, SVM__C=0.75075, TREE__max_depth=6, TREE__min_samples_leaf=15, TREE__min_samples_split=5, final_estimator__learning_rate=0.2, final_estimator__max_depth=4;, score=-0.407 total time=   0.5s\n",
      "[CV 5/5] END LR__penalty=None, SVM__C=0.75075, TREE__max_depth=6, TREE__min_samples_leaf=15, TREE__min_samples_split=5, final_estimator__learning_rate=0.2, final_estimator__max_depth=4;, score=-0.456 total time=   0.4s\n",
      "[CV 1/5] END LR__penalty=l1, SVM__C=0.001, TREE__max_depth=4, TREE__min_samples_leaf=2, TREE__min_samples_split=2, final_estimator__learning_rate=0.1, final_estimator__max_depth=6;, score=nan total time=   0.0s\n",
      "[CV 2/5] END LR__penalty=l1, SVM__C=0.001, TREE__max_depth=4, TREE__min_samples_leaf=2, TREE__min_samples_split=2, final_estimator__learning_rate=0.1, final_estimator__max_depth=6;, score=nan total time=   0.0s\n",
      "[CV 3/5] END LR__penalty=l1, SVM__C=0.001, TREE__max_depth=4, TREE__min_samples_leaf=2, TREE__min_samples_split=2, final_estimator__learning_rate=0.1, final_estimator__max_depth=6;, score=nan total time=   0.0s\n",
      "[CV 4/5] END LR__penalty=l1, SVM__C=0.001, TREE__max_depth=4, TREE__min_samples_leaf=2, TREE__min_samples_split=2, final_estimator__learning_rate=0.1, final_estimator__max_depth=6;, score=nan total time=   0.0s\n",
      "[CV 5/5] END LR__penalty=l1, SVM__C=0.001, TREE__max_depth=4, TREE__min_samples_leaf=2, TREE__min_samples_split=2, final_estimator__learning_rate=0.1, final_estimator__max_depth=6;, score=nan total time=   0.0s\n"
     ]
    },
    {
     "name": "stdout",
     "output_type": "stream",
     "text": [
      "[CV 1/5] END LR__penalty=l2, SVM__C=1.5005, TREE__max_depth=3, TREE__min_samples_leaf=2, TREE__min_samples_split=5, final_estimator__learning_rate=0.1, final_estimator__max_depth=5;, score=-0.337 total time=   0.6s\n",
      "[CV 2/5] END LR__penalty=l2, SVM__C=1.5005, TREE__max_depth=3, TREE__min_samples_leaf=2, TREE__min_samples_split=5, final_estimator__learning_rate=0.1, final_estimator__max_depth=5;, score=-0.121 total time=   0.6s\n",
      "[CV 3/5] END LR__penalty=l2, SVM__C=1.5005, TREE__max_depth=3, TREE__min_samples_leaf=2, TREE__min_samples_split=5, final_estimator__learning_rate=0.1, final_estimator__max_depth=5;, score=-0.077 total time=   0.6s\n",
      "[CV 4/5] END LR__penalty=l2, SVM__C=1.5005, TREE__max_depth=3, TREE__min_samples_leaf=2, TREE__min_samples_split=5, final_estimator__learning_rate=0.1, final_estimator__max_depth=5;, score=-0.425 total time=   0.6s\n",
      "[CV 5/5] END LR__penalty=l2, SVM__C=1.5005, TREE__max_depth=3, TREE__min_samples_leaf=2, TREE__min_samples_split=5, final_estimator__learning_rate=0.1, final_estimator__max_depth=5;, score=-0.400 total time=   0.5s\n",
      "[CV 1/5] END LR__penalty=l2, SVM__C=0.75075, TREE__max_depth=4, TREE__min_samples_leaf=10, TREE__min_samples_split=10, final_estimator__learning_rate=0.2, final_estimator__max_depth=6;, score=-0.633 total time=   0.5s\n",
      "[CV 2/5] END LR__penalty=l2, SVM__C=0.75075, TREE__max_depth=4, TREE__min_samples_leaf=10, TREE__min_samples_split=10, final_estimator__learning_rate=0.2, final_estimator__max_depth=6;, score=-0.196 total time=   0.6s\n",
      "[CV 3/5] END LR__penalty=l2, SVM__C=0.75075, TREE__max_depth=4, TREE__min_samples_leaf=10, TREE__min_samples_split=10, final_estimator__learning_rate=0.2, final_estimator__max_depth=6;, score=-0.148 total time=   0.6s\n",
      "[CV 4/5] END LR__penalty=l2, SVM__C=0.75075, TREE__max_depth=4, TREE__min_samples_leaf=10, TREE__min_samples_split=10, final_estimator__learning_rate=0.2, final_estimator__max_depth=6;, score=-0.758 total time=   0.5s\n",
      "[CV 5/5] END LR__penalty=l2, SVM__C=0.75075, TREE__max_depth=4, TREE__min_samples_leaf=10, TREE__min_samples_split=10, final_estimator__learning_rate=0.2, final_estimator__max_depth=6;, score=-1.051 total time=   0.4s\n",
      "[CV 1/5] END LR__penalty=l1, SVM__C=1.5005, TREE__max_depth=2, TREE__min_samples_leaf=15, TREE__min_samples_split=10, final_estimator__learning_rate=0.2, final_estimator__max_depth=5;, score=nan total time=   0.0s\n",
      "[CV 2/5] END LR__penalty=l1, SVM__C=1.5005, TREE__max_depth=2, TREE__min_samples_leaf=15, TREE__min_samples_split=10, final_estimator__learning_rate=0.2, final_estimator__max_depth=5;, score=nan total time=   0.0s\n",
      "[CV 3/5] END LR__penalty=l1, SVM__C=1.5005, TREE__max_depth=2, TREE__min_samples_leaf=15, TREE__min_samples_split=10, final_estimator__learning_rate=0.2, final_estimator__max_depth=5;, score=nan total time=   0.0s\n",
      "[CV 4/5] END LR__penalty=l1, SVM__C=1.5005, TREE__max_depth=2, TREE__min_samples_leaf=15, TREE__min_samples_split=10, final_estimator__learning_rate=0.2, final_estimator__max_depth=5;, score=nan total time=   0.0s\n",
      "[CV 5/5] END LR__penalty=l1, SVM__C=1.5005, TREE__max_depth=2, TREE__min_samples_leaf=15, TREE__min_samples_split=10, final_estimator__learning_rate=0.2, final_estimator__max_depth=5;, score=nan total time=   0.0s\n",
      "[CV 1/5] END LR__penalty=l1, SVM__C=2.25025, TREE__max_depth=3, TREE__min_samples_leaf=7, TREE__min_samples_split=5, final_estimator__learning_rate=0.1, final_estimator__max_depth=3;, score=nan total time=   0.0s\n",
      "[CV 2/5] END LR__penalty=l1, SVM__C=2.25025, TREE__max_depth=3, TREE__min_samples_leaf=7, TREE__min_samples_split=5, final_estimator__learning_rate=0.1, final_estimator__max_depth=3;, score=nan total time=   0.0s\n",
      "[CV 3/5] END LR__penalty=l1, SVM__C=2.25025, TREE__max_depth=3, TREE__min_samples_leaf=7, TREE__min_samples_split=5, final_estimator__learning_rate=0.1, final_estimator__max_depth=3;, score=nan total time=   0.0s\n",
      "[CV 4/5] END LR__penalty=l1, SVM__C=2.25025, TREE__max_depth=3, TREE__min_samples_leaf=7, TREE__min_samples_split=5, final_estimator__learning_rate=0.1, final_estimator__max_depth=3;, score=nan total time=   0.0s\n",
      "[CV 5/5] END LR__penalty=l1, SVM__C=2.25025, TREE__max_depth=3, TREE__min_samples_leaf=7, TREE__min_samples_split=5, final_estimator__learning_rate=0.1, final_estimator__max_depth=3;, score=nan total time=   0.0s\n",
      "[CV 1/5] END LR__penalty=l2, SVM__C=1.5005, TREE__max_depth=4, TREE__min_samples_leaf=1, TREE__min_samples_split=10, final_estimator__learning_rate=0.2, final_estimator__max_depth=3;, score=-0.229 total time=   0.5s\n",
      "[CV 2/5] END LR__penalty=l2, SVM__C=1.5005, TREE__max_depth=4, TREE__min_samples_leaf=1, TREE__min_samples_split=10, final_estimator__learning_rate=0.2, final_estimator__max_depth=3;, score=-0.122 total time=   0.5s\n",
      "[CV 3/5] END LR__penalty=l2, SVM__C=1.5005, TREE__max_depth=4, TREE__min_samples_leaf=1, TREE__min_samples_split=10, final_estimator__learning_rate=0.2, final_estimator__max_depth=3;, score=-0.048 total time=   0.5s\n",
      "[CV 4/5] END LR__penalty=l2, SVM__C=1.5005, TREE__max_depth=4, TREE__min_samples_leaf=1, TREE__min_samples_split=10, final_estimator__learning_rate=0.2, final_estimator__max_depth=3;, score=-0.225 total time=   0.5s\n",
      "[CV 5/5] END LR__penalty=l2, SVM__C=1.5005, TREE__max_depth=4, TREE__min_samples_leaf=1, TREE__min_samples_split=10, final_estimator__learning_rate=0.2, final_estimator__max_depth=3;, score=-0.320 total time=   0.4s\n",
      "[CV 1/5] END LR__penalty=None, SVM__C=1.5005, TREE__max_depth=None, TREE__min_samples_leaf=5, TREE__min_samples_split=10, final_estimator__learning_rate=0.1, final_estimator__max_depth=5;, score=-0.268 total time=   0.6s\n",
      "[CV 2/5] END LR__penalty=None, SVM__C=1.5005, TREE__max_depth=None, TREE__min_samples_leaf=5, TREE__min_samples_split=10, final_estimator__learning_rate=0.1, final_estimator__max_depth=5;, score=-0.143 total time=   0.6s\n",
      "[CV 3/5] END LR__penalty=None, SVM__C=1.5005, TREE__max_depth=None, TREE__min_samples_leaf=5, TREE__min_samples_split=10, final_estimator__learning_rate=0.1, final_estimator__max_depth=5;, score=-0.081 total time=   0.6s\n",
      "[CV 4/5] END LR__penalty=None, SVM__C=1.5005, TREE__max_depth=None, TREE__min_samples_leaf=5, TREE__min_samples_split=10, final_estimator__learning_rate=0.1, final_estimator__max_depth=5;, score=-0.315 total time=   0.6s\n",
      "[CV 5/5] END LR__penalty=None, SVM__C=1.5005, TREE__max_depth=None, TREE__min_samples_leaf=5, TREE__min_samples_split=10, final_estimator__learning_rate=0.1, final_estimator__max_depth=5;, score=-0.687 total time=   0.5s\n",
      "[CV 1/5] END LR__penalty=None, SVM__C=3.0, TREE__max_depth=6, TREE__min_samples_leaf=1, TREE__min_samples_split=10, final_estimator__learning_rate=0.1, final_estimator__max_depth=2;, score=-0.127 total time=   0.6s\n",
      "[CV 2/5] END LR__penalty=None, SVM__C=3.0, TREE__max_depth=6, TREE__min_samples_leaf=1, TREE__min_samples_split=10, final_estimator__learning_rate=0.1, final_estimator__max_depth=2;, score=-0.092 total time=   0.6s\n",
      "[CV 3/5] END LR__penalty=None, SVM__C=3.0, TREE__max_depth=6, TREE__min_samples_leaf=1, TREE__min_samples_split=10, final_estimator__learning_rate=0.1, final_estimator__max_depth=2;, score=-0.056 total time=   0.6s\n",
      "[CV 4/5] END LR__penalty=None, SVM__C=3.0, TREE__max_depth=6, TREE__min_samples_leaf=1, TREE__min_samples_split=10, final_estimator__learning_rate=0.1, final_estimator__max_depth=2;, score=-0.136 total time=   0.5s\n",
      "[CV 5/5] END LR__penalty=None, SVM__C=3.0, TREE__max_depth=6, TREE__min_samples_leaf=1, TREE__min_samples_split=10, final_estimator__learning_rate=0.1, final_estimator__max_depth=2;, score=-0.207 total time=   0.5s\n",
      "[CV 1/5] END LR__penalty=None, SVM__C=1.5005, TREE__max_depth=2, TREE__min_samples_leaf=5, TREE__min_samples_split=2, final_estimator__learning_rate=0.1, final_estimator__max_depth=4;, score=-0.191 total time=   0.5s\n",
      "[CV 2/5] END LR__penalty=None, SVM__C=1.5005, TREE__max_depth=2, TREE__min_samples_leaf=5, TREE__min_samples_split=2, final_estimator__learning_rate=0.1, final_estimator__max_depth=4;, score=-0.125 total time=   0.6s\n",
      "[CV 3/5] END LR__penalty=None, SVM__C=1.5005, TREE__max_depth=2, TREE__min_samples_leaf=5, TREE__min_samples_split=2, final_estimator__learning_rate=0.1, final_estimator__max_depth=4;, score=-0.067 total time=   0.5s\n"
     ]
    },
    {
     "name": "stdout",
     "output_type": "stream",
     "text": [
      "[CV 4/5] END LR__penalty=None, SVM__C=1.5005, TREE__max_depth=2, TREE__min_samples_leaf=5, TREE__min_samples_split=2, final_estimator__learning_rate=0.1, final_estimator__max_depth=4;, score=-0.269 total time=   0.5s\n",
      "[CV 5/5] END LR__penalty=None, SVM__C=1.5005, TREE__max_depth=2, TREE__min_samples_leaf=5, TREE__min_samples_split=2, final_estimator__learning_rate=0.1, final_estimator__max_depth=4;, score=-0.286 total time=   0.5s\n",
      "[CV 1/5] END LR__penalty=l1, SVM__C=0.75075, TREE__max_depth=5, TREE__min_samples_leaf=15, TREE__min_samples_split=10, final_estimator__learning_rate=0.1, final_estimator__max_depth=2;, score=nan total time=   0.0s\n",
      "[CV 2/5] END LR__penalty=l1, SVM__C=0.75075, TREE__max_depth=5, TREE__min_samples_leaf=15, TREE__min_samples_split=10, final_estimator__learning_rate=0.1, final_estimator__max_depth=2;, score=nan total time=   0.0s\n",
      "[CV 3/5] END LR__penalty=l1, SVM__C=0.75075, TREE__max_depth=5, TREE__min_samples_leaf=15, TREE__min_samples_split=10, final_estimator__learning_rate=0.1, final_estimator__max_depth=2;, score=nan total time=   0.0s\n",
      "[CV 4/5] END LR__penalty=l1, SVM__C=0.75075, TREE__max_depth=5, TREE__min_samples_leaf=15, TREE__min_samples_split=10, final_estimator__learning_rate=0.1, final_estimator__max_depth=2;, score=nan total time=   0.0s\n",
      "[CV 5/5] END LR__penalty=l1, SVM__C=0.75075, TREE__max_depth=5, TREE__min_samples_leaf=15, TREE__min_samples_split=10, final_estimator__learning_rate=0.1, final_estimator__max_depth=2;, score=nan total time=   0.0s\n",
      "[CV 1/5] END LR__penalty=l2, SVM__C=3.0, TREE__max_depth=6, TREE__min_samples_leaf=2, TREE__min_samples_split=5, final_estimator__learning_rate=0.2, final_estimator__max_depth=5;, score=-0.436 total time=   0.7s\n",
      "[CV 2/5] END LR__penalty=l2, SVM__C=3.0, TREE__max_depth=6, TREE__min_samples_leaf=2, TREE__min_samples_split=5, final_estimator__learning_rate=0.2, final_estimator__max_depth=5;, score=-0.182 total time=   0.7s\n",
      "[CV 3/5] END LR__penalty=l2, SVM__C=3.0, TREE__max_depth=6, TREE__min_samples_leaf=2, TREE__min_samples_split=5, final_estimator__learning_rate=0.2, final_estimator__max_depth=5;, score=-0.112 total time=   0.7s\n",
      "[CV 4/5] END LR__penalty=l2, SVM__C=3.0, TREE__max_depth=6, TREE__min_samples_leaf=2, TREE__min_samples_split=5, final_estimator__learning_rate=0.2, final_estimator__max_depth=5;, score=-0.804 total time=   0.7s\n",
      "[CV 5/5] END LR__penalty=l2, SVM__C=3.0, TREE__max_depth=6, TREE__min_samples_leaf=2, TREE__min_samples_split=5, final_estimator__learning_rate=0.2, final_estimator__max_depth=5;, score=-0.599 total time=   0.5s\n",
      "[CV 1/5] END LR__penalty=l2, SVM__C=1.5005, TREE__max_depth=3, TREE__min_samples_leaf=10, TREE__min_samples_split=10, final_estimator__learning_rate=0.2, final_estimator__max_depth=2;, score=-0.200 total time=   0.5s\n",
      "[CV 2/5] END LR__penalty=l2, SVM__C=1.5005, TREE__max_depth=3, TREE__min_samples_leaf=10, TREE__min_samples_split=10, final_estimator__learning_rate=0.2, final_estimator__max_depth=2;, score=-0.088 total time=   0.5s\n",
      "[CV 3/5] END LR__penalty=l2, SVM__C=1.5005, TREE__max_depth=3, TREE__min_samples_leaf=10, TREE__min_samples_split=10, final_estimator__learning_rate=0.2, final_estimator__max_depth=2;, score=-0.061 total time=   0.5s\n",
      "[CV 4/5] END LR__penalty=l2, SVM__C=1.5005, TREE__max_depth=3, TREE__min_samples_leaf=10, TREE__min_samples_split=10, final_estimator__learning_rate=0.2, final_estimator__max_depth=2;, score=-0.175 total time=   0.5s\n",
      "[CV 5/5] END LR__penalty=l2, SVM__C=1.5005, TREE__max_depth=3, TREE__min_samples_leaf=10, TREE__min_samples_split=10, final_estimator__learning_rate=0.2, final_estimator__max_depth=2;, score=-0.239 total time=   0.4s\n",
      "[CV 1/5] END LR__penalty=l1, SVM__C=2.25025, TREE__max_depth=4, TREE__min_samples_leaf=10, TREE__min_samples_split=5, final_estimator__learning_rate=0.1, final_estimator__max_depth=None;, score=nan total time=   0.0s\n",
      "[CV 2/5] END LR__penalty=l1, SVM__C=2.25025, TREE__max_depth=4, TREE__min_samples_leaf=10, TREE__min_samples_split=5, final_estimator__learning_rate=0.1, final_estimator__max_depth=None;, score=nan total time=   0.0s\n",
      "[CV 3/5] END LR__penalty=l1, SVM__C=2.25025, TREE__max_depth=4, TREE__min_samples_leaf=10, TREE__min_samples_split=5, final_estimator__learning_rate=0.1, final_estimator__max_depth=None;, score=nan total time=   0.0s\n",
      "[CV 4/5] END LR__penalty=l1, SVM__C=2.25025, TREE__max_depth=4, TREE__min_samples_leaf=10, TREE__min_samples_split=5, final_estimator__learning_rate=0.1, final_estimator__max_depth=None;, score=nan total time=   0.0s\n",
      "[CV 5/5] END LR__penalty=l1, SVM__C=2.25025, TREE__max_depth=4, TREE__min_samples_leaf=10, TREE__min_samples_split=5, final_estimator__learning_rate=0.1, final_estimator__max_depth=None;, score=nan total time=   0.0s\n",
      "[CV 1/5] END LR__penalty=l1, SVM__C=0.75075, TREE__max_depth=6, TREE__min_samples_leaf=5, TREE__min_samples_split=10, final_estimator__learning_rate=0.1, final_estimator__max_depth=None;, score=nan total time=   0.0s\n",
      "[CV 2/5] END LR__penalty=l1, SVM__C=0.75075, TREE__max_depth=6, TREE__min_samples_leaf=5, TREE__min_samples_split=10, final_estimator__learning_rate=0.1, final_estimator__max_depth=None;, score=nan total time=   0.0s\n",
      "[CV 3/5] END LR__penalty=l1, SVM__C=0.75075, TREE__max_depth=6, TREE__min_samples_leaf=5, TREE__min_samples_split=10, final_estimator__learning_rate=0.1, final_estimator__max_depth=None;, score=nan total time=   0.0s\n",
      "[CV 4/5] END LR__penalty=l1, SVM__C=0.75075, TREE__max_depth=6, TREE__min_samples_leaf=5, TREE__min_samples_split=10, final_estimator__learning_rate=0.1, final_estimator__max_depth=None;, score=nan total time=   0.0s\n",
      "[CV 5/5] END LR__penalty=l1, SVM__C=0.75075, TREE__max_depth=6, TREE__min_samples_leaf=5, TREE__min_samples_split=10, final_estimator__learning_rate=0.1, final_estimator__max_depth=None;, score=nan total time=   0.0s\n",
      "[CV 1/5] END LR__penalty=l1, SVM__C=0.75075, TREE__max_depth=6, TREE__min_samples_leaf=5, TREE__min_samples_split=10, final_estimator__learning_rate=0.2, final_estimator__max_depth=6;, score=nan total time=   0.0s\n",
      "[CV 2/5] END LR__penalty=l1, SVM__C=0.75075, TREE__max_depth=6, TREE__min_samples_leaf=5, TREE__min_samples_split=10, final_estimator__learning_rate=0.2, final_estimator__max_depth=6;, score=nan total time=   0.0s\n",
      "[CV 3/5] END LR__penalty=l1, SVM__C=0.75075, TREE__max_depth=6, TREE__min_samples_leaf=5, TREE__min_samples_split=10, final_estimator__learning_rate=0.2, final_estimator__max_depth=6;, score=nan total time=   0.0s\n",
      "[CV 4/5] END LR__penalty=l1, SVM__C=0.75075, TREE__max_depth=6, TREE__min_samples_leaf=5, TREE__min_samples_split=10, final_estimator__learning_rate=0.2, final_estimator__max_depth=6;, score=nan total time=   0.0s\n",
      "[CV 5/5] END LR__penalty=l1, SVM__C=0.75075, TREE__max_depth=6, TREE__min_samples_leaf=5, TREE__min_samples_split=10, final_estimator__learning_rate=0.2, final_estimator__max_depth=6;, score=nan total time=   0.0s\n",
      "[CV 1/5] END LR__penalty=None, SVM__C=3.0, TREE__max_depth=4, TREE__min_samples_leaf=10, TREE__min_samples_split=10, final_estimator__learning_rate=0.1, final_estimator__max_depth=6;, score=-0.436 total time=   0.7s\n",
      "[CV 2/5] END LR__penalty=None, SVM__C=3.0, TREE__max_depth=4, TREE__min_samples_leaf=10, TREE__min_samples_split=10, final_estimator__learning_rate=0.1, final_estimator__max_depth=6;, score=-0.140 total time=   0.7s\n",
      "[CV 3/5] END LR__penalty=None, SVM__C=3.0, TREE__max_depth=4, TREE__min_samples_leaf=10, TREE__min_samples_split=10, final_estimator__learning_rate=0.1, final_estimator__max_depth=6;, score=-0.075 total time=   0.7s\n",
      "[CV 4/5] END LR__penalty=None, SVM__C=3.0, TREE__max_depth=4, TREE__min_samples_leaf=10, TREE__min_samples_split=10, final_estimator__learning_rate=0.1, final_estimator__max_depth=6;, score=-0.480 total time=   0.7s\n",
      "[CV 5/5] END LR__penalty=None, SVM__C=3.0, TREE__max_depth=4, TREE__min_samples_leaf=10, TREE__min_samples_split=10, final_estimator__learning_rate=0.1, final_estimator__max_depth=6;, score=-0.665 total time=   0.5s\n",
      "[CV 1/5] END LR__penalty=None, SVM__C=1.5005, TREE__max_depth=None, TREE__min_samples_leaf=15, TREE__min_samples_split=2, final_estimator__learning_rate=0.1, final_estimator__max_depth=5;, score=-0.217 total time=   0.6s\n"
     ]
    },
    {
     "name": "stdout",
     "output_type": "stream",
     "text": [
      "[CV 2/5] END LR__penalty=None, SVM__C=1.5005, TREE__max_depth=None, TREE__min_samples_leaf=15, TREE__min_samples_split=2, final_estimator__learning_rate=0.1, final_estimator__max_depth=5;, score=-0.129 total time=   0.6s\n",
      "[CV 3/5] END LR__penalty=None, SVM__C=1.5005, TREE__max_depth=None, TREE__min_samples_leaf=15, TREE__min_samples_split=2, final_estimator__learning_rate=0.1, final_estimator__max_depth=5;, score=-0.078 total time=   0.6s\n",
      "[CV 4/5] END LR__penalty=None, SVM__C=1.5005, TREE__max_depth=None, TREE__min_samples_leaf=15, TREE__min_samples_split=2, final_estimator__learning_rate=0.1, final_estimator__max_depth=5;, score=-0.355 total time=   0.6s\n",
      "[CV 5/5] END LR__penalty=None, SVM__C=1.5005, TREE__max_depth=None, TREE__min_samples_leaf=15, TREE__min_samples_split=2, final_estimator__learning_rate=0.1, final_estimator__max_depth=5;, score=-0.379 total time=   0.5s\n",
      "[CV 1/5] END LR__penalty=l2, SVM__C=0.75075, TREE__max_depth=6, TREE__min_samples_leaf=7, TREE__min_samples_split=2, final_estimator__learning_rate=0.2, final_estimator__max_depth=4;, score=-0.396 total time=   0.6s\n",
      "[CV 2/5] END LR__penalty=l2, SVM__C=0.75075, TREE__max_depth=6, TREE__min_samples_leaf=7, TREE__min_samples_split=2, final_estimator__learning_rate=0.2, final_estimator__max_depth=4;, score=-0.176 total time=   0.5s\n",
      "[CV 3/5] END LR__penalty=l2, SVM__C=0.75075, TREE__max_depth=6, TREE__min_samples_leaf=7, TREE__min_samples_split=2, final_estimator__learning_rate=0.2, final_estimator__max_depth=4;, score=-0.091 total time=   0.5s\n",
      "[CV 4/5] END LR__penalty=l2, SVM__C=0.75075, TREE__max_depth=6, TREE__min_samples_leaf=7, TREE__min_samples_split=2, final_estimator__learning_rate=0.2, final_estimator__max_depth=4;, score=-0.397 total time=   0.5s\n",
      "[CV 5/5] END LR__penalty=l2, SVM__C=0.75075, TREE__max_depth=6, TREE__min_samples_leaf=7, TREE__min_samples_split=2, final_estimator__learning_rate=0.2, final_estimator__max_depth=4;, score=-0.467 total time=   0.4s\n",
      "[CV 1/5] END LR__penalty=l1, SVM__C=2.25025, TREE__max_depth=3, TREE__min_samples_leaf=5, TREE__min_samples_split=10, final_estimator__learning_rate=0.2, final_estimator__max_depth=4;, score=nan total time=   0.0s\n",
      "[CV 2/5] END LR__penalty=l1, SVM__C=2.25025, TREE__max_depth=3, TREE__min_samples_leaf=5, TREE__min_samples_split=10, final_estimator__learning_rate=0.2, final_estimator__max_depth=4;, score=nan total time=   0.0s\n",
      "[CV 3/5] END LR__penalty=l1, SVM__C=2.25025, TREE__max_depth=3, TREE__min_samples_leaf=5, TREE__min_samples_split=10, final_estimator__learning_rate=0.2, final_estimator__max_depth=4;, score=nan total time=   0.0s\n",
      "[CV 4/5] END LR__penalty=l1, SVM__C=2.25025, TREE__max_depth=3, TREE__min_samples_leaf=5, TREE__min_samples_split=10, final_estimator__learning_rate=0.2, final_estimator__max_depth=4;, score=nan total time=   0.0s\n",
      "[CV 5/5] END LR__penalty=l1, SVM__C=2.25025, TREE__max_depth=3, TREE__min_samples_leaf=5, TREE__min_samples_split=10, final_estimator__learning_rate=0.2, final_estimator__max_depth=4;, score=nan total time=   0.0s\n",
      "[CV 1/5] END LR__penalty=None, SVM__C=2.25025, TREE__max_depth=2, TREE__min_samples_leaf=15, TREE__min_samples_split=5, final_estimator__learning_rate=0.2, final_estimator__max_depth=3;, score=-0.207 total time=   0.6s\n",
      "[CV 2/5] END LR__penalty=None, SVM__C=2.25025, TREE__max_depth=2, TREE__min_samples_leaf=15, TREE__min_samples_split=5, final_estimator__learning_rate=0.2, final_estimator__max_depth=3;, score=-0.101 total time=   0.6s\n",
      "[CV 3/5] END LR__penalty=None, SVM__C=2.25025, TREE__max_depth=2, TREE__min_samples_leaf=15, TREE__min_samples_split=5, final_estimator__learning_rate=0.2, final_estimator__max_depth=3;, score=-0.068 total time=   0.5s\n",
      "[CV 4/5] END LR__penalty=None, SVM__C=2.25025, TREE__max_depth=2, TREE__min_samples_leaf=15, TREE__min_samples_split=5, final_estimator__learning_rate=0.2, final_estimator__max_depth=3;, score=-0.285 total time=   0.5s\n",
      "[CV 5/5] END LR__penalty=None, SVM__C=2.25025, TREE__max_depth=2, TREE__min_samples_leaf=15, TREE__min_samples_split=5, final_estimator__learning_rate=0.2, final_estimator__max_depth=3;, score=-0.343 total time=   0.5s\n",
      "[CV 1/5] END LR__penalty=l2, SVM__C=2.25025, TREE__max_depth=None, TREE__min_samples_leaf=5, TREE__min_samples_split=5, final_estimator__learning_rate=0.1, final_estimator__max_depth=2;, score=-0.128 total time=   0.5s\n",
      "[CV 2/5] END LR__penalty=l2, SVM__C=2.25025, TREE__max_depth=None, TREE__min_samples_leaf=5, TREE__min_samples_split=5, final_estimator__learning_rate=0.1, final_estimator__max_depth=2;, score=-0.096 total time=   0.6s\n",
      "[CV 3/5] END LR__penalty=l2, SVM__C=2.25025, TREE__max_depth=None, TREE__min_samples_leaf=5, TREE__min_samples_split=5, final_estimator__learning_rate=0.1, final_estimator__max_depth=2;, score=-0.060 total time=   0.5s\n",
      "[CV 4/5] END LR__penalty=l2, SVM__C=2.25025, TREE__max_depth=None, TREE__min_samples_leaf=5, TREE__min_samples_split=5, final_estimator__learning_rate=0.1, final_estimator__max_depth=2;, score=-0.141 total time=   0.5s\n",
      "[CV 5/5] END LR__penalty=l2, SVM__C=2.25025, TREE__max_depth=None, TREE__min_samples_leaf=5, TREE__min_samples_split=5, final_estimator__learning_rate=0.1, final_estimator__max_depth=2;, score=-0.197 total time=   0.4s\n",
      "[CV 1/5] END LR__penalty=l1, SVM__C=0.75075, TREE__max_depth=6, TREE__min_samples_leaf=7, TREE__min_samples_split=5, final_estimator__learning_rate=0.1, final_estimator__max_depth=6;, score=nan total time=   0.0s\n",
      "[CV 2/5] END LR__penalty=l1, SVM__C=0.75075, TREE__max_depth=6, TREE__min_samples_leaf=7, TREE__min_samples_split=5, final_estimator__learning_rate=0.1, final_estimator__max_depth=6;, score=nan total time=   0.0s\n",
      "[CV 3/5] END LR__penalty=l1, SVM__C=0.75075, TREE__max_depth=6, TREE__min_samples_leaf=7, TREE__min_samples_split=5, final_estimator__learning_rate=0.1, final_estimator__max_depth=6;, score=nan total time=   0.0s\n",
      "[CV 4/5] END LR__penalty=l1, SVM__C=0.75075, TREE__max_depth=6, TREE__min_samples_leaf=7, TREE__min_samples_split=5, final_estimator__learning_rate=0.1, final_estimator__max_depth=6;, score=nan total time=   0.0s\n",
      "[CV 5/5] END LR__penalty=l1, SVM__C=0.75075, TREE__max_depth=6, TREE__min_samples_leaf=7, TREE__min_samples_split=5, final_estimator__learning_rate=0.1, final_estimator__max_depth=6;, score=nan total time=   0.0s\n",
      "[CV 1/5] END LR__penalty=l2, SVM__C=0.75075, TREE__max_depth=2, TREE__min_samples_leaf=7, TREE__min_samples_split=10, final_estimator__learning_rate=0.1, final_estimator__max_depth=6;, score=-0.538 total time=   0.5s\n",
      "[CV 2/5] END LR__penalty=l2, SVM__C=0.75075, TREE__max_depth=2, TREE__min_samples_leaf=7, TREE__min_samples_split=10, final_estimator__learning_rate=0.1, final_estimator__max_depth=6;, score=-0.178 total time=   0.6s\n",
      "[CV 3/5] END LR__penalty=l2, SVM__C=0.75075, TREE__max_depth=2, TREE__min_samples_leaf=7, TREE__min_samples_split=10, final_estimator__learning_rate=0.1, final_estimator__max_depth=6;, score=-0.146 total time=   0.5s\n",
      "[CV 4/5] END LR__penalty=l2, SVM__C=0.75075, TREE__max_depth=2, TREE__min_samples_leaf=7, TREE__min_samples_split=10, final_estimator__learning_rate=0.1, final_estimator__max_depth=6;, score=-0.471 total time=   0.5s\n",
      "[CV 5/5] END LR__penalty=l2, SVM__C=0.75075, TREE__max_depth=2, TREE__min_samples_leaf=7, TREE__min_samples_split=10, final_estimator__learning_rate=0.1, final_estimator__max_depth=6;, score=-0.550 total time=   0.5s\n",
      "[CV 1/5] END LR__penalty=l1, SVM__C=3.0, TREE__max_depth=3, TREE__min_samples_leaf=5, TREE__min_samples_split=10, final_estimator__learning_rate=0.1, final_estimator__max_depth=4;, score=nan total time=   0.0s\n",
      "[CV 2/5] END LR__penalty=l1, SVM__C=3.0, TREE__max_depth=3, TREE__min_samples_leaf=5, TREE__min_samples_split=10, final_estimator__learning_rate=0.1, final_estimator__max_depth=4;, score=nan total time=   0.0s\n",
      "[CV 3/5] END LR__penalty=l1, SVM__C=3.0, TREE__max_depth=3, TREE__min_samples_leaf=5, TREE__min_samples_split=10, final_estimator__learning_rate=0.1, final_estimator__max_depth=4;, score=nan total time=   0.0s\n",
      "[CV 4/5] END LR__penalty=l1, SVM__C=3.0, TREE__max_depth=3, TREE__min_samples_leaf=5, TREE__min_samples_split=10, final_estimator__learning_rate=0.1, final_estimator__max_depth=4;, score=nan total time=   0.0s\n",
      "[CV 5/5] END LR__penalty=l1, SVM__C=3.0, TREE__max_depth=3, TREE__min_samples_leaf=5, TREE__min_samples_split=10, final_estimator__learning_rate=0.1, final_estimator__max_depth=4;, score=nan total time=   0.0s\n"
     ]
    },
    {
     "name": "stdout",
     "output_type": "stream",
     "text": [
      "[CV 1/5] END LR__penalty=None, SVM__C=0.001, TREE__max_depth=6, TREE__min_samples_leaf=1, TREE__min_samples_split=2, final_estimator__learning_rate=0.2, final_estimator__max_depth=6;, score=-0.961 total time=   0.5s\n",
      "[CV 2/5] END LR__penalty=None, SVM__C=0.001, TREE__max_depth=6, TREE__min_samples_leaf=1, TREE__min_samples_split=2, final_estimator__learning_rate=0.2, final_estimator__max_depth=6;, score=-0.262 total time=   0.5s\n",
      "[CV 3/5] END LR__penalty=None, SVM__C=0.001, TREE__max_depth=6, TREE__min_samples_leaf=1, TREE__min_samples_split=2, final_estimator__learning_rate=0.2, final_estimator__max_depth=6;, score=-0.175 total time=   0.5s\n",
      "[CV 4/5] END LR__penalty=None, SVM__C=0.001, TREE__max_depth=6, TREE__min_samples_leaf=1, TREE__min_samples_split=2, final_estimator__learning_rate=0.2, final_estimator__max_depth=6;, score=-0.982 total time=   0.5s\n",
      "[CV 5/5] END LR__penalty=None, SVM__C=0.001, TREE__max_depth=6, TREE__min_samples_leaf=1, TREE__min_samples_split=2, final_estimator__learning_rate=0.2, final_estimator__max_depth=6;, score=-0.909 total time=   0.4s\n",
      "[CV 1/5] END LR__penalty=None, SVM__C=0.001, TREE__max_depth=4, TREE__min_samples_leaf=1, TREE__min_samples_split=5, final_estimator__learning_rate=0.1, final_estimator__max_depth=2;, score=-0.117 total time=   0.4s\n",
      "[CV 2/5] END LR__penalty=None, SVM__C=0.001, TREE__max_depth=4, TREE__min_samples_leaf=1, TREE__min_samples_split=5, final_estimator__learning_rate=0.1, final_estimator__max_depth=2;, score=-0.096 total time=   0.4s\n",
      "[CV 3/5] END LR__penalty=None, SVM__C=0.001, TREE__max_depth=4, TREE__min_samples_leaf=1, TREE__min_samples_split=5, final_estimator__learning_rate=0.1, final_estimator__max_depth=2;, score=-0.058 total time=   0.4s\n",
      "[CV 4/5] END LR__penalty=None, SVM__C=0.001, TREE__max_depth=4, TREE__min_samples_leaf=1, TREE__min_samples_split=5, final_estimator__learning_rate=0.1, final_estimator__max_depth=2;, score=-0.138 total time=   0.3s\n",
      "[CV 5/5] END LR__penalty=None, SVM__C=0.001, TREE__max_depth=4, TREE__min_samples_leaf=1, TREE__min_samples_split=5, final_estimator__learning_rate=0.1, final_estimator__max_depth=2;, score=-0.233 total time=   0.4s\n",
      "[CV 1/5] END LR__penalty=l2, SVM__C=2.25025, TREE__max_depth=5, TREE__min_samples_leaf=5, TREE__min_samples_split=2, final_estimator__learning_rate=0.2, final_estimator__max_depth=None;, score=-0.841 total time=   0.6s\n",
      "[CV 2/5] END LR__penalty=l2, SVM__C=2.25025, TREE__max_depth=5, TREE__min_samples_leaf=5, TREE__min_samples_split=2, final_estimator__learning_rate=0.2, final_estimator__max_depth=None;, score=-0.726 total time=   0.7s\n",
      "[CV 3/5] END LR__penalty=l2, SVM__C=2.25025, TREE__max_depth=5, TREE__min_samples_leaf=5, TREE__min_samples_split=2, final_estimator__learning_rate=0.2, final_estimator__max_depth=None;, score=-0.241 total time=   0.6s\n",
      "[CV 4/5] END LR__penalty=l2, SVM__C=2.25025, TREE__max_depth=5, TREE__min_samples_leaf=5, TREE__min_samples_split=2, final_estimator__learning_rate=0.2, final_estimator__max_depth=None;, score=-0.926 total time=   0.6s\n",
      "[CV 5/5] END LR__penalty=l2, SVM__C=2.25025, TREE__max_depth=5, TREE__min_samples_leaf=5, TREE__min_samples_split=2, final_estimator__learning_rate=0.2, final_estimator__max_depth=None;, score=-1.197 total time=   0.5s\n",
      "[CV 1/5] END LR__penalty=l1, SVM__C=2.25025, TREE__max_depth=6, TREE__min_samples_leaf=2, TREE__min_samples_split=2, final_estimator__learning_rate=0.2, final_estimator__max_depth=3;, score=nan total time=   0.0s\n",
      "[CV 2/5] END LR__penalty=l1, SVM__C=2.25025, TREE__max_depth=6, TREE__min_samples_leaf=2, TREE__min_samples_split=2, final_estimator__learning_rate=0.2, final_estimator__max_depth=3;, score=nan total time=   0.0s\n",
      "[CV 3/5] END LR__penalty=l1, SVM__C=2.25025, TREE__max_depth=6, TREE__min_samples_leaf=2, TREE__min_samples_split=2, final_estimator__learning_rate=0.2, final_estimator__max_depth=3;, score=nan total time=   0.0s\n",
      "[CV 4/5] END LR__penalty=l1, SVM__C=2.25025, TREE__max_depth=6, TREE__min_samples_leaf=2, TREE__min_samples_split=2, final_estimator__learning_rate=0.2, final_estimator__max_depth=3;, score=nan total time=   0.0s\n",
      "[CV 5/5] END LR__penalty=l1, SVM__C=2.25025, TREE__max_depth=6, TREE__min_samples_leaf=2, TREE__min_samples_split=2, final_estimator__learning_rate=0.2, final_estimator__max_depth=3;, score=nan total time=   0.0s\n",
      "[CV 1/5] END LR__penalty=l2, SVM__C=3.0, TREE__max_depth=2, TREE__min_samples_leaf=5, TREE__min_samples_split=2, final_estimator__learning_rate=0.2, final_estimator__max_depth=2;, score=-0.163 total time=   0.6s\n",
      "[CV 2/5] END LR__penalty=l2, SVM__C=3.0, TREE__max_depth=2, TREE__min_samples_leaf=5, TREE__min_samples_split=2, final_estimator__learning_rate=0.2, final_estimator__max_depth=2;, score=-0.129 total time=   0.6s\n",
      "[CV 3/5] END LR__penalty=l2, SVM__C=3.0, TREE__max_depth=2, TREE__min_samples_leaf=5, TREE__min_samples_split=2, final_estimator__learning_rate=0.2, final_estimator__max_depth=2;, score=-0.053 total time=   0.6s\n",
      "[CV 4/5] END LR__penalty=l2, SVM__C=3.0, TREE__max_depth=2, TREE__min_samples_leaf=5, TREE__min_samples_split=2, final_estimator__learning_rate=0.2, final_estimator__max_depth=2;, score=-0.180 total time=   0.6s\n",
      "[CV 5/5] END LR__penalty=l2, SVM__C=3.0, TREE__max_depth=2, TREE__min_samples_leaf=5, TREE__min_samples_split=2, final_estimator__learning_rate=0.2, final_estimator__max_depth=2;, score=-0.254 total time=   0.5s\n",
      "[CV 1/5] END LR__penalty=None, SVM__C=1.5005, TREE__max_depth=6, TREE__min_samples_leaf=10, TREE__min_samples_split=10, final_estimator__learning_rate=0.1, final_estimator__max_depth=6;, score=-0.356 total time=   0.7s\n",
      "[CV 2/5] END LR__penalty=None, SVM__C=1.5005, TREE__max_depth=6, TREE__min_samples_leaf=10, TREE__min_samples_split=10, final_estimator__learning_rate=0.1, final_estimator__max_depth=6;, score=-0.199 total time=   0.6s\n",
      "[CV 3/5] END LR__penalty=None, SVM__C=1.5005, TREE__max_depth=6, TREE__min_samples_leaf=10, TREE__min_samples_split=10, final_estimator__learning_rate=0.1, final_estimator__max_depth=6;, score=-0.148 total time=   0.6s\n",
      "[CV 4/5] END LR__penalty=None, SVM__C=1.5005, TREE__max_depth=6, TREE__min_samples_leaf=10, TREE__min_samples_split=10, final_estimator__learning_rate=0.1, final_estimator__max_depth=6;, score=-0.483 total time=   0.5s\n",
      "[CV 5/5] END LR__penalty=None, SVM__C=1.5005, TREE__max_depth=6, TREE__min_samples_leaf=10, TREE__min_samples_split=10, final_estimator__learning_rate=0.1, final_estimator__max_depth=6;, score=-0.822 total time=   0.6s\n",
      "[CV 1/5] END LR__penalty=None, SVM__C=0.001, TREE__max_depth=2, TREE__min_samples_leaf=1, TREE__min_samples_split=2, final_estimator__learning_rate=0.2, final_estimator__max_depth=5;, score=-0.471 total time=   0.5s\n",
      "[CV 2/5] END LR__penalty=None, SVM__C=0.001, TREE__max_depth=2, TREE__min_samples_leaf=1, TREE__min_samples_split=2, final_estimator__learning_rate=0.2, final_estimator__max_depth=5;, score=-0.212 total time=   0.5s\n",
      "[CV 3/5] END LR__penalty=None, SVM__C=0.001, TREE__max_depth=2, TREE__min_samples_leaf=1, TREE__min_samples_split=2, final_estimator__learning_rate=0.2, final_estimator__max_depth=5;, score=-0.139 total time=   0.5s\n",
      "[CV 4/5] END LR__penalty=None, SVM__C=0.001, TREE__max_depth=2, TREE__min_samples_leaf=1, TREE__min_samples_split=2, final_estimator__learning_rate=0.2, final_estimator__max_depth=5;, score=-0.437 total time=   0.5s\n",
      "[CV 5/5] END LR__penalty=None, SVM__C=0.001, TREE__max_depth=2, TREE__min_samples_leaf=1, TREE__min_samples_split=2, final_estimator__learning_rate=0.2, final_estimator__max_depth=5;, score=-0.559 total time=   0.5s\n",
      "[CV 1/5] END LR__penalty=l2, SVM__C=0.75075, TREE__max_depth=4, TREE__min_samples_leaf=15, TREE__min_samples_split=5, final_estimator__learning_rate=0.2, final_estimator__max_depth=4;, score=-0.305 total time=   0.5s\n",
      "[CV 2/5] END LR__penalty=l2, SVM__C=0.75075, TREE__max_depth=4, TREE__min_samples_leaf=15, TREE__min_samples_split=5, final_estimator__learning_rate=0.2, final_estimator__max_depth=4;, score=-0.125 total time=   0.5s\n",
      "[CV 3/5] END LR__penalty=l2, SVM__C=0.75075, TREE__max_depth=4, TREE__min_samples_leaf=15, TREE__min_samples_split=5, final_estimator__learning_rate=0.2, final_estimator__max_depth=4;, score=-0.102 total time=   0.5s\n"
     ]
    },
    {
     "name": "stdout",
     "output_type": "stream",
     "text": [
      "[CV 4/5] END LR__penalty=l2, SVM__C=0.75075, TREE__max_depth=4, TREE__min_samples_leaf=15, TREE__min_samples_split=5, final_estimator__learning_rate=0.2, final_estimator__max_depth=4;, score=-0.363 total time=   0.5s\n",
      "[CV 5/5] END LR__penalty=l2, SVM__C=0.75075, TREE__max_depth=4, TREE__min_samples_leaf=15, TREE__min_samples_split=5, final_estimator__learning_rate=0.2, final_estimator__max_depth=4;, score=-0.472 total time=   0.4s\n",
      "[CV 1/5] END LR__penalty=None, SVM__C=3.0, TREE__max_depth=3, TREE__min_samples_leaf=2, TREE__min_samples_split=10, final_estimator__learning_rate=0.2, final_estimator__max_depth=4;, score=-0.389 total time=   0.6s\n",
      "[CV 2/5] END LR__penalty=None, SVM__C=3.0, TREE__max_depth=3, TREE__min_samples_leaf=2, TREE__min_samples_split=10, final_estimator__learning_rate=0.2, final_estimator__max_depth=4;, score=-0.141 total time=   0.7s\n",
      "[CV 3/5] END LR__penalty=None, SVM__C=3.0, TREE__max_depth=3, TREE__min_samples_leaf=2, TREE__min_samples_split=10, final_estimator__learning_rate=0.2, final_estimator__max_depth=4;, score=-0.116 total time=   0.7s\n",
      "[CV 4/5] END LR__penalty=None, SVM__C=3.0, TREE__max_depth=3, TREE__min_samples_leaf=2, TREE__min_samples_split=10, final_estimator__learning_rate=0.2, final_estimator__max_depth=4;, score=-0.387 total time=   0.6s\n",
      "[CV 5/5] END LR__penalty=None, SVM__C=3.0, TREE__max_depth=3, TREE__min_samples_leaf=2, TREE__min_samples_split=10, final_estimator__learning_rate=0.2, final_estimator__max_depth=4;, score=-0.470 total time=   0.5s\n",
      "[CV 1/5] END LR__penalty=l2, SVM__C=0.001, TREE__max_depth=2, TREE__min_samples_leaf=2, TREE__min_samples_split=5, final_estimator__learning_rate=0.2, final_estimator__max_depth=5;, score=-0.466 total time=   0.5s\n",
      "[CV 2/5] END LR__penalty=l2, SVM__C=0.001, TREE__max_depth=2, TREE__min_samples_leaf=2, TREE__min_samples_split=5, final_estimator__learning_rate=0.2, final_estimator__max_depth=5;, score=-0.193 total time=   0.5s\n",
      "[CV 3/5] END LR__penalty=l2, SVM__C=0.001, TREE__max_depth=2, TREE__min_samples_leaf=2, TREE__min_samples_split=5, final_estimator__learning_rate=0.2, final_estimator__max_depth=5;, score=-0.128 total time=   0.5s\n",
      "[CV 4/5] END LR__penalty=l2, SVM__C=0.001, TREE__max_depth=2, TREE__min_samples_leaf=2, TREE__min_samples_split=5, final_estimator__learning_rate=0.2, final_estimator__max_depth=5;, score=-0.414 total time=   0.5s\n",
      "[CV 5/5] END LR__penalty=l2, SVM__C=0.001, TREE__max_depth=2, TREE__min_samples_leaf=2, TREE__min_samples_split=5, final_estimator__learning_rate=0.2, final_estimator__max_depth=5;, score=-0.517 total time=   0.4s\n",
      "[CV 1/5] END LR__penalty=l1, SVM__C=1.5005, TREE__max_depth=5, TREE__min_samples_leaf=2, TREE__min_samples_split=5, final_estimator__learning_rate=0.2, final_estimator__max_depth=6;, score=nan total time=   0.0s\n",
      "[CV 2/5] END LR__penalty=l1, SVM__C=1.5005, TREE__max_depth=5, TREE__min_samples_leaf=2, TREE__min_samples_split=5, final_estimator__learning_rate=0.2, final_estimator__max_depth=6;, score=nan total time=   0.0s\n",
      "[CV 3/5] END LR__penalty=l1, SVM__C=1.5005, TREE__max_depth=5, TREE__min_samples_leaf=2, TREE__min_samples_split=5, final_estimator__learning_rate=0.2, final_estimator__max_depth=6;, score=nan total time=   0.0s\n",
      "[CV 4/5] END LR__penalty=l1, SVM__C=1.5005, TREE__max_depth=5, TREE__min_samples_leaf=2, TREE__min_samples_split=5, final_estimator__learning_rate=0.2, final_estimator__max_depth=6;, score=nan total time=   0.0s\n",
      "[CV 5/5] END LR__penalty=l1, SVM__C=1.5005, TREE__max_depth=5, TREE__min_samples_leaf=2, TREE__min_samples_split=5, final_estimator__learning_rate=0.2, final_estimator__max_depth=6;, score=nan total time=   0.0s\n",
      "[CV 1/5] END LR__penalty=l1, SVM__C=3.0, TREE__max_depth=6, TREE__min_samples_leaf=10, TREE__min_samples_split=2, final_estimator__learning_rate=0.1, final_estimator__max_depth=2;, score=nan total time=   0.0s\n",
      "[CV 2/5] END LR__penalty=l1, SVM__C=3.0, TREE__max_depth=6, TREE__min_samples_leaf=10, TREE__min_samples_split=2, final_estimator__learning_rate=0.1, final_estimator__max_depth=2;, score=nan total time=   0.0s\n",
      "[CV 3/5] END LR__penalty=l1, SVM__C=3.0, TREE__max_depth=6, TREE__min_samples_leaf=10, TREE__min_samples_split=2, final_estimator__learning_rate=0.1, final_estimator__max_depth=2;, score=nan total time=   0.0s\n",
      "[CV 4/5] END LR__penalty=l1, SVM__C=3.0, TREE__max_depth=6, TREE__min_samples_leaf=10, TREE__min_samples_split=2, final_estimator__learning_rate=0.1, final_estimator__max_depth=2;, score=nan total time=   0.0s\n",
      "[CV 5/5] END LR__penalty=l1, SVM__C=3.0, TREE__max_depth=6, TREE__min_samples_leaf=10, TREE__min_samples_split=2, final_estimator__learning_rate=0.1, final_estimator__max_depth=2;, score=nan total time=   0.0s\n",
      "[CV 1/5] END LR__penalty=l2, SVM__C=1.5005, TREE__max_depth=3, TREE__min_samples_leaf=10, TREE__min_samples_split=2, final_estimator__learning_rate=0.1, final_estimator__max_depth=3;, score=-0.189 total time=   0.5s\n",
      "[CV 2/5] END LR__penalty=l2, SVM__C=1.5005, TREE__max_depth=3, TREE__min_samples_leaf=10, TREE__min_samples_split=2, final_estimator__learning_rate=0.1, final_estimator__max_depth=3;, score=-0.092 total time=   0.5s\n",
      "[CV 3/5] END LR__penalty=l2, SVM__C=1.5005, TREE__max_depth=3, TREE__min_samples_leaf=10, TREE__min_samples_split=2, final_estimator__learning_rate=0.1, final_estimator__max_depth=3;, score=-0.057 total time=   0.5s\n",
      "[CV 4/5] END LR__penalty=l2, SVM__C=1.5005, TREE__max_depth=3, TREE__min_samples_leaf=10, TREE__min_samples_split=2, final_estimator__learning_rate=0.1, final_estimator__max_depth=3;, score=-0.182 total time=   0.5s\n",
      "[CV 5/5] END LR__penalty=l2, SVM__C=1.5005, TREE__max_depth=3, TREE__min_samples_leaf=10, TREE__min_samples_split=2, final_estimator__learning_rate=0.1, final_estimator__max_depth=3;, score=-0.239 total time=   0.5s\n",
      "[CV 1/5] END LR__penalty=l1, SVM__C=0.75075, TREE__max_depth=5, TREE__min_samples_leaf=7, TREE__min_samples_split=2, final_estimator__learning_rate=0.1, final_estimator__max_depth=6;, score=nan total time=   0.0s\n",
      "[CV 2/5] END LR__penalty=l1, SVM__C=0.75075, TREE__max_depth=5, TREE__min_samples_leaf=7, TREE__min_samples_split=2, final_estimator__learning_rate=0.1, final_estimator__max_depth=6;, score=nan total time=   0.0s\n",
      "[CV 3/5] END LR__penalty=l1, SVM__C=0.75075, TREE__max_depth=5, TREE__min_samples_leaf=7, TREE__min_samples_split=2, final_estimator__learning_rate=0.1, final_estimator__max_depth=6;, score=nan total time=   0.0s\n",
      "[CV 4/5] END LR__penalty=l1, SVM__C=0.75075, TREE__max_depth=5, TREE__min_samples_leaf=7, TREE__min_samples_split=2, final_estimator__learning_rate=0.1, final_estimator__max_depth=6;, score=nan total time=   0.0s\n",
      "[CV 5/5] END LR__penalty=l1, SVM__C=0.75075, TREE__max_depth=5, TREE__min_samples_leaf=7, TREE__min_samples_split=2, final_estimator__learning_rate=0.1, final_estimator__max_depth=6;, score=nan total time=   0.0s\n",
      "[CV 1/5] END LR__penalty=None, SVM__C=1.5005, TREE__max_depth=2, TREE__min_samples_leaf=5, TREE__min_samples_split=10, final_estimator__learning_rate=0.2, final_estimator__max_depth=5;, score=-0.482 total time=   0.6s\n",
      "[CV 2/5] END LR__penalty=None, SVM__C=1.5005, TREE__max_depth=2, TREE__min_samples_leaf=5, TREE__min_samples_split=10, final_estimator__learning_rate=0.2, final_estimator__max_depth=5;, score=-0.211 total time=   0.7s\n",
      "[CV 3/5] END LR__penalty=None, SVM__C=1.5005, TREE__max_depth=2, TREE__min_samples_leaf=5, TREE__min_samples_split=10, final_estimator__learning_rate=0.2, final_estimator__max_depth=5;, score=-0.121 total time=   0.6s\n",
      "[CV 4/5] END LR__penalty=None, SVM__C=1.5005, TREE__max_depth=2, TREE__min_samples_leaf=5, TREE__min_samples_split=10, final_estimator__learning_rate=0.2, final_estimator__max_depth=5;, score=-0.986 total time=   0.6s\n",
      "[CV 5/5] END LR__penalty=None, SVM__C=1.5005, TREE__max_depth=2, TREE__min_samples_leaf=5, TREE__min_samples_split=10, final_estimator__learning_rate=0.2, final_estimator__max_depth=5;, score=-0.540 total time=   0.6s\n",
      "[CV 1/5] END LR__penalty=None, SVM__C=0.001, TREE__max_depth=5, TREE__min_samples_leaf=1, TREE__min_samples_split=10, final_estimator__learning_rate=0.2, final_estimator__max_depth=3;, score=-0.264 total time=   0.4s\n",
      "[CV 2/5] END LR__penalty=None, SVM__C=0.001, TREE__max_depth=5, TREE__min_samples_leaf=1, TREE__min_samples_split=10, final_estimator__learning_rate=0.2, final_estimator__max_depth=3;, score=-0.137 total time=   0.4s\n"
     ]
    },
    {
     "name": "stdout",
     "output_type": "stream",
     "text": [
      "[CV 3/5] END LR__penalty=None, SVM__C=0.001, TREE__max_depth=5, TREE__min_samples_leaf=1, TREE__min_samples_split=10, final_estimator__learning_rate=0.2, final_estimator__max_depth=3;, score=-0.066 total time=   0.4s\n",
      "[CV 4/5] END LR__penalty=None, SVM__C=0.001, TREE__max_depth=5, TREE__min_samples_leaf=1, TREE__min_samples_split=10, final_estimator__learning_rate=0.2, final_estimator__max_depth=3;, score=-0.240 total time=   0.4s\n",
      "[CV 5/5] END LR__penalty=None, SVM__C=0.001, TREE__max_depth=5, TREE__min_samples_leaf=1, TREE__min_samples_split=10, final_estimator__learning_rate=0.2, final_estimator__max_depth=3;, score=-0.343 total time=   0.4s\n",
      "[CV 1/5] END LR__penalty=l1, SVM__C=0.001, TREE__max_depth=4, TREE__min_samples_leaf=7, TREE__min_samples_split=2, final_estimator__learning_rate=0.1, final_estimator__max_depth=6;, score=nan total time=   0.0s\n",
      "[CV 2/5] END LR__penalty=l1, SVM__C=0.001, TREE__max_depth=4, TREE__min_samples_leaf=7, TREE__min_samples_split=2, final_estimator__learning_rate=0.1, final_estimator__max_depth=6;, score=nan total time=   0.0s\n",
      "[CV 3/5] END LR__penalty=l1, SVM__C=0.001, TREE__max_depth=4, TREE__min_samples_leaf=7, TREE__min_samples_split=2, final_estimator__learning_rate=0.1, final_estimator__max_depth=6;, score=nan total time=   0.0s\n",
      "[CV 4/5] END LR__penalty=l1, SVM__C=0.001, TREE__max_depth=4, TREE__min_samples_leaf=7, TREE__min_samples_split=2, final_estimator__learning_rate=0.1, final_estimator__max_depth=6;, score=nan total time=   0.0s\n",
      "[CV 5/5] END LR__penalty=l1, SVM__C=0.001, TREE__max_depth=4, TREE__min_samples_leaf=7, TREE__min_samples_split=2, final_estimator__learning_rate=0.1, final_estimator__max_depth=6;, score=nan total time=   0.0s\n",
      "[CV 1/5] END LR__penalty=None, SVM__C=0.001, TREE__max_depth=5, TREE__min_samples_leaf=7, TREE__min_samples_split=2, final_estimator__learning_rate=0.2, final_estimator__max_depth=2;, score=-0.144 total time=   0.4s\n",
      "[CV 2/5] END LR__penalty=None, SVM__C=0.001, TREE__max_depth=5, TREE__min_samples_leaf=7, TREE__min_samples_split=2, final_estimator__learning_rate=0.2, final_estimator__max_depth=2;, score=-0.108 total time=   0.4s\n",
      "[CV 3/5] END LR__penalty=None, SVM__C=0.001, TREE__max_depth=5, TREE__min_samples_leaf=7, TREE__min_samples_split=2, final_estimator__learning_rate=0.2, final_estimator__max_depth=2;, score=-0.061 total time=   0.4s\n",
      "[CV 4/5] END LR__penalty=None, SVM__C=0.001, TREE__max_depth=5, TREE__min_samples_leaf=7, TREE__min_samples_split=2, final_estimator__learning_rate=0.2, final_estimator__max_depth=2;, score=-0.183 total time=   0.4s\n",
      "[CV 5/5] END LR__penalty=None, SVM__C=0.001, TREE__max_depth=5, TREE__min_samples_leaf=7, TREE__min_samples_split=2, final_estimator__learning_rate=0.2, final_estimator__max_depth=2;, score=-0.233 total time=   0.4s\n",
      "[CV 1/5] END LR__penalty=l2, SVM__C=3.0, TREE__max_depth=5, TREE__min_samples_leaf=5, TREE__min_samples_split=2, final_estimator__learning_rate=0.2, final_estimator__max_depth=4;, score=-0.334 total time=   0.6s\n",
      "[CV 2/5] END LR__penalty=l2, SVM__C=3.0, TREE__max_depth=5, TREE__min_samples_leaf=5, TREE__min_samples_split=2, final_estimator__learning_rate=0.2, final_estimator__max_depth=4;, score=-0.162 total time=   0.7s\n",
      "[CV 3/5] END LR__penalty=l2, SVM__C=3.0, TREE__max_depth=5, TREE__min_samples_leaf=5, TREE__min_samples_split=2, final_estimator__learning_rate=0.2, final_estimator__max_depth=4;, score=-0.083 total time=   0.6s\n",
      "[CV 4/5] END LR__penalty=l2, SVM__C=3.0, TREE__max_depth=5, TREE__min_samples_leaf=5, TREE__min_samples_split=2, final_estimator__learning_rate=0.2, final_estimator__max_depth=4;, score=-0.428 total time=   0.6s\n",
      "[CV 5/5] END LR__penalty=l2, SVM__C=3.0, TREE__max_depth=5, TREE__min_samples_leaf=5, TREE__min_samples_split=2, final_estimator__learning_rate=0.2, final_estimator__max_depth=4;, score=-0.421 total time=   0.5s\n"
     ]
    },
    {
     "name": "stderr",
     "output_type": "stream",
     "text": [
      "/home/dai/anaconda3/lib/python3.11/site-packages/sklearn/model_selection/_validation.py:425: FitFailedWarning: \n",
      "90 fits failed out of a total of 250.\n",
      "The score on these train-test partitions for these parameters will be set to nan.\n",
      "If these failures are not expected, you can try to debug them by setting error_score='raise'.\n",
      "\n",
      "Below are more details about the failures:\n",
      "--------------------------------------------------------------------------------\n",
      "90 fits failed with the following error:\n",
      "Traceback (most recent call last):\n",
      "  File \"/home/dai/anaconda3/lib/python3.11/site-packages/sklearn/model_selection/_validation.py\", line 729, in _fit_and_score\n",
      "    estimator.fit(X_train, y_train, **fit_params)\n",
      "  File \"/home/dai/anaconda3/lib/python3.11/site-packages/sklearn/ensemble/_stacking.py\", line 658, in fit\n",
      "    return super().fit(X, y_encoded, sample_weight)\n",
      "           ^^^^^^^^^^^^^^^^^^^^^^^^^^^^^^^^^^^^^^^^\n",
      "  File \"/home/dai/anaconda3/lib/python3.11/site-packages/sklearn/base.py\", line 1152, in wrapper\n",
      "    return fit_method(estimator, *args, **kwargs)\n",
      "           ^^^^^^^^^^^^^^^^^^^^^^^^^^^^^^^^^^^^^^\n",
      "  File \"/home/dai/anaconda3/lib/python3.11/site-packages/sklearn/ensemble/_stacking.py\", line 206, in fit\n",
      "    self.estimators_ = Parallel(n_jobs=self.n_jobs)(\n",
      "                       ^^^^^^^^^^^^^^^^^^^^^^^^^^^^^\n",
      "  File \"/home/dai/anaconda3/lib/python3.11/site-packages/sklearn/utils/parallel.py\", line 65, in __call__\n",
      "    return super().__call__(iterable_with_config)\n",
      "           ^^^^^^^^^^^^^^^^^^^^^^^^^^^^^^^^^^^^^^\n",
      "  File \"/home/dai/anaconda3/lib/python3.11/site-packages/joblib/parallel.py\", line 1085, in __call__\n",
      "    if self.dispatch_one_batch(iterator):\n",
      "       ^^^^^^^^^^^^^^^^^^^^^^^^^^^^^^^^^\n",
      "  File \"/home/dai/anaconda3/lib/python3.11/site-packages/joblib/parallel.py\", line 901, in dispatch_one_batch\n",
      "    self._dispatch(tasks)\n",
      "  File \"/home/dai/anaconda3/lib/python3.11/site-packages/joblib/parallel.py\", line 819, in _dispatch\n",
      "    job = self._backend.apply_async(batch, callback=cb)\n",
      "          ^^^^^^^^^^^^^^^^^^^^^^^^^^^^^^^^^^^^^^^^^^^^^\n",
      "  File \"/home/dai/anaconda3/lib/python3.11/site-packages/joblib/_parallel_backends.py\", line 208, in apply_async\n",
      "    result = ImmediateResult(func)\n",
      "             ^^^^^^^^^^^^^^^^^^^^^\n",
      "  File \"/home/dai/anaconda3/lib/python3.11/site-packages/joblib/_parallel_backends.py\", line 597, in __init__\n",
      "    self.results = batch()\n",
      "                   ^^^^^^^\n",
      "  File \"/home/dai/anaconda3/lib/python3.11/site-packages/joblib/parallel.py\", line 288, in __call__\n",
      "    return [func(*args, **kwargs)\n",
      "           ^^^^^^^^^^^^^^^^^^^^^^\n",
      "  File \"/home/dai/anaconda3/lib/python3.11/site-packages/joblib/parallel.py\", line 288, in <listcomp>\n",
      "    return [func(*args, **kwargs)\n",
      "            ^^^^^^^^^^^^^^^^^^^^^\n",
      "  File \"/home/dai/anaconda3/lib/python3.11/site-packages/sklearn/utils/parallel.py\", line 127, in __call__\n",
      "    return self.function(*args, **kwargs)\n",
      "           ^^^^^^^^^^^^^^^^^^^^^^^^^^^^^^\n",
      "  File \"/home/dai/anaconda3/lib/python3.11/site-packages/sklearn/ensemble/_base.py\", line 36, in _fit_single_estimator\n",
      "    estimator.fit(X, y)\n",
      "  File \"/home/dai/anaconda3/lib/python3.11/site-packages/sklearn/base.py\", line 1152, in wrapper\n",
      "    return fit_method(estimator, *args, **kwargs)\n",
      "           ^^^^^^^^^^^^^^^^^^^^^^^^^^^^^^^^^^^^^^\n",
      "  File \"/home/dai/anaconda3/lib/python3.11/site-packages/sklearn/linear_model/_logistic.py\", line 1169, in fit\n",
      "    solver = _check_solver(self.solver, self.penalty, self.dual)\n",
      "             ^^^^^^^^^^^^^^^^^^^^^^^^^^^^^^^^^^^^^^^^^^^^^^^^^^^\n",
      "  File \"/home/dai/anaconda3/lib/python3.11/site-packages/sklearn/linear_model/_logistic.py\", line 56, in _check_solver\n",
      "    raise ValueError(\n",
      "ValueError: Solver lbfgs supports only 'l2' or 'none' penalties, got l1 penalty.\n",
      "\n",
      "  warnings.warn(some_fits_failed_message, FitFailedWarning)\n",
      "/home/dai/anaconda3/lib/python3.11/site-packages/sklearn/model_selection/_search.py:979: UserWarning: One or more of the test scores are non-finite: [-0.18175405 -0.19176208         nan         nan -0.20455111         nan\n",
      " -0.28258873         nan -0.27181597 -0.5573722          nan         nan\n",
      " -0.18869326 -0.29892473 -0.12341389 -0.18759933         nan -0.42671025\n",
      " -0.152378           nan         nan         nan -0.359056   -0.23166148\n",
      " -0.30534987         nan -0.20076328 -0.12436538         nan -0.37654995\n",
      "         nan -0.65777609 -0.12849174 -0.78620671         nan -0.15578475\n",
      " -0.40167402 -0.36344389 -0.2734768  -0.30091593 -0.3436561          nan\n",
      "         nan -0.15174293         nan -0.46830766 -0.20987579         nan\n",
      " -0.14570901 -0.28558369]\n",
      "  warnings.warn(\n"
     ]
    },
    {
     "data": {
      "text/html": [
       "<style>#sk-container-id-3 {color: black;}#sk-container-id-3 pre{padding: 0;}#sk-container-id-3 div.sk-toggleable {background-color: white;}#sk-container-id-3 label.sk-toggleable__label {cursor: pointer;display: block;width: 100%;margin-bottom: 0;padding: 0.3em;box-sizing: border-box;text-align: center;}#sk-container-id-3 label.sk-toggleable__label-arrow:before {content: \"▸\";float: left;margin-right: 0.25em;color: #696969;}#sk-container-id-3 label.sk-toggleable__label-arrow:hover:before {color: black;}#sk-container-id-3 div.sk-estimator:hover label.sk-toggleable__label-arrow:before {color: black;}#sk-container-id-3 div.sk-toggleable__content {max-height: 0;max-width: 0;overflow: hidden;text-align: left;background-color: #f0f8ff;}#sk-container-id-3 div.sk-toggleable__content pre {margin: 0.2em;color: black;border-radius: 0.25em;background-color: #f0f8ff;}#sk-container-id-3 input.sk-toggleable__control:checked~div.sk-toggleable__content {max-height: 200px;max-width: 100%;overflow: auto;}#sk-container-id-3 input.sk-toggleable__control:checked~label.sk-toggleable__label-arrow:before {content: \"▾\";}#sk-container-id-3 div.sk-estimator input.sk-toggleable__control:checked~label.sk-toggleable__label {background-color: #d4ebff;}#sk-container-id-3 div.sk-label input.sk-toggleable__control:checked~label.sk-toggleable__label {background-color: #d4ebff;}#sk-container-id-3 input.sk-hidden--visually {border: 0;clip: rect(1px 1px 1px 1px);clip: rect(1px, 1px, 1px, 1px);height: 1px;margin: -1px;overflow: hidden;padding: 0;position: absolute;width: 1px;}#sk-container-id-3 div.sk-estimator {font-family: monospace;background-color: #f0f8ff;border: 1px dotted black;border-radius: 0.25em;box-sizing: border-box;margin-bottom: 0.5em;}#sk-container-id-3 div.sk-estimator:hover {background-color: #d4ebff;}#sk-container-id-3 div.sk-parallel-item::after {content: \"\";width: 100%;border-bottom: 1px solid gray;flex-grow: 1;}#sk-container-id-3 div.sk-label:hover label.sk-toggleable__label {background-color: #d4ebff;}#sk-container-id-3 div.sk-serial::before {content: \"\";position: absolute;border-left: 1px solid gray;box-sizing: border-box;top: 0;bottom: 0;left: 50%;z-index: 0;}#sk-container-id-3 div.sk-serial {display: flex;flex-direction: column;align-items: center;background-color: white;padding-right: 0.2em;padding-left: 0.2em;position: relative;}#sk-container-id-3 div.sk-item {position: relative;z-index: 1;}#sk-container-id-3 div.sk-parallel {display: flex;align-items: stretch;justify-content: center;background-color: white;position: relative;}#sk-container-id-3 div.sk-item::before, #sk-container-id-3 div.sk-parallel-item::before {content: \"\";position: absolute;border-left: 1px solid gray;box-sizing: border-box;top: 0;bottom: 0;left: 50%;z-index: -1;}#sk-container-id-3 div.sk-parallel-item {display: flex;flex-direction: column;z-index: 1;position: relative;background-color: white;}#sk-container-id-3 div.sk-parallel-item:first-child::after {align-self: flex-end;width: 50%;}#sk-container-id-3 div.sk-parallel-item:last-child::after {align-self: flex-start;width: 50%;}#sk-container-id-3 div.sk-parallel-item:only-child::after {width: 0;}#sk-container-id-3 div.sk-dashed-wrapped {border: 1px dashed gray;margin: 0 0.4em 0.5em 0.4em;box-sizing: border-box;padding-bottom: 0.4em;background-color: white;}#sk-container-id-3 div.sk-label label {font-family: monospace;font-weight: bold;display: inline-block;line-height: 1.2em;}#sk-container-id-3 div.sk-label-container {text-align: center;}#sk-container-id-3 div.sk-container {/* jupyter's `normalize.less` sets `[hidden] { display: none; }` but bootstrap.min.css set `[hidden] { display: none !important; }` so we also need the `!important` here to be able to override the default hidden behavior on the sphinx rendered scikit-learn.org. See: https://github.com/scikit-learn/scikit-learn/issues/21755 */display: inline-block !important;position: relative;}#sk-container-id-3 div.sk-text-repr-fallback {display: none;}</style><div id=\"sk-container-id-3\" class=\"sk-top-container\"><div class=\"sk-text-repr-fallback\"><pre>RandomizedSearchCV(cv=StratifiedKFold(n_splits=5, random_state=23, shuffle=True),\n",
       "                   estimator=StackingClassifier(estimators=[(&#x27;LR&#x27;,\n",
       "                                                             LogisticRegression()),\n",
       "                                                            (&#x27;SVM&#x27;,\n",
       "                                                             SVC(kernel=&#x27;linear&#x27;,\n",
       "                                                                 probability=True,\n",
       "                                                                 random_state=23)),\n",
       "                                                            (&#x27;TREE&#x27;,\n",
       "                                                             DecisionTreeClassifier(random_state=23))],\n",
       "                                                final_estimator=GradientBoostingClassifier(random_state=23),\n",
       "                                                passthrough=True),\n",
       "                   n_iter=50,\n",
       "                   pa...tions={&#x27;LR__penalty&#x27;: [&#x27;l1&#x27;, &#x27;l2&#x27;, None],\n",
       "                                        &#x27;SVM__C&#x27;: array([1.00000e-03, 7.50750e-01, 1.50050e+00, 2.25025e+00, 3.00000e+00]),\n",
       "                                        &#x27;TREE__max_depth&#x27;: [2, 3, 4, 5, 6,\n",
       "                                                            None],\n",
       "                                        &#x27;TREE__min_samples_leaf&#x27;: [1, 2, 5, 7,\n",
       "                                                                   10, 15],\n",
       "                                        &#x27;TREE__min_samples_split&#x27;: [2, 5, 10],\n",
       "                                        &#x27;final_estimator__learning_rate&#x27;: [0.1,\n",
       "                                                                           0.2],\n",
       "                                        &#x27;final_estimator__max_depth&#x27;: [2, 3, 4,\n",
       "                                                                       5, 6,\n",
       "                                                                       None]},\n",
       "                   scoring=&#x27;neg_log_loss&#x27;, verbose=3)</pre><b>In a Jupyter environment, please rerun this cell to show the HTML representation or trust the notebook. <br />On GitHub, the HTML representation is unable to render, please try loading this page with nbviewer.org.</b></div><div class=\"sk-container\" hidden><div class=\"sk-item sk-dashed-wrapped\"><div class=\"sk-label-container\"><div class=\"sk-label sk-toggleable\"><input class=\"sk-toggleable__control sk-hidden--visually\" id=\"sk-estimator-id-11\" type=\"checkbox\" ><label for=\"sk-estimator-id-11\" class=\"sk-toggleable__label sk-toggleable__label-arrow\">RandomizedSearchCV</label><div class=\"sk-toggleable__content\"><pre>RandomizedSearchCV(cv=StratifiedKFold(n_splits=5, random_state=23, shuffle=True),\n",
       "                   estimator=StackingClassifier(estimators=[(&#x27;LR&#x27;,\n",
       "                                                             LogisticRegression()),\n",
       "                                                            (&#x27;SVM&#x27;,\n",
       "                                                             SVC(kernel=&#x27;linear&#x27;,\n",
       "                                                                 probability=True,\n",
       "                                                                 random_state=23)),\n",
       "                                                            (&#x27;TREE&#x27;,\n",
       "                                                             DecisionTreeClassifier(random_state=23))],\n",
       "                                                final_estimator=GradientBoostingClassifier(random_state=23),\n",
       "                                                passthrough=True),\n",
       "                   n_iter=50,\n",
       "                   pa...tions={&#x27;LR__penalty&#x27;: [&#x27;l1&#x27;, &#x27;l2&#x27;, None],\n",
       "                                        &#x27;SVM__C&#x27;: array([1.00000e-03, 7.50750e-01, 1.50050e+00, 2.25025e+00, 3.00000e+00]),\n",
       "                                        &#x27;TREE__max_depth&#x27;: [2, 3, 4, 5, 6,\n",
       "                                                            None],\n",
       "                                        &#x27;TREE__min_samples_leaf&#x27;: [1, 2, 5, 7,\n",
       "                                                                   10, 15],\n",
       "                                        &#x27;TREE__min_samples_split&#x27;: [2, 5, 10],\n",
       "                                        &#x27;final_estimator__learning_rate&#x27;: [0.1,\n",
       "                                                                           0.2],\n",
       "                                        &#x27;final_estimator__max_depth&#x27;: [2, 3, 4,\n",
       "                                                                       5, 6,\n",
       "                                                                       None]},\n",
       "                   scoring=&#x27;neg_log_loss&#x27;, verbose=3)</pre></div></div></div><div class=\"sk-parallel\"><div class=\"sk-parallel-item\"><div class=\"sk-item\"><div class=\"sk-label-container\"><div class=\"sk-label sk-toggleable\"><input class=\"sk-toggleable__control sk-hidden--visually\" id=\"sk-estimator-id-12\" type=\"checkbox\" ><label for=\"sk-estimator-id-12\" class=\"sk-toggleable__label sk-toggleable__label-arrow\">estimator: StackingClassifier</label><div class=\"sk-toggleable__content\"><pre>StackingClassifier(estimators=[(&#x27;LR&#x27;, LogisticRegression()),\n",
       "                               (&#x27;SVM&#x27;,\n",
       "                                SVC(kernel=&#x27;linear&#x27;, probability=True,\n",
       "                                    random_state=23)),\n",
       "                               (&#x27;TREE&#x27;,\n",
       "                                DecisionTreeClassifier(random_state=23))],\n",
       "                   final_estimator=GradientBoostingClassifier(random_state=23),\n",
       "                   passthrough=True)</pre></div></div></div><div class=\"sk-serial\"><div class=\"sk-item\"><div class=\"sk-serial\"><div class=\"sk-item\"><div class=\"sk-parallel\"><div class=\"sk-parallel-item\"><div class=\"sk-item\"><div class=\"sk-label-container\"><div class=\"sk-label sk-toggleable\"><label>LR</label></div></div><div class=\"sk-serial\"><div class=\"sk-item\"><div class=\"sk-estimator sk-toggleable\"><input class=\"sk-toggleable__control sk-hidden--visually\" id=\"sk-estimator-id-13\" type=\"checkbox\" ><label for=\"sk-estimator-id-13\" class=\"sk-toggleable__label sk-toggleable__label-arrow\">LogisticRegression</label><div class=\"sk-toggleable__content\"><pre>LogisticRegression()</pre></div></div></div></div></div></div><div class=\"sk-parallel-item\"><div class=\"sk-item\"><div class=\"sk-label-container\"><div class=\"sk-label sk-toggleable\"><label>SVM</label></div></div><div class=\"sk-serial\"><div class=\"sk-item\"><div class=\"sk-estimator sk-toggleable\"><input class=\"sk-toggleable__control sk-hidden--visually\" id=\"sk-estimator-id-14\" type=\"checkbox\" ><label for=\"sk-estimator-id-14\" class=\"sk-toggleable__label sk-toggleable__label-arrow\">SVC</label><div class=\"sk-toggleable__content\"><pre>SVC(kernel=&#x27;linear&#x27;, probability=True, random_state=23)</pre></div></div></div></div></div></div><div class=\"sk-parallel-item\"><div class=\"sk-item\"><div class=\"sk-label-container\"><div class=\"sk-label sk-toggleable\"><label>TREE</label></div></div><div class=\"sk-serial\"><div class=\"sk-item\"><div class=\"sk-estimator sk-toggleable\"><input class=\"sk-toggleable__control sk-hidden--visually\" id=\"sk-estimator-id-15\" type=\"checkbox\" ><label for=\"sk-estimator-id-15\" class=\"sk-toggleable__label sk-toggleable__label-arrow\">DecisionTreeClassifier</label><div class=\"sk-toggleable__content\"><pre>DecisionTreeClassifier(random_state=23)</pre></div></div></div></div></div></div></div></div><div class=\"sk-item\"><div class=\"sk-parallel\"><div class=\"sk-parallel-item\"><div class=\"sk-item\"><div class=\"sk-label-container\"><div class=\"sk-label sk-toggleable\"><label>final_estimator</label></div></div><div class=\"sk-serial\"><div class=\"sk-item\"><div class=\"sk-estimator sk-toggleable\"><input class=\"sk-toggleable__control sk-hidden--visually\" id=\"sk-estimator-id-16\" type=\"checkbox\" ><label for=\"sk-estimator-id-16\" class=\"sk-toggleable__label sk-toggleable__label-arrow\">GradientBoostingClassifier</label><div class=\"sk-toggleable__content\"><pre>GradientBoostingClassifier(random_state=23)</pre></div></div></div></div></div></div></div></div></div></div></div></div></div></div></div></div></div>"
      ],
      "text/plain": [
       "RandomizedSearchCV(cv=StratifiedKFold(n_splits=5, random_state=23, shuffle=True),\n",
       "                   estimator=StackingClassifier(estimators=[('LR',\n",
       "                                                             LogisticRegression()),\n",
       "                                                            ('SVM',\n",
       "                                                             SVC(kernel='linear',\n",
       "                                                                 probability=True,\n",
       "                                                                 random_state=23)),\n",
       "                                                            ('TREE',\n",
       "                                                             DecisionTreeClassifier(random_state=23))],\n",
       "                                                final_estimator=GradientBoostingClassifier(random_state=23),\n",
       "                                                passthrough=True),\n",
       "                   n_iter=50,\n",
       "                   pa...tions={'LR__penalty': ['l1', 'l2', None],\n",
       "                                        'SVM__C': array([1.00000e-03, 7.50750e-01, 1.50050e+00, 2.25025e+00, 3.00000e+00]),\n",
       "                                        'TREE__max_depth': [2, 3, 4, 5, 6,\n",
       "                                                            None],\n",
       "                                        'TREE__min_samples_leaf': [1, 2, 5, 7,\n",
       "                                                                   10, 15],\n",
       "                                        'TREE__min_samples_split': [2, 5, 10],\n",
       "                                        'final_estimator__learning_rate': [0.1,\n",
       "                                                                           0.2],\n",
       "                                        'final_estimator__max_depth': [2, 3, 4,\n",
       "                                                                       5, 6,\n",
       "                                                                       None]},\n",
       "                   scoring='neg_log_loss', verbose=3)"
      ]
     },
     "execution_count": 22,
     "metadata": {},
     "output_type": "execute_result"
    }
   ],
   "source": [
    "rgcv_stack.fit(X,y)"
   ]
  },
  {
   "cell_type": "code",
   "execution_count": 23,
   "id": "3d0515a0",
   "metadata": {},
   "outputs": [
    {
     "data": {
      "text/plain": [
       "{'final_estimator__max_depth': 2,\n",
       " 'final_estimator__learning_rate': 0.1,\n",
       " 'TREE__min_samples_split': 10,\n",
       " 'TREE__min_samples_leaf': 1,\n",
       " 'TREE__max_depth': 6,\n",
       " 'SVM__C': 3.0,\n",
       " 'LR__penalty': None}"
      ]
     },
     "execution_count": 23,
     "metadata": {},
     "output_type": "execute_result"
    }
   ],
   "source": [
    "rgcv_stack.best_params_"
   ]
  },
  {
   "cell_type": "code",
   "execution_count": 24,
   "id": "8cd8521a",
   "metadata": {},
   "outputs": [
    {
     "data": {
      "text/plain": [
       "-0.12341388732490091"
      ]
     },
     "execution_count": 24,
     "metadata": {},
     "output_type": "execute_result"
    }
   ],
   "source": [
    "rgcv_stack.best_score_"
   ]
  },
  {
   "cell_type": "code",
   "execution_count": null,
   "id": "2769cf7c",
   "metadata": {},
   "outputs": [],
   "source": []
  }
 ],
 "metadata": {
  "kernelspec": {
   "display_name": "Python 3 (ipykernel)",
   "language": "python",
   "name": "python3"
  },
  "language_info": {
   "codemirror_mode": {
    "name": "ipython",
    "version": 3
   },
   "file_extension": ".py",
   "mimetype": "text/x-python",
   "name": "python",
   "nbconvert_exporter": "python",
   "pygments_lexer": "ipython3",
   "version": "3.11.5"
  }
 },
 "nbformat": 4,
 "nbformat_minor": 5
}
