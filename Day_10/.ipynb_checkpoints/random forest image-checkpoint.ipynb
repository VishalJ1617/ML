{
 "cells": [
  {
   "cell_type": "code",
   "execution_count": 1,
   "id": "cb1a170b",
   "metadata": {},
   "outputs": [],
   "source": [
    "import pandas as pd\n",
    "from sklearn.svm import SVC\n",
    "from sklearn.ensemble import RandomForestClassifier\n",
    "from sklearn.model_selection import StratifiedKFold,GridSearchCV\n",
    "import numpy as np\n",
    "from sklearn.preprocessing import LabelEncoder\n",
    "from sklearn.metrics import accuracy_score,log_loss \n",
    "import matplotlib.pyplot as plt"
   ]
  },
  {
   "cell_type": "code",
   "execution_count": 2,
   "id": "68660103",
   "metadata": {},
   "outputs": [
    {
     "data": {
      "text/html": [
       "<div>\n",
       "<style scoped>\n",
       "    .dataframe tbody tr th:only-of-type {\n",
       "        vertical-align: middle;\n",
       "    }\n",
       "\n",
       "    .dataframe tbody tr th {\n",
       "        vertical-align: top;\n",
       "    }\n",
       "\n",
       "    .dataframe thead th {\n",
       "        text-align: right;\n",
       "    }\n",
       "</style>\n",
       "<table border=\"1\" class=\"dataframe\">\n",
       "  <thead>\n",
       "    <tr style=\"text-align: right;\">\n",
       "      <th></th>\n",
       "      <th>Class</th>\n",
       "      <th>region.centroid.col</th>\n",
       "      <th>region.centroid.row</th>\n",
       "      <th>region.pixel.count</th>\n",
       "      <th>short.line.density.5</th>\n",
       "      <th>short.line.density.2</th>\n",
       "      <th>vedge.mean</th>\n",
       "      <th>vegde.sd</th>\n",
       "      <th>hedge.mean</th>\n",
       "      <th>hedge.sd</th>\n",
       "      <th>intensity.mean</th>\n",
       "      <th>rawred.mean</th>\n",
       "      <th>rawblue.mean</th>\n",
       "      <th>rawgreen.mean</th>\n",
       "      <th>exred.mean</th>\n",
       "      <th>exblue.mean</th>\n",
       "      <th>exgreen.mean</th>\n",
       "      <th>value.mean</th>\n",
       "      <th>saturation.mean</th>\n",
       "      <th>hue-mean</th>\n",
       "    </tr>\n",
       "  </thead>\n",
       "  <tbody>\n",
       "    <tr>\n",
       "      <th>0</th>\n",
       "      <td>BRICKFACE</td>\n",
       "      <td>188</td>\n",
       "      <td>133</td>\n",
       "      <td>9</td>\n",
       "      <td>0.000000</td>\n",
       "      <td>0.0</td>\n",
       "      <td>0.333333</td>\n",
       "      <td>0.266667</td>\n",
       "      <td>0.500000</td>\n",
       "      <td>0.077778</td>\n",
       "      <td>6.666666</td>\n",
       "      <td>8.333334</td>\n",
       "      <td>7.777778</td>\n",
       "      <td>3.888889</td>\n",
       "      <td>5.000000</td>\n",
       "      <td>3.333333</td>\n",
       "      <td>-8.333333</td>\n",
       "      <td>8.444445</td>\n",
       "      <td>0.538580</td>\n",
       "      <td>-0.924817</td>\n",
       "    </tr>\n",
       "    <tr>\n",
       "      <th>1</th>\n",
       "      <td>BRICKFACE</td>\n",
       "      <td>105</td>\n",
       "      <td>139</td>\n",
       "      <td>9</td>\n",
       "      <td>0.000000</td>\n",
       "      <td>0.0</td>\n",
       "      <td>0.277778</td>\n",
       "      <td>0.107407</td>\n",
       "      <td>0.833333</td>\n",
       "      <td>0.522222</td>\n",
       "      <td>6.111111</td>\n",
       "      <td>7.555555</td>\n",
       "      <td>7.222222</td>\n",
       "      <td>3.555556</td>\n",
       "      <td>4.333334</td>\n",
       "      <td>3.333333</td>\n",
       "      <td>-7.666666</td>\n",
       "      <td>7.555555</td>\n",
       "      <td>0.532628</td>\n",
       "      <td>-0.965946</td>\n",
       "    </tr>\n",
       "    <tr>\n",
       "      <th>2</th>\n",
       "      <td>BRICKFACE</td>\n",
       "      <td>34</td>\n",
       "      <td>137</td>\n",
       "      <td>9</td>\n",
       "      <td>0.000000</td>\n",
       "      <td>0.0</td>\n",
       "      <td>0.500000</td>\n",
       "      <td>0.166667</td>\n",
       "      <td>1.111111</td>\n",
       "      <td>0.474074</td>\n",
       "      <td>5.851852</td>\n",
       "      <td>7.777778</td>\n",
       "      <td>6.444445</td>\n",
       "      <td>3.333333</td>\n",
       "      <td>5.777778</td>\n",
       "      <td>1.777778</td>\n",
       "      <td>-7.555555</td>\n",
       "      <td>7.777778</td>\n",
       "      <td>0.573633</td>\n",
       "      <td>-0.744272</td>\n",
       "    </tr>\n",
       "    <tr>\n",
       "      <th>3</th>\n",
       "      <td>BRICKFACE</td>\n",
       "      <td>39</td>\n",
       "      <td>111</td>\n",
       "      <td>9</td>\n",
       "      <td>0.000000</td>\n",
       "      <td>0.0</td>\n",
       "      <td>0.722222</td>\n",
       "      <td>0.374074</td>\n",
       "      <td>0.888889</td>\n",
       "      <td>0.429629</td>\n",
       "      <td>6.037037</td>\n",
       "      <td>7.000000</td>\n",
       "      <td>7.666666</td>\n",
       "      <td>3.444444</td>\n",
       "      <td>2.888889</td>\n",
       "      <td>4.888889</td>\n",
       "      <td>-7.777778</td>\n",
       "      <td>7.888889</td>\n",
       "      <td>0.562919</td>\n",
       "      <td>-1.175773</td>\n",
       "    </tr>\n",
       "    <tr>\n",
       "      <th>4</th>\n",
       "      <td>BRICKFACE</td>\n",
       "      <td>16</td>\n",
       "      <td>128</td>\n",
       "      <td>9</td>\n",
       "      <td>0.000000</td>\n",
       "      <td>0.0</td>\n",
       "      <td>0.500000</td>\n",
       "      <td>0.077778</td>\n",
       "      <td>0.666667</td>\n",
       "      <td>0.311111</td>\n",
       "      <td>5.555555</td>\n",
       "      <td>6.888889</td>\n",
       "      <td>6.666666</td>\n",
       "      <td>3.111111</td>\n",
       "      <td>4.000000</td>\n",
       "      <td>3.333333</td>\n",
       "      <td>-7.333334</td>\n",
       "      <td>7.111111</td>\n",
       "      <td>0.561508</td>\n",
       "      <td>-0.985811</td>\n",
       "    </tr>\n",
       "    <tr>\n",
       "      <th>...</th>\n",
       "      <td>...</td>\n",
       "      <td>...</td>\n",
       "      <td>...</td>\n",
       "      <td>...</td>\n",
       "      <td>...</td>\n",
       "      <td>...</td>\n",
       "      <td>...</td>\n",
       "      <td>...</td>\n",
       "      <td>...</td>\n",
       "      <td>...</td>\n",
       "      <td>...</td>\n",
       "      <td>...</td>\n",
       "      <td>...</td>\n",
       "      <td>...</td>\n",
       "      <td>...</td>\n",
       "      <td>...</td>\n",
       "      <td>...</td>\n",
       "      <td>...</td>\n",
       "      <td>...</td>\n",
       "      <td>...</td>\n",
       "    </tr>\n",
       "    <tr>\n",
       "      <th>204</th>\n",
       "      <td>GRASS</td>\n",
       "      <td>36</td>\n",
       "      <td>243</td>\n",
       "      <td>9</td>\n",
       "      <td>0.111111</td>\n",
       "      <td>0.0</td>\n",
       "      <td>1.888889</td>\n",
       "      <td>1.851851</td>\n",
       "      <td>2.000000</td>\n",
       "      <td>0.711110</td>\n",
       "      <td>13.333333</td>\n",
       "      <td>9.888889</td>\n",
       "      <td>12.111111</td>\n",
       "      <td>18.000000</td>\n",
       "      <td>-10.333333</td>\n",
       "      <td>-3.666667</td>\n",
       "      <td>14.000000</td>\n",
       "      <td>18.000000</td>\n",
       "      <td>0.452229</td>\n",
       "      <td>2.368311</td>\n",
       "    </tr>\n",
       "    <tr>\n",
       "      <th>205</th>\n",
       "      <td>GRASS</td>\n",
       "      <td>186</td>\n",
       "      <td>218</td>\n",
       "      <td>9</td>\n",
       "      <td>0.000000</td>\n",
       "      <td>0.0</td>\n",
       "      <td>1.166667</td>\n",
       "      <td>0.744444</td>\n",
       "      <td>1.166667</td>\n",
       "      <td>0.655555</td>\n",
       "      <td>13.703704</td>\n",
       "      <td>10.666667</td>\n",
       "      <td>12.666667</td>\n",
       "      <td>17.777779</td>\n",
       "      <td>-9.111111</td>\n",
       "      <td>-3.111111</td>\n",
       "      <td>12.222222</td>\n",
       "      <td>17.777779</td>\n",
       "      <td>0.401347</td>\n",
       "      <td>2.382684</td>\n",
       "    </tr>\n",
       "    <tr>\n",
       "      <th>206</th>\n",
       "      <td>GRASS</td>\n",
       "      <td>197</td>\n",
       "      <td>236</td>\n",
       "      <td>9</td>\n",
       "      <td>0.000000</td>\n",
       "      <td>0.0</td>\n",
       "      <td>2.444444</td>\n",
       "      <td>6.829628</td>\n",
       "      <td>3.333333</td>\n",
       "      <td>7.599998</td>\n",
       "      <td>16.074074</td>\n",
       "      <td>13.111111</td>\n",
       "      <td>16.666668</td>\n",
       "      <td>18.444445</td>\n",
       "      <td>-8.888889</td>\n",
       "      <td>1.777778</td>\n",
       "      <td>7.111111</td>\n",
       "      <td>18.555555</td>\n",
       "      <td>0.292729</td>\n",
       "      <td>2.789800</td>\n",
       "    </tr>\n",
       "    <tr>\n",
       "      <th>207</th>\n",
       "      <td>GRASS</td>\n",
       "      <td>208</td>\n",
       "      <td>240</td>\n",
       "      <td>9</td>\n",
       "      <td>0.111111</td>\n",
       "      <td>0.0</td>\n",
       "      <td>1.055556</td>\n",
       "      <td>0.862963</td>\n",
       "      <td>2.444444</td>\n",
       "      <td>5.007407</td>\n",
       "      <td>14.148149</td>\n",
       "      <td>10.888889</td>\n",
       "      <td>13.000000</td>\n",
       "      <td>18.555555</td>\n",
       "      <td>-9.777778</td>\n",
       "      <td>-3.444444</td>\n",
       "      <td>13.222222</td>\n",
       "      <td>18.555555</td>\n",
       "      <td>0.421621</td>\n",
       "      <td>2.392487</td>\n",
       "    </tr>\n",
       "    <tr>\n",
       "      <th>208</th>\n",
       "      <td>GRASS</td>\n",
       "      <td>223</td>\n",
       "      <td>185</td>\n",
       "      <td>9</td>\n",
       "      <td>0.000000</td>\n",
       "      <td>0.0</td>\n",
       "      <td>0.500000</td>\n",
       "      <td>0.349603</td>\n",
       "      <td>2.388889</td>\n",
       "      <td>2.080776</td>\n",
       "      <td>12.962963</td>\n",
       "      <td>11.555555</td>\n",
       "      <td>9.777778</td>\n",
       "      <td>17.555555</td>\n",
       "      <td>-4.222222</td>\n",
       "      <td>-9.555555</td>\n",
       "      <td>13.777778</td>\n",
       "      <td>17.555555</td>\n",
       "      <td>0.445418</td>\n",
       "      <td>1.838850</td>\n",
       "    </tr>\n",
       "  </tbody>\n",
       "</table>\n",
       "<p>209 rows × 20 columns</p>\n",
       "</div>"
      ],
      "text/plain": [
       "         Class  region.centroid.col  region.centroid.row  region.pixel.count  \\\n",
       "0    BRICKFACE                  188                  133                   9   \n",
       "1    BRICKFACE                  105                  139                   9   \n",
       "2    BRICKFACE                   34                  137                   9   \n",
       "3    BRICKFACE                   39                  111                   9   \n",
       "4    BRICKFACE                   16                  128                   9   \n",
       "..         ...                  ...                  ...                 ...   \n",
       "204      GRASS                   36                  243                   9   \n",
       "205      GRASS                  186                  218                   9   \n",
       "206      GRASS                  197                  236                   9   \n",
       "207      GRASS                  208                  240                   9   \n",
       "208      GRASS                  223                  185                   9   \n",
       "\n",
       "     short.line.density.5  short.line.density.2  vedge.mean  vegde.sd  \\\n",
       "0                0.000000                   0.0    0.333333  0.266667   \n",
       "1                0.000000                   0.0    0.277778  0.107407   \n",
       "2                0.000000                   0.0    0.500000  0.166667   \n",
       "3                0.000000                   0.0    0.722222  0.374074   \n",
       "4                0.000000                   0.0    0.500000  0.077778   \n",
       "..                    ...                   ...         ...       ...   \n",
       "204              0.111111                   0.0    1.888889  1.851851   \n",
       "205              0.000000                   0.0    1.166667  0.744444   \n",
       "206              0.000000                   0.0    2.444444  6.829628   \n",
       "207              0.111111                   0.0    1.055556  0.862963   \n",
       "208              0.000000                   0.0    0.500000  0.349603   \n",
       "\n",
       "     hedge.mean  hedge.sd  intensity.mean  rawred.mean  rawblue.mean  \\\n",
       "0      0.500000  0.077778        6.666666     8.333334      7.777778   \n",
       "1      0.833333  0.522222        6.111111     7.555555      7.222222   \n",
       "2      1.111111  0.474074        5.851852     7.777778      6.444445   \n",
       "3      0.888889  0.429629        6.037037     7.000000      7.666666   \n",
       "4      0.666667  0.311111        5.555555     6.888889      6.666666   \n",
       "..          ...       ...             ...          ...           ...   \n",
       "204    2.000000  0.711110       13.333333     9.888889     12.111111   \n",
       "205    1.166667  0.655555       13.703704    10.666667     12.666667   \n",
       "206    3.333333  7.599998       16.074074    13.111111     16.666668   \n",
       "207    2.444444  5.007407       14.148149    10.888889     13.000000   \n",
       "208    2.388889  2.080776       12.962963    11.555555      9.777778   \n",
       "\n",
       "     rawgreen.mean  exred.mean  exblue.mean  exgreen.mean  value.mean  \\\n",
       "0         3.888889    5.000000     3.333333     -8.333333    8.444445   \n",
       "1         3.555556    4.333334     3.333333     -7.666666    7.555555   \n",
       "2         3.333333    5.777778     1.777778     -7.555555    7.777778   \n",
       "3         3.444444    2.888889     4.888889     -7.777778    7.888889   \n",
       "4         3.111111    4.000000     3.333333     -7.333334    7.111111   \n",
       "..             ...         ...          ...           ...         ...   \n",
       "204      18.000000  -10.333333    -3.666667     14.000000   18.000000   \n",
       "205      17.777779   -9.111111    -3.111111     12.222222   17.777779   \n",
       "206      18.444445   -8.888889     1.777778      7.111111   18.555555   \n",
       "207      18.555555   -9.777778    -3.444444     13.222222   18.555555   \n",
       "208      17.555555   -4.222222    -9.555555     13.777778   17.555555   \n",
       "\n",
       "     saturation.mean  hue-mean  \n",
       "0           0.538580 -0.924817  \n",
       "1           0.532628 -0.965946  \n",
       "2           0.573633 -0.744272  \n",
       "3           0.562919 -1.175773  \n",
       "4           0.561508 -0.985811  \n",
       "..               ...       ...  \n",
       "204         0.452229  2.368311  \n",
       "205         0.401347  2.382684  \n",
       "206         0.292729  2.789800  \n",
       "207         0.421621  2.392487  \n",
       "208         0.445418  1.838850  \n",
       "\n",
       "[209 rows x 20 columns]"
      ]
     },
     "execution_count": 2,
     "metadata": {},
     "output_type": "execute_result"
    }
   ],
   "source": [
    "image=pd.read_csv('Image_Segmention.csv')\n",
    "image"
   ]
  },
  {
   "cell_type": "code",
   "execution_count": 3,
   "id": "b860034f",
   "metadata": {},
   "outputs": [],
   "source": [
    "le=LabelEncoder()"
   ]
  },
  {
   "cell_type": "code",
   "execution_count": 4,
   "id": "9eaf72ec",
   "metadata": {},
   "outputs": [],
   "source": [
    "image['Class']=le.fit_transform(image['Class'])"
   ]
  },
  {
   "cell_type": "code",
   "execution_count": 5,
   "id": "99dfb949",
   "metadata": {},
   "outputs": [],
   "source": [
    "X=image.drop('Class',axis=1)\n",
    "y=image['Class']"
   ]
  },
  {
   "cell_type": "code",
   "execution_count": 6,
   "id": "2a2bfef8",
   "metadata": {},
   "outputs": [],
   "source": [
    "rf=RandomForestClassifier(random_state=23)"
   ]
  },
  {
   "cell_type": "code",
   "execution_count": 7,
   "id": "27661969",
   "metadata": {},
   "outputs": [],
   "source": [
    "params={'max_features':[3,4,5,6]}"
   ]
  },
  {
   "cell_type": "code",
   "execution_count": 8,
   "id": "8a0e3a28",
   "metadata": {},
   "outputs": [],
   "source": [
    "kfold=StratifiedKFold(n_splits=5,shuffle=True,random_state=23)"
   ]
  },
  {
   "cell_type": "code",
   "execution_count": 9,
   "id": "3e2ae40e",
   "metadata": {},
   "outputs": [],
   "source": [
    "gcv_rf=GridSearchCV(rf,param_grid=params,cv=kfold,scoring='neg_log_loss')"
   ]
  },
  {
   "cell_type": "code",
   "execution_count": 10,
   "id": "a5582892",
   "metadata": {},
   "outputs": [
    {
     "data": {
      "text/html": [
       "<style>#sk-container-id-1 {color: black;}#sk-container-id-1 pre{padding: 0;}#sk-container-id-1 div.sk-toggleable {background-color: white;}#sk-container-id-1 label.sk-toggleable__label {cursor: pointer;display: block;width: 100%;margin-bottom: 0;padding: 0.3em;box-sizing: border-box;text-align: center;}#sk-container-id-1 label.sk-toggleable__label-arrow:before {content: \"▸\";float: left;margin-right: 0.25em;color: #696969;}#sk-container-id-1 label.sk-toggleable__label-arrow:hover:before {color: black;}#sk-container-id-1 div.sk-estimator:hover label.sk-toggleable__label-arrow:before {color: black;}#sk-container-id-1 div.sk-toggleable__content {max-height: 0;max-width: 0;overflow: hidden;text-align: left;background-color: #f0f8ff;}#sk-container-id-1 div.sk-toggleable__content pre {margin: 0.2em;color: black;border-radius: 0.25em;background-color: #f0f8ff;}#sk-container-id-1 input.sk-toggleable__control:checked~div.sk-toggleable__content {max-height: 200px;max-width: 100%;overflow: auto;}#sk-container-id-1 input.sk-toggleable__control:checked~label.sk-toggleable__label-arrow:before {content: \"▾\";}#sk-container-id-1 div.sk-estimator input.sk-toggleable__control:checked~label.sk-toggleable__label {background-color: #d4ebff;}#sk-container-id-1 div.sk-label input.sk-toggleable__control:checked~label.sk-toggleable__label {background-color: #d4ebff;}#sk-container-id-1 input.sk-hidden--visually {border: 0;clip: rect(1px 1px 1px 1px);clip: rect(1px, 1px, 1px, 1px);height: 1px;margin: -1px;overflow: hidden;padding: 0;position: absolute;width: 1px;}#sk-container-id-1 div.sk-estimator {font-family: monospace;background-color: #f0f8ff;border: 1px dotted black;border-radius: 0.25em;box-sizing: border-box;margin-bottom: 0.5em;}#sk-container-id-1 div.sk-estimator:hover {background-color: #d4ebff;}#sk-container-id-1 div.sk-parallel-item::after {content: \"\";width: 100%;border-bottom: 1px solid gray;flex-grow: 1;}#sk-container-id-1 div.sk-label:hover label.sk-toggleable__label {background-color: #d4ebff;}#sk-container-id-1 div.sk-serial::before {content: \"\";position: absolute;border-left: 1px solid gray;box-sizing: border-box;top: 0;bottom: 0;left: 50%;z-index: 0;}#sk-container-id-1 div.sk-serial {display: flex;flex-direction: column;align-items: center;background-color: white;padding-right: 0.2em;padding-left: 0.2em;position: relative;}#sk-container-id-1 div.sk-item {position: relative;z-index: 1;}#sk-container-id-1 div.sk-parallel {display: flex;align-items: stretch;justify-content: center;background-color: white;position: relative;}#sk-container-id-1 div.sk-item::before, #sk-container-id-1 div.sk-parallel-item::before {content: \"\";position: absolute;border-left: 1px solid gray;box-sizing: border-box;top: 0;bottom: 0;left: 50%;z-index: -1;}#sk-container-id-1 div.sk-parallel-item {display: flex;flex-direction: column;z-index: 1;position: relative;background-color: white;}#sk-container-id-1 div.sk-parallel-item:first-child::after {align-self: flex-end;width: 50%;}#sk-container-id-1 div.sk-parallel-item:last-child::after {align-self: flex-start;width: 50%;}#sk-container-id-1 div.sk-parallel-item:only-child::after {width: 0;}#sk-container-id-1 div.sk-dashed-wrapped {border: 1px dashed gray;margin: 0 0.4em 0.5em 0.4em;box-sizing: border-box;padding-bottom: 0.4em;background-color: white;}#sk-container-id-1 div.sk-label label {font-family: monospace;font-weight: bold;display: inline-block;line-height: 1.2em;}#sk-container-id-1 div.sk-label-container {text-align: center;}#sk-container-id-1 div.sk-container {/* jupyter's `normalize.less` sets `[hidden] { display: none; }` but bootstrap.min.css set `[hidden] { display: none !important; }` so we also need the `!important` here to be able to override the default hidden behavior on the sphinx rendered scikit-learn.org. See: https://github.com/scikit-learn/scikit-learn/issues/21755 */display: inline-block !important;position: relative;}#sk-container-id-1 div.sk-text-repr-fallback {display: none;}</style><div id=\"sk-container-id-1\" class=\"sk-top-container\"><div class=\"sk-text-repr-fallback\"><pre>GridSearchCV(cv=StratifiedKFold(n_splits=5, random_state=23, shuffle=True),\n",
       "             estimator=RandomForestClassifier(random_state=23),\n",
       "             param_grid={&#x27;max_features&#x27;: [3, 4, 5, 6]}, scoring=&#x27;neg_log_loss&#x27;)</pre><b>In a Jupyter environment, please rerun this cell to show the HTML representation or trust the notebook. <br />On GitHub, the HTML representation is unable to render, please try loading this page with nbviewer.org.</b></div><div class=\"sk-container\" hidden><div class=\"sk-item sk-dashed-wrapped\"><div class=\"sk-label-container\"><div class=\"sk-label sk-toggleable\"><input class=\"sk-toggleable__control sk-hidden--visually\" id=\"sk-estimator-id-1\" type=\"checkbox\" ><label for=\"sk-estimator-id-1\" class=\"sk-toggleable__label sk-toggleable__label-arrow\">GridSearchCV</label><div class=\"sk-toggleable__content\"><pre>GridSearchCV(cv=StratifiedKFold(n_splits=5, random_state=23, shuffle=True),\n",
       "             estimator=RandomForestClassifier(random_state=23),\n",
       "             param_grid={&#x27;max_features&#x27;: [3, 4, 5, 6]}, scoring=&#x27;neg_log_loss&#x27;)</pre></div></div></div><div class=\"sk-parallel\"><div class=\"sk-parallel-item\"><div class=\"sk-item\"><div class=\"sk-label-container\"><div class=\"sk-label sk-toggleable\"><input class=\"sk-toggleable__control sk-hidden--visually\" id=\"sk-estimator-id-2\" type=\"checkbox\" ><label for=\"sk-estimator-id-2\" class=\"sk-toggleable__label sk-toggleable__label-arrow\">estimator: RandomForestClassifier</label><div class=\"sk-toggleable__content\"><pre>RandomForestClassifier(random_state=23)</pre></div></div></div><div class=\"sk-serial\"><div class=\"sk-item\"><div class=\"sk-estimator sk-toggleable\"><input class=\"sk-toggleable__control sk-hidden--visually\" id=\"sk-estimator-id-3\" type=\"checkbox\" ><label for=\"sk-estimator-id-3\" class=\"sk-toggleable__label sk-toggleable__label-arrow\">RandomForestClassifier</label><div class=\"sk-toggleable__content\"><pre>RandomForestClassifier(random_state=23)</pre></div></div></div></div></div></div></div></div></div></div>"
      ],
      "text/plain": [
       "GridSearchCV(cv=StratifiedKFold(n_splits=5, random_state=23, shuffle=True),\n",
       "             estimator=RandomForestClassifier(random_state=23),\n",
       "             param_grid={'max_features': [3, 4, 5, 6]}, scoring='neg_log_loss')"
      ]
     },
     "execution_count": 10,
     "metadata": {},
     "output_type": "execute_result"
    }
   ],
   "source": [
    "gcv_rf.fit(X,y)"
   ]
  },
  {
   "cell_type": "code",
   "execution_count": 11,
   "id": "c534768f",
   "metadata": {},
   "outputs": [
    {
     "data": {
      "text/plain": [
       "{'max_features': 5}"
      ]
     },
     "execution_count": 11,
     "metadata": {},
     "output_type": "execute_result"
    }
   ],
   "source": [
    "gcv_rf.best_params_"
   ]
  },
  {
   "cell_type": "code",
   "execution_count": 12,
   "id": "4b2126c4",
   "metadata": {},
   "outputs": [
    {
     "data": {
      "text/plain": [
       "-0.2727397337808405"
      ]
     },
     "execution_count": 12,
     "metadata": {},
     "output_type": "execute_result"
    }
   ],
   "source": [
    "gcv_rf.best_score_"
   ]
  },
  {
   "cell_type": "code",
   "execution_count": 13,
   "id": "cd11c892",
   "metadata": {},
   "outputs": [],
   "source": [
    "bm_rf=gcv_rf.best_estimator_"
   ]
  },
  {
   "cell_type": "code",
   "execution_count": 14,
   "id": "17926a74",
   "metadata": {},
   "outputs": [],
   "source": [
    "df_imp=pd.DataFrame({'variable':bm_rf.feature_names_in_,'importance':bm_rf.feature_importances_})"
   ]
  },
  {
   "cell_type": "code",
   "execution_count": 15,
   "id": "19e50de0",
   "metadata": {},
   "outputs": [],
   "source": [
    "df_imp=df_imp[df_imp['importance']>0.0001]\n",
    "df_imp=df_imp.sort_values(by='importance')"
   ]
  },
  {
   "cell_type": "code",
   "execution_count": 16,
   "id": "f75f92cd",
   "metadata": {},
   "outputs": [
    {
     "data": {
      "image/png": "[encoded data removed]",
      "text/plain": [
       "<Figure size 640x480 with 1 Axes>"
      ]
     },
     "metadata": {},
     "output_type": "display_data"
    }
   ],
   "source": [
    "plt.barh(df_imp.variable,df_imp.importance)\n",
    "plt.show()"
   ]
  },
  {
   "cell_type": "markdown",
   "id": "1edd90d6",
   "metadata": {},
   "source": [
    "# decision tree"
   ]
  },
  {
   "cell_type": "code",
   "execution_count": 18,
   "id": "fba88912",
   "metadata": {},
   "outputs": [],
   "source": [
    "from sklearn.tree import DecisionTreeClassifier,plot_tree\n",
    "dtc=DecisionTreeClassifier(random_state=23)"
   ]
  },
  {
   "cell_type": "code",
   "execution_count": 19,
   "id": "4e2030a5",
   "metadata": {},
   "outputs": [],
   "source": [
    "params={'max_depth':[2,3,4,5,6,None],'min_samples_leaf':[1,3,5,7,10,15],'min_samples_split': [2,5,10]}"
   ]
  },
  {
   "cell_type": "code",
   "execution_count": 20,
   "id": "17f55738",
   "metadata": {},
   "outputs": [],
   "source": [
    "gcv=GridSearchCV(dtc,param_grid=params,cv=kfold,scoring='neg_log_loss')"
   ]
  },
  {
   "cell_type": "code",
   "execution_count": 21,
   "id": "590467a2",
   "metadata": {},
   "outputs": [
    {
     "data": {
      "text/html": [
       "<style>#sk-container-id-2 {color: black;}#sk-container-id-2 pre{padding: 0;}#sk-container-id-2 div.sk-toggleable {background-color: white;}#sk-container-id-2 label.sk-toggleable__label {cursor: pointer;display: block;width: 100%;margin-bottom: 0;padding: 0.3em;box-sizing: border-box;text-align: center;}#sk-container-id-2 label.sk-toggleable__label-arrow:before {content: \"▸\";float: left;margin-right: 0.25em;color: #696969;}#sk-container-id-2 label.sk-toggleable__label-arrow:hover:before {color: black;}#sk-container-id-2 div.sk-estimator:hover label.sk-toggleable__label-arrow:before {color: black;}#sk-container-id-2 div.sk-toggleable__content {max-height: 0;max-width: 0;overflow: hidden;text-align: left;background-color: #f0f8ff;}#sk-container-id-2 div.sk-toggleable__content pre {margin: 0.2em;color: black;border-radius: 0.25em;background-color: #f0f8ff;}#sk-container-id-2 input.sk-toggleable__control:checked~div.sk-toggleable__content {max-height: 200px;max-width: 100%;overflow: auto;}#sk-container-id-2 input.sk-toggleable__control:checked~label.sk-toggleable__label-arrow:before {content: \"▾\";}#sk-container-id-2 div.sk-estimator input.sk-toggleable__control:checked~label.sk-toggleable__label {background-color: #d4ebff;}#sk-container-id-2 div.sk-label input.sk-toggleable__control:checked~label.sk-toggleable__label {background-color: #d4ebff;}#sk-container-id-2 input.sk-hidden--visually {border: 0;clip: rect(1px 1px 1px 1px);clip: rect(1px, 1px, 1px, 1px);height: 1px;margin: -1px;overflow: hidden;padding: 0;position: absolute;width: 1px;}#sk-container-id-2 div.sk-estimator {font-family: monospace;background-color: #f0f8ff;border: 1px dotted black;border-radius: 0.25em;box-sizing: border-box;margin-bottom: 0.5em;}#sk-container-id-2 div.sk-estimator:hover {background-color: #d4ebff;}#sk-container-id-2 div.sk-parallel-item::after {content: \"\";width: 100%;border-bottom: 1px solid gray;flex-grow: 1;}#sk-container-id-2 div.sk-label:hover label.sk-toggleable__label {background-color: #d4ebff;}#sk-container-id-2 div.sk-serial::before {content: \"\";position: absolute;border-left: 1px solid gray;box-sizing: border-box;top: 0;bottom: 0;left: 50%;z-index: 0;}#sk-container-id-2 div.sk-serial {display: flex;flex-direction: column;align-items: center;background-color: white;padding-right: 0.2em;padding-left: 0.2em;position: relative;}#sk-container-id-2 div.sk-item {position: relative;z-index: 1;}#sk-container-id-2 div.sk-parallel {display: flex;align-items: stretch;justify-content: center;background-color: white;position: relative;}#sk-container-id-2 div.sk-item::before, #sk-container-id-2 div.sk-parallel-item::before {content: \"\";position: absolute;border-left: 1px solid gray;box-sizing: border-box;top: 0;bottom: 0;left: 50%;z-index: -1;}#sk-container-id-2 div.sk-parallel-item {display: flex;flex-direction: column;z-index: 1;position: relative;background-color: white;}#sk-container-id-2 div.sk-parallel-item:first-child::after {align-self: flex-end;width: 50%;}#sk-container-id-2 div.sk-parallel-item:last-child::after {align-self: flex-start;width: 50%;}#sk-container-id-2 div.sk-parallel-item:only-child::after {width: 0;}#sk-container-id-2 div.sk-dashed-wrapped {border: 1px dashed gray;margin: 0 0.4em 0.5em 0.4em;box-sizing: border-box;padding-bottom: 0.4em;background-color: white;}#sk-container-id-2 div.sk-label label {font-family: monospace;font-weight: bold;display: inline-block;line-height: 1.2em;}#sk-container-id-2 div.sk-label-container {text-align: center;}#sk-container-id-2 div.sk-container {/* jupyter's `normalize.less` sets `[hidden] { display: none; }` but bootstrap.min.css set `[hidden] { display: none !important; }` so we also need the `!important` here to be able to override the default hidden behavior on the sphinx rendered scikit-learn.org. See: https://github.com/scikit-learn/scikit-learn/issues/21755 */display: inline-block !important;position: relative;}#sk-container-id-2 div.sk-text-repr-fallback {display: none;}</style><div id=\"sk-container-id-2\" class=\"sk-top-container\"><div class=\"sk-text-repr-fallback\"><pre>GridSearchCV(cv=StratifiedKFold(n_splits=5, random_state=23, shuffle=True),\n",
       "             estimator=DecisionTreeClassifier(random_state=23),\n",
       "             param_grid={&#x27;max_depth&#x27;: [2, 3, 4, 5, 6, None],\n",
       "                         &#x27;min_samples_leaf&#x27;: [1, 3, 5, 7, 10, 15],\n",
       "                         &#x27;min_samples_split&#x27;: [2, 5, 10]},\n",
       "             scoring=&#x27;neg_log_loss&#x27;)</pre><b>In a Jupyter environment, please rerun this cell to show the HTML representation or trust the notebook. <br />On GitHub, the HTML representation is unable to render, please try loading this page with nbviewer.org.</b></div><div class=\"sk-container\" hidden><div class=\"sk-item sk-dashed-wrapped\"><div class=\"sk-label-container\"><div class=\"sk-label sk-toggleable\"><input class=\"sk-toggleable__control sk-hidden--visually\" id=\"sk-estimator-id-4\" type=\"checkbox\" ><label for=\"sk-estimator-id-4\" class=\"sk-toggleable__label sk-toggleable__label-arrow\">GridSearchCV</label><div class=\"sk-toggleable__content\"><pre>GridSearchCV(cv=StratifiedKFold(n_splits=5, random_state=23, shuffle=True),\n",
       "             estimator=DecisionTreeClassifier(random_state=23),\n",
       "             param_grid={&#x27;max_depth&#x27;: [2, 3, 4, 5, 6, None],\n",
       "                         &#x27;min_samples_leaf&#x27;: [1, 3, 5, 7, 10, 15],\n",
       "                         &#x27;min_samples_split&#x27;: [2, 5, 10]},\n",
       "             scoring=&#x27;neg_log_loss&#x27;)</pre></div></div></div><div class=\"sk-parallel\"><div class=\"sk-parallel-item\"><div class=\"sk-item\"><div class=\"sk-label-container\"><div class=\"sk-label sk-toggleable\"><input class=\"sk-toggleable__control sk-hidden--visually\" id=\"sk-estimator-id-5\" type=\"checkbox\" ><label for=\"sk-estimator-id-5\" class=\"sk-toggleable__label sk-toggleable__label-arrow\">estimator: DecisionTreeClassifier</label><div class=\"sk-toggleable__content\"><pre>DecisionTreeClassifier(random_state=23)</pre></div></div></div><div class=\"sk-serial\"><div class=\"sk-item\"><div class=\"sk-estimator sk-toggleable\"><input class=\"sk-toggleable__control sk-hidden--visually\" id=\"sk-estimator-id-6\" type=\"checkbox\" ><label for=\"sk-estimator-id-6\" class=\"sk-toggleable__label sk-toggleable__label-arrow\">DecisionTreeClassifier</label><div class=\"sk-toggleable__content\"><pre>DecisionTreeClassifier(random_state=23)</pre></div></div></div></div></div></div></div></div></div></div>"
      ],
      "text/plain": [
       "GridSearchCV(cv=StratifiedKFold(n_splits=5, random_state=23, shuffle=True),\n",
       "             estimator=DecisionTreeClassifier(random_state=23),\n",
       "             param_grid={'max_depth': [2, 3, 4, 5, 6, None],\n",
       "                         'min_samples_leaf': [1, 3, 5, 7, 10, 15],\n",
       "                         'min_samples_split': [2, 5, 10]},\n",
       "             scoring='neg_log_loss')"
      ]
     },
     "execution_count": 21,
     "metadata": {},
     "output_type": "execute_result"
    }
   ],
   "source": [
    "gcv.fit(X,y)"
   ]
  },
  {
   "cell_type": "code",
   "execution_count": 22,
   "id": "eba2e663",
   "metadata": {},
   "outputs": [
    {
     "data": {
      "text/plain": [
       "{'max_depth': 4, 'min_samples_leaf': 1, 'min_samples_split': 2}"
      ]
     },
     "execution_count": 22,
     "metadata": {},
     "output_type": "execute_result"
    }
   ],
   "source": [
    "gcv.best_params_"
   ]
  },
  {
   "cell_type": "code",
   "execution_count": 23,
   "id": "e2329da9",
   "metadata": {},
   "outputs": [
    {
     "data": {
      "text/plain": [
       "-1.1482365563250572"
      ]
     },
     "execution_count": 23,
     "metadata": {},
     "output_type": "execute_result"
    }
   ],
   "source": [
    "gcv.best_score_"
   ]
  },
  {
   "cell_type": "code",
   "execution_count": 24,
   "id": "325eab51",
   "metadata": {},
   "outputs": [],
   "source": [
    "best_model=gcv.best_estimator_"
   ]
  },
  {
   "cell_type": "code",
   "execution_count": 25,
   "id": "a9a93f11",
   "metadata": {},
   "outputs": [
    {
     "data": {
      "text/html": [
       "<div>\n",
       "<style scoped>\n",
       "    .dataframe tbody tr th:only-of-type {\n",
       "        vertical-align: middle;\n",
       "    }\n",
       "\n",
       "    .dataframe tbody tr th {\n",
       "        vertical-align: top;\n",
       "    }\n",
       "\n",
       "    .dataframe thead th {\n",
       "        text-align: right;\n",
       "    }\n",
       "</style>\n",
       "<table border=\"1\" class=\"dataframe\">\n",
       "  <thead>\n",
       "    <tr style=\"text-align: right;\">\n",
       "      <th></th>\n",
       "      <th>variable</th>\n",
       "      <th>importance</th>\n",
       "    </tr>\n",
       "  </thead>\n",
       "  <tbody>\n",
       "    <tr>\n",
       "      <th>0</th>\n",
       "      <td>region.centroid.col</td>\n",
       "      <td>0.000000</td>\n",
       "    </tr>\n",
       "    <tr>\n",
       "      <th>1</th>\n",
       "      <td>region.centroid.row</td>\n",
       "      <td>0.271938</td>\n",
       "    </tr>\n",
       "    <tr>\n",
       "      <th>2</th>\n",
       "      <td>region.pixel.count</td>\n",
       "      <td>0.000000</td>\n",
       "    </tr>\n",
       "    <tr>\n",
       "      <th>3</th>\n",
       "      <td>short.line.density.5</td>\n",
       "      <td>0.000000</td>\n",
       "    </tr>\n",
       "    <tr>\n",
       "      <th>4</th>\n",
       "      <td>short.line.density.2</td>\n",
       "      <td>0.000000</td>\n",
       "    </tr>\n",
       "    <tr>\n",
       "      <th>5</th>\n",
       "      <td>vedge.mean</td>\n",
       "      <td>0.000000</td>\n",
       "    </tr>\n",
       "    <tr>\n",
       "      <th>6</th>\n",
       "      <td>vegde.sd</td>\n",
       "      <td>0.000000</td>\n",
       "    </tr>\n",
       "    <tr>\n",
       "      <th>7</th>\n",
       "      <td>hedge.mean</td>\n",
       "      <td>0.000000</td>\n",
       "    </tr>\n",
       "    <tr>\n",
       "      <th>8</th>\n",
       "      <td>hedge.sd</td>\n",
       "      <td>0.000000</td>\n",
       "    </tr>\n",
       "    <tr>\n",
       "      <th>9</th>\n",
       "      <td>intensity.mean</td>\n",
       "      <td>0.000000</td>\n",
       "    </tr>\n",
       "    <tr>\n",
       "      <th>10</th>\n",
       "      <td>rawred.mean</td>\n",
       "      <td>0.000000</td>\n",
       "    </tr>\n",
       "    <tr>\n",
       "      <th>11</th>\n",
       "      <td>rawblue.mean</td>\n",
       "      <td>0.271789</td>\n",
       "    </tr>\n",
       "    <tr>\n",
       "      <th>12</th>\n",
       "      <td>rawgreen.mean</td>\n",
       "      <td>0.000000</td>\n",
       "    </tr>\n",
       "    <tr>\n",
       "      <th>13</th>\n",
       "      <td>exred.mean</td>\n",
       "      <td>0.000000</td>\n",
       "    </tr>\n",
       "    <tr>\n",
       "      <th>14</th>\n",
       "      <td>exblue.mean</td>\n",
       "      <td>0.000000</td>\n",
       "    </tr>\n",
       "    <tr>\n",
       "      <th>15</th>\n",
       "      <td>exgreen.mean</td>\n",
       "      <td>0.272023</td>\n",
       "    </tr>\n",
       "    <tr>\n",
       "      <th>16</th>\n",
       "      <td>value.mean</td>\n",
       "      <td>0.184249</td>\n",
       "    </tr>\n",
       "    <tr>\n",
       "      <th>17</th>\n",
       "      <td>saturation.mean</td>\n",
       "      <td>0.000000</td>\n",
       "    </tr>\n",
       "    <tr>\n",
       "      <th>18</th>\n",
       "      <td>hue-mean</td>\n",
       "      <td>0.000000</td>\n",
       "    </tr>\n",
       "  </tbody>\n",
       "</table>\n",
       "</div>"
      ],
      "text/plain": [
       "                variable  importance\n",
       "0    region.centroid.col    0.000000\n",
       "1    region.centroid.row    0.271938\n",
       "2     region.pixel.count    0.000000\n",
       "3   short.line.density.5    0.000000\n",
       "4   short.line.density.2    0.000000\n",
       "5             vedge.mean    0.000000\n",
       "6               vegde.sd    0.000000\n",
       "7             hedge.mean    0.000000\n",
       "8               hedge.sd    0.000000\n",
       "9         intensity.mean    0.000000\n",
       "10           rawred.mean    0.000000\n",
       "11          rawblue.mean    0.271789\n",
       "12         rawgreen.mean    0.000000\n",
       "13            exred.mean    0.000000\n",
       "14           exblue.mean    0.000000\n",
       "15          exgreen.mean    0.272023\n",
       "16            value.mean    0.184249\n",
       "17       saturation.mean    0.000000\n",
       "18              hue-mean    0.000000"
      ]
     },
     "execution_count": 25,
     "metadata": {},
     "output_type": "execute_result"
    }
   ],
   "source": [
    "df_imp=pd.DataFrame({'variable':best_model.feature_names_in_ ,'importance':best_model.feature_importances_})\n",
    "df_imp"
   ]
  },
  {
   "cell_type": "code",
   "execution_count": 26,
   "id": "3a4e5e02",
   "metadata": {},
   "outputs": [
    {
     "data": {
      "text/html": [
       "<div>\n",
       "<style scoped>\n",
       "    .dataframe tbody tr th:only-of-type {\n",
       "        vertical-align: middle;\n",
       "    }\n",
       "\n",
       "    .dataframe tbody tr th {\n",
       "        vertical-align: top;\n",
       "    }\n",
       "\n",
       "    .dataframe thead th {\n",
       "        text-align: right;\n",
       "    }\n",
       "</style>\n",
       "<table border=\"1\" class=\"dataframe\">\n",
       "  <thead>\n",
       "    <tr style=\"text-align: right;\">\n",
       "      <th></th>\n",
       "      <th>variable</th>\n",
       "      <th>importance</th>\n",
       "    </tr>\n",
       "  </thead>\n",
       "  <tbody>\n",
       "    <tr>\n",
       "      <th>16</th>\n",
       "      <td>value.mean</td>\n",
       "      <td>0.184249</td>\n",
       "    </tr>\n",
       "    <tr>\n",
       "      <th>11</th>\n",
       "      <td>rawblue.mean</td>\n",
       "      <td>0.271789</td>\n",
       "    </tr>\n",
       "    <tr>\n",
       "      <th>1</th>\n",
       "      <td>region.centroid.row</td>\n",
       "      <td>0.271938</td>\n",
       "    </tr>\n",
       "    <tr>\n",
       "      <th>15</th>\n",
       "      <td>exgreen.mean</td>\n",
       "      <td>0.272023</td>\n",
       "    </tr>\n",
       "  </tbody>\n",
       "</table>\n",
       "</div>"
      ],
      "text/plain": [
       "               variable  importance\n",
       "16           value.mean    0.184249\n",
       "11         rawblue.mean    0.271789\n",
       "1   region.centroid.row    0.271938\n",
       "15         exgreen.mean    0.272023"
      ]
     },
     "execution_count": 26,
     "metadata": {},
     "output_type": "execute_result"
    }
   ],
   "source": [
    "df_imp=df_imp[df_imp['importance']>0.0001]\n",
    "df_imp=df_imp.sort_values(by=\"importance\")\n",
    "df_imp"
   ]
  },
  {
   "cell_type": "code",
   "execution_count": 27,
   "id": "00e55d0d",
   "metadata": {},
   "outputs": [
    {
     "data": {
      "text/html": [
       "<div>\n",
       "<style scoped>\n",
       "    .dataframe tbody tr th:only-of-type {\n",
       "        vertical-align: middle;\n",
       "    }\n",
       "\n",
       "    .dataframe tbody tr th {\n",
       "        vertical-align: top;\n",
       "    }\n",
       "\n",
       "    .dataframe thead th {\n",
       "        text-align: right;\n",
       "    }\n",
       "</style>\n",
       "<table border=\"1\" class=\"dataframe\">\n",
       "  <thead>\n",
       "    <tr style=\"text-align: right;\">\n",
       "      <th></th>\n",
       "      <th>variable</th>\n",
       "      <th>importance</th>\n",
       "    </tr>\n",
       "  </thead>\n",
       "  <tbody>\n",
       "    <tr>\n",
       "      <th>16</th>\n",
       "      <td>value.mean</td>\n",
       "      <td>0.184249</td>\n",
       "    </tr>\n",
       "    <tr>\n",
       "      <th>11</th>\n",
       "      <td>rawblue.mean</td>\n",
       "      <td>0.271789</td>\n",
       "    </tr>\n",
       "    <tr>\n",
       "      <th>1</th>\n",
       "      <td>region.centroid.row</td>\n",
       "      <td>0.271938</td>\n",
       "    </tr>\n",
       "    <tr>\n",
       "      <th>15</th>\n",
       "      <td>exgreen.mean</td>\n",
       "      <td>0.272023</td>\n",
       "    </tr>\n",
       "  </tbody>\n",
       "</table>\n",
       "</div>"
      ],
      "text/plain": [
       "               variable  importance\n",
       "16           value.mean    0.184249\n",
       "11         rawblue.mean    0.271789\n",
       "1   region.centroid.row    0.271938\n",
       "15         exgreen.mean    0.272023"
      ]
     },
     "execution_count": 27,
     "metadata": {},
     "output_type": "execute_result"
    }
   ],
   "source": [
    "df_imp=df_imp[df_imp['importance']>0.0001]\n",
    "df_imp=df_imp.sort_values(by=\"importance\")\n",
    "df_imp"
   ]
  },
  {
   "cell_type": "code",
   "execution_count": 28,
   "id": "df2ff41b",
   "metadata": {},
   "outputs": [
    {
     "data": {
      "image/png": "[encoded data removed]",
      "text/plain": [
       "<Figure size 640x480 with 1 Axes>"
      ]
     },
     "metadata": {},
     "output_type": "display_data"
    }
   ],
   "source": [
    "plt.barh(df_imp['variable'],df_imp['importance'])\n",
    "plt.xlabel(\"importance\")\n",
    "plt.ylabel('Features')\n",
    "plt.show()"
   ]
  }
 ],
 "metadata": {
  "kernelspec": {
   "display_name": "Python 3 (ipykernel)",
   "language": "python",
   "name": "python3"
  },
  "language_info": {
   "codemirror_mode": {
    "name": "ipython",
    "version": 3
   },
   "file_extension": ".py",
   "mimetype": "text/x-python",
   "name": "python",
   "nbconvert_exporter": "python",
   "pygments_lexer": "ipython3",
   "version": "3.11.5"
  }
 },
 "nbformat": 4,
 "nbformat_minor": 5
}
